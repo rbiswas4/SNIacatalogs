{
 "metadata": {
  "name": "",
  "signature": "sha256:6c394f720219f661796afbb302f28435daa4118325c997c4f5273a24d9710229"
 },
 "nbformat": 3,
 "nbformat_minor": 0,
 "worksheets": [
  {
   "cells": [
    {
     "cell_type": "heading",
     "level": 1,
     "metadata": {},
     "source": [
      "Comparison of Magnitudes calculated using catsim photUtils and SNCosmo"
     ]
    },
    {
     "cell_type": "code",
     "collapsed": false,
     "input": [
      "import sncosmo\n",
      "import numpy as np\n",
      "%matplotlib inline\n",
      "import matplotlib.pyplot as plt\n",
      "from lsst.sims.photUtils.Photometry import PhotometryStars, Sed, Bandpass\n",
      "from astropy.units import Unit\n",
      "import os"
     ],
     "language": "python",
     "metadata": {},
     "outputs": [],
     "prompt_number": 1
    },
    {
     "cell_type": "heading",
     "level": 2,
     "metadata": {},
     "source": [
      "Setup Bandpasses for SNCosmo and LSST catsim"
     ]
    },
    {
     "cell_type": "code",
     "collapsed": false,
     "input": [
      "bandPassList = ['u', 'g', 'r', 'i', 'z', 'y']\n",
      "banddir = os.path.join(os.getenv('THROUGHPUTS_DIR'), 'baseline')\n",
      "lsstbands = []\n",
      "lsstbp = {}\n",
      "wavelenstep = 0.1\n",
      "\n",
      "for band in bandPassList:\n",
      "    # setup sncosmo bandpasses\n",
      "    bandfname = banddir + \"/total_\" + band  + '.dat'\n",
      "    # Usually the next two lines can be merged, but there is an astropy bug currently.\n",
      "    numpyband = np.loadtxt(bandfname)\n",
      "    sncosmoband = sncosmo.Bandpass(wave=numpyband[:,0], trans=numpyband[:,1], wave_unit=Unit('nm'), \n",
      "                                   name='LSST'+band)\n",
      "    sncosmo.registry.register(sncosmoband, force=True)\n",
      "    \n",
      "    # Now load LSST bandpasses for catsim\n",
      "    lsstbp[band] = Bandpass()\n",
      "    lsstbp[band].readThroughput(bandfname, wavelen_step=wavelenstep)\n",
      "    lsstbands.append(lsstbp[band])"
     ],
     "language": "python",
     "metadata": {},
     "outputs": [],
     "prompt_number": 2
    },
    {
     "cell_type": "heading",
     "level": 2,
     "metadata": {},
     "source": [
      "Plot the Transmission Functions"
     ]
    },
    {
     "cell_type": "code",
     "collapsed": false,
     "input": [
      "filterfigs, filterax = plt.subplots()\n",
      "for band in bandPassList:\n",
      "    b = sncosmo.get_bandpass('LSST' + band)\n",
      "    filterax.plot (b.wave, b.trans, '-k', lw=2.0)\n",
      "filterax.set_xlabel(r'$\\lambda$, ($\\AA$)')\n",
      "filterax.set_ylabel(r'transmission')"
     ],
     "language": "python",
     "metadata": {},
     "outputs": [
      {
       "metadata": {},
       "output_type": "pyout",
       "prompt_number": 3,
       "text": [
        "<matplotlib.text.Text at 0x10e7ee1d0>"
       ]
      },
      {
       "metadata": {},
       "output_type": "display_data",
       "png": "[encoded data removed]",
       "text": [
        "<matplotlib.figure.Figure at 0x10dcb8210>"
       ]
      }
     ],
     "prompt_number": 3
    },
    {
     "cell_type": "heading",
     "level": 3,
     "metadata": {},
     "source": [
      "SALT2-Extended Model at z = 1.0 , with absolute magnitude in Bessell b band of -19.3"
     ]
    },
    {
     "cell_type": "markdown",
     "metadata": {},
     "source": [
      "We use the SALT2-extended model for now, since it has larger wavelength range than the SALT2 model. The model probably comes with less waarranty than SALT2, but ..."
     ]
    },
    {
     "cell_type": "code",
     "collapsed": false,
     "input": [
      "model = sncosmo.Model(source='Salt2-extended')\n",
      "model.set(z=1.0, c=0., x1=0.)\n",
      "model.set_source_peakabsmag(absmag=-19.3, band='bessellb', magsys='ab')\n",
      "print model.get('x0')"
     ],
     "language": "python",
     "metadata": {},
     "outputs": [
      {
       "output_type": "stream",
       "stream": "stdout",
       "text": [
        "1.8469279662e-06\n"
       ]
      }
     ],
     "prompt_number": 4
    },
    {
     "cell_type": "markdown",
     "metadata": {},
     "source": [
      "We can see the parameters of the model"
     ]
    },
    {
     "cell_type": "code",
     "collapsed": false,
     "input": [
      "print model"
     ],
     "language": "python",
     "metadata": {},
     "outputs": [
      {
       "output_type": "stream",
       "stream": "stdout",
       "text": [
        "<Model at 0x10dde8cd0>\n",
        "source:\n",
        "  class      : SALT2Source\n",
        "  name       : 'salt2-extended'\n",
        "  version    : 1.0\n",
        "  phases     : [-20, .., 50] days\n",
        "  wavelengths: [300, .., 18000] Angstroms\n",
        "parameters:\n",
        "  z  = 1.0\n",
        "  t0 = 0.0\n",
        "  x0 = 1.8469279661995543e-06\n",
        "  x1 = 0.0\n",
        "  c  = 0.0\n"
       ]
      }
     ],
     "prompt_number": 5
    },
    {
     "cell_type": "markdown",
     "metadata": {},
     "source": [
      "Or visualize the flux at peak"
     ]
    },
    {
     "cell_type": "code",
     "collapsed": false,
     "input": [
      "plt.plot(sncosmo.get_bandpass('LSSTu').wave*2., \n",
      "         model.source.flux(phase=0., wave=sncosmo.get_bandpass('LSSTu').wave)/2.0)\n",
      "plt.plot(sncosmo.get_bandpass('LSSTu').wave, \n",
      "         model.flux(time=0., wave=sncosmo.get_bandpass('LSSTu').wave))"
     ],
     "language": "python",
     "metadata": {},
     "outputs": [
      {
       "metadata": {},
       "output_type": "pyout",
       "prompt_number": 6,
       "text": [
        "[<matplotlib.lines.Line2D at 0x10f8b7c10>]"
       ]
      },
      {
       "metadata": {},
       "output_type": "display_data",
       "png": "[encoded data removed]",
       "text": [
        "<matplotlib.figure.Figure at 0x10f8b7a90>"
       ]
      }
     ],
     "prompt_number": 6
    },
    {
     "cell_type": "markdown",
     "metadata": {},
     "source": [
      "To calculate magnitudes in different bands with the CatSim framework, we have to setup the filters \n",
      "using "
     ]
    },
    {
     "cell_type": "code",
     "collapsed": false,
     "input": [
      "\n",
      "#filterwav = sncosmo.get_bandpass('LSSTu').wave/10.\n",
      "filterwav = lsstbands[0].wavelen\n",
      "SEDfromSNcosmo = Sed(wavelen=filterwav, flambda=model.flux(time=0., wave=filterwav*10.)*10.)\n",
      "phiarray, dlambda = SEDfromSNcosmo.setupPhiArray(lsstbands)\n",
      "SEDfromSNcosmo.synchronizeSED(wavelen_min=filterwav[0],\n",
      "                          wavelen_max=filterwav[-2],\n",
      "                          wavelen_step=wavelenstep)\n"
     ],
     "language": "python",
     "metadata": {},
     "outputs": [
      {
       "output_type": "stream",
       "stream": "stderr",
       "text": [
        "/Users/rbiswas/soft/LSST/installation/root/DarwinX86/sims_photUtils/master-g9e683f77a4+4/python/lsst/sims/photUtils/Sed.py:127: FutureWarning: comparison to `None` will result in an elementwise object comparison in the future.\n",
        "  if (wavelen!= None) & ((flambda!=None) | (fnu!=None)):\n",
        "/Users/rbiswas/soft/LSST/installation/root/DarwinX86/sims_photUtils/master-g9e683f77a4+4/python/lsst/sims/photUtils/Sed.py:148: FutureWarning: comparison to `None` will result in an elementwise object comparison in the future.\n",
        "  if flambda!=None:\n"
       ]
      }
     ],
     "prompt_number": 7
    },
    {
     "cell_type": "markdown",
     "metadata": {},
     "source": [
      "Now, we can calculate the magnitudes using catsim:"
     ]
    },
    {
     "cell_type": "code",
     "collapsed": false,
     "input": [
      "SEDfromSNcosmo.manyMagCalc(phiarray, wavelen_step=0.1)"
     ],
     "language": "python",
     "metadata": {},
     "outputs": [
      {
       "metadata": {},
       "output_type": "pyout",
       "prompt_number": 8,
       "text": [
        "array([ 29.70542527,  28.4148581 ,  25.61070586,  24.3480466 ,\n",
        "        24.06617651,  24.2153793 ])"
       ]
      }
     ],
     "prompt_number": 8
    },
    {
     "cell_type": "markdown",
     "metadata": {},
     "source": [
      "We already had everything in SNCosmo once we set parameters to the model. So here are the magnitudes. They match :)"
     ]
    },
    {
     "cell_type": "code",
     "collapsed": false,
     "input": [
      "print model.bandmag(band=['LSSTu', 'LSSTg', 'LSSTr', 'LSSTi', 'LSSTz'], time=[0.,0.,0.,0.,0.], magsys='ab')"
     ],
     "language": "python",
     "metadata": {},
     "outputs": [
      {
       "output_type": "stream",
       "stream": "stdout",
       "text": [
        "[ 29.70542535  28.41485815  25.61070588  24.34804662  24.06617652]\n"
       ]
      }
     ],
     "prompt_number": 9
    }
   ],
   "metadata": {}
  }
 ]
}