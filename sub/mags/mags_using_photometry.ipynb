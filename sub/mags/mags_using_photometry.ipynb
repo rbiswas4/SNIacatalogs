{
 "metadata": {
  "name": "",
  "signature": "sha256:3c6004ecd158ede9c169b099a9068068178328794eb5a74ee3d01c223ce9d9b4"
 },
 "nbformat": 3,
 "nbformat_minor": 0,
 "worksheets": [
  {
   "cells": [
    {
     "cell_type": "heading",
     "level": 1,
     "metadata": {},
     "source": [
      "Comparison of Magnitudes calculated using catsim photUtils and SNCosmo"
     ]
    },
    {
     "cell_type": "code",
     "collapsed": false,
     "input": [
      "# remember to setup LSST before this\n",
      "# source ${HOME}/src/LSST/setup_lsst.sh on time\n",
      "# source projectdir/src/setup.sh\n",
      "# Things that should work: able to import lsst sims, able to echo $THROUGHPUTS_DIR\n",
      "import sncosmo\n",
      "import numpy as np\n",
      "%matplotlib inline\n",
      "import matplotlib.pyplot as plt\n",
      "from lsst.sims.photUtils.Photometry import PhotometryStars, Sed, Bandpass\n",
      "from astropy.units import Unit\n",
      "import os\n",
      "import timeit"
     ],
     "language": "python",
     "metadata": {},
     "outputs": [],
     "prompt_number": 1
    },
    {
     "cell_type": "heading",
     "level": 2,
     "metadata": {},
     "source": [
      "Setup Bandpasses for SNCosmo and LSST catsim"
     ]
    },
    {
     "cell_type": "code",
     "collapsed": false,
     "input": [
      "bandPassList = ['u', 'g', 'r', 'i', 'z', 'y']\n",
      "banddir = os.path.join(os.getenv('THROUGHPUTS_DIR'), 'baseline')\n",
      "lsstbands = []\n",
      "lsstbp = {}\n",
      "wavelenstep = 0.1\n",
      "\n",
      "for band in bandPassList:\n",
      "    # setup sncosmo bandpasses\n",
      "    bandfname = banddir + \"/total_\" + band  + '.dat'\n",
      "    # Usually the next two lines can be merged, but there is an astropy bug currently.\n",
      "    numpyband = np.loadtxt(bandfname)\n",
      "    sncosmoband = sncosmo.Bandpass(wave=numpyband[:,0], trans=numpyband[:,1], wave_unit=Unit('nm'), \n",
      "                                   name='LSST'+band)\n",
      "    sncosmo.registry.register(sncosmoband, force=True)\n",
      "    \n",
      "    # Now load LSST bandpasses for catsim\n",
      "    lsstbp[band] = Bandpass()\n",
      "    lsstbp[band].readThroughput(bandfname, wavelen_step=wavelenstep)\n",
      "    lsstbands.append(lsstbp[band])"
     ],
     "language": "python",
     "metadata": {},
     "outputs": [],
     "prompt_number": 2
    },
    {
     "cell_type": "heading",
     "level": 2,
     "metadata": {},
     "source": [
      "Plot the Transmission Functions"
     ]
    },
    {
     "cell_type": "code",
     "collapsed": false,
     "input": [
      "filterfigs, filterax = plt.subplots()\n",
      "for band in bandPassList:\n",
      "    b = sncosmo.get_bandpass('LSST' + band)\n",
      "    filterax.plot (b.wave, b.trans, '-k', lw=2.0)\n",
      "filterax.set_xlabel(r'$\\lambda$, ($\\AA$)')\n",
      "filterax.set_ylabel(r'transmission')"
     ],
     "language": "python",
     "metadata": {},
     "outputs": [
      {
       "metadata": {},
       "output_type": "pyout",
       "prompt_number": 3,
       "text": [
        "<matplotlib.text.Text at 0x10e8c6810>"
       ]
      },
      {
       "metadata": {},
       "output_type": "display_data",
       "png": "[encoded data removed]",
       "text": [
        "<matplotlib.figure.Figure at 0x10dcfb090>"
       ]
      }
     ],
     "prompt_number": 3
    },
    {
     "cell_type": "heading",
     "level": 3,
     "metadata": {},
     "source": [
      "SALT2-Extended Model at z = 1.0 , with absolute magnitude in Bessell b band of -19.3"
     ]
    },
    {
     "cell_type": "markdown",
     "metadata": {},
     "source": [
      "We use the SALT2-extended model for now, since it has larger wavelength range than the SALT2 model. The model probably comes with less waarranty than SALT2, but ..."
     ]
    },
    {
     "cell_type": "code",
     "collapsed": false,
     "input": [
      "model = sncosmo.Model(source='Salt2-extended')\n",
      "model.set(z=1.0, c=0., x1=0.)\n",
      "model.set_source_peakabsmag(absmag=-19.3, band='bessellb', magsys='ab')\n",
      "print model.get('x0')"
     ],
     "language": "python",
     "metadata": {},
     "outputs": [
      {
       "output_type": "stream",
       "stream": "stdout",
       "text": [
        "1.8469279662e-06\n"
       ]
      }
     ],
     "prompt_number": 4
    },
    {
     "cell_type": "markdown",
     "metadata": {},
     "source": [
      "We can see the parameters of the model"
     ]
    },
    {
     "cell_type": "code",
     "collapsed": false,
     "input": [
      "print model"
     ],
     "language": "python",
     "metadata": {},
     "outputs": [
      {
       "output_type": "stream",
       "stream": "stdout",
       "text": [
        "<Model at 0x10dcd25d0>\n",
        "source:\n",
        "  class      : SALT2Source\n",
        "  name       : 'salt2-extended'\n",
        "  version    : 1.0\n",
        "  phases     : [-20, .., 50] days\n",
        "  wavelengths: [300, .., 18000] Angstroms\n",
        "parameters:\n",
        "  z  = 1.0\n",
        "  t0 = 0.0\n",
        "  x0 = 1.8469279661995543e-06\n",
        "  x1 = 0.0\n",
        "  c  = 0.0\n"
       ]
      }
     ],
     "prompt_number": 5
    },
    {
     "cell_type": "markdown",
     "metadata": {},
     "source": [
      "Or visualize the flux at peak"
     ]
    },
    {
     "cell_type": "code",
     "collapsed": false,
     "input": [
      "plt.plot(sncosmo.get_bandpass('LSSTu').wave*2., \n",
      "         model.source.flux(phase=0., wave=sncosmo.get_bandpass('LSSTu').wave)/2.0)\n",
      "plt.plot(sncosmo.get_bandpass('LSSTu').wave, \n",
      "         model.flux(time=0., wave=sncosmo.get_bandpass('LSSTu').wave))"
     ],
     "language": "python",
     "metadata": {},
     "outputs": [
      {
       "metadata": {},
       "output_type": "pyout",
       "prompt_number": 6,
       "text": [
        "[<matplotlib.lines.Line2D at 0x10ea5cb50>]"
       ]
      },
      {
       "metadata": {},
       "output_type": "display_data",
       "png": "[encoded data removed]",
       "text": [
        "<matplotlib.figure.Figure at 0x10ea5cd10>"
       ]
      }
     ],
     "prompt_number": 6
    },
    {
     "cell_type": "markdown",
     "metadata": {},
     "source": [
      "To calculate magnitudes in different bands with the CatSim framework, we have to setup the filters \n",
      "using "
     ]
    },
    {
     "cell_type": "code",
     "collapsed": false,
     "input": [
      "\n",
      "#filterwav = sncosmo.get_bandpass('LSSTu').wave/10.\n",
      "filterwav = lsstbands[0].wavelen\n",
      "SEDfromSNcosmo = Sed(wavelen=filterwav, flambda=model.flux(time=0., wave=filterwav*10.)*10.)\n",
      "phiarray, dlambda = SEDfromSNcosmo.setupPhiArray(lsstbands)\n",
      "SEDfromSNcosmo.synchronizeSED(wavelen_min=filterwav[0],\n",
      "                          wavelen_max=filterwav[-2],\n",
      "                          wavelen_step=wavelenstep)\n"
     ],
     "language": "python",
     "metadata": {},
     "outputs": [
      {
       "output_type": "stream",
       "stream": "stderr",
       "text": [
        "/Users/rbiswas/soft/LSST/installation/root/DarwinX86/sims_photUtils/master-g9e683f77a4+4/python/lsst/sims/photUtils/Sed.py:127: FutureWarning: comparison to `None` will result in an elementwise object comparison in the future.\n",
        "  if (wavelen!= None) & ((flambda!=None) | (fnu!=None)):\n",
        "/Users/rbiswas/soft/LSST/installation/root/DarwinX86/sims_photUtils/master-g9e683f77a4+4/python/lsst/sims/photUtils/Sed.py:148: FutureWarning: comparison to `None` will result in an elementwise object comparison in the future.\n",
        "  if flambda!=None:\n"
       ]
      }
     ],
     "prompt_number": 7
    },
    {
     "cell_type": "markdown",
     "metadata": {},
     "source": [
      "Now, we can calculate the magnitudes using catsim:"
     ]
    },
    {
     "cell_type": "code",
     "collapsed": false,
     "input": [
      "catsimPhotutilsmomags = np.array(SEDfromSNcosmo.manyMagCalc(phiarray, wavelen_step=0.1))"
     ],
     "language": "python",
     "metadata": {},
     "outputs": [],
     "prompt_number": 8
    },
    {
     "cell_type": "markdown",
     "metadata": {},
     "source": [
      "We already had everything in SNCosmo once we set parameters to the model. So here are the magnitudes. "
     ]
    },
    {
     "cell_type": "code",
     "collapsed": false,
     "input": [
      "SNCosmomags = np.array(model.bandmag(band=['LSSTu', 'LSSTg', 'LSSTr', 'LSSTi', 'LSSTz','LSSTy'], time=[0.,0.,0.,0.,0.,0.], magsys='ab'))"
     ],
     "language": "python",
     "metadata": {},
     "outputs": [],
     "prompt_number": 9
    },
    {
     "cell_type": "code",
     "collapsed": false,
     "input": [
      "np.allclose(catsimPhotutilsmomags,SNCosmomags) "
     ],
     "language": "python",
     "metadata": {},
     "outputs": [
      {
       "metadata": {},
       "output_type": "pyout",
       "prompt_number": 10,
       "text": [
        "True"
       ]
      }
     ],
     "prompt_number": 10
    },
    {
     "cell_type": "heading",
     "level": 3,
     "metadata": {},
     "source": [
      "Test the timings for these two methods "
     ]
    },
    {
     "cell_type": "markdown",
     "metadata": {},
     "source": [
      "Unfortunately, at this point, this is an apples to oranges. The SNCosmo function calculates fluxes as well as does the integration, while the LSST functions only do the integration."
     ]
    },
    {
     "cell_type": "code",
     "collapsed": false,
     "input": [
      "def timerstats(stmt, repeat, number=1, setup=None):\n",
      "    import timeit\n",
      "    import numpy as np\n",
      "    if setup is None:\n",
      "        times = timeit.repeat(stmt, number=number, repeat=repeat)\n",
      "    else:\n",
      "        times = timeit.repeat(stmt, number=number, repeat=repeat, setup=setup)\n",
      "    times = np.asarray(times)\n",
      "    return np.array([times.min(), times.max(), times.mean()]), times"
     ],
     "language": "python",
     "metadata": {},
     "outputs": [],
     "prompt_number": 11
    },
    {
     "cell_type": "code",
     "collapsed": false,
     "input": [
      "sncosmo_times = timerstats('model.bandmag(band=[\"LSSTu\", \"LSSTg\", \"LSSTr\", \"LSSTi\", \"LSSTz\",\"LSSTy\"], time=[0.,0.,0.,0.,0.,0.], magsys=\"ab\")', number=1, repeat=1000, setup='from __main__ import model')"
     ],
     "language": "python",
     "metadata": {},
     "outputs": [],
     "prompt_number": 12
    },
    {
     "cell_type": "code",
     "collapsed": false,
     "input": [
      "photutils_times = timerstats('SEDfromSNcosmo.manyMagCalc(phiarray, wavelen_step=0.1)', number=1, repeat=1000, setup='from __main__ import SEDfromSNcosmo, phiarray')"
     ],
     "language": "python",
     "metadata": {},
     "outputs": [],
     "prompt_number": 13
    },
    {
     "cell_type": "code",
     "collapsed": false,
     "input": [
      "print 'min, max, mean for SNCosmo :', sncosmo_times[0]"
     ],
     "language": "python",
     "metadata": {},
     "outputs": [
      {
       "output_type": "stream",
       "stream": "stdout",
       "text": [
        "min, max, mean for SNCosmo : [ 0.00658011  0.01437998  0.00688971]\n"
       ]
      }
     ],
     "prompt_number": 14
    },
    {
     "cell_type": "code",
     "collapsed": false,
     "input": [
      "print 'min, max, mean for photutils_times :', photutils_times[0]"
     ],
     "language": "python",
     "metadata": {},
     "outputs": [
      {
       "output_type": "stream",
       "stream": "stdout",
       "text": [
        "min, max, mean for photutils_times : [  7.58171082e-05   2.92062759e-04   8.10489655e-05]\n"
       ]
      }
     ],
     "prompt_number": 15
    },
    {
     "cell_type": "heading",
     "level": 2,
     "metadata": {},
     "source": [
      "Redo the calculations with MW extinction"
     ]
    },
    {
     "cell_type": "code",
     "collapsed": false,
     "input": [
      "dustmaproot = os.getenv('SIMS_DUSTMAPS_DIR')\n",
      "map_dir = os.path.join(dustmaproot, 'DustMaps')\n",
      "from astropy.coordinates import SkyCoord\n",
      "coords = SkyCoord(204., -30., unit='deg')\n"
     ],
     "language": "python",
     "metadata": {},
     "outputs": [],
     "prompt_number": 16
    },
    {
     "cell_type": "code",
     "collapsed": false,
     "input": [
      "extmodel = sncosmo.Model(source='Salt2-extended', effects=[sncosmo.CCM89Dust()], effect_names=['mw'],\n",
      "                         effect_frames=['obs'])\n",
      "#Setting the parameters of the model extmodel to those of model\n",
      "x0 = model.get('x0')\n",
      "extmodel.set(z=1.0, x0=x0)\n",
      "mwebv = sncosmo.get_ebv_from_map(coords, mapdir=map_dir, interpolate=True)\n",
      "extmodel.set(mwebv=mwebv)"
     ],
     "language": "python",
     "metadata": {},
     "outputs": [],
     "prompt_number": 17
    },
    {
     "cell_type": "code",
     "collapsed": false,
     "input": [
      "from utils import plotutils as pu\n",
      "fig, ax0, ax1  = pu.settwopanel(setdifflimits=[0.7,1.0])\n",
      "wavegrid = sncosmo.get_bandpass('LSSTu').wave\n",
      "ax0.plot(wavegrid, \n",
      "         model.flux(time=0., wave=wavegrid),'-k', lw=2)\n",
      "ax0.plot(wavegrid, \n",
      "         extmodel.flux(time=0., wave=wavegrid), '--r', lw=2.)\n",
      "ax1.plot(wavegrid, extmodel.flux(time=0., wave=wavegrid)/model.flux(time=0., wave=wavegrid), '-k', lw=2.0)"
     ],
     "language": "python",
     "metadata": {},
     "outputs": [
      {
       "metadata": {},
       "output_type": "pyout",
       "prompt_number": 18,
       "text": [
        "[<matplotlib.lines.Line2D at 0x10445b190>]"
       ]
      },
      {
       "metadata": {},
       "output_type": "display_data",
       "png": "[encoded data removed]",
       "text": [
        "<matplotlib.figure.Figure at 0x10fa6e150>"
       ]
      }
     ],
     "prompt_number": 18
    },
    {
     "cell_type": "code",
     "collapsed": false,
     "input": [
      "print extmodel"
     ],
     "language": "python",
     "metadata": {},
     "outputs": [
      {
       "output_type": "stream",
       "stream": "stdout",
       "text": [
        "<Model at 0x10f9aa8d0>\n",
        "source:\n",
        "  class      : SALT2Source\n",
        "  name       : 'salt2-extended'\n",
        "  version    : 1.0\n",
        "  phases     : [-20, .., 50] days\n",
        "  wavelengths: [300, .., 18000] Angstroms\n",
        "effect (name='mw' frame='obs'):\n",
        "  class           : CCM89Dust\n",
        "  wavelength range: [909.09, 33333.3] Angstroms\n",
        "parameters:\n",
        "  z     = 1.0\n",
        "  t0    = 0.0\n",
        "  x0    = 1.8469279661995543e-06\n",
        "  x1    = 0.0\n",
        "  c     = 0.0\n",
        "  mwebv = 0.047059886157512665\n",
        "  mwr_v = 3.1000000000000001\n"
       ]
      }
     ],
     "prompt_number": 19
    },
    {
     "cell_type": "code",
     "collapsed": false,
     "input": [
      "ax, bx = SEDfromSNcosmo.setupCCMab()"
     ],
     "language": "python",
     "metadata": {},
     "outputs": [],
     "prompt_number": 38
    },
    {
     "cell_type": "code",
     "collapsed": false,
     "input": [
      "print SEDfromSNcosmo.fnu"
     ],
     "language": "python",
     "metadata": {},
     "outputs": [
      {
       "output_type": "stream",
       "stream": "stdout",
       "text": [
        "[  1.43947612e-09   1.44106121e-09   1.44264619e-09 ...,   7.43575642e-07\n",
        "   7.43277914e-07   7.42984679e-07]\n"
       ]
      }
     ],
     "prompt_number": 40
    },
    {
     "cell_type": "code",
     "collapsed": false,
     "input": [
      "SEDfromSNcosmo.addCCMDust(a_x=ax, b_x=bx, ebv=mwebv)\n",
      "SEDfromSNcosmo.synchronizeSED()"
     ],
     "language": "python",
     "metadata": {},
     "outputs": [],
     "prompt_number": 37
    },
    {
     "cell_type": "code",
     "collapsed": false,
     "input": [
      "photutils_extmags = SEDfromSNcosmo.manyMagCalc(phiarray, wavelen_step=0.1)"
     ],
     "language": "python",
     "metadata": {},
     "outputs": [],
     "prompt_number": 21
    },
    {
     "cell_type": "code",
     "collapsed": false,
     "input": [
      "sncosmo_extmags = extmodel.bandmag(band=['LSSTu', 'LSSTg', 'LSSTr', 'LSSTi', 'LSSTz','LSSTy'], time=[0.,0.,0.,0.,0.,0.], magsys='ab')"
     ],
     "language": "python",
     "metadata": {},
     "outputs": [],
     "prompt_number": 22
    },
    {
     "cell_type": "code",
     "collapsed": false,
     "input": [
      "np.allclose(sncosmo_extmags, photutils_extmags)"
     ],
     "language": "python",
     "metadata": {},
     "outputs": [
      {
       "metadata": {},
       "output_type": "pyout",
       "prompt_number": 23,
       "text": [
        "False"
       ]
      }
     ],
     "prompt_number": 23
    },
    {
     "cell_type": "code",
     "collapsed": false,
     "input": [
      "sncosmo_extmags.tolist()"
     ],
     "language": "python",
     "metadata": {},
     "outputs": [
      {
       "metadata": {},
       "output_type": "pyout",
       "prompt_number": 34,
       "text": [
        "[29.927634099195245,\n",
        " 28.580538045226653,\n",
        " 25.73480188686392,\n",
        " 24.443830531798877,\n",
        " 24.141162872691048,\n",
        " 24.2780682387641]"
       ]
      }
     ],
     "prompt_number": 34
    },
    {
     "cell_type": "code",
     "collapsed": false,
     "input": [
      "photutils_extmags"
     ],
     "language": "python",
     "metadata": {},
     "outputs": [
      {
       "metadata": {},
       "output_type": "pyout",
       "prompt_number": 25,
       "text": [
        "array([ 29.92640506,  28.581273  ,  25.73395569,  24.4451179 ,\n",
        "        24.14166872,  24.2780692 ])"
       ]
      }
     ],
     "prompt_number": 25
    },
    {
     "cell_type": "code",
     "collapsed": false,
     "input": [
      "mwebv"
     ],
     "language": "python",
     "metadata": {},
     "outputs": [
      {
       "metadata": {},
       "output_type": "pyout",
       "prompt_number": 26,
       "text": [
        "0.047059886157512665"
       ]
      }
     ],
     "prompt_number": 26
    },
    {
     "cell_type": "code",
     "collapsed": false,
     "input": [
      "1.0e4/wavegrid"
     ],
     "language": "python",
     "metadata": {},
     "outputs": [
      {
       "metadata": {},
       "output_type": "pyout",
       "prompt_number": 27,
       "text": [
        "array([ 3.33333333,  3.33222259,  3.33111259, ...,  0.83347225,\n",
        "        0.83340278,  0.83333333])"
       ]
      }
     ],
     "prompt_number": 27
    },
    {
     "cell_type": "code",
     "collapsed": false,
     "input": [
      "type(SEDfromSNcosmo.manyMagCalc(phiarray, wavelen_step=0.1))"
     ],
     "language": "python",
     "metadata": {},
     "outputs": [
      {
       "metadata": {},
       "output_type": "pyout",
       "prompt_number": 29,
       "text": [
        "numpy.ndarray"
       ]
      }
     ],
     "prompt_number": 29
    },
    {
     "cell_type": "code",
     "collapsed": false,
     "input": [
      "x = [1,2,3]\n",
      "y = [4,6]\n",
      "type(x+ y)"
     ],
     "language": "python",
     "metadata": {},
     "outputs": [
      {
       "metadata": {},
       "output_type": "pyout",
       "prompt_number": 36,
       "text": [
        "list"
       ]
      }
     ],
     "prompt_number": 36
    },
    {
     "cell_type": "code",
     "collapsed": false,
     "input": [
      "photutils_extmags.tolist()"
     ],
     "language": "python",
     "metadata": {},
     "outputs": [
      {
       "metadata": {},
       "output_type": "pyout",
       "prompt_number": 32,
       "text": [
        "[29.926405058220936,\n",
        " 28.581273004116905,\n",
        " 25.73395569192082,\n",
        " 24.445117897979948,\n",
        " 24.141668717178813,\n",
        " 24.278069195459032]"
       ]
      }
     ],
     "prompt_number": 32
    },
    {
     "cell_type": "code",
     "collapsed": false,
     "input": [
      "sncosmo_extmags"
     ],
     "language": "python",
     "metadata": {},
     "outputs": [
      {
       "metadata": {},
       "output_type": "pyout",
       "prompt_number": 33,
       "text": [
        "array([ 29.9276341 ,  28.58053805,  25.73480189,  24.44383053,\n",
        "        24.14116287,  24.27806824])"
       ]
      }
     ],
     "prompt_number": 33
    },
    {
     "cell_type": "code",
     "collapsed": false,
     "input": [],
     "language": "python",
     "metadata": {},
     "outputs": []
    }
   ],
   "metadata": {}
  }
 ]
}