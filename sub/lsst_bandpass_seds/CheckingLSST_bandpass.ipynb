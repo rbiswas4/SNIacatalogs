{
 "metadata": {
  "name": "",
  "signature": "sha256:f4a760640b7073fe87b714fbff3d9c3335d2ab0dfe978adcef1885223af2dc61"
 },
 "nbformat": 3,
 "nbformat_minor": 0,
 "worksheets": [
  {
   "cells": [
    {
     "cell_type": "code",
     "collapsed": false,
     "input": [
      "%matplotlib inline\n",
      "import numpy as np\n",
      "import matplotlib.pyplot as plt\n",
      "import sncosmo"
     ],
     "language": "python",
     "metadata": {},
     "outputs": [],
     "prompt_number": 1
    },
    {
     "cell_type": "code",
     "collapsed": false,
     "input": [
      "import lsst.sims.photUtils.Sed as Sed\n",
      "import lsst.sims.photUtils.Bandpass as Bandpass"
     ],
     "language": "python",
     "metadata": {},
     "outputs": [],
     "prompt_number": 2
    },
    {
     "cell_type": "markdown",
     "metadata": {},
     "source": [
      "First, the nature of the input file that we will use:"
     ]
    },
    {
     "cell_type": "code",
     "collapsed": false,
     "input": [
      "bpfile =  'exampleBandpass.dat'\n",
      "!head 'exampleBandpass.dat'\n",
      "simplyread = np.loadtxt(bpfile)"
     ],
     "language": "python",
     "metadata": {},
     "outputs": [
      {
       "output_type": "stream",
       "stream": "stdout",
       "text": [
        "# Wavelength(nm)  Throughput(0-1)\r\n",
        "300.0 1.68310570401e-10\r\n",
        "300.1 2.94520905532e-10\r\n",
        "300.2 4.41022459942e-10\r\n",
        "300.3 6.08978901465e-10\r\n",
        "300.4 7.99588870972e-10\r\n",
        "300.5 1.01408650013e-09\r\n",
        "300.6 1.25374193131e-09\r\n",
        "300.7 1.51986183961e-09\r\n",
        "300.8 1.81378995704e-09\r\n"
       ]
      }
     ],
     "prompt_number": 3
    },
    {
     "cell_type": "code",
     "collapsed": false,
     "input": [
      "print \"num points in file: \", len(simplyread), \"and have min and max wavelengths = \", simplyread[:,0].min(), simplyread[:,0].max()\n",
      "wavesteps = np.diff(simplyread[:,0]/0.1) \n",
      "print \"differences in wavelengths/0.1 has min, max, and mean values of \", wavesteps.min(), wavesteps.max(), np.mean(wavesteps)"
     ],
     "language": "python",
     "metadata": {},
     "outputs": [
      {
       "output_type": "stream",
       "stream": "stdout",
       "text": [
        "num points in file:  9001 and have min and max wavelengths =  300.0 1200.0\n",
        "differences in wavelengths/0.1 has min, max, and mean values of  0.999999999998 1.0 1.0\n"
       ]
      }
     ],
     "prompt_number": 4
    },
    {
     "cell_type": "code",
     "collapsed": false,
     "input": [
      "rband  =  Bandpass()\n",
      "rband.readThroughput(bpfile)"
     ],
     "language": "python",
     "metadata": {},
     "outputs": [],
     "prompt_number": 5
    },
    {
     "cell_type": "code",
     "collapsed": false,
     "input": [
      "bandpasssteps = np.diff(rband.wavelen)\n",
      "print \"min, max, mean of bandpasssteps/0.1 = \",  bandpasssteps.min(), bandpasssteps.max(), np.mean(bandpasssteps)\n",
      "print \"num samples in bandpass objects \", len(rband.wavelen)\n",
      "rband.wavelen.max() , rband.wavelen.min()"
     ],
     "language": "python",
     "metadata": {},
     "outputs": [
      {
       "output_type": "stream",
       "stream": "stdout",
       "text": [
        "min, max, mean of bandpasssteps/0.1 =  0.0999999999999 0.1 0.1\n",
        "num samples in bandpass objects  8501\n"
       ]
      },
      {
       "metadata": {},
       "output_type": "pyout",
       "prompt_number": 6,
       "text": [
        "(1150.0000000001933, 300.0)"
       ]
      }
     ],
     "prompt_number": 6
    },
    {
     "cell_type": "markdown",
     "metadata": {},
     "source": [
      "So, the rband Bandpass object has fewer samples because it figured out a way to truncate the bandpass not keeping the last 50 points which probably all were zero anyway."
     ]
    },
    {
     "cell_type": "markdown",
     "metadata": {},
     "source": [
      "Attempting to access the data in this object as defined in https://stash.lsstcorp.org/projects/SIM/repos/sims_photutils/browse/python/lsst/sims/photUtils/Bandpass.py:\n",
      "Attributes:\n",
      "- wavelen (nm)\n",
      "- sb  (Transmission, 0-1)\n",
      "- phi (Normalized system response) \n",
      "- wavelen/sb are guaranteed gridded. \n",
      "- phi will be None until specifically needed; \n",
      "     any updates to wavelen/sb within class will reset phi to None. \n",
      " the name of the bandpass file\n",
      " \n",
      " \n",
      "Methods: \n",
      "- __init__ : pass wavelen/sb arrays and set values (on grid) OR set data to None's\n",
      "- setWavelenLimits / getWavelenLimits: set or get the wavelength limits of bandpass\n",
      "- setBandpass: set bandpass using wavelen/sb input values\n",
      "- getBandpass: return copies of wavelen/sb values\n",
      "- imsimBandpass : set up a bandpass which is 0 everywhere but one wavelength \n",
      "                 (this can be useful for imsim magnitudes)\n",
      "- readThroughput : set up a bandpass by reading data from a single file\n",
      "- readThroughtputList : set up a bandpass by reading data from many files and multiplying \n",
      "                       the individual throughputs \n",
      "- resampleBandpass : use linear interpolation to resample wavelen/sb arrays onto a regular grid \n",
      "                    (grid is specified by min/max/step size) \n",
      "- sbTophi : calculate phi from sb - needed for calculating magnitudes\n",
      "- multiplyThroughputs : multiply self.wavelen/sb by given wavelen/sb and return \n",
      "                       new wavelen/sb arrays (gridded like self)\n",
      "- calcZP_t : calculate instrumental zeropoint for this bandpass\n",
      "- calcM5: calculate the m5 value for a flat SED for this bandpass\n",
      "- calcEffWavelen: calculate the effective wavelength (using both Sb and Phi) for this bandpass \n",
      "- writeThroughput : utility to write bandpass information to file\n"
     ]
    },
    {
     "cell_type": "code",
     "collapsed": false,
     "input": [
      "rband.calcEffWavelen()"
     ],
     "language": "python",
     "metadata": {},
     "outputs": [
      {
       "metadata": {},
       "output_type": "pyout",
       "prompt_number": 7,
       "text": [
        "(619.51439824065744, 622.35560913452446)"
       ]
      }
     ],
     "prompt_number": 7
    },
    {
     "cell_type": "code",
     "collapsed": false,
     "input": [
      "resampledrband = rband.resampleBandpass(wavelen_min=rband.wavelen_min, wavelen_max=rband.wavelen_max, wavelen_step=rband.wavelen_step*50.)"
     ],
     "language": "python",
     "metadata": {},
     "outputs": [],
     "prompt_number": 8
    },
    {
     "cell_type": "markdown",
     "metadata": {},
     "source": [
      "The resampling docstring suggested that the keywords would be min, max, step, but infact we need 'wavelen_' prefixing them."
     ]
    },
    {
     "cell_type": "code",
     "collapsed": false,
     "input": [
      "rband.wavelen_step"
     ],
     "language": "python",
     "metadata": {},
     "outputs": [
      {
       "metadata": {},
       "output_type": "pyout",
       "prompt_number": 9,
       "text": [
        "5.0"
       ]
      }
     ],
     "prompt_number": 9
    },
    {
     "cell_type": "code",
     "collapsed": false,
     "input": [
      "rband.sbTophi()"
     ],
     "language": "python",
     "metadata": {},
     "outputs": [],
     "prompt_number": 10
    },
    {
     "cell_type": "code",
     "collapsed": false,
     "input": [
      "plt.plot (rband.wavelen, rband.sb)\n",
      "plt.plot (rband.wavelen, rband.phi, 'r')\n",
      "plt.xlabel(r'$\\lambda$')\n",
      "plt.ylabel('transmission')"
     ],
     "language": "python",
     "metadata": {},
     "outputs": [
      {
       "metadata": {},
       "output_type": "pyout",
       "prompt_number": 11,
       "text": [
        "<matplotlib.text.Text at 0x7f309afe74d0>"
       ]
      },
      {
       "metadata": {},
       "output_type": "display_data",
       "png": "[encoded data removed]",
       "text": [
        "<matplotlib.figure.Figure at 0x7f309bc79890>"
       ]
      }
     ],
     "prompt_number": 11
    },
    {
     "cell_type": "code",
     "collapsed": false,
     "input": [
      "plt.plot(rband.sb/rband.wavelen, rband.phi,'.')\n",
      "plt.plot(rband.sb/rband.wavelen, rband.sb/rband.wavelen)"
     ],
     "language": "python",
     "metadata": {},
     "outputs": [
      {
       "metadata": {},
       "output_type": "pyout",
       "prompt_number": 12,
       "text": [
        "[<matplotlib.lines.Line2D at 0x7f309b034e50>]"
       ]
      },
      {
       "metadata": {},
       "output_type": "display_data",
       "png": "[encoded data removed]",
       "text": [
        "<matplotlib.figure.Figure at 0x7f309b034e10>"
       ]
      }
     ],
     "prompt_number": 12
    },
    {
     "cell_type": "code",
     "collapsed": false,
     "input": [
      "sed = Sed()"
     ],
     "language": "python",
     "metadata": {},
     "outputs": [],
     "prompt_number": 13
    },
    {
     "cell_type": "code",
     "collapsed": false,
     "input": [
      "sedfile = \"exampleSED.dat\"\n",
      "!head \"exampleSED.dat\""
     ],
     "language": "python",
     "metadata": {},
     "outputs": [
      {
       "output_type": "stream",
       "stream": "stdout",
       "text": [
        "#Wavelenght(nm)  F_lambda(ergs/cm^s/s/nm)\r\n",
        "300 0.898159191287\r\n",
        "301 0.904946894766\r\n",
        "302 0.897077642347\r\n",
        "303 0.889208389929\r\n",
        "304 0.884932800596\r\n",
        "305 0.880657211264\r\n",
        "306 0.874868704571\r\n",
        "307 0.869080197879\r\n",
        "308 0.873926650095\r\n"
       ]
      }
     ],
     "prompt_number": 14
    },
    {
     "cell_type": "code",
     "collapsed": false,
     "input": [
      "sed.readSED_flambda(sedfile)"
     ],
     "language": "python",
     "metadata": {},
     "outputs": [],
     "prompt_number": 15
    },
    {
     "cell_type": "code",
     "collapsed": false,
     "input": [
      "sed.flambdaTofnu()"
     ],
     "language": "python",
     "metadata": {},
     "outputs": [],
     "prompt_number": 19
    },
    {
     "cell_type": "code",
     "collapsed": false,
     "input": [
      "sed.flambda[0]"
     ],
     "language": "python",
     "metadata": {},
     "outputs": [
      {
       "metadata": {},
       "output_type": "pyout",
       "prompt_number": 22,
       "text": [
        "0.89815919128699995"
       ]
      }
     ],
     "prompt_number": 22
    },
    {
     "cell_type": "code",
     "collapsed": false,
     "input": [
      "sed.fnu[-1]"
     ],
     "language": "python",
     "metadata": {},
     "outputs": [
      {
       "metadata": {},
       "output_type": "pyout",
       "prompt_number": 24,
       "text": [
        "32725277565.172104"
       ]
      }
     ],
     "prompt_number": 24
    },
    {
     "cell_type": "code",
     "collapsed": false,
     "input": [
      "sed.calcFlux(rband)"
     ],
     "language": "python",
     "metadata": {},
     "outputs": [
      {
       "metadata": {},
       "output_type": "pyout",
       "prompt_number": 25,
       "text": [
        "66423453600.476837"
       ]
      }
     ],
     "prompt_number": 25
    },
    {
     "cell_type": "code",
     "collapsed": false,
     "input": [
      "sed.calcMag(bandpass = rband)"
     ],
     "language": "python",
     "metadata": {},
     "outputs": [
      {
       "metadata": {},
       "output_type": "pyout",
       "prompt_number": 26,
       "text": [
        "-18.155738008773302"
       ]
      }
     ],
     "prompt_number": 26
    },
    {
     "cell_type": "code",
     "collapsed": false,
     "input": [
      "? sed.addCCMDust()"
     ],
     "language": "python",
     "metadata": {},
     "outputs": [],
     "prompt_number": 27
    },
    {
     "cell_type": "code",
     "collapsed": false,
     "input": [
      "sed.calcMag(bandpass = rband)"
     ],
     "language": "python",
     "metadata": {},
     "outputs": [
      {
       "metadata": {},
       "output_type": "pyout",
       "prompt_number": 28,
       "text": [
        "-18.155738008773302"
       ]
      }
     ],
     "prompt_number": 28
    },
    {
     "cell_type": "code",
     "collapsed": false,
     "input": [
      "sed.redshiftSED(redshift=0.02, dimming=True)"
     ],
     "language": "python",
     "metadata": {},
     "outputs": [],
     "prompt_number": 35
    },
    {
     "cell_type": "code",
     "collapsed": false,
     "input": [
      "sed.calcMag(bandpass=rband)"
     ],
     "language": "python",
     "metadata": {},
     "outputs": [
      {
       "output_type": "stream",
       "stream": "stderr",
       "text": [
        "There is an area of non-overlap between desired wavelength range (300.00 to 1150.00) and sed exampleSED.dat (881.28 to 3525)\n"
       ]
      },
      {
       "metadata": {},
       "output_type": "pyout",
       "prompt_number": 36,
       "text": [
        "nan"
       ]
      }
     ],
     "prompt_number": 36
    },
    {
     "cell_type": "code",
     "collapsed": false,
     "input": [
      "plt.plot(rband.wavelen, rband.sb,'.')\n",
      "plt.yscale('log')\n",
      "plt.ylim(ymin = 1.e-6)"
     ],
     "language": "python",
     "metadata": {},
     "outputs": [
      {
       "metadata": {},
       "output_type": "pyout",
       "prompt_number": 39,
       "text": [
        "(1e-06, 1.0)"
       ]
      },
      {
       "metadata": {},
       "output_type": "display_data",
       "png": "[encoded data removed]",
       "text": [
        "<matplotlib.figure.Figure at 0x7f309ac54a90>"
       ]
      }
     ],
     "prompt_number": 39
    },
    {
     "cell_type": "code",
     "collapsed": false,
     "input": [],
     "language": "python",
     "metadata": {},
     "outputs": []
    }
   ],
   "metadata": {}
  }
 ]
}