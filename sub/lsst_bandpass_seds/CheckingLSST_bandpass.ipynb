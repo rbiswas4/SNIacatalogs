{
 "metadata": {
  "name": "",
  "signature": "sha256:2eb0ab90bd1d90a19add8b16eb40dee4ef69a0c0db275d5d1e6515ee390547d1"
 },
 "nbformat": 3,
 "nbformat_minor": 0,
 "worksheets": [
  {
   "cells": [
    {
     "cell_type": "code",
     "collapsed": false,
     "input": [
      "%matplotlib inline\n",
      "import numpy as np\n",
      "import matplotlib.pyplot as plt\n",
      "import sncosmo"
     ],
     "language": "python",
     "metadata": {},
     "outputs": [],
     "prompt_number": 1
    },
    {
     "cell_type": "code",
     "collapsed": false,
     "input": [
      "import lsst.sims.photUtils.Sed as Sed\n",
      "import lsst.sims.photUtils.Bandpass as Bandpass\n",
      "import lsst.sims.photUtils.EBV as EBV"
     ],
     "language": "python",
     "metadata": {},
     "outputs": [],
     "prompt_number": 26
    },
    {
     "cell_type": "markdown",
     "metadata": {},
     "source": [
      "First, the nature of the input file that we will use:"
     ]
    },
    {
     "cell_type": "code",
     "collapsed": false,
     "input": [
      "bpfile =  'exampleBandpass.dat'\n",
      "!head 'exampleBandpass.dat'\n",
      "simplyread = np.loadtxt(bpfile)"
     ],
     "language": "python",
     "metadata": {},
     "outputs": [
      {
       "output_type": "stream",
       "stream": "stdout",
       "text": [
        "# Wavelength(nm)  Throughput(0-1)\r\n",
        "300.0 1.68310570401e-10\r\n",
        "300.1 2.94520905532e-10\r\n",
        "300.2 4.41022459942e-10\r\n",
        "300.3 6.08978901465e-10\r\n",
        "300.4 7.99588870972e-10\r\n",
        "300.5 1.01408650013e-09\r\n",
        "300.6 1.25374193131e-09\r\n",
        "300.7 1.51986183961e-09\r\n",
        "300.8 1.81378995704e-09\r\n"
       ]
      }
     ],
     "prompt_number": 3
    },
    {
     "cell_type": "code",
     "collapsed": false,
     "input": [
      "print \"num points in file: \", len(simplyread), \"and have min and max wavelengths = \", simplyread[:,0].min(), simplyread[:,0].max()\n",
      "wavesteps = np.diff(simplyread[:,0]/0.1) \n",
      "print \"differences in wavelengths/0.1 has min, max, and mean values of \", wavesteps.min(), wavesteps.max(), np.mean(wavesteps)"
     ],
     "language": "python",
     "metadata": {},
     "outputs": [
      {
       "output_type": "stream",
       "stream": "stdout",
       "text": [
        "num points in file:  9001 and have min and max wavelengths =  300.0 1200.0\n",
        "differences in wavelengths/0.1 has min, max, and mean values of  0.999999999998 1.0 1.0\n"
       ]
      }
     ],
     "prompt_number": 4
    },
    {
     "cell_type": "code",
     "collapsed": false,
     "input": [
      "rband  =  Bandpass()\n",
      "rband.readThroughput(bpfile)"
     ],
     "language": "python",
     "metadata": {},
     "outputs": [],
     "prompt_number": 5
    },
    {
     "cell_type": "code",
     "collapsed": false,
     "input": [
      "bandpasssteps = np.diff(rband.wavelen)\n",
      "print \"min, max, mean of bandpasssteps/0.1 = \",  bandpasssteps.min(), bandpasssteps.max(), np.mean(bandpasssteps)\n",
      "print \"num samples in bandpass objects \", len(rband.wavelen)\n",
      "rband.wavelen.max() , rband.wavelen.min()"
     ],
     "language": "python",
     "metadata": {},
     "outputs": [
      {
       "output_type": "stream",
       "stream": "stdout",
       "text": [
        "min, max, mean of bandpasssteps/0.1 =  0.0999999999999 0.1 0.1\n",
        "num samples in bandpass objects  8501\n"
       ]
      },
      {
       "metadata": {},
       "output_type": "pyout",
       "prompt_number": 6,
       "text": [
        "(1150.0000000001933, 300.0)"
       ]
      }
     ],
     "prompt_number": 6
    },
    {
     "cell_type": "markdown",
     "metadata": {},
     "source": [
      "So, the rband Bandpass object has fewer samples because it figured out a way to truncate the bandpass not keeping the last 50 points which probably all were zero anyway."
     ]
    },
    {
     "cell_type": "markdown",
     "metadata": {},
     "source": [
      "Attempting to access the data in this object as defined in https://stash.lsstcorp.org/projects/SIM/repos/sims_photutils/browse/python/lsst/sims/photUtils/Bandpass.py:\n",
      "Attributes:\n",
      "- wavelen (nm)\n",
      "- sb  (Transmission, 0-1)\n",
      "- phi (Normalized system response) \n",
      "- wavelen/sb are guaranteed gridded. \n",
      "- phi will be None until specifically needed; \n",
      "     any updates to wavelen/sb within class will reset phi to None. \n",
      " the name of the bandpass file\n",
      " \n",
      " \n",
      "Methods: \n",
      "- __init__ : pass wavelen/sb arrays and set values (on grid) OR set data to None's\n",
      "- setWavelenLimits / getWavelenLimits: set or get the wavelength limits of bandpass\n",
      "- setBandpass: set bandpass using wavelen/sb input values\n",
      "- getBandpass: return copies of wavelen/sb values\n",
      "- imsimBandpass : set up a bandpass which is 0 everywhere but one wavelength \n",
      "                 (this can be useful for imsim magnitudes)\n",
      "- readThroughput : set up a bandpass by reading data from a single file\n",
      "- readThroughtputList : set up a bandpass by reading data from many files and multiplying \n",
      "                       the individual throughputs \n",
      "- resampleBandpass : use linear interpolation to resample wavelen/sb arrays onto a regular grid \n",
      "                    (grid is specified by min/max/step size) \n",
      "- sbTophi : calculate phi from sb - needed for calculating magnitudes\n",
      "- multiplyThroughputs : multiply self.wavelen/sb by given wavelen/sb and return \n",
      "                       new wavelen/sb arrays (gridded like self)\n",
      "- calcZP_t : calculate instrumental zeropoint for this bandpass\n",
      "- calcM5: calculate the m5 value for a flat SED for this bandpass\n",
      "- calcEffWavelen: calculate the effective wavelength (using both Sb and Phi) for this bandpass \n",
      "- writeThroughput : utility to write bandpass information to file\n"
     ]
    },
    {
     "cell_type": "code",
     "collapsed": false,
     "input": [
      "rband.calcEffWavelen()"
     ],
     "language": "python",
     "metadata": {},
     "outputs": [
      {
       "metadata": {},
       "output_type": "pyout",
       "prompt_number": 7,
       "text": [
        "(619.51439824065744, 622.35560913452446)"
       ]
      }
     ],
     "prompt_number": 7
    },
    {
     "cell_type": "code",
     "collapsed": false,
     "input": [
      "resampledrband = rband.resampleBandpass(wavelen_min=rband.wavelen_min, wavelen_max=rband.wavelen_max, wavelen_step=rband.wavelen_step*50.)"
     ],
     "language": "python",
     "metadata": {},
     "outputs": [],
     "prompt_number": 8
    },
    {
     "cell_type": "markdown",
     "metadata": {},
     "source": [
      "The resampling docstring suggested that the keywords would be min, max, step, but infact we need 'wavelen_' prefixing them."
     ]
    },
    {
     "cell_type": "code",
     "collapsed": false,
     "input": [
      "rband.wavelen_step"
     ],
     "language": "python",
     "metadata": {},
     "outputs": [
      {
       "metadata": {},
       "output_type": "pyout",
       "prompt_number": 9,
       "text": [
        "5.0"
       ]
      }
     ],
     "prompt_number": 9
    },
    {
     "cell_type": "code",
     "collapsed": false,
     "input": [
      "rband.sbTophi()"
     ],
     "language": "python",
     "metadata": {},
     "outputs": [],
     "prompt_number": 10
    },
    {
     "cell_type": "code",
     "collapsed": false,
     "input": [
      "plt.plot (rband.wavelen, rband.sb)\n",
      "plt.plot (rband.wavelen, rband.phi, 'r')\n",
      "plt.xlabel(r'$\\lambda$')\n",
      "plt.ylabel('transmission')"
     ],
     "language": "python",
     "metadata": {},
     "outputs": [
      {
       "metadata": {},
       "output_type": "pyout",
       "prompt_number": 11,
       "text": [
        "<matplotlib.text.Text at 0x7fdf51b7d450>"
       ]
      },
      {
       "metadata": {},
       "output_type": "display_data",
       "png": "[encoded data removed]",
       "text": [
        "<matplotlib.figure.Figure at 0x7fdf52777510>"
       ]
      }
     ],
     "prompt_number": 11
    },
    {
     "cell_type": "code",
     "collapsed": false,
     "input": [
      "plt.plot(rband.sb/rband.wavelen, rband.phi,'.')\n",
      "plt.plot(rband.sb/rband.wavelen, rband.sb/rband.wavelen)"
     ],
     "language": "python",
     "metadata": {},
     "outputs": [
      {
       "metadata": {},
       "output_type": "pyout",
       "prompt_number": 12,
       "text": [
        "[<matplotlib.lines.Line2D at 0x7fdf51bcadd0>]"
       ]
      },
      {
       "metadata": {},
       "output_type": "display_data",
       "png": "[encoded data removed]",
       "text": [
        "<matplotlib.figure.Figure at 0x7fdf51bcad90>"
       ]
      }
     ],
     "prompt_number": 12
    },
    {
     "cell_type": "code",
     "collapsed": false,
     "input": [
      "sed = Sed()"
     ],
     "language": "python",
     "metadata": {},
     "outputs": [],
     "prompt_number": 13
    },
    {
     "cell_type": "code",
     "collapsed": false,
     "input": [
      "sedfile = \"exampleSED.dat\"\n",
      "!head \"exampleSED.dat\""
     ],
     "language": "python",
     "metadata": {},
     "outputs": [
      {
       "output_type": "stream",
       "stream": "stdout",
       "text": [
        "#Wavelenght(nm)  F_lambda(ergs/cm^s/s/nm)\r\n",
        "300 0.898159191287\r\n",
        "301 0.904946894766\r\n",
        "302 0.897077642347\r\n",
        "303 0.889208389929\r\n",
        "304 0.884932800596\r\n",
        "305 0.880657211264\r\n",
        "306 0.874868704571\r\n",
        "307 0.869080197879\r\n",
        "308 0.873926650095\r\n"
       ]
      }
     ],
     "prompt_number": 14
    },
    {
     "cell_type": "code",
     "collapsed": false,
     "input": [
      "sed.readSED_flambda(sedfile)"
     ],
     "language": "python",
     "metadata": {},
     "outputs": [],
     "prompt_number": 30
    },
    {
     "cell_type": "code",
     "collapsed": false,
     "input": [
      "sed.flambdaTofnu()"
     ],
     "language": "python",
     "metadata": {},
     "outputs": [],
     "prompt_number": 31
    },
    {
     "cell_type": "code",
     "collapsed": false,
     "input": [
      "sed.wavelen"
     ],
     "language": "python",
     "metadata": {},
     "outputs": [
      {
       "metadata": {},
       "output_type": "pyout",
       "prompt_number": 32,
       "text": [
        "array([  300.,   301.,   302.,   303.,   304.,   305.,   306.,   307.,\n",
        "         308.,   309.,   310.,   311.,   312.,   313.,   314.,   315.,\n",
        "         316.,   317.,   318.,   319.,   320.,   321.,   322.,   323.,\n",
        "         324.,   325.,   326.,   327.,   328.,   329.,   330.,   331.,\n",
        "         332.,   333.,   334.,   335.,   336.,   337.,   338.,   339.,\n",
        "         340.,   341.,   342.,   343.,   344.,   345.,   346.,   347.,\n",
        "         348.,   349.,   350.,   351.,   352.,   353.,   354.,   355.,\n",
        "         356.,   357.,   358.,   359.,   360.,   361.,   362.,   363.,\n",
        "         364.,   365.,   366.,   367.,   368.,   369.,   370.,   371.,\n",
        "         372.,   373.,   374.,   375.,   376.,   377.,   378.,   379.,\n",
        "         380.,   381.,   382.,   383.,   384.,   385.,   386.,   387.,\n",
        "         388.,   389.,   390.,   391.,   392.,   393.,   394.,   395.,\n",
        "         396.,   397.,   398.,   399.,   400.,   401.,   402.,   403.,\n",
        "         404.,   405.,   406.,   407.,   408.,   409.,   410.,   411.,\n",
        "         412.,   413.,   414.,   415.,   416.,   417.,   418.,   419.,\n",
        "         420.,   421.,   422.,   423.,   424.,   425.,   426.,   427.,\n",
        "         428.,   429.,   430.,   431.,   432.,   433.,   434.,   435.,\n",
        "         436.,   437.,   438.,   439.,   440.,   441.,   442.,   443.,\n",
        "         444.,   445.,   446.,   447.,   448.,   449.,   450.,   451.,\n",
        "         452.,   453.,   454.,   455.,   456.,   457.,   458.,   459.,\n",
        "         460.,   461.,   462.,   463.,   464.,   465.,   466.,   467.,\n",
        "         468.,   469.,   470.,   471.,   472.,   473.,   474.,   475.,\n",
        "         476.,   477.,   478.,   479.,   480.,   481.,   482.,   483.,\n",
        "         484.,   485.,   486.,   487.,   488.,   489.,   490.,   491.,\n",
        "         492.,   493.,   494.,   495.,   496.,   497.,   498.,   499.,\n",
        "         500.,   501.,   502.,   503.,   504.,   505.,   506.,   507.,\n",
        "         508.,   509.,   510.,   511.,   512.,   513.,   514.,   515.,\n",
        "         516.,   517.,   518.,   519.,   520.,   521.,   522.,   523.,\n",
        "         524.,   525.,   526.,   527.,   528.,   529.,   530.,   531.,\n",
        "         532.,   533.,   534.,   535.,   536.,   537.,   538.,   539.,\n",
        "         540.,   541.,   542.,   543.,   544.,   545.,   546.,   547.,\n",
        "         548.,   549.,   550.,   551.,   552.,   553.,   554.,   555.,\n",
        "         556.,   557.,   558.,   559.,   560.,   561.,   562.,   563.,\n",
        "         564.,   565.,   566.,   567.,   568.,   569.,   570.,   571.,\n",
        "         572.,   573.,   574.,   575.,   576.,   577.,   578.,   579.,\n",
        "         580.,   581.,   582.,   583.,   584.,   585.,   586.,   587.,\n",
        "         588.,   589.,   590.,   591.,   592.,   593.,   594.,   595.,\n",
        "         596.,   597.,   598.,   599.,   600.,   601.,   602.,   603.,\n",
        "         604.,   605.,   606.,   607.,   608.,   609.,   610.,   611.,\n",
        "         612.,   613.,   614.,   615.,   616.,   617.,   618.,   619.,\n",
        "         620.,   621.,   622.,   623.,   624.,   625.,   626.,   627.,\n",
        "         628.,   629.,   630.,   631.,   632.,   633.,   634.,   635.,\n",
        "         636.,   637.,   638.,   639.,   640.,   641.,   642.,   643.,\n",
        "         644.,   645.,   646.,   647.,   648.,   649.,   650.,   651.,\n",
        "         652.,   653.,   654.,   655.,   656.,   657.,   658.,   659.,\n",
        "         660.,   661.,   662.,   663.,   664.,   665.,   666.,   667.,\n",
        "         668.,   669.,   670.,   671.,   672.,   673.,   674.,   675.,\n",
        "         676.,   677.,   678.,   679.,   680.,   681.,   682.,   683.,\n",
        "         684.,   685.,   686.,   687.,   688.,   689.,   690.,   691.,\n",
        "         692.,   693.,   694.,   695.,   696.,   697.,   698.,   699.,\n",
        "         700.,   701.,   702.,   703.,   704.,   705.,   706.,   707.,\n",
        "         708.,   709.,   710.,   711.,   712.,   713.,   714.,   715.,\n",
        "         716.,   717.,   718.,   719.,   720.,   721.,   722.,   723.,\n",
        "         724.,   725.,   726.,   727.,   728.,   729.,   730.,   731.,\n",
        "         732.,   733.,   734.,   735.,   736.,   737.,   738.,   739.,\n",
        "         740.,   741.,   742.,   743.,   744.,   745.,   746.,   747.,\n",
        "         748.,   749.,   750.,   751.,   752.,   753.,   754.,   755.,\n",
        "         756.,   757.,   758.,   759.,   760.,   761.,   762.,   763.,\n",
        "         764.,   765.,   766.,   767.,   768.,   769.,   770.,   771.,\n",
        "         772.,   773.,   774.,   775.,   776.,   777.,   778.,   779.,\n",
        "         780.,   781.,   782.,   783.,   784.,   785.,   786.,   787.,\n",
        "         788.,   789.,   790.,   791.,   792.,   793.,   794.,   795.,\n",
        "         796.,   797.,   798.,   799.,   800.,   801.,   802.,   803.,\n",
        "         804.,   805.,   806.,   807.,   808.,   809.,   810.,   811.,\n",
        "         812.,   813.,   814.,   815.,   816.,   817.,   818.,   819.,\n",
        "         820.,   821.,   822.,   823.,   824.,   825.,   826.,   827.,\n",
        "         828.,   829.,   830.,   831.,   832.,   833.,   834.,   835.,\n",
        "         836.,   837.,   838.,   839.,   840.,   841.,   842.,   843.,\n",
        "         844.,   845.,   846.,   847.,   848.,   849.,   850.,   851.,\n",
        "         852.,   853.,   854.,   855.,   856.,   857.,   858.,   859.,\n",
        "         860.,   861.,   862.,   863.,   864.,   865.,   866.,   867.,\n",
        "         868.,   869.,   870.,   871.,   872.,   873.,   874.,   875.,\n",
        "         876.,   877.,   878.,   879.,   880.,   881.,   882.,   883.,\n",
        "         884.,   885.,   886.,   887.,   888.,   889.,   890.,   891.,\n",
        "         892.,   893.,   894.,   895.,   896.,   897.,   898.,   899.,\n",
        "         900.,   901.,   902.,   903.,   904.,   905.,   906.,   907.,\n",
        "         908.,   909.,   910.,   911.,   912.,   913.,   914.,   915.,\n",
        "         916.,   917.,   918.,   919.,   920.,   921.,   922.,   923.,\n",
        "         924.,   925.,   926.,   927.,   928.,   929.,   930.,   931.,\n",
        "         932.,   933.,   934.,   935.,   936.,   937.,   938.,   939.,\n",
        "         940.,   941.,   942.,   943.,   944.,   945.,   946.,   947.,\n",
        "         948.,   949.,   950.,   951.,   952.,   953.,   954.,   955.,\n",
        "         956.,   957.,   958.,   959.,   960.,   961.,   962.,   963.,\n",
        "         964.,   965.,   966.,   967.,   968.,   969.,   970.,   971.,\n",
        "         972.,   973.,   974.,   975.,   976.,   977.,   978.,   979.,\n",
        "         980.,   981.,   982.,   983.,   984.,   985.,   986.,   987.,\n",
        "         988.,   989.,   990.,   991.,   992.,   993.,   994.,   995.,\n",
        "         996.,   997.,   998.,   999.,  1000.,  1001.,  1002.,  1003.,\n",
        "        1004.,  1005.,  1006.,  1007.,  1008.,  1009.,  1010.,  1011.,\n",
        "        1012.,  1013.,  1014.,  1015.,  1016.,  1017.,  1018.,  1019.,\n",
        "        1020.,  1021.,  1022.,  1023.,  1024.,  1025.,  1026.,  1027.,\n",
        "        1028.,  1029.,  1030.,  1031.,  1032.,  1033.,  1034.,  1035.,\n",
        "        1036.,  1037.,  1038.,  1039.,  1040.,  1041.,  1042.,  1043.,\n",
        "        1044.,  1045.,  1046.,  1047.,  1048.,  1049.,  1050.,  1051.,\n",
        "        1052.,  1053.,  1054.,  1055.,  1056.,  1057.,  1058.,  1059.,\n",
        "        1060.,  1061.,  1062.,  1063.,  1064.,  1065.,  1066.,  1067.,\n",
        "        1068.,  1069.,  1070.,  1071.,  1072.,  1073.,  1074.,  1075.,\n",
        "        1076.,  1077.,  1078.,  1079.,  1080.,  1081.,  1082.,  1083.,\n",
        "        1084.,  1085.,  1086.,  1087.,  1088.,  1089.,  1090.,  1091.,\n",
        "        1092.,  1093.,  1094.,  1095.,  1096.,  1097.,  1098.,  1099.,\n",
        "        1100.,  1101.,  1102.,  1103.,  1104.,  1105.,  1106.,  1107.,\n",
        "        1108.,  1109.,  1110.,  1111.,  1112.,  1113.,  1114.,  1115.,\n",
        "        1116.,  1117.,  1118.,  1119.,  1120.,  1121.,  1122.,  1123.,\n",
        "        1124.,  1125.,  1126.,  1127.,  1128.,  1129.,  1130.,  1131.,\n",
        "        1132.,  1133.,  1134.,  1135.,  1136.,  1137.,  1138.,  1139.,\n",
        "        1140.,  1141.,  1142.,  1143.,  1144.,  1145.,  1146.,  1147.,\n",
        "        1148.,  1149.,  1150.,  1151.,  1152.,  1153.,  1154.,  1155.,\n",
        "        1156.,  1157.,  1158.,  1159.,  1160.,  1161.,  1162.,  1163.,\n",
        "        1164.,  1165.,  1166.,  1167.,  1168.,  1169.,  1170.,  1171.,\n",
        "        1172.,  1173.,  1174.,  1175.,  1176.,  1177.,  1178.,  1179.,\n",
        "        1180.,  1181.,  1182.,  1183.,  1184.,  1185.,  1186.,  1187.,\n",
        "        1188.,  1189.,  1190.,  1191.,  1192.,  1193.,  1194.,  1195.,\n",
        "        1196.,  1197.,  1198.,  1199.,  1200.])"
       ]
      }
     ],
     "prompt_number": 32
    },
    {
     "cell_type": "code",
     "collapsed": false,
     "input": [
      "rband.wavelen"
     ],
     "language": "python",
     "metadata": {},
     "outputs": [
      {
       "metadata": {},
       "output_type": "pyout",
       "prompt_number": 33,
       "text": [
        "array([  300.,   305.,   310.,   315.,   320.,   325.,   330.,   335.,\n",
        "         340.,   345.,   350.,   355.,   360.,   365.,   370.,   375.,\n",
        "         380.,   385.,   390.,   395.,   400.,   405.,   410.,   415.,\n",
        "         420.,   425.,   430.,   435.,   440.,   445.,   450.,   455.,\n",
        "         460.,   465.,   470.,   475.,   480.,   485.,   490.,   495.,\n",
        "         500.,   505.,   510.,   515.,   520.,   525.,   530.,   535.,\n",
        "         540.,   545.,   550.,   555.,   560.,   565.,   570.,   575.,\n",
        "         580.,   585.,   590.,   595.,   600.,   605.,   610.,   615.,\n",
        "         620.,   625.,   630.,   635.,   640.,   645.,   650.,   655.,\n",
        "         660.,   665.,   670.,   675.,   680.,   685.,   690.,   695.,\n",
        "         700.,   705.,   710.,   715.,   720.,   725.,   730.,   735.,\n",
        "         740.,   745.,   750.,   755.,   760.,   765.,   770.,   775.,\n",
        "         780.,   785.,   790.,   795.,   800.,   805.,   810.,   815.,\n",
        "         820.,   825.,   830.,   835.,   840.,   845.,   850.,   855.,\n",
        "         860.,   865.,   870.,   875.,   880.,   885.,   890.,   895.,\n",
        "         900.,   905.,   910.,   915.,   920.,   925.,   930.,   935.,\n",
        "         940.,   945.,   950.,   955.,   960.,   965.,   970.,   975.,\n",
        "         980.,   985.,   990.,   995.,  1000.,  1005.,  1010.,  1015.,\n",
        "        1020.,  1025.,  1030.,  1035.,  1040.,  1045.,  1050.,  1055.,\n",
        "        1060.,  1065.,  1070.,  1075.,  1080.,  1085.,  1090.,  1095.,\n",
        "        1100.,  1105.,  1110.,  1115.,  1120.,  1125.,  1130.,  1135.,\n",
        "        1140.,  1145.,  1150.])"
       ]
      }
     ],
     "prompt_number": 33
    },
    {
     "cell_type": "code",
     "collapsed": false,
     "input": [
      "sed.calcFlux(rband)"
     ],
     "language": "python",
     "metadata": {},
     "outputs": [
      {
       "metadata": {},
       "output_type": "pyout",
       "prompt_number": 19,
       "text": [
        "66423453600.476837"
       ]
      }
     ],
     "prompt_number": 19
    },
    {
     "cell_type": "code",
     "collapsed": false,
     "input": [
      "sed.calcMag(bandpass = rband)"
     ],
     "language": "python",
     "metadata": {},
     "outputs": [
      {
       "metadata": {},
       "output_type": "pyout",
       "prompt_number": 20,
       "text": [
        "-18.155738008773302"
       ]
      }
     ],
     "prompt_number": 20
    },
    {
     "cell_type": "code",
     "collapsed": false,
     "input": [
      "? sed.addCCMDust()"
     ],
     "language": "python",
     "metadata": {},
     "outputs": [],
     "prompt_number": 23
    },
    {
     "cell_type": "code",
     "collapsed": false,
     "input": [
      "sed.calcMag(bandpass = rband)"
     ],
     "language": "python",
     "metadata": {},
     "outputs": [
      {
       "metadata": {},
       "output_type": "pyout",
       "prompt_number": 28,
       "text": [
        "-18.155738008773302"
       ]
      }
     ],
     "prompt_number": 28
    },
    {
     "cell_type": "code",
     "collapsed": false,
     "input": [
      "ax, bx = sed.setupCCMab()"
     ],
     "language": "python",
     "metadata": {},
     "outputs": [],
     "prompt_number": 25
    },
    {
     "cell_type": "code",
     "collapsed": false,
     "input": [
      "sed.redshiftSED(redshift=0.02, dimming=True)"
     ],
     "language": "python",
     "metadata": {},
     "outputs": [],
     "prompt_number": 22
    },
    {
     "cell_type": "code",
     "collapsed": false,
     "input": [
      "?EBV.EBVmixin.calculateEbv()"
     ],
     "language": "python",
     "metadata": {},
     "outputs": [],
     "prompt_number": 28
    },
    {
     "cell_type": "code",
     "collapsed": false,
     "input": [
      "sed.addCCMDust(a_x=ax, b_x=bx, )"
     ],
     "language": "python",
     "metadata": {},
     "outputs": []
    },
    {
     "cell_type": "code",
     "collapsed": false,
     "input": [
      "sed.calcMag(bandpass=rband)"
     ],
     "language": "python",
     "metadata": {},
     "outputs": [
      {
       "output_type": "stream",
       "stream": "stderr",
       "text": [
        "There is an area of non-overlap between desired wavelength range (300.00 to 1150.00) and sed exampleSED.dat (306.00 to 1224)\n"
       ]
      },
      {
       "metadata": {},
       "output_type": "pyout",
       "prompt_number": 29,
       "text": [
        "nan"
       ]
      }
     ],
     "prompt_number": 29
    },
    {
     "cell_type": "code",
     "collapsed": false,
     "input": [
      "plt.plot(rband.wavelen, rband.sb,'-')\n",
      "plt.yscale('log')\n",
      "plt.ylim(ymin = 1.e-6)"
     ],
     "language": "python",
     "metadata": {},
     "outputs": [
      {
       "metadata": {},
       "output_type": "pyout",
       "prompt_number": 34,
       "text": [
        "(1e-06, 1.0)"
       ]
      },
      {
       "metadata": {},
       "output_type": "display_data",
       "png": "[encoded data removed]",
       "text": [
        "<matplotlib.figure.Figure at 0x7fdf51a7dfd0>"
       ]
      }
     ],
     "prompt_number": 34
    },
    {
     "cell_type": "code",
     "collapsed": false,
     "input": [],
     "language": "python",
     "metadata": {},
     "outputs": []
    },
    {
     "cell_type": "code",
     "collapsed": false,
     "input": [
      "!echo $THROUGHPUTS_DIR"
     ],
     "language": "python",
     "metadata": {},
     "outputs": [
      {
       "output_type": "stream",
       "stream": "stdout",
       "text": [
        "/astro/apps6/opt/lsstStacks/lsst_Summer14/Linux64/throughputs/master-ga6e2efc0c9\r\n"
       ]
      }
     ],
     "prompt_number": 35
    },
    {
     "cell_type": "code",
     "collapsed": false,
     "input": [
      "!ls $THROUGHPUTS_DIR/baseline/"
     ],
     "language": "python",
     "metadata": {},
     "outputs": [
      {
       "output_type": "stream",
       "stream": "stdout",
       "text": [
        "atmos_10.dat\t     filter_y3.dat\t m1_ProtAl_Ideal.dat  README\r\n",
        "atmos.dat\t     filter_y4.dat\t m2.dat\t\t      total_g.dat\r\n",
        "atmos_std.dat\t     filter_y.dat\t m2_ProtAlAg.dat      total_i.dat\r\n",
        "darksky.dat\t     filter_z.dat\t m2_ProtAl_Aged.dat   total_r.dat\r\n",
        "detector_120227.dat  lens1.dat\t\t m2_ProtAl_Ideal.dat  total_u.dat\r\n",
        "detector.dat\t     lens2.dat\t\t m3.dat\t\t      total_y3.dat\r\n",
        "filter_g.dat\t     lens3.dat\t\t m3_ProtAlAg.dat      total_y4.dat\r\n",
        "filter_i.dat\t     m1.dat\t\t m3_ProtAl_Aged.dat   total_y.dat\r\n",
        "filter_r.dat\t     m1_ProtAlAg.dat\t m3_ProtAl_Ideal.dat  total_z.dat\r\n",
        "filter_u.dat\t     m1_ProtAl_Aged.dat  make_total.py\r\n"
       ]
      }
     ],
     "prompt_number": 36
    },
    {
     "cell_type": "code",
     "collapsed": false,
     "input": [],
     "language": "python",
     "metadata": {},
     "outputs": []
    }
   ],
   "metadata": {}
  }
 ]
}