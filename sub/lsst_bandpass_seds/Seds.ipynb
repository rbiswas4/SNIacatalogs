{
 "metadata": {
  "name": "",
  "signature": "sha256:b79a7d42ec5d7c4ccad4cca32ab3df6d908e752169bd9b1211daa70e08b7047b"
 },
 "nbformat": 3,
 "nbformat_minor": 0,
 "worksheets": [
  {
   "cells": [
    {
     "cell_type": "heading",
     "level": 1,
     "metadata": {},
     "source": [
      "Using SNCosmo source spectra with LSST Throughputs"
     ]
    },
    {
     "cell_type": "markdown",
     "metadata": {},
     "source": [
      "sed - \n",
      "\n",
      "Class data: \n",
      "wavelen (nm)\n",
      "flambda (ergs/cm^s/s/nm)\n",
      "fnu (Jansky)\n",
      "zp  (basically translates to units of fnu = -8.9 (if Janskys) or 48.6 (ergs/cm^2/s/hz))\n",
      "the name of the sed file \n",
      "\n",
      "It is important to note the units are NANOMETERS, not ANGSTROMS. It is possible to rig this so you can\n",
      "use angstroms instead of nm, but you should know what you're doing and understand the wavelength grid\n",
      "limits applied here and in Bandpass.py.\n",
      "\n",
      "Methods: \n",
      " Because of how these methods will be applied for catalog generation, (taking one base SED and then \n",
      "  applying various dust extinctions and redshifts), many of the methods will either work on,\n",
      "  and update self, OR they can be given a set of lambda/flambda arrays and then will return \n",
      "  new versions of these arrays. In general, the methods will not explicitly set flambda or fnu to\n",
      "  something you (the user) did not specify - so, for example, when calculating magnitudes (which depend on\n",
      "  a wavelength/fnu gridded to match the given bandpass) the wavelength and fnu used are temporary copies\n",
      "  and the object itself is not changed. \n",
      " In general, the philosophy of Sed.py is to not define the wavelength grid for the object until necessary\n",
      "  (so, not until needed for the magnitude calculation or resampleSED is called). At that time the min/max/step\n",
      "  wavelengths or the bandpass wavelengths are used to define a new wavelength grid for the sed object. \n",
      " When considering whether to use the internal wavelen/flambda (self) values, versus input values:\n",
      "  For consistency, anytime self.wavelen/flambda is used, it will be updated if the values are changed\n",
      "  (except in the special case of calculating magnitudes), and if self.wavelen/flambda is updated, \n",
      "  self.fnu will be set to None. This is because many operations are typically chained together\n",
      "  which alter flambda -- so it is more efficient to wait and recalculate fnu at the end, plus it avoids possible\n",
      "  de-synchronization errors (flambda reflecting the addition of dust while fnu does not, for example). \n",
      "  If arrays are passed into a method, they will not be altered and the arrays which are returned will be\n",
      "  allocated new memory.\n",
      " Another general philosophy for Sed.py is use separate methods for items which only need to be generated once\n",
      "  for several objects (such as the dust A_x, b_x arrays). This allows the user to optimize their code for\n",
      "  faster operation, depending on what their requirements are (see example_SedBandpass_star.py and\n",
      "  exampleSedBandpass_galaxy for examples). \n",
      " \n",
      "Method include: \n",
      "  setSED / setFlatSED / readSED_flambda / readSED_fnu -- to input information into Sed wavelen/flambda.\n",
      "  getSED_flambda / getSED_fnu -- to return wavelen / flambda or fnu to the user.\n",
      "  clearSED -- set everything to 0.\n",
      "  synchronizeSED -- to calculate wavelen/flambda/fnu on the desired grid and calculate fnu.\n",
      "  _checkUseSelf/needResample -- not expected to be useful to the user, rather intended for internal use.\n",
      "  resampleSED -- primarily internal use, but may be useful to user. Resamples SED onto specified grid.\n",
      "  flambdaTofnu / fnuToflambda -- conversion methods, does not affect wavelen gridding.\n",
      "  redshiftSED -- redshifts the SED, optionally adding dimmingx\n",
      "  setupCCMab / addCCMDust -- separated into two components, so that a_x/b_x can be reused between SEDS\n",
      "if the wavelength range and grid is the same for each SED (calculate a_x/b_x with setupCCMab).\n",
      "  addIGMattenuation -- attempt to generate intergalactic dust (but didn't really work)\n",
      "  multiplySED -- multiply two SEDS together.\n",
      "  calcADU / calcMag / calcFlux -- with a Bandpass, calculate the ADU/magnitude/flux of a SED.\n",
      "  calcFluxNorm / multiplyFluxNorm -- handle fluxnorm parameters (from UW LSST database) properly. These \n",
      "methods are intended to give a user an easy way to scale an SED to match an expected magnitude. \n",
      "  renormalizeSED  -- intended for rescaling SEDS to a common flambda or fnu level. \n",
      "  writeSED -- keep a file record of your SED. \n",
      "  calcSNR_psf / calcSNR_mag -- two methods to calculate the SNR of a SED. (_psf is more accurate, but \n",
      "requires knowing the sky count backgrounds. _mag assumes you know the m5 already). \n",
      "  calcMagError / calcAstrometricError -- calculated based on SciBook values, but just estimates.\n",
      "  setPhiArray -- given a list of bandpasses, sets up the 2-d phiArray (for manyMagCalc) and dlambda value.\n",
      "  manyMagCalc -- given 2-d phiArray and dlambda, this will return an array of magnitudes (in the same \n",
      "order as the bandpasses) of this SED in each of those bandpasses. \n",
      "\n",
      "\"\"\"\n"
     ]
    },
    {
     "cell_type": "code",
     "collapsed": false,
     "input": [
      "import numpy as np\n",
      "%matplotlib inline\n",
      "import matplotlib.pyplot as plt\n",
      "import sncosmo\n",
      "import os,sys\n",
      "from astropy.units import Unit"
     ],
     "language": "python",
     "metadata": {},
     "outputs": [],
     "prompt_number": 43
    },
    {
     "cell_type": "code",
     "collapsed": false,
     "input": [
      "from lsst.sims.photUtils import Sed"
     ],
     "language": "python",
     "metadata": {},
     "outputs": [],
     "prompt_number": 110
    },
    {
     "cell_type": "code",
     "collapsed": false,
     "input": [
      "#ingest the SNIa catalog created in the src directory and copied to current directory\n",
      "SNCatalog =  np.loadtxt(\"SNIaCat.txt\", delimiter=\", \")"
     ],
     "language": "python",
     "metadata": {},
     "outputs": [],
     "prompt_number": 4
    },
    {
     "cell_type": "code",
     "collapsed": false,
     "input": [
      "!head \"SNIaCat.txt\""
     ],
     "language": "python",
     "metadata": {},
     "outputs": [
      {
       "output_type": "stream",
       "stream": "stdout",
       "text": [
        "#snid, snra, sndec, z, t0, c, x1, x0\r\n",
        "2045958, 8.533871e-02, 2.607300e-01, 1.9977, 570089.8790, 5.355234e-02, -3.6435, 2.758894e-07\r\n",
        "8262425, 8.890447e-02, 2.636638e-01, 1.0227, 570057.7005, -3.701349e-01, 3.8946, 1.594049e-06\r\n",
        "15953230, 8.515362e-02, 2.607274e-01, 0.2338, 570138.3565, 6.388533e-01, 0.2007, 5.537357e-05\r\n",
        "17081836, 8.944301e-02, 2.632862e-01, 2.1173, 570139.3507, 2.558385e-01, 4.4156, 2.496820e-07\r\n",
        "13528742, 8.572480e-02, 2.604360e-01, 1.1066, 570148.8763, -2.844646e-01, -0.7448, 1.509731e-06\r\n",
        "2442775, 8.573487e-02, 2.605085e-01, 3.0565, 570131.1740, -1.608110e-01, -1.6251, 1.522843e-07\r\n",
        "16310453, 8.570951e-02, 2.605275e-01, 1.8089, 570131.8574, -3.931438e-01, -5.1409, 3.771904e-07\r\n",
        "10155700, 8.907952e-02, 2.624292e-01, 1.1468, 570083.8227, 2.934688e-01, 2.9835, 1.332585e-06\r\n",
        "9045229, 8.567788e-02, 2.602966e-01, 2.0960, 570044.1736, -1.759554e-02, -4.1468, 2.920194e-07\r\n"
       ]
      }
     ],
     "prompt_number": 5
    },
    {
     "cell_type": "code",
     "collapsed": false,
     "input": [
      "Salt2Model =  sncosmo.Model(source=\"salt2\")\n",
      "Salt2ExModel = sncosmo.Model(source=\"salt2-extended\")"
     ],
     "language": "python",
     "metadata": {},
     "outputs": [],
     "prompt_number": 75
    },
    {
     "cell_type": "code",
     "collapsed": false,
     "input": [
      "print Salt2ExModel"
     ],
     "language": "python",
     "metadata": {},
     "outputs": [
      {
       "output_type": "stream",
       "stream": "stdout",
       "text": [
        "<Model at 0x7f1455fdeb50>\n",
        "source:\n",
        "  class      : SALT2Source\n",
        "  name       : 'salt2-extended'\n",
        "  version    : 1.0\n",
        "  phases     : [-20, .., 50] days\n",
        "  wavelengths: [300, .., 18000] Angstroms\n",
        "parameters:\n",
        "  z  = 0.0\n",
        "  t0 = 0.0\n",
        "  x0 = 1.0\n",
        "  x1 = 0.0\n",
        "  c  = 0.0\n"
       ]
      }
     ],
     "prompt_number": 7
    },
    {
     "cell_type": "code",
     "collapsed": false,
     "input": [
      "print Salt2Model"
     ],
     "language": "python",
     "metadata": {},
     "outputs": [
      {
       "output_type": "stream",
       "stream": "stdout",
       "text": [
        "<Model at 0x7f1455fdeb10>\n",
        "source:\n",
        "  class      : SALT2Source\n",
        "  name       : 'salt2'\n",
        "  version    : 2.4\n",
        "  phases     : [-20, .., 50] days\n",
        "  wavelengths: [2000, .., 9200] Angstroms\n",
        "parameters:\n",
        "  z  = 0.0\n",
        "  t0 = 0.0\n",
        "  x0 = 1.0\n",
        "  x1 = 0.0\n",
        "  c  = 0.0\n"
       ]
      }
     ],
     "prompt_number": 8
    },
    {
     "cell_type": "markdown",
     "metadata": {},
     "source": [
      "Clearly, the SALT2 model encompasses a smaller rest frame wavelength range than the SALT2ExModel. The SALT2ExModel was created for this very purpose, but actually I don't know much about the validity of the model. Also, the SALT2ExModel was based on G10 SALT2 model, and has not been updated to our B14 version. Here, we will only play with the SALT2ExModel. We will ask questions about what to do with the SALT2 model later. "
     ]
    },
    {
     "cell_type": "code",
     "collapsed": false,
     "input": [
      "sn = SNCatalog[0]\n",
      "params = {'x0': sn[-1], 'x1': sn[-2], 'c': sn[-3], 't0': sn[-4], 'z': sn[-5]}"
     ],
     "language": "python",
     "metadata": {},
     "outputs": [],
     "prompt_number": 13
    },
    {
     "cell_type": "code",
     "collapsed": false,
     "input": [
      "Salt2ExModel.set(**params)"
     ],
     "language": "python",
     "metadata": {},
     "outputs": [],
     "prompt_number": 79
    },
    {
     "cell_type": "code",
     "collapsed": false,
     "input": [
      "print Salt2ExModel"
     ],
     "language": "python",
     "metadata": {},
     "outputs": [
      {
       "output_type": "stream",
       "stream": "stdout",
       "text": [
        "<Model at 0x7f1454f8e590>\n",
        "source:\n",
        "  class      : SALT2Source\n",
        "  name       : 'salt2-extended'\n",
        "  version    : 1.0\n",
        "  phases     : [-20, .., 50] days\n",
        "  wavelengths: [300, .., 18000] Angstroms\n",
        "parameters:\n",
        "  z  = 1.9977\n",
        "  t0 = 570089.87899999996\n",
        "  x0 = 2.7588940000000001e-07\n",
        "  x1 = -3.6435\n",
        "  c  = 0.053552339999999997\n"
       ]
      }
     ],
     "prompt_number": 80
    },
    {
     "cell_type": "code",
     "collapsed": false,
     "input": [
      "import lsst.sims.photUtils.Bandpass as Bandpass"
     ],
     "language": "python",
     "metadata": {},
     "outputs": [],
     "prompt_number": 95
    },
    {
     "cell_type": "code",
     "collapsed": false,
     "input": [
      "uband = Bandpass()\n",
      "gband = Bandpass()\n",
      "rband = Bandpass()\n",
      "iband = Bandpass()\n",
      "zband = Bandpass()\n",
      "lsstbands = [uband, gband, rband, iband, zband]"
     ],
     "language": "python",
     "metadata": {},
     "outputs": [],
     "prompt_number": 96
    },
    {
     "cell_type": "code",
     "collapsed": false,
     "input": [
      "# Read the LSST bandpass definitions and register them\n",
      "banddir = os.path.join(os.getenv('THROUGHPUTS_DIR'), 'baseline')\n",
      "for i,name in enumerate(['u','g', 'r', 'i', 'z']):\n",
      "    filename = os.path.join(banddir, \"total_\"+name + '.dat')\n",
      "    band = sncosmo.read_bandpass(filename, name='LSST' + name, wave_unit=Unit('nm'))\n",
      "    #setup LSST bandpass objects\n",
      "    lsstbands[i].readThroughput(filename)\n",
      "    #register sncosmo bandpasses\n",
      "    sncosmo.registry.register(band, force=True)"
     ],
     "language": "python",
     "metadata": {},
     "outputs": [],
     "prompt_number": 99
    },
    {
     "cell_type": "code",
     "collapsed": false,
     "input": [
      "Salt2ExModel.bandmag(band=['LSSTu','LSSTg', 'LSSTr', 'LSSTi','LSSTz'], time=570089, magsys='ab')"
     ],
     "language": "python",
     "metadata": {},
     "outputs": [
      {
       "metadata": {},
       "output_type": "pyout",
       "prompt_number": 40,
       "text": [
        "array([ 35.19182209,  32.94328808,  32.11606927,          nan,  28.94093385])"
       ]
      }
     ],
     "prompt_number": 40
    },
    {
     "cell_type": "code",
     "collapsed": false,
     "input": [
      "z = sncosmo.get_bandpass('LSSTz')\n",
      "i = sncosmo.get_bandpass('LSSTi')\n",
      "r = sncosmo.get_bandpass('LSSTr')\n",
      "g = sncosmo.get_bandpass('LSSTg')\n",
      "u = sncosmo.get_bandpass('LSSTu')"
     ],
     "language": "python",
     "metadata": {},
     "outputs": [],
     "prompt_number": 71
    },
    {
     "cell_type": "code",
     "collapsed": false,
     "input": [
      "plt.plot(z.wave, z.trans)\n",
      "plt.plot(i.wave, i.trans)\n",
      "plt.plot(r.wave, r.trans)\n",
      "plt.plot(g.wave, g.trans)\n",
      "plt.plot(u.wave, u.trans)"
     ],
     "language": "python",
     "metadata": {},
     "outputs": [
      {
       "metadata": {},
       "output_type": "pyout",
       "prompt_number": 72,
       "text": [
        "[<matplotlib.lines.Line2D at 0x7f145697e190>]"
       ]
      },
      {
       "metadata": {},
       "output_type": "display_data",
       "png": "[encoded data removed]",
       "text": [
        "<matplotlib.figure.Figure at 0x7f1455a51890>"
       ]
      }
     ],
     "prompt_number": 72
    },
    {
     "cell_type": "code",
     "collapsed": false,
     "input": [
      "u.wave.min()"
     ],
     "language": "python",
     "metadata": {},
     "outputs": [
      {
       "metadata": {},
       "output_type": "pyout",
       "prompt_number": 49,
       "text": [
        "2999.9999999999995"
       ]
      }
     ],
     "prompt_number": 49
    },
    {
     "cell_type": "code",
     "collapsed": false,
     "input": [
      "i.wave.min()"
     ],
     "language": "python",
     "metadata": {},
     "outputs": [
      {
       "metadata": {},
       "output_type": "pyout",
       "prompt_number": 50,
       "text": [
        "2999.9999999999995"
       ]
      }
     ],
     "prompt_number": 50
    },
    {
     "cell_type": "code",
     "collapsed": false,
     "input": [
      "i.wave.max()"
     ],
     "language": "python",
     "metadata": {},
     "outputs": [
      {
       "metadata": {},
       "output_type": "pyout",
       "prompt_number": 51,
       "text": [
        "11999.999999999998"
       ]
      }
     ],
     "prompt_number": 51
    },
    {
     "cell_type": "code",
     "collapsed": false,
     "input": [
      "z.wave.max()"
     ],
     "language": "python",
     "metadata": {},
     "outputs": [
      {
       "metadata": {},
       "output_type": "pyout",
       "prompt_number": 52,
       "text": [
        "11999.999999999998"
       ]
      }
     ],
     "prompt_number": 52
    },
    {
     "cell_type": "code",
     "collapsed": false,
     "input": [
      "Salt2ExModel.bandmag(band='LSSTi', time=570089, magsys='ab')"
     ],
     "language": "python",
     "metadata": {},
     "outputs": [
      {
       "metadata": {},
       "output_type": "pyout",
       "prompt_number": 53,
       "text": [
        "nan"
       ]
      }
     ],
     "prompt_number": 53
    },
    {
     "cell_type": "code",
     "collapsed": false,
     "input": [
      "Salt2ExModel.bandflux(band='LSSTi', time=570089)"
     ],
     "language": "python",
     "metadata": {},
     "outputs": [
      {
       "metadata": {},
       "output_type": "pyout",
       "prompt_number": 59,
       "text": [
        "-1.879169692029749e-07"
       ]
      }
     ],
     "prompt_number": 59
    },
    {
     "cell_type": "code",
     "collapsed": false,
     "input": [
      "Salt2ExModel.bandoverlap(band=['LSSTz','LSSTi','LSSTu'], z=2.0)"
     ],
     "language": "python",
     "metadata": {},
     "outputs": [
      {
       "metadata": {},
       "output_type": "pyout",
       "prompt_number": 57,
       "text": [
        "array([ True,  True,  True], dtype=bool)"
       ]
      }
     ],
     "prompt_number": 57
    },
    {
     "cell_type": "code",
     "collapsed": false,
     "input": [
      "Salt2ExModel.bandflux(band=['LSSTz','LSSTi','LSSTu'], time=570089)"
     ],
     "language": "python",
     "metadata": {},
     "outputs": [
      {
       "metadata": {},
       "output_type": "pyout",
       "prompt_number": 60,
       "text": [
        "array([  9.10200589e-07,  -1.87916969e-07,   2.44267627e-09])"
       ]
      }
     ],
     "prompt_number": 60
    },
    {
     "cell_type": "code",
     "collapsed": false,
     "input": [
      "Salt2ExModel.bandmag(band=['LSSTz','LSSTi','LSSTu'], time = 570089., magsys='ab')"
     ],
     "language": "python",
     "metadata": {},
     "outputs": [
      {
       "metadata": {},
       "output_type": "pyout",
       "prompt_number": 62,
       "text": [
        "array([ 28.94093385,          nan,  35.19182209])"
       ]
      }
     ],
     "prompt_number": 62
    },
    {
     "cell_type": "code",
     "collapsed": false,
     "input": [
      "np.any (i.wave <=0.)"
     ],
     "language": "python",
     "metadata": {},
     "outputs": [
      {
       "metadata": {},
       "output_type": "pyout",
       "prompt_number": 67,
       "text": [
        "False"
       ]
      }
     ],
     "prompt_number": 67
    },
    {
     "cell_type": "code",
     "collapsed": false,
     "input": [
      "source =  Salt2ExModel.source"
     ],
     "language": "python",
     "metadata": {},
     "outputs": [],
     "prompt_number": 73
    },
    {
     "cell_type": "code",
     "collapsed": false,
     "input": [
      "phase =  (570089 - Salt2ExModel.get('t0'))/(1. + Salt2ExModel.get('z'))"
     ],
     "language": "python",
     "metadata": {},
     "outputs": [],
     "prompt_number": 83
    },
    {
     "cell_type": "code",
     "collapsed": false,
     "input": [
      "f = source.flux(phase, wave = z.wave)"
     ],
     "language": "python",
     "metadata": {},
     "outputs": [],
     "prompt_number": 90
    },
    {
     "cell_type": "code",
     "collapsed": false,
     "input": [
      "plt.plot(i.wave, f)"
     ],
     "language": "python",
     "metadata": {},
     "outputs": [
      {
       "metadata": {},
       "output_type": "pyout",
       "prompt_number": 91,
       "text": [
        "[<matplotlib.lines.Line2D at 0x7f1455344d90>]"
       ]
      },
      {
       "metadata": {},
       "output_type": "display_data",
       "png": "[encoded data removed]",
       "text": [
        "<matplotlib.figure.Figure at 0x7f1454d1a450>"
       ]
      }
     ],
     "prompt_number": 91
    },
    {
     "cell_type": "code",
     "collapsed": false,
     "input": [
      "rband  =  Bandpass()\n",
      "rband.readThroughput()"
     ],
     "language": "python",
     "metadata": {},
     "outputs": []
    },
    {
     "cell_type": "code",
     "collapsed": false,
     "input": [
      "sed = Sed()\n",
      "SEDfromSNcosmo = Sed()\n",
      "csed = Sed()"
     ],
     "language": "python",
     "metadata": {},
     "outputs": [],
     "prompt_number": 126
    },
    {
     "cell_type": "code",
     "collapsed": false,
     "input": [
      "sed.setSED(wavelen=z.wave/10., flambda=f*10.)\n",
      "csed.setSED(wavelen=z.wave/10., flambda=f*10.)\n",
      "SEDfromSNcosmo.setSED(wavelen=z.wave/10., flambda=f*10.)"
     ],
     "language": "python",
     "metadata": {},
     "outputs": [],
     "prompt_number": 127
    },
    {
     "cell_type": "code",
     "collapsed": false,
     "input": [
      "def showplots(factor=1.):\n",
      "    plt.plot(sed.wavelen, sed.flambda, label='sed')\n",
      "    plt.plot(SEDfromSNcosmo.wavelen, SEDfromSNcosmo.flambda, label='sncosmo')\n",
      "    plt.plot(csed.wavelen, csed.flambda*factor, label='csed')\n",
      "    plt.legend(loc='best')"
     ],
     "language": "python",
     "metadata": {},
     "outputs": [],
     "prompt_number": 130
    },
    {
     "cell_type": "code",
     "collapsed": false,
     "input": [
      "sed.redshiftSED(redshift=Salt2ExModel.get('z'))\n",
      "csed.redshiftSED(redshift=Salt2ExModel.get('z'),dimming=True)\n",
      "showplots()"
     ],
     "language": "python",
     "metadata": {},
     "outputs": [
      {
       "metadata": {},
       "output_type": "display_data",
       "png": "[encoded data removed]",
       "text": [
        "<matplotlib.figure.Figure at 0x7f14550d3050>"
       ]
      }
     ],
     "prompt_number": 129
    },
    {
     "cell_type": "code",
     "collapsed": false,
     "input": [
      "showplots(3.)\n",
      "plt.plot(z.wave/10., Salt2ExModel.flux(time = 570089, wave = z.wave)*10.)"
     ],
     "language": "python",
     "metadata": {},
     "outputs": [
      {
       "metadata": {},
       "output_type": "pyout",
       "prompt_number": 137,
       "text": [
        "[<matplotlib.lines.Line2D at 0x7f14559a2710>]"
       ]
      },
      {
       "metadata": {},
       "output_type": "display_data",
       "png": "[encoded data removed]",
       "text": [
        "<matplotlib.figure.Figure at 0x7f1454896d10>"
       ]
      }
     ],
     "prompt_number": 137
    },
    {
     "cell_type": "code",
     "collapsed": false,
     "input": [
      "plt.plot(sed.wavelen, sed.flambda)"
     ],
     "language": "python",
     "metadata": {},
     "outputs": [
      {
       "metadata": {},
       "output_type": "pyout",
       "prompt_number": 107,
       "text": [
        "[<matplotlib.lines.Line2D at 0x7f1455146710>]"
       ]
      },
      {
       "metadata": {},
       "output_type": "display_data",
       "png": "[encoded data removed]",
       "text": [
        "<matplotlib.figure.Figure at 0x7f1455b740d0>"
       ]
      }
     ],
     "prompt_number": 107
    },
    {
     "cell_type": "code",
     "collapsed": false,
     "input": [
      "sed.calcMag(bandpass=zband)"
     ],
     "language": "python",
     "metadata": {},
     "outputs": [
      {
       "metadata": {},
       "output_type": "pyout",
       "prompt_number": 100,
       "text": [
        "11.281939329584418"
       ]
      }
     ],
     "prompt_number": 100
    },
    {
     "cell_type": "code",
     "collapsed": false,
     "input": [
      "Salt2ExModel.source.bandmag(phase=phase,band='LSSTz', magsys='ab')"
     ],
     "language": "python",
     "metadata": {},
     "outputs": [
      {
       "metadata": {},
       "output_type": "pyout",
       "prompt_number": 103,
       "text": [
        "27.64137853299081"
       ]
      }
     ],
     "prompt_number": 103
    },
    {
     "cell_type": "code",
     "collapsed": false,
     "input": [
      "Salt2ExModel.bandmag(time=570089.,band='LSSTz', magsys='ab')"
     ],
     "language": "python",
     "metadata": {},
     "outputs": [
      {
       "metadata": {},
       "output_type": "pyout",
       "prompt_number": 104,
       "text": [
        "28.940933852355222"
       ]
      }
     ],
     "prompt_number": 104
    },
    {
     "cell_type": "code",
     "collapsed": false,
     "input": [],
     "language": "python",
     "metadata": {},
     "outputs": []
    }
   ],
   "metadata": {}
  }
 ]
}