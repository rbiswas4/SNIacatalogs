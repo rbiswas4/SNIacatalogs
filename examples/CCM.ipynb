{
 "metadata": {
  "name": "",
  "signature": "sha256:89a73006f2caad4324dabe2ce4bb5e05b85c185b46a5bdb3ce2a617a5565e15a"
 },
 "nbformat": 3,
 "nbformat_minor": 0,
 "worksheets": [
  {
   "cells": [
    {
     "cell_type": "code",
     "collapsed": false,
     "input": [
      "from astropy import units as u\n",
      "import numpy as np\n",
      "from lsst.sims.photUtils import Sed\n",
      "%matplotlib inline\n",
      "import matplotlib.pyplot as plt\n",
      "from bbutils import plotutils as pu"
     ],
     "language": "python",
     "metadata": {},
     "outputs": [],
     "prompt_number": 1
    },
    {
     "cell_type": "code",
     "collapsed": false,
     "input": [
      "def coeffs(x):\n",
      "    \n",
      "    # x = x(lamvals)\n",
      "    # x = x.value\n",
      "    if not (x < 0.3 or x >1.1):\n",
      "        xx = x ** 1.61\n",
      "        a = 0.574 * xx \n",
      "        b = -0.527 * xx\n",
      "    if x > 1.1 and x < 3.3:\n",
      "        y = x - 1.82\n",
      "        v = np.array([1, y, y**2, y**3, y**4, y**5, y**6, y**7])\n",
      "        acoeffs = np.array([1.0,0.17699, -0.50447, -0.02427, 0.72085, 0.01979, -0.77530, 0.32999])\n",
      "        bcoeffs = np.array([0., 1.41338, 2.28305, 1.07233, -5.38434, -0.62251, 5.30260, -2.09002])\n",
      "        a = np.dot(acoeffs, v)\n",
      "        b = np.dot(bcoeffs, v)\n",
      "        \n",
      "    if x > 3.3 and x < 8.0:\n",
      "        \n",
      "        yy = x - 5.9\n",
      "        if yy < 0:\n",
      "            Fa = 0.\n",
      "            Fb = 0.\n",
      "        else:\n",
      "            Fa = -0.04473 * yy **2.0 - 0.009779 * yy **3\n",
      "            Fb = 0.2130 * yy ** 2.0 + 0.1207 * yy **3\n",
      "        a = 1.752 - 0.316 * x - 0.104 / ((x - 4.67)**2. + 0.341) + Fa\n",
      "        b = -3.090 + 1.825 * x + 1.206 / ((x - 4.62)**2.0 + 0.263) + Fb\n",
      "        \n",
      "        \n",
      "    if x > 8.0 and x < 10.:\n",
      "        y = x - 8.\n",
      "        v = np.array([1, y, y**2, y**3])\n",
      "        acoeffs = np.array([-1.073, -0.628, 0.137, -0.070])\n",
      "        bcoeffs = np.array([13.670, 4.257, -0.420, 0.374])\n",
      "        a = np.dot(acoeffs, v)\n",
      "        b = np.dot(bcoeffs, v)\n",
      "    return a, b"
     ],
     "language": "python",
     "metadata": {},
     "outputs": [],
     "prompt_number": 2
    },
    {
     "cell_type": "heading",
     "level": 4,
     "metadata": {},
     "source": [
      "Calculate a and b values from the above function"
     ]
    },
    {
     "cell_type": "code",
     "collapsed": false,
     "input": [
      "# LSST SED wavelengths for comparison\n",
      "mysed = Sed()\n",
      "mysed.setFlatSED()\n",
      "x = 1.0/(mysed.wavelen* 1.0e-3)\n",
      "avals, bvals = zip(*map(coeffs, x))\n",
      "avals = np.array(list(avals))\n",
      "bvals = np.array(list(bvals))"
     ],
     "language": "python",
     "metadata": {},
     "outputs": [],
     "prompt_number": 5
    },
    {
     "cell_type": "heading",
     "level": 3,
     "metadata": {},
     "source": [
      "Set Up LSST Calculation"
     ]
    },
    {
     "cell_type": "code",
     "collapsed": false,
     "input": [
      "# Copy of initial Sed that we will then extinct, and use this copy to calculate $A_\\lambda$\n",
      "flatsed = Sed()\n",
      "flatsed.setFlatSED()"
     ],
     "language": "python",
     "metadata": {},
     "outputs": [],
     "prompt_number": 6
    },
    {
     "cell_type": "code",
     "collapsed": false,
     "input": [
      "# Sed to to full LSST Calculation\n",
      "mysed = Sed()\n",
      "mysed.setFlatSED()"
     ],
     "language": "python",
     "metadata": {},
     "outputs": [],
     "prompt_number": 7
    },
    {
     "cell_type": "code",
     "collapsed": false,
     "input": [
      "lssta, lsstb = mysed.setupCCMab()"
     ],
     "language": "python",
     "metadata": {},
     "outputs": [],
     "prompt_number": 8
    },
    {
     "cell_type": "code",
     "collapsed": false,
     "input": [
      "mysed.addCCMDust(lssta, lsstb, A_v=1.)\n",
      "# mysed is now extncted according to CCM"
     ],
     "language": "python",
     "metadata": {},
     "outputs": [],
     "prompt_number": 9
    },
    {
     "cell_type": "code",
     "collapsed": false,
     "input": [
      "# A sed using a and b values calculated from the function above using CCM\n",
      "sedccm = Sed()\n",
      "sedccm.setFlatSED()\n",
      "sedccm.addCCMDust(avals, bvals, A_v=1.0)\n",
      "AlambdaCCM = sedccm.flambda / flatsed.flambda"
     ],
     "language": "python",
     "metadata": {},
     "outputs": [],
     "prompt_number": 10
    },
    {
     "cell_type": "heading",
     "level": 2,
     "metadata": {},
     "source": [
      "Comparisons"
     ]
    },
    {
     "cell_type": "code",
     "collapsed": false,
     "input": [
      "xvals = [2.78, 2.27, 1.82, 1.43, 1.11, 0.80, 0.63, 0.46]"
     ],
     "language": "python",
     "metadata": {},
     "outputs": [],
     "prompt_number": 11
    },
    {
     "cell_type": "code",
     "collapsed": false,
     "input": [
      "# Optical/NIR range of wavelengths in nm according to the piecewise equation in CCM 89\n",
      "ll = 1.0e3 * 1.0 / 1.1\n",
      "lu = 1.0e3 * 1.0 / 3.3"
     ],
     "language": "python",
     "metadata": {},
     "outputs": [],
     "prompt_number": 12
    },
    {
     "cell_type": "code",
     "collapsed": false,
     "input": [
      "fig, ax0, ax1 = pu.settwopanel()\n",
      "ax0.plot(mysed.wavelen, lssta, '-k', lw=2.0, label='photUtils')\n",
      "ax0.plot(mysed.wavelen, avals, '--r', lw=2.0, label='CCM' )\n",
      "ax1.plot(mysed.wavelen, avals/lssta)\n",
      "ax1.vlines(ll, 0.9, 1.1)\n",
      "ax1.vlines(lu, 0.9, 1.1)\n",
      "ax1.set_ylabel('CCM/photUtils')\n",
      "ax0.set_ylabel('avals')\n",
      "ax0.legend(loc='best')"
     ],
     "language": "python",
     "metadata": {},
     "outputs": [
      {
       "metadata": {},
       "output_type": "pyout",
       "prompt_number": 13,
       "text": [
        "<matplotlib.legend.Legend at 0x10d4a71d0>"
       ]
      },
      {
       "metadata": {},
       "output_type": "display_data",
       "png": "[encoded data removed]",
       "text": [
        "<matplotlib.figure.Figure at 0x10d431790>"
       ]
      }
     ],
     "prompt_number": 13
    },
    {
     "cell_type": "code",
     "collapsed": false,
     "input": [
      "fig, ax0, ax1 = pu.settwopanel(setdifflimits=[0.6,1.5])\n",
      "ax0.plot(mysed.wavelen, lsstb, '-k', lw=2.0, label='photUtils')\n",
      "ax0.plot(mysed.wavelen, bvals, '--r', lw=2.0, label='CCM' )\n",
      "ax1.plot(mysed.wavelen, bvals/lsstb)\n",
      "ax1.vlines(ll, 0.6, 1.5)\n",
      "ax1.vlines(lu, 0.6, 1.5)\n",
      "ax1.set_ylabel('CCM/photUtils')\n",
      "ax0.set_ylabel('bvals')\n",
      "ax0.legend(loc='best')\n",
      "\n"
     ],
     "language": "python",
     "metadata": {},
     "outputs": [
      {
       "metadata": {},
       "output_type": "pyout",
       "prompt_number": 14,
       "text": [
        "<matplotlib.legend.Legend at 0x10e232490>"
       ]
      },
      {
       "metadata": {},
       "output_type": "display_data",
       "png": "[encoded data removed]",
       "text": [
        "<matplotlib.figure.Figure at 0x10d5dfc10>"
       ]
      }
     ],
     "prompt_number": 14
    },
    {
     "cell_type": "code",
     "collapsed": false,
     "input": [
      "AlambdaLSST = -2.5 * np.log10(mysed.flambda / flatsed.flambda)\n",
      "AlambdaCCM = -2.5 * np.log10(sedccm.flambda / flatsed.flambda)"
     ],
     "language": "python",
     "metadata": {},
     "outputs": [],
     "prompt_number": 15
    },
    {
     "cell_type": "code",
     "collapsed": false,
     "input": [
      "print 'At wavelength ', flatsed.wavelen[1000], ' the values of A_lambda for LSST and CCM values of a,b with Av =1. are', AlambdaLSST[1000], AlambdaCCM[1000]"
     ],
     "language": "python",
     "metadata": {},
     "outputs": [
      {
       "output_type": "stream",
       "stream": "stdout",
       "text": [
        "At wavelength  400.0  the values of A_lambda for LSST and CCM values of a,b with Av =1. are 1.42617802462 1.46455570294\n"
       ]
      }
     ],
     "prompt_number": 16
    }
   ],
   "metadata": {}
  }
 ]
}