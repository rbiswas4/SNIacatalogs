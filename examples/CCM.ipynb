{
 "metadata": {
  "name": "",
  "signature": "sha256:424668c67e68f0fc2dda335bd5ad0218609b5c8027326ce4d086dc0021ad45a5"
 },
 "nbformat": 3,
 "nbformat_minor": 0,
 "worksheets": [
  {
   "cells": [
    {
     "cell_type": "code",
     "collapsed": false,
     "input": [
      "from astropy import units as u\n",
      "import numpy as np"
     ],
     "language": "python",
     "metadata": {},
     "outputs": [],
     "prompt_number": 1
    },
    {
     "cell_type": "code",
     "collapsed": false,
     "input": [
      "x = 1.0 *u.nm"
     ],
     "language": "python",
     "metadata": {},
     "outputs": [],
     "prompt_number": 2
    },
    {
     "cell_type": "code",
     "collapsed": false,
     "input": [
      "x.to(u.Angstrom)"
     ],
     "language": "python",
     "metadata": {},
     "outputs": [
      {
       "latex": [
        "$10 \\; \\mathrm{\\overset{\\circ}{A}}$"
       ],
       "metadata": {},
       "output_type": "pyout",
       "prompt_number": 3,
       "text": [
        "<Quantity 9.999999999999998 Angstrom>"
       ]
      }
     ],
     "prompt_number": 3
    },
    {
     "cell_type": "code",
     "collapsed": false,
     "input": [
      "def x(lamvals):\n",
      "\n",
      "    l = lamvals.to(u.micron)\n",
      "    x = 1.0 / l\n",
      "    return x"
     ],
     "language": "python",
     "metadata": {},
     "outputs": [],
     "prompt_number": 4
    },
    {
     "cell_type": "code",
     "collapsed": false,
     "input": [
      "def coeffs(x):\n",
      "    \n",
      "    # x = x(lamvals)\n",
      "    # x = x.value\n",
      "    if not (x < 0.3 or x >1.1):\n",
      "        xx = x ** 1.61\n",
      "        a = 0.574 * xx \n",
      "        b = -0.527 * xx\n",
      "    if x > 1.1 and x < 3.3:\n",
      "        y = x - 1.82\n",
      "        v = np.array([1, y, y**2, y**3, y**4, y**5, y**6, y**7])\n",
      "        acoeffs = np.array([1.0,0.17699, -0.50447, -0.02427, 0.72805, 0.01979, -0.77530, 0.32999])\n",
      "        bcoeffs = np.array([0., 1.41338, 2.28305, 1.07233, -5.38434, -0.62251, 5.30260, -2.09002])\n",
      "        a = np.dot(acoeffs, v)\n",
      "        b = np.dot(bcoeffs, v)\n",
      "        \n",
      "    if x > 3.3 and x < 8.0:\n",
      "        yy = x - 5.9\n",
      "        if yy < 0:\n",
      "            Fa = 0.\n",
      "            Fb = 0.\n",
      "        else:\n",
      "            Fa = -0.04473 * yy **2.0 - 0.009779 * yy **3\n",
      "            Fb = 0.2130 * yy ** 2.0 + 0.1207 * yy **3\n",
      "        a = 1.752 - 0.316 * x - 0.104 / ((x - 4.67)**2. + 0.341) + Fa\n",
      "        b = -3.090 + 1.825 * x + 1.206 / ((x - 4.62)**2.0 + 0.263) + Fb\n",
      "        \n",
      "        \n",
      "    if x > 8.0 and x < 10.:\n",
      "        y = x - 8.\n",
      "        v = np.array([1, y, y**2, y**3])\n",
      "        acoeffs = np.array([-1.073, -0.628, 0.137, -0.070])\n",
      "        bcoeffs = np.array([13.670, 4.257, -0.420, 0.374])\n",
      "        a = np.dot(acoeffs, v)\n",
      "        b = np.dot(bcoeffs, v)\n",
      "    return a, b"
     ],
     "language": "python",
     "metadata": {},
     "outputs": [],
     "prompt_number": 5
    },
    {
     "cell_type": "code",
     "collapsed": false,
     "input": [
      "vals = [2.78, 2.27, 1.82, 1.43, 1.11, 0.80, 0.63, 0.46]"
     ],
     "language": "python",
     "metadata": {},
     "outputs": [],
     "prompt_number": 6
    },
    {
     "cell_type": "code",
     "collapsed": false,
     "input": [
      "map(coeffs, vals)"
     ],
     "language": "python",
     "metadata": {},
     "outputs": [
      {
       "metadata": {},
       "output_type": "pyout",
       "prompt_number": 7,
       "text": [
        "[(0.95911933292310714, 1.9089955174730173),\n",
        " (1.0002936650611798, 0.99999782511454671),\n",
        " (1.0, 0.0),\n",
        " (0.86916720800383573, -0.36499617464458023),\n",
        " (0.68083030947024525, -0.62299482520240101),\n",
        " (0.4007622179372656, -0.3679471931235871),\n",
        " (0.27280365019748587, -0.2504660690837545),\n",
        " (0.16441899958991438, -0.15095611983255205)]"
       ]
      }
     ],
     "prompt_number": 7
    },
    {
     "cell_type": "code",
     "collapsed": false,
     "input": [
      "coeffs(0.29)"
     ],
     "language": "python",
     "metadata": {},
     "outputs": [
      {
       "ename": "UnboundLocalError",
       "evalue": "local variable 'a' referenced before assignment",
       "output_type": "pyerr",
       "traceback": [
        "\u001b[0;31m---------------------------------------------------------------------------\u001b[0m\n\u001b[0;31mUnboundLocalError\u001b[0m                         Traceback (most recent call last)",
        "\u001b[0;32m<ipython-input-8-c1bff795054a>\u001b[0m in \u001b[0;36m<module>\u001b[0;34m()\u001b[0m\n\u001b[0;32m----> 1\u001b[0;31m \u001b[0mcoeffs\u001b[0m\u001b[0;34m(\u001b[0m\u001b[0;36m0.29\u001b[0m\u001b[0;34m)\u001b[0m\u001b[0;34m\u001b[0m\u001b[0m\n\u001b[0m",
        "\u001b[0;32m<ipython-input-5-8c332f5d70f2>\u001b[0m in \u001b[0;36mcoeffs\u001b[0;34m(x)\u001b[0m\n\u001b[1;32m     34\u001b[0m         \u001b[0ma\u001b[0m \u001b[0;34m=\u001b[0m \u001b[0mnp\u001b[0m\u001b[0;34m.\u001b[0m\u001b[0mdot\u001b[0m\u001b[0;34m(\u001b[0m\u001b[0macoeffs\u001b[0m\u001b[0;34m,\u001b[0m \u001b[0mv\u001b[0m\u001b[0;34m)\u001b[0m\u001b[0;34m\u001b[0m\u001b[0m\n\u001b[1;32m     35\u001b[0m         \u001b[0mb\u001b[0m \u001b[0;34m=\u001b[0m \u001b[0mnp\u001b[0m\u001b[0;34m.\u001b[0m\u001b[0mdot\u001b[0m\u001b[0;34m(\u001b[0m\u001b[0mbcoeffs\u001b[0m\u001b[0;34m,\u001b[0m \u001b[0mv\u001b[0m\u001b[0;34m)\u001b[0m\u001b[0;34m\u001b[0m\u001b[0m\n\u001b[0;32m---> 36\u001b[0;31m     \u001b[0;32mreturn\u001b[0m \u001b[0ma\u001b[0m\u001b[0;34m,\u001b[0m \u001b[0mb\u001b[0m\u001b[0;34m\u001b[0m\u001b[0m\n\u001b[0m",
        "\u001b[0;31mUnboundLocalError\u001b[0m: local variable 'a' referenced before assignment"
       ]
      }
     ],
     "prompt_number": 8
    },
    {
     "cell_type": "code",
     "collapsed": false,
     "input": [
      "from lsst.sims.photUtils import Sed"
     ],
     "language": "python",
     "metadata": {},
     "outputs": [],
     "prompt_number": 11
    },
    {
     "cell_type": "code",
     "collapsed": false,
     "input": [
      "mysed = Sed()"
     ],
     "language": "python",
     "metadata": {},
     "outputs": [],
     "prompt_number": 12
    },
    {
     "cell_type": "code",
     "collapsed": false,
     "input": [
      "mysed.setFlatSED()"
     ],
     "language": "python",
     "metadata": {},
     "outputs": [],
     "prompt_number": 13
    },
    {
     "cell_type": "code",
     "collapsed": false,
     "input": [
      "mysed.fnu"
     ],
     "language": "python",
     "metadata": {},
     "outputs": [
      {
       "metadata": {},
       "output_type": "pyout",
       "prompt_number": 16,
       "text": [
        "array([ 3631.,  3631.,  3631., ...,  3631.,  3631.,  3631.])"
       ]
      }
     ],
     "prompt_number": 16
    },
    {
     "cell_type": "code",
     "collapsed": false,
     "input": [
      "lssta, lsstb = mysed.setupCCMab()"
     ],
     "language": "python",
     "metadata": {},
     "outputs": [],
     "prompt_number": 19
    },
    {
     "cell_type": "code",
     "collapsed": false,
     "input": [
      "mysed.wavelen"
     ],
     "language": "python",
     "metadata": {},
     "outputs": [
      {
       "metadata": {},
       "output_type": "pyout",
       "prompt_number": 18,
       "text": [
        "array([  300. ,   300.1,   300.2, ...,  1149.8,  1149.9,  1150. ])"
       ]
      }
     ],
     "prompt_number": 18
    },
    {
     "cell_type": "code",
     "collapsed": false,
     "input": [
      "x = 1.0/(mysed.wavelen* 1.0e-3)"
     ],
     "language": "python",
     "metadata": {},
     "outputs": [],
     "prompt_number": 20
    },
    {
     "cell_type": "code",
     "collapsed": false,
     "input": [
      "x"
     ],
     "language": "python",
     "metadata": {},
     "outputs": [
      {
       "metadata": {},
       "output_type": "pyout",
       "prompt_number": 21,
       "text": [
        "array([ 3.33333333,  3.33222259,  3.33111259, ...,  0.86971647,\n",
        "        0.86964084,  0.86956522])"
       ]
      }
     ],
     "prompt_number": 21
    },
    {
     "cell_type": "code",
     "collapsed": false,
     "input": [
      "avals, bvals = zip(*map(coeffs, x))"
     ],
     "language": "python",
     "metadata": {},
     "outputs": [],
     "prompt_number": 24
    },
    {
     "cell_type": "code",
     "collapsed": false,
     "input": [
      "lssta"
     ],
     "language": "python",
     "metadata": {},
     "outputs": [
      {
       "metadata": {},
       "output_type": "pyout",
       "prompt_number": 23,
       "text": [
        "array([ 0.64978708,  0.65020623,  0.65062496, ...,  0.45846901,\n",
        "        0.45840482,  0.45834064])"
       ]
      }
     ],
     "prompt_number": 23
    },
    {
     "cell_type": "code",
     "collapsed": false,
     "input": [
      "np.array(list(avals))- lssta"
     ],
     "language": "python",
     "metadata": {},
     "outputs": [
      {
       "metadata": {},
       "output_type": "pyout",
       "prompt_number": 27,
       "text": [
        "array([ 0.,  0.,  0., ...,  0.,  0.,  0.])"
       ]
      }
     ],
     "prompt_number": 27
    },
    {
     "cell_type": "code",
     "collapsed": false,
     "input": [
      "np.array(list(bvals))- lsstb"
     ],
     "language": "python",
     "metadata": {},
     "outputs": [
      {
       "metadata": {},
       "output_type": "pyout",
       "prompt_number": 28,
       "text": [
        "array([ 0.,  0.,  0., ...,  0.,  0.,  0.])"
       ]
      }
     ],
     "prompt_number": 28
    },
    {
     "cell_type": "code",
     "collapsed": false,
     "input": [],
     "language": "python",
     "metadata": {},
     "outputs": []
    }
   ],
   "metadata": {}
  }
 ]
}