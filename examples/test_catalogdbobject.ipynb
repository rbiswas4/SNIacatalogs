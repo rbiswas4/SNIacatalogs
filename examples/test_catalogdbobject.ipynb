{
 "metadata": {
  "name": "",
  "signature": "sha256:23887286cb66d9baac4b60f1ba06e00bd465a53bd966930c7ae8dcb72b9e872e"
 },
 "nbformat": 3,
 "nbformat_minor": 0,
 "worksheets": [
  {
   "cells": [
    {
     "cell_type": "code",
     "collapsed": false,
     "input": [
      "import sqlite3\n",
      "import os\n",
      "import numpy as np\n",
      "from lsst.sims.catalogs.generation.utils import testUtils as tu\n",
      "from lsst.sims.catalogs.generation.db import CatalogDBObject\n",
      "from lsst.sims.utils import ObservationMetaData"
     ],
     "language": "python",
     "metadata": {},
     "outputs": [],
     "prompt_number": 1
    },
    {
     "cell_type": "code",
     "collapsed": false,
     "input": [
      "import lsst.sims.catalogs.generation"
     ],
     "language": "python",
     "metadata": {},
     "outputs": [],
     "prompt_number": 2
    },
    {
     "cell_type": "code",
     "collapsed": false,
     "input": [
      "# from lsst.sims.catUtils.utils.DBobjectTestUtils import testGalaxyTileDBObj"
     ],
     "language": "python",
     "metadata": {},
     "outputs": [],
     "prompt_number": 3
    },
    {
     "cell_type": "code",
     "collapsed": false,
     "input": [
      "%matplotlib inline\n",
      "import matplotlib.pyplot as plt"
     ],
     "language": "python",
     "metadata": {},
     "outputs": [],
     "prompt_number": 4
    },
    {
     "cell_type": "heading",
     "level": 2,
     "metadata": {},
     "source": [
      "Create obsMetaData"
     ]
    },
    {
     "cell_type": "code",
     "collapsed": false,
     "input": [
      "#This creates a list of obsMetaData with a starting point, a cadence and a total number of epochs\n",
      "def obsMetaDataList(startdate=570180, cadence=3.0, numepochs=20):\n",
      "    \"\"\"\n",
      "    create a list of obsMetaData variables for a list of pointings.\n",
      "\n",
      "\n",
      "    Parameters\n",
      "    ----------\n",
      "    startdate: float, optional, defaults to 570180\n",
      "        starting date of sequence\n",
      "    cadence: float, optional, defaults to 3.0\n",
      "        interval between epochs of observations\n",
      "    numepochs: int, optional, defaults to 20\n",
      "        number of epochs of observations\n",
      "\n",
      "\n",
      "    Returns\n",
      "    -------\n",
      "    list of `~lsst.sims.catalogs.generation.db.ObservationMetaData` variables\n",
      "\n",
      "\n",
      "    .. note: This will finally come from OpSims output, this is just a mock up.\n",
      "    \"\"\"\n",
      "\n",
      "    # List of MJDs with a three day cadence with 20 epochs\n",
      "    myMJDS = [startdate + cadence*i for i in range(numepochs)]\n",
      "    filters = ['u', 'g', 'r', 'i', 'z', 'y']\n",
      "    # All angles are in degrees\n",
      "    unrefRA = 5.0\n",
      "    unrefDec = 15.0\n",
      "    # boudnLen is in degrees\n",
      "    boundLen = np.degrees(0.015)\n",
      "    boundType = 'circle'\n",
      "\n",
      "    obsMetaDataList = []\n",
      "    for mjd in myMJDS:\n",
      "        obsMetaDataList.append(ObservationMetaData(boundType=boundType,\n",
      "                               unrefractedRA=unrefRA,\n",
      "                               unrefractedDec=unrefDec,\n",
      "                               boundLength=boundLen,\n",
      "                               bandpassName=filters,\n",
      "                               mjd=mjd))\n",
      "    return obsMetaDataList"
     ],
     "language": "python",
     "metadata": {},
     "outputs": [],
     "prompt_number": 5
    },
    {
     "cell_type": "code",
     "collapsed": false,
     "input": [
      "obsMDList = obsMetaDataList()\n",
      "myObsMD = obsMDList[0]\n",
      "print myObsMD.summary\n",
      "# Note because of changes to ObsMetaData, this now prints degrees"
     ],
     "language": "python",
     "metadata": {},
     "outputs": [
      {
       "output_type": "stream",
       "stream": "stdout",
       "text": [
        "{'mjd': 570180.0, 'unrefractedRA': 5.0, 'rotSkyPos': None, 'boundLength': 0.85943669269623479, 'skyBrightness': None, 'site': <lsst.sims.utils.Site.Site object at 0x104f4f0d0>, 'unrefractedDec': 14.999999999999998, 'boundType': 'circle', 'bandpass': ['u', 'g', 'r', 'i', 'z', 'y'], 'phoSimMetaData': None}\n"
       ]
      }
     ],
     "prompt_number": 6
    },
    {
     "cell_type": "heading",
     "level": 2,
     "metadata": {},
     "source": [
      "Sampling patches of a sphere overlapping with obsmetadata region"
     ]
    },
    {
     "cell_type": "code",
     "collapsed": false,
     "input": [
      "def samplePatchOnSphere(phi, theta, delta, size):\n",
      "    \"\"\"\n",
      "    Uniformly distributes samples on a spherical patch between phi \\pm delta,\n",
      "    and theta \\pm delta where phi and theta are the coordinates in the conventional\n",
      "    spherical coordinate system.\n",
      "    Parameters\n",
      "    ----------\n",
      "    phi: float, mandatory, radians\n",
      "        center of the spherical patch\n",
      "    theta: float, mandatory, radians\n",
      "    \n",
      "    delta: float, mandatory, radians\n",
      "        \n",
      "    size: int, mandatory\n",
      "        number of samples\n",
      "    \n",
      "    \"\"\"\n",
      "    u = np.random.uniform(size=size)\n",
      "    v = np.random.uniform(size=size)\n",
      "    \n",
      "    phivals = delta * (2. * u - 1) + phi\n",
      "    \n",
      "    # thetavals\n",
      "    thetamax = theta + delta\n",
      "    thetamin = theta - delta\n",
      "    a = np.cos(thetamax) - np.cos(thetamin)\n",
      "    #b = np.cos(thetamin)\n",
      "    thetavals = np.arccos(v* a + np.cos(thetamin))\n",
      "    return phivals, thetavals"
     ],
     "language": "python",
     "metadata": {},
     "outputs": [],
     "prompt_number": 7
    },
    {
     "cell_type": "code",
     "collapsed": false,
     "input": [
      "def sample_obsmetadata(obsmetadata, size=1):\n",
      "    \"\"\"\n",
      "    Draws samples from a region < a circle around  boundary of the size of\n",
      "    and returns the values in radians\n",
      "    \n",
      "    \"\"\"\n",
      "    mydict = obsmetadata.summary\n",
      "    phi = np.radians(mydict['unrefractedRA'])\n",
      "    theta = np.radians(mydict['unrefractedDec'])\n",
      "    equalrange = np.radians(mydict['boundLength'])\n",
      "    ravals, thetavals = samplePatchOnSphere(phi=phi, theta=theta, delta=equalrange, size=size)\n",
      "    return ravals, thetavals\n"
     ],
     "language": "python",
     "metadata": {},
     "outputs": [],
     "prompt_number": 8
    },
    {
     "cell_type": "code",
     "collapsed": false,
     "input": [
      "samps = sample_obsmetadata(myObsMD, size=1000.)"
     ],
     "language": "python",
     "metadata": {},
     "outputs": [],
     "prompt_number": 9
    },
    {
     "cell_type": "code",
     "collapsed": false,
     "input": [
      "def obsmetaDatacirc(myObsMD, color='r', alpha=0.5):\n",
      "    racenter = np.radians(myObsMD.summary['unrefractedRA'])\n",
      "    deccenter = np.radians(myObsMD.summary['unrefractedDec'])\n",
      "    rad = np.radians(myObsMD.summary['boundLength'])\n",
      "    print racenter, deccenter, rad\n",
      "    circ = plt.Circle((racenter, deccenter), radius=rad, color=color, \n",
      "                      alpha=alpha)\n",
      "    return circ\n"
     ],
     "language": "python",
     "metadata": {},
     "outputs": [],
     "prompt_number": 10
    },
    {
     "cell_type": "code",
     "collapsed": false,
     "input": [
      "circ = obsmetaDatacirc(myObsMD)"
     ],
     "language": "python",
     "metadata": {},
     "outputs": [
      {
       "output_type": "stream",
       "stream": "stdout",
       "text": [
        "0.0872664625997 0.261799387799 0.015\n"
       ]
      }
     ],
     "prompt_number": 11
    },
    {
     "cell_type": "code",
     "collapsed": false,
     "input": [
      "fig, ax = plt.subplots()\n",
      "ax.set_aspect(1.)\n",
      "ax.plot(samps[0], samps[1],'o')\n",
      "circ = obsmetaDatacirc(myObsMD)\n",
      "ax.add_patch(circ)\n",
      "ax.set_autoscale_on(True)\n",
      "ax.set_title('Random positions and obsMetaData\\n footprint in radians')"
     ],
     "language": "python",
     "metadata": {},
     "outputs": [
      {
       "output_type": "stream",
       "stream": "stdout",
       "text": [
        "0.0872664625997 0.261799387799 0.015\n"
       ]
      },
      {
       "metadata": {},
       "output_type": "pyout",
       "prompt_number": 12,
       "text": [
        "<matplotlib.text.Text at 0x108629ed0>"
       ]
      },
      {
       "metadata": {},
       "output_type": "display_data",
       "png": "[encoded data removed]",
       "text": [
        "<matplotlib.figure.Figure at 0x1044d2dd0>"
       ]
      }
     ],
     "prompt_number": 12
    },
    {
     "cell_type": "heading",
     "level": 2,
     "metadata": {},
     "source": [
      "Create a database of galaxies that overlap with region of interest"
     ]
    },
    {
     "cell_type": "code",
     "collapsed": false,
     "input": [
      "!ls *.db"
     ],
     "language": "python",
     "metadata": {},
     "outputs": [
      {
       "output_type": "stream",
       "stream": "stdout",
       "text": [
        "test.db\r\n"
       ]
      }
     ],
     "prompt_number": 13
    },
    {
     "cell_type": "code",
     "collapsed": false,
     "input": [
      "def cleanDB(dbname, verbose=True):\n",
      "    '''\n",
      "    Deletes the database from the disk.\n",
      "    Parameters\n",
      "    ----------\n",
      "    dbname: string, mandatory\n",
      "        name (abs path) of the database to be deleted\n",
      "    verbose: Bool, optional, defaults to True\n",
      "    \n",
      "    '''\n",
      "    \n",
      "    if os.path.exists(dbname):\n",
      "        if verbose:\n",
      "            print \"deleting database \", dbname\n",
      "        os.unlink(dbname)\n",
      "    else:\n",
      "        if verbose:\n",
      "            print 'database ', dbname, ' does not exist'"
     ],
     "language": "python",
     "metadata": {},
     "outputs": [],
     "prompt_number": 14
    },
    {
     "cell_type": "code",
     "collapsed": false,
     "input": [
      "cleanDB(dbname='test.db')\n",
      "cleanDB(dbname='galcat.db')"
     ],
     "language": "python",
     "metadata": {},
     "outputs": [
      {
       "output_type": "stream",
       "stream": "stdout",
       "text": [
        "deleting database  test.db\n",
        "database  galcat.db  does not exist\n"
       ]
      }
     ],
     "prompt_number": 15
    },
    {
     "cell_type": "code",
     "collapsed": false,
     "input": [
      "!ls *.db"
     ],
     "language": "python",
     "metadata": {},
     "outputs": [
      {
       "output_type": "stream",
       "stream": "stdout",
       "text": [
        "ls: *.db: No such file or directory\r\n"
       ]
      }
     ],
     "prompt_number": 16
    },
    {
     "cell_type": "markdown",
     "metadata": {},
     "source": [
      "Create a database with filename test.db and Table gals"
     ]
    },
    {
     "cell_type": "code",
     "collapsed": false,
     "input": [
      "conn = sqlite3.connect('test.db')"
     ],
     "language": "python",
     "metadata": {},
     "outputs": [],
     "prompt_number": 17
    },
    {
     "cell_type": "code",
     "collapsed": false,
     "input": [
      "curs = conn.cursor()\n",
      "curs.execute('CREATE TABLE if not exists gals (id INT, raJ2000 FLOAT, decJ2000 FLOAT, redshift FLOAT)')"
     ],
     "language": "python",
     "metadata": {},
     "outputs": [
      {
       "metadata": {},
       "output_type": "pyout",
       "prompt_number": 18,
       "text": [
        "<sqlite3.Cursor at 0x1085a59d0>"
       ]
      }
     ],
     "prompt_number": 18
    },
    {
     "cell_type": "code",
     "collapsed": false,
     "input": [
      "size = 1000"
     ],
     "language": "python",
     "metadata": {},
     "outputs": [],
     "prompt_number": 19
    },
    {
     "cell_type": "code",
     "collapsed": false,
     "input": [
      "import testUtilsSNe as sq"
     ],
     "language": "python",
     "metadata": {},
     "outputs": [],
     "prompt_number": 20
    },
    {
     "cell_type": "code",
     "collapsed": false,
     "input": [
      "np.random.seed(4)\n",
      "samps = sample_obsmetadata(myObsMD, size=size)\n",
      "\n",
      "for count in range(size):\n",
      "    id = 1000000 + count\n",
      "    # Main Database should have values in degrees\n",
      "    ra = np.degrees(samps[0][count]) \n",
      "    dec = np.degrees(samps[1][count])\n",
      "    redshift = np.random.uniform()\n",
      "    row = tuple([id, ra, dec, redshift])\n",
      "    exec_str = sq.insertfromdata(tablename='gals',records=row, multiple=False)\n",
      "    curs.execute(exec_str, row)\n",
      "    "
     ],
     "language": "python",
     "metadata": {},
     "outputs": [],
     "prompt_number": 21
    },
    {
     "cell_type": "code",
     "collapsed": false,
     "input": [
      "conn.commit()\n",
      "conn.close()"
     ],
     "language": "python",
     "metadata": {},
     "outputs": [],
     "prompt_number": 22
    },
    {
     "cell_type": "heading",
     "level": 4,
     "metadata": {},
     "source": [
      "Check that database works"
     ]
    },
    {
     "cell_type": "markdown",
     "metadata": {},
     "source": [
      "File exists"
     ]
    },
    {
     "cell_type": "code",
     "collapsed": false,
     "input": [
      "!ls -ltr *.db"
     ],
     "language": "python",
     "metadata": {},
     "outputs": [
      {
       "output_type": "stream",
       "stream": "stdout",
       "text": [
        "-rw-r--r--  1 rbiswas  staff  39936 Sep  9 11:41 test.db\r\n"
       ]
      }
     ],
     "prompt_number": 23
    },
    {
     "cell_type": "markdown",
     "metadata": {},
     "source": [
      "Query the database"
     ]
    },
    {
     "cell_type": "code",
     "collapsed": false,
     "input": [
      "conn = sqlite3.connect('test.db')\n",
      "c = conn.cursor()\n",
      "c.execute('SELECT raJ2000, decJ2000 FROM gals')"
     ],
     "language": "python",
     "metadata": {},
     "outputs": [
      {
       "metadata": {},
       "output_type": "pyout",
       "prompt_number": 24,
       "text": [
        "<sqlite3.Cursor at 0x10a690c00>"
       ]
      }
     ],
     "prompt_number": 24
    },
    {
     "cell_type": "code",
     "collapsed": false,
     "input": [
      "res = c.fetchall()\n",
      "conn.close()\n",
      "print np.shape(res)"
     ],
     "language": "python",
     "metadata": {},
     "outputs": [
      {
       "output_type": "stream",
       "stream": "stdout",
       "text": [
        "(1000, 2)\n"
       ]
      }
     ],
     "prompt_number": 25
    },
    {
     "cell_type": "code",
     "collapsed": false,
     "input": [
      "ra, dec = zip(*res)"
     ],
     "language": "python",
     "metadata": {},
     "outputs": [],
     "prompt_number": 26
    },
    {
     "cell_type": "code",
     "collapsed": false,
     "input": [
      "fig, ax  = plt.subplots()\n",
      "ax.set_aspect(1.0)\n",
      "circ = obsmetaDatacirc(myObsMD)\n",
      "ax.add_patch(circ)\n",
      "ax.plot(np.radians(ra), np.radians(dec), 'o')\n"
     ],
     "language": "python",
     "metadata": {},
     "outputs": [
      {
       "output_type": "stream",
       "stream": "stdout",
       "text": [
        "0.0872664625997 0.261799387799 0.015\n"
       ]
      },
      {
       "metadata": {},
       "output_type": "pyout",
       "prompt_number": 27,
       "text": [
        "[<matplotlib.lines.Line2D at 0x10a988050>]"
       ]
      },
      {
       "metadata": {},
       "output_type": "display_data",
       "png": "[encoded data removed]",
       "text": [
        "<matplotlib.figure.Figure at 0x10a8cc0d0>"
       ]
      }
     ],
     "prompt_number": 27
    },
    {
     "cell_type": "heading",
     "level": 2,
     "metadata": {},
     "source": [
      "Create a catalogDBObject"
     ]
    },
    {
     "cell_type": "markdown",
     "metadata": {},
     "source": [
      "Inherit from the CatalogDBObject class. Not sure what the minimal set of functions to be defined are?"
     ]
    },
    {
     "cell_type": "code",
     "collapsed": false,
     "input": [
      "class myGalDB(CatalogDBObject):\n",
      "    ''' like lsst.sims.catalogs.generation.utils.testUtils.myTestGals'''\n",
      "    objid = 'mytestgals'\n",
      "    tableid = 'gals'\n",
      "    idColKey = 'id'\n",
      "    appendint = 10000\n",
      "    driver = 'sqlite'\n",
      "    database = 'test.db'\n",
      "    raColName = 'raJ2000'\n",
      "    decColName = 'decJ2000'\n",
      "    # columns required to convert the ra, dec values in degrees to radians again\n",
      "    columns = [('id', 'id', int),\n",
      "               ('raJ2000','raJ2000 * PI() / 180.' ), \n",
      "                ('decJ2000','decJ2000 * PI() / 180.'),\n",
      "                 ('redshift', 'redshift')]"
     ],
     "language": "python",
     "metadata": {},
     "outputs": [],
     "prompt_number": 28
    },
    {
     "cell_type": "code",
     "collapsed": false,
     "input": [
      "gdb = myGalDB()"
     ],
     "language": "python",
     "metadata": {},
     "outputs": [],
     "prompt_number": 29
    },
    {
     "cell_type": "code",
     "collapsed": false,
     "input": [
      "gdb.show_mapped_columns()"
     ],
     "language": "python",
     "metadata": {},
     "outputs": [
      {
       "output_type": "stream",
       "stream": "stdout",
       "text": [
        "id -- int\n",
        "raJ2000 -- float\n",
        "decJ2000 -- float\n",
        "redshift -- float\n"
       ]
      }
     ],
     "prompt_number": 30
    },
    {
     "cell_type": "markdown",
     "metadata": {},
     "source": [
      "So, columns is a required quantity"
     ]
    },
    {
     "cell_type": "code",
     "collapsed": false,
     "input": [
      "gdbdata = gdb.execute_arbitrary('SELECT * FROM gals')"
     ],
     "language": "python",
     "metadata": {},
     "outputs": [],
     "prompt_number": 31
    },
    {
     "cell_type": "code",
     "collapsed": false,
     "input": [
      "print 'size of gdbdata', np.shape(gdbdata)\n",
      "print gdbdata[:10]"
     ],
     "language": "python",
     "metadata": {},
     "outputs": [
      {
       "output_type": "stream",
       "stream": "stdout",
       "text": [
        "size of gdbdata (1000,)\n",
        "[(1000000, 5.802765160464738, 15.334205807529127, 0.5991196778876893)\n",
        " (1000001, 5.081186256040374, 15.226046586562626, 0.8740048936101691)\n",
        " (1000002, 5.812484566034914, 15.323036765692656, 0.6763161351254114)\n",
        " (1000003, 5.369241494283503, 15.800160022466157, 0.9456010014953972)\n",
        " (1000004, 5.3398708141251845, 14.606575375328058, 0.19180017842533104)\n",
        " (1000005, 4.511993790119758, 14.653408599873018, 0.5441003718623078)\n",
        " (1000006, 5.818655484457191, 15.604825040713038, 0.7820665133251183)\n",
        " (1000007, 4.151272327159138, 14.975422988227285, 0.5897202877679751)\n",
        " (1000008, 4.575407956978379, 14.15176558998454, 0.24659370545641102)\n",
        " (1000009, 4.887914900547774, 15.689162714393524, 0.3628277194476044)]\n"
       ]
      }
     ],
     "prompt_number": 32
    },
    {
     "cell_type": "code",
     "collapsed": false,
     "input": [
      "from lsst.sims.catalogs.measures.instance import InstanceCatalog\n",
      "class galCopy(InstanceCatalog):\n",
      "    column_outputs = ['id', 'raJ2000', 'decJ2000', 'redshift']\n",
      "    override_formats = {'raJ2000': '%8e', 'decJ2000': '%8e'}"
     ],
     "language": "python",
     "metadata": {},
     "outputs": [],
     "prompt_number": 33
    },
    {
     "cell_type": "code",
     "collapsed": false,
     "input": [
      "myObsMD.summary"
     ],
     "language": "python",
     "metadata": {},
     "outputs": [
      {
       "metadata": {},
       "output_type": "pyout",
       "prompt_number": 34,
       "text": [
        "{'bandpass': ['u', 'g', 'r', 'i', 'z', 'y'],\n",
        " 'boundLength': 0.85943669269623479,\n",
        " 'boundType': 'circle',\n",
        " 'mjd': 570180.0,\n",
        " 'phoSimMetaData': None,\n",
        " 'rotSkyPos': None,\n",
        " 'site': <lsst.sims.utils.Site.Site at 0x104f4f0d0>,\n",
        " 'skyBrightness': None,\n",
        " 'unrefractedDec': 14.999999999999998,\n",
        " 'unrefractedRA': 5.0}"
       ]
      }
     ],
     "prompt_number": 34
    },
    {
     "cell_type": "code",
     "collapsed": false,
     "input": [
      "gals = galCopy(gdb, obs_metadata=myObsMD)\n",
      "gals.write_catalog('gals.dat')"
     ],
     "language": "python",
     "metadata": {},
     "outputs": [],
     "prompt_number": 43
    },
    {
     "cell_type": "code",
     "collapsed": false,
     "input": [
      "!head gals.dat"
     ],
     "language": "python",
     "metadata": {},
     "outputs": [
      {
       "output_type": "stream",
       "stream": "stdout",
       "text": [
        "#id, raJ2000, decJ2000, redshift\r\n",
        "1000000, 1.012774e-01, 2.676324e-01, 0.5991\r\n",
        "1000001, 8.868343e-02, 2.657446e-01, 0.8740\r\n",
        "1000002, 1.014470e-01, 2.674374e-01, 0.6763\r\n",
        "1000004, 9.319833e-02, 2.549328e-01, 0.1918\r\n",
        "1000005, 7.874915e-02, 2.557502e-01, 0.5441\r\n",
        "1000007, 7.245337e-02, 2.613704e-01, 0.5897\r\n",
        "1000009, 8.531021e-02, 2.738275e-01, 0.3628\r\n",
        "1000010, 9.564795e-02, 2.736207e-01, 0.3638\r\n",
        "1000011, 7.819701e-02, 2.587143e-01, 0.3028\r\n"
       ]
      }
     ],
     "prompt_number": 44
    },
    {
     "cell_type": "code",
     "collapsed": false,
     "input": [
      "from sniacatalogs import sncat"
     ],
     "language": "python",
     "metadata": {},
     "outputs": [],
     "prompt_number": 45
    },
    {
     "cell_type": "code",
     "collapsed": false,
     "input": [
      "catalog = sncat.SNIaCatalog(db_obj=gdb, obs_metadata=myObsMD)"
     ],
     "language": "python",
     "metadata": {},
     "outputs": [],
     "prompt_number": 40
    },
    {
     "cell_type": "code",
     "collapsed": false,
     "input": [
      "catalog.write_catalog('sn_fake.txt')"
     ],
     "language": "python",
     "metadata": {},
     "outputs": [],
     "prompt_number": 46
    },
    {
     "cell_type": "code",
     "collapsed": false,
     "input": [
      "!head sn_fake.txt"
     ],
     "language": "python",
     "metadata": {},
     "outputs": [
      {
       "output_type": "stream",
       "stream": "stdout",
       "text": [
        "#snid, snra, sndec, z, t0, c, x1, x0\r\n",
        "1000047, 7.987685e-02, 2.636935e-01, 0.2877, 570189.6482, -9.272552e-02, -1.3818, 1.011324e+07\r\n",
        "1000121, 9.515627e-02, 2.564338e-01, 0.6895, 570173.4509, -4.123238e-02, 0.0252, 9.803628e+05\r\n",
        "1000210, 7.834941e-02, 2.566679e-01, 0.6810, 570121.8200, 4.278637e-02, -1.0562, 1.010540e+06\r\n"
       ]
      }
     ],
     "prompt_number": 47
    }
   ],
   "metadata": {}
  }
 ]
}