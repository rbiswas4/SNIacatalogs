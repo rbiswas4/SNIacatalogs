{
 "metadata": {
  "name": "",
  "signature": "sha256:10fbd6601ed851ec80721b1be76f2f2e3cba21efd233d2355f0fa988fedb929c"
 },
 "nbformat": 3,
 "nbformat_minor": 0,
 "worksheets": [
  {
   "cells": [
    {
     "cell_type": "code",
     "collapsed": false,
     "input": [
      "import sqlite3\n",
      "import os\n",
      "import numpy as np\n",
      "from lsst.sims.catalogs.generation.utils import testUtils as tu\n",
      "from lsst.sims.catalogs.generation.db import CatalogDBObject, ObservationMetaData"
     ],
     "language": "python",
     "metadata": {},
     "outputs": [],
     "prompt_number": 1
    },
    {
     "cell_type": "code",
     "collapsed": false,
     "input": [
      "from lsst.sims.catUtils.utils.testUtils import testGalaxyTileDBObj"
     ],
     "language": "python",
     "metadata": {},
     "outputs": [],
     "prompt_number": 2
    },
    {
     "cell_type": "heading",
     "level": 2,
     "metadata": {},
     "source": [
      "Create a database of galaxies that overlap with region of interest"
     ]
    },
    {
     "cell_type": "code",
     "collapsed": false,
     "input": [
      "!ls *.db"
     ],
     "language": "python",
     "metadata": {},
     "outputs": [
      {
       "output_type": "stream",
       "stream": "stdout",
       "text": [
        "test.db\r\n"
       ]
      }
     ],
     "prompt_number": 3
    },
    {
     "cell_type": "code",
     "collapsed": false,
     "input": [
      "def cleanDB(dbname, verbose=True):\n",
      "    '''\n",
      "    Deletes the database from the disk.\n",
      "    Parameters\n",
      "    ----------\n",
      "    dbname: string, mandatory\n",
      "        name (abs path) of the database to be deleted\n",
      "    verbose: Bool, optional, defaults to True\n",
      "    \n",
      "    '''\n",
      "    \n",
      "    if os.path.exists(dbname):\n",
      "        if verbose:\n",
      "            print \"deleting database \", dbname\n",
      "        os.unlink(dbname)\n",
      "    else:\n",
      "        if verbose:\n",
      "            print 'database ', dbname, ' does not exist'"
     ],
     "language": "python",
     "metadata": {},
     "outputs": [],
     "prompt_number": 4
    },
    {
     "cell_type": "code",
     "collapsed": false,
     "input": [
      "cleanDB(dbname='test.db')\n",
      "conn = sqlite3.connect('test.db')"
     ],
     "language": "python",
     "metadata": {},
     "outputs": [
      {
       "output_type": "stream",
       "stream": "stdout",
       "text": [
        "deleting database  test.db\n"
       ]
      }
     ],
     "prompt_number": 5
    },
    {
     "cell_type": "code",
     "collapsed": false,
     "input": [
      "!ls *.db"
     ],
     "language": "python",
     "metadata": {},
     "outputs": [
      {
       "output_type": "stream",
       "stream": "stdout",
       "text": [
        "test.db\r\n"
       ]
      }
     ],
     "prompt_number": 6
    },
    {
     "cell_type": "code",
     "collapsed": false,
     "input": [
      "curs = conn.cursor()\n",
      "curs.execute('CREATE TABLE if not exists gals (id INT, raJ2000 FLOAT, decJ2000 FLOAT, redshift FLOAT)')"
     ],
     "language": "python",
     "metadata": {},
     "outputs": [
      {
       "metadata": {},
       "output_type": "pyout",
       "prompt_number": 7,
       "text": [
        "<sqlite3.Cursor at 0x10d251c00>"
       ]
      }
     ],
     "prompt_number": 7
    },
    {
     "cell_type": "code",
     "collapsed": false,
     "input": [
      "size = 10"
     ],
     "language": "python",
     "metadata": {},
     "outputs": [],
     "prompt_number": 8
    },
    {
     "cell_type": "code",
     "collapsed": false,
     "input": [
      "import testUtilsSNe as sq"
     ],
     "language": "python",
     "metadata": {},
     "outputs": [],
     "prompt_number": 9
    },
    {
     "cell_type": "code",
     "collapsed": false,
     "input": [
      "\n",
      "np.random.seed(4)\n",
      "for count in range(size):\n",
      "    id = 1000000 + count\n",
      "    ra = 0. + np.random.uniform()\n",
      "    dec = 0. + np.random.uniform()\n",
      "    redshift = np.random.uniform()\n",
      "    row = tuple([id, ra, dec, redshift])\n",
      "    exec_str = sq.insertfromdata(tablename='gals',records=row, multiple=False)\n",
      "    curs.execute(exec_str, row)\n",
      "    "
     ],
     "language": "python",
     "metadata": {},
     "outputs": [],
     "prompt_number": 10
    },
    {
     "cell_type": "code",
     "collapsed": false,
     "input": [
      "conn.commit()\n",
      "conn.close()"
     ],
     "language": "python",
     "metadata": {},
     "outputs": [],
     "prompt_number": 11
    },
    {
     "cell_type": "heading",
     "level": 4,
     "metadata": {},
     "source": [
      "Check that database works"
     ]
    },
    {
     "cell_type": "markdown",
     "metadata": {},
     "source": [
      "File exists"
     ]
    },
    {
     "cell_type": "code",
     "collapsed": false,
     "input": [
      "!ls -ltr *.db"
     ],
     "language": "python",
     "metadata": {},
     "outputs": [
      {
       "output_type": "stream",
       "stream": "stdout",
       "text": [
        "-rw-r--r--  1 rbiswas  staff  2048 Apr 10 16:05 test.db\r\n"
       ]
      }
     ],
     "prompt_number": 12
    },
    {
     "cell_type": "markdown",
     "metadata": {},
     "source": [
      "Query the database"
     ]
    },
    {
     "cell_type": "code",
     "collapsed": false,
     "input": [
      "conn = sqlite3.connect('test.db')\n",
      "c = conn.cursor()\n",
      "c.execute('SELECT * FROM gals')"
     ],
     "language": "python",
     "metadata": {},
     "outputs": [
      {
       "metadata": {},
       "output_type": "pyout",
       "prompt_number": 13,
       "text": [
        "<sqlite3.Cursor at 0x10e5d79d0>"
       ]
      }
     ],
     "prompt_number": 13
    },
    {
     "cell_type": "code",
     "collapsed": false,
     "input": [
      "res = c.fetchall()\n",
      "conn.close()\n",
      "print res"
     ],
     "language": "python",
     "metadata": {},
     "outputs": [
      {
       "output_type": "stream",
       "stream": "stdout",
       "text": [
        "[(1000000, 0.9670298390136767, 0.5472322491757223, 0.9726843599648843), (1000001, 0.7148159936743647, 0.6977288245972708, 0.21608949558037638), (1000002, 0.9762744547762418, 0.006230255204589863, 0.25298236238344396), (1000003, 0.4347915324044458, 0.7793829217937525, 0.19768507460025309), (1000004, 0.8629932355992223, 0.9834006771753128, 0.16384224140469872), (1000005, 0.5973339439328592, 0.008986097667554982, 0.3865712826436294), (1000006, 0.044160057931499574, 0.9566529677142359, 0.43614664687979765), (1000007, 0.9489773067815628, 0.786305985935061, 0.8662892985816985), (1000008, 0.17316542149594816, 0.07494858701310703, 0.6007427213777693), (1000009, 0.16797218371840383, 0.7333801675105699, 0.4084438601520147)]\n"
       ]
      }
     ],
     "prompt_number": 14
    },
    {
     "cell_type": "heading",
     "level": 2,
     "metadata": {},
     "source": [
      "Create a catalogDBObject"
     ]
    },
    {
     "cell_type": "markdown",
     "metadata": {},
     "source": [
      "Inherit from the CatalogDBObject class. Not sure what the minimal set of functions to be defined are?"
     ]
    },
    {
     "cell_type": "code",
     "collapsed": false,
     "input": [
      "class myGalDB(CatalogDBObject):\n",
      "    ''' like lsst.sims.catalogs.generation.utils.testUtils.myTestGals'''\n",
      "    objid = 'mytestgals'\n",
      "    tableid = 'gals'\n",
      "    idColKey = 'id'\n",
      "    appendint = 10000\n",
      "    dbAddress = 'sqlite:///test.db'\n",
      "    raColName = 'raJ2000'\n",
      "    decColName = 'decJ2000'"
     ],
     "language": "python",
     "metadata": {},
     "outputs": [],
     "prompt_number": 15
    },
    {
     "cell_type": "code",
     "collapsed": false,
     "input": [
      "gdb = myGalDB()"
     ],
     "language": "python",
     "metadata": {},
     "outputs": [],
     "prompt_number": 17
    },
    {
     "cell_type": "code",
     "collapsed": false,
     "input": [
      "gdb.show_mapped_columns()"
     ],
     "language": "python",
     "metadata": {},
     "outputs": [
      {
       "output_type": "stream",
       "stream": "stdout",
       "text": [
        "id -- int\n",
        "raJ2000 -- float\n",
        "decJ2000 -- float\n",
        "redshift -- float\n"
       ]
      }
     ],
     "prompt_number": 18
    },
    {
     "cell_type": "markdown",
     "metadata": {},
     "source": [
      "So, columns is a required quantity"
     ]
    },
    {
     "cell_type": "code",
     "collapsed": false,
     "input": [
      "testGalaxyTileDBObj(address='sqlite:///test.db')"
     ],
     "language": "python",
     "metadata": {},
     "outputs": [
      {
       "ename": "NoSuchTableError",
       "evalue": "galaxy",
       "output_type": "pyerr",
       "traceback": [
        "\u001b[0;31m---------------------------------------------------------------------------\u001b[0m\n\u001b[0;31mNoSuchTableError\u001b[0m                          Traceback (most recent call last)",
        "\u001b[0;32m<ipython-input-29-f15d07a86509>\u001b[0m in \u001b[0;36m<module>\u001b[0;34m()\u001b[0m\n\u001b[0;32m----> 1\u001b[0;31m \u001b[0mtestGalaxyTileDBObj\u001b[0m\u001b[0;34m(\u001b[0m\u001b[0maddress\u001b[0m\u001b[0;34m=\u001b[0m\u001b[0;34m'sqlite:///test.db'\u001b[0m\u001b[0;34m)\u001b[0m\u001b[0;34m\u001b[0m\u001b[0m\n\u001b[0m",
        "\u001b[0;32m/Users/rbiswas/src/LSST/sims_catalogs_generation/python/lsst/sims/catalogs/generation/db/dbConnection.pyc\u001b[0m in \u001b[0;36m__init__\u001b[0;34m(self, address, verbose)\u001b[0m\n\u001b[1;32m    347\u001b[0m         \u001b[0msuper\u001b[0m\u001b[0;34m(\u001b[0m\u001b[0mCatalogDBObject\u001b[0m\u001b[0;34m,\u001b[0m \u001b[0mself\u001b[0m\u001b[0;34m)\u001b[0m\u001b[0;34m.\u001b[0m\u001b[0m__init__\u001b[0m\u001b[0;34m(\u001b[0m\u001b[0maddress\u001b[0m\u001b[0;34m,\u001b[0m \u001b[0mverbose\u001b[0m\u001b[0;34m=\u001b[0m\u001b[0mverbose\u001b[0m\u001b[0;34m)\u001b[0m\u001b[0;34m\u001b[0m\u001b[0m\n\u001b[1;32m    348\u001b[0m \u001b[0;34m\u001b[0m\u001b[0m\n\u001b[0;32m--> 349\u001b[0;31m         \u001b[0mself\u001b[0m\u001b[0;34m.\u001b[0m\u001b[0m_get_table\u001b[0m\u001b[0;34m(\u001b[0m\u001b[0;34m)\u001b[0m\u001b[0;34m\u001b[0m\u001b[0m\n\u001b[0m\u001b[1;32m    350\u001b[0m \u001b[0;34m\u001b[0m\u001b[0m\n\u001b[1;32m    351\u001b[0m         \u001b[0;31m#Need to do this after the table is instantiated so that\u001b[0m\u001b[0;34m\u001b[0m\u001b[0;34m\u001b[0m\u001b[0m\n",
        "\u001b[0;32m/Users/rbiswas/src/LSST/sims_catalogs_generation/python/lsst/sims/catalogs/generation/db/dbConnection.pyc\u001b[0m in \u001b[0;36m_get_table\u001b[0;34m(self)\u001b[0m\n\u001b[1;32m    382\u001b[0m     \u001b[0;32mdef\u001b[0m \u001b[0m_get_table\u001b[0m\u001b[0;34m(\u001b[0m\u001b[0mself\u001b[0m\u001b[0;34m)\u001b[0m\u001b[0;34m:\u001b[0m\u001b[0;34m\u001b[0m\u001b[0m\n\u001b[1;32m    383\u001b[0m         self.table = Table(self.tableid, self.metadata,\n\u001b[0;32m--> 384\u001b[0;31m                            autoload=True)\n\u001b[0m\u001b[1;32m    385\u001b[0m \u001b[0;34m\u001b[0m\u001b[0m\n\u001b[1;32m    386\u001b[0m     \u001b[0;32mdef\u001b[0m \u001b[0m_make_column_map\u001b[0m\u001b[0;34m(\u001b[0m\u001b[0mself\u001b[0m\u001b[0;34m)\u001b[0m\u001b[0;34m:\u001b[0m\u001b[0;34m\u001b[0m\u001b[0m\n",
        "\u001b[0;32m/usr/local/manual/anaconda/lib/python2.7/site-packages/sqlalchemy/sql/schema.pyc\u001b[0m in \u001b[0;36m__new__\u001b[0;34m(cls, *args, **kw)\u001b[0m\n\u001b[1;32m    352\u001b[0m             \u001b[0mmetadata\u001b[0m\u001b[0;34m.\u001b[0m\u001b[0m_add_table\u001b[0m\u001b[0;34m(\u001b[0m\u001b[0mname\u001b[0m\u001b[0;34m,\u001b[0m \u001b[0mschema\u001b[0m\u001b[0;34m,\u001b[0m \u001b[0mtable\u001b[0m\u001b[0;34m)\u001b[0m\u001b[0;34m\u001b[0m\u001b[0m\n\u001b[1;32m    353\u001b[0m             \u001b[0;32mtry\u001b[0m\u001b[0;34m:\u001b[0m\u001b[0;34m\u001b[0m\u001b[0m\n\u001b[0;32m--> 354\u001b[0;31m                 \u001b[0mtable\u001b[0m\u001b[0;34m.\u001b[0m\u001b[0m_init\u001b[0m\u001b[0;34m(\u001b[0m\u001b[0mname\u001b[0m\u001b[0;34m,\u001b[0m \u001b[0mmetadata\u001b[0m\u001b[0;34m,\u001b[0m \u001b[0;34m*\u001b[0m\u001b[0margs\u001b[0m\u001b[0;34m,\u001b[0m \u001b[0;34m**\u001b[0m\u001b[0mkw\u001b[0m\u001b[0;34m)\u001b[0m\u001b[0;34m\u001b[0m\u001b[0m\n\u001b[0m\u001b[1;32m    355\u001b[0m                 \u001b[0mtable\u001b[0m\u001b[0;34m.\u001b[0m\u001b[0mdispatch\u001b[0m\u001b[0;34m.\u001b[0m\u001b[0mafter_parent_attach\u001b[0m\u001b[0;34m(\u001b[0m\u001b[0mtable\u001b[0m\u001b[0;34m,\u001b[0m \u001b[0mmetadata\u001b[0m\u001b[0;34m)\u001b[0m\u001b[0;34m\u001b[0m\u001b[0m\n\u001b[1;32m    356\u001b[0m                 \u001b[0;32mreturn\u001b[0m \u001b[0mtable\u001b[0m\u001b[0;34m\u001b[0m\u001b[0m\n",
        "\u001b[0;32m/usr/local/manual/anaconda/lib/python2.7/site-packages/sqlalchemy/sql/schema.pyc\u001b[0m in \u001b[0;36m_init\u001b[0;34m(self, name, metadata, *args, **kwargs)\u001b[0m\n\u001b[1;32m    425\u001b[0m         \u001b[0;31m# circular foreign keys\u001b[0m\u001b[0;34m\u001b[0m\u001b[0;34m\u001b[0m\u001b[0m\n\u001b[1;32m    426\u001b[0m         \u001b[0;32mif\u001b[0m \u001b[0mautoload\u001b[0m\u001b[0;34m:\u001b[0m\u001b[0;34m\u001b[0m\u001b[0m\n\u001b[0;32m--> 427\u001b[0;31m             \u001b[0mself\u001b[0m\u001b[0;34m.\u001b[0m\u001b[0m_autoload\u001b[0m\u001b[0;34m(\u001b[0m\u001b[0mmetadata\u001b[0m\u001b[0;34m,\u001b[0m \u001b[0mautoload_with\u001b[0m\u001b[0;34m,\u001b[0m \u001b[0minclude_columns\u001b[0m\u001b[0;34m)\u001b[0m\u001b[0;34m\u001b[0m\u001b[0m\n\u001b[0m\u001b[1;32m    428\u001b[0m \u001b[0;34m\u001b[0m\u001b[0m\n\u001b[1;32m    429\u001b[0m         \u001b[0;31m# initialize all the column, etc. objects.  done after reflection to\u001b[0m\u001b[0;34m\u001b[0m\u001b[0;34m\u001b[0m\u001b[0m\n",
        "\u001b[0;32m/usr/local/manual/anaconda/lib/python2.7/site-packages/sqlalchemy/sql/schema.pyc\u001b[0m in \u001b[0;36m_autoload\u001b[0;34m(self, metadata, autoload_with, include_columns, exclude_columns)\u001b[0m\n\u001b[1;32m    449\u001b[0m             bind.run_callable(\n\u001b[1;32m    450\u001b[0m                 \u001b[0mbind\u001b[0m\u001b[0;34m.\u001b[0m\u001b[0mdialect\u001b[0m\u001b[0;34m.\u001b[0m\u001b[0mreflecttable\u001b[0m\u001b[0;34m,\u001b[0m\u001b[0;34m\u001b[0m\u001b[0m\n\u001b[0;32m--> 451\u001b[0;31m                 \u001b[0mself\u001b[0m\u001b[0;34m,\u001b[0m \u001b[0minclude_columns\u001b[0m\u001b[0;34m,\u001b[0m \u001b[0mexclude_columns\u001b[0m\u001b[0;34m\u001b[0m\u001b[0m\n\u001b[0m\u001b[1;32m    452\u001b[0m             )\n\u001b[1;32m    453\u001b[0m \u001b[0;34m\u001b[0m\u001b[0m\n",
        "\u001b[0;32m/usr/local/manual/anaconda/lib/python2.7/site-packages/sqlalchemy/engine/base.pyc\u001b[0m in \u001b[0;36mrun_callable\u001b[0;34m(self, callable_, *args, **kwargs)\u001b[0m\n\u001b[1;32m   1731\u001b[0m         \"\"\"\n\u001b[1;32m   1732\u001b[0m         \u001b[0;32mwith\u001b[0m \u001b[0mself\u001b[0m\u001b[0;34m.\u001b[0m\u001b[0mcontextual_connect\u001b[0m\u001b[0;34m(\u001b[0m\u001b[0;34m)\u001b[0m \u001b[0;32mas\u001b[0m \u001b[0mconn\u001b[0m\u001b[0;34m:\u001b[0m\u001b[0;34m\u001b[0m\u001b[0m\n\u001b[0;32m-> 1733\u001b[0;31m             \u001b[0;32mreturn\u001b[0m \u001b[0mconn\u001b[0m\u001b[0;34m.\u001b[0m\u001b[0mrun_callable\u001b[0m\u001b[0;34m(\u001b[0m\u001b[0mcallable_\u001b[0m\u001b[0;34m,\u001b[0m \u001b[0;34m*\u001b[0m\u001b[0margs\u001b[0m\u001b[0;34m,\u001b[0m \u001b[0;34m**\u001b[0m\u001b[0mkwargs\u001b[0m\u001b[0;34m)\u001b[0m\u001b[0;34m\u001b[0m\u001b[0m\n\u001b[0m\u001b[1;32m   1734\u001b[0m \u001b[0;34m\u001b[0m\u001b[0m\n\u001b[1;32m   1735\u001b[0m     \u001b[0;32mdef\u001b[0m \u001b[0mexecute\u001b[0m\u001b[0;34m(\u001b[0m\u001b[0mself\u001b[0m\u001b[0;34m,\u001b[0m \u001b[0mstatement\u001b[0m\u001b[0;34m,\u001b[0m \u001b[0;34m*\u001b[0m\u001b[0mmultiparams\u001b[0m\u001b[0;34m,\u001b[0m \u001b[0;34m**\u001b[0m\u001b[0mparams\u001b[0m\u001b[0;34m)\u001b[0m\u001b[0;34m:\u001b[0m\u001b[0;34m\u001b[0m\u001b[0m\n",
        "\u001b[0;32m/usr/local/manual/anaconda/lib/python2.7/site-packages/sqlalchemy/engine/base.pyc\u001b[0m in \u001b[0;36mrun_callable\u001b[0;34m(self, callable_, *args, **kwargs)\u001b[0m\n\u001b[1;32m   1240\u001b[0m \u001b[0;34m\u001b[0m\u001b[0m\n\u001b[1;32m   1241\u001b[0m         \"\"\"\n\u001b[0;32m-> 1242\u001b[0;31m         \u001b[0;32mreturn\u001b[0m \u001b[0mcallable_\u001b[0m\u001b[0;34m(\u001b[0m\u001b[0mself\u001b[0m\u001b[0;34m,\u001b[0m \u001b[0;34m*\u001b[0m\u001b[0margs\u001b[0m\u001b[0;34m,\u001b[0m \u001b[0;34m**\u001b[0m\u001b[0mkwargs\u001b[0m\u001b[0;34m)\u001b[0m\u001b[0;34m\u001b[0m\u001b[0m\n\u001b[0m\u001b[1;32m   1243\u001b[0m \u001b[0;34m\u001b[0m\u001b[0m\n\u001b[1;32m   1244\u001b[0m     \u001b[0;32mdef\u001b[0m \u001b[0m_run_visitor\u001b[0m\u001b[0;34m(\u001b[0m\u001b[0mself\u001b[0m\u001b[0;34m,\u001b[0m \u001b[0mvisitorcallable\u001b[0m\u001b[0;34m,\u001b[0m \u001b[0melement\u001b[0m\u001b[0;34m,\u001b[0m \u001b[0;34m**\u001b[0m\u001b[0mkwargs\u001b[0m\u001b[0;34m)\u001b[0m\u001b[0;34m:\u001b[0m\u001b[0;34m\u001b[0m\u001b[0m\n",
        "\u001b[0;32m/usr/local/manual/anaconda/lib/python2.7/site-packages/sqlalchemy/engine/default.pyc\u001b[0m in \u001b[0;36mreflecttable\u001b[0;34m(self, connection, table, include_columns, exclude_columns)\u001b[0m\n\u001b[1;32m    354\u001b[0m             self, connection, table, include_columns, exclude_columns):\n\u001b[1;32m    355\u001b[0m         \u001b[0minsp\u001b[0m \u001b[0;34m=\u001b[0m \u001b[0mreflection\u001b[0m\u001b[0;34m.\u001b[0m\u001b[0mInspector\u001b[0m\u001b[0;34m.\u001b[0m\u001b[0mfrom_engine\u001b[0m\u001b[0;34m(\u001b[0m\u001b[0mconnection\u001b[0m\u001b[0;34m)\u001b[0m\u001b[0;34m\u001b[0m\u001b[0m\n\u001b[0;32m--> 356\u001b[0;31m         \u001b[0;32mreturn\u001b[0m \u001b[0minsp\u001b[0m\u001b[0;34m.\u001b[0m\u001b[0mreflecttable\u001b[0m\u001b[0;34m(\u001b[0m\u001b[0mtable\u001b[0m\u001b[0;34m,\u001b[0m \u001b[0minclude_columns\u001b[0m\u001b[0;34m,\u001b[0m \u001b[0mexclude_columns\u001b[0m\u001b[0;34m)\u001b[0m\u001b[0;34m\u001b[0m\u001b[0m\n\u001b[0m\u001b[1;32m    357\u001b[0m \u001b[0;34m\u001b[0m\u001b[0m\n\u001b[1;32m    358\u001b[0m     \u001b[0;32mdef\u001b[0m \u001b[0mget_pk_constraint\u001b[0m\u001b[0;34m(\u001b[0m\u001b[0mself\u001b[0m\u001b[0;34m,\u001b[0m \u001b[0mconn\u001b[0m\u001b[0;34m,\u001b[0m \u001b[0mtable_name\u001b[0m\u001b[0;34m,\u001b[0m \u001b[0mschema\u001b[0m\u001b[0;34m=\u001b[0m\u001b[0mNone\u001b[0m\u001b[0;34m,\u001b[0m \u001b[0;34m**\u001b[0m\u001b[0mkw\u001b[0m\u001b[0;34m)\u001b[0m\u001b[0;34m:\u001b[0m\u001b[0;34m\u001b[0m\u001b[0m\n",
        "\u001b[0;32m/usr/local/manual/anaconda/lib/python2.7/site-packages/sqlalchemy/engine/reflection.pyc\u001b[0m in \u001b[0;36mreflecttable\u001b[0;34m(self, table, include_columns, exclude_columns)\u001b[0m\n\u001b[1;32m    513\u001b[0m \u001b[0;34m\u001b[0m\u001b[0m\n\u001b[1;32m    514\u001b[0m         \u001b[0;32mif\u001b[0m \u001b[0;32mnot\u001b[0m \u001b[0mfound_table\u001b[0m\u001b[0;34m:\u001b[0m\u001b[0;34m\u001b[0m\u001b[0m\n\u001b[0;32m--> 515\u001b[0;31m             \u001b[0;32mraise\u001b[0m \u001b[0mexc\u001b[0m\u001b[0;34m.\u001b[0m\u001b[0mNoSuchTableError\u001b[0m\u001b[0;34m(\u001b[0m\u001b[0mtable\u001b[0m\u001b[0;34m.\u001b[0m\u001b[0mname\u001b[0m\u001b[0;34m)\u001b[0m\u001b[0;34m\u001b[0m\u001b[0m\n\u001b[0m\u001b[1;32m    516\u001b[0m \u001b[0;34m\u001b[0m\u001b[0m\n\u001b[1;32m    517\u001b[0m         pk_cons = self.get_pk_constraint(\n",
        "\u001b[0;31mNoSuchTableError\u001b[0m: galaxy"
       ]
      }
     ],
     "prompt_number": 29
    },
    {
     "cell_type": "code",
     "collapsed": false,
     "input": [
      "class myGalDB7(CatalogDBObject):\n",
      "    ''' like lsst.sims.catalogs.generation.utils.testUtils.myTestGals'''\n",
      "    objid = 'rrlystars'\n",
      "    tableid = 'gals2'\n",
      "    idColKey = 'id'\n",
      "    appendint = 10000\n",
      "    dbAddress = 'sqlite:///test.db'\n",
      "    raColName = 'raJ2000'\n",
      "    decColName = 'decJ2000'\n",
      "    columns = [('id', None, int),\n",
      "               ('raJ2000', 'ra'),\n",
      "               ('decJ2000', 'dec'),\n",
      "               ('redshift', 'redshift')]"
     ],
     "language": "python",
     "metadata": {},
     "outputs": [
      {
       "output_type": "stream",
       "stream": "stdout",
       "text": [
        "objid  rrlystars\n",
        "registry  ++++++++++++++++++++++++++++++++++++++++++++++\n",
        "Registered object types are:\n",
        "testDiskDBObj\n",
        "galaxyBase\n",
        "testGalaxyDBObj\n",
        "cepheidstars\n",
        "wdstars\n",
        "rrlystars\n",
        "starbase\n",
        "testBulgeDBObj\n",
        "mytestgals\n",
        "teststars\n",
        "dwarfgalstars\n",
        "galaxyDisk\n",
        "msstars\n",
        "galaxyTiled\n",
        "testStarDBObj\n",
        "testAgnDBObj\n",
        "allstars\n",
        "fileDBObject\n",
        "SearchReversion\n",
        "galaxyBulge\n",
        "ssm\n",
        "galaxyAgn\n",
        "testgals\n",
        "eastereggstars\n",
        "bhbstars\n",
        "lensgalaxy\n",
        "imageagn\n",
        "ebstars\n",
        "\n",
        "\n",
        "To query the possible column names do:\n",
        "$> CatalogDBObject.from_objid([name]).show_mapped_columns()\n",
        "+++++++++++++++++++++++++++++++++++++++++++++\n",
        "keys ['testDiskDBObj', 'galaxyBase', 'testGalaxyDBObj', 'cepheidstars', 'wdstars', 'rrlystars', 'starbase', 'testBulgeDBObj', 'mytestgals', 'teststars', 'dwarfgalstars', 'galaxyDisk', 'msstars', 'galaxyTiled', 'testStarDBObj', 'testAgnDBObj', 'allstars', 'fileDBObject', 'SearchReversion', 'galaxyBulge', 'ssm', 'galaxyAgn', 'testgals', 'eastereggstars', 'bhbstars', 'lensgalaxy', 'imageagn', 'ebstars']\n",
        "/Users/rbiswas/src/LSST/sims_catutils/python/lsst/sims/catUtils/baseCatalogModels/StarModels.py\n",
        "189\n"
       ]
      },
      {
       "output_type": "stream",
       "stream": "stderr",
       "text": [
        "duplicate object identifier rrlystars specified. This will override previous definition on line 189 of /Users/rbiswas/src/LSST/sims_catutils/python/lsst/sims/catUtils/baseCatalogModels/StarModels.py\n"
       ]
      }
     ],
     "prompt_number": 16
    },
    {
     "cell_type": "code",
     "collapsed": false,
     "input": [
      "gdb.execute_arbitrary('SELECT * FROM gals')"
     ],
     "language": "python",
     "metadata": {},
     "outputs": [
      {
       "metadata": {},
       "output_type": "pyout",
       "prompt_number": 19,
       "text": [
        "rec.array([(1000000, 0.9670298390136767, 0.5472322491757223, 0.9726843599648843),\n",
        "       (1000001, 0.7148159936743647, 0.6977288245972708, 0.21608949558037638),\n",
        "       (1000002, 0.9762744547762418, 0.006230255204589863, 0.25298236238344396),\n",
        "       (1000003, 0.4347915324044458, 0.7793829217937525, 0.19768507460025309),\n",
        "       (1000004, 0.8629932355992223, 0.9834006771753128, 0.16384224140469872),\n",
        "       (1000005, 0.5973339439328592, 0.008986097667554982, 0.3865712826436294),\n",
        "       (1000006, 0.044160057931499574, 0.9566529677142359, 0.43614664687979765),\n",
        "       (1000007, 0.9489773067815628, 0.786305985935061, 0.8662892985816985),\n",
        "       (1000008, 0.17316542149594816, 0.07494858701310703, 0.6007427213777693),\n",
        "       (1000009, 0.16797218371840383, 0.7333801675105699, 0.4084438601520147)], \n",
        "      dtype=[('id', '<i8'), ('raJ2000', '<f8'), ('decJ2000', '<f8'), ('redshift', '<f8')])"
       ]
      }
     ],
     "prompt_number": 19
    },
    {
     "cell_type": "code",
     "collapsed": false,
     "input": [
      "#This creates a list of obsMetaData with a starting point, a cadence and a total number of epochs\n",
      "def obsMetaDataList(startdate=570180, cadence=3.0, numepochs=20):\n",
      "    \"\"\"\n",
      "    create a list of obsMetaData variables for a list of pointings.\n",
      "\n",
      "\n",
      "    Parameters\n",
      "    ----------\n",
      "    startdate: float, optional, defaults to 570180\n",
      "        starting date of sequence\n",
      "    cadence: float, optional, defaults to 3.0\n",
      "        interval between epochs of observations\n",
      "    numepochs: int, optional, defaults to 20\n",
      "        number of epochs of observations\n",
      "\n",
      "\n",
      "    Returns\n",
      "    -------\n",
      "    list of `~lsst.sims.catalogs.generation.db.ObservationMetaData` variables\n",
      "\n",
      "\n",
      "    .. note: This will finally come from OpSims output, this is just a mock up.\n",
      "    \"\"\"\n",
      "\n",
      "    # List of MJDs with a three day cadence with 20 epochs\n",
      "    myMJDS = [startdate + cadence*i for i in range(numepochs)]\n",
      "    filters = ['u', 'g', 'r', 'i', 'z', 'y']\n",
      "    unrefRA = 5.0\n",
      "    unrefDec = 15.0\n",
      "    boundLen = 0.015\n",
      "    boundType = 'circle'\n",
      "\n",
      "    obsMetaDataList = []\n",
      "    for mjd in myMJDS:\n",
      "        obsMetaDataList.append(ObservationMetaData(boundType=boundType,\n",
      "                               unrefractedRA=unrefRA,\n",
      "                               unrefractedDec=unrefDec,\n",
      "                               boundLength=boundLen,\n",
      "                               bandpassName=filters,\n",
      "                               mjd=mjd))\n",
      "    return obsMetaDataList"
     ],
     "language": "python",
     "metadata": {},
     "outputs": [],
     "prompt_number": 20
    },
    {
     "cell_type": "code",
     "collapsed": false,
     "input": [
      "obsMDList = obsMetaDataList()\n",
      "myObsMD = obsMDList[0]"
     ],
     "language": "python",
     "metadata": {},
     "outputs": [],
     "prompt_number": 23
    },
    {
     "cell_type": "code",
     "collapsed": false,
     "input": [
      "print myObsMD.summary"
     ],
     "language": "python",
     "metadata": {},
     "outputs": [
      {
       "output_type": "stream",
       "stream": "stdout",
       "text": [
        "{'mjd': 570180.0, 'unrefractedRA': 0.087266462599716474, 'rotSkyPos': 0.0, 'boundLength': 0.00026179938779914941, 'skyBrightness': None, 'site': <lsst.sims.utils.Site.Site object at 0x10e6e5750>, 'unrefractedDec': 0.26179938779914941, 'boundType': 'circle', 'bandpass': ['u', 'g', 'r', 'i', 'z', 'y'], 'phoSimMetadata': None}\n"
       ]
      }
     ],
     "prompt_number": 26
    },
    {
     "cell_type": "code",
     "collapsed": false,
     "input": [
      "def samplePatchOnSphere(phi, theta, delta, size):\n",
      "    '''\n",
      "    Parameters\n",
      "    ----------\n",
      "    phi:\n",
      "    \n",
      "    theta:\n",
      "    \n",
      "    delta:\n",
      "    \n",
      "    '''\n",
      "    u = np.random.uniform(size=size)\n",
      "    v = np.random.uniform(size=size)\n",
      "    \n",
      "    phivals = delta * (2. * u - 1) + phi\n",
      "    \n",
      "    # thetavals\n",
      "    thetamax = theta + delta\n",
      "    thetamin = theta - delta\n",
      "    a = np.cos(thetamax) - np.cos(thetamin)\n",
      "    #b = np.cos(thetamin)\n",
      "    thetavals = np.arccos(v* a + np.cos(thetamin))\n",
      "    return phivals, thetavals"
     ],
     "language": "python",
     "metadata": {},
     "outputs": [],
     "prompt_number": 70
    },
    {
     "cell_type": "code",
     "collapsed": false,
     "input": [
      "x = samplePatchOnSphere(0.2, 0.26, 0.1, 10000)"
     ],
     "language": "python",
     "metadata": {},
     "outputs": [],
     "prompt_number": 71
    },
    {
     "cell_type": "code",
     "collapsed": false,
     "input": [
      "plt.plot(x[0], x[1],'o')"
     ],
     "language": "python",
     "metadata": {},
     "outputs": [
      {
       "metadata": {},
       "output_type": "pyout",
       "prompt_number": 72,
       "text": [
        "[<matplotlib.lines.Line2D at 0x110b6e990>]"
       ]
      },
      {
       "metadata": {},
       "output_type": "display_data",
       "png": "[encoded data removed]",
       "text": [
        "<matplotlib.figure.Figure at 0x10f9e1e50>"
       ]
      }
     ],
     "prompt_number": 72
    },
    {
     "cell_type": "code",
     "collapsed": false,
     "input": [
      "def sample_obsmetadata(obsmetadata, size=1):\n",
      "    mydict = obsmetadata.summary\n",
      "    phi = mydict['unrefractedRA']\n",
      "    theta = mydict['unrefractedDec']\n",
      "    equalrange = mydict['boundLength']\n",
      "    ravals, thetavals = samplePatchOnSphere(phi=phi, theta=theta, delta=equalrange, size=size)\n",
      "    return ravals, thetavals\n",
      "    "
     ],
     "language": "python",
     "metadata": {},
     "outputs": [],
     "prompt_number": 73
    },
    {
     "cell_type": "code",
     "collapsed": false,
     "input": [
      "samps = sample_obsmetadata(myObsMD, size=1000.)"
     ],
     "language": "python",
     "metadata": {},
     "outputs": [],
     "prompt_number": 74
    },
    {
     "cell_type": "code",
     "collapsed": false,
     "input": [
      "%matplotlib inline\n",
      "import matplotlib.pyplot as plt"
     ],
     "language": "python",
     "metadata": {},
     "outputs": [],
     "prompt_number": 75
    },
    {
     "cell_type": "code",
     "collapsed": false,
     "input": [
      "plt.plot(samps[0], samps[1],'o')\n",
      "plt.plot(myObsMD.summary['unrefractedRA'],myObsMD.summary['unrefractedDec'],'+r')"
     ],
     "language": "python",
     "metadata": {},
     "outputs": [
      {
       "metadata": {},
       "output_type": "pyout",
       "prompt_number": 76,
       "text": [
        "[<matplotlib.lines.Line2D at 0x110aba410>]"
       ]
      },
      {
       "metadata": {},
       "output_type": "display_data",
       "png": "[encoded data removed]",
       "text": [
        "<matplotlib.figure.Figure at 0x110aba890>"
       ]
      }
     ],
     "prompt_number": 76
    },
    {
     "cell_type": "code",
     "collapsed": false,
     "input": [
      "from lsst.sims.catalogs.measures.instance import InstanceCatalog\n",
      "class galCopy(InstanceCatalog):\n",
      "    column_outputs = ['id', 'raJ2000', 'decJ2000', 'redshift']\n",
      "    override_formats = {'raJ2000': '%8e', 'decJ2000': '%8e'}"
     ],
     "language": "python",
     "metadata": {},
     "outputs": [],
     "prompt_number": 21
    },
    {
     "cell_type": "code",
     "collapsed": false,
     "input": [
      "gals = galCopy(db_obj=gdb, obs_metadata=myObsMD)\n",
      "gals.write_catalog('gals.dat')"
     ],
     "language": "python",
     "metadata": {},
     "outputs": [],
     "prompt_number": 27
    },
    {
     "cell_type": "code",
     "collapsed": false,
     "input": [
      "!cat gals.dat"
     ],
     "language": "python",
     "metadata": {},
     "outputs": [
      {
       "output_type": "stream",
       "stream": "stdout",
       "text": [
        "#id, raJ2000, decJ2000, redshift\r\n"
       ]
      }
     ],
     "prompt_number": 28
    },
    {
     "cell_type": "code",
     "collapsed": false,
     "input": [
      "x = '''my string that contains 'single quotation marks' in it'''"
     ],
     "language": "python",
     "metadata": {},
     "outputs": [],
     "prompt_number": 22
    },
    {
     "cell_type": "code",
     "collapsed": false,
     "input": [
      "print x"
     ],
     "language": "python",
     "metadata": {},
     "outputs": [
      {
       "output_type": "stream",
       "stream": "stdout",
       "text": [
        "my string that contains 'single quotation marks' in it\n"
       ]
      }
     ],
     "prompt_number": 23
    },
    {
     "cell_type": "code",
     "collapsed": false,
     "input": [
      "x = 'INSERT INTO TABLE' + '\\'test\\''"
     ],
     "language": "python",
     "metadata": {},
     "outputs": [],
     "prompt_number": 24
    },
    {
     "cell_type": "code",
     "collapsed": false,
     "input": [
      "x = range(size)"
     ],
     "language": "python",
     "metadata": {},
     "outputs": [],
     "prompt_number": 25
    },
    {
     "cell_type": "code",
     "collapsed": false,
     "input": [
      "', '.join([\"?\"]*len(x))"
     ],
     "language": "python",
     "metadata": {},
     "outputs": [
      {
       "metadata": {},
       "output_type": "pyout",
       "prompt_number": 26,
       "text": [
        "'?, ?, ?, ?, ?, ?, ?, ?, ?, ?'"
       ]
      }
     ],
     "prompt_number": 26
    },
    {
     "cell_type": "code",
     "collapsed": false,
     "input": [],
     "language": "python",
     "metadata": {},
     "outputs": [],
     "prompt_number": 26
    },
    {
     "cell_type": "code",
     "collapsed": false,
     "input": [
      "testGalaxyTileDBObj()"
     ],
     "language": "python",
     "metadata": {},
     "outputs": [
      {
       "output_type": "stream",
       "stream": "stderr",
       "text": [
        "/usr/local/manual/anaconda/lib/python2.7/site-packages/sqlalchemy/dialects/mssql/base.py:1294: SAWarning: Did not recognize type 'geography' of column 'geopoint'\n",
        "  return fn(*arg, **kw)\n"
       ]
      },
      {
       "metadata": {},
       "output_type": "pyout",
       "prompt_number": 27,
       "text": [
        "<lsst.sims.catUtils.utils.testUtils.testGalaxyTileDBObj at 0x10de680d0>"
       ]
      }
     ],
     "prompt_number": 27
    },
    {
     "cell_type": "code",
     "collapsed": false,
     "input": [
      "!ls -ltr"
     ],
     "language": "python",
     "metadata": {},
     "outputs": [
      {
       "output_type": "stream",
       "stream": "stdout",
       "text": [
        "total 15488\r\n",
        "-rw-r--r--   1 rbiswas  staff     3605 Jan 12 16:17 testUtilsSNe.py\r\n",
        "-rw-r--r--   1 rbiswas  staff     3881 Jan 12 16:18 testUtilsSNe.pyc\r\n",
        "-rw-r--r--   1 rbiswas  staff  3172404 Jan 13 16:49 myProfile.dat\r\n",
        "-rw-r--r--   1 rbiswas  staff  3172404 Jan 13 16:55 myProfile.bak\r\n",
        "-rw-r--r--   1 rbiswas  staff        0 Jan 16 17:17 __init__.py\r\n",
        "-rw-r--r--   1 rbiswas  staff    56018 Jan 29 20:47 CCM.ipynb\r\n",
        "-rw-r--r--   1 rbiswas  staff    78490 Feb 23 10:19 SNIaCatT0_0.txt\r\n",
        "-rw-r--r--@  1 rbiswas  staff   472141 Feb 23 18:17 T0_hist.pdf\r\n",
        "-rw-r--r--   1 rbiswas  staff    21299 Feb 24 15:42 Untitled0.ipynb\r\n",
        "-rw-r--r--   1 rbiswas  staff    89962 Feb 24 16:58 SALT2_prob.ipynb\r\n",
        "-rw-r--r--   1 rbiswas  staff   110811 Feb 24 17:46 compare_gals_SN-Copy0.ipynb\r\n",
        "-rw-r--r--   1 rbiswas  staff   107276 Feb 24 17:48 compare_gals_SN.ipynb\r\n",
        "-rw-r--r--   1 rbiswas  staff       22 Mar  5 09:26 test\r\n",
        "-rw-r--r--   1 rbiswas  staff      581 Mar 12 22:38 Untitled1.ipynb\r\n",
        "-rw-r--r--   1 rbiswas  staff      355 Mar 19 14:58 SNIaCat_0.txt\r\n",
        "-rw-r--r--   1 rbiswas  staff      355 Mar 19 14:58 SNIaCat_zsupp.txt\r\n",
        "-rw-r--r--   1 rbiswas  staff      355 Mar 19 14:58 SNIaCat_zTsupp.txt\r\n",
        "-rw-r--r--   1 rbiswas  staff      355 Mar 19 14:58 SNIaCat_Tsupp.txt\r\n",
        "-rw-r--r--   1 rbiswas  staff     2463 Mar 20 10:36 example_cat.py\r\n",
        "-rw-r--r--   1 rbiswas  staff     1426 Mar 22 18:11 Untitled2.ipynb\r\n",
        "-rw-r--r--   1 rbiswas  staff     7717 Mar 22 23:35 SNIaCatalogDBUtils.py\r\n",
        "-rw-r--r--   1 rbiswas  staff   112788 Mar 23 13:42 plotSNfromDB.ipynb\r\n",
        "-rw-r--r--   1 rbiswas  staff      568 Mar 23 17:11 SNtest_new.txt\r\n",
        "-rw-r--r--   1 rbiswas  staff     7228 Mar 23 18:05 lightcurve_utils.py\r\n",
        "-rw-r--r--   1 rbiswas  staff      946 Mar 23 18:05 baseUniverse.py\r\n",
        "-rw-r--r--   1 rbiswas  staff    94119 Mar 23 18:05 SNObject_example.ipynb\r\n",
        "-rw-r--r--   1 rbiswas  staff     7717 Mar 23 18:05 SNIaCatalogDB.py\r\n",
        "-rw-r--r--   1 rbiswas  staff     7616 Mar 24 16:50 lightcurve_utils.pyc\r\n",
        "-rw-r--r--   1 rbiswas  staff      109 Mar 27 10:49 galtime.dat\r\n",
        "-rw-r--r--   1 rbiswas  staff   243533 Apr  7 11:31 SNinCatSim.ipynb\r\n",
        "-rw-r--r--   1 rbiswas  staff    52898 Apr  7 22:25 catalog_day.txt\r\n",
        "-rw-r--r--   1 rbiswas  staff      355 Apr  7 22:25 SN_TimeWindow.txt\r\n",
        "drwxr-xr-x  24 rbiswas  staff      816 Apr  7 22:26 \u001b[34mdata\u001b[m\u001b[m\r\n",
        "-rw-r--r--   1 rbiswas  staff      181 Apr  8 17:19 Untitled3.ipynb\r\n",
        "-rw-r--r--   1 rbiswas  staff    14748 Apr 10 10:24 test_catalogdbobject.ipynb\r\n",
        "-rw-r--r--   1 rbiswas  staff     2048 Apr 10 15:53 test.db\r\n",
        "-rw-r--r--   1 rbiswas  staff       33 Apr 10 15:53 gals.dat\r\n"
       ]
      }
     ],
     "prompt_number": 28
    },
    {
     "cell_type": "code",
     "collapsed": false,
     "input": [
      "from sniacatalogs.sncat import SNIaCatalog"
     ],
     "language": "python",
     "metadata": {},
     "outputs": [
      {
       "output_type": "stream",
       "stream": "stderr",
       "text": [
        " This call to matplotlib.use() has no effect\n",
        "because the backend has already been chosen;\n",
        "matplotlib.use() must be called *before* pylab, matplotlib.pyplot,\n",
        "or matplotlib.backends is imported for the first time.\n",
        "\n"
       ]
      }
     ],
     "prompt_number": 29
    },
    {
     "cell_type": "code",
     "collapsed": false,
     "input": [
      "type(myGalDB)"
     ],
     "language": "python",
     "metadata": {},
     "outputs": [
      {
       "metadata": {},
       "output_type": "pyout",
       "prompt_number": 30,
       "text": [
        "lsst.sims.catalogs.generation.db.dbConnection.CatalogDBObjectMeta"
       ]
      }
     ],
     "prompt_number": 30
    },
    {
     "cell_type": "code",
     "collapsed": false,
     "input": [
      "gdb = myGalDB()"
     ],
     "language": "python",
     "metadata": {},
     "outputs": [],
     "prompt_number": 31
    },
    {
     "cell_type": "code",
     "collapsed": false,
     "input": [
      "myInstancecatalog = "
     ],
     "language": "python",
     "metadata": {},
     "outputs": [
      {
       "ename": "SyntaxError",
       "evalue": "invalid syntax (<ipython-input-32-afab385e4e7f>, line 1)",
       "output_type": "pyerr",
       "traceback": [
        "\u001b[0;36m  File \u001b[0;32m\"<ipython-input-32-afab385e4e7f>\"\u001b[0;36m, line \u001b[0;32m1\u001b[0m\n\u001b[0;31m    myInstancecatalog =\u001b[0m\n\u001b[0m                        ^\u001b[0m\n\u001b[0;31mSyntaxError\u001b[0m\u001b[0;31m:\u001b[0m invalid syntax\n"
       ]
      }
     ],
     "prompt_number": 32
    },
    {
     "cell_type": "code",
     "collapsed": false,
     "input": [
      "from lsst.sims.catalogs.measures.instance import InstanceCatalog\n",
      "class galCopy(InstanceCatalog):\n",
      "    column_outputs = ['id', 'raJ2000', 'decJ2000', 'redshift']\n",
      "    override_formats = {'raJ2000': '%8e', 'decJ2000': '%8e'}"
     ],
     "language": "python",
     "metadata": {},
     "outputs": []
    },
    {
     "cell_type": "code",
     "collapsed": false,
     "input": [
      "g = galCopy(db_obj=gdb, )"
     ],
     "language": "python",
     "metadata": {},
     "outputs": []
    }
   ],
   "metadata": {}
  }
 ]
}