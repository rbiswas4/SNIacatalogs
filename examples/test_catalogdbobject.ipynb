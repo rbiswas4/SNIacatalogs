{
 "metadata": {
  "name": "",
  "signature": "sha256:6adc4142597b8a41e13bc0155064e410ad12ce5ae6aaa9be84d71642be1df2f3"
 },
 "nbformat": 3,
 "nbformat_minor": 0,
 "worksheets": [
  {
   "cells": [
    {
     "cell_type": "code",
     "collapsed": false,
     "input": [
      "import sqlite3\n",
      "import os\n",
      "import numpy as np\n",
      "from lsst.sims.catalogs.generation.utils import testUtils as tu\n",
      "from lsst.sims.catalogs.generation.db import CatalogDBObject, ObservationMetaData"
     ],
     "language": "python",
     "metadata": {},
     "outputs": [],
     "prompt_number": 1
    },
    {
     "cell_type": "code",
     "collapsed": false,
     "input": [
      "from lsst.sims.catUtils.utils.testUtils import testGalaxyTileDBObj"
     ],
     "language": "python",
     "metadata": {},
     "outputs": [],
     "prompt_number": 2
    },
    {
     "cell_type": "code",
     "collapsed": false,
     "input": [
      "%matplotlib inline\n",
      "import matplotlib.pyplot as plt"
     ],
     "language": "python",
     "metadata": {},
     "outputs": [],
     "prompt_number": 3
    },
    {
     "cell_type": "heading",
     "level": 2,
     "metadata": {},
     "source": [
      "Create obsMetaData"
     ]
    },
    {
     "cell_type": "code",
     "collapsed": false,
     "input": [
      "#This creates a list of obsMetaData with a starting point, a cadence and a total number of epochs\n",
      "def obsMetaDataList(startdate=570180, cadence=3.0, numepochs=20):\n",
      "    \"\"\"\n",
      "    create a list of obsMetaData variables for a list of pointings.\n",
      "\n",
      "\n",
      "    Parameters\n",
      "    ----------\n",
      "    startdate: float, optional, defaults to 570180\n",
      "        starting date of sequence\n",
      "    cadence: float, optional, defaults to 3.0\n",
      "        interval between epochs of observations\n",
      "    numepochs: int, optional, defaults to 20\n",
      "        number of epochs of observations\n",
      "\n",
      "\n",
      "    Returns\n",
      "    -------\n",
      "    list of `~lsst.sims.catalogs.generation.db.ObservationMetaData` variables\n",
      "\n",
      "\n",
      "    .. note: This will finally come from OpSims output, this is just a mock up.\n",
      "    \"\"\"\n",
      "\n",
      "    # List of MJDs with a three day cadence with 20 epochs\n",
      "    myMJDS = [startdate + cadence*i for i in range(numepochs)]\n",
      "    filters = ['u', 'g', 'r', 'i', 'z', 'y']\n",
      "    unrefRA = 5.0\n",
      "    unrefDec = 15.0\n",
      "    boundLen = 0.015\n",
      "    boundType = 'circle'\n",
      "\n",
      "    obsMetaDataList = []\n",
      "    for mjd in myMJDS:\n",
      "        obsMetaDataList.append(ObservationMetaData(boundType=boundType,\n",
      "                               unrefractedRA=unrefRA,\n",
      "                               unrefractedDec=unrefDec,\n",
      "                               boundLength=boundLen,\n",
      "                               bandpassName=filters,\n",
      "                               mjd=mjd))\n",
      "    return obsMetaDataList"
     ],
     "language": "python",
     "metadata": {},
     "outputs": [],
     "prompt_number": 4
    },
    {
     "cell_type": "code",
     "collapsed": false,
     "input": [
      "obsMDList = obsMetaDataList()\n",
      "myObsMD = obsMDList[0]\n",
      "print myObsMD.summary"
     ],
     "language": "python",
     "metadata": {},
     "outputs": [
      {
       "output_type": "stream",
       "stream": "stdout",
       "text": [
        "{'mjd': 570180.0, 'unrefractedRA': 0.087266462599716474, 'rotSkyPos': 0.0, 'boundLength': 0.00026179938779914941, 'skyBrightness': None, 'site': <lsst.sims.utils.Site.Site object at 0x10d471590>, 'unrefractedDec': 0.26179938779914941, 'boundType': 'circle', 'bandpass': ['u', 'g', 'r', 'i', 'z', 'y'], 'phoSimMetadata': None}\n"
       ]
      }
     ],
     "prompt_number": 5
    },
    {
     "cell_type": "heading",
     "level": 2,
     "metadata": {},
     "source": [
      "Sampling patches of a sphere overlapping with obsmetadata region"
     ]
    },
    {
     "cell_type": "code",
     "collapsed": false,
     "input": [
      "def samplePatchOnSphere(phi, theta, delta, size):\n",
      "    '''\n",
      "    Uniformly distributes samples on a spherical patch between phi \\pm delta,\n",
      "    and theta \\pm delta.\n",
      "    Parameters\n",
      "    ----------\n",
      "    phi: float, mandatory\n",
      "        center of the spherical patch\n",
      "    theta: float, mandatory\n",
      "    \n",
      "    delta: float, mandatory\n",
      "        \n",
      "    size: int, mandatory\n",
      "        number of samples\n",
      "    \n",
      "    '''\n",
      "    u = np.random.uniform(size=size)\n",
      "    v = np.random.uniform(size=size)\n",
      "    \n",
      "    phivals = delta * (2. * u - 1) + phi\n",
      "    \n",
      "    # thetavals\n",
      "    thetamax = theta + delta\n",
      "    thetamin = theta - delta\n",
      "    a = np.cos(thetamax) - np.cos(thetamin)\n",
      "    #b = np.cos(thetamin)\n",
      "    thetavals = np.arccos(v* a + np.cos(thetamin))\n",
      "    return phivals, thetavals"
     ],
     "language": "python",
     "metadata": {},
     "outputs": [],
     "prompt_number": 6
    },
    {
     "cell_type": "code",
     "collapsed": false,
     "input": [
      "def sample_obsmetadata(obsmetadata, size=1):\n",
      "    mydict = obsmetadata.summary\n",
      "    phi = mydict['unrefractedRA']\n",
      "    theta = mydict['unrefractedDec']\n",
      "    equalrange = mydict['boundLength']\n",
      "    ravals, thetavals = samplePatchOnSphere(phi=phi, theta=theta, delta=equalrange, size=size)\n",
      "    return ravals, thetavals\n"
     ],
     "language": "python",
     "metadata": {},
     "outputs": [],
     "prompt_number": 7
    },
    {
     "cell_type": "code",
     "collapsed": false,
     "input": [
      "samps = sample_obsmetadata(myObsMD, size=1000.)"
     ],
     "language": "python",
     "metadata": {},
     "outputs": [],
     "prompt_number": 8
    },
    {
     "cell_type": "code",
     "collapsed": false,
     "input": [
      "fig, ax = plt.subplots()\n",
      "ax.set_aspect(1.)\n",
      "ax.plot(samps[0], samps[1],'o')\n",
      "racenter = myObsMD.summary['unrefractedRA']\n",
      "deccenter = myObsMD.summary['unrefractedDec']\n",
      "rad = myObsMD.summary['boundLength']\n",
      "#plt.plot(racenter, deccenter,'+r')\n",
      "#plt.Circle((racenter, deccenter), radius=rad)\n",
      "circ = plt.Circle((racenter, deccenter), radius=rad, color='r', alpha=0.3)\n",
      "ax.add_patch(circ)\n",
      "ax.set_title('Random positions and obsMetaData footprint')"
     ],
     "language": "python",
     "metadata": {},
     "outputs": [
      {
       "metadata": {},
       "output_type": "pyout",
       "prompt_number": 9,
       "text": [
        "<matplotlib.text.Text at 0x10d570090>"
       ]
      },
      {
       "metadata": {},
       "output_type": "display_data",
       "png": "[encoded data removed]",
       "text": [
        "<matplotlib.figure.Figure at 0x10d47a310>"
       ]
      }
     ],
     "prompt_number": 9
    },
    {
     "cell_type": "heading",
     "level": 2,
     "metadata": {},
     "source": [
      "Create a database of galaxies that overlap with region of interest"
     ]
    },
    {
     "cell_type": "code",
     "collapsed": false,
     "input": [
      "!ls *.db"
     ],
     "language": "python",
     "metadata": {},
     "outputs": [
      {
       "output_type": "stream",
       "stream": "stdout",
       "text": [
        "test.db\r\n"
       ]
      }
     ],
     "prompt_number": 10
    },
    {
     "cell_type": "code",
     "collapsed": false,
     "input": [
      "def cleanDB(dbname, verbose=True):\n",
      "    '''\n",
      "    Deletes the database from the disk.\n",
      "    Parameters\n",
      "    ----------\n",
      "    dbname: string, mandatory\n",
      "        name (abs path) of the database to be deleted\n",
      "    verbose: Bool, optional, defaults to True\n",
      "    \n",
      "    '''\n",
      "    \n",
      "    if os.path.exists(dbname):\n",
      "        if verbose:\n",
      "            print \"deleting database \", dbname\n",
      "        os.unlink(dbname)\n",
      "    else:\n",
      "        if verbose:\n",
      "            print 'database ', dbname, ' does not exist'"
     ],
     "language": "python",
     "metadata": {},
     "outputs": [],
     "prompt_number": 11
    },
    {
     "cell_type": "code",
     "collapsed": false,
     "input": [
      "cleanDB(dbname='test.db')\n",
      "conn = sqlite3.connect('test.db')"
     ],
     "language": "python",
     "metadata": {},
     "outputs": [
      {
       "output_type": "stream",
       "stream": "stdout",
       "text": [
        "deleting database  test.db\n"
       ]
      }
     ],
     "prompt_number": 12
    },
    {
     "cell_type": "code",
     "collapsed": false,
     "input": [
      "!ls *.db"
     ],
     "language": "python",
     "metadata": {},
     "outputs": [
      {
       "output_type": "stream",
       "stream": "stdout",
       "text": [
        "test.db\r\n"
       ]
      }
     ],
     "prompt_number": 13
    },
    {
     "cell_type": "code",
     "collapsed": false,
     "input": [
      "curs = conn.cursor()\n",
      "curs.execute('CREATE TABLE if not exists gals (id INT, raJ2000 FLOAT, decJ2000 FLOAT, redshift FLOAT)')"
     ],
     "language": "python",
     "metadata": {},
     "outputs": [
      {
       "metadata": {},
       "output_type": "pyout",
       "prompt_number": 14,
       "text": [
        "<sqlite3.Cursor at 0x10d3b9ea0>"
       ]
      }
     ],
     "prompt_number": 14
    },
    {
     "cell_type": "code",
     "collapsed": false,
     "input": [
      "size = 1000"
     ],
     "language": "python",
     "metadata": {},
     "outputs": [],
     "prompt_number": 15
    },
    {
     "cell_type": "code",
     "collapsed": false,
     "input": [
      "import testUtilsSNe as sq"
     ],
     "language": "python",
     "metadata": {},
     "outputs": [],
     "prompt_number": 16
    },
    {
     "cell_type": "code",
     "collapsed": false,
     "input": [
      "np.random.seed(4)\n",
      "samps = sample_obsmetadata(myObsMD, size=size)\n",
      "\n",
      "for count in range(size):\n",
      "    id = 1000000 + count\n",
      "    ra = samps[0][count]\n",
      "    dec = samps[1][count]\n",
      "    redshift = np.random.uniform()\n",
      "    row = tuple([id, ra, dec, redshift])\n",
      "    exec_str = sq.insertfromdata(tablename='gals',records=row, multiple=False)\n",
      "    curs.execute(exec_str, row)\n",
      "    "
     ],
     "language": "python",
     "metadata": {},
     "outputs": [],
     "prompt_number": 17
    },
    {
     "cell_type": "code",
     "collapsed": false,
     "input": [
      "conn.commit()\n",
      "conn.close()"
     ],
     "language": "python",
     "metadata": {},
     "outputs": [],
     "prompt_number": 18
    },
    {
     "cell_type": "heading",
     "level": 4,
     "metadata": {},
     "source": [
      "Check that database works"
     ]
    },
    {
     "cell_type": "markdown",
     "metadata": {},
     "source": [
      "File exists"
     ]
    },
    {
     "cell_type": "code",
     "collapsed": false,
     "input": [
      "!ls -ltr *.db"
     ],
     "language": "python",
     "metadata": {},
     "outputs": [
      {
       "output_type": "stream",
       "stream": "stdout",
       "text": [
        "-rw-r--r--  1 rbiswas  staff  39936 Apr 11 17:04 test.db\r\n"
       ]
      }
     ],
     "prompt_number": 19
    },
    {
     "cell_type": "markdown",
     "metadata": {},
     "source": [
      "Query the database"
     ]
    },
    {
     "cell_type": "code",
     "collapsed": false,
     "input": [
      "conn = sqlite3.connect('test.db')\n",
      "c = conn.cursor()\n",
      "c.execute('SELECT * FROM gals')"
     ],
     "language": "python",
     "metadata": {},
     "outputs": [
      {
       "metadata": {},
       "output_type": "pyout",
       "prompt_number": 20,
       "text": [
        "<sqlite3.Cursor at 0x10e2281f0>"
       ]
      }
     ],
     "prompt_number": 20
    },
    {
     "cell_type": "code",
     "collapsed": false,
     "input": [
      "res = c.fetchall()\n",
      "conn.close()\n",
      "print np.shape(res)"
     ],
     "language": "python",
     "metadata": {},
     "outputs": [
      {
       "output_type": "stream",
       "stream": "stdout",
       "text": [
        "(1000, 4)\n"
       ]
      }
     ],
     "prompt_number": 21
    },
    {
     "cell_type": "heading",
     "level": 2,
     "metadata": {},
     "source": [
      "Create a catalogDBObject"
     ]
    },
    {
     "cell_type": "markdown",
     "metadata": {},
     "source": [
      "Inherit from the CatalogDBObject class. Not sure what the minimal set of functions to be defined are?"
     ]
    },
    {
     "cell_type": "code",
     "collapsed": false,
     "input": [
      "class myGalDB(CatalogDBObject):\n",
      "    ''' like lsst.sims.catalogs.generation.utils.testUtils.myTestGals'''\n",
      "    objid = 'mytestgals'\n",
      "    tableid = 'gals'\n",
      "    idColKey = 'id'\n",
      "    appendint = 10000\n",
      "    dbAddress = 'sqlite:///test.db'\n",
      "    raColName = 'raJ2000'\n",
      "    decColName = 'decJ2000'"
     ],
     "language": "python",
     "metadata": {},
     "outputs": [],
     "prompt_number": 22
    },
    {
     "cell_type": "code",
     "collapsed": false,
     "input": [
      "gdb = myGalDB()"
     ],
     "language": "python",
     "metadata": {},
     "outputs": [],
     "prompt_number": 23
    },
    {
     "cell_type": "code",
     "collapsed": false,
     "input": [
      "gdb.show_mapped_columns()"
     ],
     "language": "python",
     "metadata": {},
     "outputs": [
      {
       "output_type": "stream",
       "stream": "stdout",
       "text": [
        "id -- int\n",
        "raJ2000 -- float\n",
        "decJ2000 -- float\n",
        "redshift -- float\n"
       ]
      }
     ],
     "prompt_number": 24
    },
    {
     "cell_type": "markdown",
     "metadata": {},
     "source": [
      "So, columns is a required quantity"
     ]
    },
    {
     "cell_type": "code",
     "collapsed": false,
     "input": [
      "gdbdata = gdb.execute_arbitrary('SELECT * FROM gals')"
     ],
     "language": "python",
     "metadata": {},
     "outputs": [],
     "prompt_number": 26
    },
    {
     "cell_type": "code",
     "collapsed": false,
     "input": [
      "print 'size of gdbdata', np.shape(gdbdata)\n",
      "print gdbdata[0]"
     ],
     "language": "python",
     "metadata": {},
     "outputs": [
      {
       "output_type": "stream",
       "stream": "stdout",
       "text": [
        "size of gdbdata (1000,)\n",
        "(1000000, 0.0875109988515919, 0.26189508688818175, 0.5991196778876893)\n"
       ]
      }
     ],
     "prompt_number": 28
    },
    {
     "cell_type": "code",
     "collapsed": false,
     "input": [
      "from lsst.sims.catalogs.measures.instance import InstanceCatalog\n",
      "class galCopy(InstanceCatalog):\n",
      "    column_outputs = ['id', 'raJ2000', 'decJ2000', 'redshift']\n",
      "    override_formats = {'raJ2000': '%8e', 'decJ2000': '%8e'}"
     ],
     "language": "python",
     "metadata": {},
     "outputs": [],
     "prompt_number": 29
    },
    {
     "cell_type": "code",
     "collapsed": false,
     "input": [
      "gals = galCopy(db_obj=gdb, obs_metadata=myObsMD)\n",
      "gals.write_catalog('gals.dat')"
     ],
     "language": "python",
     "metadata": {},
     "outputs": [],
     "prompt_number": 30
    },
    {
     "cell_type": "code",
     "collapsed": false,
     "input": [
      "!head gals.dat"
     ],
     "language": "python",
     "metadata": {},
     "outputs": [
      {
       "output_type": "stream",
       "stream": "stdout",
       "text": [
        "#id, raJ2000, decJ2000, redshift\r\n"
       ]
      }
     ],
     "prompt_number": 31
    }
   ],
   "metadata": {}
  }
 ]
}