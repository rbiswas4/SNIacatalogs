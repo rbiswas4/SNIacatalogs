{
 "metadata": {
  "name": "",
  "signature": "sha256:985a1598486d700397f94826d2b17cb2bf14f45728fbe7ed646321dd0e63f877"
 },
 "nbformat": 3,
 "nbformat_minor": 0,
 "worksheets": [
  {
   "cells": [
    {
     "cell_type": "code",
     "collapsed": false,
     "input": [
      "import sqlite3\n",
      "import os\n",
      "import numpy as np\n",
      "from lsst.sims.catalogs.generation.utils import testUtils as tu\n",
      "from lsst.sims.catalogs.generation.db import CatalogDBObject, ObservationMetaData"
     ],
     "language": "python",
     "metadata": {},
     "outputs": [],
     "prompt_number": 1
    },
    {
     "cell_type": "code",
     "collapsed": false,
     "input": [
      "from lsst.sims.catUtils.utils.testUtils import testGalaxyTileDBObj"
     ],
     "language": "python",
     "metadata": {},
     "outputs": [],
     "prompt_number": 2
    },
    {
     "cell_type": "code",
     "collapsed": false,
     "input": [
      "%matplotlib inline\n",
      "import matplotlib.pyplot as plt"
     ],
     "language": "python",
     "metadata": {},
     "outputs": [],
     "prompt_number": 3
    },
    {
     "cell_type": "heading",
     "level": 2,
     "metadata": {},
     "source": [
      "Create obsMetaData"
     ]
    },
    {
     "cell_type": "code",
     "collapsed": false,
     "input": [
      "#This creates a list of obsMetaData with a starting point, a cadence and a total number of epochs\n",
      "def obsMetaDataList(startdate=570180, cadence=3.0, numepochs=20):\n",
      "    \"\"\"\n",
      "    create a list of obsMetaData variables for a list of pointings.\n",
      "\n",
      "\n",
      "    Parameters\n",
      "    ----------\n",
      "    startdate: float, optional, defaults to 570180\n",
      "        starting date of sequence\n",
      "    cadence: float, optional, defaults to 3.0\n",
      "        interval between epochs of observations\n",
      "    numepochs: int, optional, defaults to 20\n",
      "        number of epochs of observations\n",
      "\n",
      "\n",
      "    Returns\n",
      "    -------\n",
      "    list of `~lsst.sims.catalogs.generation.db.ObservationMetaData` variables\n",
      "\n",
      "\n",
      "    .. note: This will finally come from OpSims output, this is just a mock up.\n",
      "    \"\"\"\n",
      "\n",
      "    # List of MJDs with a three day cadence with 20 epochs\n",
      "    myMJDS = [startdate + cadence*i for i in range(numepochs)]\n",
      "    filters = ['u', 'g', 'r', 'i', 'z', 'y']\n",
      "    unrefRA = 5.0\n",
      "    unrefDec = 15.0\n",
      "    boundLen = 0.015\n",
      "    boundType = 'circle'\n",
      "\n",
      "    obsMetaDataList = []\n",
      "    for mjd in myMJDS:\n",
      "        obsMetaDataList.append(ObservationMetaData(boundType=boundType,\n",
      "                               unrefractedRA=unrefRA,\n",
      "                               unrefractedDec=unrefDec,\n",
      "                               boundLength=boundLen,\n",
      "                               bandpassName=filters,\n",
      "                               mjd=mjd))\n",
      "    return obsMetaDataList"
     ],
     "language": "python",
     "metadata": {},
     "outputs": [],
     "prompt_number": 4
    },
    {
     "cell_type": "code",
     "collapsed": false,
     "input": [
      "obsMDList = obsMetaDataList()\n",
      "myObsMD = obsMDList[0]\n",
      "print myObsMD.summary"
     ],
     "language": "python",
     "metadata": {},
     "outputs": [
      {
       "output_type": "stream",
       "stream": "stdout",
       "text": [
        "{'mjd': 570180.0, 'unrefractedRA': 0.087266462599716474, 'rotSkyPos': 0.0, 'boundLength': 0.00026179938779914941, 'skyBrightness': None, 'site': <lsst.sims.utils.Site.Site object at 0x10d235590>, 'unrefractedDec': 0.26179938779914941, 'boundType': 'circle', 'bandpass': ['u', 'g', 'r', 'i', 'z', 'y'], 'phoSimMetadata': None}\n"
       ]
      }
     ],
     "prompt_number": 5
    },
    {
     "cell_type": "heading",
     "level": 2,
     "metadata": {},
     "source": [
      "Sampling patches of a sphere overlapping with obsmetadata region"
     ]
    },
    {
     "cell_type": "code",
     "collapsed": false,
     "input": [
      "def samplePatchOnSphere(phi, theta, delta, size):\n",
      "    '''\n",
      "    Uniformly distributes samples on a spherical patch between phi \\pm delta,\n",
      "    and theta \\pm delta.\n",
      "    Parameters\n",
      "    ----------\n",
      "    phi: float, mandatory\n",
      "        center of the spherical patch\n",
      "    theta: float, mandatory\n",
      "    \n",
      "    delta: float, mandatory\n",
      "        \n",
      "    size: int, mandatory\n",
      "        number of samples\n",
      "    \n",
      "    '''\n",
      "    u = np.random.uniform(size=size)\n",
      "    v = np.random.uniform(size=size)\n",
      "    \n",
      "    phivals = delta * (2. * u - 1) + phi\n",
      "    \n",
      "    # thetavals\n",
      "    thetamax = theta + delta\n",
      "    thetamin = theta - delta\n",
      "    a = np.cos(thetamax) - np.cos(thetamin)\n",
      "    #b = np.cos(thetamin)\n",
      "    thetavals = np.arccos(v* a + np.cos(thetamin))\n",
      "    return phivals, thetavals"
     ],
     "language": "python",
     "metadata": {},
     "outputs": [],
     "prompt_number": 6
    },
    {
     "cell_type": "code",
     "collapsed": false,
     "input": [
      "def sample_obsmetadata(obsmetadata, size=1):\n",
      "    mydict = obsmetadata.summary\n",
      "    phi = mydict['unrefractedRA']\n",
      "    theta = mydict['unrefractedDec']\n",
      "    equalrange = mydict['boundLength']\n",
      "    ravals, thetavals = samplePatchOnSphere(phi=phi, theta=theta, delta=equalrange, size=size)\n",
      "    return ravals, thetavals\n"
     ],
     "language": "python",
     "metadata": {},
     "outputs": [],
     "prompt_number": 7
    },
    {
     "cell_type": "code",
     "collapsed": false,
     "input": [
      "samps = sample_obsmetadata(myObsMD, size=1000.)"
     ],
     "language": "python",
     "metadata": {},
     "outputs": [],
     "prompt_number": 8
    },
    {
     "cell_type": "code",
     "collapsed": false,
     "input": [
      "def obsmetaDatacirc(myObsMD, color='r', alpha=0.5):\n",
      "    racenter = myObsMD.summary['unrefractedRA']\n",
      "    deccenter = myObsMD.summary['unrefractedDec']\n",
      "    rad = myObsMD.summary['boundLength']\n",
      "    circ = plt.Circle((racenter, deccenter), radius=rad, color=color, \n",
      "                      alpha=alpha)\n",
      "    return circ\n"
     ],
     "language": "python",
     "metadata": {},
     "outputs": [],
     "prompt_number": 9
    },
    {
     "cell_type": "code",
     "collapsed": false,
     "input": [
      "fig, ax = plt.subplots()\n",
      "ax.set_aspect(1.)\n",
      "ax.plot(samps[0], samps[1],'o')\n",
      "circ = obsmetaDatacirc(myObsMD)\n",
      "ax.add_patch(circ)\n",
      "ax.set_title('Random positions and obsMetaData footprint')"
     ],
     "language": "python",
     "metadata": {},
     "outputs": [
      {
       "metadata": {},
       "output_type": "pyout",
       "prompt_number": 10,
       "text": [
        "<matplotlib.text.Text at 0x10d33e7d0>"
       ]
      },
      {
       "metadata": {},
       "output_type": "display_data",
       "png": "[encoded data removed]",
       "text": [
        "<matplotlib.figure.Figure at 0x10d243a10>"
       ]
      }
     ],
     "prompt_number": 10
    },
    {
     "cell_type": "heading",
     "level": 2,
     "metadata": {},
     "source": [
      "Create a database of galaxies that overlap with region of interest"
     ]
    },
    {
     "cell_type": "code",
     "collapsed": false,
     "input": [
      "!ls *.db"
     ],
     "language": "python",
     "metadata": {},
     "outputs": [
      {
       "output_type": "stream",
       "stream": "stdout",
       "text": [
        "test.db\r\n"
       ]
      }
     ],
     "prompt_number": 11
    },
    {
     "cell_type": "code",
     "collapsed": false,
     "input": [
      "def cleanDB(dbname, verbose=True):\n",
      "    '''\n",
      "    Deletes the database from the disk.\n",
      "    Parameters\n",
      "    ----------\n",
      "    dbname: string, mandatory\n",
      "        name (abs path) of the database to be deleted\n",
      "    verbose: Bool, optional, defaults to True\n",
      "    \n",
      "    '''\n",
      "    \n",
      "    if os.path.exists(dbname):\n",
      "        if verbose:\n",
      "            print \"deleting database \", dbname\n",
      "        os.unlink(dbname)\n",
      "    else:\n",
      "        if verbose:\n",
      "            print 'database ', dbname, ' does not exist'"
     ],
     "language": "python",
     "metadata": {},
     "outputs": [],
     "prompt_number": 12
    },
    {
     "cell_type": "code",
     "collapsed": false,
     "input": [
      "cleanDB(dbname='test.db')\n",
      "conn = sqlite3.connect('test.db')"
     ],
     "language": "python",
     "metadata": {},
     "outputs": [
      {
       "output_type": "stream",
       "stream": "stdout",
       "text": [
        "deleting database  test.db\n"
       ]
      }
     ],
     "prompt_number": 13
    },
    {
     "cell_type": "code",
     "collapsed": false,
     "input": [
      "!ls *.db"
     ],
     "language": "python",
     "metadata": {},
     "outputs": [
      {
       "output_type": "stream",
       "stream": "stdout",
       "text": [
        "test.db\r\n"
       ]
      }
     ],
     "prompt_number": 14
    },
    {
     "cell_type": "code",
     "collapsed": false,
     "input": [
      "curs = conn.cursor()\n",
      "curs.execute('CREATE TABLE if not exists gals (id INT, raJ2000 FLOAT, decJ2000 FLOAT, redshift FLOAT)')"
     ],
     "language": "python",
     "metadata": {},
     "outputs": [
      {
       "metadata": {},
       "output_type": "pyout",
       "prompt_number": 15,
       "text": [
        "<sqlite3.Cursor at 0x10d239570>"
       ]
      }
     ],
     "prompt_number": 15
    },
    {
     "cell_type": "code",
     "collapsed": false,
     "input": [
      "size = 1000"
     ],
     "language": "python",
     "metadata": {},
     "outputs": [],
     "prompt_number": 16
    },
    {
     "cell_type": "code",
     "collapsed": false,
     "input": [
      "import testUtilsSNe as sq"
     ],
     "language": "python",
     "metadata": {},
     "outputs": [],
     "prompt_number": 17
    },
    {
     "cell_type": "code",
     "collapsed": false,
     "input": [
      "np.random.seed(4)\n",
      "samps = sample_obsmetadata(myObsMD, size=size)\n",
      "\n",
      "for count in range(size):\n",
      "    id = 1000000 + count\n",
      "    # Main Database should have values in degrees\n",
      "    ra = np.degrees(samps[0][count]) \n",
      "    dec = np.degrees(samps[1][count])\n",
      "    redshift = np.random.uniform()\n",
      "    row = tuple([id, ra, dec, redshift])\n",
      "    exec_str = sq.insertfromdata(tablename='gals',records=row, multiple=False)\n",
      "    curs.execute(exec_str, row)\n",
      "    "
     ],
     "language": "python",
     "metadata": {},
     "outputs": [],
     "prompt_number": 18
    },
    {
     "cell_type": "code",
     "collapsed": false,
     "input": [
      "conn.commit()\n",
      "conn.close()"
     ],
     "language": "python",
     "metadata": {},
     "outputs": [],
     "prompt_number": 19
    },
    {
     "cell_type": "heading",
     "level": 4,
     "metadata": {},
     "source": [
      "Check that database works"
     ]
    },
    {
     "cell_type": "markdown",
     "metadata": {},
     "source": [
      "File exists"
     ]
    },
    {
     "cell_type": "code",
     "collapsed": false,
     "input": [
      "!ls -ltr *.db"
     ],
     "language": "python",
     "metadata": {},
     "outputs": [
      {
       "output_type": "stream",
       "stream": "stdout",
       "text": [
        "-rw-r--r--  1 rbiswas  staff  39936 Apr 13 11:19 test.db\r\n"
       ]
      }
     ],
     "prompt_number": 20
    },
    {
     "cell_type": "markdown",
     "metadata": {},
     "source": [
      "Query the database"
     ]
    },
    {
     "cell_type": "code",
     "collapsed": false,
     "input": [
      "conn = sqlite3.connect('test.db')\n",
      "c = conn.cursor()\n",
      "c.execute('SELECT raJ2000, decJ2000 FROM gals')"
     ],
     "language": "python",
     "metadata": {},
     "outputs": [
      {
       "metadata": {},
       "output_type": "pyout",
       "prompt_number": 21,
       "text": [
        "<sqlite3.Cursor at 0x10dfef490>"
       ]
      }
     ],
     "prompt_number": 21
    },
    {
     "cell_type": "code",
     "collapsed": false,
     "input": [
      "res = c.fetchall()\n",
      "conn.close()\n",
      "print np.shape(res)"
     ],
     "language": "python",
     "metadata": {},
     "outputs": [
      {
       "output_type": "stream",
       "stream": "stdout",
       "text": [
        "(1000, 2)\n"
       ]
      }
     ],
     "prompt_number": 22
    },
    {
     "cell_type": "code",
     "collapsed": false,
     "input": [
      "ra, dec = zip(*res)"
     ],
     "language": "python",
     "metadata": {},
     "outputs": [],
     "prompt_number": 23
    },
    {
     "cell_type": "code",
     "collapsed": false,
     "input": [
      "fig, ax  = plt.subplots()\n",
      "ax.set_aspect(1.0)\n",
      "circ = obsmetaDatacirc(myObsMD)\n",
      "ax.add_patch(circ)\n",
      "ax.plot(np.radians(ra), np.radians(dec), 'o')\n"
     ],
     "language": "python",
     "metadata": {},
     "outputs": [
      {
       "metadata": {},
       "output_type": "pyout",
       "prompt_number": 24,
       "text": [
        "[<matplotlib.lines.Line2D at 0x10e9df7d0>]"
       ]
      },
      {
       "metadata": {},
       "output_type": "display_data",
       "png": "[encoded data removed]",
       "text": [
        "<matplotlib.figure.Figure at 0x10dfea810>"
       ]
      }
     ],
     "prompt_number": 24
    },
    {
     "cell_type": "heading",
     "level": 2,
     "metadata": {},
     "source": [
      "Create a catalogDBObject"
     ]
    },
    {
     "cell_type": "markdown",
     "metadata": {},
     "source": [
      "Inherit from the CatalogDBObject class. Not sure what the minimal set of functions to be defined are?"
     ]
    },
    {
     "cell_type": "code",
     "collapsed": false,
     "input": [
      "class myGalDB(CatalogDBObject):\n",
      "    ''' like lsst.sims.catalogs.generation.utils.testUtils.myTestGals'''\n",
      "    objid = 'mytestgals'\n",
      "    tableid = 'gals'\n",
      "    idColKey = 'id'\n",
      "    appendint = 10000\n",
      "    dbAddress = 'sqlite:///test.db'\n",
      "    raColName = 'raJ2000'\n",
      "    decColName = 'decJ2000'\n",
      "    # columns required to convert the ra, dec values in degrees to radians again\n",
      "    columns = [('id', 'id', int),\n",
      "               ('raJ2000','raJ2000 * PI()/ 180. '), \n",
      "                ('decJ2000','decJ2000 * PI()/ 180.'),\n",
      "                 ('redshift', 'redshift')]"
     ],
     "language": "python",
     "metadata": {},
     "outputs": [],
     "prompt_number": 25
    },
    {
     "cell_type": "code",
     "collapsed": false,
     "input": [
      "gdb = myGalDB()"
     ],
     "language": "python",
     "metadata": {},
     "outputs": [],
     "prompt_number": 26
    },
    {
     "cell_type": "code",
     "collapsed": false,
     "input": [
      "gdb.show_mapped_columns()"
     ],
     "language": "python",
     "metadata": {},
     "outputs": [
      {
       "output_type": "stream",
       "stream": "stdout",
       "text": [
        "id -- int\n",
        "raJ2000 -- float\n",
        "decJ2000 -- float\n",
        "redshift -- float\n"
       ]
      }
     ],
     "prompt_number": 27
    },
    {
     "cell_type": "markdown",
     "metadata": {},
     "source": [
      "So, columns is a required quantity"
     ]
    },
    {
     "cell_type": "code",
     "collapsed": false,
     "input": [
      "gdbdata = gdb.execute_arbitrary('SELECT * FROM gals')"
     ],
     "language": "python",
     "metadata": {},
     "outputs": [],
     "prompt_number": 28
    },
    {
     "cell_type": "code",
     "collapsed": false,
     "input": [
      "print 'size of gdbdata', np.shape(gdbdata)\n",
      "print gdbdata[0]"
     ],
     "language": "python",
     "metadata": {},
     "outputs": [
      {
       "output_type": "stream",
       "stream": "stdout",
       "text": [
        "size of gdbdata (1000,)\n",
        "(1000000, 5.01401089517041, 15.005483153904798, 0.5991196778876893)\n"
       ]
      }
     ],
     "prompt_number": 29
    },
    {
     "cell_type": "code",
     "collapsed": false,
     "input": [
      "from lsst.sims.catalogs.measures.instance import InstanceCatalog\n",
      "class galCopy(InstanceCatalog):\n",
      "    column_outputs = ['id', 'raJ2000', 'decJ2000', 'redshift']\n",
      "    override_formats = {'raJ2000': '%8e', 'decJ2000': '%8e'}"
     ],
     "language": "python",
     "metadata": {},
     "outputs": [],
     "prompt_number": 30
    },
    {
     "cell_type": "code",
     "collapsed": false,
     "input": [
      "myObsMD.summary"
     ],
     "language": "python",
     "metadata": {},
     "outputs": [
      {
       "metadata": {},
       "output_type": "pyout",
       "prompt_number": 31,
       "text": [
        "{'bandpass': ['u', 'g', 'r', 'i', 'z', 'y'],\n",
        " 'boundLength': 0.00026179938779914941,\n",
        " 'boundType': 'circle',\n",
        " 'mjd': 570180.0,\n",
        " 'phoSimMetadata': None,\n",
        " 'rotSkyPos': 0.0,\n",
        " 'site': <lsst.sims.utils.Site.Site at 0x10d235590>,\n",
        " 'skyBrightness': None,\n",
        " 'unrefractedDec': 0.26179938779914941,\n",
        " 'unrefractedRA': 0.087266462599716474}"
       ]
      }
     ],
     "prompt_number": 31
    },
    {
     "cell_type": "code",
     "collapsed": false,
     "input": [
      "gals = galCopy(db_obj=gdb, obs_metadata=myObsMD)\n",
      "gals.write_catalog('gals.dat')"
     ],
     "language": "python",
     "metadata": {},
     "outputs": [],
     "prompt_number": 32
    },
    {
     "cell_type": "code",
     "collapsed": false,
     "input": [
      "!head gals.dat"
     ],
     "language": "python",
     "metadata": {},
     "outputs": [
      {
       "output_type": "stream",
       "stream": "stdout",
       "text": [
        "#id, raJ2000, decJ2000, redshift\r\n",
        "1000000, 8.751100e-02, 2.618951e-01, 0.5991\r\n",
        "1000001, 8.729119e-02, 2.618615e-01, 0.8740\r\n",
        "1000002, 8.751396e-02, 2.618916e-01, 0.6763\r\n",
        "1000004, 8.736999e-02, 2.616738e-01, 0.1918\r\n",
        "1000005, 8.711781e-02, 2.616878e-01, 0.5441\r\n",
        "1000007, 8.700793e-02, 2.617847e-01, 0.5897\r\n",
        "1000009, 8.723232e-02, 2.620068e-01, 0.3628\r\n",
        "1000010, 8.741275e-02, 2.620030e-01, 0.3638\r\n",
        "1000011, 8.710817e-02, 2.617386e-01, 0.3028\r\n"
       ]
      }
     ],
     "prompt_number": 34
    },
    {
     "cell_type": "code",
     "collapsed": false,
     "input": [
      "from sniacatalogs import sncat"
     ],
     "language": "python",
     "metadata": {},
     "outputs": [
      {
       "output_type": "stream",
       "stream": "stderr",
       "text": [
        " This call to matplotlib.use() has no effect\n",
        "because the backend has already been chosen;\n",
        "matplotlib.use() must be called *before* pylab, matplotlib.pyplot,\n",
        "or matplotlib.backends is imported for the first time.\n",
        "\n"
       ]
      }
     ],
     "prompt_number": 35
    },
    {
     "cell_type": "code",
     "collapsed": false,
     "input": [
      "catalog = sncat.SNIaCatalog(db_obj=gdb, obs_metadata=myObsMD)"
     ],
     "language": "python",
     "metadata": {},
     "outputs": [],
     "prompt_number": 36
    },
    {
     "cell_type": "code",
     "collapsed": false,
     "input": [
      "catalog.write_catalog('sn_fake.txt')"
     ],
     "language": "python",
     "metadata": {},
     "outputs": [
      {
       "output_type": "stream",
       "stream": "stderr",
       "text": [
        "/Users/rbiswas/src/LSST/sims_photutils/python/lsst/sims/photUtils/Sed.py:1214: RuntimeWarning: divide by zero encountered in log10\n",
        "  mags = -2.5*numpy.log10(fluxes) - self.zp\n"
       ]
      }
     ],
     "prompt_number": 38
    },
    {
     "cell_type": "code",
     "collapsed": false,
     "input": [
      "!head sn_fake.txt"
     ],
     "language": "python",
     "metadata": {},
     "outputs": [
      {
       "output_type": "stream",
       "stream": "stdout",
       "text": [
        "#snid, snra, sndec, z, t0, c, x1, x0, flux_u, flux_g, flux_r, flux_i, flux_z, flux_y, mag_u, mag_g, mag_r, mag_i, mag_z, mag_y\r\n",
        "1000047, 8.713749e-02, 2.618254e-01, 0.2877, 570189.6482, -9.272552e-02, -1.3818, 4.639713e-05, 1.259571e-06, 5.395774e-06, 6.187281e-06, 5.715249e-06, 6.064675e-06, 4.509893e-06, 23.6495, 22.0699, 21.9213, 22.0075, 21.9430, 22.2647\r\n",
        "1000121, 8.740417e-02, 2.616995e-01, 0.6895, 570173.4509, -4.123238e-02, 0.0252, 4.494288e-06, 1.422640e-08, 1.444248e-07, 9.074835e-07, 1.440482e-06, 1.365371e-06, 1.473579e-06, 28.5173, 26.0010, 24.0055, 23.5038, 23.5619, 23.4791\r\n",
        "1000210, 8.711083e-02, 2.617035e-01, 0.6810, 570121.8200, 4.278637e-02, -1.0562, 4.622129e-06, 1.624486e-09, 9.579201e-09, 5.152199e-08, 1.116992e-07, 2.133165e-07, 3.278226e-07, 30.8733, 28.9467, 27.1201, 26.2799, 25.5775, 25.1110\r\n"
       ]
      }
     ],
     "prompt_number": 39
    }
   ],
   "metadata": {}
  }
 ]
}