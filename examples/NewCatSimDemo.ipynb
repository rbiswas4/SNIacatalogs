{
 "cells": [
  {
   "cell_type": "markdown",
   "metadata": {},
   "source": [
    "Example notebook trying to emulate FindLCsFromOpSim.ipynb which seems to be corrupted"
   ]
  },
  {
   "cell_type": "code",
   "execution_count": 1,
   "metadata": {
    "collapsed": false
   },
   "outputs": [
    {
     "name": "stderr",
     "output_type": "stream",
     "text": [
      "/usr/local/manual/anaconda/lib/python2.7/site-packages/IPython/kernel/__init__.py:13: ShimWarning: The `IPython.kernel` package has been deprecated. You should import from ipykernel or jupyter_client instead.\n",
      "  \"You should import from ipykernel or jupyter_client instead.\", ShimWarning)\n"
     ]
    }
   ],
   "source": [
    "import sniacatalogs as snia\n",
    "from sniacatalogs import sncat"
   ]
  },
  {
   "cell_type": "code",
   "execution_count": 2,
   "metadata": {
    "collapsed": true
   },
   "outputs": [],
   "source": [
    "import numpy as np\n",
    "%matplotlib inline\n",
    "import matplotlib.pyplot as plt\n",
    "import os\n",
    "\n",
    "\n",
    "import sqlite3"
   ]
  },
  {
   "cell_type": "code",
   "execution_count": 3,
   "metadata": {
    "collapsed": false
   },
   "outputs": [
    {
     "name": "stderr",
     "output_type": "stream",
     "text": [
      "Duplicate object type id 25 specified: \n",
      "Output object ids may not be unique.\n",
      "This may not be a problem if you do not want globally unique id values\n",
      "Duplicate object type id 40 specified: \n",
      "Output object ids may not be unique.\n",
      "This may not be a problem if you do not want globally unique id values\n",
      "Duplicate object type id 40 specified: \n",
      "Output object ids may not be unique.\n",
      "This may not be a problem if you do not want globally unique id values\n",
      "Duplicate object type id 40 specified: \n",
      "Output object ids may not be unique.\n",
      "This may not be a problem if you do not want globally unique id values\n",
      "Duplicate object type id 40 specified: \n",
      "Output object ids may not be unique.\n",
      "This may not be a problem if you do not want globally unique id values\n"
     ]
    }
   ],
   "source": [
    "from lsst.sims.catUtils.mixins import CosmologyMixin\n",
    "from lsst.sims.utils import ObservationMetaData\n",
    "from lsst.sims.catUtils.utils import ObservationMetaDataGenerator\n",
    "from lsst.sims.catalogs.generation.db import CatalogDBObject\n",
    "from lsst.sims.catalogs.measures.instance import InstanceCatalog\n",
    "import eups"
   ]
  },
  {
   "cell_type": "code",
   "execution_count": 4,
   "metadata": {
    "collapsed": true
   },
   "outputs": [],
   "source": [
    "def samplePatchOnSphere(phi, theta, delta, size):\n",
    "    '''\n",
    "    (not) Uniformly distributes samples on a spherical patch between phi \\pm delta,\n",
    "    and theta \\pm delta.\n",
    "    \n",
    "    will modify to fix this later\n",
    "    Parameters\n",
    "    ----------\n",
    "    phi: float, mandatory, radians\n",
    "        center of the spherical patch in ra with range \n",
    "    theta: float, mandatory, radians\n",
    "    delta: float, mandatory, radians\n",
    "    size: int, mandatory\n",
    "        number of samples\n",
    "    '''\n",
    "    u = np.random.uniform(size=size)\n",
    "    v = np.random.uniform(size=size)\n",
    "\n",
    "    # phivals = delta * (2. * u - 1) + phi\n",
    "    phivals = 2. * delta* u + (phi - delta )\n",
    "    phivals = np.where ( phivals >= 0., phivals, phivals + 2. * np.pi)\n",
    "    \n",
    "    # use conventions in spherical coordinates\n",
    "    theta = np.pi/2.0 - theta\n",
    "    # thetavals = 2. * delta* v + (theta - delta )\n",
    "    # thetavals = np.where ( thetavals < np.pi , thetavals, thetavals - np.pi)\n",
    "    # thetavals = np.where ( thetavals > - np.pi , thetavals, thetavals + np.pi)\n",
    "    \n",
    "    \n",
    "    thetamax = theta + delta\n",
    "    thetamin = theta - delta\n",
    "    # CDF is cos(thetamin) - cos(theta) / cos(thetamin) - cos(thetamax)\n",
    "    a = np.cos(thetamin) - np.cos(thetamax)\n",
    "    thetavals = np.arccos(-v * a + np.cos(thetamin))\n",
    "    # Get back to -pi/2 to pi/2 range of decs\n",
    "    thetavals = np.pi/2.0 - thetavals \n",
    "    return phivals, thetavals"
   ]
  },
  {
   "cell_type": "code",
   "execution_count": 5,
   "metadata": {
    "collapsed": true
   },
   "outputs": [],
   "source": [
    "def cleanDB(dbname, verbose=True):\n",
    "    '''\n",
    "    Deletes the database dbname from the disk.\n",
    "    Parameters\n",
    "    ----------\n",
    "    dbname: string, mandatory\n",
    "        name (abs path) of the database to be deleted\n",
    "    verbose: Bool, optional, defaults to True\n",
    "\n",
    "    '''\n",
    "\n",
    "    if os.path.exists(dbname):\n",
    "        if verbose:\n",
    "            print \"deleting database \", dbname\n",
    "        os.unlink(dbname)\n",
    "    else:\n",
    "        if verbose:\n",
    "            print 'database ', dbname, ' does not exist'"
   ]
  },
  {
   "cell_type": "code",
   "execution_count": 6,
   "metadata": {
    "collapsed": true
   },
   "outputs": [],
   "source": [
    "def sample_obsmetadata(obsmetadata, size=1):\n",
    "    '''\n",
    "    Sample a square patch on the sphere overlapping obsmetadata\n",
    "    field of view by picking the area enclosed in\n",
    "    obsmetadata.unrefractedRA \\pm obsmetadata.boundLength\n",
    "    obsmetadata.unrefractedDec \\pm obsmetadata.boundLength\n",
    "\n",
    "    Parameters\n",
    "    ----------\n",
    "    obsmetadata: instance of\n",
    "        `sims.catalogs.generation.db.ObservationMetaData`\n",
    "\n",
    "    size: integer, optional, defaults to 1\n",
    "        number of samples\n",
    "\n",
    "\n",
    "    Returns\n",
    "    -------\n",
    "\n",
    "    tuple of ravals, decvalues\n",
    "    '''\n",
    "    mydict = obsmetadata.summary\n",
    "    phi = np.radians(mydict['unrefractedRA'])\n",
    "    theta = np.radians(mydict['unrefractedDec'])\n",
    "    equalrange = np.radians(mydict['boundLength'])\n",
    "    ravals, thetavals = samplePatchOnSphere(phi=phi, theta=theta, delta=equalrange, size=size)\n",
    "    return ravals, thetavals"
   ]
  },
  {
   "cell_type": "code",
   "execution_count": 7,
   "metadata": {
    "collapsed": true
   },
   "outputs": [],
   "source": [
    "def _createFakeGalaxyDB(dbname, ObsMetaData, size=10000, seed=1):\n",
    "    '''\n",
    "    Create a local sqlite galaxy database having filename dbname with variables\n",
    "    id, raJ2000, decJ2000 and redshift, having number of rows =size, and having\n",
    "    overlap with ObsMetaData.\n",
    "    '''\n",
    "    cleanDB(dbname)\n",
    "    conn = sqlite3.connect(dbname)\n",
    "    curs = conn.cursor()\n",
    "    curs.execute('CREATE TABLE if not exists gals (id INT, raJ2000 FLOAT,\\\n",
    "                  decJ2000 FLOAT, redshift FLOAT)')\n",
    "\n",
    "    np.random.seed(seed)\n",
    "    samps = sample_obsmetadata(ObsMetaData, size=size)\n",
    "\n",
    "    for count in range(size):\n",
    "        id = 1000000 + count\n",
    "\n",
    "        # Main Database should have values in degrees\n",
    "        ra = np.degrees(samps[0][count])\n",
    "        dec = np.degrees(samps[1][count])\n",
    "        redshift = np.random.uniform()\n",
    "        row = tuple([id, ra, dec, redshift])\n",
    "        exec_str = insertfromdata(tablename='gals', records=row,\n",
    "                                     multiple=False)\n",
    "        curs.execute(exec_str, row)\n",
    "\n",
    "    conn.commit()\n",
    "    conn.close()\n",
    "    return samps"
   ]
  },
  {
   "cell_type": "code",
   "execution_count": 8,
   "metadata": {
    "collapsed": true
   },
   "outputs": [],
   "source": [
    "def insertfromdata(tablename, records, multiple=True):\n",
    "    \"\"\"\n",
    "    construct string to insert multiple records into sqlite3 database\n",
    "    args:\n",
    "        tablename: str, mandatory\n",
    "            Name of table in the database.\n",
    "        records: set of records\n",
    "        multiple:\n",
    "    returns:\n",
    "    \"\"\"\n",
    "    if multiple:\n",
    "        lst = records[0]\n",
    "    else:\n",
    "        lst = records\n",
    "    s = 'INSERT INTO ' + str(tablename) + ' VALUES '\n",
    "    s += \"( \" + \", \".join([\"?\"]*len(lst)) + \")\"\n",
    "    return s"
   ]
  },
  {
   "cell_type": "code",
   "execution_count": 9,
   "metadata": {
    "collapsed": false
   },
   "outputs": [],
   "source": [
    "class myGalaxyCatalog(CatalogDBObject):\n",
    "    '''\n",
    "    Create a like CatalogDBObject connecting to a local sqlite database\n",
    "    '''\n",
    "\n",
    "    objid = 'mytestgals'\n",
    "    tableid = 'gals'\n",
    "    idColKey = 'id'\n",
    "    objectTypeId = 0\n",
    "    appendint = 10000\n",
    "    database = 'testdata/galcat.db'\n",
    "    # dbAddress = './testData/galcat.db'\n",
    "    raColName = 'raJ2000'\n",
    "    decColName = 'decJ2000'\n",
    "    driver = 'sqlite'\n",
    "\n",
    "    # columns required to convert the ra, dec values in degrees\n",
    "    # to radians again\n",
    "    columns = [('id', 'id', int),\n",
    "               ('raJ2000','raJ2000 * PI()/ 180. '),\n",
    "               ('decJ2000','decJ2000 * PI()/ 180.'),\n",
    "               ('redshift', 'redshift')]"
   ]
  },
  {
   "cell_type": "markdown",
   "metadata": {},
   "source": [
    "## Now create a fake galaxy table"
   ]
  },
  {
   "cell_type": "code",
   "execution_count": 10,
   "metadata": {
    "collapsed": false
   },
   "outputs": [],
   "source": [
    "obsMetaDataforCat = ObservationMetaData(boundType='circle',\n",
    "                                          boundLength=np.degrees(0.25),\n",
    "                                          unrefractedRA=np.degrees(0.13),\n",
    "                                          unrefractedDec=np.degrees(-1.2),\n",
    "                                          bandpassName=['r'],\n",
    "                                          mjd=49350.)"
   ]
  },
  {
   "cell_type": "code",
   "execution_count": 11,
   "metadata": {
    "collapsed": false
   },
   "outputs": [
    {
     "data": {
      "text/plain": [
       "(array([ 0.34482643]), array([-0.95877263]))"
      ]
     },
     "execution_count": 11,
     "metadata": {},
     "output_type": "execute_result"
    }
   ],
   "source": [
    "sample_obsmetadata(obsMetaDataforCat, size=1)"
   ]
  },
  {
   "cell_type": "code",
   "execution_count": 12,
   "metadata": {
    "collapsed": false
   },
   "outputs": [
    {
     "data": {
      "text/plain": [
       "14.323944878270581"
      ]
     },
     "execution_count": 12,
     "metadata": {},
     "output_type": "execute_result"
    }
   ],
   "source": [
    "obsMetaDataforCat.boundLength"
   ]
  },
  {
   "cell_type": "code",
   "execution_count": 13,
   "metadata": {
    "collapsed": false
   },
   "outputs": [
    {
     "data": {
      "text/plain": [
       "0.25"
      ]
     },
     "execution_count": 13,
     "metadata": {},
     "output_type": "execute_result"
    }
   ],
   "source": [
    "obsMetaDataforCat._boundLength"
   ]
  },
  {
   "cell_type": "code",
   "execution_count": 14,
   "metadata": {
    "collapsed": false
   },
   "outputs": [
    {
     "name": "stdout",
     "output_type": "stream",
     "text": [
      "deleting database  testData/galcat.db\n"
     ]
    }
   ],
   "source": [
    "vals = _createFakeGalaxyDB(dbname='testData/galcat.db',\n",
    "                    ObsMetaData=obsMetaDataforCat,\n",
    "                    size=1000000,\n",
    "                    seed=1)"
   ]
  },
  {
   "cell_type": "code",
   "execution_count": 15,
   "metadata": {
    "collapsed": false
   },
   "outputs": [
    {
     "data": {
      "text/plain": [
       "(array([ 0.088511  ,  0.24016225,  6.16324249, ...,  0.12661688,\n",
       "         6.21759016,  0.06512591]),\n",
       " array([-0.99399571, -1.21610453, -1.15133414, ..., -1.02888506,\n",
       "        -1.33583417, -1.04711557]))"
      ]
     },
     "execution_count": 15,
     "metadata": {},
     "output_type": "execute_result"
    }
   ],
   "source": [
    "vals"
   ]
  },
  {
   "cell_type": "code",
   "execution_count": 16,
   "metadata": {
    "collapsed": false
   },
   "outputs": [
    {
     "data": {
      "text/plain": [
       "[<matplotlib.lines.Line2D at 0x10f3d3350>]"
      ]
     },
     "execution_count": 16,
     "metadata": {},
     "output_type": "execute_result"
    },
    {
     "data": {
      "image/png": "[encoded data removed]",
      "text/plain": [
       "<matplotlib.figure.Figure at 0x10f308850>"
      ]
     },
     "metadata": {},
     "output_type": "display_data"
    }
   ],
   "source": [
    "\n",
    "plt.plot(vals[0][:1000], vals[1][:1000], '.')\n",
    "plt.axvline(2. * np.pi, color='k', lw=2.)\n",
    "plt.axvline(0., color='k', lw=2.)\n",
    "plt.axhline(np.pi, color='k', lw=2.)\n",
    "plt.axhline(-np.pi, color='k', lw=2.)\n",
    "plt.plot([0.13], [-1.2], 'rs', markersize=8)"
   ]
  },
  {
   "cell_type": "code",
   "execution_count": 17,
   "metadata": {
    "collapsed": true
   },
   "outputs": [],
   "source": [
    "galDB = myGalaxyCatalog()\n"
   ]
  },
  {
   "cell_type": "code",
   "execution_count": 18,
   "metadata": {
    "collapsed": true
   },
   "outputs": [],
   "source": [
    "class galCopy(InstanceCatalog):\n",
    "    column_outputs = ['id', 'raJ2000', 'decJ2000', 'redshift']\n",
    "    override_formats = {'raJ2000': '%8e', 'decJ2000': '%8e'}"
   ]
  },
  {
   "cell_type": "code",
   "execution_count": 19,
   "metadata": {
    "collapsed": true
   },
   "outputs": [],
   "source": [
    "galphot = galCopy(db_obj=galDB, obs_metadata=obsMetaDataforCat)\n"
   ]
  },
  {
   "cell_type": "code",
   "execution_count": 20,
   "metadata": {
    "collapsed": true
   },
   "outputs": [],
   "source": [
    "galphot.write_catalog('gals.dat')"
   ]
  },
  {
   "cell_type": "code",
   "execution_count": 21,
   "metadata": {
    "collapsed": false
   },
   "outputs": [
    {
     "name": "stdout",
     "output_type": "stream",
     "text": [
      "  742765 gals.dat\r\n"
     ]
    }
   ],
   "source": [
    "!wc -l gals.dat"
   ]
  },
  {
   "cell_type": "code",
   "execution_count": 22,
   "metadata": {
    "collapsed": false
   },
   "outputs": [
    {
     "name": "stdout",
     "output_type": "stream",
     "text": [
      "#id, raJ2000, decJ2000, redshift\r\n",
      "1000000, 8.851100e-02, -9.939957e-01, 0.0376\r\n",
      "1000001, 2.401622e-01, -1.216105e+00, 0.7608\r\n",
      "1000003, 3.116629e-02, -1.009110e+00, 0.1566\r\n",
      "1000007, 5.278036e-02, -9.771580e-01, 0.3991\r\n",
      "1000008, 7.838374e-02, -1.024724e+00, 0.7685\r\n",
      "1000009, 1.494084e-01, -9.881543e-01, 0.9084\r\n",
      "1000010, 8.959726e-02, -1.070042e+00, 0.5480\r\n",
      "1000011, 2.226098e-01, -1.132653e+00, 0.8986\r\n",
      "1000013, 3.190587e-01, -1.084762e+00, 0.0921\r\n"
     ]
    }
   ],
   "source": [
    "!head gals.dat"
   ]
  },
  {
   "cell_type": "markdown",
   "metadata": {},
   "source": [
    "## Building Light Curves from Instance Catalogs\n"
   ]
  },
  {
   "cell_type": "markdown",
   "metadata": {},
   "source": [
    "We would like to create a number of supernova instance catalogs and then build the light curves from the catalogs. To do this correctly, we would like to use the observation_metadata associated with a number of conscutive OpSIM pointings."
   ]
  },
  {
   "cell_type": "code",
   "execution_count": 23,
   "metadata": {
    "collapsed": true
   },
   "outputs": [],
   "source": [
    "opsimPath = os.path.join(eups.productDir('sims_data'),'OpSimData')\n",
    "opsimDB = os.path.join(opsimPath,'opsimblitz1_1133_sqlite.db')\n",
    "\n",
    "# from Tuscon AHM notebook from Scott\n",
    "# This OPSIM DB is provided in sims_data. This creates a list of opsim pointings\n",
    "# that I have checked. This is a tuned notebook\n",
    "generator = ObservationMetaDataGenerator() #database = opsimPath, driver='sqlite')\n",
    "obsMetaDataResults = generator.getObservationMetaData(limit=100,\n",
    "                                                      fieldRA=(5.0, 8.0), \n",
    "                                                      fieldDec=(-85.,-60.),\n",
    "                                                      expMJD=(49300., 49400.),\n",
    "                                                      boundLength=0.015,\n",
    "                                                      boundType='circle')\n"
   ]
  },
  {
   "cell_type": "code",
   "execution_count": 24,
   "metadata": {
    "collapsed": false
   },
   "outputs": [
    {
     "name": "stdout",
     "output_type": "stream",
     "text": [
      "15\n"
     ]
    }
   ],
   "source": [
    "# How many pointings do we have? \n",
    "print (len(obsMetaDataResults))"
   ]
  },
  {
   "cell_type": "code",
   "execution_count": 25,
   "metadata": {
    "collapsed": true
   },
   "outputs": [],
   "source": [
    "def coords(x): \n",
    "    return np.radians(x.summary['unrefractedRA']), np.radians(x.summary['unrefractedDec'])"
   ]
  },
  {
   "cell_type": "code",
   "execution_count": 26,
   "metadata": {
    "collapsed": true
   },
   "outputs": [],
   "source": [
    "v = zip(*map(coords, obsMetaDataResults))"
   ]
  },
  {
   "cell_type": "code",
   "execution_count": 27,
   "metadata": {
    "collapsed": false
   },
   "outputs": [
    {
     "data": {
      "text/plain": [
       "[<matplotlib.lines.Line2D at 0x11aa2f450>]"
      ]
     },
     "execution_count": 27,
     "metadata": {},
     "output_type": "execute_result"
    },
    {
     "data": {
      "image/png": "[encoded data removed]",
      "text/plain": [
       "<matplotlib.figure.Figure at 0x11e29f250>"
      ]
     },
     "metadata": {},
     "output_type": "display_data"
    }
   ],
   "source": [
    "plt.plot(v[0], v[1], 'ko', markersize=4)\n",
    "plt.plot(vals[0][:1000], vals[1][:1000], '.')\n",
    "plt.axvline(2. * np.pi, color='k', lw=2.)\n",
    "plt.axvline(0., color='k', lw=2.)\n",
    "plt.axhline(np.pi, color='k', lw=2.)\n",
    "plt.axhline(-np.pi, color='k', lw=2.)\n",
    "plt.plot(v[0], v[1], 'ko', markersize=8)"
   ]
  },
  {
   "cell_type": "code",
   "execution_count": 28,
   "metadata": {
    "collapsed": true
   },
   "outputs": [],
   "source": [
    "if not os.path.exists('data/NewLightCurves'): \n",
    "    os.makedirs('data/NewLightCurves')"
   ]
  },
  {
   "cell_type": "code",
   "execution_count": 29,
   "metadata": {
    "collapsed": true
   },
   "outputs": [],
   "source": [
    "column_outputs=['flux_u', 'flux_g', 'flux_r', 'flux_i', 'flux_z', 'flux_y',\n",
    "                'mag_u', 'mag_g', 'mag_r', 'mag_i', 'mag_z', 'mag_y']"
   ]
  },
  {
   "cell_type": "code",
   "execution_count": 45,
   "metadata": {
    "collapsed": false
   },
   "outputs": [],
   "source": [
    "catalog = sncat.SNIaCatalog(db_obj=galDB, \n",
    "                            obs_metadata=obsMetaDataResults[0], \n",
    "                            column_outputs=['t0', 'flux_u', 'flux_g', 'flux_r', 'flux_i', 'flux_z',\n",
    "                                            'flux_y', 'mag_u', 'mag_g', 'mag_r', 'mag_i', \n",
    "                                            'mag_z', 'mag_y', 'adu_u', 'adu_g', 'adu_r',\n",
    "                                            'adu_i', 'adu_z', 'adu_y'])"
   ]
  },
  {
   "cell_type": "code",
   "execution_count": 46,
   "metadata": {
    "collapsed": false
   },
   "outputs": [],
   "source": [
    "catalog.suppressDimSN = False"
   ]
  },
  {
   "cell_type": "code",
   "execution_count": null,
   "metadata": {
    "collapsed": true
   },
   "outputs": [],
   "source": [
    "catalog.set"
   ]
  },
  {
   "cell_type": "code",
   "execution_count": 47,
   "metadata": {
    "collapsed": false
   },
   "outputs": [],
   "source": [
    "catalog.write_catalog('test_why.dat')"
   ]
  },
  {
   "cell_type": "code",
   "execution_count": 48,
   "metadata": {
    "collapsed": false
   },
   "outputs": [
    {
     "name": "stdout",
     "output_type": "stream",
     "text": [
      "       7 test_why.dat\r\n"
     ]
    }
   ],
   "source": [
    "!wc -l test_why.dat"
   ]
  },
  {
   "cell_type": "code",
   "execution_count": 49,
   "metadata": {
    "collapsed": false
   },
   "outputs": [
    {
     "data": {
      "text/plain": [
       "[<lsst.sims.utils.ObservationMetaData.ObservationMetaData at 0x112691d10>,\n",
       " <lsst.sims.utils.ObservationMetaData.ObservationMetaData at 0x112691b10>,\n",
       " <lsst.sims.utils.ObservationMetaData.ObservationMetaData at 0x1126a5510>,\n",
       " <lsst.sims.utils.ObservationMetaData.ObservationMetaData at 0x1126919d0>,\n",
       " <lsst.sims.utils.ObservationMetaData.ObservationMetaData at 0x108b73ed0>,\n",
       " <lsst.sims.utils.ObservationMetaData.ObservationMetaData at 0x112660b50>,\n",
       " <lsst.sims.utils.ObservationMetaData.ObservationMetaData at 0x112660fd0>,\n",
       " <lsst.sims.utils.ObservationMetaData.ObservationMetaData at 0x112660550>,\n",
       " <lsst.sims.utils.ObservationMetaData.ObservationMetaData at 0x112660490>,\n",
       " <lsst.sims.utils.ObservationMetaData.ObservationMetaData at 0x11264f610>,\n",
       " <lsst.sims.utils.ObservationMetaData.ObservationMetaData at 0x11264f890>,\n",
       " <lsst.sims.utils.ObservationMetaData.ObservationMetaData at 0x112645ed0>,\n",
       " <lsst.sims.utils.ObservationMetaData.ObservationMetaData at 0x1126741d0>,\n",
       " <lsst.sims.utils.ObservationMetaData.ObservationMetaData at 0x112674d10>,\n",
       " <lsst.sims.utils.ObservationMetaData.ObservationMetaData at 0x112674e90>]"
      ]
     },
     "execution_count": 49,
     "metadata": {},
     "output_type": "execute_result"
    }
   ],
   "source": [
    "map(lambda x: obsMetaDataResults)"
   ]
  },
  {
   "cell_type": "code",
   "execution_count": 43,
   "metadata": {
    "collapsed": false
   },
   "outputs": [
    {
     "name": "stdout",
     "output_type": "stream",
     "text": [
      "#snid, snra, sndec, z, t0, c, x1, x0, flux_u, flux_g, flux_r, flux_i, flux_z, flux_y, mag_u, mag_g, mag_r, mag_i, mag_z, mag_y, adu_u, adu_g, adu_r, adu_i, adu_z, adu_y\r\n",
      "1194063, 9.807749e-02, -1.279044e+00, 0.3578, 579839.5985, -4.780265e-02, -1.5735, 2.035980e-05, 0.0000, 0.0000, 0.0000, 0.0000, 0.0000, 0.0000, inf, inf, inf, inf, inf, inf, 0.0000, 0.0000, 0.0000, 0.0000, 0.0000, 0.0000\r\n",
      "1202620, 9.822037e-02, -1.279374e+00, 0.3552, 572811.6011, -1.076733e-01, 0.0559, 3.274857e-05, 0.0000, 0.0000, 0.0000, 0.0000, 0.0000, 0.0000, inf, inf, inf, inf, inf, inf, 0.0000, 0.0000, 0.0000, 0.0000, 0.0000, 0.0000\r\n",
      "1456605, 9.746749e-02, -1.279057e+00, 0.7285, 581319.2605, -5.548099e-02, -1.0822, 5.384215e-06, 0.0000, 0.0000, 0.0000, 0.0000, 0.0000, 0.0000, inf, inf, inf, inf, inf, inf, 0.0000, 0.0000, 0.0000, 0.0000, 0.0000, 0.0000\r\n",
      "1812900, 9.864307e-02, -1.279292e+00, 0.2086, 572168.1635, 4.177646e-02, 0.3476, 9.548163e-05, 0.0000, 0.0000, 0.0000, 0.0000, 0.0000, 0.0000, inf, inf, inf, inf, inf, inf, 0.0000, 0.0000, 0.0000, 0.0000, 0.0000, 0.0000\r\n",
      "1956535, 9.875172e-02, -1.279203e+00, 0.1810, 587054.3015, 1.461182e-01, -1.5249, 9.832190e-05, 0.0000, 0.0000, 0.0000, 0.0000, 0.0000, 0.0000, inf, inf, inf, inf, inf, inf, 0.0000, 0.0000, 0.0000, 0.0000, 0.0000, 0.0000\r\n",
      "1972436, 9.750733e-02, -1.279303e+00, 0.4644, 569682.7921, 7.642282e-02, 0.4876, 1.352031e-05, 0.0000, 0.0000, 0.0000, 0.0000, 0.0000, 0.0000, inf, inf, inf, inf, inf, inf, 0.0000, 0.0000, 0.0000, 0.0000, 0.0000, 0.0000\r\n"
     ]
    }
   ],
   "source": [
    "!cat test_why.dat"
   ]
  },
  {
   "cell_type": "code",
   "execution_count": null,
   "metadata": {
    "collapsed": true
   },
   "outputs": [],
   "source": []
  }
 ],
 "metadata": {
  "kernelspec": {
   "display_name": "Python 2",
   "language": "python",
   "name": "python2"
  },
  "language_info": {
   "codemirror_mode": {
    "name": "ipython",
    "version": 2
   },
   "file_extension": ".py",
   "mimetype": "text/x-python",
   "name": "python",
   "nbconvert_exporter": "python",
   "pygments_lexer": "ipython2",
   "version": "2.7.10"
  }
 },
 "nbformat": 4,
 "nbformat_minor": 0
}
