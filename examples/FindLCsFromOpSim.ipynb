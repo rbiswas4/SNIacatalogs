{
 "metadata": {
  "kernelspec": {
   "display_name": "Python 2",
   "language": "python",
   "name": "python2"
  },
  "language_info": {
   "codemirror_mode": {
    "name": "ipython",
    "version": 2
   },
   "file_extension": ".py",
   "mimetype": "text/x-python",
   "name": "python",
   "nbconvert_exporter": "python",
   "pygments_lexer": "ipython2",
   "version": "2.7.9"
  },
  "name": "",
  "signature": "sha256:897e62108ff80a8b42cdec49450572c31005aa3ff3c0d971c3dec0995c13a703"
 },
 "nbformat": 3,
 "nbformat_minor": 0,
 "worksheets": [
  {
   "cells": [
    {
     "cell_type": "heading",
     "level": 1,
     "metadata": {},
     "source": [
      "Supernovae Ia in catSim"
     ]
    },
    {
     "cell_type": "code",
     "collapsed": false,
     "input": [
      "# Demonstrate methods to obtain SN light curves from opsims output"
     ],
     "language": "python",
     "metadata": {},
     "outputs": [],
     "prompt_number": 1
    },
    {
     "cell_type": "code",
     "collapsed": false,
     "input": [
      "import sniacatalogs as snia\n",
      "from sniacatalogs import sncat"
     ],
     "language": "python",
     "metadata": {},
     "outputs": [],
     "prompt_number": 1
    },
    {
     "cell_type": "code",
     "collapsed": false,
     "input": [
      "from lsst.sims.catUtils.mixins import CosmologyMixin"
     ],
     "language": "python",
     "metadata": {},
     "outputs": [],
     "prompt_number": 2
    },
    {
     "cell_type": "code",
     "collapsed": false,
     "input": [
      "import lightcurve_utils as lu"
     ],
     "language": "python",
     "metadata": {},
     "outputs": [],
     "prompt_number": 3
    },
    {
     "cell_type": "code",
     "collapsed": false,
     "input": [
      "import numpy as np\n",
      "%matplotlib inline\n",
      "import matplotlib.pyplot as plt\n",
      "import os"
     ],
     "language": "python",
     "metadata": {},
     "outputs": [],
     "prompt_number": 4
    },
    {
     "cell_type": "code",
     "collapsed": false,
     "input": [
      "#seaborn Comment out if this is not installed\n",
      "import seaborn as sns\n",
      "sns.set()"
     ],
     "language": "python",
     "metadata": {},
     "outputs": [],
     "prompt_number": 5
    },
    {
     "cell_type": "code",
     "collapsed": false,
     "input": [
      "from lsst.sims.utils import ObservationMetaData\n",
      "from lsst.sims.catUtils.utils import ObservationMetaDataGenerator"
     ],
     "language": "python",
     "metadata": {},
     "outputs": [],
     "prompt_number": 6
    },
    {
     "cell_type": "code",
     "collapsed": false,
     "input": [
      "# from lsst.sims.catalogs.generation.db import ObservationMetaData\n",
      "print sncat.__file__"
     ],
     "language": "python",
     "metadata": {},
     "outputs": [
      {
       "output_type": "stream",
       "stream": "stdout",
       "text": [
        "/Users/rbiswas/.local/lib/python2.7/site-packages/SNIaCatalogs-0.1.dev0-py2.7.egg/sniacatalogs/sncat.pyc\n"
       ]
      }
     ],
     "prompt_number": 7
    },
    {
     "cell_type": "code",
     "collapsed": false,
     "input": [
      "from lsst.sims.catalogs.generation.db import CatalogDBObject"
     ],
     "language": "python",
     "metadata": {},
     "outputs": [],
     "prompt_number": 8
    },
    {
     "cell_type": "code",
     "collapsed": false,
     "input": [
      "from lsst.sims.catalogs.measures.instance import InstanceCatalog\n",
      "import eups"
     ],
     "language": "python",
     "metadata": {},
     "outputs": [],
     "prompt_number": 9
    },
    {
     "cell_type": "code",
     "collapsed": false,
     "input": [
      "import sqlite3"
     ],
     "language": "python",
     "metadata": {},
     "outputs": [],
     "prompt_number": 10
    },
    {
     "cell_type": "markdown",
     "metadata": {},
     "source": [
      "First, we create a catalog of all the galaxies in the catalog using the `CatalogDBObject.from_objid` "
     ]
    },
    {
     "cell_type": "code",
     "collapsed": false,
     "input": [
      "def samplePatchOnSphere(phi, theta, delta, size):\n",
      "    '''\n",
      "    (not) Uniformly distributes samples on a spherical patch between phi \\pm delta,\n",
      "    and theta \\pm delta.\n",
      "    \n",
      "    will modify to fix this later\n",
      "    Parameters\n",
      "    ----------\n",
      "    phi: float, mandatory, radians\n",
      "        center of the spherical patch in ra with range \n",
      "    theta: float, mandatory, radians\n",
      "    delta: float, mandatory, radians\n",
      "    size: int, mandatory\n",
      "        number of samples\n",
      "    '''\n",
      "    u = np.random.uniform(size=size)\n",
      "    v = np.random.uniform(size=size)\n",
      "\n",
      "    # phivals = delta * (2. * u - 1) + phi\n",
      "    phivals = 2. * delta* u + (phi - delta )\n",
      "    phivals = np.where ( phivals >= 0., phivals, phivals + 2. * np.pi)\n",
      "    \n",
      "    # use conventions in spherical coordinates\n",
      "    theta = np.pi/2.0 - theta\n",
      "    # thetavals = 2. * delta* v + (theta - delta )\n",
      "    # thetavals = np.where ( thetavals < np.pi , thetavals, thetavals - np.pi)\n",
      "    # thetavals = np.where ( thetavals > - np.pi , thetavals, thetavals + np.pi)\n",
      "    \n",
      "    \n",
      "    thetamax = theta + delta\n",
      "    thetamin = theta - delta\n",
      "    # CDF is cos(thetamin) - cos(theta) / cos(thetamin) - cos(thetamax)\n",
      "    a = np.cos(thetamin) - np.cos(thetamax)\n",
      "    thetavals = np.arccos(-v * a + np.cos(thetamin))\n",
      "    # Get back to -pi/2 to pi/2 range of decs\n",
      "    thetavals = np.pi/2.0 - thetavals \n",
      "    return phivals, thetavals"
     ],
     "language": "python",
     "metadata": {},
     "outputs": [],
     "prompt_number": 11
    },
    {
     "cell_type": "code",
     "collapsed": false,
     "input": [
      "def cleanDB(dbname, verbose=True):\n",
      "    '''\n",
      "    Deletes the database dbname from the disk.\n",
      "    Parameters\n",
      "    ----------\n",
      "    dbname: string, mandatory\n",
      "        name (abs path) of the database to be deleted\n",
      "    verbose: Bool, optional, defaults to True\n",
      "\n",
      "    '''\n",
      "\n",
      "    if os.path.exists(dbname):\n",
      "        if verbose:\n",
      "            print \"deleting database \", dbname\n",
      "        os.unlink(dbname)\n",
      "    else:\n",
      "        if verbose:\n",
      "            print 'database ', dbname, ' does not exist'"
     ],
     "language": "python",
     "metadata": {},
     "outputs": [],
     "prompt_number": 12
    },
    {
     "cell_type": "code",
     "collapsed": false,
     "input": [
      "def sample_obsmetadata(obsmetadata, size=1):\n",
      "    '''\n",
      "    Sample a square patch on the sphere overlapping obsmetadata\n",
      "    field of view by picking the area enclosed in\n",
      "    obsmetadata.unrefractedRA \\pm obsmetadata.boundLength\n",
      "    obsmetadata.unrefractedDec \\pm obsmetadata.boundLength\n",
      "\n",
      "    Parameters\n",
      "    ----------\n",
      "    obsmetadata: instance of\n",
      "        `sims.catalogs.generation.db.ObservationMetaData`\n",
      "\n",
      "    size: integer, optional, defaults to 1\n",
      "        number of samples\n",
      "\n",
      "\n",
      "    Returns\n",
      "    -------\n",
      "\n",
      "    tuple of ravals, decvalues\n",
      "    '''\n",
      "    mydict = obsmetadata.summary\n",
      "    phi = np.radians(mydict['unrefractedRA'])\n",
      "    theta = np.radians(mydict['unrefractedDec'])\n",
      "    equalrange = np.radians(mydict['boundLength'])\n",
      "    ravals, thetavals = samplePatchOnSphere(phi=phi, theta=theta, delta=equalrange, size=size)\n",
      "    return ravals, thetavals"
     ],
     "language": "python",
     "metadata": {},
     "outputs": [],
     "prompt_number": 13
    },
    {
     "cell_type": "code",
     "collapsed": false,
     "input": [
      "def _createFakeGalaxyDB(dbname, ObsMetaData, size=10000, seed=1):\n",
      "    '''\n",
      "    Create a local sqlite galaxy database having filename dbname with variables\n",
      "    id, raJ2000, decJ2000 and redshift, having number of rows =size, and having\n",
      "    overlap with ObsMetaData.\n",
      "    '''\n",
      "    cleanDB(dbname)\n",
      "    conn = sqlite3.connect(dbname)\n",
      "    curs = conn.cursor()\n",
      "    curs.execute('CREATE TABLE if not exists gals (id INT, raJ2000 FLOAT,\\\n",
      "                  decJ2000 FLOAT, redshift FLOAT)')\n",
      "\n",
      "    np.random.seed(seed)\n",
      "    samps = sample_obsmetadata(ObsMetaData, size=size)\n",
      "\n",
      "    for count in range(size):\n",
      "        id = 1000000 + count\n",
      "\n",
      "        # Main Database should have values in degrees\n",
      "        ra = np.degrees(samps[0][count])\n",
      "        dec = np.degrees(samps[1][count])\n",
      "        redshift = np.random.uniform()\n",
      "        row = tuple([id, ra, dec, redshift])\n",
      "        exec_str = insertfromdata(tablename='gals', records=row,\n",
      "                                     multiple=False)\n",
      "        curs.execute(exec_str, row)\n",
      "\n",
      "    conn.commit()\n",
      "    conn.close()\n",
      "    return samps"
     ],
     "language": "python",
     "metadata": {},
     "outputs": [],
     "prompt_number": 14
    },
    {
     "cell_type": "code",
     "collapsed": false,
     "input": [
      "def insertfromdata(tablename, records, multiple=True):\n",
      "    \"\"\"\n",
      "    construct string to insert multiple records into sqlite3 database\n",
      "    args:\n",
      "        tablename: str, mandatory\n",
      "            Name of table in the database.\n",
      "        records: set of records\n",
      "        multiple:\n",
      "    returns:\n",
      "    \"\"\"\n",
      "    if multiple:\n",
      "        lst = records[0]\n",
      "    else:\n",
      "        lst = records\n",
      "    s = 'INSERT INTO ' + str(tablename) + ' VALUES '\n",
      "    s += \"( \" + \", \".join([\"?\"]*len(lst)) + \")\"\n",
      "    return s"
     ],
     "language": "python",
     "metadata": {},
     "outputs": [],
     "prompt_number": 15
    },
    {
     "cell_type": "code",
     "collapsed": false,
     "input": [
      "class myGalaxyCatalog(CatalogDBObject):\n",
      "    '''\n",
      "    Create a like CatalogDBObject connecting to a local sqlite database\n",
      "    '''\n",
      "\n",
      "    objid = 'mytestgals'\n",
      "    tableid = 'gals'\n",
      "    idColKey = 'id'\n",
      "    objectTypeId = 0\n",
      "    appendint = 10000\n",
      "    database = 'testdata/galcat.db'\n",
      "    # dbAddress = './testData/galcat.db'\n",
      "    raColName = 'raJ2000'\n",
      "    decColName = 'decJ2000'\n",
      "    driver = 'sqlite'\n",
      "\n",
      "    # columns required to convert the ra, dec values in degrees\n",
      "    # to radians again\n",
      "    columns = [('id', 'id', int),\n",
      "               ('raJ2000','raJ2000 * PI()/ 180. '),\n",
      "               ('decJ2000','decJ2000 * PI()/ 180.'),\n",
      "               ('redshift', 'redshift')]"
     ],
     "language": "python",
     "metadata": {},
     "outputs": [],
     "prompt_number": 16
    },
    {
     "cell_type": "heading",
     "level": 2,
     "metadata": {},
     "source": [
      "Now create a fake galaxy database"
     ]
    },
    {
     "cell_type": "markdown",
     "metadata": {},
     "source": [
      "Using the functions above, we will create a fake galaxy database with galaxies in a small region of sky (tuned for the opsims areas that will be searched for later), spatially distributed roughly uniformly "
     ]
    },
    {
     "cell_type": "code",
     "collapsed": false,
     "input": [
      "obsMetaDataforCat = ObservationMetaData(boundType='circle',\n",
      "                                          boundLength=np.degrees(0.25),\n",
      "                                          unrefractedRA=np.degrees(0.13),\n",
      "                                          unrefractedDec=np.degrees(-1.2),\n",
      "                                          bandpassName=\n",
      "                                          ['u', 'g', 'r', 'i', 'z', 'y'],\n",
      "                                          mjd=49350.)"
     ],
     "language": "python",
     "metadata": {},
     "outputs": [],
     "prompt_number": 17
    },
    {
     "cell_type": "code",
     "collapsed": false,
     "input": [
      "sample_obsmetadata(obsMetaDataforCat, size=1)"
     ],
     "language": "python",
     "metadata": {},
     "outputs": [
      {
       "metadata": {},
       "output_type": "pyout",
       "prompt_number": 18,
       "text": [
        "(array([ 6.20905491]), array([-1.20266409]))"
       ]
      }
     ],
     "prompt_number": 18
    },
    {
     "cell_type": "code",
     "collapsed": false,
     "input": [
      "obsMetaDataforCat.boundLength"
     ],
     "language": "python",
     "metadata": {},
     "outputs": [
      {
       "metadata": {},
       "output_type": "pyout",
       "prompt_number": 19,
       "text": [
        "14.323944878270581"
       ]
      }
     ],
     "prompt_number": 19
    },
    {
     "cell_type": "code",
     "collapsed": false,
     "input": [
      "obsMetaDataforCat._boundLength"
     ],
     "language": "python",
     "metadata": {},
     "outputs": [
      {
       "metadata": {},
       "output_type": "pyout",
       "prompt_number": 20,
       "text": [
        "0.25"
       ]
      }
     ],
     "prompt_number": 20
    },
    {
     "cell_type": "code",
     "collapsed": false,
     "input": [
      "obsMetaDataforCat.bounds.radius"
     ],
     "language": "python",
     "metadata": {},
     "outputs": [
      {
       "metadata": {},
       "output_type": "pyout",
       "prompt_number": 21,
       "text": [
        "0.25"
       ]
      }
     ],
     "prompt_number": 21
    },
    {
     "cell_type": "code",
     "collapsed": false,
     "input": [
      "obsMetaDataforCat.boundType"
     ],
     "language": "python",
     "metadata": {},
     "outputs": [
      {
       "metadata": {},
       "output_type": "pyout",
       "prompt_number": 22,
       "text": [
        "'circle'"
       ]
      }
     ],
     "prompt_number": 22
    },
    {
     "cell_type": "code",
     "collapsed": false,
     "input": [
      "vals = _createFakeGalaxyDB(dbname='testData/galcat.db',\n",
      "                    ObsMetaData=obsMetaDataforCat,\n",
      "                    size=1000000,\n",
      "                    seed=1)"
     ],
     "language": "python",
     "metadata": {},
     "outputs": [
      {
       "output_type": "stream",
       "stream": "stdout",
       "text": [
        "deleting database  testData/galcat.db\n"
       ]
      }
     ],
     "prompt_number": 23
    },
    {
     "cell_type": "code",
     "collapsed": false,
     "input": [
      "vals"
     ],
     "language": "python",
     "metadata": {},
     "outputs": [
      {
       "metadata": {},
       "output_type": "pyout",
       "prompt_number": 24,
       "text": [
        "(array([ 0.088511  ,  0.24016225,  6.16324249, ...,  0.12661688,\n",
        "         6.21759016,  0.06512591]),\n",
        " array([-0.99399571, -1.21610453, -1.15133414, ..., -1.02888506,\n",
        "        -1.33583417, -1.04711557]))"
       ]
      }
     ],
     "prompt_number": 24
    },
    {
     "cell_type": "code",
     "collapsed": false,
     "input": [
      "plt.plot(vals[0][:1000], vals[1][:1000], '.')\n",
      "plt.axvline(2. * np.pi, color='k', lw=2.)\n",
      "plt.axvline(0., color='k', lw=2.)\n",
      "plt.axhline(np.pi, color='k', lw=2.)\n",
      "plt.axhline(-np.pi, color='k', lw=2.)\n",
      "plt.plot([0.13], [-1.2], 'rs', markersize=8)"
     ],
     "language": "python",
     "metadata": {},
     "outputs": [
      {
       "metadata": {},
       "output_type": "pyout",
       "prompt_number": 25,
       "text": [
        "[<matplotlib.lines.Line2D at 0x114c35610>]"
       ]
      },
      {
       "metadata": {},
       "output_type": "display_data",
       "png": "[encoded data removed]",
       "text": [
        "<matplotlib.figure.Figure at 0x110c1f590>"
       ]
      }
     ],
     "prompt_number": 25
    },
    {
     "cell_type": "markdown",
     "metadata": {},
     "source": [
      "Fake galaxycatalog object "
     ]
    },
    {
     "cell_type": "markdown",
     "metadata": {},
     "source": [
      "Galaxies (blue points) simulated in a square patch of RA, DEC around the red point"
     ]
    },
    {
     "cell_type": "code",
     "collapsed": false,
     "input": [
      "galDB = myGalaxyCatalog()"
     ],
     "language": "python",
     "metadata": {},
     "outputs": [],
     "prompt_number": 28
    },
    {
     "cell_type": "markdown",
     "metadata": {},
     "source": [
      "Check that there really are galaxies in the catalog by writing an instance catalog of the galaxies to disk"
     ]
    },
    {
     "cell_type": "code",
     "collapsed": false,
     "input": [
      "class galCopy(InstanceCatalog):\n",
      "    column_outputs = ['id', 'raJ2000', 'decJ2000', 'redshift']\n",
      "    override_formats = {'raJ2000': '%8e', 'decJ2000': '%8e'}"
     ],
     "language": "python",
     "metadata": {},
     "outputs": [
      {
       "ename": "ValueError",
       "evalue": "Catalog Type gal_copy is duplicated",
       "output_type": "pyerr",
       "traceback": [
        "\u001b[0;31m---------------------------------------------------------------------------\u001b[0m\n\u001b[0;31mValueError\u001b[0m                                Traceback (most recent call last)",
        "\u001b[0;32m<ipython-input-29-ee850b141663>\u001b[0m in \u001b[0;36m<module>\u001b[0;34m()\u001b[0m\n\u001b[0;32m----> 1\u001b[0;31m \u001b[0;32mclass\u001b[0m \u001b[0mgalCopy\u001b[0m\u001b[0;34m(\u001b[0m\u001b[0mInstanceCatalog\u001b[0m\u001b[0;34m)\u001b[0m\u001b[0;34m:\u001b[0m\u001b[0;34m\u001b[0m\u001b[0m\n\u001b[0m\u001b[1;32m      2\u001b[0m     \u001b[0mcolumn_outputs\u001b[0m \u001b[0;34m=\u001b[0m \u001b[0;34m[\u001b[0m\u001b[0;34m'id'\u001b[0m\u001b[0;34m,\u001b[0m \u001b[0;34m'raJ2000'\u001b[0m\u001b[0;34m,\u001b[0m \u001b[0;34m'decJ2000'\u001b[0m\u001b[0;34m,\u001b[0m \u001b[0;34m'redshift'\u001b[0m\u001b[0;34m]\u001b[0m\u001b[0;34m\u001b[0m\u001b[0m\n\u001b[1;32m      3\u001b[0m     \u001b[0moverride_formats\u001b[0m \u001b[0;34m=\u001b[0m \u001b[0;34m{\u001b[0m\u001b[0;34m'raJ2000'\u001b[0m\u001b[0;34m:\u001b[0m \u001b[0;34m'%8e'\u001b[0m\u001b[0;34m,\u001b[0m \u001b[0;34m'decJ2000'\u001b[0m\u001b[0;34m:\u001b[0m \u001b[0;34m'%8e'\u001b[0m\u001b[0;34m}\u001b[0m\u001b[0;34m\u001b[0m\u001b[0m\n",
        "\u001b[0;32m/Users/rbiswas/src/LSST/sims_catalogs_measures/python/lsst/sims/catalogs/measures/instance/InstanceCatalog.pyc\u001b[0m in \u001b[0;36m__init__\u001b[0;34m(cls, name, bases, dct)\u001b[0m\n\u001b[1;32m     72\u001b[0m         \u001b[0;32mif\u001b[0m \u001b[0mcls\u001b[0m\u001b[0;34m.\u001b[0m\u001b[0mcatalog_type\u001b[0m \u001b[0;32min\u001b[0m \u001b[0mcls\u001b[0m\u001b[0;34m.\u001b[0m\u001b[0mregistry\u001b[0m\u001b[0;34m:\u001b[0m\u001b[0;34m\u001b[0m\u001b[0m\n\u001b[1;32m     73\u001b[0m             raise ValueError(\"Catalog Type %s is duplicated\"\n\u001b[0;32m---> 74\u001b[0;31m                              % cls.catalog_type)\n\u001b[0m\u001b[1;32m     75\u001b[0m         \u001b[0mcls\u001b[0m\u001b[0;34m.\u001b[0m\u001b[0mregistry\u001b[0m\u001b[0;34m[\u001b[0m\u001b[0mcls\u001b[0m\u001b[0;34m.\u001b[0m\u001b[0mcatalog_type\u001b[0m\u001b[0;34m]\u001b[0m \u001b[0;34m=\u001b[0m \u001b[0mcls\u001b[0m\u001b[0;34m\u001b[0m\u001b[0m\n\u001b[1;32m     76\u001b[0m \u001b[0;34m\u001b[0m\u001b[0m\n",
        "\u001b[0;31mValueError\u001b[0m: Catalog Type gal_copy is duplicated"
       ]
      }
     ],
     "prompt_number": 29
    },
    {
     "cell_type": "code",
     "collapsed": false,
     "input": [
      "galphot = galCopy(db_obj=galDB, obs_metadata=obsMetaDataforCat)"
     ],
     "language": "python",
     "metadata": {},
     "outputs": [],
     "prompt_number": 30
    },
    {
     "cell_type": "code",
     "collapsed": false,
     "input": [
      "galphot.write_catalog('gals.dat')"
     ],
     "language": "python",
     "metadata": {},
     "outputs": [],
     "prompt_number": 31
    },
    {
     "cell_type": "code",
     "collapsed": false,
     "input": [
      "!wc -l gals.dat"
     ],
     "language": "python",
     "metadata": {},
     "outputs": [
      {
       "output_type": "stream",
       "stream": "stdout",
       "text": [
        "  742765 gals.dat\r\n"
       ]
      }
     ],
     "prompt_number": 32
    },
    {
     "cell_type": "code",
     "collapsed": false,
     "input": [
      "!head gals.dat"
     ],
     "language": "python",
     "metadata": {},
     "outputs": [
      {
       "output_type": "stream",
       "stream": "stdout",
       "text": [
        "#id, raJ2000, decJ2000, redshift\r\n",
        "1000000, 8.851100e-02, -9.939957e-01, 0.0376\r\n",
        "1000001, 2.401622e-01, -1.216105e+00, 0.7608\r\n",
        "1000003, 3.116629e-02, -1.009110e+00, 0.1566\r\n",
        "1000007, 5.278036e-02, -9.771580e-01, 0.3991\r\n",
        "1000008, 7.838374e-02, -1.024724e+00, 0.7685\r\n",
        "1000009, 1.494084e-01, -9.881543e-01, 0.9084\r\n",
        "1000010, 8.959726e-02, -1.070042e+00, 0.5480\r\n",
        "1000011, 2.226098e-01, -1.132653e+00, 0.8986\r\n",
        "1000013, 3.190587e-01, -1.084762e+00, 0.0921\r\n"
       ]
      }
     ],
     "prompt_number": 33
    },
    {
     "cell_type": "markdown",
     "metadata": {},
     "source": [
      "The next step takes a set of mjds and pointings made up here (ie. this should really come from Opsims, but to simplify this notebook, and build a light curve, we will assume that we decided to point at the same location everyday. And to first try out\n",
      "an instance catalog we can read easily, and understand, we will first do one day.\n",
      "\n",
      "\n",
      "So, let us instantiate an ObservationMetaData object, and write the catalog associated with it"
     ]
    },
    {
     "cell_type": "heading",
     "level": 2,
     "metadata": {},
     "source": [
      "Building Light Curves from Instance Catalogs"
     ]
    },
    {
     "cell_type": "markdown",
     "metadata": {},
     "source": [
      "We would like to create a number of supernova instance catalogs and then build the light curves from the catalogs. To do this correctly, we would like to use the `observation_metadata` associated with a number of conscutive OpSIM pointings. "
     ]
    },
    {
     "cell_type": "code",
     "collapsed": false,
     "input": [
      "opsimPath = os.path.join(eups.productDir('sims_data'),'OpSimData')\n",
      "opsimDB = os.path.join(opsimPath,'opsimblitz1_1133_sqlite.db')\n",
      "\n",
      "# from Tuscon AHM notebook from Scott\n",
      "# This OPSIM DB is provided in sims_data. This creates a list of opsim pointings\n",
      "# that I have checked. This is a tuned notebook\n",
      "generator = ObservationMetaDataGenerator() #database = opsimPath, driver='sqlite')\n",
      "obsMetaDataResults = generator.getObservationMetaData(limit=100,\n",
      "                                                      fieldRA=(5.0, 8.0), \n",
      "                                                      fieldDec=(-85.,-60.),\n",
      "                                                      expMJD=(49300., 49400.),\n",
      "                                                      boundLength=0.015,\n",
      "                                                      boundType='circle')"
     ],
     "language": "python",
     "metadata": {},
     "outputs": [],
     "prompt_number": 34
    },
    {
     "cell_type": "code",
     "collapsed": false,
     "input": [
      "# How many pointings do we have? \n",
      "print len(obsMetaDataResults)"
     ],
     "language": "python",
     "metadata": {},
     "outputs": [
      {
       "output_type": "stream",
       "stream": "stdout",
       "text": [
        "15\n"
       ]
      }
     ],
     "prompt_number": 35
    },
    {
     "cell_type": "markdown",
     "metadata": {},
     "source": [
      "What are the RA, DEC values of the pointings? And how do they compare with the positions of galaxies we created in the database?"
     ]
    },
    {
     "cell_type": "code",
     "collapsed": false,
     "input": [
      "def coords(x): \n",
      "    return np.radians(x.summary['unrefractedRA']), np.radians(x.summary['unrefractedDec'])"
     ],
     "language": "python",
     "metadata": {},
     "outputs": [],
     "prompt_number": 36
    },
    {
     "cell_type": "code",
     "collapsed": false,
     "input": [
      "v = zip(*map(coords, obsMetaDataResults))"
     ],
     "language": "python",
     "metadata": {},
     "outputs": [],
     "prompt_number": 37
    },
    {
     "cell_type": "code",
     "collapsed": false,
     "input": [
      "plt.plot(v[0], v[1], 'ko', markersize=4)\n",
      "plt.plot(vals[0][:1000], vals[1][:1000], '.')\n",
      "plt.axvline(2. * np.pi, color='k', lw=2.)\n",
      "plt.axvline(0., color='k', lw=2.)\n",
      "plt.axhline(np.pi, color='k', lw=2.)\n",
      "plt.axhline(-np.pi, color='k', lw=2.)\n",
      "plt.plot(v[0], v[1], 'ko', markersize=8)"
     ],
     "language": "python",
     "metadata": {},
     "outputs": [
      {
       "metadata": {},
       "output_type": "pyout",
       "prompt_number": 38,
       "text": [
        "[<matplotlib.lines.Line2D at 0x114f76d10>]"
       ]
      },
      {
       "metadata": {},
       "output_type": "display_data",
       "png": "[encoded data removed]",
       "text": [
        "<matplotlib.figure.Figure at 0x110c1fb90>"
       ]
      }
     ],
     "prompt_number": 38
    },
    {
     "cell_type": "markdown",
     "metadata": {},
     "source": [
      "The few black points represent the opsim pointings, the blue points represent the locations of galaxies we created. This shows that there is overlap in space."
     ]
    },
    {
     "cell_type": "markdown",
     "metadata": {},
     "source": [
      "We now want to write the light curves to a database. The way this function actually works is it creates the instance catalogs \n",
      "for each of the obs_metadata points, writes them to disk using the `InstanceCatalog.write_catalog` method, reads the files from disk (right now the filenames are chosen in the same order as obs_metadata objects), and writes them to a sqlite database."
     ]
    },
    {
     "cell_type": "code",
     "collapsed": false,
     "input": [
      "if not os.path.exists('data/NewLightCurves'): \n",
      "    os.makedirs('data/NewLightCurves')"
     ],
     "language": "python",
     "metadata": {},
     "outputs": [],
     "prompt_number": 39
    },
    {
     "cell_type": "heading",
     "level": 3,
     "metadata": {},
     "source": [
      "The Supernova Catalog"
     ]
    },
    {
     "cell_type": "code",
     "collapsed": false,
     "input": [
      "column_outputs=['flux_u', 'flux_g', 'flux_r', 'flux_i', 'flux_z', 'flux_y', 'mag_u', 'mag_g', 'mag_r', 'mag_i', 'mag_z', 'mag_y']"
     ],
     "language": "python",
     "metadata": {},
     "outputs": [],
     "prompt_number": 40
    },
    {
     "cell_type": "code",
     "collapsed": false,
     "input": [
      "catalog = sncat.SNIaCatalog(db_obj=galDB, \n",
      "                            obs_metadata=obsMetaDataResults[0], \n",
      "                            column_outputs=['flux_u', 'flux_g', 'flux_r', 'flux_i', 'flux_z', 'flux_y', 'mag_u', 'mag_g', 'mag_r', 'mag_i', 'mag_z', 'mag_y'])"
     ],
     "language": "python",
     "metadata": {},
     "outputs": [],
     "prompt_number": 41
    },
    {
     "cell_type": "code",
     "collapsed": false,
     "input": [
      "catalog.write_catalog('test_SN_why.dat')"
     ],
     "language": "python",
     "metadata": {},
     "outputs": [],
     "prompt_number": 42
    },
    {
     "cell_type": "code",
     "collapsed": false,
     "input": [
      "#Set some "
     ],
     "language": "python",
     "metadata": {},
     "outputs": [],
     "prompt_number": 42
    },
    {
     "cell_type": "code",
     "collapsed": false,
     "input": [
      "catalog.midSurveyTime = 49350.\n",
      "catalog.averageRate = 1."
     ],
     "language": "python",
     "metadata": {},
     "outputs": [],
     "prompt_number": 43
    },
    {
     "cell_type": "code",
     "collapsed": false,
     "input": [
      "catalog.write_catalog('tmp.dat')"
     ],
     "language": "python",
     "metadata": {},
     "outputs": [],
     "prompt_number": 44
    },
    {
     "cell_type": "code",
     "collapsed": false,
     "input": [
      "!head tmp.dat"
     ],
     "language": "python",
     "metadata": {},
     "outputs": [
      {
       "output_type": "stream",
       "stream": "stdout",
       "text": [
        "#snid, snra, sndec, z, t0, c, x1, x0, flux_u, flux_g, flux_r, flux_i, flux_z, flux_y, mag_u, mag_g, mag_r, mag_i, mag_z, mag_y\r\n",
        "1194063, 9.807749e-02, -1.279044e+00, 0.3578, 49350.2696, -4.780265e-02, -1.5735, 2.046693e-05, 0.0000, 0.0000, 0.0000, 0.0000, 0.0000, 0.0000, 22.6355, 22.6355, 22.6355, 22.6355, 22.6355, 22.6355\r\n",
        "1202620, 9.822037e-02, -1.279374e+00, 0.3552, 49350.0770, -1.076733e-01, 0.0559, 3.298252e-05, 0.0000, 0.0000, 0.0000, 0.0000, 0.0000, 0.0000, 22.1895, 22.1895, 22.1895, 22.1895, 22.1895, 22.1895\r\n",
        "1456605, 9.746749e-02, -1.279057e+00, 0.7285, 49350.3101, -5.548099e-02, -1.0822, 5.414297e-06, 0.0000, 0.0000, 0.0000, 0.0000, 0.0000, 0.0000, 23.5201, 23.5201, 23.5201, 23.5201, 23.5201, 23.5201\r\n",
        "1812900, 9.864307e-02, -1.279292e+00, 0.2086, 49350.0594, 4.177646e-02, 0.3476, 9.584063e-05, 0.0000, 0.0000, 0.0000, 0.0000, 0.0000, 0.0000, 21.4403, 21.4403, 21.4403, 21.4403, 21.4403, 21.4403\r\n",
        "1956535, 9.875172e-02, -1.279203e+00, 0.1810, 49350.4672, 1.461182e-01, -1.5249, 9.839733e-05, 0.0000, 0.0000, 0.0000, 0.0000, 0.0000, 0.0000, 21.4218, 21.4218, 21.4218, 21.4218, 21.4218, 21.4218\r\n",
        "1972436, 9.750733e-02, -1.279303e+00, 0.4644, 49349.9913, 7.642282e-02, 0.4876, 1.356074e-05, 0.0000, 0.0000, 0.0000, 0.0000, 0.0000, 0.0000, 22.5538, 22.5538, 22.5538, 22.5538, 22.5538, 22.5538\r\n"
       ]
      }
     ],
     "prompt_number": 45
    },
    {
     "cell_type": "code",
     "collapsed": false,
     "input": [
      "f = catalog.get_SNsed()"
     ],
     "language": "python",
     "metadata": {},
     "outputs": [],
     "prompt_number": 46
    },
    {
     "cell_type": "code",
     "collapsed": false,
     "input": [
      "for sed in f:\n",
      "    plt.plot(sed.wavelen, sed.flambda)"
     ],
     "language": "python",
     "metadata": {},
     "outputs": [
      {
       "metadata": {},
       "output_type": "display_data",
       "png": "[encoded data removed]",
       "text": [
        "<matplotlib.figure.Figure at 0x114f8ded0>"
       ]
      }
     ],
     "prompt_number": 47
    },
    {
     "cell_type": "code",
     "collapsed": false,
     "input": [
      "!cat tmp.dat"
     ],
     "language": "python",
     "metadata": {},
     "outputs": [
      {
       "output_type": "stream",
       "stream": "stdout",
       "text": [
        "#snid, snra, sndec, z, t0, c, x1, x0, flux_u, flux_g, flux_r, flux_i, flux_z, flux_y, mag_u, mag_g, mag_r, mag_i, mag_z, mag_y\r\n",
        "1194063, 9.807749e-02, -1.279044e+00, 0.3578, 49350.2696, -4.780265e-02, -1.5735, 2.046693e-05, 0.0000, 0.0000, 0.0000, 0.0000, 0.0000, 0.0000, 22.6355, 22.6355, 22.6355, 22.6355, 22.6355, 22.6355\r\n",
        "1202620, 9.822037e-02, -1.279374e+00, 0.3552, 49350.0770, -1.076733e-01, 0.0559, 3.298252e-05, 0.0000, 0.0000, 0.0000, 0.0000, 0.0000, 0.0000, 22.1895, 22.1895, 22.1895, 22.1895, 22.1895, 22.1895\r\n",
        "1456605, 9.746749e-02, -1.279057e+00, 0.7285, 49350.3101, -5.548099e-02, -1.0822, 5.414297e-06, 0.0000, 0.0000, 0.0000, 0.0000, 0.0000, 0.0000, 23.5201, 23.5201, 23.5201, 23.5201, 23.5201, 23.5201\r\n",
        "1812900, 9.864307e-02, -1.279292e+00, 0.2086, 49350.0594, 4.177646e-02, 0.3476, 9.584063e-05, 0.0000, 0.0000, 0.0000, 0.0000, 0.0000, 0.0000, 21.4403, 21.4403, 21.4403, 21.4403, 21.4403, 21.4403\r\n",
        "1956535, 9.875172e-02, -1.279203e+00, 0.1810, 49350.4672, 1.461182e-01, -1.5249, 9.839733e-05, 0.0000, 0.0000, 0.0000, 0.0000, 0.0000, 0.0000, 21.4218, 21.4218, 21.4218, 21.4218, 21.4218, 21.4218\r\n",
        "1972436, 9.750733e-02, -1.279303e+00, 0.4644, 49349.9913, 7.642282e-02, 0.4876, 1.356074e-05, 0.0000, 0.0000, 0.0000, 0.0000, 0.0000, 0.0000, 22.5538, 22.5538, 22.5538, 22.5538, 22.5538, 22.5538\r\n"
       ]
      }
     ],
     "prompt_number": 48
    },
    {
     "cell_type": "code",
     "collapsed": false,
     "input": [
      "lu.writeCatalogtoDB(dbfile='data/sncat_real.db', dbtable='mysncat', ascii_root='data/SNIa_real_', galdb=galDB, \n",
      "                    obsMetaDataList=obsMetaDataResults, averageRate=1., midSurveyTime=49350., column_outputs=column_outputs)\n",
      "    "
     ],
     "language": "python",
     "metadata": {},
     "outputs": [
      {
       "output_type": "stream",
       "stream": "stdout",
       "text": [
        "deleting previous database\n",
        "=====================================\n",
        "0 49362.070248\n",
        "=====================================\n",
        "1.0 49350.0\n",
        "====================================="
       ]
      },
      {
       "output_type": "stream",
       "stream": "stdout",
       "text": [
        "\n",
        "1 49364.115003\n",
        "=====================================\n",
        "1.0 49350.0\n",
        "====================================="
       ]
      },
      {
       "output_type": "stream",
       "stream": "stdout",
       "text": [
        "\n",
        "2 49368.177159\n",
        "=====================================\n",
        "1.0 49350.0\n",
        "====================================="
       ]
      },
      {
       "output_type": "stream",
       "stream": "stdout",
       "text": [
        "\n",
        "3 49368.177576\n",
        "=====================================\n",
        "1.0 49350.0\n",
        "====================================="
       ]
      },
      {
       "output_type": "stream",
       "stream": "stdout",
       "text": [
        "\n",
        "4 49355.053207\n",
        "=====================================\n",
        "1.0 49350.0\n",
        "====================================="
       ]
      },
      {
       "output_type": "stream",
       "stream": "stdout",
       "text": [
        "\n",
        "5 49355.055404\n",
        "=====================================\n",
        "1.0 49350.0\n",
        "====================================="
       ]
      },
      {
       "output_type": "stream",
       "stream": "stdout",
       "text": [
        "\n",
        "6 49362.069356\n",
        "=====================================\n",
        "1.0 49350.0\n",
        "====================================="
       ]
      },
      {
       "output_type": "stream",
       "stream": "stdout",
       "text": [
        "\n",
        "7 49365.08971\n",
        "=====================================\n",
        "1.0 49350.0\n",
        "====================================="
       ]
      },
      {
       "output_type": "stream",
       "stream": "stdout",
       "text": [
        "\n",
        "8 49368.172717\n",
        "=====================================\n",
        "1.0 49350.0\n",
        "====================================="
       ]
      },
      {
       "output_type": "stream",
       "stream": "stdout",
       "text": [
        "\n",
        "9 49369.196014\n",
        "=====================================\n",
        "1.0 49350.0\n",
        "====================================="
       ]
      },
      {
       "output_type": "stream",
       "stream": "stdout",
       "text": [
        "\n",
        "10 49370.107511\n",
        "=====================================\n",
        "1.0 49350.0\n",
        "====================================="
       ]
      },
      {
       "output_type": "stream",
       "stream": "stdout",
       "text": [
        "\n",
        "11 49362.072473\n",
        "=====================================\n",
        "1.0 49350.0\n",
        "====================================="
       ]
      },
      {
       "output_type": "stream",
       "stream": "stdout",
       "text": [
        "\n",
        "12 49365.088264\n",
        "=====================================\n",
        "1.0 49350.0\n",
        "====================================="
       ]
      },
      {
       "output_type": "stream",
       "stream": "stdout",
       "text": [
        "\n",
        "13 49370.110671\n",
        "=====================================\n",
        "1.0 49350.0\n",
        "====================================="
       ]
      },
      {
       "output_type": "stream",
       "stream": "stdout",
       "text": [
        "\n",
        "14 49370.117093\n",
        "=====================================\n",
        "1.0 49350.0\n"
       ]
      }
     ],
     "prompt_number": 49
    },
    {
     "cell_type": "markdown",
     "metadata": {},
     "source": [
      "The following function then queries the database, and groups the data by a SNID number to build the light curves."
     ]
    },
    {
     "cell_type": "code",
     "collapsed": false,
     "input": [
      "lcs = lu.getLCsFromDB(dbfile='data/sncat_real.db',\n",
      "                 dbtable='mysncat',\n",
      "                 lc_root='data/LightCurves/SN_real_')"
     ],
     "language": "python",
     "metadata": {},
     "outputs": [],
     "prompt_number": 50
    },
    {
     "cell_type": "markdown",
     "metadata": {},
     "source": [
      "We can check how many light curves are there, and we can display each light curve in the following way"
     ]
    },
    {
     "cell_type": "code",
     "collapsed": false,
     "input": [
      "len(lcs)"
     ],
     "language": "python",
     "metadata": {},
     "outputs": [
      {
       "metadata": {},
       "output_type": "pyout",
       "prompt_number": 51,
       "text": [
        "8"
       ]
      }
     ],
     "prompt_number": 51
    },
    {
     "cell_type": "code",
     "collapsed": false,
     "input": [
      "lcs[0][1]"
     ],
     "language": "python",
     "metadata": {},
     "outputs": [
      {
       "html": [
        "<div style=\"max-height:1000px;max-width:1500px;overflow:auto;\">\n",
        "<table border=\"1\" class=\"dataframe\">\n",
        "  <thead>\n",
        "    <tr style=\"text-align: right;\">\n",
        "      <th></th>\n",
        "      <th>id</th>\n",
        "      <th>mjd</th>\n",
        "      <th>snid</th>\n",
        "      <th>snra</th>\n",
        "      <th>sndec</th>\n",
        "      <th>z</th>\n",
        "      <th>t0</th>\n",
        "      <th>c</th>\n",
        "      <th>x1</th>\n",
        "      <th>x0</th>\n",
        "      <th>...</th>\n",
        "      <th>flux_r</th>\n",
        "      <th>flux_i</th>\n",
        "      <th>flux_z</th>\n",
        "      <th>flux_y</th>\n",
        "      <th>mag_u</th>\n",
        "      <th>mag_g</th>\n",
        "      <th>mag_r</th>\n",
        "      <th>mag_i</th>\n",
        "      <th>mag_z</th>\n",
        "      <th>mag_y</th>\n",
        "    </tr>\n",
        "  </thead>\n",
        "  <tbody>\n",
        "    <tr>\n",
        "      <th>3</th>\n",
        "      <td>obshist3</td>\n",
        "      <td>49362.070248</td>\n",
        "      <td>1812900</td>\n",
        "      <td>0.098643</td>\n",
        "      <td>-1.279292</td>\n",
        "      <td>0.2086</td>\n",
        "      <td>49350.0594</td>\n",
        "      <td>0.041776</td>\n",
        "      <td>0.3476</td>\n",
        "      <td>0.000096</td>\n",
        "      <td>...</td>\n",
        "      <td>0</td>\n",
        "      <td>0</td>\n",
        "      <td>0</td>\n",
        "      <td>0</td>\n",
        "      <td>21.4403</td>\n",
        "      <td>21.4403</td>\n",
        "      <td>21.4403</td>\n",
        "      <td>21.4403</td>\n",
        "      <td>21.4403</td>\n",
        "      <td>21.4403</td>\n",
        "    </tr>\n",
        "    <tr>\n",
        "      <th>9</th>\n",
        "      <td>obshist3</td>\n",
        "      <td>49364.115003</td>\n",
        "      <td>1812900</td>\n",
        "      <td>0.098643</td>\n",
        "      <td>-1.279292</td>\n",
        "      <td>0.2086</td>\n",
        "      <td>49350.0594</td>\n",
        "      <td>0.041776</td>\n",
        "      <td>0.3476</td>\n",
        "      <td>0.000096</td>\n",
        "      <td>...</td>\n",
        "      <td>0</td>\n",
        "      <td>0</td>\n",
        "      <td>0</td>\n",
        "      <td>0</td>\n",
        "      <td>21.5579</td>\n",
        "      <td>21.5579</td>\n",
        "      <td>21.5579</td>\n",
        "      <td>21.5579</td>\n",
        "      <td>21.5579</td>\n",
        "      <td>21.5579</td>\n",
        "    </tr>\n",
        "    <tr>\n",
        "      <th>15</th>\n",
        "      <td>obshist3</td>\n",
        "      <td>49368.177159</td>\n",
        "      <td>1812900</td>\n",
        "      <td>0.098643</td>\n",
        "      <td>-1.279292</td>\n",
        "      <td>0.2086</td>\n",
        "      <td>49350.0594</td>\n",
        "      <td>0.041776</td>\n",
        "      <td>0.3476</td>\n",
        "      <td>0.000096</td>\n",
        "      <td>...</td>\n",
        "      <td>0</td>\n",
        "      <td>0</td>\n",
        "      <td>0</td>\n",
        "      <td>0</td>\n",
        "      <td>21.1614</td>\n",
        "      <td>21.1614</td>\n",
        "      <td>21.1614</td>\n",
        "      <td>21.1614</td>\n",
        "      <td>21.1614</td>\n",
        "      <td>21.1614</td>\n",
        "    </tr>\n",
        "    <tr>\n",
        "      <th>21</th>\n",
        "      <td>obshist3</td>\n",
        "      <td>49368.177576</td>\n",
        "      <td>1812900</td>\n",
        "      <td>0.098643</td>\n",
        "      <td>-1.279292</td>\n",
        "      <td>0.2086</td>\n",
        "      <td>49350.0594</td>\n",
        "      <td>0.041776</td>\n",
        "      <td>0.3476</td>\n",
        "      <td>0.000096</td>\n",
        "      <td>...</td>\n",
        "      <td>0</td>\n",
        "      <td>0</td>\n",
        "      <td>0</td>\n",
        "      <td>0</td>\n",
        "      <td>21.1614</td>\n",
        "      <td>21.1614</td>\n",
        "      <td>21.1614</td>\n",
        "      <td>21.1614</td>\n",
        "      <td>21.1614</td>\n",
        "      <td>21.1614</td>\n",
        "    </tr>\n",
        "  </tbody>\n",
        "</table>\n",
        "<p>4 rows \u00d7 22 columns</p>\n",
        "</div>"
       ],
       "metadata": {},
       "output_type": "pyout",
       "prompt_number": 52,
       "text": [
        "          id           mjd     snid      snra     sndec       z          t0  \\\n",
        "3   obshist3  49362.070248  1812900  0.098643 -1.279292  0.2086  49350.0594   \n",
        "9   obshist3  49364.115003  1812900  0.098643 -1.279292  0.2086  49350.0594   \n",
        "15  obshist3  49368.177159  1812900  0.098643 -1.279292  0.2086  49350.0594   \n",
        "21  obshist3  49368.177576  1812900  0.098643 -1.279292  0.2086  49350.0594   \n",
        "\n",
        "           c      x1        x0   ...     flux_r  flux_i  flux_z  flux_y  \\\n",
        "3   0.041776  0.3476  0.000096   ...          0       0       0       0   \n",
        "9   0.041776  0.3476  0.000096   ...          0       0       0       0   \n",
        "15  0.041776  0.3476  0.000096   ...          0       0       0       0   \n",
        "21  0.041776  0.3476  0.000096   ...          0       0       0       0   \n",
        "\n",
        "      mag_u    mag_g    mag_r    mag_i    mag_z    mag_y  \n",
        "3   21.4403  21.4403  21.4403  21.4403  21.4403  21.4403  \n",
        "9   21.5579  21.5579  21.5579  21.5579  21.5579  21.5579  \n",
        "15  21.1614  21.1614  21.1614  21.1614  21.1614  21.1614  \n",
        "21  21.1614  21.1614  21.1614  21.1614  21.1614  21.1614  \n",
        "\n",
        "[4 rows x 22 columns]"
       ]
      }
     ],
     "prompt_number": 52
    },
    {
     "cell_type": "code",
     "collapsed": false,
     "input": [
      "type(lcs[3][1])"
     ],
     "language": "python",
     "metadata": {},
     "outputs": [
      {
       "metadata": {},
       "output_type": "pyout",
       "prompt_number": 53,
       "text": [
        "pandas.core.frame.DataFrame"
       ]
      }
     ],
     "prompt_number": 53
    },
    {
     "cell_type": "markdown",
     "metadata": {},
     "source": [
      "In this case, we have light curves associated with two different objects, and we can now plot them."
     ]
    },
    {
     "cell_type": "code",
     "collapsed": false,
     "input": [
      "fig, ax = plt.subplots(figsize=(24,8))\n",
      "lu.plotlc(lcs[0])\n",
      "lu.plotlc(lcs[1], marker='sr')\n",
      "ax.invert_yaxis()"
     ],
     "language": "python",
     "metadata": {},
     "outputs": [
      {
       "metadata": {},
       "output_type": "display_data",
       "png": "[encoded data removed]",
       "text": [
        "<matplotlib.figure.Figure at 0x1209cd210>"
       ]
      }
     ],
     "prompt_number": 54
    },
    {
     "cell_type": "markdown",
     "metadata": {},
     "source": [
      "The circles and squares are two different SN which were in lcs. The colors represent the different bands."
     ]
    },
    {
     "cell_type": "code",
     "collapsed": false,
     "input": [
      "import numpy as np\n",
      "epsilon = 0.01\n",
      "theta = -np.pi/4\n",
      "np.cos(theta) - np.cos(theta - epsilon)"
     ],
     "language": "python",
     "metadata": {},
     "outputs": [
      {
       "metadata": {},
       "output_type": "pyout",
       "prompt_number": 55,
       "text": [
        "0.0071063050057570409"
       ]
      }
     ],
     "prompt_number": 55
    },
    {
     "cell_type": "code",
     "collapsed": false,
     "input": [
      "import os\n",
      "from lsst.sims.GalSimInterface import GalSimGalaxies, GalSimSN\n",
      "from lsst.sims.photUtils import PhotometricParameters\n",
      "# from HackTogetherNIRCam import ReturnNIRCam"
     ],
     "language": "python",
     "metadata": {},
     "outputs": [],
     "prompt_number": 55
    },
    {
     "cell_type": "code",
     "collapsed": false,
     "input": [
      "class GalsimSNCatalog2(GalSimSN):\n",
      "\n",
      "    photParams = PhotometricParameters()\n",
      "    \n",
      "    "
     ],
     "language": "python",
     "metadata": {},
     "outputs": [],
     "prompt_number": 56
    },
    {
     "cell_type": "code",
     "collapsed": false,
     "input": [
      "# x = GalsimSNCatalog2(db_obj=galDB,  obs_metadata=obsMetaDataResults[0])"
     ],
     "language": "python",
     "metadata": {},
     "outputs": [],
     "prompt_number": 58
    },
    {
     "cell_type": "code",
     "collapsed": false,
     "input": [
      "# x.midSurveyTime = 49350."
     ],
     "language": "python",
     "metadata": {},
     "outputs": [],
     "prompt_number": 59
    },
    {
     "cell_type": "code",
     "collapsed": false,
     "input": [
      "# x.averageRate = 1."
     ],
     "language": "python",
     "metadata": {},
     "outputs": [],
     "prompt_number": 60
    },
    {
     "cell_type": "code",
     "collapsed": false,
     "input": [
      "# x.write_catalog('galsim.dat')"
     ],
     "language": "python",
     "metadata": {},
     "outputs": [],
     "prompt_number": 61
    },
    {
     "cell_type": "code",
     "collapsed": false,
     "input": [
      "# catalog = sncat.SNIaCatalog(db_obj=galDB,  obs_metadata=obsMetaDataResults[0])"
     ],
     "language": "python",
     "metadata": {},
     "outputs": [],
     "prompt_number": 62
    },
    {
     "cell_type": "code",
     "collapsed": false,
     "input": [
      "# catalog.cannot_be_null"
     ],
     "language": "python",
     "metadata": {},
     "outputs": [],
     "prompt_number": 63
    },
    {
     "cell_type": "code",
     "collapsed": false,
     "input": [
      "# catalog.midSurveyTime = 49350.\n",
      "# catalog.averageRate = 1.0"
     ],
     "language": "python",
     "metadata": {},
     "outputs": [],
     "prompt_number": 64
    },
    {
     "cell_type": "code",
     "collapsed": false,
     "input": [
      "# catalog.write_catalog('testSNIa.dat')"
     ],
     "language": "python",
     "metadata": {},
     "outputs": [],
     "prompt_number": 65
    },
    {
     "cell_type": "code",
     "collapsed": false,
     "input": [
      "# !head testSNIa.dat"
     ],
     "language": "python",
     "metadata": {},
     "outputs": [],
     "prompt_number": 66
    },
    {
     "cell_type": "code",
     "collapsed": false,
     "input": [
      "import galsim\n",
      "import numpy\n",
      "from lsst.sims.GalSimInterface import PSFbase\n",
      "\n",
      "class myCrazyPSF(PSFbase):\n",
      "    wavelength_dependent = False\n",
      "    \n",
      "    def _getPSF(self, xPupil=None, yPupil=None, **kwargs):\n",
      "        gaussian = galsim.Gaussian(sigma=1.0)\n",
      "        xp = numpy.abs(xPupil)\n",
      "        yp = numpy.abs(yPupil)\n",
      "        if xp is None:\n",
      "            xp is 0.0\n",
      "        if yp is None:\n",
      "            yp = 0.0\n",
      "            \n",
      "        if xp<yp:\n",
      "            minor = xp\n",
      "            major = yp\n",
      "        else:\n",
      "            minor = yp\n",
      "            major = xp\n",
      "\n",
      "        _psf = gaussian.shear(q=(minor+1.0)/(major+1.0), beta=(xPupil+yPupil)*galsim.radians)\n",
      "        return _psf"
     ],
     "language": "python",
     "metadata": {},
     "outputs": [],
     "prompt_number": 57
    },
    {
     "cell_type": "code",
     "collapsed": false,
     "input": [
      "class CrazyPSFCatalog2(GalsimSNCatalog2):\n",
      "    PSF = myCrazyPSF()"
     ],
     "language": "python",
     "metadata": {},
     "outputs": [],
     "prompt_number": 58
    },
    {
     "cell_type": "code",
     "collapsed": false,
     "input": [
      "cat = CrazyPSFCatalog2(db_obj=galDB,  obs_metadata=obsMetaDataResults[0])"
     ],
     "language": "python",
     "metadata": {},
     "outputs": [],
     "prompt_number": 59
    },
    {
     "cell_type": "code",
     "collapsed": false,
     "input": [
      "cat.midSurveyTime = 49350."
     ],
     "language": "python",
     "metadata": {},
     "outputs": [],
     "prompt_number": 60
    },
    {
     "cell_type": "code",
     "collapsed": false,
     "input": [
      "cat.averageRate = 1.0"
     ],
     "language": "python",
     "metadata": {},
     "outputs": [],
     "prompt_number": 61
    },
    {
     "cell_type": "code",
     "collapsed": false,
     "input": [
      "cat.write_catalog('galsim.dat')"
     ],
     "language": "python",
     "metadata": {},
     "outputs": []
    },
    {
     "cell_type": "code",
     "collapsed": false,
     "input": [
      "cat.write_images('test.fits')"
     ],
     "language": "python",
     "metadata": {},
     "outputs": []
    },
    {
     "cell_type": "code",
     "collapsed": false,
     "input": [
      "import MultiKernelManager \n",
      "MultiKernelManager.time_to_dead\n"
     ],
     "language": "python",
     "metadata": {},
     "outputs": [
      {
       "ename": "ImportError",
       "evalue": "No module named MultiKernelManager",
       "output_type": "pyerr",
       "traceback": [
        "\u001b[0;31m---------------------------------------------------------------------------\u001b[0m\n\u001b[0;31mImportError\u001b[0m                               Traceback (most recent call last)",
        "\u001b[0;32m<ipython-input-2-1fd7b07ce5ea>\u001b[0m in \u001b[0;36m<module>\u001b[0;34m()\u001b[0m\n\u001b[0;32m----> 1\u001b[0;31m \u001b[0;32mimport\u001b[0m \u001b[0mMultiKernelManager\u001b[0m\u001b[0;34m\u001b[0m\u001b[0m\n\u001b[0m\u001b[1;32m      2\u001b[0m \u001b[0mMultiKernelManager\u001b[0m\u001b[0;34m.\u001b[0m\u001b[0mtime_to_dead\u001b[0m\u001b[0;34m\u001b[0m\u001b[0m\n",
        "\u001b[0;31mImportError\u001b[0m: No module named MultiKernelManager"
       ]
      }
     ],
     "prompt_number": 2
    },
    {
     "cell_type": "code",
     "collapsed": false,
     "input": [],
     "language": "python",
     "metadata": {},
     "outputs": []
    }
   ],
   "metadata": {}
  }
 ]
}