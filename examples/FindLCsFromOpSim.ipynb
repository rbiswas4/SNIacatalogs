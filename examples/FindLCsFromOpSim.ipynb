{
 "metadata": {
  "kernelspec": {
   "display_name": "Python 2",
   "language": "python",
   "name": "python2"
  },
  "language_info": {
   "codemirror_mode": {
    "name": "ipython",
    "version": 2
   },
   "file_extension": ".py",
   "mimetype": "text/x-python",
   "name": "python",
   "nbconvert_exporter": "python",
   "pygments_lexer": "ipython2",
   "version": "2.7.9"
  },
  "name": "",
  "signature": "sha256:2fccb4bd5c70a4cca928665f3388eff5d53bf47d101eb9c762b41d865ef55cca"
 },
 "nbformat": 3,
 "nbformat_minor": 0,
 "worksheets": [
  {
   "cells": [
    {
     "cell_type": "heading",
     "level": 1,
     "metadata": {},
     "source": [
      "Supernovae Ia in catSim"
     ]
    },
    {
     "cell_type": "markdown",
     "metadata": {},
     "source": [
      "There are three files in catSim that currently provide the SN functionality. This functionality is based on classes provided by \n",
      "the python package SNCosmo, through the sncosmo.Model class which is built on top of a sncosmo.source class which describes a transient source in its rest frame in terms of a time series of spectra. The three files added into catSim are:\n",
      "\n",
      "1. snObject.py: Contains the class SNObject which inherits from the sncsomo.Model class with some decisions appropriate for our use\n",
      "2. snUniverse.py: Contains definitions of the rates and distribution of types of snObject \n",
      "3. sncat.py : How to interact with catSim, get the information there and write things out."
     ]
    },
    {
     "cell_type": "code",
     "collapsed": false,
     "input": [
      "import sniacatalogs as snia"
     ],
     "language": "python",
     "metadata": {},
     "outputs": [
      {
       "output_type": "stream",
       "stream": "stderr",
       "text": [
        " This call to matplotlib.use() has no effect\n",
        "because the backend has already been chosen;\n",
        "matplotlib.use() must be called *before* pylab, matplotlib.pyplot,\n",
        "or matplotlib.backends is imported for the first time.\n",
        "\n"
       ]
      }
     ],
     "prompt_number": 1
    },
    {
     "cell_type": "code",
     "collapsed": false,
     "input": [
      "import numpy as np\n",
      "%matplotlib inline\n",
      "import matplotlib.pyplot as plt\n",
      "import os"
     ],
     "language": "python",
     "metadata": {},
     "outputs": [],
     "prompt_number": 2
    },
    {
     "cell_type": "code",
     "collapsed": false,
     "input": [
      "#seaborn Comment out if this is not installed\n",
      "import seaborn as sns\n",
      "sns.set()"
     ],
     "language": "python",
     "metadata": {},
     "outputs": [],
     "prompt_number": 3
    },
    {
     "cell_type": "heading",
     "level": 2,
     "metadata": {},
     "source": [
      "snUniverse.py: SNUniverse"
     ]
    },
    {
     "cell_type": "markdown",
     "metadata": {},
     "source": [
      "The basic idea of this module is to contain the distributions and rules of obtaining certain properties of SN. The sort of information that needs to be encoded are  \n",
      "- What should be the abundance of the types of objects created in SNObject be?\n",
      "- What should their parameter distributions be like ?"
     ]
    },
    {
     "cell_type": "heading",
     "level": 2,
     "metadata": {},
     "source": [
      "sncat.py: SNIaCatalog"
     ]
    },
    {
     "cell_type": "markdown",
     "metadata": {},
     "source": [
      "This inherits from the ` instanceCatalog ` class and uses the functionality in ` CosmologyWrapper ` and `SNUniverse`. This is an `InstanceCatalog` and so provides a catalog of SN observed at a particular exposure."
     ]
    },
    {
     "cell_type": "code",
     "collapsed": false,
     "input": [
      "from lsst.sims.catalogs.generation.db import ObservationMetaData\n",
      "from sniacatalogs import sncat"
     ],
     "language": "python",
     "metadata": {},
     "outputs": [],
     "prompt_number": 4
    },
    {
     "cell_type": "code",
     "collapsed": false,
     "input": [
      "from lsst.sims.catalogs.generation.db import CatalogDBObject"
     ],
     "language": "python",
     "metadata": {},
     "outputs": [],
     "prompt_number": 5
    },
    {
     "cell_type": "markdown",
     "metadata": {},
     "source": [
      "First, we create a catalog of all the galaxies in the catalog using the `CatalogDBObject.from_objid` "
     ]
    },
    {
     "cell_type": "code",
     "collapsed": false,
     "input": [
      "galDB = CatalogDBObject.from_objid('galaxyTiled')"
     ],
     "language": "python",
     "metadata": {},
     "outputs": [
      {
       "output_type": "stream",
       "stream": "stderr",
       "text": [
        "/usr/local/manual/anaconda/lib/python2.7/site-packages/sqlalchemy/dialects/mssql/base.py:1294: SAWarning: Did not recognize type 'geography' of column 'geopoint'\n",
        "  return fn(*arg, **kw)\n"
       ]
      }
     ],
     "prompt_number": 6
    },
    {
     "cell_type": "markdown",
     "metadata": {},
     "source": [
      "The catsim framework does not allow us to record these galaxies to disk, but we could by creating an `InstanceCatalog` class. This requires "
     ]
    },
    {
     "cell_type": "code",
     "collapsed": false,
     "input": [
      "from lsst.sims.catalogs.measures.instance import InstanceCatalog\n",
      "class galCopy(InstanceCatalog):\n",
      "    column_outputs = ['id', 'raJ2000', 'decJ2000', 'redshift']\n",
      "    override_formats = {'raJ2000': '%8e', 'decJ2000': '%8e'}"
     ],
     "language": "python",
     "metadata": {},
     "outputs": [],
     "prompt_number": 7
    },
    {
     "cell_type": "markdown",
     "metadata": {},
     "source": [
      "The next step takes a set of mjds and pointings made up here (ie. this should really come from Opsims, but to simplify this notebook, and build a light curve, we will assume that we decided to point at the same location everyday. And to first try out\n",
      "an instance catalog we can read easily, and understand, we will first do one day.\n",
      "\n",
      "\n",
      "So, let us instantiate an ObservationMetaData object, and write the catalog associated with it"
     ]
    },
    {
     "cell_type": "code",
     "collapsed": false,
     "input": [
      "import numpy as np"
     ],
     "language": "python",
     "metadata": {},
     "outputs": [],
     "prompt_number": 8
    },
    {
     "cell_type": "heading",
     "level": 2,
     "metadata": {},
     "source": [
      "Building Light Curves from Instance Catalogs"
     ]
    },
    {
     "cell_type": "markdown",
     "metadata": {},
     "source": [
      "We would like to create a number of supernova instance catalogs and then build the light curves from the catalogs. To do this correctly, we would like to use the `observation_metadata` associated with a number of conscutive OpSIM pointings. Right now, though, it will be nice to demonstrate that we are getting light curves from a number of instance catalogs, without caring about a particular strategy. Hence, we will create a 20 epoch list of `observation_metadata` , where we 'observe' in all bands, and quickly by doing a small field of view (0.015 degree). "
     ]
    },
    {
     "cell_type": "code",
     "collapsed": false,
     "input": [
      "\n",
      "import lightcurve_utils as lu"
     ],
     "language": "python",
     "metadata": {},
     "outputs": [],
     "prompt_number": 9
    },
    {
     "cell_type": "code",
     "collapsed": false,
     "input": [
      "import os\n",
      "import eups\n",
      "from lsst.sims.catUtils.utils import ObservationMetaDataGenerator\n",
      "\n",
      "opsimPath = os.path.join(eups.productDir('sims_data'),'OpSimData')\n",
      "opsimDB = os.path.join(opsimPath,'opsimblitz1_1133_sqlite.db')\n",
      "\n",
      "#you need to provide ObservationMetaDataGenerator with the connection\n",
      "#string to an OpSim output database.  This is the connection string\n",
      "#to a test database that comes when you install CatSim.\n",
      "generator = ObservationMetaDataGenerator(address = 'sqlite:///'+opsimDB)"
     ],
     "language": "python",
     "metadata": {},
     "outputs": [],
     "prompt_number": 10
    },
    {
     "cell_type": "code",
     "collapsed": false,
     "input": [
      "obsMetaDataResults = generator.getObservationMetaData(limit=100,\n",
      "                                                      fieldRA=(5.0, 8.0), \n",
      "                                                      fieldDec=(-85.,-60.),\n",
      "                                                      #expMJD=(49300., 49400.),\n",
      "                                                      boundLength=0.015,\n",
      "                                                      boundType='circle')"
     ],
     "language": "python",
     "metadata": {},
     "outputs": [],
     "prompt_number": 11
    },
    {
     "cell_type": "code",
     "collapsed": false,
     "input": [
      "print len(obsMetaDataResults)"
     ],
     "language": "python",
     "metadata": {},
     "outputs": [
      {
       "output_type": "stream",
       "stream": "stdout",
       "text": [
        "15\n"
       ]
      }
     ],
     "prompt_number": 12
    },
    {
     "cell_type": "code",
     "collapsed": false,
     "input": [
      "for obsMD in obsMetaDataResults:\n",
      "    print obsMD.unrefractedRA * 180. / np.pi, obsMD.mjd\n",
      "    print obsMD.unrefractedDec *180. /np.pi \n",
      "    print obsMD.bandpass"
     ],
     "language": "python",
     "metadata": {},
     "outputs": [
      {
       "output_type": "stream",
       "stream": "stdout",
       "text": [
        "5.60690768737 49362.070248\n",
        "-73.2937924772\n",
        "z\n",
        "5.60690768737 49364.115003\n",
        "-73.2937924772\n",
        "z\n",
        "5.60690768737 49368.177159\n",
        "-73.2937924772\n",
        "i\n",
        "5.60690768737 49368.177576\n",
        "-73.2937924772\n",
        "i\n",
        "7.81451407201 49355.053207\n",
        "-78.0668173895\n",
        "y\n",
        "7.81451407201 49355.055404\n",
        "-78.0668173895\n",
        "y\n",
        "7.81451407201 49362.069356\n",
        "-78.0668173895\n",
        "z\n",
        "7.81451407201 49365.08971\n",
        "-78.0668173895\n",
        "z\n",
        "7.81451407201 49368.172717\n",
        "-78.0668173895\n",
        "i\n",
        "7.81451407201 49369.196014\n",
        "-78.0668173895\n",
        "z\n",
        "7.81451407201 49370.107511\n",
        "-78.0668173895\n",
        "z\n",
        "7.82580134057 49362.072473\n",
        "-65.9280762461\n",
        "z\n",
        "7.82580134057 49365.088264\n",
        "-65.9280762461\n",
        "z\n",
        "7.82580134057 49370.110671\n",
        "-65.9280762461\n",
        "z\n",
        "7.82580134057 49370.117093\n",
        "-65.9280762461\n",
        "z\n"
       ]
      }
     ],
     "prompt_number": 13
    },
    {
     "cell_type": "code",
     "collapsed": false,
     "input": [
      "gals = galCopy(db_obj=galDB, obs_metadata=obsMetaDataResults[0])\n",
      "gals.write_catalog('realopsims_gals.dat')"
     ],
     "language": "python",
     "metadata": {},
     "outputs": [],
     "prompt_number": 14
    },
    {
     "cell_type": "code",
     "collapsed": false,
     "input": [
      "catalog = sncat.SNIaCatalog(db_obj=galDB, obs_metadata=obsMetaDataResults[0])"
     ],
     "language": "python",
     "metadata": {},
     "outputs": [],
     "prompt_number": 15
    },
    {
     "cell_type": "code",
     "collapsed": false,
     "input": [
      "catalog.suppressDimSN = False"
     ],
     "language": "python",
     "metadata": {},
     "outputs": [],
     "prompt_number": 16
    },
    {
     "cell_type": "code",
     "collapsed": false,
     "input": [
      "print catalog.suppressDimSN"
     ],
     "language": "python",
     "metadata": {},
     "outputs": [
      {
       "output_type": "stream",
       "stream": "stdout",
       "text": [
        "False\n"
       ]
      }
     ],
     "prompt_number": 17
    },
    {
     "cell_type": "code",
     "collapsed": false,
     "input": [
      "catalog.averageRate = 365. * 10."
     ],
     "language": "python",
     "metadata": {},
     "outputs": [],
     "prompt_number": 18
    },
    {
     "cell_type": "code",
     "collapsed": false,
     "input": [
      "catalog.averageRate"
     ],
     "language": "python",
     "metadata": {},
     "outputs": [
      {
       "metadata": {},
       "output_type": "pyout",
       "prompt_number": 19,
       "text": [
        "3650.0"
       ]
      }
     ],
     "prompt_number": 19
    },
    {
     "cell_type": "code",
     "collapsed": false,
     "input": [
      "catalog.midSurveyTime = 49350."
     ],
     "language": "python",
     "metadata": {},
     "outputs": [],
     "prompt_number": 20
    },
    {
     "cell_type": "code",
     "collapsed": false,
     "input": [
      "catalog.write_catalog('real_opsimSN.dat')"
     ],
     "language": "python",
     "metadata": {},
     "outputs": [],
     "prompt_number": 21
    },
    {
     "cell_type": "code",
     "collapsed": false,
     "input": [
      "obsMDList = obsMetaDataResults"
     ],
     "language": "python",
     "metadata": {},
     "outputs": [],
     "prompt_number": 22
    },
    {
     "cell_type": "code",
     "collapsed": false,
     "input": [
      "#This creates a list of obsMetaData with a starting point, a cadence and a total number of epochs\n",
      "def obsMetaDataList(startdate=570180, cadence=3.0, numepochs=20):\n",
      "    \"\"\"\n",
      "    create a list of obsMetaData variables for a list of pointings.\n",
      "\n",
      "\n",
      "    Parameters\n",
      "    ----------\n",
      "    startdate: float, optional, defaults to 570180\n",
      "        starting date of sequence\n",
      "    cadence: float, optional, defaults to 3.0\n",
      "        interval between epochs of observations\n",
      "    numepochs: int, optional, defaults to 20\n",
      "        number of epochs of observations\n",
      "\n",
      "\n",
      "    Returns\n",
      "    -------\n",
      "    list of `~lsst.sims.catalogs.generation.db.ObservationMetaData` variables\n",
      "\n",
      "\n",
      "    .. note: This will finally come from OpSims output, this is just a mock up.\n",
      "    \"\"\"\n",
      "\n",
      "    # List of MJDs with a three day cadence with 20 epochs\n",
      "    myMJDS = [startdate + cadence*i for i in range(numepochs)]\n",
      "    filters = ['u', 'g', 'r', 'i', 'z', 'y']\n",
      "    unrefRA = 5.0\n",
      "    unrefDec = 15.0\n",
      "    boundLen = 0.015\n",
      "    boundType = 'circle'\n",
      "\n",
      "    obsMetaDataList = []\n",
      "    for mjd in myMJDS:\n",
      "        obsMetaDataList.append(ObservationMetaData(boundType=boundType,\n",
      "                               unrefractedRA=unrefRA,\n",
      "                               unrefractedDec=unrefDec,\n",
      "                               boundLength=boundLen,\n",
      "                               bandpassName=filters,\n",
      "                               mjd=mjd))\n",
      "    return obsMetaDataList"
     ],
     "language": "python",
     "metadata": {},
     "outputs": [],
     "prompt_number": 23
    },
    {
     "cell_type": "code",
     "collapsed": false,
     "input": [
      "# obsMDList = obsMetaDataList()"
     ],
     "language": "python",
     "metadata": {},
     "outputs": [],
     "prompt_number": 24
    },
    {
     "cell_type": "code",
     "collapsed": false,
     "input": [
      "obsMDList[0].summary"
     ],
     "language": "python",
     "metadata": {},
     "outputs": [
      {
       "metadata": {},
       "output_type": "pyout",
       "prompt_number": 25,
       "text": [
        "{'bandpass': 'z',\n",
        " 'boundLength': 0.00026179938779914941,\n",
        " 'boundType': 'circle',\n",
        " 'mjd': 49362.070248000004,\n",
        " 'phoSimMetadata': OrderedDict([('Opsim_obshistid', (2206, dtype('int64'))), ('SIM_SEED', (783669, dtype('int64'))), ('Unrefracted_RA', (0.097859000000000002, dtype('float64'))), ('Unrefracted_Dec', (-1.279218, dtype('float64'))), ('Opsim_moonra', (4.6248570000000004, dtype('float64'))), ('Opsim_moondec', (-0.35944500000000001, dtype('float64'))), ('Opsim_rotskypos', (5.4015870000000001, dtype('float64'))), ('Opsim_filter', ('z', dtype('S1'))), ('Opsim_rawseeing', (0.45893600000000001, dtype('float64'))), ('Opsim_sunalt', (-0.37078299999999997, dtype('float64'))), ('Opsim_moonalt', (-0.62563400000000002, dtype('float64'))), ('Opsim_dist2moon', (1.2793840000000001, dtype('float64'))), ('Opsim_moonphase', (4.3939950000000003, dtype('float64'))), ('Opsim_expmjd', (49362.070248000004, dtype('float64'))), ('Opsim_altitude', (0.64956800000000003, dtype('float64'))), ('Opsim_azimuth', (3.4542060000000001, dtype('float64'))), ('exptime', (30.0, dtype('float64'))), ('airmass', (1.6533310000000001, dtype('float64')))]),\n",
        " 'rotSkyPos': 5.4015870000000001,\n",
        " 'site': <lsst.sims.utils.Site.Site at 0x10ff89450>,\n",
        " 'skyBrightness': 19.0305,\n",
        " 'unrefractedDec': -1.279218,\n",
        " 'unrefractedRA': 0.097859000000000002}"
       ]
      }
     ],
     "prompt_number": 25
    },
    {
     "cell_type": "code",
     "collapsed": false,
     "input": [
      "obsMDList[1].summary"
     ],
     "language": "python",
     "metadata": {},
     "outputs": [
      {
       "metadata": {},
       "output_type": "pyout",
       "prompt_number": 26,
       "text": [
        "{'bandpass': 'z',\n",
        " 'boundLength': 0.00026179938779914941,\n",
        " 'boundType': 'circle',\n",
        " 'mjd': 49364.115002999999,\n",
        " 'phoSimMetadata': OrderedDict([('Opsim_obshistid', (3768, dtype('int64'))), ('SIM_SEED', (960336, dtype('int64'))), ('Unrefracted_RA', (0.097859000000000002, dtype('float64'))), ('Unrefracted_Dec', (-1.279218, dtype('float64'))), ('Opsim_moonra', (5.1345700000000001, dtype('float64'))), ('Opsim_moondec', (-0.293018, dtype('float64'))), ('Opsim_rotskypos', (4.6448280000000004, dtype('float64'))), ('Opsim_filter', ('z', dtype('S1'))), ('Opsim_rawseeing', (0.56546700000000005, dtype('float64'))), ('Opsim_sunalt', (-0.53205499999999994, dtype('float64'))), ('Opsim_moonalt', (-0.59734600000000004, dtype('float64'))), ('Opsim_dist2moon', (1.1978599999999999, dtype('float64'))), ('Opsim_moonphase', (0.14366999999999999, dtype('float64'))), ('Opsim_expmjd', (49364.115002999999, dtype('float64'))), ('Opsim_altitude', (0.56112099999999998, dtype('float64'))), ('Opsim_azimuth', (3.4781330000000001, dtype('float64'))), ('exptime', (30.0, dtype('float64'))), ('airmass', (1.87923, dtype('float64')))]),\n",
        " 'rotSkyPos': 4.6448280000000004,\n",
        " 'site': <lsst.sims.utils.Site.Site at 0x10ff89b90>,\n",
        " 'skyBrightness': 18.940429000000002,\n",
        " 'unrefractedDec': -1.279218,\n",
        " 'unrefractedRA': 0.097859000000000002}"
       ]
      }
     ],
     "prompt_number": 26
    },
    {
     "cell_type": "markdown",
     "metadata": {},
     "source": [
      "We now want to write the light curves to a database. The way this function actually works is it creates the instance catalogs \n",
      "for each of the obs_metadata points, writes them to disk using the `InstanceCatalog.write_catalog` method, reads the files from disk (right now the filenames are chosen in the same order as obs_metadata objects), and writes them to a sqlite database."
     ]
    },
    {
     "cell_type": "code",
     "collapsed": false,
     "input": [
      "if not os.path.exists('data/NewLightCurves'): \n",
      "    os.makedirs('data/NewLightCurves')"
     ],
     "language": "python",
     "metadata": {},
     "outputs": [],
     "prompt_number": 27
    },
    {
     "cell_type": "code",
     "collapsed": false,
     "input": [
      "lu.writeCatalogtoDB(dbfile='data/sncat_real.db', dbtable='mysncat', ascii_root='data/SNIa_real_', galdb=galDB, obsMetaDataList=obsMDList)\n",
      "    "
     ],
     "language": "python",
     "metadata": {},
     "outputs": [
      {
       "output_type": "stream",
       "stream": "stdout",
       "text": [
        "deleting previous database\n",
        "=====================================\n",
        "0 <type 'numpy.string_'> 49362.070248\n",
        "=====================================\n",
        "3650.0 49350.0\n",
        "====================================="
       ]
      },
      {
       "output_type": "stream",
       "stream": "stdout",
       "text": [
        "\n",
        "1 <type 'numpy.string_'> 49364.115003\n",
        "=====================================\n",
        "3650.0 49350.0\n",
        "====================================="
       ]
      },
      {
       "output_type": "stream",
       "stream": "stdout",
       "text": [
        "\n",
        "2 <type 'numpy.string_'> 49368.177159\n",
        "=====================================\n",
        "3650.0 49350.0\n",
        "====================================="
       ]
      },
      {
       "output_type": "stream",
       "stream": "stdout",
       "text": [
        "\n",
        "3 <type 'numpy.string_'> 49368.177576\n",
        "=====================================\n",
        "3650.0 49350.0\n",
        "====================================="
       ]
      },
      {
       "output_type": "stream",
       "stream": "stdout",
       "text": [
        "\n",
        "4 <type 'numpy.string_'> 49355.053207\n",
        "=====================================\n",
        "3650.0 49350.0\n",
        "====================================="
       ]
      },
      {
       "output_type": "stream",
       "stream": "stdout",
       "text": [
        "\n",
        "5 <type 'numpy.string_'> 49355.055404\n",
        "=====================================\n",
        "3650.0 49350.0\n",
        "====================================="
       ]
      },
      {
       "output_type": "stream",
       "stream": "stdout",
       "text": [
        "\n",
        "6 <type 'numpy.string_'> 49362.069356\n",
        "=====================================\n",
        "3650.0 49350.0\n",
        "====================================="
       ]
      },
      {
       "output_type": "stream",
       "stream": "stdout",
       "text": [
        "\n",
        "7 <type 'numpy.string_'> 49365.08971\n",
        "=====================================\n",
        "3650.0 49350.0\n",
        "====================================="
       ]
      },
      {
       "output_type": "stream",
       "stream": "stdout",
       "text": [
        "\n",
        "8 <type 'numpy.string_'> 49368.172717\n",
        "=====================================\n",
        "3650.0 49350.0\n",
        "====================================="
       ]
      },
      {
       "output_type": "stream",
       "stream": "stdout",
       "text": [
        "\n",
        "9 <type 'numpy.string_'> 49369.196014\n",
        "=====================================\n",
        "3650.0 49350.0\n",
        "====================================="
       ]
      },
      {
       "output_type": "stream",
       "stream": "stdout",
       "text": [
        "\n",
        "10 <type 'numpy.string_'> 49370.107511\n",
        "=====================================\n",
        "3650.0 49350.0\n",
        "====================================="
       ]
      },
      {
       "output_type": "stream",
       "stream": "stdout",
       "text": [
        "\n",
        "11 <type 'numpy.string_'> 49362.072473\n",
        "=====================================\n",
        "3650.0 49350.0\n",
        "====================================="
       ]
      },
      {
       "output_type": "stream",
       "stream": "stdout",
       "text": [
        "\n",
        "12 <type 'numpy.string_'> 49365.088264\n",
        "=====================================\n",
        "3650.0 49350.0\n",
        "====================================="
       ]
      },
      {
       "output_type": "stream",
       "stream": "stdout",
       "text": [
        "\n",
        "13 <type 'numpy.string_'> 49370.110671\n",
        "=====================================\n",
        "3650.0 49350.0\n",
        "====================================="
       ]
      },
      {
       "output_type": "stream",
       "stream": "stdout",
       "text": [
        "\n",
        "14 <type 'numpy.string_'> 49370.117093\n",
        "=====================================\n",
        "3650.0 49350.0\n"
       ]
      }
     ],
     "prompt_number": 28
    },
    {
     "cell_type": "markdown",
     "metadata": {},
     "source": [
      "The following function then queries the database, and groups the data by a SNID number to build the light curves."
     ]
    },
    {
     "cell_type": "code",
     "collapsed": false,
     "input": [
      "lcs = lu.getLCsFromDB(dbfile='data/sncat_real.db',\n",
      "                 dbtable='mysncat',\n",
      "                 lc_root='data/LightCurves/SN_real_')"
     ],
     "language": "python",
     "metadata": {},
     "outputs": [],
     "prompt_number": 29
    },
    {
     "cell_type": "markdown",
     "metadata": {},
     "source": [
      "We can check how many light curves are there, and we can display each light curve in the following way"
     ]
    },
    {
     "cell_type": "code",
     "collapsed": false,
     "input": [
      "len(lcs)"
     ],
     "language": "python",
     "metadata": {},
     "outputs": [
      {
       "metadata": {},
       "output_type": "pyout",
       "prompt_number": 30,
       "text": [
        "62"
       ]
      }
     ],
     "prompt_number": 30
    },
    {
     "cell_type": "code",
     "collapsed": false,
     "input": [
      "lcs[0][1]"
     ],
     "language": "python",
     "metadata": {},
     "outputs": [
      {
       "html": [
        "<div style=\"max-height:1000px;max-width:1500px;overflow:auto;\">\n",
        "<table border=\"1\" class=\"dataframe\">\n",
        "  <thead>\n",
        "    <tr style=\"text-align: right;\">\n",
        "      <th></th>\n",
        "      <th>id</th>\n",
        "      <th>mjd</th>\n",
        "      <th>snid</th>\n",
        "      <th>snra</th>\n",
        "      <th>sndec</th>\n",
        "      <th>z</th>\n",
        "      <th>t0</th>\n",
        "      <th>c</th>\n",
        "      <th>x1</th>\n",
        "      <th>x0</th>\n",
        "      <th>...</th>\n",
        "      <th>flux_r</th>\n",
        "      <th>flux_i</th>\n",
        "      <th>flux_z</th>\n",
        "      <th>flux_y</th>\n",
        "      <th>mag_u</th>\n",
        "      <th>mag_g</th>\n",
        "      <th>mag_r</th>\n",
        "      <th>mag_i</th>\n",
        "      <th>mag_z</th>\n",
        "      <th>mag_y</th>\n",
        "    </tr>\n",
        "  </thead>\n",
        "  <tbody>\n",
        "    <tr>\n",
        "      <th>98</th>\n",
        "      <td>obshist13</td>\n",
        "      <td>49355.053207</td>\n",
        "      <td>3041154</td>\n",
        "      <td>0.136024</td>\n",
        "      <td>-1.362578</td>\n",
        "      <td>0.6129</td>\n",
        "      <td>49294.4092</td>\n",
        "      <td>-0.074862</td>\n",
        "      <td>-1.3222</td>\n",
        "      <td>0.000007</td>\n",
        "      <td>...</td>\n",
        "      <td>0</td>\n",
        "      <td>0</td>\n",
        "      <td>0</td>\n",
        "      <td>0</td>\n",
        "      <td>25.2731</td>\n",
        "      <td>25.2731</td>\n",
        "      <td>25.2731</td>\n",
        "      <td>25.2731</td>\n",
        "      <td>25.2731</td>\n",
        "      <td>25.2731</td>\n",
        "    </tr>\n",
        "    <tr>\n",
        "      <th>117</th>\n",
        "      <td>obshist14</td>\n",
        "      <td>49355.055404</td>\n",
        "      <td>3041154</td>\n",
        "      <td>0.136024</td>\n",
        "      <td>-1.362578</td>\n",
        "      <td>0.6129</td>\n",
        "      <td>49294.4092</td>\n",
        "      <td>-0.074862</td>\n",
        "      <td>-1.3222</td>\n",
        "      <td>0.000007</td>\n",
        "      <td>...</td>\n",
        "      <td>0</td>\n",
        "      <td>0</td>\n",
        "      <td>0</td>\n",
        "      <td>0</td>\n",
        "      <td>25.2732</td>\n",
        "      <td>25.2732</td>\n",
        "      <td>25.2732</td>\n",
        "      <td>25.2732</td>\n",
        "      <td>25.2732</td>\n",
        "      <td>25.2732</td>\n",
        "    </tr>\n",
        "    <tr>\n",
        "      <th>135</th>\n",
        "      <td>obshist14</td>\n",
        "      <td>49362.069356</td>\n",
        "      <td>3041154</td>\n",
        "      <td>0.136024</td>\n",
        "      <td>-1.362578</td>\n",
        "      <td>0.6129</td>\n",
        "      <td>49294.4092</td>\n",
        "      <td>-0.074862</td>\n",
        "      <td>-1.3222</td>\n",
        "      <td>0.000007</td>\n",
        "      <td>...</td>\n",
        "      <td>0</td>\n",
        "      <td>0</td>\n",
        "      <td>0</td>\n",
        "      <td>0</td>\n",
        "      <td>25.3110</td>\n",
        "      <td>25.3110</td>\n",
        "      <td>25.3110</td>\n",
        "      <td>25.3110</td>\n",
        "      <td>25.3110</td>\n",
        "      <td>25.3110</td>\n",
        "    </tr>\n",
        "    <tr>\n",
        "      <th>154</th>\n",
        "      <td>obshist14</td>\n",
        "      <td>49365.089710</td>\n",
        "      <td>3041154</td>\n",
        "      <td>0.136024</td>\n",
        "      <td>-1.362578</td>\n",
        "      <td>0.6129</td>\n",
        "      <td>49294.4092</td>\n",
        "      <td>-0.074862</td>\n",
        "      <td>-1.3222</td>\n",
        "      <td>0.000007</td>\n",
        "      <td>...</td>\n",
        "      <td>0</td>\n",
        "      <td>0</td>\n",
        "      <td>0</td>\n",
        "      <td>0</td>\n",
        "      <td>25.3653</td>\n",
        "      <td>25.3653</td>\n",
        "      <td>25.3653</td>\n",
        "      <td>25.3653</td>\n",
        "      <td>25.3653</td>\n",
        "      <td>25.3653</td>\n",
        "    </tr>\n",
        "    <tr>\n",
        "      <th>170</th>\n",
        "      <td>obshist12</td>\n",
        "      <td>49368.172717</td>\n",
        "      <td>3041154</td>\n",
        "      <td>0.136024</td>\n",
        "      <td>-1.362578</td>\n",
        "      <td>0.6129</td>\n",
        "      <td>49294.4092</td>\n",
        "      <td>-0.074862</td>\n",
        "      <td>-1.3222</td>\n",
        "      <td>0.000007</td>\n",
        "      <td>...</td>\n",
        "      <td>0</td>\n",
        "      <td>0</td>\n",
        "      <td>0</td>\n",
        "      <td>0</td>\n",
        "      <td>26.0996</td>\n",
        "      <td>26.0996</td>\n",
        "      <td>26.0996</td>\n",
        "      <td>26.0996</td>\n",
        "      <td>26.0996</td>\n",
        "      <td>26.0996</td>\n",
        "    </tr>\n",
        "    <tr>\n",
        "      <th>188</th>\n",
        "      <td>obshist13</td>\n",
        "      <td>49369.196014</td>\n",
        "      <td>3041154</td>\n",
        "      <td>0.136024</td>\n",
        "      <td>-1.362578</td>\n",
        "      <td>0.6129</td>\n",
        "      <td>49294.4092</td>\n",
        "      <td>-0.074862</td>\n",
        "      <td>-1.3222</td>\n",
        "      <td>0.000007</td>\n",
        "      <td>...</td>\n",
        "      <td>0</td>\n",
        "      <td>0</td>\n",
        "      <td>0</td>\n",
        "      <td>0</td>\n",
        "      <td>25.4423</td>\n",
        "      <td>25.4423</td>\n",
        "      <td>25.4423</td>\n",
        "      <td>25.4423</td>\n",
        "      <td>25.4423</td>\n",
        "      <td>25.4423</td>\n",
        "    </tr>\n",
        "    <tr>\n",
        "      <th>202</th>\n",
        "      <td>obshist10</td>\n",
        "      <td>49370.107511</td>\n",
        "      <td>3041154</td>\n",
        "      <td>0.136024</td>\n",
        "      <td>-1.362578</td>\n",
        "      <td>0.6129</td>\n",
        "      <td>49294.4092</td>\n",
        "      <td>-0.074862</td>\n",
        "      <td>-1.3222</td>\n",
        "      <td>0.000007</td>\n",
        "      <td>...</td>\n",
        "      <td>0</td>\n",
        "      <td>0</td>\n",
        "      <td>0</td>\n",
        "      <td>0</td>\n",
        "      <td>25.4595</td>\n",
        "      <td>25.4595</td>\n",
        "      <td>25.4595</td>\n",
        "      <td>25.4595</td>\n",
        "      <td>25.4595</td>\n",
        "      <td>25.4595</td>\n",
        "    </tr>\n",
        "  </tbody>\n",
        "</table>\n",
        "<p>7 rows \u00d7 22 columns</p>\n",
        "</div>"
       ],
       "metadata": {},
       "output_type": "pyout",
       "prompt_number": 39,
       "text": [
        "            id           mjd     snid      snra     sndec       z          t0  \\\n",
        "98   obshist13  49355.053207  3041154  0.136024 -1.362578  0.6129  49294.4092   \n",
        "117  obshist14  49355.055404  3041154  0.136024 -1.362578  0.6129  49294.4092   \n",
        "135  obshist14  49362.069356  3041154  0.136024 -1.362578  0.6129  49294.4092   \n",
        "154  obshist14  49365.089710  3041154  0.136024 -1.362578  0.6129  49294.4092   \n",
        "170  obshist12  49368.172717  3041154  0.136024 -1.362578  0.6129  49294.4092   \n",
        "188  obshist13  49369.196014  3041154  0.136024 -1.362578  0.6129  49294.4092   \n",
        "202  obshist10  49370.107511  3041154  0.136024 -1.362578  0.6129  49294.4092   \n",
        "\n",
        "            c      x1        x0   ...     flux_r  flux_i  flux_z  flux_y  \\\n",
        "98  -0.074862 -1.3222  0.000007   ...          0       0       0       0   \n",
        "117 -0.074862 -1.3222  0.000007   ...          0       0       0       0   \n",
        "135 -0.074862 -1.3222  0.000007   ...          0       0       0       0   \n",
        "154 -0.074862 -1.3222  0.000007   ...          0       0       0       0   \n",
        "170 -0.074862 -1.3222  0.000007   ...          0       0       0       0   \n",
        "188 -0.074862 -1.3222  0.000007   ...          0       0       0       0   \n",
        "202 -0.074862 -1.3222  0.000007   ...          0       0       0       0   \n",
        "\n",
        "       mag_u    mag_g    mag_r    mag_i    mag_z    mag_y  \n",
        "98   25.2731  25.2731  25.2731  25.2731  25.2731  25.2731  \n",
        "117  25.2732  25.2732  25.2732  25.2732  25.2732  25.2732  \n",
        "135  25.3110  25.3110  25.3110  25.3110  25.3110  25.3110  \n",
        "154  25.3653  25.3653  25.3653  25.3653  25.3653  25.3653  \n",
        "170  26.0996  26.0996  26.0996  26.0996  26.0996  26.0996  \n",
        "188  25.4423  25.4423  25.4423  25.4423  25.4423  25.4423  \n",
        "202  25.4595  25.4595  25.4595  25.4595  25.4595  25.4595  \n",
        "\n",
        "[7 rows x 22 columns]"
       ]
      }
     ],
     "prompt_number": 39
    },
    {
     "cell_type": "markdown",
     "metadata": {},
     "source": [
      "In this case, we have light curves associated with two different objects, and we can now plot them."
     ]
    },
    {
     "cell_type": "code",
     "collapsed": false,
     "input": [
      "fig, ax = plt.subplots(figsize=(24,8))\n",
      "lu.plotlc(lcs[1])\n",
      "# lu.plotlc(lcs[1], marker='s')\n",
      "ax.invert_yaxis()"
     ],
     "language": "python",
     "metadata": {},
     "outputs": [
      {
       "metadata": {},
       "output_type": "display_data",
       "png": "[encoded data removed]",
       "text": [
        "<matplotlib.figure.Figure at 0x112daec50>"
       ]
      }
     ],
     "prompt_number": 36
    },
    {
     "cell_type": "markdown",
     "metadata": {},
     "source": [
      "The circles and squares are two different SN which were in lcs. The colors represent the different bands."
     ]
    }
   ],
   "metadata": {}
  }
 ]
}