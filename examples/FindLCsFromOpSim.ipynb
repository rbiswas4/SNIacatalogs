{
 "metadata": {
  "kernelspec": {
   "display_name": "Python 2",
   "language": "python",
   "name": "python2"
  },
  "language_info": {
   "codemirror_mode": {
    "name": "ipython",
    "version": 2
   },
   "file_extension": ".py",
   "mimetype": "text/x-python",
   "name": "python",
   "nbconvert_exporter": "python",
   "pygments_lexer": "ipython2",
   "version": "2.7.9"
  },
  "name": "",
  "signature": "sha256:eabf48f513c2c6a6ce7c342f80ede000e1bd0acc17eb56ddaadc51700a9846ac"
 },
 "nbformat": 3,
 "nbformat_minor": 0,
 "worksheets": [
  {
   "cells": [
    {
     "cell_type": "heading",
     "level": 1,
     "metadata": {},
     "source": [
      "Supernovae Ia in catSim"
     ]
    },
    {
     "cell_type": "code",
     "collapsed": false,
     "input": [
      "# Demonstrate methods to obtain SN light curves from opsims output"
     ],
     "language": "python",
     "metadata": {},
     "outputs": [],
     "prompt_number": 50
    },
    {
     "cell_type": "code",
     "collapsed": false,
     "input": [
      "import sniacatalogs as snia\n",
      "from sniacatalogs import sncat"
     ],
     "language": "python",
     "metadata": {},
     "outputs": [
      {
       "output_type": "stream",
       "stream": "stderr",
       "text": [
        " This call to matplotlib.use() has no effect\n",
        "because the backend has already been chosen;\n",
        "matplotlib.use() must be called *before* pylab, matplotlib.pyplot,\n",
        "or matplotlib.backends is imported for the first time.\n",
        "\n"
       ]
      }
     ],
     "prompt_number": 1
    },
    {
     "cell_type": "code",
     "collapsed": false,
     "input": [
      "import lightcurve_utils as lu"
     ],
     "language": "python",
     "metadata": {},
     "outputs": [],
     "prompt_number": 2
    },
    {
     "cell_type": "code",
     "collapsed": false,
     "input": [
      "import numpy as np\n",
      "%matplotlib inline\n",
      "import matplotlib.pyplot as plt\n",
      "import os"
     ],
     "language": "python",
     "metadata": {},
     "outputs": [],
     "prompt_number": 3
    },
    {
     "cell_type": "code",
     "collapsed": false,
     "input": [
      "#seaborn Comment out if this is not installed\n",
      "import seaborn as sns\n",
      "sns.set()"
     ],
     "language": "python",
     "metadata": {},
     "outputs": [],
     "prompt_number": 4
    },
    {
     "cell_type": "code",
     "collapsed": false,
     "input": [
      "from lsst.sims.catalogs.generation.db import ObservationMetaData\n",
      "from lsst.sims.catUtils.utils import ObservationMetaDataGenerator"
     ],
     "language": "python",
     "metadata": {},
     "outputs": [],
     "prompt_number": 5
    },
    {
     "cell_type": "code",
     "collapsed": false,
     "input": [
      "from lsst.sims.catalogs.generation.db import CatalogDBObject\n",
      "from lsst.sims.catalogs.measures.instance import InstanceCatalog\n",
      "import eups"
     ],
     "language": "python",
     "metadata": {},
     "outputs": [],
     "prompt_number": 6
    },
    {
     "cell_type": "code",
     "collapsed": false,
     "input": [
      "import sqlite3"
     ],
     "language": "python",
     "metadata": {},
     "outputs": [],
     "prompt_number": 7
    },
    {
     "cell_type": "markdown",
     "metadata": {},
     "source": [
      "First, we create a catalog of all the galaxies in the catalog using the `CatalogDBObject.from_objid` "
     ]
    },
    {
     "cell_type": "code",
     "collapsed": false,
     "input": [
      "def samplePatchOnSphere(phi, theta, delta, size):\n",
      "    '''\n",
      "    (not) Uniformly distributes samples on a spherical patch between phi \\pm delta,\n",
      "    and theta \\pm delta.\n",
      "    \n",
      "    will modify to fix this later\n",
      "    Parameters\n",
      "    ----------\n",
      "    phi: float, mandatory\n",
      "        center of the spherical patch\n",
      "    theta: float, mandatory\n",
      "    delta: float, mandatory\n",
      "    size: int, mandatory\n",
      "        number of samples\n",
      "    '''\n",
      "    u = np.random.uniform(size=size)\n",
      "    v = np.random.uniform(size=size)\n",
      "\n",
      "    # phivals = delta * (2. * u - 1) + phi\n",
      "    phivals = 2. * delta* u + (phi - delta )\n",
      "    phivals = np.where ( phivals > 0., phivals, phivals + 2. * np.pi)\n",
      "    \n",
      "    thetavals = 2. * delta* v + (theta - delta )\n",
      "    thetavals = np.where ( thetavals < np.pi , thetavals, thetavals - np.pi)\n",
      "    thetavals = np.where ( thetavals > - np.pi , thetavals, thetavals + np.pi)\n",
      "    \n",
      "    # thetavals\n",
      "    # thetamax = theta + delta\n",
      "    # thetamin = theta - delta\n",
      "    # a = np.cos(thetamax) - np.cos(thetamin)\n",
      "    # thetavals = np.arccos(v* a + np.cos(thetamin))\n",
      "    # thetavals = thetavals - np.pi / 2.\n",
      "    return phivals, thetavals"
     ],
     "language": "python",
     "metadata": {},
     "outputs": [],
     "prompt_number": 8
    },
    {
     "cell_type": "code",
     "collapsed": false,
     "input": [
      "def cleanDB(dbname, verbose=True):\n",
      "    '''\n",
      "    Deletes the database dbname from the disk.\n",
      "    Parameters\n",
      "    ----------\n",
      "    dbname: string, mandatory\n",
      "        name (abs path) of the database to be deleted\n",
      "    verbose: Bool, optional, defaults to True\n",
      "\n",
      "    '''\n",
      "\n",
      "    if os.path.exists(dbname):\n",
      "        if verbose:\n",
      "            print \"deleting database \", dbname\n",
      "        os.unlink(dbname)\n",
      "    else:\n",
      "        if verbose:\n",
      "            print 'database ', dbname, ' does not exist'"
     ],
     "language": "python",
     "metadata": {},
     "outputs": [],
     "prompt_number": 9
    },
    {
     "cell_type": "code",
     "collapsed": false,
     "input": [
      "def sample_obsmetadata(obsmetadata, size=1):\n",
      "    '''\n",
      "    Sample a square patch on the sphere overlapping obsmetadata\n",
      "    field of view by picking the area enclosed in\n",
      "    obsmetadata.unrefractedRA \\pm obsmetadata.boundLength\n",
      "    obsmetadata.unrefractedDec \\pm obsmetadata.boundLength\n",
      "\n",
      "    Parameters\n",
      "    ----------\n",
      "    obsmetadata: instance of\n",
      "        `sims.catalogs.generation.db.ObservationMetaData`\n",
      "\n",
      "    size: integer, optional, defaults to 1\n",
      "        number of samples\n",
      "\n",
      "\n",
      "    Returns\n",
      "    -------\n",
      "\n",
      "    tuple of ravals, decvalues\n",
      "    '''\n",
      "    mydict = obsmetadata.summary\n",
      "    phi = mydict['unrefractedRA']\n",
      "    theta = mydict['unrefractedDec']\n",
      "    equalrange = mydict['boundLength']\n",
      "    ravals, thetavals = samplePatchOnSphere(phi=phi, theta=theta, delta=equalrange, size=size)\n",
      "    return ravals, thetavals"
     ],
     "language": "python",
     "metadata": {},
     "outputs": [],
     "prompt_number": 10
    },
    {
     "cell_type": "code",
     "collapsed": false,
     "input": [
      "def _createFakeGalaxyDB(dbname, ObsMetaData, size=10000, seed=1):\n",
      "    '''\n",
      "    Create a local sqlite galaxy database having filename dbname with variables\n",
      "    id, raJ2000, decJ2000 and redshift, having number of rows =size, and having\n",
      "    overlap with ObsMetaData.\n",
      "    '''\n",
      "    cleanDB(dbname)\n",
      "    conn = sqlite3.connect(dbname)\n",
      "    curs = conn.cursor()\n",
      "    curs.execute('CREATE TABLE if not exists gals (id INT, raJ2000 FLOAT,\\\n",
      "                  decJ2000 FLOAT, redshift FLOAT)')\n",
      "\n",
      "    np.random.seed(seed)\n",
      "    samps = sample_obsmetadata(ObsMetaData, size=size)\n",
      "\n",
      "    for count in range(size):\n",
      "        id = 1000000 + count\n",
      "\n",
      "        # Main Database should have values in degrees\n",
      "        ra = np.degrees(samps[0][count])\n",
      "        dec = np.degrees(samps[1][count])\n",
      "        redshift = np.random.uniform()\n",
      "        row = tuple([id, ra, dec, redshift])\n",
      "        exec_str = insertfromdata(tablename='gals', records=row,\n",
      "                                     multiple=False)\n",
      "        curs.execute(exec_str, row)\n",
      "\n",
      "    conn.commit()\n",
      "    conn.close()\n",
      "    return samps"
     ],
     "language": "python",
     "metadata": {},
     "outputs": [],
     "prompt_number": 11
    },
    {
     "cell_type": "code",
     "collapsed": false,
     "input": [
      "def insertfromdata(tablename, records, multiple=True):\n",
      "    \"\"\"\n",
      "    construct string to insert multiple records into sqlite3 database\n",
      "    args:\n",
      "        tablename: str, mandatory\n",
      "            Name of table in the database.\n",
      "        records: set of records\n",
      "        multiple:\n",
      "    returns:\n",
      "    \"\"\"\n",
      "    if multiple:\n",
      "        lst = records[0]\n",
      "    else:\n",
      "        lst = records\n",
      "    s = 'INSERT INTO ' + str(tablename) + ' VALUES '\n",
      "    s += \"( \" + \", \".join([\"?\"]*len(lst)) + \")\"\n",
      "    return s"
     ],
     "language": "python",
     "metadata": {},
     "outputs": [],
     "prompt_number": 12
    },
    {
     "cell_type": "code",
     "collapsed": false,
     "input": [
      "class myGalaxyCatalog(CatalogDBObject):\n",
      "    '''\n",
      "    Create a like CatalogDBObject connecting to a local sqlite database\n",
      "    '''\n",
      "\n",
      "    objid = 'mytestgals'\n",
      "    tableid = 'gals'\n",
      "    idColKey = 'id'\n",
      "    appendint = 10000\n",
      "    dbAddress = 'sqlite:///testData/galcat.db'\n",
      "    raColName = 'raJ2000'\n",
      "    decColName = 'decJ2000'\n",
      "\n",
      "    # columns required to convert the ra, dec values in degrees\n",
      "    # to radians again\n",
      "    columns = [('id', 'id', int),\n",
      "               ('raJ2000','raJ2000 * PI()/ 180. '),\n",
      "               ('decJ2000','decJ2000 * PI()/ 180.'),\n",
      "               ('redshift', 'redshift')]"
     ],
     "language": "python",
     "metadata": {},
     "outputs": [],
     "prompt_number": 13
    },
    {
     "cell_type": "heading",
     "level": 2,
     "metadata": {},
     "source": [
      "Now create a fake galaxy database"
     ]
    },
    {
     "cell_type": "markdown",
     "metadata": {},
     "source": [
      "Using the functions above, we will create a fake galaxy database with galaxies in a small region of sky (tuned for the opsims areas that will be searched for later), spatially distributed roughly uniformly "
     ]
    },
    {
     "cell_type": "code",
     "collapsed": false,
     "input": [
      "obsMetaDataforCat = ObservationMetaData(boundType='circle',\n",
      "                                          boundLength=np.degrees(0.25),\n",
      "                                          unrefractedRA=np.degrees(0.13),\n",
      "                                          unrefractedDec=np.degrees(-1.2),\n",
      "                                          bandpassName=\n",
      "                                          ['u', 'g', 'r', 'i', 'z', 'y'],\n",
      "                                          mjd=570123)"
     ],
     "language": "python",
     "metadata": {},
     "outputs": [],
     "prompt_number": 15
    },
    {
     "cell_type": "code",
     "collapsed": false,
     "input": [
      "vals = _createFakeGalaxyDB(dbname='testData/galcat.db',\n",
      "                    ObsMetaData=obsMetaDataforCat,\n",
      "                    size=1000000,\n",
      "                    seed=1)"
     ],
     "language": "python",
     "metadata": {},
     "outputs": [
      {
       "output_type": "stream",
       "stream": "stdout",
       "text": [
        "deleting database  testData/galcat.db\n"
       ]
      }
     ],
     "prompt_number": 16
    },
    {
     "cell_type": "code",
     "collapsed": false,
     "input": [
      "plt.plot(vals[0][:1000], vals[1][:1000], '.')\n",
      "plt.axvline(2. * np.pi, color='k', lw=2.)\n",
      "plt.axvline(0., color='k', lw=2.)\n",
      "plt.axhline(np.pi, color='k', lw=2.)\n",
      "plt.axhline(-np.pi, color='k', lw=2.)"
     ],
     "language": "python",
     "metadata": {},
     "outputs": [
      {
       "metadata": {},
       "output_type": "pyout",
       "prompt_number": 27,
       "text": [
        "<matplotlib.lines.Line2D at 0x1173c35d0>"
       ]
      },
      {
       "metadata": {},
       "output_type": "display_data",
       "png": "[encoded data removed]",
       "text": [
        "<matplotlib.figure.Figure at 0x117144610>"
       ]
      }
     ],
     "prompt_number": 27
    },
    {
     "cell_type": "markdown",
     "metadata": {},
     "source": [
      "Fake galaxycatalog object "
     ]
    },
    {
     "cell_type": "code",
     "collapsed": false,
     "input": [
      "galDB = myGalaxyCatalog()"
     ],
     "language": "python",
     "metadata": {},
     "outputs": [],
     "prompt_number": 28
    },
    {
     "cell_type": "markdown",
     "metadata": {},
     "source": [
      "Let us write out the galaxies to disk"
     ]
    },
    {
     "cell_type": "code",
     "collapsed": false,
     "input": [
      "class galCopy(InstanceCatalog):\n",
      "    column_outputs = ['id', 'raJ2000', 'decJ2000', 'redshift']\n",
      "    override_formats = {'raJ2000': '%8e', 'decJ2000': '%8e'}"
     ],
     "language": "python",
     "metadata": {},
     "outputs": [],
     "prompt_number": 29
    },
    {
     "cell_type": "code",
     "collapsed": false,
     "input": [
      "galphot = galCopy(db_obj=galDB, obs_metadata=obsMetaDataforCat)"
     ],
     "language": "python",
     "metadata": {},
     "outputs": [],
     "prompt_number": 30
    },
    {
     "cell_type": "code",
     "collapsed": false,
     "input": [
      "galphot.write_catalog('gals.dat')"
     ],
     "language": "python",
     "metadata": {},
     "outputs": [],
     "prompt_number": 31
    },
    {
     "cell_type": "code",
     "collapsed": false,
     "input": [
      "!wc -l gals.dat"
     ],
     "language": "python",
     "metadata": {},
     "outputs": [
      {
       "output_type": "stream",
       "stream": "stdout",
       "text": [
        "  747516 gals.dat\r\n"
       ]
      }
     ],
     "prompt_number": 32
    },
    {
     "cell_type": "code",
     "collapsed": false,
     "input": [
      "!head gals.dat"
     ],
     "language": "python",
     "metadata": {},
     "outputs": [
      {
       "output_type": "stream",
       "stream": "stdout",
       "text": [
        "#id, raJ2000, decJ2000, redshift\r\n",
        "1000000, 8.851100e-02, -1.380852e+00, 0.0376\r\n",
        "1000001, 2.401622e-01, -1.103263e+00, 0.7608\r\n",
        "1000003, 3.116629e-02, -1.358134e+00, 0.1566\r\n",
        "1000007, 5.278036e-02, -1.406788e+00, 0.3991\r\n",
        "1000008, 7.838374e-02, -1.335232e+00, 0.7685\r\n",
        "1000009, 1.494084e-01, -1.389775e+00, 0.9084\r\n",
        "1000010, 8.959726e-02, -1.272069e+00, 0.5480\r\n",
        "1000011, 2.226098e-01, -1.193093e+00, 0.8986\r\n",
        "1000013, 3.190587e-01, -1.252627e+00, 0.0921\r\n"
       ]
      }
     ],
     "prompt_number": 33
    },
    {
     "cell_type": "markdown",
     "metadata": {},
     "source": [
      "The next step takes a set of mjds and pointings made up here (ie. this should really come from Opsims, but to simplify this notebook, and build a light curve, we will assume that we decided to point at the same location everyday. And to first try out\n",
      "an instance catalog we can read easily, and understand, we will first do one day.\n",
      "\n",
      "\n",
      "So, let us instantiate an ObservationMetaData object, and write the catalog associated with it"
     ]
    },
    {
     "cell_type": "heading",
     "level": 2,
     "metadata": {},
     "source": [
      "Building Light Curves from Instance Catalogs"
     ]
    },
    {
     "cell_type": "markdown",
     "metadata": {},
     "source": [
      "We would like to create a number of supernova instance catalogs and then build the light curves from the catalogs. To do this correctly, we would like to use the `observation_metadata` associated with a number of conscutive OpSIM pointings. "
     ]
    },
    {
     "cell_type": "code",
     "collapsed": false,
     "input": [
      "opsimPath = os.path.join(eups.productDir('sims_data'),'OpSimData')\n",
      "opsimDB = os.path.join(opsimPath,'opsimblitz1_1133_sqlite.db')\n",
      "\n",
      "# from Tuscon AHM notebook from Scott\n",
      "# This OPSIM DB is provided in sims_data. This creates a list of opsim pointings\n",
      "# that I have checked. This is a tuned notebook\n",
      "generator = ObservationMetaDataGenerator(address = 'sqlite:///'+opsimDB)\n",
      "obsMetaDataResults = generator.getObservationMetaData(limit=100,\n",
      "                                                      fieldRA=(5.0, 8.0), \n",
      "                                                      fieldDec=(-85.,-60.),\n",
      "                                                      expMJD=(49300., 49400.),\n",
      "                                                      boundLength=0.015,\n",
      "                                                      boundType='circle')"
     ],
     "language": "python",
     "metadata": {},
     "outputs": [],
     "prompt_number": 34
    },
    {
     "cell_type": "code",
     "collapsed": false,
     "input": [
      "# How many pointings do we have? \n",
      "print len(obsMetaDataResults)"
     ],
     "language": "python",
     "metadata": {},
     "outputs": [
      {
       "output_type": "stream",
       "stream": "stdout",
       "text": [
        "15\n"
       ]
      }
     ],
     "prompt_number": 35
    },
    {
     "cell_type": "markdown",
     "metadata": {},
     "source": [
      "What are the RA, DEC values of the pointings? And how do they compare with the positions of galaxies we created in the database?"
     ]
    },
    {
     "cell_type": "code",
     "collapsed": false,
     "input": [
      "def coords(x): \n",
      "    return x.summary['unrefractedRA'], x.summary['unrefractedDec']"
     ],
     "language": "python",
     "metadata": {},
     "outputs": [],
     "prompt_number": 60
    },
    {
     "cell_type": "code",
     "collapsed": false,
     "input": [
      "v = zip(*map(coords, obsMetaDataResults))"
     ],
     "language": "python",
     "metadata": {},
     "outputs": [],
     "prompt_number": 61
    },
    {
     "cell_type": "code",
     "collapsed": false,
     "input": [
      "plt.plot(v[0], v[1], 'ko', markersize=4)\n",
      "plt.plot(vals[0][:1000], vals[1][:1000], '.')\n",
      "plt.axvline(2. * np.pi, color='k', lw=2.)\n",
      "plt.axvline(0., color='k', lw=2.)\n",
      "plt.axhline(np.pi, color='k', lw=2.)\n",
      "plt.axhline(-np.pi, color='k', lw=2.)\n",
      "plt.plot(v[0], v[1], 'ko', markersize=8)"
     ],
     "language": "python",
     "metadata": {},
     "outputs": [
      {
       "metadata": {},
       "output_type": "pyout",
       "prompt_number": 59,
       "text": [
        "[<matplotlib.lines.Line2D at 0x11e35de10>]"
       ]
      },
      {
       "metadata": {},
       "output_type": "display_data",
       "png": "[encoded data removed]",
       "text": [
        "<matplotlib.figure.Figure at 0x117607950>"
       ]
      }
     ],
     "prompt_number": 59
    },
    {
     "cell_type": "markdown",
     "metadata": {},
     "source": [
      "The few black points represent the opsim pointings, the blue points represent the locations of galaxies we created"
     ]
    },
    {
     "cell_type": "markdown",
     "metadata": {},
     "source": [
      "We now want to write the light curves to a database. The way this function actually works is it creates the instance catalogs \n",
      "for each of the obs_metadata points, writes them to disk using the `InstanceCatalog.write_catalog` method, reads the files from disk (right now the filenames are chosen in the same order as obs_metadata objects), and writes them to a sqlite database."
     ]
    },
    {
     "cell_type": "code",
     "collapsed": false,
     "input": [
      "if not os.path.exists('data/NewLightCurves'): \n",
      "    os.makedirs('data/NewLightCurves')"
     ],
     "language": "python",
     "metadata": {},
     "outputs": [],
     "prompt_number": 62
    },
    {
     "cell_type": "code",
     "collapsed": false,
     "input": [
      "catalog = sncat.SNIaCatalog(db_obj=galDB, obs_metadata=obsMetaDataResults[0], column_outputs=['flux_u', 'flux_g', 'flux_r', 'flux_i', 'flux_z', 'flux_y', 'mag_u', 'mag_g', 'mag_r', 'mag_i', 'mag_z', 'mag_y'])"
     ],
     "language": "python",
     "metadata": {},
     "outputs": [],
     "prompt_number": 63
    },
    {
     "cell_type": "code",
     "collapsed": false,
     "input": [
      "# from lsst.sims.photUtils.photometryUtilityFunctions import setupPhotometryCatalog"
     ],
     "language": "python",
     "metadata": {},
     "outputs": [],
     "prompt_number": 64
    },
    {
     "cell_type": "code",
     "collapsed": false,
     "input": [
      "# catalog2 = setupPhotometryCatalog(dbConnection=galDB, obs_metadata=obsMetaDataResults[0], catalogClass=sncat.SNIaCatalog, photometryNameRoot='mag')"
     ],
     "language": "python",
     "metadata": {},
     "outputs": [],
     "prompt_number": 65
    },
    {
     "cell_type": "code",
     "collapsed": false,
     "input": [
      "# galphot = setupPhotometryCatalog(dbConnection=galDB, obs_metadata=obsMetaDataResults[0], catalogClass=galCopy, photometryNameRoot='mag')"
     ],
     "language": "python",
     "metadata": {},
     "outputs": [],
     "prompt_number": 66
    },
    {
     "cell_type": "code",
     "collapsed": false,
     "input": [
      "# galphot.write_catalog('tmp.dat')"
     ],
     "language": "python",
     "metadata": {},
     "outputs": [],
     "prompt_number": 67
    },
    {
     "cell_type": "code",
     "collapsed": false,
     "input": [
      "obsMetaDataResults[0].bandpass"
     ],
     "language": "python",
     "metadata": {},
     "outputs": [
      {
       "metadata": {},
       "output_type": "pyout",
       "prompt_number": 68,
       "text": [
        "'z'"
       ]
      }
     ],
     "prompt_number": 68
    },
    {
     "cell_type": "code",
     "collapsed": false,
     "input": [
      "# catalog.suppressDimSN = False"
     ],
     "language": "python",
     "metadata": {},
     "outputs": [],
     "prompt_number": 69
    },
    {
     "cell_type": "code",
     "collapsed": false,
     "input": [
      "catalog.midSurveyTime = 49350.\n",
      "catalog.averageRate = 1."
     ],
     "language": "python",
     "metadata": {},
     "outputs": [],
     "prompt_number": 70
    },
    {
     "cell_type": "code",
     "collapsed": false,
     "input": [
      "catalog.write_catalog('tmp.dat')"
     ],
     "language": "python",
     "metadata": {},
     "outputs": [],
     "prompt_number": 71
    },
    {
     "cell_type": "code",
     "collapsed": false,
     "input": [
      "!cat tmp.dat"
     ],
     "language": "python",
     "metadata": {},
     "outputs": [
      {
       "output_type": "stream",
       "stream": "stdout",
       "text": [
        "#snid, snra, sndec, z, t0, c, x1, x0, flux_u, flux_g, flux_r, flux_i, flux_z, flux_y, mag_u, mag_g, mag_r, mag_i, mag_z, mag_y\r\n",
        "1023545, 9.721114e-02, -1.279161e+00, 0.0098, 49350.1862, 4.336274e-02, 0.2690, 5.082143e-02, 0.0046, 0.0046, 0.0046, 0.0046, 0.0046, 0.0046, 14.7493, 14.7493, 14.7493, 14.7493, 14.7493, 14.7493\r\n",
        "1736901, 9.737193e-02, -1.279117e+00, 0.6145, 49350.4697, 1.980671e-02, -0.9607, 6.614588e-06, 0.0000, 0.0000, 0.0000, 0.0000, 0.0000, 0.0000, 23.2078, 23.2078, 23.2078, 23.2078, 23.2078, 23.2078\r\n",
        "1798379, 9.768385e-02, -1.279040e+00, 0.0369, 49350.4256, -3.369664e-02, 1.2530, 3.961699e-03, 0.0003, 0.0003, 0.0003, 0.0003, 0.0003, 0.0003, 17.8675, 17.8675, 17.8675, 17.8675, 17.8675, 17.8675\r\n",
        "1845438, 9.871683e-02, -1.279164e+00, 0.8209, 49350.0328, 7.976279e-02, 0.1368, 3.140132e-06, 0.0000, 0.0000, 0.0000, 0.0000, 0.0000, 0.0000, 23.9393, 23.9393, 23.9393, 23.9393, 23.9393, 23.9393\r\n"
       ]
      }
     ],
     "prompt_number": 72
    },
    {
     "cell_type": "code",
     "collapsed": false,
     "input": [
      "lu.writeCatalogtoDB(dbfile='data/sncat_real.db', dbtable='mysncat', ascii_root='data/SNIa_real_', galdb=galDB, \n",
      "                    obsMetaDataList=obsMetaDataResults, averageRate=1., midSurveyTime=49350.)\n",
      "    "
     ],
     "language": "python",
     "metadata": {},
     "outputs": [
      {
       "output_type": "stream",
       "stream": "stdout",
       "text": [
        "deleting previous database\n",
        "=====================================\n",
        "0 <type 'numpy.string_'> 49362.070248\n",
        "=====================================\n",
        "1.0 49350.0\n",
        "====================================="
       ]
      },
      {
       "output_type": "stream",
       "stream": "stdout",
       "text": [
        "\n",
        "1 <type 'numpy.string_'> 49364.115003\n",
        "=====================================\n",
        "1.0 49350.0\n",
        "====================================="
       ]
      },
      {
       "output_type": "stream",
       "stream": "stdout",
       "text": [
        "\n",
        "2 <type 'numpy.string_'> 49368.177159\n",
        "=====================================\n",
        "1.0 49350.0\n",
        "====================================="
       ]
      },
      {
       "output_type": "stream",
       "stream": "stdout",
       "text": [
        "\n",
        "3 <type 'numpy.string_'> 49368.177576\n",
        "=====================================\n",
        "1.0 49350.0\n",
        "====================================="
       ]
      },
      {
       "output_type": "stream",
       "stream": "stdout",
       "text": [
        "\n",
        "4 <type 'numpy.string_'> 49355.053207\n",
        "=====================================\n",
        "1.0 49350.0\n",
        "====================================="
       ]
      },
      {
       "output_type": "stream",
       "stream": "stderr",
       "text": [
        "loadtxt: Empty input file: \"data/SNIa_real_4.txt\"\n",
        "loadtxt: Empty input file: \"data/SNIa_real_5.txt\"\n"
       ]
      },
      {
       "output_type": "stream",
       "stream": "stdout",
       "text": [
        "\n",
        "5 <type 'numpy.string_'> 49355.055404\n",
        "=====================================\n",
        "1.0 49350.0\n",
        "====================================="
       ]
      },
      {
       "output_type": "stream",
       "stream": "stdout",
       "text": [
        "\n",
        "6 <type 'numpy.string_'> 49362.069356\n",
        "=====================================\n",
        "1.0 49350.0\n",
        "====================================="
       ]
      },
      {
       "output_type": "stream",
       "stream": "stderr",
       "text": [
        "loadtxt: Empty input file: \"data/SNIa_real_6.txt\"\n",
        "loadtxt: Empty input file: \"data/SNIa_real_7.txt\"\n"
       ]
      },
      {
       "output_type": "stream",
       "stream": "stdout",
       "text": [
        "\n",
        "7 <type 'numpy.string_'> 49365.08971\n",
        "=====================================\n",
        "1.0 49350.0\n",
        "====================================="
       ]
      },
      {
       "output_type": "stream",
       "stream": "stdout",
       "text": [
        "\n",
        "8 <type 'numpy.string_'> 49368.172717\n",
        "=====================================\n",
        "1.0 49350.0\n",
        "====================================="
       ]
      },
      {
       "output_type": "stream",
       "stream": "stderr",
       "text": [
        "loadtxt: Empty input file: \"data/SNIa_real_8.txt\"\n",
        "loadtxt: Empty input file: \"data/SNIa_real_9.txt\"\n"
       ]
      },
      {
       "output_type": "stream",
       "stream": "stdout",
       "text": [
        "\n",
        "9 <type 'numpy.string_'> 49369.196014\n",
        "=====================================\n",
        "1.0 49350.0\n",
        "====================================="
       ]
      },
      {
       "output_type": "stream",
       "stream": "stdout",
       "text": [
        "\n",
        "10 <type 'numpy.string_'> 49370.107511\n",
        "=====================================\n",
        "1.0 49350.0\n",
        "====================================="
       ]
      },
      {
       "output_type": "stream",
       "stream": "stdout",
       "text": [
        "\n",
        "11 <type 'numpy.string_'> 49362.072473\n",
        "=====================================\n",
        "1.0 49350.0\n",
        "====================================="
       ]
      },
      {
       "output_type": "stream",
       "stream": "stdout",
       "text": [
        "\n",
        "12 <type 'numpy.string_'> 49365.088264\n",
        "=====================================\n",
        "1.0 49350.0\n",
        "====================================="
       ]
      },
      {
       "output_type": "stream",
       "stream": "stdout",
       "text": [
        "\n",
        "13 <type 'numpy.string_'> 49370.110671\n",
        "=====================================\n",
        "1.0 49350.0\n",
        "====================================="
       ]
      },
      {
       "output_type": "stream",
       "stream": "stdout",
       "text": [
        "\n",
        "14 <type 'numpy.string_'> 49370.117093\n",
        "=====================================\n",
        "1.0 49350.0\n"
       ]
      },
      {
       "output_type": "stream",
       "stream": "stderr",
       "text": [
        "loadtxt: Empty input file: \"data/SNIa_real_10.txt\"\n"
       ]
      }
     ],
     "prompt_number": 73
    },
    {
     "cell_type": "markdown",
     "metadata": {},
     "source": [
      "The following function then queries the database, and groups the data by a SNID number to build the light curves."
     ]
    },
    {
     "cell_type": "code",
     "collapsed": false,
     "input": [
      "lcs = lu.getLCsFromDB(dbfile='data/sncat_real.db',\n",
      "                 dbtable='mysncat',\n",
      "                 lc_root='data/LightCurves/SN_real_')"
     ],
     "language": "python",
     "metadata": {},
     "outputs": [],
     "prompt_number": 74
    },
    {
     "cell_type": "markdown",
     "metadata": {},
     "source": [
      "We can check how many light curves are there, and we can display each light curve in the following way"
     ]
    },
    {
     "cell_type": "code",
     "collapsed": false,
     "input": [
      "len(lcs)"
     ],
     "language": "python",
     "metadata": {},
     "outputs": [
      {
       "metadata": {},
       "output_type": "pyout",
       "prompt_number": 75,
       "text": [
        "7"
       ]
      }
     ],
     "prompt_number": 75
    },
    {
     "cell_type": "code",
     "collapsed": false,
     "input": [
      "lcs[0][1]"
     ],
     "language": "python",
     "metadata": {},
     "outputs": [
      {
       "html": [
        "<div style=\"max-height:1000px;max-width:1500px;overflow:auto;\">\n",
        "<table border=\"1\" class=\"dataframe\">\n",
        "  <thead>\n",
        "    <tr style=\"text-align: right;\">\n",
        "      <th></th>\n",
        "      <th>id</th>\n",
        "      <th>mjd</th>\n",
        "      <th>snid</th>\n",
        "      <th>snra</th>\n",
        "      <th>sndec</th>\n",
        "      <th>z</th>\n",
        "      <th>t0</th>\n",
        "      <th>c</th>\n",
        "      <th>x1</th>\n",
        "      <th>x0</th>\n",
        "      <th>...</th>\n",
        "      <th>flux_r</th>\n",
        "      <th>flux_i</th>\n",
        "      <th>flux_z</th>\n",
        "      <th>flux_y</th>\n",
        "      <th>mag_u</th>\n",
        "      <th>mag_g</th>\n",
        "      <th>mag_r</th>\n",
        "      <th>mag_i</th>\n",
        "      <th>mag_z</th>\n",
        "      <th>mag_y</th>\n",
        "    </tr>\n",
        "  </thead>\n",
        "  <tbody>\n",
        "    <tr>\n",
        "      <th>1</th>\n",
        "      <td>obshist1</td>\n",
        "      <td>49362.070248</td>\n",
        "      <td>1736901</td>\n",
        "      <td>0.097372</td>\n",
        "      <td>-1.279117</td>\n",
        "      <td>0.6145</td>\n",
        "      <td>49350.4697</td>\n",
        "      <td>0.019807</td>\n",
        "      <td>-0.9607</td>\n",
        "      <td>0.000007</td>\n",
        "      <td>...</td>\n",
        "      <td>0</td>\n",
        "      <td>0</td>\n",
        "      <td>0</td>\n",
        "      <td>0</td>\n",
        "      <td>23.2078</td>\n",
        "      <td>23.2078</td>\n",
        "      <td>23.2078</td>\n",
        "      <td>23.2078</td>\n",
        "      <td>23.2078</td>\n",
        "      <td>23.2078</td>\n",
        "    </tr>\n",
        "    <tr>\n",
        "      <th>5</th>\n",
        "      <td>obshist1</td>\n",
        "      <td>49364.115003</td>\n",
        "      <td>1736901</td>\n",
        "      <td>0.097372</td>\n",
        "      <td>-1.279117</td>\n",
        "      <td>0.6145</td>\n",
        "      <td>49350.4697</td>\n",
        "      <td>0.019807</td>\n",
        "      <td>-0.9607</td>\n",
        "      <td>0.000007</td>\n",
        "      <td>...</td>\n",
        "      <td>0</td>\n",
        "      <td>0</td>\n",
        "      <td>0</td>\n",
        "      <td>0</td>\n",
        "      <td>23.2878</td>\n",
        "      <td>23.2878</td>\n",
        "      <td>23.2878</td>\n",
        "      <td>23.2878</td>\n",
        "      <td>23.2878</td>\n",
        "      <td>23.2878</td>\n",
        "    </tr>\n",
        "    <tr>\n",
        "      <th>9</th>\n",
        "      <td>obshist1</td>\n",
        "      <td>49368.177159</td>\n",
        "      <td>1736901</td>\n",
        "      <td>0.097372</td>\n",
        "      <td>-1.279117</td>\n",
        "      <td>0.6145</td>\n",
        "      <td>49350.4697</td>\n",
        "      <td>0.019807</td>\n",
        "      <td>-0.9607</td>\n",
        "      <td>0.000007</td>\n",
        "      <td>...</td>\n",
        "      <td>0</td>\n",
        "      <td>0</td>\n",
        "      <td>0</td>\n",
        "      <td>0</td>\n",
        "      <td>23.7505</td>\n",
        "      <td>23.7505</td>\n",
        "      <td>23.7505</td>\n",
        "      <td>23.7505</td>\n",
        "      <td>23.7505</td>\n",
        "      <td>23.7505</td>\n",
        "    </tr>\n",
        "    <tr>\n",
        "      <th>13</th>\n",
        "      <td>obshist1</td>\n",
        "      <td>49368.177576</td>\n",
        "      <td>1736901</td>\n",
        "      <td>0.097372</td>\n",
        "      <td>-1.279117</td>\n",
        "      <td>0.6145</td>\n",
        "      <td>49350.4697</td>\n",
        "      <td>0.019807</td>\n",
        "      <td>-0.9607</td>\n",
        "      <td>0.000007</td>\n",
        "      <td>...</td>\n",
        "      <td>0</td>\n",
        "      <td>0</td>\n",
        "      <td>0</td>\n",
        "      <td>0</td>\n",
        "      <td>23.7505</td>\n",
        "      <td>23.7505</td>\n",
        "      <td>23.7505</td>\n",
        "      <td>23.7505</td>\n",
        "      <td>23.7505</td>\n",
        "      <td>23.7505</td>\n",
        "    </tr>\n",
        "  </tbody>\n",
        "</table>\n",
        "<p>4 rows \u00d7 22 columns</p>\n",
        "</div>"
       ],
       "metadata": {},
       "output_type": "pyout",
       "prompt_number": 76,
       "text": [
        "          id           mjd     snid      snra     sndec       z          t0  \\\n",
        "1   obshist1  49362.070248  1736901  0.097372 -1.279117  0.6145  49350.4697   \n",
        "5   obshist1  49364.115003  1736901  0.097372 -1.279117  0.6145  49350.4697   \n",
        "9   obshist1  49368.177159  1736901  0.097372 -1.279117  0.6145  49350.4697   \n",
        "13  obshist1  49368.177576  1736901  0.097372 -1.279117  0.6145  49350.4697   \n",
        "\n",
        "           c      x1        x0   ...     flux_r  flux_i  flux_z  flux_y  \\\n",
        "1   0.019807 -0.9607  0.000007   ...          0       0       0       0   \n",
        "5   0.019807 -0.9607  0.000007   ...          0       0       0       0   \n",
        "9   0.019807 -0.9607  0.000007   ...          0       0       0       0   \n",
        "13  0.019807 -0.9607  0.000007   ...          0       0       0       0   \n",
        "\n",
        "      mag_u    mag_g    mag_r    mag_i    mag_z    mag_y  \n",
        "1   23.2078  23.2078  23.2078  23.2078  23.2078  23.2078  \n",
        "5   23.2878  23.2878  23.2878  23.2878  23.2878  23.2878  \n",
        "9   23.7505  23.7505  23.7505  23.7505  23.7505  23.7505  \n",
        "13  23.7505  23.7505  23.7505  23.7505  23.7505  23.7505  \n",
        "\n",
        "[4 rows x 22 columns]"
       ]
      }
     ],
     "prompt_number": 76
    },
    {
     "cell_type": "code",
     "collapsed": false,
     "input": [
      "type(lcs[3][1])"
     ],
     "language": "python",
     "metadata": {},
     "outputs": [
      {
       "metadata": {},
       "output_type": "pyout",
       "prompt_number": 77,
       "text": [
        "pandas.core.frame.DataFrame"
       ]
      }
     ],
     "prompt_number": 77
    },
    {
     "cell_type": "code",
     "collapsed": false,
     "input": [
      "lcs[12][1]"
     ],
     "language": "python",
     "metadata": {},
     "outputs": [
      {
       "ename": "IndexError",
       "evalue": "list index out of range",
       "output_type": "pyerr",
       "traceback": [
        "\u001b[0;31m---------------------------------------------------------------------------\u001b[0m\n\u001b[0;31mIndexError\u001b[0m                                Traceback (most recent call last)",
        "\u001b[0;32m<ipython-input-78-9277bed27947>\u001b[0m in \u001b[0;36m<module>\u001b[0;34m()\u001b[0m\n\u001b[0;32m----> 1\u001b[0;31m \u001b[0mlcs\u001b[0m\u001b[0;34m[\u001b[0m\u001b[0;36m12\u001b[0m\u001b[0;34m]\u001b[0m\u001b[0;34m[\u001b[0m\u001b[0;36m1\u001b[0m\u001b[0;34m]\u001b[0m\u001b[0;34m\u001b[0m\u001b[0m\n\u001b[0m",
        "\u001b[0;31mIndexError\u001b[0m: list index out of range"
       ]
      }
     ],
     "prompt_number": 78
    },
    {
     "cell_type": "markdown",
     "metadata": {},
     "source": [
      "In this case, we have light curves associated with two different objects, and we can now plot them."
     ]
    },
    {
     "cell_type": "code",
     "collapsed": false,
     "input": [
      "fig, ax = plt.subplots(figsize=(24,8))\n",
      "lu.plotlc(lcs[0])\n",
      "lu.plotlc(lcs[1], marker='s')\n",
      "ax.invert_yaxis()"
     ],
     "language": "python",
     "metadata": {},
     "outputs": [
      {
       "metadata": {},
       "output_type": "display_data",
       "png": "[encoded data removed]",
       "text": [
        "<matplotlib.figure.Figure at 0x11549b210>"
       ]
      }
     ],
     "prompt_number": 79
    },
    {
     "cell_type": "markdown",
     "metadata": {},
     "source": [
      "The circles and squares are two different SN which were in lcs. The colors represent the different bands."
     ]
    }
   ],
   "metadata": {}
  }
 ]
}