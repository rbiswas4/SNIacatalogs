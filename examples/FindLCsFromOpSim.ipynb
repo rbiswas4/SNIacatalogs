{
 "metadata": {
  "kernelspec": {
   "display_name": "Python 2",
   "language": "python",
   "name": "python2"
  },
  "language_info": {
   "codemirror_mode": {
    "name": "ipython",
    "version": 2
   },
   "file_extension": ".py",
   "mimetype": "text/x-python",
   "name": "python",
   "nbconvert_exporter": "python",
   "pygments_lexer": "ipython2",
   "version": "2.7.9"
  },
  "name": "",
  "signature": "sha256:4544eae24c0ba15f9dbbe1c9ee944857126f999f23655e6aad75e665c5b22a12"
 },
 "nbformat": 3,
 "nbformat_minor": 0,
 "worksheets": [
  {
   "cells": [
    {
     "cell_type": "heading",
     "level": 1,
     "metadata": {},
     "source": [
      "Supernovae Ia in catSim"
     ]
    },
    {
     "cell_type": "code",
     "collapsed": false,
     "input": [
      "# Demonstrate methods to obtain SN light curves from opsims output"
     ],
     "language": "python",
     "metadata": {},
     "outputs": [],
     "prompt_number": 1
    },
    {
     "cell_type": "code",
     "collapsed": false,
     "input": [
      "import sniacatalogs as snia\n",
      "from sniacatalogs import sncat"
     ],
     "language": "python",
     "metadata": {},
     "outputs": [],
     "prompt_number": 1
    },
    {
     "cell_type": "code",
     "collapsed": false,
     "input": [
      "from lsst.sims.catUtils.mixins import CosmologyMixin"
     ],
     "language": "python",
     "metadata": {},
     "outputs": [],
     "prompt_number": 2
    },
    {
     "cell_type": "code",
     "collapsed": false,
     "input": [
      "import lightcurve_utils as lu"
     ],
     "language": "python",
     "metadata": {},
     "outputs": [],
     "prompt_number": 3
    },
    {
     "cell_type": "code",
     "collapsed": false,
     "input": [
      "import numpy as np\n",
      "%matplotlib inline\n",
      "import matplotlib.pyplot as plt\n",
      "import os"
     ],
     "language": "python",
     "metadata": {},
     "outputs": [],
     "prompt_number": 4
    },
    {
     "cell_type": "code",
     "collapsed": false,
     "input": [
      "#seaborn Comment out if this is not installed\n",
      "import seaborn as sns\n",
      "sns.set()"
     ],
     "language": "python",
     "metadata": {},
     "outputs": [],
     "prompt_number": 5
    },
    {
     "cell_type": "code",
     "collapsed": false,
     "input": [
      "from lsst.sims.utils import ObservationMetaData\n",
      "from lsst.sims.catUtils.utils import ObservationMetaDataGenerator"
     ],
     "language": "python",
     "metadata": {},
     "outputs": [],
     "prompt_number": 6
    },
    {
     "cell_type": "code",
     "collapsed": false,
     "input": [
      "# from lsst.sims.catalogs.generation.db import ObservationMetaData\n"
     ],
     "language": "python",
     "metadata": {},
     "outputs": [],
     "prompt_number": 7
    },
    {
     "cell_type": "code",
     "collapsed": false,
     "input": [
      "from lsst.sims.catalogs.generation.db import CatalogDBObject"
     ],
     "language": "python",
     "metadata": {},
     "outputs": [],
     "prompt_number": 8
    },
    {
     "cell_type": "code",
     "collapsed": false,
     "input": [
      "\n",
      "from lsst.sims.catalogs.measures.instance import InstanceCatalog\n",
      "import eups"
     ],
     "language": "python",
     "metadata": {},
     "outputs": [],
     "prompt_number": 9
    },
    {
     "cell_type": "code",
     "collapsed": false,
     "input": [
      "import sqlite3"
     ],
     "language": "python",
     "metadata": {},
     "outputs": [],
     "prompt_number": 10
    },
    {
     "cell_type": "markdown",
     "metadata": {},
     "source": [
      "First, we create a catalog of all the galaxies in the catalog using the `CatalogDBObject.from_objid` "
     ]
    },
    {
     "cell_type": "code",
     "collapsed": false,
     "input": [
      "def samplePatchOnSphere(phi, theta, delta, size):\n",
      "    '''\n",
      "    (not) Uniformly distributes samples on a spherical patch between phi \\pm delta,\n",
      "    and theta \\pm delta.\n",
      "    \n",
      "    will modify to fix this later\n",
      "    Parameters\n",
      "    ----------\n",
      "    phi: float, mandatory, radians\n",
      "        center of the spherical patch in ra with range \n",
      "    theta: float, mandatory, radians\n",
      "    delta: float, mandatory, radians\n",
      "    size: int, mandatory\n",
      "        number of samples\n",
      "    '''\n",
      "    u = np.random.uniform(size=size)\n",
      "    v = np.random.uniform(size=size)\n",
      "\n",
      "    # phivals = delta * (2. * u - 1) + phi\n",
      "    phivals = 2. * delta* u + (phi - delta )\n",
      "    phivals = np.where ( phivals >= 0., phivals, phivals + 2. * np.pi)\n",
      "    \n",
      "    # use conventions in spherical coordinates\n",
      "    theta = np.pi/2.0 - theta\n",
      "    # thetavals = 2. * delta* v + (theta - delta )\n",
      "    # thetavals = np.where ( thetavals < np.pi , thetavals, thetavals - np.pi)\n",
      "    # thetavals = np.where ( thetavals > - np.pi , thetavals, thetavals + np.pi)\n",
      "    \n",
      "    \n",
      "    thetamax = theta + delta\n",
      "    thetamin = theta - delta\n",
      "    # CDF is cos(thetamin) - cos(theta) / cos(thetamin) - cos(thetamax)\n",
      "    a = np.cos(thetamin) - np.cos(thetamax)\n",
      "    thetavals = np.arccos(-v * a + np.cos(thetamin))\n",
      "    # Get back to -pi/2 to pi/2 range of decs\n",
      "    thetavals = np.pi/2.0 - thetavals \n",
      "    return phivals, thetavals"
     ],
     "language": "python",
     "metadata": {},
     "outputs": [],
     "prompt_number": 15
    },
    {
     "cell_type": "code",
     "collapsed": false,
     "input": [
      "def cleanDB(dbname, verbose=True):\n",
      "    '''\n",
      "    Deletes the database dbname from the disk.\n",
      "    Parameters\n",
      "    ----------\n",
      "    dbname: string, mandatory\n",
      "        name (abs path) of the database to be deleted\n",
      "    verbose: Bool, optional, defaults to True\n",
      "\n",
      "    '''\n",
      "\n",
      "    if os.path.exists(dbname):\n",
      "        if verbose:\n",
      "            print \"deleting database \", dbname\n",
      "        os.unlink(dbname)\n",
      "    else:\n",
      "        if verbose:\n",
      "            print 'database ', dbname, ' does not exist'"
     ],
     "language": "python",
     "metadata": {},
     "outputs": [],
     "prompt_number": 16
    },
    {
     "cell_type": "code",
     "collapsed": false,
     "input": [
      "def sample_obsmetadata(obsmetadata, size=1):\n",
      "    '''\n",
      "    Sample a square patch on the sphere overlapping obsmetadata\n",
      "    field of view by picking the area enclosed in\n",
      "    obsmetadata.unrefractedRA \\pm obsmetadata.boundLength\n",
      "    obsmetadata.unrefractedDec \\pm obsmetadata.boundLength\n",
      "\n",
      "    Parameters\n",
      "    ----------\n",
      "    obsmetadata: instance of\n",
      "        `sims.catalogs.generation.db.ObservationMetaData`\n",
      "\n",
      "    size: integer, optional, defaults to 1\n",
      "        number of samples\n",
      "\n",
      "\n",
      "    Returns\n",
      "    -------\n",
      "\n",
      "    tuple of ravals, decvalues\n",
      "    '''\n",
      "    mydict = obsmetadata.summary\n",
      "    phi = np.radians(mydict['unrefractedRA'])\n",
      "    theta = np.radians(mydict['unrefractedDec'])\n",
      "    equalrange = np.radians(mydict['boundLength'])\n",
      "    ravals, thetavals = samplePatchOnSphere(phi=phi, theta=theta, delta=equalrange, size=size)\n",
      "    return ravals, thetavals"
     ],
     "language": "python",
     "metadata": {},
     "outputs": [],
     "prompt_number": 17
    },
    {
     "cell_type": "code",
     "collapsed": false,
     "input": [
      "def _createFakeGalaxyDB(dbname, ObsMetaData, size=10000, seed=1):\n",
      "    '''\n",
      "    Create a local sqlite galaxy database having filename dbname with variables\n",
      "    id, raJ2000, decJ2000 and redshift, having number of rows =size, and having\n",
      "    overlap with ObsMetaData.\n",
      "    '''\n",
      "    cleanDB(dbname)\n",
      "    conn = sqlite3.connect(dbname)\n",
      "    curs = conn.cursor()\n",
      "    curs.execute('CREATE TABLE if not exists gals (id INT, raJ2000 FLOAT,\\\n",
      "                  decJ2000 FLOAT, redshift FLOAT)')\n",
      "\n",
      "    np.random.seed(seed)\n",
      "    samps = sample_obsmetadata(ObsMetaData, size=size)\n",
      "\n",
      "    for count in range(size):\n",
      "        id = 1000000 + count\n",
      "\n",
      "        # Main Database should have values in degrees\n",
      "        ra = np.degrees(samps[0][count])\n",
      "        dec = np.degrees(samps[1][count])\n",
      "        redshift = np.random.uniform()\n",
      "        row = tuple([id, ra, dec, redshift])\n",
      "        exec_str = insertfromdata(tablename='gals', records=row,\n",
      "                                     multiple=False)\n",
      "        curs.execute(exec_str, row)\n",
      "\n",
      "    conn.commit()\n",
      "    conn.close()\n",
      "    return samps"
     ],
     "language": "python",
     "metadata": {},
     "outputs": [],
     "prompt_number": 18
    },
    {
     "cell_type": "code",
     "collapsed": false,
     "input": [
      "def insertfromdata(tablename, records, multiple=True):\n",
      "    \"\"\"\n",
      "    construct string to insert multiple records into sqlite3 database\n",
      "    args:\n",
      "        tablename: str, mandatory\n",
      "            Name of table in the database.\n",
      "        records: set of records\n",
      "        multiple:\n",
      "    returns:\n",
      "    \"\"\"\n",
      "    if multiple:\n",
      "        lst = records[0]\n",
      "    else:\n",
      "        lst = records\n",
      "    s = 'INSERT INTO ' + str(tablename) + ' VALUES '\n",
      "    s += \"( \" + \", \".join([\"?\"]*len(lst)) + \")\"\n",
      "    return s"
     ],
     "language": "python",
     "metadata": {},
     "outputs": [],
     "prompt_number": 19
    },
    {
     "cell_type": "code",
     "collapsed": false,
     "input": [
      "class myGalaxyCatalog(CatalogDBObject):\n",
      "    '''\n",
      "    Create a like CatalogDBObject connecting to a local sqlite database\n",
      "    '''\n",
      "\n",
      "    objid = 'mytestgals'\n",
      "    tableid = 'gals'\n",
      "    idColKey = 'id'\n",
      "    appendint = 10000\n",
      "    database = 'galcat.db'\n",
      "    dbAddress = './testData/galcat.db'\n",
      "    raColName = 'raJ2000'\n",
      "    decColName = 'decJ2000'\n",
      "    driver = 'sqlite'\n",
      "\n",
      "    # columns required to convert the ra, dec values in degrees\n",
      "    # to radians again\n",
      "    columns = [('id', 'id', int),\n",
      "               ('raJ2000','raJ2000 * PI()/ 180. '),\n",
      "               ('decJ2000','decJ2000 * PI()/ 180.'),\n",
      "               ('redshift', 'redshift')]"
     ],
     "language": "python",
     "metadata": {},
     "outputs": [
      {
       "ename": "TypeError",
       "evalue": "<module '__main__' (built-in)> is a built-in class",
       "output_type": "pyerr",
       "traceback": [
        "\u001b[0;31m---------------------------------------------------------------------------\u001b[0m\n\u001b[0;31mTypeError\u001b[0m                                 Traceback (most recent call last)",
        "\u001b[0;32m<ipython-input-20-0cc9151efe4d>\u001b[0m in \u001b[0;36m<module>\u001b[0;34m()\u001b[0m\n\u001b[0;32m----> 1\u001b[0;31m \u001b[0;32mclass\u001b[0m \u001b[0mmyGalaxyCatalog\u001b[0m\u001b[0;34m(\u001b[0m\u001b[0mCatalogDBObject\u001b[0m\u001b[0;34m)\u001b[0m\u001b[0;34m:\u001b[0m\u001b[0;34m\u001b[0m\u001b[0m\n\u001b[0m\u001b[1;32m      2\u001b[0m     '''\n\u001b[1;32m      3\u001b[0m     \u001b[0mCreate\u001b[0m \u001b[0ma\u001b[0m \u001b[0mlike\u001b[0m \u001b[0mCatalogDBObject\u001b[0m \u001b[0mconnecting\u001b[0m \u001b[0mto\u001b[0m \u001b[0ma\u001b[0m \u001b[0mlocal\u001b[0m \u001b[0msqlite\u001b[0m \u001b[0mdatabase\u001b[0m\u001b[0;34m\u001b[0m\u001b[0m\n\u001b[1;32m      4\u001b[0m     '''\n\u001b[1;32m      5\u001b[0m \u001b[0;34m\u001b[0m\u001b[0m\n",
        "\u001b[0;32m/Users/rbiswas/src/LSST/sims_catalogs_generation/python/lsst/sims/catalogs/generation/db/dbConnection.pyc\u001b[0m in \u001b[0;36m__init__\u001b[0;34m(cls, name, bases, dct)\u001b[0m\n\u001b[1;32m    313\u001b[0m             \u001b[0;31m# add this class to the registry\u001b[0m\u001b[0;34m\u001b[0m\u001b[0;34m\u001b[0m\u001b[0m\n\u001b[1;32m    314\u001b[0m             \u001b[0;32mif\u001b[0m \u001b[0mcls\u001b[0m\u001b[0;34m.\u001b[0m\u001b[0mobjid\u001b[0m \u001b[0;32min\u001b[0m \u001b[0mcls\u001b[0m\u001b[0;34m.\u001b[0m\u001b[0mregistry\u001b[0m\u001b[0;34m:\u001b[0m\u001b[0;34m\u001b[0m\u001b[0m\n\u001b[0;32m--> 315\u001b[0;31m                 \u001b[0msrcfile\u001b[0m \u001b[0;34m=\u001b[0m \u001b[0minspect\u001b[0m\u001b[0;34m.\u001b[0m\u001b[0mgetsourcefile\u001b[0m\u001b[0;34m(\u001b[0m\u001b[0mcls\u001b[0m\u001b[0;34m.\u001b[0m\u001b[0mregistry\u001b[0m\u001b[0;34m[\u001b[0m\u001b[0mcls\u001b[0m\u001b[0;34m.\u001b[0m\u001b[0mobjid\u001b[0m\u001b[0;34m]\u001b[0m\u001b[0;34m)\u001b[0m\u001b[0;34m\u001b[0m\u001b[0m\n\u001b[0m\u001b[1;32m    316\u001b[0m                 \u001b[0msrcline\u001b[0m \u001b[0;34m=\u001b[0m \u001b[0minspect\u001b[0m\u001b[0;34m.\u001b[0m\u001b[0mgetsourcelines\u001b[0m\u001b[0;34m(\u001b[0m\u001b[0mcls\u001b[0m\u001b[0;34m.\u001b[0m\u001b[0mregistry\u001b[0m\u001b[0;34m[\u001b[0m\u001b[0mcls\u001b[0m\u001b[0;34m.\u001b[0m\u001b[0mobjid\u001b[0m\u001b[0;34m]\u001b[0m\u001b[0;34m)\u001b[0m\u001b[0;34m[\u001b[0m\u001b[0;36m1\u001b[0m\u001b[0;34m]\u001b[0m\u001b[0;34m\u001b[0m\u001b[0m\n\u001b[1;32m    317\u001b[0m                 warnings.warn('duplicate object identifier %s specified. '%(cls.objid)+\\\n",
        "\u001b[0;32m/usr/local/manual/anaconda/lib/python2.7/inspect.pyc\u001b[0m in \u001b[0;36mgetsourcefile\u001b[0;34m(object)\u001b[0m\n\u001b[1;32m    442\u001b[0m     \u001b[0mReturn\u001b[0m \u001b[0mNone\u001b[0m \u001b[0;32mif\u001b[0m \u001b[0mno\u001b[0m \u001b[0mway\u001b[0m \u001b[0mcan\u001b[0m \u001b[0mbe\u001b[0m \u001b[0midentified\u001b[0m \u001b[0mto\u001b[0m \u001b[0mget\u001b[0m \u001b[0mthe\u001b[0m \u001b[0msource\u001b[0m\u001b[0;34m.\u001b[0m\u001b[0;34m\u001b[0m\u001b[0m\n\u001b[1;32m    443\u001b[0m     \"\"\"\n\u001b[0;32m--> 444\u001b[0;31m     \u001b[0mfilename\u001b[0m \u001b[0;34m=\u001b[0m \u001b[0mgetfile\u001b[0m\u001b[0;34m(\u001b[0m\u001b[0mobject\u001b[0m\u001b[0;34m)\u001b[0m\u001b[0;34m\u001b[0m\u001b[0m\n\u001b[0m\u001b[1;32m    445\u001b[0m     \u001b[0;32mif\u001b[0m \u001b[0mstring\u001b[0m\u001b[0;34m.\u001b[0m\u001b[0mlower\u001b[0m\u001b[0;34m(\u001b[0m\u001b[0mfilename\u001b[0m\u001b[0;34m[\u001b[0m\u001b[0;34m-\u001b[0m\u001b[0;36m4\u001b[0m\u001b[0;34m:\u001b[0m\u001b[0;34m]\u001b[0m\u001b[0;34m)\u001b[0m \u001b[0;32min\u001b[0m \u001b[0;34m(\u001b[0m\u001b[0;34m'.pyc'\u001b[0m\u001b[0;34m,\u001b[0m \u001b[0;34m'.pyo'\u001b[0m\u001b[0;34m)\u001b[0m\u001b[0;34m:\u001b[0m\u001b[0;34m\u001b[0m\u001b[0m\n\u001b[1;32m    446\u001b[0m         \u001b[0mfilename\u001b[0m \u001b[0;34m=\u001b[0m \u001b[0mfilename\u001b[0m\u001b[0;34m[\u001b[0m\u001b[0;34m:\u001b[0m\u001b[0;34m-\u001b[0m\u001b[0;36m4\u001b[0m\u001b[0;34m]\u001b[0m \u001b[0;34m+\u001b[0m \u001b[0;34m'.py'\u001b[0m\u001b[0;34m\u001b[0m\u001b[0m\n",
        "\u001b[0;32m/usr/local/manual/anaconda/lib/python2.7/inspect.pyc\u001b[0m in \u001b[0;36mgetfile\u001b[0;34m(object)\u001b[0m\n\u001b[1;32m    406\u001b[0m         \u001b[0;32mif\u001b[0m \u001b[0mhasattr\u001b[0m\u001b[0;34m(\u001b[0m\u001b[0mobject\u001b[0m\u001b[0;34m,\u001b[0m \u001b[0;34m'__file__'\u001b[0m\u001b[0;34m)\u001b[0m\u001b[0;34m:\u001b[0m\u001b[0;34m\u001b[0m\u001b[0m\n\u001b[1;32m    407\u001b[0m             \u001b[0;32mreturn\u001b[0m \u001b[0mobject\u001b[0m\u001b[0;34m.\u001b[0m\u001b[0m__file__\u001b[0m\u001b[0;34m\u001b[0m\u001b[0m\n\u001b[0;32m--> 408\u001b[0;31m         \u001b[0;32mraise\u001b[0m \u001b[0mTypeError\u001b[0m\u001b[0;34m(\u001b[0m\u001b[0;34m'{!r} is a built-in class'\u001b[0m\u001b[0;34m.\u001b[0m\u001b[0mformat\u001b[0m\u001b[0;34m(\u001b[0m\u001b[0mobject\u001b[0m\u001b[0;34m)\u001b[0m\u001b[0;34m)\u001b[0m\u001b[0;34m\u001b[0m\u001b[0m\n\u001b[0m\u001b[1;32m    409\u001b[0m     \u001b[0;32mif\u001b[0m \u001b[0mismethod\u001b[0m\u001b[0;34m(\u001b[0m\u001b[0mobject\u001b[0m\u001b[0;34m)\u001b[0m\u001b[0;34m:\u001b[0m\u001b[0;34m\u001b[0m\u001b[0m\n\u001b[1;32m    410\u001b[0m         \u001b[0mobject\u001b[0m \u001b[0;34m=\u001b[0m \u001b[0mobject\u001b[0m\u001b[0;34m.\u001b[0m\u001b[0mim_func\u001b[0m\u001b[0;34m\u001b[0m\u001b[0m\n",
        "\u001b[0;31mTypeError\u001b[0m: <module '__main__' (built-in)> is a built-in class"
       ]
      }
     ],
     "prompt_number": 20
    },
    {
     "cell_type": "heading",
     "level": 2,
     "metadata": {},
     "source": [
      "Now create a fake galaxy database"
     ]
    },
    {
     "cell_type": "markdown",
     "metadata": {},
     "source": [
      "Using the functions above, we will create a fake galaxy database with galaxies in a small region of sky (tuned for the opsims areas that will be searched for later), spatially distributed roughly uniformly "
     ]
    },
    {
     "cell_type": "code",
     "collapsed": false,
     "input": [
      "obsMetaDataforCat = ObservationMetaData(boundType='circle',\n",
      "                                          boundLength=np.degrees(0.25),\n",
      "                                          unrefractedRA=np.degrees(0.13),\n",
      "                                          unrefractedDec=np.degrees(-1.2),\n",
      "                                          bandpassName=\n",
      "                                          ['u', 'g', 'r', 'i', 'z', 'y'],\n",
      "                                          mjd=570123)"
     ],
     "language": "python",
     "metadata": {},
     "outputs": [],
     "prompt_number": 21
    },
    {
     "cell_type": "code",
     "collapsed": false,
     "input": [
      "sample_obsmetadata(obsMetaDataforCat, size=1)"
     ],
     "language": "python",
     "metadata": {},
     "outputs": [
      {
       "metadata": {},
       "output_type": "pyout",
       "prompt_number": 22,
       "text": [
        "(array([ 0.04716928]), array([-1.30953968]))"
       ]
      }
     ],
     "prompt_number": 22
    },
    {
     "cell_type": "code",
     "collapsed": false,
     "input": [
      "obsMetaDataforCat.boundLength"
     ],
     "language": "python",
     "metadata": {},
     "outputs": [
      {
       "metadata": {},
       "output_type": "pyout",
       "prompt_number": 23,
       "text": [
        "14.323944878270581"
       ]
      }
     ],
     "prompt_number": 23
    },
    {
     "cell_type": "code",
     "collapsed": false,
     "input": [
      "obsMetaDataforCat._boundLength"
     ],
     "language": "python",
     "metadata": {},
     "outputs": [
      {
       "metadata": {},
       "output_type": "pyout",
       "prompt_number": 24,
       "text": [
        "0.25"
       ]
      }
     ],
     "prompt_number": 24
    },
    {
     "cell_type": "code",
     "collapsed": false,
     "input": [
      "obsMetaDataforCat.bounds.radius"
     ],
     "language": "python",
     "metadata": {},
     "outputs": [
      {
       "metadata": {},
       "output_type": "pyout",
       "prompt_number": 25,
       "text": [
        "0.25"
       ]
      }
     ],
     "prompt_number": 25
    },
    {
     "cell_type": "code",
     "collapsed": false,
     "input": [
      "obsMetaDataforCat.boundType"
     ],
     "language": "python",
     "metadata": {},
     "outputs": [
      {
       "metadata": {},
       "output_type": "pyout",
       "prompt_number": 26,
       "text": [
        "'circle'"
       ]
      }
     ],
     "prompt_number": 26
    },
    {
     "cell_type": "code",
     "collapsed": false,
     "input": [
      "vals = _createFakeGalaxyDB(dbname='testData/galcat.db',\n",
      "                    ObsMetaData=obsMetaDataforCat,\n",
      "                    size=1000000,\n",
      "                    seed=1)"
     ],
     "language": "python",
     "metadata": {},
     "outputs": [
      {
       "output_type": "stream",
       "stream": "stdout",
       "text": [
        "deleting database  testData/galcat.db\n"
       ]
      }
     ],
     "prompt_number": 27
    },
    {
     "cell_type": "code",
     "collapsed": false,
     "input": [
      "vals"
     ],
     "language": "python",
     "metadata": {},
     "outputs": [
      {
       "metadata": {},
       "output_type": "pyout",
       "prompt_number": 28,
       "text": [
        "(array([ 0.088511  ,  0.24016225,  6.16324249, ...,  0.12661688,\n",
        "         6.21759016,  0.06512591]),\n",
        " array([-0.99399571, -1.21610453, -1.15133414, ..., -1.02888506,\n",
        "        -1.33583417, -1.04711557]))"
       ]
      }
     ],
     "prompt_number": 28
    },
    {
     "cell_type": "code",
     "collapsed": false,
     "input": [
      "plt.plot(vals[0][:1000], vals[1][:1000], '.')\n",
      "plt.axvline(2. * np.pi, color='k', lw=2.)\n",
      "plt.axvline(0., color='k', lw=2.)\n",
      "plt.axhline(np.pi, color='k', lw=2.)\n",
      "plt.axhline(-np.pi, color='k', lw=2.)\n",
      "plt.plot([0.13], [-1.2], 'rs', markersize=8)"
     ],
     "language": "python",
     "metadata": {},
     "outputs": [
      {
       "metadata": {},
       "output_type": "pyout",
       "prompt_number": 25,
       "text": [
        "[<matplotlib.lines.Line2D at 0x115506e10>]"
       ]
      },
      {
       "metadata": {},
       "output_type": "display_data",
       "png": "[encoded data removed]",
       "text": [
        "<matplotlib.figure.Figure at 0x1114e02d0>"
       ]
      }
     ],
     "prompt_number": 25
    },
    {
     "cell_type": "markdown",
     "metadata": {},
     "source": [
      "Fake galaxycatalog object "
     ]
    },
    {
     "cell_type": "markdown",
     "metadata": {},
     "source": [
      "Galaxies (blue points) simulated in a square patch of RA, DEC around the red point"
     ]
    },
    {
     "cell_type": "code",
     "collapsed": false,
     "input": [
      "galDB = myGalaxyCatalog()"
     ],
     "language": "python",
     "metadata": {},
     "outputs": [],
     "prompt_number": 12
    },
    {
     "cell_type": "markdown",
     "metadata": {},
     "source": [
      "Check that there really are galaxies in the catalog by writing an instance catalog of the galaxies to disk"
     ]
    },
    {
     "cell_type": "code",
     "collapsed": false,
     "input": [
      "class galCopy(InstanceCatalog):\n",
      "    column_outputs = ['id', 'raJ2000', 'decJ2000', 'redshift']\n",
      "    override_formats = {'raJ2000': '%8e', 'decJ2000': '%8e'}"
     ],
     "language": "python",
     "metadata": {},
     "outputs": [],
     "prompt_number": 13
    },
    {
     "cell_type": "code",
     "collapsed": false,
     "input": [
      "galphot = galCopy(db_obj=galDB, obs_metadata=obsMetaDataforCat)"
     ],
     "language": "python",
     "metadata": {},
     "outputs": [],
     "prompt_number": 29
    },
    {
     "cell_type": "code",
     "collapsed": false,
     "input": [
      "galphot.write_catalog('gals.dat')"
     ],
     "language": "python",
     "metadata": {},
     "outputs": [],
     "prompt_number": 30
    },
    {
     "cell_type": "code",
     "collapsed": false,
     "input": [
      "!wc -l gals.dat"
     ],
     "language": "python",
     "metadata": {},
     "outputs": [
      {
       "output_type": "stream",
       "stream": "stdout",
       "text": [
        "  742765 gals.dat\r\n"
       ]
      }
     ],
     "prompt_number": 31
    },
    {
     "cell_type": "code",
     "collapsed": false,
     "input": [
      "!head gals.dat"
     ],
     "language": "python",
     "metadata": {},
     "outputs": [
      {
       "output_type": "stream",
       "stream": "stdout",
       "text": [
        "#id, raJ2000, decJ2000, redshift\r\n",
        "1000000, 8.851100e-02, -9.939957e-01, 0.0376\r\n",
        "1000001, 2.401622e-01, -1.216105e+00, 0.7608\r\n",
        "1000003, 3.116629e-02, -1.009110e+00, 0.1566\r\n",
        "1000007, 5.278036e-02, -9.771580e-01, 0.3991\r\n",
        "1000008, 7.838374e-02, -1.024724e+00, 0.7685\r\n",
        "1000009, 1.494084e-01, -9.881543e-01, 0.9084\r\n",
        "1000010, 8.959726e-02, -1.070042e+00, 0.5480\r\n",
        "1000011, 2.226098e-01, -1.132653e+00, 0.8986\r\n",
        "1000013, 3.190587e-01, -1.084762e+00, 0.0921\r\n"
       ]
      }
     ],
     "prompt_number": 32
    },
    {
     "cell_type": "markdown",
     "metadata": {},
     "source": [
      "The next step takes a set of mjds and pointings made up here (ie. this should really come from Opsims, but to simplify this notebook, and build a light curve, we will assume that we decided to point at the same location everyday. And to first try out\n",
      "an instance catalog we can read easily, and understand, we will first do one day.\n",
      "\n",
      "\n",
      "So, let us instantiate an ObservationMetaData object, and write the catalog associated with it"
     ]
    },
    {
     "cell_type": "heading",
     "level": 2,
     "metadata": {},
     "source": [
      "Building Light Curves from Instance Catalogs"
     ]
    },
    {
     "cell_type": "markdown",
     "metadata": {},
     "source": [
      "We would like to create a number of supernova instance catalogs and then build the light curves from the catalogs. To do this correctly, we would like to use the `observation_metadata` associated with a number of conscutive OpSIM pointings. "
     ]
    },
    {
     "cell_type": "code",
     "collapsed": false,
     "input": [
      "opsimPath = os.path.join(eups.productDir('sims_data'),'OpSimData')\n",
      "opsimDB = os.path.join(opsimPath,'opsimblitz1_1133_sqlite.db')\n",
      "\n",
      "# from Tuscon AHM notebook from Scott\n",
      "# This OPSIM DB is provided in sims_data. This creates a list of opsim pointings\n",
      "# that I have checked. This is a tuned notebook\n",
      "generator = ObservationMetaDataGenerator(database = opsimPath, driver='sqlite')\n",
      "obsMetaDataResults = generator.getObservationMetaData(limit=100,\n",
      "                                                      fieldRA=(5.0, 8.0), \n",
      "                                                      fieldDec=(-85.,-60.),\n",
      "                                                      expMJD=(49300., 49400.),\n",
      "                                                      boundLength=0.015,\n",
      "                                                      boundType='circle')"
     ],
     "language": "python",
     "metadata": {},
     "outputs": [
      {
       "ename": "OperationalError",
       "evalue": "(OperationalError) unable to open database file None None",
       "output_type": "pyerr",
       "traceback": [
        "\u001b[0;31m---------------------------------------------------------------------------\u001b[0m\n\u001b[0;31mOperationalError\u001b[0m                          Traceback (most recent call last)",
        "\u001b[0;32m<ipython-input-36-16bfe9238c36>\u001b[0m in \u001b[0;36m<module>\u001b[0;34m()\u001b[0m\n\u001b[1;32m     11\u001b[0m                                                       \u001b[0mexpMJD\u001b[0m\u001b[0;34m=\u001b[0m\u001b[0;34m(\u001b[0m\u001b[0;36m49300.\u001b[0m\u001b[0;34m,\u001b[0m \u001b[0;36m49400.\u001b[0m\u001b[0;34m)\u001b[0m\u001b[0;34m,\u001b[0m\u001b[0;34m\u001b[0m\u001b[0m\n\u001b[1;32m     12\u001b[0m                                                       \u001b[0mboundLength\u001b[0m\u001b[0;34m=\u001b[0m\u001b[0;36m0.015\u001b[0m\u001b[0;34m,\u001b[0m\u001b[0;34m\u001b[0m\u001b[0m\n\u001b[0;32m---> 13\u001b[0;31m                                                       boundType='circle')\n\u001b[0m",
        "\u001b[0;32m/Users/rbiswas/src/LSST/sims_catutils/python/lsst/sims/catUtils/utils/ObservationMetaDataGenerator.pyc\u001b[0m in \u001b[0;36mgetObservationMetaData\u001b[0;34m(self, obsHistID, expDate, fieldRA, fieldDec, moonRA, moonDec, rotSkyPos, telescopeFilter, rawSeeing, seeing, sunAlt, moonAlt, dist2Moon, moonPhase, expMJD, altitude, azimuth, visitExpTime, airmass, skyBrightness, m5, boundType, boundLength, limit)\u001b[0m\n\u001b[1;32m    218\u001b[0m                                ' you will just return ObservationMetaData for all poitnings')\n\u001b[1;32m    219\u001b[0m \u001b[0;34m\u001b[0m\u001b[0m\n\u001b[0;32m--> 220\u001b[0;31m         \u001b[0mresults\u001b[0m \u001b[0;34m=\u001b[0m \u001b[0mself\u001b[0m\u001b[0;34m.\u001b[0m\u001b[0mopsimdb\u001b[0m\u001b[0;34m.\u001b[0m\u001b[0mexecute_arbitrary\u001b[0m\u001b[0;34m(\u001b[0m\u001b[0mquery\u001b[0m\u001b[0;34m,\u001b[0m \u001b[0mdtype\u001b[0m\u001b[0;34m=\u001b[0m\u001b[0mself\u001b[0m\u001b[0;34m.\u001b[0m\u001b[0mdtype\u001b[0m\u001b[0;34m)\u001b[0m\u001b[0;34m\u001b[0m\u001b[0m\n\u001b[0m\u001b[1;32m    221\u001b[0m \u001b[0;34m\u001b[0m\u001b[0m\n\u001b[1;32m    222\u001b[0m \u001b[0;34m\u001b[0m\u001b[0m\n",
        "\u001b[0;32m/Users/rbiswas/src/LSST/sims_catalogs_generation/python/lsst/sims/catalogs/generation/db/dbConnection.pyc\u001b[0m in \u001b[0;36mexecute_arbitrary\u001b[0;34m(self, query, dtype)\u001b[0m\n\u001b[1;32m    262\u001b[0m \u001b[0;34m\u001b[0m\u001b[0m\n\u001b[1;32m    263\u001b[0m         \u001b[0mself\u001b[0m\u001b[0;34m.\u001b[0m\u001b[0mdtype\u001b[0m \u001b[0;34m=\u001b[0m \u001b[0mdtype\u001b[0m\u001b[0;34m\u001b[0m\u001b[0m\n\u001b[0;32m--> 264\u001b[0;31m         \u001b[0mretresults\u001b[0m \u001b[0;34m=\u001b[0m \u001b[0mself\u001b[0m\u001b[0;34m.\u001b[0m\u001b[0m_postprocess_arbitrary_results\u001b[0m\u001b[0;34m(\u001b[0m\u001b[0mself\u001b[0m\u001b[0;34m.\u001b[0m\u001b[0msession\u001b[0m\u001b[0;34m.\u001b[0m\u001b[0mexecute\u001b[0m\u001b[0;34m(\u001b[0m\u001b[0mquery\u001b[0m\u001b[0;34m)\u001b[0m\u001b[0;34m.\u001b[0m\u001b[0mfetchall\u001b[0m\u001b[0;34m(\u001b[0m\u001b[0;34m)\u001b[0m\u001b[0;34m)\u001b[0m\u001b[0;34m\u001b[0m\u001b[0m\n\u001b[0m\u001b[1;32m    265\u001b[0m         \u001b[0;32mreturn\u001b[0m \u001b[0mretresults\u001b[0m\u001b[0;34m\u001b[0m\u001b[0m\n\u001b[1;32m    266\u001b[0m \u001b[0;34m\u001b[0m\u001b[0m\n",
        "\u001b[0;32m/usr/local/manual/anaconda/lib/python2.7/site-packages/sqlalchemy/orm/scoping.pyc\u001b[0m in \u001b[0;36mdo\u001b[0;34m(self, *args, **kwargs)\u001b[0m\n\u001b[1;32m    148\u001b[0m \u001b[0;32mdef\u001b[0m \u001b[0minstrument\u001b[0m\u001b[0;34m(\u001b[0m\u001b[0mname\u001b[0m\u001b[0;34m)\u001b[0m\u001b[0;34m:\u001b[0m\u001b[0;34m\u001b[0m\u001b[0m\n\u001b[1;32m    149\u001b[0m     \u001b[0;32mdef\u001b[0m \u001b[0mdo\u001b[0m\u001b[0;34m(\u001b[0m\u001b[0mself\u001b[0m\u001b[0;34m,\u001b[0m \u001b[0;34m*\u001b[0m\u001b[0margs\u001b[0m\u001b[0;34m,\u001b[0m \u001b[0;34m**\u001b[0m\u001b[0mkwargs\u001b[0m\u001b[0;34m)\u001b[0m\u001b[0;34m:\u001b[0m\u001b[0;34m\u001b[0m\u001b[0m\n\u001b[0;32m--> 150\u001b[0;31m         \u001b[0;32mreturn\u001b[0m \u001b[0mgetattr\u001b[0m\u001b[0;34m(\u001b[0m\u001b[0mself\u001b[0m\u001b[0;34m.\u001b[0m\u001b[0mregistry\u001b[0m\u001b[0;34m(\u001b[0m\u001b[0;34m)\u001b[0m\u001b[0;34m,\u001b[0m \u001b[0mname\u001b[0m\u001b[0;34m)\u001b[0m\u001b[0;34m(\u001b[0m\u001b[0;34m*\u001b[0m\u001b[0margs\u001b[0m\u001b[0;34m,\u001b[0m \u001b[0;34m**\u001b[0m\u001b[0mkwargs\u001b[0m\u001b[0;34m)\u001b[0m\u001b[0;34m\u001b[0m\u001b[0m\n\u001b[0m\u001b[1;32m    151\u001b[0m     \u001b[0;32mreturn\u001b[0m \u001b[0mdo\u001b[0m\u001b[0;34m\u001b[0m\u001b[0m\n\u001b[1;32m    152\u001b[0m \u001b[0;34m\u001b[0m\u001b[0m\n",
        "\u001b[0;32m/usr/local/manual/anaconda/lib/python2.7/site-packages/sqlalchemy/orm/session.pyc\u001b[0m in \u001b[0;36mexecute\u001b[0;34m(self, clause, params, mapper, bind, **kw)\u001b[0m\n\u001b[1;32m    989\u001b[0m \u001b[0;34m\u001b[0m\u001b[0m\n\u001b[1;32m    990\u001b[0m         return self._connection_for_bind(\n\u001b[0;32m--> 991\u001b[0;31m             bind, close_with_result=True).execute(clause, params or {})\n\u001b[0m\u001b[1;32m    992\u001b[0m \u001b[0;34m\u001b[0m\u001b[0m\n\u001b[1;32m    993\u001b[0m     \u001b[0;32mdef\u001b[0m \u001b[0mscalar\u001b[0m\u001b[0;34m(\u001b[0m\u001b[0mself\u001b[0m\u001b[0;34m,\u001b[0m \u001b[0mclause\u001b[0m\u001b[0;34m,\u001b[0m \u001b[0mparams\u001b[0m\u001b[0;34m=\u001b[0m\u001b[0mNone\u001b[0m\u001b[0;34m,\u001b[0m \u001b[0mmapper\u001b[0m\u001b[0;34m=\u001b[0m\u001b[0mNone\u001b[0m\u001b[0;34m,\u001b[0m \u001b[0mbind\u001b[0m\u001b[0;34m=\u001b[0m\u001b[0mNone\u001b[0m\u001b[0;34m,\u001b[0m \u001b[0;34m**\u001b[0m\u001b[0mkw\u001b[0m\u001b[0;34m)\u001b[0m\u001b[0;34m:\u001b[0m\u001b[0;34m\u001b[0m\u001b[0m\n",
        "\u001b[0;32m/usr/local/manual/anaconda/lib/python2.7/site-packages/sqlalchemy/orm/session.pyc\u001b[0m in \u001b[0;36m_connection_for_bind\u001b[0;34m(self, engine, **kwargs)\u001b[0m\n\u001b[1;32m    856\u001b[0m     \u001b[0;32mdef\u001b[0m \u001b[0m_connection_for_bind\u001b[0m\u001b[0;34m(\u001b[0m\u001b[0mself\u001b[0m\u001b[0;34m,\u001b[0m \u001b[0mengine\u001b[0m\u001b[0;34m,\u001b[0m \u001b[0;34m**\u001b[0m\u001b[0mkwargs\u001b[0m\u001b[0;34m)\u001b[0m\u001b[0;34m:\u001b[0m\u001b[0;34m\u001b[0m\u001b[0m\n\u001b[1;32m    857\u001b[0m         \u001b[0;32mif\u001b[0m \u001b[0mself\u001b[0m\u001b[0;34m.\u001b[0m\u001b[0mtransaction\u001b[0m \u001b[0;32mis\u001b[0m \u001b[0;32mnot\u001b[0m \u001b[0mNone\u001b[0m\u001b[0;34m:\u001b[0m\u001b[0;34m\u001b[0m\u001b[0m\n\u001b[0;32m--> 858\u001b[0;31m             \u001b[0;32mreturn\u001b[0m \u001b[0mself\u001b[0m\u001b[0;34m.\u001b[0m\u001b[0mtransaction\u001b[0m\u001b[0;34m.\u001b[0m\u001b[0m_connection_for_bind\u001b[0m\u001b[0;34m(\u001b[0m\u001b[0mengine\u001b[0m\u001b[0;34m)\u001b[0m\u001b[0;34m\u001b[0m\u001b[0m\n\u001b[0m\u001b[1;32m    859\u001b[0m         \u001b[0;32melse\u001b[0m\u001b[0;34m:\u001b[0m\u001b[0;34m\u001b[0m\u001b[0m\n\u001b[1;32m    860\u001b[0m             \u001b[0;32mreturn\u001b[0m \u001b[0mengine\u001b[0m\u001b[0;34m.\u001b[0m\u001b[0mcontextual_connect\u001b[0m\u001b[0;34m(\u001b[0m\u001b[0;34m**\u001b[0m\u001b[0mkwargs\u001b[0m\u001b[0;34m)\u001b[0m\u001b[0;34m\u001b[0m\u001b[0m\n",
        "\u001b[0;32m/usr/local/manual/anaconda/lib/python2.7/site-packages/sqlalchemy/orm/session.pyc\u001b[0m in \u001b[0;36m_connection_for_bind\u001b[0;34m(self, bind)\u001b[0m\n\u001b[1;32m    320\u001b[0m                         \"given Connection's Engine\")\n\u001b[1;32m    321\u001b[0m             \u001b[0;32melse\u001b[0m\u001b[0;34m:\u001b[0m\u001b[0;34m\u001b[0m\u001b[0m\n\u001b[0;32m--> 322\u001b[0;31m                 \u001b[0mconn\u001b[0m \u001b[0;34m=\u001b[0m \u001b[0mbind\u001b[0m\u001b[0;34m.\u001b[0m\u001b[0mcontextual_connect\u001b[0m\u001b[0;34m(\u001b[0m\u001b[0;34m)\u001b[0m\u001b[0;34m\u001b[0m\u001b[0m\n\u001b[0m\u001b[1;32m    323\u001b[0m \u001b[0;34m\u001b[0m\u001b[0m\n\u001b[1;32m    324\u001b[0m         \u001b[0;32mif\u001b[0m \u001b[0mself\u001b[0m\u001b[0;34m.\u001b[0m\u001b[0msession\u001b[0m\u001b[0;34m.\u001b[0m\u001b[0mtwophase\u001b[0m \u001b[0;32mand\u001b[0m \u001b[0mself\u001b[0m\u001b[0;34m.\u001b[0m\u001b[0m_parent\u001b[0m \u001b[0;32mis\u001b[0m \u001b[0mNone\u001b[0m\u001b[0;34m:\u001b[0m\u001b[0;34m\u001b[0m\u001b[0m\n",
        "\u001b[0;32m/usr/local/manual/anaconda/lib/python2.7/site-packages/sqlalchemy/engine/base.pyc\u001b[0m in \u001b[0;36mcontextual_connect\u001b[0;34m(self, close_with_result, **kwargs)\u001b[0m\n\u001b[1;32m   1797\u001b[0m \u001b[0;34m\u001b[0m\u001b[0m\n\u001b[1;32m   1798\u001b[0m         return self._connection_cls(self,\n\u001b[0;32m-> 1799\u001b[0;31m                                     \u001b[0mself\u001b[0m\u001b[0;34m.\u001b[0m\u001b[0mpool\u001b[0m\u001b[0;34m.\u001b[0m\u001b[0mconnect\u001b[0m\u001b[0;34m(\u001b[0m\u001b[0;34m)\u001b[0m\u001b[0;34m,\u001b[0m\u001b[0;34m\u001b[0m\u001b[0m\n\u001b[0m\u001b[1;32m   1800\u001b[0m                                     \u001b[0mclose_with_result\u001b[0m\u001b[0;34m=\u001b[0m\u001b[0mclose_with_result\u001b[0m\u001b[0;34m,\u001b[0m\u001b[0;34m\u001b[0m\u001b[0m\n\u001b[1;32m   1801\u001b[0m                                     **kwargs)\n",
        "\u001b[0;32m/usr/local/manual/anaconda/lib/python2.7/site-packages/sqlalchemy/pool.pyc\u001b[0m in \u001b[0;36mconnect\u001b[0;34m(self)\u001b[0m\n\u001b[1;32m    336\u001b[0m         \"\"\"\n\u001b[1;32m    337\u001b[0m         \u001b[0;32mif\u001b[0m \u001b[0;32mnot\u001b[0m \u001b[0mself\u001b[0m\u001b[0;34m.\u001b[0m\u001b[0m_use_threadlocal\u001b[0m\u001b[0;34m:\u001b[0m\u001b[0;34m\u001b[0m\u001b[0m\n\u001b[0;32m--> 338\u001b[0;31m             \u001b[0;32mreturn\u001b[0m \u001b[0m_ConnectionFairy\u001b[0m\u001b[0;34m.\u001b[0m\u001b[0m_checkout\u001b[0m\u001b[0;34m(\u001b[0m\u001b[0mself\u001b[0m\u001b[0;34m)\u001b[0m\u001b[0;34m\u001b[0m\u001b[0m\n\u001b[0m\u001b[1;32m    339\u001b[0m \u001b[0;34m\u001b[0m\u001b[0m\n\u001b[1;32m    340\u001b[0m         \u001b[0;32mtry\u001b[0m\u001b[0;34m:\u001b[0m\u001b[0;34m\u001b[0m\u001b[0m\n",
        "\u001b[0;32m/usr/local/manual/anaconda/lib/python2.7/site-packages/sqlalchemy/pool.pyc\u001b[0m in \u001b[0;36m_checkout\u001b[0;34m(cls, pool, threadconns, fairy)\u001b[0m\n\u001b[1;32m    639\u001b[0m     \u001b[0;32mdef\u001b[0m \u001b[0m_checkout\u001b[0m\u001b[0;34m(\u001b[0m\u001b[0mcls\u001b[0m\u001b[0;34m,\u001b[0m \u001b[0mpool\u001b[0m\u001b[0;34m,\u001b[0m \u001b[0mthreadconns\u001b[0m\u001b[0;34m=\u001b[0m\u001b[0mNone\u001b[0m\u001b[0;34m,\u001b[0m \u001b[0mfairy\u001b[0m\u001b[0;34m=\u001b[0m\u001b[0mNone\u001b[0m\u001b[0;34m)\u001b[0m\u001b[0;34m:\u001b[0m\u001b[0;34m\u001b[0m\u001b[0m\n\u001b[1;32m    640\u001b[0m         \u001b[0;32mif\u001b[0m \u001b[0;32mnot\u001b[0m \u001b[0mfairy\u001b[0m\u001b[0;34m:\u001b[0m\u001b[0;34m\u001b[0m\u001b[0m\n\u001b[0;32m--> 641\u001b[0;31m             \u001b[0mfairy\u001b[0m \u001b[0;34m=\u001b[0m \u001b[0m_ConnectionRecord\u001b[0m\u001b[0;34m.\u001b[0m\u001b[0mcheckout\u001b[0m\u001b[0;34m(\u001b[0m\u001b[0mpool\u001b[0m\u001b[0;34m)\u001b[0m\u001b[0;34m\u001b[0m\u001b[0m\n\u001b[0m\u001b[1;32m    642\u001b[0m \u001b[0;34m\u001b[0m\u001b[0m\n\u001b[1;32m    643\u001b[0m             \u001b[0mfairy\u001b[0m\u001b[0;34m.\u001b[0m\u001b[0m_pool\u001b[0m \u001b[0;34m=\u001b[0m \u001b[0mpool\u001b[0m\u001b[0;34m\u001b[0m\u001b[0m\n",
        "\u001b[0;32m/usr/local/manual/anaconda/lib/python2.7/site-packages/sqlalchemy/pool.pyc\u001b[0m in \u001b[0;36mcheckout\u001b[0;34m(cls, pool)\u001b[0m\n\u001b[1;32m    438\u001b[0m     \u001b[0;34m@\u001b[0m\u001b[0mclassmethod\u001b[0m\u001b[0;34m\u001b[0m\u001b[0m\n\u001b[1;32m    439\u001b[0m     \u001b[0;32mdef\u001b[0m \u001b[0mcheckout\u001b[0m\u001b[0;34m(\u001b[0m\u001b[0mcls\u001b[0m\u001b[0;34m,\u001b[0m \u001b[0mpool\u001b[0m\u001b[0;34m)\u001b[0m\u001b[0;34m:\u001b[0m\u001b[0;34m\u001b[0m\u001b[0m\n\u001b[0;32m--> 440\u001b[0;31m         \u001b[0mrec\u001b[0m \u001b[0;34m=\u001b[0m \u001b[0mpool\u001b[0m\u001b[0;34m.\u001b[0m\u001b[0m_do_get\u001b[0m\u001b[0;34m(\u001b[0m\u001b[0;34m)\u001b[0m\u001b[0;34m\u001b[0m\u001b[0m\n\u001b[0m\u001b[1;32m    441\u001b[0m         \u001b[0;32mtry\u001b[0m\u001b[0;34m:\u001b[0m\u001b[0;34m\u001b[0m\u001b[0m\n\u001b[1;32m    442\u001b[0m             \u001b[0mdbapi_connection\u001b[0m \u001b[0;34m=\u001b[0m \u001b[0mrec\u001b[0m\u001b[0;34m.\u001b[0m\u001b[0mget_connection\u001b[0m\u001b[0;34m(\u001b[0m\u001b[0;34m)\u001b[0m\u001b[0;34m\u001b[0m\u001b[0m\n",
        "\u001b[0;32m/usr/local/manual/anaconda/lib/python2.7/site-packages/sqlalchemy/pool.pyc\u001b[0m in \u001b[0;36m_do_get\u001b[0;34m(self)\u001b[0m\n\u001b[1;32m   1053\u001b[0m \u001b[0;34m\u001b[0m\u001b[0m\n\u001b[1;32m   1054\u001b[0m     \u001b[0;32mdef\u001b[0m \u001b[0m_do_get\u001b[0m\u001b[0;34m(\u001b[0m\u001b[0mself\u001b[0m\u001b[0;34m)\u001b[0m\u001b[0;34m:\u001b[0m\u001b[0;34m\u001b[0m\u001b[0m\n\u001b[0;32m-> 1055\u001b[0;31m         \u001b[0;32mreturn\u001b[0m \u001b[0mself\u001b[0m\u001b[0;34m.\u001b[0m\u001b[0m_create_connection\u001b[0m\u001b[0;34m(\u001b[0m\u001b[0;34m)\u001b[0m\u001b[0;34m\u001b[0m\u001b[0m\n\u001b[0m\u001b[1;32m   1056\u001b[0m \u001b[0;34m\u001b[0m\u001b[0m\n\u001b[1;32m   1057\u001b[0m     \u001b[0;32mdef\u001b[0m \u001b[0mrecreate\u001b[0m\u001b[0;34m(\u001b[0m\u001b[0mself\u001b[0m\u001b[0;34m)\u001b[0m\u001b[0;34m:\u001b[0m\u001b[0;34m\u001b[0m\u001b[0m\n",
        "\u001b[0;32m/usr/local/manual/anaconda/lib/python2.7/site-packages/sqlalchemy/pool.pyc\u001b[0m in \u001b[0;36m_create_connection\u001b[0;34m(self)\u001b[0m\n\u001b[1;32m    283\u001b[0m         \u001b[0;34m\"\"\"Called by subclasses to create a new ConnectionRecord.\"\"\"\u001b[0m\u001b[0;34m\u001b[0m\u001b[0m\n\u001b[1;32m    284\u001b[0m \u001b[0;34m\u001b[0m\u001b[0m\n\u001b[0;32m--> 285\u001b[0;31m         \u001b[0;32mreturn\u001b[0m \u001b[0m_ConnectionRecord\u001b[0m\u001b[0;34m(\u001b[0m\u001b[0mself\u001b[0m\u001b[0;34m)\u001b[0m\u001b[0;34m\u001b[0m\u001b[0m\n\u001b[0m\u001b[1;32m    286\u001b[0m \u001b[0;34m\u001b[0m\u001b[0m\n\u001b[1;32m    287\u001b[0m     \u001b[0;32mdef\u001b[0m \u001b[0m_invalidate\u001b[0m\u001b[0;34m(\u001b[0m\u001b[0mself\u001b[0m\u001b[0;34m,\u001b[0m \u001b[0mconnection\u001b[0m\u001b[0;34m,\u001b[0m \u001b[0mexception\u001b[0m\u001b[0;34m=\u001b[0m\u001b[0mNone\u001b[0m\u001b[0;34m)\u001b[0m\u001b[0;34m:\u001b[0m\u001b[0;34m\u001b[0m\u001b[0m\n",
        "\u001b[0;32m/usr/local/manual/anaconda/lib/python2.7/site-packages/sqlalchemy/pool.pyc\u001b[0m in \u001b[0;36m__init__\u001b[0;34m(self, pool)\u001b[0m\n\u001b[1;32m    409\u001b[0m     \u001b[0;32mdef\u001b[0m \u001b[0m__init__\u001b[0m\u001b[0;34m(\u001b[0m\u001b[0mself\u001b[0m\u001b[0;34m,\u001b[0m \u001b[0mpool\u001b[0m\u001b[0;34m)\u001b[0m\u001b[0;34m:\u001b[0m\u001b[0;34m\u001b[0m\u001b[0m\n\u001b[1;32m    410\u001b[0m         \u001b[0mself\u001b[0m\u001b[0;34m.\u001b[0m\u001b[0m__pool\u001b[0m \u001b[0;34m=\u001b[0m \u001b[0mpool\u001b[0m\u001b[0;34m\u001b[0m\u001b[0m\n\u001b[0;32m--> 411\u001b[0;31m         \u001b[0mself\u001b[0m\u001b[0;34m.\u001b[0m\u001b[0mconnection\u001b[0m \u001b[0;34m=\u001b[0m \u001b[0mself\u001b[0m\u001b[0;34m.\u001b[0m\u001b[0m__connect\u001b[0m\u001b[0;34m(\u001b[0m\u001b[0;34m)\u001b[0m\u001b[0;34m\u001b[0m\u001b[0m\n\u001b[0m\u001b[1;32m    412\u001b[0m         \u001b[0mself\u001b[0m\u001b[0;34m.\u001b[0m\u001b[0mfinalize_callback\u001b[0m \u001b[0;34m=\u001b[0m \u001b[0mdeque\u001b[0m\u001b[0;34m(\u001b[0m\u001b[0;34m)\u001b[0m\u001b[0;34m\u001b[0m\u001b[0m\n\u001b[1;32m    413\u001b[0m \u001b[0;34m\u001b[0m\u001b[0m\n",
        "\u001b[0;32m/usr/local/manual/anaconda/lib/python2.7/site-packages/sqlalchemy/pool.pyc\u001b[0m in \u001b[0;36m__connect\u001b[0;34m(self)\u001b[0m\n\u001b[1;32m    535\u001b[0m         \u001b[0;32mtry\u001b[0m\u001b[0;34m:\u001b[0m\u001b[0;34m\u001b[0m\u001b[0m\n\u001b[1;32m    536\u001b[0m             \u001b[0mself\u001b[0m\u001b[0;34m.\u001b[0m\u001b[0mstarttime\u001b[0m \u001b[0;34m=\u001b[0m \u001b[0mtime\u001b[0m\u001b[0;34m.\u001b[0m\u001b[0mtime\u001b[0m\u001b[0;34m(\u001b[0m\u001b[0;34m)\u001b[0m\u001b[0;34m\u001b[0m\u001b[0m\n\u001b[0;32m--> 537\u001b[0;31m             \u001b[0mconnection\u001b[0m \u001b[0;34m=\u001b[0m \u001b[0mself\u001b[0m\u001b[0;34m.\u001b[0m\u001b[0m__pool\u001b[0m\u001b[0;34m.\u001b[0m\u001b[0m_creator\u001b[0m\u001b[0;34m(\u001b[0m\u001b[0;34m)\u001b[0m\u001b[0;34m\u001b[0m\u001b[0m\n\u001b[0m\u001b[1;32m    538\u001b[0m             \u001b[0mself\u001b[0m\u001b[0;34m.\u001b[0m\u001b[0m__pool\u001b[0m\u001b[0;34m.\u001b[0m\u001b[0mlogger\u001b[0m\u001b[0;34m.\u001b[0m\u001b[0mdebug\u001b[0m\u001b[0;34m(\u001b[0m\u001b[0;34m\"Created new connection %r\"\u001b[0m\u001b[0;34m,\u001b[0m \u001b[0mconnection\u001b[0m\u001b[0;34m)\u001b[0m\u001b[0;34m\u001b[0m\u001b[0m\n\u001b[1;32m    539\u001b[0m             \u001b[0;32mreturn\u001b[0m \u001b[0mconnection\u001b[0m\u001b[0;34m\u001b[0m\u001b[0m\n",
        "\u001b[0;32m/usr/local/manual/anaconda/lib/python2.7/site-packages/sqlalchemy/engine/strategies.pyc\u001b[0m in \u001b[0;36mconnect\u001b[0;34m()\u001b[0m\n\u001b[1;32m     94\u001b[0m                         exc.DBAPIError.instance(\n\u001b[1;32m     95\u001b[0m                             \u001b[0mNone\u001b[0m\u001b[0;34m,\u001b[0m \u001b[0mNone\u001b[0m\u001b[0;34m,\u001b[0m \u001b[0me\u001b[0m\u001b[0;34m,\u001b[0m \u001b[0mdialect\u001b[0m\u001b[0;34m.\u001b[0m\u001b[0mdbapi\u001b[0m\u001b[0;34m.\u001b[0m\u001b[0mError\u001b[0m\u001b[0;34m,\u001b[0m\u001b[0;34m\u001b[0m\u001b[0m\n\u001b[0;32m---> 96\u001b[0;31m                             \u001b[0mconnection_invalidated\u001b[0m\u001b[0;34m=\u001b[0m\u001b[0minvalidated\u001b[0m\u001b[0;34m\u001b[0m\u001b[0m\n\u001b[0m\u001b[1;32m     97\u001b[0m                         )\n\u001b[1;32m     98\u001b[0m                     )\n",
        "\u001b[0;32m/usr/local/manual/anaconda/lib/python2.7/site-packages/sqlalchemy/util/compat.pyc\u001b[0m in \u001b[0;36mraise_from_cause\u001b[0;34m(exception, exc_info)\u001b[0m\n\u001b[1;32m    197\u001b[0m             \u001b[0mexc_info\u001b[0m \u001b[0;34m=\u001b[0m \u001b[0msys\u001b[0m\u001b[0;34m.\u001b[0m\u001b[0mexc_info\u001b[0m\u001b[0;34m(\u001b[0m\u001b[0;34m)\u001b[0m\u001b[0;34m\u001b[0m\u001b[0m\n\u001b[1;32m    198\u001b[0m         \u001b[0mexc_type\u001b[0m\u001b[0;34m,\u001b[0m \u001b[0mexc_value\u001b[0m\u001b[0;34m,\u001b[0m \u001b[0mexc_tb\u001b[0m \u001b[0;34m=\u001b[0m \u001b[0mexc_info\u001b[0m\u001b[0;34m\u001b[0m\u001b[0m\n\u001b[0;32m--> 199\u001b[0;31m         \u001b[0mreraise\u001b[0m\u001b[0;34m(\u001b[0m\u001b[0mtype\u001b[0m\u001b[0;34m(\u001b[0m\u001b[0mexception\u001b[0m\u001b[0;34m)\u001b[0m\u001b[0;34m,\u001b[0m \u001b[0mexception\u001b[0m\u001b[0;34m,\u001b[0m \u001b[0mtb\u001b[0m\u001b[0;34m=\u001b[0m\u001b[0mexc_tb\u001b[0m\u001b[0;34m)\u001b[0m\u001b[0;34m\u001b[0m\u001b[0m\n\u001b[0m\u001b[1;32m    200\u001b[0m \u001b[0;34m\u001b[0m\u001b[0m\n\u001b[1;32m    201\u001b[0m \u001b[0;32mif\u001b[0m \u001b[0mpy3k\u001b[0m\u001b[0;34m:\u001b[0m\u001b[0;34m\u001b[0m\u001b[0m\n",
        "\u001b[0;32m/usr/local/manual/anaconda/lib/python2.7/site-packages/sqlalchemy/engine/strategies.pyc\u001b[0m in \u001b[0;36mconnect\u001b[0;34m()\u001b[0m\n\u001b[1;32m     88\u001b[0m             \u001b[0;32mdef\u001b[0m \u001b[0mconnect\u001b[0m\u001b[0;34m(\u001b[0m\u001b[0;34m)\u001b[0m\u001b[0;34m:\u001b[0m\u001b[0;34m\u001b[0m\u001b[0m\n\u001b[1;32m     89\u001b[0m                 \u001b[0;32mtry\u001b[0m\u001b[0;34m:\u001b[0m\u001b[0;34m\u001b[0m\u001b[0m\n\u001b[0;32m---> 90\u001b[0;31m                     \u001b[0;32mreturn\u001b[0m \u001b[0mdialect\u001b[0m\u001b[0;34m.\u001b[0m\u001b[0mconnect\u001b[0m\u001b[0;34m(\u001b[0m\u001b[0;34m*\u001b[0m\u001b[0mcargs\u001b[0m\u001b[0;34m,\u001b[0m \u001b[0;34m**\u001b[0m\u001b[0mcparams\u001b[0m\u001b[0;34m)\u001b[0m\u001b[0;34m\u001b[0m\u001b[0m\n\u001b[0m\u001b[1;32m     91\u001b[0m                 \u001b[0;32mexcept\u001b[0m \u001b[0mdialect\u001b[0m\u001b[0;34m.\u001b[0m\u001b[0mdbapi\u001b[0m\u001b[0;34m.\u001b[0m\u001b[0mError\u001b[0m \u001b[0;32mas\u001b[0m \u001b[0me\u001b[0m\u001b[0;34m:\u001b[0m\u001b[0;34m\u001b[0m\u001b[0m\n\u001b[1;32m     92\u001b[0m                     \u001b[0minvalidated\u001b[0m \u001b[0;34m=\u001b[0m \u001b[0mdialect\u001b[0m\u001b[0;34m.\u001b[0m\u001b[0mis_disconnect\u001b[0m\u001b[0;34m(\u001b[0m\u001b[0me\u001b[0m\u001b[0;34m,\u001b[0m \u001b[0mNone\u001b[0m\u001b[0;34m,\u001b[0m \u001b[0mNone\u001b[0m\u001b[0;34m)\u001b[0m\u001b[0;34m\u001b[0m\u001b[0m\n",
        "\u001b[0;32m/usr/local/manual/anaconda/lib/python2.7/site-packages/sqlalchemy/engine/default.pyc\u001b[0m in \u001b[0;36mconnect\u001b[0;34m(self, *cargs, **cparams)\u001b[0m\n\u001b[1;32m    375\u001b[0m \u001b[0;34m\u001b[0m\u001b[0m\n\u001b[1;32m    376\u001b[0m     \u001b[0;32mdef\u001b[0m \u001b[0mconnect\u001b[0m\u001b[0;34m(\u001b[0m\u001b[0mself\u001b[0m\u001b[0;34m,\u001b[0m \u001b[0;34m*\u001b[0m\u001b[0mcargs\u001b[0m\u001b[0;34m,\u001b[0m \u001b[0;34m**\u001b[0m\u001b[0mcparams\u001b[0m\u001b[0;34m)\u001b[0m\u001b[0;34m:\u001b[0m\u001b[0;34m\u001b[0m\u001b[0m\n\u001b[0;32m--> 377\u001b[0;31m         \u001b[0;32mreturn\u001b[0m \u001b[0mself\u001b[0m\u001b[0;34m.\u001b[0m\u001b[0mdbapi\u001b[0m\u001b[0;34m.\u001b[0m\u001b[0mconnect\u001b[0m\u001b[0;34m(\u001b[0m\u001b[0;34m*\u001b[0m\u001b[0mcargs\u001b[0m\u001b[0;34m,\u001b[0m \u001b[0;34m**\u001b[0m\u001b[0mcparams\u001b[0m\u001b[0;34m)\u001b[0m\u001b[0;34m\u001b[0m\u001b[0m\n\u001b[0m\u001b[1;32m    378\u001b[0m \u001b[0;34m\u001b[0m\u001b[0m\n\u001b[1;32m    379\u001b[0m     \u001b[0;32mdef\u001b[0m \u001b[0mcreate_connect_args\u001b[0m\u001b[0;34m(\u001b[0m\u001b[0mself\u001b[0m\u001b[0;34m,\u001b[0m \u001b[0murl\u001b[0m\u001b[0;34m)\u001b[0m\u001b[0;34m:\u001b[0m\u001b[0;34m\u001b[0m\u001b[0m\n",
        "\u001b[0;31mOperationalError\u001b[0m: (OperationalError) unable to open database file None None"
       ]
      }
     ],
     "prompt_number": 36
    },
    {
     "cell_type": "code",
     "collapsed": false,
     "input": [
      "# How many pointings do we have? \n",
      "print len(obsMetaDataResults)"
     ],
     "language": "python",
     "metadata": {},
     "outputs": [
      {
       "output_type": "stream",
       "stream": "stdout",
       "text": [
        "15\n"
       ]
      }
     ],
     "prompt_number": 25
    },
    {
     "cell_type": "markdown",
     "metadata": {},
     "source": [
      "What are the RA, DEC values of the pointings? And how do they compare with the positions of galaxies we created in the database?"
     ]
    },
    {
     "cell_type": "code",
     "collapsed": false,
     "input": [
      "def coords(x): \n",
      "    return x.summary['unrefractedRA'], x.summary['unrefractedDec']"
     ],
     "language": "python",
     "metadata": {},
     "outputs": [],
     "prompt_number": 26
    },
    {
     "cell_type": "code",
     "collapsed": false,
     "input": [
      "v = zip(*map(coords, obsMetaDataResults))"
     ],
     "language": "python",
     "metadata": {},
     "outputs": [],
     "prompt_number": 27
    },
    {
     "cell_type": "code",
     "collapsed": false,
     "input": [
      "plt.plot(v[0], v[1], 'ko', markersize=4)\n",
      "plt.plot(vals[0][:1000], vals[1][:1000], '.')\n",
      "plt.axvline(2. * np.pi, color='k', lw=2.)\n",
      "plt.axvline(0., color='k', lw=2.)\n",
      "plt.axhline(np.pi, color='k', lw=2.)\n",
      "plt.axhline(-np.pi, color='k', lw=2.)\n",
      "plt.plot(v[0], v[1], 'ko', markersize=8)"
     ],
     "language": "python",
     "metadata": {},
     "outputs": [
      {
       "metadata": {},
       "output_type": "pyout",
       "prompt_number": 28,
       "text": [
        "[<matplotlib.lines.Line2D at 0x11c1dd610>]"
       ]
      },
      {
       "metadata": {},
       "output_type": "display_data",
       "png": "[encoded data removed]",
       "text": [
        "<matplotlib.figure.Figure at 0x11f9e2310>"
       ]
      }
     ],
     "prompt_number": 28
    },
    {
     "cell_type": "markdown",
     "metadata": {},
     "source": [
      "The few black points represent the opsim pointings, the blue points represent the locations of galaxies we created. This shows that there is overlap in space."
     ]
    },
    {
     "cell_type": "markdown",
     "metadata": {},
     "source": [
      "We now want to write the light curves to a database. The way this function actually works is it creates the instance catalogs \n",
      "for each of the obs_metadata points, writes them to disk using the `InstanceCatalog.write_catalog` method, reads the files from disk (right now the filenames are chosen in the same order as obs_metadata objects), and writes them to a sqlite database."
     ]
    },
    {
     "cell_type": "code",
     "collapsed": false,
     "input": [
      "if not os.path.exists('data/NewLightCurves'): \n",
      "    os.makedirs('data/NewLightCurves')"
     ],
     "language": "python",
     "metadata": {},
     "outputs": [],
     "prompt_number": 29
    },
    {
     "cell_type": "heading",
     "level": 3,
     "metadata": {},
     "source": [
      "The Supernova Catalog"
     ]
    },
    {
     "cell_type": "code",
     "collapsed": false,
     "input": [
      "catalog = sncat.SNIaCatalog(db_obj=galDB, obs_metadata=obsMetaDataResults[0], column_outputs=['flux_u', 'flux_g', 'flux_r', 'flux_i', 'flux_z', 'flux_y', 'mag_u', 'mag_g', 'mag_r', 'mag_i', 'mag_z', 'mag_y'])"
     ],
     "language": "python",
     "metadata": {},
     "outputs": [],
     "prompt_number": 30
    },
    {
     "cell_type": "code",
     "collapsed": false,
     "input": [
      "#Set some "
     ],
     "language": "python",
     "metadata": {},
     "outputs": [],
     "prompt_number": 31
    },
    {
     "cell_type": "code",
     "collapsed": false,
     "input": [
      "catalog.midSurveyTime = 49350.\n",
      "catalog.averageRate = 1."
     ],
     "language": "python",
     "metadata": {},
     "outputs": [],
     "prompt_number": 32
    },
    {
     "cell_type": "code",
     "collapsed": false,
     "input": [
      "catalog.write_catalog('tmp.dat')"
     ],
     "language": "python",
     "metadata": {},
     "outputs": [],
     "prompt_number": 33
    },
    {
     "cell_type": "code",
     "collapsed": false,
     "input": [
      "!cat tmp.dat"
     ],
     "language": "python",
     "metadata": {},
     "outputs": [
      {
       "output_type": "stream",
       "stream": "stdout",
       "text": [
        "#snid, snra, sndec, z, t0, c, x1, x0, flux_u, flux_g, flux_r, flux_i, flux_z, flux_y, mag_u, mag_g, mag_r, mag_i, mag_z, mag_y\r\n",
        "1194063, 9.807749e-02, -1.279044e+00, 0.3578, 49350.2696, -4.780265e-02, -1.5735, 2.046693e-05, 0.0000, 0.0000, 0.0000, 0.0000, 0.0000, 0.0000, 22.6355, 22.6355, 22.6355, 22.6355, 22.6355, 22.6355\r\n",
        "1202620, 9.822037e-02, -1.279374e+00, 0.3552, 49350.0770, -1.076733e-01, 0.0559, 3.298252e-05, 0.0000, 0.0000, 0.0000, 0.0000, 0.0000, 0.0000, 22.1895, 22.1895, 22.1895, 22.1895, 22.1895, 22.1895\r\n",
        "1456605, 9.746749e-02, -1.279057e+00, 0.7285, 49350.3101, -5.548099e-02, -1.0822, 5.414297e-06, 0.0000, 0.0000, 0.0000, 0.0000, 0.0000, 0.0000, 23.5201, 23.5201, 23.5201, 23.5201, 23.5201, 23.5201\r\n",
        "1812900, 9.864307e-02, -1.279292e+00, 0.2086, 49350.0594, 4.177646e-02, 0.3476, 9.584063e-05, 0.0000, 0.0000, 0.0000, 0.0000, 0.0000, 0.0000, 21.4403, 21.4403, 21.4403, 21.4403, 21.4403, 21.4403\r\n",
        "1956535, 9.875172e-02, -1.279203e+00, 0.1810, 49350.4672, 1.461182e-01, -1.5249, 9.839733e-05, 0.0000, 0.0000, 0.0000, 0.0000, 0.0000, 0.0000, 21.4218, 21.4218, 21.4218, 21.4218, 21.4218, 21.4218\r\n",
        "1972436, 9.750733e-02, -1.279303e+00, 0.4644, 49349.9913, 7.642282e-02, 0.4876, 1.356074e-05, 0.0000, 0.0000, 0.0000, 0.0000, 0.0000, 0.0000, 22.5538, 22.5538, 22.5538, 22.5538, 22.5538, 22.5538\r\n"
       ]
      }
     ],
     "prompt_number": 34
    },
    {
     "cell_type": "code",
     "collapsed": false,
     "input": [
      "lu.writeCatalogtoDB(dbfile='data/sncat_real.db', dbtable='mysncat', ascii_root='data/SNIa_real_', galdb=galDB, \n",
      "                    obsMetaDataList=obsMetaDataResults, averageRate=1., midSurveyTime=49350.)\n",
      "    "
     ],
     "language": "python",
     "metadata": {},
     "outputs": [
      {
       "output_type": "stream",
       "stream": "stdout",
       "text": [
        "deleting previous database\n",
        "=====================================\n",
        "0 <type 'numpy.string_'> 49362.070248\n",
        "=====================================\n",
        "1.0 49350.0\n",
        "data/SNIa_real_0.txt"
       ]
      },
      {
       "output_type": "stream",
       "stream": "stdout",
       "text": [
        " size of d (6, 20)\n",
        "obshist0 49362.070248 [  1.19406300e+06   9.80774900e-02  -1.27904400e+00   3.57800000e-01\n",
        "   4.93502696e+04  -4.78026500e-02  -1.57350000e+00   2.04669300e-05\n",
        "   0.00000000e+00   0.00000000e+00   0.00000000e+00   0.00000000e+00\n",
        "   0.00000000e+00   0.00000000e+00   2.26355000e+01   2.26355000e+01\n",
        "   2.26355000e+01   2.26355000e+01   2.26355000e+01   2.26355000e+01]\n",
        "obshist1 49362.070248 [  1.20262000e+06   9.82203700e-02  -1.27937400e+00   3.55200000e-01\n",
        "   4.93500770e+04  -1.07673300e-01   5.59000000e-02   3.29825200e-05\n",
        "   0.00000000e+00   0.00000000e+00   0.00000000e+00   0.00000000e+00\n",
        "   0.00000000e+00   0.00000000e+00   2.21895000e+01   2.21895000e+01\n",
        "   2.21895000e+01   2.21895000e+01   2.21895000e+01   2.21895000e+01]\n",
        "obshist2 49362.070248 [  1.45660500e+06   9.74674900e-02  -1.27905700e+00   7.28500000e-01\n",
        "   4.93503101e+04  -5.54809900e-02  -1.08220000e+00   5.41429700e-06\n",
        "   0.00000000e+00   0.00000000e+00   0.00000000e+00   0.00000000e+00\n",
        "   0.00000000e+00   0.00000000e+00   2.35201000e+01   2.35201000e+01\n",
        "   2.35201000e+01   2.35201000e+01   2.35201000e+01   2.35201000e+01]\n",
        "obshist3 49362.070248 [  1.81290000e+06   9.86430700e-02  -1.27929200e+00   2.08600000e-01\n",
        "   4.93500594e+04   4.17764600e-02   3.47600000e-01   9.58406300e-05\n",
        "   0.00000000e+00   0.00000000e+00   0.00000000e+00   0.00000000e+00\n",
        "   0.00000000e+00   0.00000000e+00   2.14403000e+01   2.14403000e+01\n",
        "   2.14403000e+01   2.14403000e+01   2.14403000e+01   2.14403000e+01]\n",
        "obshist4 49362.070248 [  1.95653500e+06   9.87517200e-02  -1.27920300e+00   1.81000000e-01\n",
        "   4.93504672e+04   1.46118200e-01  -1.52490000e+00   9.83973300e-05\n",
        "   0.00000000e+00   0.00000000e+00   0.00000000e+00   0.00000000e+00\n",
        "   0.00000000e+00   0.00000000e+00   2.14218000e+01   2.14218000e+01\n",
        "   2.14218000e+01   2.14218000e+01   2.14218000e+01   2.14218000e+01]\n",
        "obshist5 49362.070248 [  1.97243600e+06   9.75073300e-02  -1.27930300e+00   4.64400000e-01\n",
        "   4.93499913e+04   7.64228200e-02   4.87600000e-01   1.35607400e-05\n",
        "   0.00000000e+00   0.00000000e+00   0.00000000e+00   0.00000000e+00\n",
        "   0.00000000e+00   0.00000000e+00   2.25538000e+01   2.25538000e+01\n",
        "   2.25538000e+01   2.25538000e+01   2.25538000e+01   2.25538000e+01]\n",
        "[['obshist0', 49362.070248000004, 1194063.0, 0.09807749, -1.279044, 0.3578, 49350.2696, -0.04780265, -1.5735, 2.046693e-05, 0.0, 0.0, 0.0, 0.0, 0.0, 0.0, 22.6355, 22.6355, 22.6355, 22.6355, 22.6355, 22.6355], ['obshist1', 49362.070248000004, 1202620.0, 0.09822037, -1.279374, 0.3552, 49350.077, -0.1076733, 0.0559, 3.298252e-05, 0.0, 0.0, 0.0, 0.0, 0.0, 0.0, 22.1895, 22.1895, 22.1895, 22.1895, 22.1895, 22.1895], ['obshist2', 49362.070248000004, 1456605.0, 0.09746749, -1.279057, 0.7285, 49350.3101, -0.05548099, -1.0822, 5.414297e-06, 0.0, 0.0, 0.0, 0.0, 0.0, 0.0, 23.5201, 23.5201, 23.5201, 23.5201, 23.5201, 23.5201], ['obshist3', 49362.070248000004, 1812900.0, 0.09864307, -1.279292, 0.2086, 49350.0594, 0.04177646, 0.3476, 9.584063e-05, 0.0, 0.0, 0.0, 0.0, 0.0, 0.0, 21.4403, 21.4403, 21.4403, 21.4403, 21.4403, 21.4403], ['obshist4', 49362.070248000004, 1956535.0, 0.09875172, -1.279203, 0.181, 49350.4672, 0.1461182, -1.5249, 9.839733e-05, 0.0, 0.0, 0.0, 0.0, 0.0, 0.0, 21.4218, 21.4218, 21.4218, 21.4218, 21.4218, 21.4218], ['obshist5', 49362.070248000004, 1972436.0, 0.09750733, -1.279303, 0.4644, 49349.9913, 0.07642282, 0.4876, 1.356074e-05, 0.0, 0.0, 0.0, 0.0, 0.0, 0.0, 22.5538, 22.5538, 22.5538, 22.5538, 22.5538, 22.5538]]\n",
        "=====================================\n",
        "1 <type 'numpy.string_'> 49364.115003\n",
        "=====================================\n",
        "1.0 49350.0\n",
        "data/SNIa_real_1.txt"
       ]
      },
      {
       "output_type": "stream",
       "stream": "stdout",
       "text": [
        " size of d (6, 20)\n",
        "obshist0 49364.115003 [  1.19406300e+06   9.80774900e-02  -1.27904400e+00   3.57800000e-01\n",
        "   4.93502696e+04  -4.78026500e-02  -1.57350000e+00   2.04669300e-05\n",
        "   0.00000000e+00   0.00000000e+00   0.00000000e+00   0.00000000e+00\n",
        "   0.00000000e+00   0.00000000e+00   2.27549000e+01   2.27549000e+01\n",
        "   2.27549000e+01   2.27549000e+01   2.27549000e+01   2.27549000e+01]\n",
        "obshist1 49364.115003 [  1.20262000e+06   9.82203700e-02  -1.27937400e+00   3.55200000e-01\n",
        "   4.93500770e+04  -1.07673300e-01   5.59000000e-02   3.29825200e-05\n",
        "   0.00000000e+00   0.00000000e+00   0.00000000e+00   0.00000000e+00\n",
        "   0.00000000e+00   0.00000000e+00   2.22949000e+01   2.22949000e+01\n",
        "   2.22949000e+01   2.22949000e+01   2.22949000e+01   2.22949000e+01]\n",
        "obshist2 49364.115003 [  1.45660500e+06   9.74674900e-02  -1.27905700e+00   7.28500000e-01\n",
        "   4.93503101e+04  -5.54809900e-02  -1.08220000e+00   5.41429700e-06\n",
        "   0.00000000e+00   0.00000000e+00   0.00000000e+00   0.00000000e+00\n",
        "   0.00000000e+00   0.00000000e+00   2.35860000e+01   2.35860000e+01\n",
        "   2.35860000e+01   2.35860000e+01   2.35860000e+01   2.35860000e+01]\n",
        "obshist3 49364.115003 [  1.81290000e+06   9.86430700e-02  -1.27929200e+00   2.08600000e-01\n",
        "   4.93500594e+04   4.17764600e-02   3.47600000e-01   9.58406300e-05\n",
        "   0.00000000e+00   0.00000000e+00   0.00000000e+00   0.00000000e+00\n",
        "   0.00000000e+00   0.00000000e+00   2.15579000e+01   2.15579000e+01\n",
        "   2.15579000e+01   2.15579000e+01   2.15579000e+01   2.15579000e+01]\n",
        "obshist4 49364.115003 [  1.95653500e+06   9.87517200e-02  -1.27920300e+00   1.81000000e-01\n",
        "   4.93504672e+04   1.46118200e-01  -1.52490000e+00   9.83973300e-05\n",
        "   0.00000000e+00   0.00000000e+00   0.00000000e+00   0.00000000e+00\n",
        "   0.00000000e+00   0.00000000e+00   2.14582000e+01   2.14582000e+01\n",
        "   2.14582000e+01   2.14582000e+01   2.14582000e+01   2.14582000e+01]\n",
        "obshist5 49364.115003 [  1.97243600e+06   9.75073300e-02  -1.27930300e+00   4.64400000e-01\n",
        "   4.93499913e+04   7.64228200e-02   4.87600000e-01   1.35607400e-05\n",
        "   0.00000000e+00   0.00000000e+00   0.00000000e+00   0.00000000e+00\n",
        "   0.00000000e+00   0.00000000e+00   2.26531000e+01   2.26531000e+01\n",
        "   2.26531000e+01   2.26531000e+01   2.26531000e+01   2.26531000e+01]\n",
        "[['obshist0', 49364.115002999999, 1194063.0, 0.09807749, -1.279044, 0.3578, 49350.2696, -0.04780265, -1.5735, 2.046693e-05, 0.0, 0.0, 0.0, 0.0, 0.0, 0.0, 22.7549, 22.7549, 22.7549, 22.7549, 22.7549, 22.7549], ['obshist1', 49364.115002999999, 1202620.0, 0.09822037, -1.279374, 0.3552, 49350.077, -0.1076733, 0.0559, 3.298252e-05, 0.0, 0.0, 0.0, 0.0, 0.0, 0.0, 22.2949, 22.2949, 22.2949, 22.2949, 22.2949, 22.2949], ['obshist2', 49364.115002999999, 1456605.0, 0.09746749, -1.279057, 0.7285, 49350.3101, -0.05548099, -1.0822, 5.414297e-06, 0.0, 0.0, 0.0, 0.0, 0.0, 0.0, 23.586, 23.586, 23.586, 23.586, 23.586, 23.586], ['obshist3', 49364.115002999999, 1812900.0, 0.09864307, -1.279292, 0.2086, 49350.0594, 0.04177646, 0.3476, 9.584063e-05, 0.0, 0.0, 0.0, 0.0, 0.0, 0.0, 21.5579, 21.5579, 21.5579, 21.5579, 21.5579, 21.5579], ['obshist4', 49364.115002999999, 1956535.0, 0.09875172, -1.279203, 0.181, 49350.4672, 0.1461182, -1.5249, 9.839733e-05, 0.0, 0.0, 0.0, 0.0, 0.0, 0.0, 21.4582, 21.4582, 21.4582, 21.4582, 21.4582, 21.4582], ['obshist5', 49364.115002999999, 1972436.0, 0.09750733, -1.279303, 0.4644, 49349.9913, 0.07642282, 0.4876, 1.356074e-05, 0.0, 0.0, 0.0, 0.0, 0.0, 0.0, 22.6531, 22.6531, 22.6531, 22.6531, 22.6531, 22.6531]]\n",
        "=====================================\n",
        "2 <type 'numpy.string_'> 49368.177159\n",
        "=====================================\n",
        "1.0 49350.0\n",
        "data/SNIa_real_2.txt"
       ]
      },
      {
       "output_type": "stream",
       "stream": "stdout",
       "text": [
        " size of d (6, 20)\n",
        "obshist0 49368.177159 [  1.19406300e+06   9.80774900e-02  -1.27904400e+00   3.57800000e-01\n",
        "   4.93502696e+04  -4.78026500e-02  -1.57350000e+00   2.04669300e-05\n",
        "   0.00000000e+00   0.00000000e+00   0.00000000e+00   0.00000000e+00\n",
        "   0.00000000e+00   0.00000000e+00   2.27020000e+01   2.27020000e+01\n",
        "   2.27020000e+01   2.27020000e+01   2.27020000e+01   2.27020000e+01]\n",
        "obshist1 49368.177159 [  1.20262000e+06   9.82203700e-02  -1.27937400e+00   3.55200000e-01\n",
        "   4.93500770e+04  -1.07673300e-01   5.59000000e-02   3.29825200e-05\n",
        "   0.00000000e+00   0.00000000e+00   0.00000000e+00   0.00000000e+00\n",
        "   0.00000000e+00   0.00000000e+00   2.21472000e+01   2.21472000e+01\n",
        "   2.21472000e+01   2.21472000e+01   2.21472000e+01   2.21472000e+01]\n",
        "obshist2 49368.177159 [  1.45660500e+06   9.74674900e-02  -1.27905700e+00   7.28500000e-01\n",
        "   4.93503101e+04  -5.54809900e-02  -1.08220000e+00   5.41429700e-06\n",
        "   0.00000000e+00   0.00000000e+00   0.00000000e+00   0.00000000e+00\n",
        "   0.00000000e+00   0.00000000e+00   2.39086000e+01   2.39086000e+01\n",
        "   2.39086000e+01   2.39086000e+01   2.39086000e+01   2.39086000e+01]\n",
        "obshist3 49368.177159 [  1.81290000e+06   9.86430700e-02  -1.27929200e+00   2.08600000e-01\n",
        "   4.93500594e+04   4.17764600e-02   3.47600000e-01   9.58406300e-05\n",
        "   0.00000000e+00   0.00000000e+00   0.00000000e+00   0.00000000e+00\n",
        "   0.00000000e+00   0.00000000e+00   2.11614000e+01   2.11614000e+01\n",
        "   2.11614000e+01   2.11614000e+01   2.11614000e+01   2.11614000e+01]\n",
        "obshist4 49368.177159 [  1.95653500e+06   9.87517200e-02  -1.27920300e+00   1.81000000e-01\n",
        "   4.93504672e+04   1.46118200e-01  -1.52490000e+00   9.83973300e-05\n",
        "   0.00000000e+00   0.00000000e+00   0.00000000e+00   0.00000000e+00\n",
        "   0.00000000e+00   0.00000000e+00   2.10459000e+01   2.10459000e+01\n",
        "   2.10459000e+01   2.10459000e+01   2.10459000e+01   2.10459000e+01]\n",
        "obshist5 49368.177159 [  1.97243600e+06   9.75073300e-02  -1.27930300e+00   4.64400000e-01\n",
        "   4.93499913e+04   7.64228200e-02   4.87600000e-01   1.35607400e-05\n",
        "   0.00000000e+00   0.00000000e+00   0.00000000e+00   0.00000000e+00\n",
        "   0.00000000e+00   0.00000000e+00   2.28667000e+01   2.28667000e+01\n",
        "   2.28667000e+01   2.28667000e+01   2.28667000e+01   2.28667000e+01]\n",
        "[['obshist0', 49368.177158999999, 1194063.0, 0.09807749, -1.279044, 0.3578, 49350.2696, -0.04780265, -1.5735, 2.046693e-05, 0.0, 0.0, 0.0, 0.0, 0.0, 0.0, 22.702, 22.702, 22.702, 22.702, 22.702, 22.702], ['obshist1', 49368.177158999999, 1202620.0, 0.09822037, -1.279374, 0.3552, 49350.077, -0.1076733, 0.0559, 3.298252e-05, 0.0, 0.0, 0.0, 0.0, 0.0, 0.0, 22.1472, 22.1472, 22.1472, 22.1472, 22.1472, 22.1472], ['obshist2', 49368.177158999999, 1456605.0, 0.09746749, -1.279057, 0.7285, 49350.3101, -0.05548099, -1.0822, 5.414297e-06, 0.0, 0.0, 0.0, 0.0, 0.0, 0.0, 23.9086, 23.9086, 23.9086, 23.9086, 23.9086, 23.9086], ['obshist3', 49368.177158999999, 1812900.0, 0.09864307, -1.279292, 0.2086, 49350.0594, 0.04177646, 0.3476, 9.584063e-05, 0.0, 0.0, 0.0, 0.0, 0.0, 0.0, 21.1614, 21.1614, 21.1614, 21.1614, 21.1614, 21.1614], ['obshist4', 49368.177158999999, 1956535.0, 0.09875172, -1.279203, 0.181, 49350.4672, 0.1461182, -1.5249, 9.839733e-05, 0.0, 0.0, 0.0, 0.0, 0.0, 0.0, 21.0459, 21.0459, 21.0459, 21.0459, 21.0459, 21.0459], ['obshist5', 49368.177158999999, 1972436.0, 0.09750733, -1.279303, 0.4644, 49349.9913, 0.07642282, 0.4876, 1.356074e-05, 0.0, 0.0, 0.0, 0.0, 0.0, 0.0, 22.8667, 22.8667, 22.8667, 22.8667, 22.8667, 22.8667]]\n",
        "=====================================\n",
        "3 <type 'numpy.string_'> 49368.177576\n",
        "=====================================\n",
        "1.0 49350.0\n",
        "data/SNIa_real_3.txt"
       ]
      },
      {
       "output_type": "stream",
       "stream": "stdout",
       "text": [
        " size of d (6, 20)\n",
        "obshist0 49368.177576 [  1.19406300e+06   9.80774900e-02  -1.27904400e+00   3.57800000e-01\n",
        "   4.93502696e+04  -4.78026500e-02  -1.57350000e+00   2.04669300e-05\n",
        "   0.00000000e+00   0.00000000e+00   0.00000000e+00   0.00000000e+00\n",
        "   0.00000000e+00   0.00000000e+00   2.27020000e+01   2.27020000e+01\n",
        "   2.27020000e+01   2.27020000e+01   2.27020000e+01   2.27020000e+01]\n",
        "obshist1 49368.177576 [  1.20262000e+06   9.82203700e-02  -1.27937400e+00   3.55200000e-01\n",
        "   4.93500770e+04  -1.07673300e-01   5.59000000e-02   3.29825200e-05\n",
        "   0.00000000e+00   0.00000000e+00   0.00000000e+00   0.00000000e+00\n",
        "   0.00000000e+00   0.00000000e+00   2.21472000e+01   2.21472000e+01\n",
        "   2.21472000e+01   2.21472000e+01   2.21472000e+01   2.21472000e+01]\n",
        "obshist2 49368.177576 [  1.45660500e+06   9.74674900e-02  -1.27905700e+00   7.28500000e-01\n",
        "   4.93503101e+04  -5.54809900e-02  -1.08220000e+00   5.41429700e-06\n",
        "   0.00000000e+00   0.00000000e+00   0.00000000e+00   0.00000000e+00\n",
        "   0.00000000e+00   0.00000000e+00   2.39086000e+01   2.39086000e+01\n",
        "   2.39086000e+01   2.39086000e+01   2.39086000e+01   2.39086000e+01]\n",
        "obshist3 49368.177576 [  1.81290000e+06   9.86430700e-02  -1.27929200e+00   2.08600000e-01\n",
        "   4.93500594e+04   4.17764600e-02   3.47600000e-01   9.58406300e-05\n",
        "   0.00000000e+00   0.00000000e+00   0.00000000e+00   0.00000000e+00\n",
        "   0.00000000e+00   0.00000000e+00   2.11614000e+01   2.11614000e+01\n",
        "   2.11614000e+01   2.11614000e+01   2.11614000e+01   2.11614000e+01]\n",
        "obshist4 49368.177576 [  1.95653500e+06   9.87517200e-02  -1.27920300e+00   1.81000000e-01\n",
        "   4.93504672e+04   1.46118200e-01  -1.52490000e+00   9.83973300e-05\n",
        "   0.00000000e+00   0.00000000e+00   0.00000000e+00   0.00000000e+00\n",
        "   0.00000000e+00   0.00000000e+00   2.10459000e+01   2.10459000e+01\n",
        "   2.10459000e+01   2.10459000e+01   2.10459000e+01   2.10459000e+01]\n",
        "obshist5 49368.177576 [  1.97243600e+06   9.75073300e-02  -1.27930300e+00   4.64400000e-01\n",
        "   4.93499913e+04   7.64228200e-02   4.87600000e-01   1.35607400e-05\n",
        "   0.00000000e+00   0.00000000e+00   0.00000000e+00   0.00000000e+00\n",
        "   0.00000000e+00   0.00000000e+00   2.28668000e+01   2.28668000e+01\n",
        "   2.28668000e+01   2.28668000e+01   2.28668000e+01   2.28668000e+01]\n",
        "[['obshist0', 49368.177576000002, 1194063.0, 0.09807749, -1.279044, 0.3578, 49350.2696, -0.04780265, -1.5735, 2.046693e-05, 0.0, 0.0, 0.0, 0.0, 0.0, 0.0, 22.702, 22.702, 22.702, 22.702, 22.702, 22.702], ['obshist1', 49368.177576000002, 1202620.0, 0.09822037, -1.279374, 0.3552, 49350.077, -0.1076733, 0.0559, 3.298252e-05, 0.0, 0.0, 0.0, 0.0, 0.0, 0.0, 22.1472, 22.1472, 22.1472, 22.1472, 22.1472, 22.1472], ['obshist2', 49368.177576000002, 1456605.0, 0.09746749, -1.279057, 0.7285, 49350.3101, -0.05548099, -1.0822, 5.414297e-06, 0.0, 0.0, 0.0, 0.0, 0.0, 0.0, 23.9086, 23.9086, 23.9086, 23.9086, 23.9086, 23.9086], ['obshist3', 49368.177576000002, 1812900.0, 0.09864307, -1.279292, 0.2086, 49350.0594, 0.04177646, 0.3476, 9.584063e-05, 0.0, 0.0, 0.0, 0.0, 0.0, 0.0, 21.1614, 21.1614, 21.1614, 21.1614, 21.1614, 21.1614], ['obshist4', 49368.177576000002, 1956535.0, 0.09875172, -1.279203, 0.181, 49350.4672, 0.1461182, -1.5249, 9.839733e-05, 0.0, 0.0, 0.0, 0.0, 0.0, 0.0, 21.0459, 21.0459, 21.0459, 21.0459, 21.0459, 21.0459], ['obshist5', 49368.177576000002, 1972436.0, 0.09750733, -1.279303, 0.4644, 49349.9913, 0.07642282, 0.4876, 1.356074e-05, 0.0, 0.0, 0.0, 0.0, 0.0, 0.0, 22.8668, 22.8668, 22.8668, 22.8668, 22.8668, 22.8668]]\n",
        "=====================================\n",
        "4 <type 'numpy.string_'> 49355.053207\n",
        "=====================================\n",
        "1.0 49350.0\n",
        "data/SNIa_real_4.txt"
       ]
      },
      {
       "output_type": "stream",
       "stream": "stdout",
       "text": [
        " size of d (20,)\n",
        "obshist0 49355.053207 1967820.0\n"
       ]
      },
      {
       "ename": "TypeError",
       "evalue": "can only concatenate list (not \"float\") to list",
       "output_type": "pyerr",
       "traceback": [
        "\u001b[0;31m---------------------------------------------------------------------------\u001b[0m\n\u001b[0;31mTypeError\u001b[0m                                 Traceback (most recent call last)",
        "\u001b[0;32m<ipython-input-35-543e5551c7a5>\u001b[0m in \u001b[0;36m<module>\u001b[0;34m()\u001b[0m\n\u001b[1;32m      1\u001b[0m lu.writeCatalogtoDB(dbfile='data/sncat_real.db', dbtable='mysncat', ascii_root='data/SNIa_real_', galdb=galDB, \n\u001b[0;32m----> 2\u001b[0;31m                     obsMetaDataList=obsMetaDataResults, averageRate=1., midSurveyTime=49350.)\n\u001b[0m\u001b[1;32m      3\u001b[0m \u001b[0;34m\u001b[0m\u001b[0m\n",
        "\u001b[0;32m/Users/rbiswas/doc/projects/supernovae/LSST/SNIacatalogs/examples/lightcurve_utils.py\u001b[0m in \u001b[0;36mwriteCatalogtoDB\u001b[0;34m(dbfile, dbtable, ascii_root, galdb, obsMetaDataList, midSurveyTime, averageRate)\u001b[0m\n\u001b[1;32m    167\u001b[0m         \u001b[0;32mprint\u001b[0m \u001b[0mcatalog\u001b[0m\u001b[0;34m.\u001b[0m\u001b[0maverageRate\u001b[0m\u001b[0;34m,\u001b[0m \u001b[0mcatalog\u001b[0m\u001b[0;34m.\u001b[0m\u001b[0mmidSurveyTime\u001b[0m\u001b[0;34m\u001b[0m\u001b[0m\n\u001b[1;32m    168\u001b[0m         \u001b[0mcatalog\u001b[0m\u001b[0;34m.\u001b[0m\u001b[0mwrite_catalog\u001b[0m\u001b[0;34m(\u001b[0m\u001b[0mfname\u001b[0m\u001b[0;34m)\u001b[0m\u001b[0;34m\u001b[0m\u001b[0m\n\u001b[0;32m--> 169\u001b[0;31m         \u001b[0ml\u001b[0m \u001b[0;34m=\u001b[0m \u001b[0m_file2lst\u001b[0m\u001b[0;34m(\u001b[0m\u001b[0mfname\u001b[0m\u001b[0;34m,\u001b[0m \u001b[0mi\u001b[0m\u001b[0;34m,\u001b[0m \u001b[0mmjd\u001b[0m\u001b[0;34m=\u001b[0m\u001b[0mcatalog\u001b[0m\u001b[0;34m.\u001b[0m\u001b[0mobs_metadata\u001b[0m\u001b[0;34m.\u001b[0m\u001b[0mmjd\u001b[0m\u001b[0;34m)\u001b[0m\u001b[0;34m\u001b[0m\u001b[0m\n\u001b[0m\u001b[1;32m    170\u001b[0m         \u001b[0;32mprint\u001b[0m \u001b[0ml\u001b[0m\u001b[0;34m\u001b[0m\u001b[0m\n\u001b[1;32m    171\u001b[0m         \u001b[0;32mif\u001b[0m \u001b[0mlen\u001b[0m\u001b[0;34m(\u001b[0m\u001b[0ml\u001b[0m\u001b[0;34m)\u001b[0m \u001b[0;34m>\u001b[0m \u001b[0;36m0\u001b[0m\u001b[0;34m:\u001b[0m\u001b[0;34m\u001b[0m\u001b[0m\n",
        "\u001b[0;32m/Users/rbiswas/doc/projects/supernovae/LSST/SNIacatalogs/examples/lightcurve_utils.py\u001b[0m in \u001b[0;36m_file2lst\u001b[0;34m(fname, i, mjd)\u001b[0m\n\u001b[1;32m     20\u001b[0m         \u001b[0mobsid\u001b[0m \u001b[0;34m=\u001b[0m \u001b[0;34m'obshist'\u001b[0m \u001b[0;34m+\u001b[0m \u001b[0mstr\u001b[0m\u001b[0;34m(\u001b[0m\u001b[0mi\u001b[0m\u001b[0;34m)\u001b[0m\u001b[0;34m\u001b[0m\u001b[0m\n\u001b[1;32m     21\u001b[0m         \u001b[0;32mprint\u001b[0m \u001b[0mobsid\u001b[0m \u001b[0;34m,\u001b[0m \u001b[0mmjd\u001b[0m\u001b[0;34m,\u001b[0m \u001b[0mrow\u001b[0m\u001b[0;34m\u001b[0m\u001b[0m\n\u001b[0;32m---> 22\u001b[0;31m         \u001b[0mlst\u001b[0m \u001b[0;34m=\u001b[0m \u001b[0;34m[\u001b[0m\u001b[0mobsid\u001b[0m\u001b[0;34m]\u001b[0m \u001b[0;34m+\u001b[0m \u001b[0;34m[\u001b[0m\u001b[0mmjd\u001b[0m\u001b[0;34m]\u001b[0m \u001b[0;34m+\u001b[0m \u001b[0mrow\u001b[0m\u001b[0;34m.\u001b[0m\u001b[0mtolist\u001b[0m\u001b[0;34m(\u001b[0m\u001b[0;34m)\u001b[0m\u001b[0;34m\u001b[0m\u001b[0m\n\u001b[0m\u001b[1;32m     23\u001b[0m         \u001b[0ml\u001b[0m\u001b[0;34m.\u001b[0m\u001b[0mappend\u001b[0m\u001b[0;34m(\u001b[0m\u001b[0mlst\u001b[0m\u001b[0;34m)\u001b[0m\u001b[0;34m\u001b[0m\u001b[0m\n\u001b[1;32m     24\u001b[0m     \u001b[0;32mreturn\u001b[0m \u001b[0ml\u001b[0m\u001b[0;34m\u001b[0m\u001b[0m\n",
        "\u001b[0;31mTypeError\u001b[0m: can only concatenate list (not \"float\") to list"
       ]
      }
     ],
     "prompt_number": 35
    },
    {
     "cell_type": "markdown",
     "metadata": {},
     "source": [
      "The following function then queries the database, and groups the data by a SNID number to build the light curves."
     ]
    },
    {
     "cell_type": "code",
     "collapsed": false,
     "input": [
      "lcs = lu.getLCsFromDB(dbfile='data/sncat_real.db',\n",
      "                 dbtable='mysncat',\n",
      "                 lc_root='data/LightCurves/SN_real_')"
     ],
     "language": "python",
     "metadata": {},
     "outputs": []
    },
    {
     "cell_type": "markdown",
     "metadata": {},
     "source": [
      "We can check how many light curves are there, and we can display each light curve in the following way"
     ]
    },
    {
     "cell_type": "code",
     "collapsed": false,
     "input": [
      "len(lcs)"
     ],
     "language": "python",
     "metadata": {},
     "outputs": []
    },
    {
     "cell_type": "code",
     "collapsed": false,
     "input": [
      "lcs[0][1]"
     ],
     "language": "python",
     "metadata": {},
     "outputs": []
    },
    {
     "cell_type": "code",
     "collapsed": false,
     "input": [
      "type(lcs[3][1])"
     ],
     "language": "python",
     "metadata": {},
     "outputs": []
    },
    {
     "cell_type": "code",
     "collapsed": false,
     "input": [
      "lcs[12][1]"
     ],
     "language": "python",
     "metadata": {},
     "outputs": []
    },
    {
     "cell_type": "markdown",
     "metadata": {},
     "source": [
      "In this case, we have light curves associated with two different objects, and we can now plot them."
     ]
    },
    {
     "cell_type": "code",
     "collapsed": false,
     "input": [
      "fig, ax = plt.subplots(figsize=(24,8))\n",
      "lu.plotlc(lcs[0])\n",
      "lu.plotlc(lcs[1], marker='s')\n",
      "ax.invert_yaxis()"
     ],
     "language": "python",
     "metadata": {},
     "outputs": []
    },
    {
     "cell_type": "code",
     "collapsed": false,
     "input": [
      "import numpy as np\n",
      "epsilon = 0.01\n",
      "theta = -np.pi/4\n",
      "np.cos(theta) - np.cos(theta - epsilon)"
     ],
     "language": "python",
     "metadata": {},
     "outputs": []
    },
    {
     "cell_type": "markdown",
     "metadata": {},
     "source": [
      "The circles and squares are two different SN which were in lcs. The colors represent the different bands."
     ]
    }
   ],
   "metadata": {}
  }
 ]
}