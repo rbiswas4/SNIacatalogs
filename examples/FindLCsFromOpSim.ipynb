{
 "metadata": {
  "kernelspec": {
   "display_name": "Python 2",
   "language": "python",
   "name": "python2"
  },
  "language_info": {
   "codemirror_mode": {
    "name": "ipython",
    "version": 2
   },
   "file_extension": ".py",
   "mimetype": "text/x-python",
   "name": "python",
   "nbconvert_exporter": "python",
   "pygments_lexer": "ipython2",
   "version": "2.7.9"
  },
  "name": "",
  "signature": "sha256:6f4d36689a0df54920ad976b5451e12ea8b342fc1835430dde435fc0330db07c"
 },
 "nbformat": 3,
 "nbformat_minor": 0,
 "worksheets": [
  {
   "cells": [
    {
     "cell_type": "heading",
     "level": 1,
     "metadata": {},
     "source": [
      "Supernovae Ia in catSim"
     ]
    },
    {
     "cell_type": "markdown",
     "metadata": {},
     "source": [
      "There are three files in catSim that currently provide the SN functionality. This functionality is based on classes provided by \n",
      "the python package SNCosmo, through the sncosmo.Model class which is built on top of a sncosmo.source class which describes a transient source in its rest frame in terms of a time series of spectra. The three files added into catSim are:\n",
      "\n",
      "1. snObject.py: Contains the class SNObject which inherits from the sncsomo.Model class with some decisions appropriate for our use\n",
      "2. snUniverse.py: Contains definitions of the rates and distribution of types of snObject \n",
      "3. sncat.py : How to interact with catSim, get the information there and write things out."
     ]
    },
    {
     "cell_type": "code",
     "collapsed": false,
     "input": [
      "import sniacatalogs as snia"
     ],
     "language": "python",
     "metadata": {},
     "outputs": [
      {
       "output_type": "stream",
       "stream": "stderr",
       "text": [
        " This call to matplotlib.use() has no effect\n",
        "because the backend has already been chosen;\n",
        "matplotlib.use() must be called *before* pylab, matplotlib.pyplot,\n",
        "or matplotlib.backends is imported for the first time.\n",
        "\n"
       ]
      }
     ],
     "prompt_number": 1
    },
    {
     "cell_type": "code",
     "collapsed": false,
     "input": [
      "import numpy as np\n",
      "%matplotlib inline\n",
      "import matplotlib.pyplot as plt\n",
      "import os"
     ],
     "language": "python",
     "metadata": {},
     "outputs": [],
     "prompt_number": 2
    },
    {
     "cell_type": "code",
     "collapsed": false,
     "input": [
      "#seaborn Comment out if this is not installed\n",
      "import seaborn as sns\n",
      "sns.set()"
     ],
     "language": "python",
     "metadata": {},
     "outputs": [],
     "prompt_number": 3
    },
    {
     "cell_type": "heading",
     "level": 2,
     "metadata": {},
     "source": [
      "snUniverse.py: SNUniverse"
     ]
    },
    {
     "cell_type": "markdown",
     "metadata": {},
     "source": [
      "The basic idea of this module is to contain the distributions and rules of obtaining certain properties of SN. The sort of information that needs to be encoded are  \n",
      "- What should be the abundance of the types of objects created in SNObject be?\n",
      "- What should their parameter distributions be like ?"
     ]
    },
    {
     "cell_type": "heading",
     "level": 2,
     "metadata": {},
     "source": [
      "sncat.py: SNIaCatalog"
     ]
    },
    {
     "cell_type": "markdown",
     "metadata": {},
     "source": [
      "This inherits from the ` instanceCatalog ` class and uses the functionality in ` CosmologyWrapper ` and `SNUniverse`. This is an `InstanceCatalog` and so provides a catalog of SN observed at a particular exposure."
     ]
    },
    {
     "cell_type": "code",
     "collapsed": false,
     "input": [
      "from lsst.sims.catalogs.generation.db import ObservationMetaData\n",
      "from sniacatalogs import sncat"
     ],
     "language": "python",
     "metadata": {},
     "outputs": [],
     "prompt_number": 4
    },
    {
     "cell_type": "code",
     "collapsed": false,
     "input": [
      "from lsst.sims.catalogs.generation.db import CatalogDBObject"
     ],
     "language": "python",
     "metadata": {},
     "outputs": [],
     "prompt_number": 5
    },
    {
     "cell_type": "markdown",
     "metadata": {},
     "source": [
      "First, we create a catalog of all the galaxies in the catalog using the `CatalogDBObject.from_objid` "
     ]
    },
    {
     "cell_type": "code",
     "collapsed": false,
     "input": [
      "galDB = CatalogDBObject.from_objid('galaxyTiled')"
     ],
     "language": "python",
     "metadata": {},
     "outputs": [
      {
       "output_type": "stream",
       "stream": "stderr",
       "text": [
        "/usr/local/manual/anaconda/lib/python2.7/site-packages/sqlalchemy/dialects/mssql/base.py:1294: SAWarning: Did not recognize type 'geography' of column 'geopoint'\n",
        "  return fn(*arg, **kw)\n"
       ]
      }
     ],
     "prompt_number": 6
    },
    {
     "cell_type": "markdown",
     "metadata": {},
     "source": [
      "The catsim framework does not allow us to record these galaxies to disk, but we could by creating an `InstanceCatalog` class. This requires "
     ]
    },
    {
     "cell_type": "code",
     "collapsed": false,
     "input": [
      "from lsst.sims.catalogs.measures.instance import InstanceCatalog\n",
      "class galCopy(InstanceCatalog):\n",
      "    column_outputs = ['id', 'raJ2000', 'decJ2000', 'redshift']\n",
      "    override_formats = {'raJ2000': '%8e', 'decJ2000': '%8e'}"
     ],
     "language": "python",
     "metadata": {},
     "outputs": [],
     "prompt_number": 7
    },
    {
     "cell_type": "markdown",
     "metadata": {},
     "source": [
      "The next step takes a set of mjds and pointings made up here (ie. this should really come from Opsims, but to simplify this notebook, and build a light curve, we will assume that we decided to point at the same location everyday. And to first try out\n",
      "an instance catalog we can read easily, and understand, we will first do one day.\n",
      "\n",
      "\n",
      "So, let us instantiate an ObservationMetaData object, and write the catalog associated with it"
     ]
    },
    {
     "cell_type": "code",
     "collapsed": false,
     "input": [
      "import numpy as np"
     ],
     "language": "python",
     "metadata": {},
     "outputs": [],
     "prompt_number": 8
    },
    {
     "cell_type": "heading",
     "level": 2,
     "metadata": {},
     "source": [
      "Building Light Curves from Instance Catalogs"
     ]
    },
    {
     "cell_type": "markdown",
     "metadata": {},
     "source": [
      "We would like to create a number of supernova instance catalogs and then build the light curves from the catalogs. To do this correctly, we would like to use the `observation_metadata` associated with a number of conscutive OpSIM pointings. Right now, though, it will be nice to demonstrate that we are getting light curves from a number of instance catalogs, without caring about a particular strategy. Hence, we will create a 20 epoch list of `observation_metadata` , where we 'observe' in all bands, and quickly by doing a small field of view (0.015 degree). "
     ]
    },
    {
     "cell_type": "code",
     "collapsed": false,
     "input": [
      "\n",
      "import lightcurve_utils as lu"
     ],
     "language": "python",
     "metadata": {},
     "outputs": [],
     "prompt_number": 9
    },
    {
     "cell_type": "code",
     "collapsed": false,
     "input": [
      "import os\n",
      "import eups\n",
      "from lsst.sims.catUtils.utils import ObservationMetaDataGenerator\n",
      "\n",
      "opsimPath = os.path.join(eups.productDir('sims_data'),'OpSimData')\n",
      "opsimDB = os.path.join(opsimPath,'opsimblitz1_1133_sqlite.db')\n",
      "\n",
      "#you need to provide ObservationMetaDataGenerator with the connection\n",
      "#string to an OpSim output database.  This is the connection string\n",
      "#to a test database that comes when you install CatSim.\n",
      "generator = ObservationMetaDataGenerator(address = 'sqlite:///'+opsimDB)"
     ],
     "language": "python",
     "metadata": {},
     "outputs": [],
     "prompt_number": 10
    },
    {
     "cell_type": "code",
     "collapsed": false,
     "input": [
      "obsMetaDataResults = generator.getObservationMetaData(limit=100,\n",
      "                                                      fieldRA=(5.0, 8.0), \n",
      "                                                      fieldDec=(-85.,-60.),\n",
      "                                                      #expMJD=(49300., 49400.),\n",
      "                                                      boundLength=0.015,\n",
      "                                                      boundType='circle')"
     ],
     "language": "python",
     "metadata": {},
     "outputs": [],
     "prompt_number": 11
    },
    {
     "cell_type": "code",
     "collapsed": false,
     "input": [
      "print len(obsMetaDataResults)"
     ],
     "language": "python",
     "metadata": {},
     "outputs": [
      {
       "output_type": "stream",
       "stream": "stdout",
       "text": [
        "15\n"
       ]
      }
     ],
     "prompt_number": 12
    },
    {
     "cell_type": "code",
     "collapsed": false,
     "input": [
      "# obsMDList = obsMetaDataResults"
     ],
     "language": "python",
     "metadata": {},
     "outputs": [],
     "prompt_number": 22
    },
    {
     "cell_type": "markdown",
     "metadata": {},
     "source": [
      "We now want to write the light curves to a database. The way this function actually works is it creates the instance catalogs \n",
      "for each of the obs_metadata points, writes them to disk using the `InstanceCatalog.write_catalog` method, reads the files from disk (right now the filenames are chosen in the same order as obs_metadata objects), and writes them to a sqlite database."
     ]
    },
    {
     "cell_type": "code",
     "collapsed": false,
     "input": [
      "if not os.path.exists('data/NewLightCurves'): \n",
      "    os.makedirs('data/NewLightCurves')"
     ],
     "language": "python",
     "metadata": {},
     "outputs": [],
     "prompt_number": 27
    },
    {
     "cell_type": "code",
     "collapsed": false,
     "input": [
      "lu.writeCatalogtoDB(dbfile='data/sncat_real.db', dbtable='mysncat', ascii_root='data/SNIa_real_', galdb=galDB, \n",
      "                    obsMetaDataList=obsMetaDataResults, averageRate=3650., midSurveyTime=49350.)\n",
      "    "
     ],
     "language": "python",
     "metadata": {},
     "outputs": [
      {
       "output_type": "stream",
       "stream": "stdout",
       "text": [
        "deleting previous database\n",
        "=====================================\n",
        "0 <type 'numpy.string_'> 49362.070248\n",
        "=====================================\n",
        "3650.0 49350.0\n",
        "====================================="
       ]
      },
      {
       "output_type": "stream",
       "stream": "stdout",
       "text": [
        "\n",
        "1 <type 'numpy.string_'> 49364.115003\n",
        "=====================================\n",
        "3650.0 49350.0\n",
        "====================================="
       ]
      },
      {
       "output_type": "stream",
       "stream": "stdout",
       "text": [
        "\n",
        "2 <type 'numpy.string_'> 49368.177159\n",
        "=====================================\n",
        "3650.0 49350.0\n",
        "====================================="
       ]
      },
      {
       "output_type": "stream",
       "stream": "stdout",
       "text": [
        "\n",
        "3 <type 'numpy.string_'> 49368.177576\n",
        "=====================================\n",
        "3650.0 49350.0\n",
        "====================================="
       ]
      },
      {
       "output_type": "stream",
       "stream": "stdout",
       "text": [
        "\n",
        "4 <type 'numpy.string_'> 49355.053207\n",
        "=====================================\n",
        "3650.0 49350.0\n",
        "====================================="
       ]
      },
      {
       "output_type": "stream",
       "stream": "stdout",
       "text": [
        "\n",
        "5 <type 'numpy.string_'> 49355.055404\n",
        "=====================================\n",
        "3650.0 49350.0\n",
        "====================================="
       ]
      },
      {
       "output_type": "stream",
       "stream": "stdout",
       "text": [
        "\n",
        "6 <type 'numpy.string_'> 49362.069356\n",
        "=====================================\n",
        "3650.0 49350.0\n",
        "====================================="
       ]
      },
      {
       "output_type": "stream",
       "stream": "stdout",
       "text": [
        "\n",
        "7 <type 'numpy.string_'> 49365.08971\n",
        "=====================================\n",
        "3650.0 49350.0\n",
        "====================================="
       ]
      },
      {
       "output_type": "stream",
       "stream": "stdout",
       "text": [
        "\n",
        "8 <type 'numpy.string_'> 49368.172717\n",
        "=====================================\n",
        "3650.0 49350.0\n",
        "====================================="
       ]
      },
      {
       "output_type": "stream",
       "stream": "stdout",
       "text": [
        "\n",
        "9 <type 'numpy.string_'> 49369.196014\n",
        "=====================================\n",
        "3650.0 49350.0\n",
        "====================================="
       ]
      },
      {
       "output_type": "stream",
       "stream": "stdout",
       "text": [
        "\n",
        "10 <type 'numpy.string_'> 49370.107511\n",
        "=====================================\n",
        "3650.0 49350.0\n",
        "====================================="
       ]
      },
      {
       "output_type": "stream",
       "stream": "stdout",
       "text": [
        "\n",
        "11 <type 'numpy.string_'> 49362.072473\n",
        "=====================================\n",
        "3650.0 49350.0\n",
        "====================================="
       ]
      },
      {
       "output_type": "stream",
       "stream": "stdout",
       "text": [
        "\n",
        "12 <type 'numpy.string_'> 49365.088264\n",
        "=====================================\n",
        "3650.0 49350.0\n",
        "====================================="
       ]
      },
      {
       "output_type": "stream",
       "stream": "stdout",
       "text": [
        "\n",
        "13 <type 'numpy.string_'> 49370.110671\n",
        "=====================================\n",
        "3650.0 49350.0\n",
        "====================================="
       ]
      },
      {
       "output_type": "stream",
       "stream": "stdout",
       "text": [
        "\n",
        "14 <type 'numpy.string_'> 49370.117093\n",
        "=====================================\n",
        "3650.0 49350.0\n"
       ]
      }
     ],
     "prompt_number": 47
    },
    {
     "cell_type": "markdown",
     "metadata": {},
     "source": [
      "The following function then queries the database, and groups the data by a SNID number to build the light curves."
     ]
    },
    {
     "cell_type": "code",
     "collapsed": false,
     "input": [
      "lcs = lu.getLCsFromDB(dbfile='data/sncat_real.db',\n",
      "                 dbtable='mysncat',\n",
      "                 lc_root='data/LightCurves/SN_real_')"
     ],
     "language": "python",
     "metadata": {},
     "outputs": [],
     "prompt_number": 29
    },
    {
     "cell_type": "markdown",
     "metadata": {},
     "source": [
      "We can check how many light curves are there, and we can display each light curve in the following way"
     ]
    },
    {
     "cell_type": "code",
     "collapsed": false,
     "input": [
      "len(lcs)"
     ],
     "language": "python",
     "metadata": {},
     "outputs": [
      {
       "metadata": {},
       "output_type": "pyout",
       "prompt_number": 30,
       "text": [
        "62"
       ]
      }
     ],
     "prompt_number": 30
    },
    {
     "cell_type": "code",
     "collapsed": false,
     "input": [
      "lcs[3][1]"
     ],
     "language": "python",
     "metadata": {},
     "outputs": [
      {
       "html": [
        "<div style=\"max-height:1000px;max-width:1500px;overflow:auto;\">\n",
        "<table border=\"1\" class=\"dataframe\">\n",
        "  <thead>\n",
        "    <tr style=\"text-align: right;\">\n",
        "      <th></th>\n",
        "      <th>id</th>\n",
        "      <th>mjd</th>\n",
        "      <th>snid</th>\n",
        "      <th>snra</th>\n",
        "      <th>sndec</th>\n",
        "      <th>z</th>\n",
        "      <th>t0</th>\n",
        "      <th>c</th>\n",
        "      <th>x1</th>\n",
        "      <th>x0</th>\n",
        "      <th>...</th>\n",
        "      <th>flux_r</th>\n",
        "      <th>flux_i</th>\n",
        "      <th>flux_z</th>\n",
        "      <th>flux_y</th>\n",
        "      <th>mag_u</th>\n",
        "      <th>mag_g</th>\n",
        "      <th>mag_r</th>\n",
        "      <th>mag_i</th>\n",
        "      <th>mag_z</th>\n",
        "      <th>mag_y</th>\n",
        "    </tr>\n",
        "  </thead>\n",
        "  <tbody>\n",
        "    <tr>\n",
        "      <th>10</th>\n",
        "      <td>obshist10</td>\n",
        "      <td>49362.070248</td>\n",
        "      <td>8579979</td>\n",
        "      <td>0.097546</td>\n",
        "      <td>-1.279069</td>\n",
        "      <td>0.1372</td>\n",
        "      <td>49419.0285</td>\n",
        "      <td>0.068053</td>\n",
        "      <td>-0.2213</td>\n",
        "      <td>0.000174</td>\n",
        "      <td>...</td>\n",
        "      <td>0</td>\n",
        "      <td>0</td>\n",
        "      <td>0</td>\n",
        "      <td>0</td>\n",
        "      <td>inf</td>\n",
        "      <td>inf</td>\n",
        "      <td>inf</td>\n",
        "      <td>inf</td>\n",
        "      <td>inf</td>\n",
        "      <td>inf</td>\n",
        "    </tr>\n",
        "    <tr>\n",
        "      <th>28</th>\n",
        "      <td>obshist6</td>\n",
        "      <td>49364.115003</td>\n",
        "      <td>8579979</td>\n",
        "      <td>0.097546</td>\n",
        "      <td>-1.279069</td>\n",
        "      <td>0.1372</td>\n",
        "      <td>49419.0285</td>\n",
        "      <td>0.068053</td>\n",
        "      <td>-0.2213</td>\n",
        "      <td>0.000174</td>\n",
        "      <td>...</td>\n",
        "      <td>0</td>\n",
        "      <td>0</td>\n",
        "      <td>0</td>\n",
        "      <td>0</td>\n",
        "      <td>inf</td>\n",
        "      <td>inf</td>\n",
        "      <td>inf</td>\n",
        "      <td>inf</td>\n",
        "      <td>inf</td>\n",
        "      <td>inf</td>\n",
        "    </tr>\n",
        "    <tr>\n",
        "      <th>51</th>\n",
        "      <td>obshist8</td>\n",
        "      <td>49368.177159</td>\n",
        "      <td>8579979</td>\n",
        "      <td>0.097546</td>\n",
        "      <td>-1.279069</td>\n",
        "      <td>0.1372</td>\n",
        "      <td>49419.0285</td>\n",
        "      <td>0.068053</td>\n",
        "      <td>-0.2213</td>\n",
        "      <td>0.000174</td>\n",
        "      <td>...</td>\n",
        "      <td>0</td>\n",
        "      <td>0</td>\n",
        "      <td>0</td>\n",
        "      <td>0</td>\n",
        "      <td>inf</td>\n",
        "      <td>inf</td>\n",
        "      <td>inf</td>\n",
        "      <td>inf</td>\n",
        "      <td>inf</td>\n",
        "      <td>inf</td>\n",
        "    </tr>\n",
        "    <tr>\n",
        "      <th>69</th>\n",
        "      <td>obshist5</td>\n",
        "      <td>49368.177576</td>\n",
        "      <td>8579979</td>\n",
        "      <td>0.097546</td>\n",
        "      <td>-1.279069</td>\n",
        "      <td>0.1372</td>\n",
        "      <td>49419.0285</td>\n",
        "      <td>0.068053</td>\n",
        "      <td>-0.2213</td>\n",
        "      <td>0.000174</td>\n",
        "      <td>...</td>\n",
        "      <td>0</td>\n",
        "      <td>0</td>\n",
        "      <td>0</td>\n",
        "      <td>0</td>\n",
        "      <td>inf</td>\n",
        "      <td>inf</td>\n",
        "      <td>inf</td>\n",
        "      <td>inf</td>\n",
        "      <td>inf</td>\n",
        "      <td>inf</td>\n",
        "    </tr>\n",
        "  </tbody>\n",
        "</table>\n",
        "<p>4 rows \u00d7 22 columns</p>\n",
        "</div>"
       ],
       "metadata": {},
       "output_type": "pyout",
       "prompt_number": 46,
       "text": [
        "           id           mjd     snid      snra     sndec       z          t0  \\\n",
        "10  obshist10  49362.070248  8579979  0.097546 -1.279069  0.1372  49419.0285   \n",
        "28   obshist6  49364.115003  8579979  0.097546 -1.279069  0.1372  49419.0285   \n",
        "51   obshist8  49368.177159  8579979  0.097546 -1.279069  0.1372  49419.0285   \n",
        "69   obshist5  49368.177576  8579979  0.097546 -1.279069  0.1372  49419.0285   \n",
        "\n",
        "           c      x1        x0  ...    flux_r  flux_i  flux_z  flux_y  mag_u  \\\n",
        "10  0.068053 -0.2213  0.000174  ...         0       0       0       0    inf   \n",
        "28  0.068053 -0.2213  0.000174  ...         0       0       0       0    inf   \n",
        "51  0.068053 -0.2213  0.000174  ...         0       0       0       0    inf   \n",
        "69  0.068053 -0.2213  0.000174  ...         0       0       0       0    inf   \n",
        "\n",
        "    mag_g  mag_r  mag_i  mag_z  mag_y  \n",
        "10    inf    inf    inf    inf    inf  \n",
        "28    inf    inf    inf    inf    inf  \n",
        "51    inf    inf    inf    inf    inf  \n",
        "69    inf    inf    inf    inf    inf  \n",
        "\n",
        "[4 rows x 22 columns]"
       ]
      }
     ],
     "prompt_number": 46
    },
    {
     "cell_type": "markdown",
     "metadata": {},
     "source": [
      "In this case, we have light curves associated with two different objects, and we can now plot them."
     ]
    },
    {
     "cell_type": "code",
     "collapsed": false,
     "input": [
      "fig, ax = plt.subplots(figsize=(24,8))\n",
      "#lu.plotlc(lcs[0])\n",
      "lu.plotlc(lcs[1], marker='s')\n",
      "ax.invert_yaxis()"
     ],
     "language": "python",
     "metadata": {},
     "outputs": [
      {
       "metadata": {},
       "output_type": "display_data",
       "png": "[encoded data removed]",
       "text": [
        "<matplotlib.figure.Figure at 0x113f6e790>"
       ]
      }
     ],
     "prompt_number": 41
    },
    {
     "cell_type": "markdown",
     "metadata": {},
     "source": [
      "The circles and squares are two different SN which were in lcs. The colors represent the different bands."
     ]
    }
   ],
   "metadata": {}
  }
 ]
}