{
 "metadata": {
  "name": "",
  "signature": "sha256:1a1552385740ee01ceaf5667f50db678d3b0eee3b67895c191be326a50e8955b"
 },
 "nbformat": 3,
 "nbformat_minor": 0,
 "worksheets": [
  {
   "cells": [
    {
     "cell_type": "code",
     "collapsed": false,
     "input": [
      "import sniacatalogs as sia\n",
      "\n",
      "from lsst.sims.photUtils import Bandpass\n",
      "import numpy as np\n",
      "%matplotlib inline\n",
      "import matplotlib.pyplot as plt\n",
      "import seaborn as sns\n",
      "sns.set()\n",
      "# from bbutils import plotutils as pu"
     ],
     "language": "python",
     "metadata": {},
     "outputs": [],
     "prompt_number": 1
    },
    {
     "cell_type": "markdown",
     "metadata": {},
     "source": [
      "Create a SNObject at a particular set of coordinates and model parameters. This happens to be a SN that is in our example catalog. So this example is to examine one of these SN in more detail to illustrate some of the properties"
     ]
    },
    {
     "cell_type": "code",
     "collapsed": false,
     "input": [
      "SN =  sia.snObject.SNObject(ra=8.723553e-02, dec=2.618648e-01)\n",
      "SN.set(z=0.96, t0=571181, x1=2.66,c=0.353, x0=1.796112e-06)"
     ],
     "language": "python",
     "metadata": {},
     "outputs": [],
     "prompt_number": 2
    },
    {
     "cell_type": "markdown",
     "metadata": {},
     "source": [
      "We can look at the properties of SN "
     ]
    },
    {
     "cell_type": "code",
     "collapsed": false,
     "input": [
      "print SN"
     ],
     "language": "python",
     "metadata": {},
     "outputs": [
      {
       "output_type": "stream",
       "stream": "stdout",
       "text": [
        "<SNObject at 0x1043c2290>\n",
        "source:\n",
        "  class      : SALT2Source\n",
        "  name       : 'salt2-extended'\n",
        "  version    : 1.0\n",
        "  phases     : [-20, .., 50] days\n",
        "  wavelengths: [300, .., 18000] Angstroms\n",
        "effect (name='host' frame='rest'):\n",
        "  class           : CCM89Dust\n",
        "  wavelength range: [909.09, 33333.3] Angstroms\n",
        "effect (name='mw' frame='obs'):\n",
        "  class           : CCM89Dust\n",
        "  wavelength range: [909.09, 33333.3] Angstroms\n",
        "parameters:\n",
        "  z       = 0.95999999999999996\n",
        "  t0      = 571181.0\n",
        "  x0      = 1.796112e-06\n",
        "  x1      = 2.6600000000000001\n",
        "  c       = 0.35299999999999998\n",
        "  hostebv = 0.0\n",
        "  hostr_v = 3.1000000000000001\n",
        "  mwebv   = 0.0\n",
        "  mwr_v   = 3.1000000000000001\n"
       ]
      }
     ],
     "prompt_number": 3
    },
    {
     "cell_type": "markdown",
     "metadata": {},
     "source": [
      "A few other things about this:    "
     ]
    },
    {
     "cell_type": "code",
     "collapsed": false,
     "input": [
      "print 'EBV of MW, calculated automatically from the ra, dec from O\\'Donnell, 94:\\n\\nEBVMW =', SN.ebvofMW , '\\n'\n",
      "print 'wavelength range of model which depends on the redshift: \\n'\n",
      "print 'min wavelength = ', SN.minwave(), 'Ang'\n",
      "print 'max wavelength = ', SN.maxwave(), 'Ang\\n'\n",
      "print 'min time (mjd) = ', SN.mintime() \n",
      "print 'max time (mjd) = ', SN.maxtime() "
     ],
     "language": "python",
     "metadata": {},
     "outputs": [
      {
       "output_type": "stream",
       "stream": "stdout",
       "text": [
        "EBV of MW, calculated automatically from the ra, dec from O'Donnell, 94:\n",
        "\n",
        "EBVMW = 0.0307121910155 \n",
        "\n",
        "wavelength range of model which depends on the redshift: \n",
        "\n",
        "min wavelength =  1781.8164 Ang\n",
        "max wavelength =  33333.33 Ang\n",
        "\n",
        "min time (mjd) =  571141.8\n",
        "max time (mjd) =  571279.0\n"
       ]
      }
     ],
     "prompt_number": 4
    },
    {
     "cell_type": "code",
     "collapsed": false,
     "input": [
      "mjdobs = 571203"
     ],
     "language": "python",
     "metadata": {},
     "outputs": [],
     "prompt_number": 5
    },
    {
     "cell_type": "code",
     "collapsed": false,
     "input": [
      "SN.set_MWebv(0.0)\n",
      "#print SN.ebvofMW\n",
      "\n",
      "print sia.__file__"
     ],
     "language": "python",
     "metadata": {},
     "outputs": [
      {
       "output_type": "stream",
       "stream": "stdout",
       "text": [
        "/Users/rbiswas/.local/lib/python2.7/site-packages/SNIaCatalogs-0.1.dev0-py2.7.egg/sniacatalogs/__init__.pyc\n"
       ]
      }
     ],
     "prompt_number": 6
    },
    {
     "cell_type": "code",
     "collapsed": false,
     "input": [
      "SN.maxtime()"
     ],
     "language": "python",
     "metadata": {},
     "outputs": [
      {
       "metadata": {},
       "output_type": "pyout",
       "prompt_number": 7,
       "text": [
        "571279.0"
       ]
      }
     ],
     "prompt_number": 7
    },
    {
     "cell_type": "code",
     "collapsed": false,
     "input": [
      "SN.mintime()"
     ],
     "language": "python",
     "metadata": {},
     "outputs": [
      {
       "metadata": {},
       "output_type": "pyout",
       "prompt_number": 8,
       "text": [
        "571141.80000000005"
       ]
      }
     ],
     "prompt_number": 8
    },
    {
     "cell_type": "code",
     "collapsed": false,
     "input": [
      "wave = np.arange(3000., 6000., 50.)\n",
      "wavenm = wave/10.\n",
      "print SN.flux(time=mjdobs, wave=wave)\n",
      "sed = SN.SNObjectSED(time=mjdobs, wavelen=wavenm)\n",
      "print sed.wavelen\n",
      "print sed.flambda\n",
      "print SN.flux(time=mjdobs, wave=wave)/sed.flambda * 10."
     ],
     "language": "python",
     "metadata": {},
     "outputs": [
      {
       "output_type": "stream",
       "stream": "stdout",
       "text": [
        "[ -2.55006664e-25  -2.89734645e-25  -3.28327901e-25  -3.70959490e-25\n",
        "  -4.17140604e-25  -4.67038350e-25  -5.22559065e-25  -5.86782421e-25\n",
        "  -6.64520763e-25  -7.57420446e-25  -8.68049006e-25  -9.97556347e-25\n",
        "  -1.15382839e-24  -1.34604403e-24  -1.58383150e-24  -1.87266805e-24\n",
        "  -2.21245514e-24  -2.60017875e-24  -3.01874882e-24  -5.28365949e-24\n",
        "  -1.84133593e-23  -4.70988898e-23  -7.90433572e-23  -9.49059111e-23\n",
        "  -9.10336391e-23  -9.21179359e-23  -1.08690165e-22  -1.36650253e-22\n",
        "  -1.62615489e-22  -1.85871410e-22  -2.27204647e-22  -2.98674491e-22\n",
        "  -3.86022352e-22  -4.49934088e-22  -4.84956306e-22  -5.32408358e-22\n",
        "  -6.08854828e-22  -7.06238307e-22  -8.09486941e-22  -9.13532340e-22\n",
        "  -9.89848889e-22  -1.03186003e-21  -1.17076650e-21  -1.50866087e-21\n",
        "  -2.04779369e-21  -2.80105458e-21  -3.72243178e-21  -4.45124022e-21\n",
        "  -4.90894245e-21  -4.97190593e-21  -4.48543139e-21  -3.36956611e-21\n",
        "  -1.93185402e-21   1.99401021e-22   3.98444081e-21   9.28487504e-21\n",
        "   1.30232360e-20   1.42696139e-20   1.46908104e-20   1.50221847e-20]\n",
        "[ 300.  305.  310.  315.  320.  325.  330.  335.  340.  345.  350.  355.\n",
        "  360.  365.  370.  375.  380.  385.  390.  395.  400.  405.  410.  415.\n",
        "  420.  425.  430.  435.  440.  445.  450.  455.  460.  465.  470.  475.\n",
        "  480.  485.  490.  495.  500.  505.  510.  515.  520.  525.  530.  535.\n",
        "  540.  545.  550.  555.  560.  565.  570.  575.  580.  585.  590.  595.]\n",
        "[ -2.55006664e-24  -2.89734645e-24  -3.28327901e-24  -3.70959490e-24\n",
        "  -4.17140604e-24  -4.67038350e-24  -5.22559065e-24  -5.86782421e-24\n",
        "  -6.64520763e-24  -7.57420446e-24  -8.68049006e-24  -9.97556347e-24\n",
        "  -1.15382839e-23  -1.34604403e-23  -1.58383150e-23  -1.87266805e-23\n",
        "  -2.21245514e-23  -2.60017875e-23  -3.01874882e-23  -5.28365949e-23\n",
        "  -1.84133593e-22  -4.70988898e-22  -7.90433572e-22  -9.49059111e-22\n",
        "  -9.10336391e-22  -9.21179359e-22  -1.08690165e-21  -1.36650253e-21\n",
        "  -1.62615489e-21  -1.85871410e-21  -2.27204647e-21  -2.98674491e-21\n",
        "  -3.86022352e-21  -4.49934088e-21  -4.84956306e-21  -5.32408358e-21\n",
        "  -6.08854828e-21  -7.06238307e-21  -8.09486941e-21  -9.13532340e-21\n",
        "  -9.89848889e-21  -1.03186003e-20  -1.17076650e-20  -1.50866087e-20\n",
        "  -2.04779369e-20  -2.80105458e-20  -3.72243178e-20  -4.45124022e-20\n",
        "  -4.90894245e-20  -4.97190593e-20  -4.48543139e-20  -3.36956611e-20\n",
        "  -1.93185402e-20   1.99401021e-21   3.98444081e-20   9.28487504e-20\n",
        "   1.30232360e-19   1.42696139e-19   1.46908104e-19   1.50221847e-19]\n",
        "[ 1.  1.  1.  1.  1.  1.  1.  1.  1.  1.  1.  1.  1.  1.  1.  1.  1.  1.\n",
        "  1.  1.  1.  1.  1.  1.  1.  1.  1.  1.  1.  1.  1.  1.  1.  1.  1.  1.\n",
        "  1.  1.  1.  1.  1.  1.  1.  1.  1.  1.  1.  1.  1.  1.  1.  1.  1.  1.\n",
        "  1.  1.  1.  1.  1.  1.]\n"
       ]
      }
     ],
     "prompt_number": 9
    },
    {
     "cell_type": "code",
     "collapsed": false,
     "input": [
      "print SN.SNObjectSED(time=mjdobs, wavelen=wavenm).flambda"
     ],
     "language": "python",
     "metadata": {},
     "outputs": [
      {
       "output_type": "stream",
       "stream": "stdout",
       "text": [
        "[ -2.55006664e-24  -2.89734645e-24  -3.28327901e-24  -3.70959490e-24\n",
        "  -4.17140604e-24  -4.67038350e-24  -5.22559065e-24  -5.86782421e-24\n",
        "  -6.64520763e-24  -7.57420446e-24  -8.68049006e-24  -9.97556347e-24\n",
        "  -1.15382839e-23  -1.34604403e-23  -1.58383150e-23  -1.87266805e-23\n",
        "  -2.21245514e-23  -2.60017875e-23  -3.01874882e-23  -5.28365949e-23\n",
        "  -1.84133593e-22  -4.70988898e-22  -7.90433572e-22  -9.49059111e-22\n",
        "  -9.10336391e-22  -9.21179359e-22  -1.08690165e-21  -1.36650253e-21\n",
        "  -1.62615489e-21  -1.85871410e-21  -2.27204647e-21  -2.98674491e-21\n",
        "  -3.86022352e-21  -4.49934088e-21  -4.84956306e-21  -5.32408358e-21\n",
        "  -6.08854828e-21  -7.06238307e-21  -8.09486941e-21  -9.13532340e-21\n",
        "  -9.89848889e-21  -1.03186003e-20  -1.17076650e-20  -1.50866087e-20\n",
        "  -2.04779369e-20  -2.80105458e-20  -3.72243178e-20  -4.45124022e-20\n",
        "  -4.90894245e-20  -4.97190593e-20  -4.48543139e-20  -3.36956611e-20\n",
        "  -1.93185402e-20   1.99401021e-21   3.98444081e-20   9.28487504e-20\n",
        "   1.30232360e-19   1.42696139e-19   1.46908104e-19   1.50221847e-19]\n"
       ]
      }
     ],
     "prompt_number": 10
    },
    {
     "cell_type": "code",
     "collapsed": false,
     "input": [
      "specfig, specax, diff =  pu.settwopanel(setdifflimits=[0.09,1.4])\n",
      "specax.plot(wave, SN.flux(time=mjdobs, wave=wave))\n",
      "sed = SN.SNObjectSED(time=mjdobs, wavelen=wavenm)\n",
      "specax.plot(wave, sed.flambda)\n",
      "specax.set_ylabel('flux density')\n",
      "diff.set_xlabel(r'$\\lambda (\\AA)$')\n",
      "diff.set_ylabel('snObject/SNCosmo/10')\n",
      "diff.plot (wave, sed.flambda/SN.flux(time=mjdobs, wave=wave)/10. )"
     ],
     "language": "python",
     "metadata": {},
     "outputs": [
      {
       "ename": "NameError",
       "evalue": "name 'pu' is not defined",
       "output_type": "pyerr",
       "traceback": [
        "\u001b[0;31m---------------------------------------------------------------------------\u001b[0m\n\u001b[0;31mNameError\u001b[0m                                 Traceback (most recent call last)",
        "\u001b[0;32m<ipython-input-11-315d687666d6>\u001b[0m in \u001b[0;36m<module>\u001b[0;34m()\u001b[0m\n\u001b[0;32m----> 1\u001b[0;31m \u001b[0mspecfig\u001b[0m\u001b[0;34m,\u001b[0m \u001b[0mspecax\u001b[0m\u001b[0;34m,\u001b[0m \u001b[0mdiff\u001b[0m \u001b[0;34m=\u001b[0m  \u001b[0mpu\u001b[0m\u001b[0;34m.\u001b[0m\u001b[0msettwopanel\u001b[0m\u001b[0;34m(\u001b[0m\u001b[0msetdifflimits\u001b[0m\u001b[0;34m=\u001b[0m\u001b[0;34m[\u001b[0m\u001b[0;36m0.09\u001b[0m\u001b[0;34m,\u001b[0m\u001b[0;36m1.4\u001b[0m\u001b[0;34m]\u001b[0m\u001b[0;34m)\u001b[0m\u001b[0;34m\u001b[0m\u001b[0m\n\u001b[0m\u001b[1;32m      2\u001b[0m \u001b[0mspecax\u001b[0m\u001b[0;34m.\u001b[0m\u001b[0mplot\u001b[0m\u001b[0;34m(\u001b[0m\u001b[0mwave\u001b[0m\u001b[0;34m,\u001b[0m \u001b[0mSN\u001b[0m\u001b[0;34m.\u001b[0m\u001b[0mflux\u001b[0m\u001b[0;34m(\u001b[0m\u001b[0mtime\u001b[0m\u001b[0;34m=\u001b[0m\u001b[0mmjdobs\u001b[0m\u001b[0;34m,\u001b[0m \u001b[0mwave\u001b[0m\u001b[0;34m=\u001b[0m\u001b[0mwave\u001b[0m\u001b[0;34m)\u001b[0m\u001b[0;34m)\u001b[0m\u001b[0;34m\u001b[0m\u001b[0m\n\u001b[1;32m      3\u001b[0m \u001b[0msed\u001b[0m \u001b[0;34m=\u001b[0m \u001b[0mSN\u001b[0m\u001b[0;34m.\u001b[0m\u001b[0mSNObjectSED\u001b[0m\u001b[0;34m(\u001b[0m\u001b[0mtime\u001b[0m\u001b[0;34m=\u001b[0m\u001b[0mmjdobs\u001b[0m\u001b[0;34m,\u001b[0m \u001b[0mwavelen\u001b[0m\u001b[0;34m=\u001b[0m\u001b[0mwavenm\u001b[0m\u001b[0;34m)\u001b[0m\u001b[0;34m\u001b[0m\u001b[0m\n\u001b[1;32m      4\u001b[0m \u001b[0mspecax\u001b[0m\u001b[0;34m.\u001b[0m\u001b[0mplot\u001b[0m\u001b[0;34m(\u001b[0m\u001b[0mwave\u001b[0m\u001b[0;34m,\u001b[0m \u001b[0msed\u001b[0m\u001b[0;34m.\u001b[0m\u001b[0mflambda\u001b[0m\u001b[0;34m)\u001b[0m\u001b[0;34m\u001b[0m\u001b[0m\n\u001b[1;32m      5\u001b[0m \u001b[0mspecax\u001b[0m\u001b[0;34m.\u001b[0m\u001b[0mset_ylabel\u001b[0m\u001b[0;34m(\u001b[0m\u001b[0;34m'flux density'\u001b[0m\u001b[0;34m)\u001b[0m\u001b[0;34m\u001b[0m\u001b[0m\n",
        "\u001b[0;31mNameError\u001b[0m: name 'pu' is not defined"
       ]
      }
     ],
     "prompt_number": 11
    },
    {
     "cell_type": "markdown",
     "metadata": {},
     "source": [
      "The slope is due to extinction calculated in SED, while the extinction has not been added to SNCosmo. The two are offset \n",
      "by a factor of 10 as they have different length units  in flux density."
     ]
    },
    {
     "cell_type": "code",
     "collapsed": false,
     "input": [
      "wave = np.arange(10., 15000., 50.)\n",
      "sed = SN.SNObjectSED(time=0., wavelen=wave)"
     ],
     "language": "python",
     "metadata": {},
     "outputs": [],
     "prompt_number": 12
    },
    {
     "cell_type": "code",
     "collapsed": false,
     "input": [
      "print sed.wavelen "
     ],
     "language": "python",
     "metadata": {},
     "outputs": [
      {
       "output_type": "stream",
       "stream": "stdout",
       "text": [
        "[  1.00000000e+01   6.00000000e+01   1.10000000e+02   1.60000000e+02\n",
        "   2.10000000e+02   2.60000000e+02   3.10000000e+02   3.60000000e+02\n",
        "   4.10000000e+02   4.60000000e+02   5.10000000e+02   5.60000000e+02\n",
        "   6.10000000e+02   6.60000000e+02   7.10000000e+02   7.60000000e+02\n",
        "   8.10000000e+02   8.60000000e+02   9.10000000e+02   9.60000000e+02\n",
        "   1.01000000e+03   1.06000000e+03   1.11000000e+03   1.16000000e+03\n",
        "   1.21000000e+03   1.26000000e+03   1.31000000e+03   1.36000000e+03\n",
        "   1.41000000e+03   1.46000000e+03   1.51000000e+03   1.56000000e+03\n",
        "   1.61000000e+03   1.66000000e+03   1.71000000e+03   1.76000000e+03\n",
        "   1.81000000e+03   1.86000000e+03   1.91000000e+03   1.96000000e+03\n",
        "   2.01000000e+03   2.06000000e+03   2.11000000e+03   2.16000000e+03\n",
        "   2.21000000e+03   2.26000000e+03   2.31000000e+03   2.36000000e+03\n",
        "   2.41000000e+03   2.46000000e+03   2.51000000e+03   2.56000000e+03\n",
        "   2.61000000e+03   2.66000000e+03   2.71000000e+03   2.76000000e+03\n",
        "   2.81000000e+03   2.86000000e+03   2.91000000e+03   2.96000000e+03\n",
        "   3.01000000e+03   3.06000000e+03   3.11000000e+03   3.16000000e+03\n",
        "   3.21000000e+03   3.26000000e+03   3.31000000e+03   3.36000000e+03\n",
        "   3.41000000e+03   3.46000000e+03   3.51000000e+03   3.56000000e+03\n",
        "   3.61000000e+03   3.66000000e+03   3.71000000e+03   3.76000000e+03\n",
        "   3.81000000e+03   3.86000000e+03   3.91000000e+03   3.96000000e+03\n",
        "   4.01000000e+03   4.06000000e+03   4.11000000e+03   4.16000000e+03\n",
        "   4.21000000e+03   4.26000000e+03   4.31000000e+03   4.36000000e+03\n",
        "   4.41000000e+03   4.46000000e+03   4.51000000e+03   4.56000000e+03\n",
        "   4.61000000e+03   4.66000000e+03   4.71000000e+03   4.76000000e+03\n",
        "   4.81000000e+03   4.86000000e+03   4.91000000e+03   4.96000000e+03\n",
        "   5.01000000e+03   5.06000000e+03   5.11000000e+03   5.16000000e+03\n",
        "   5.21000000e+03   5.26000000e+03   5.31000000e+03   5.36000000e+03\n",
        "   5.41000000e+03   5.46000000e+03   5.51000000e+03   5.56000000e+03\n",
        "   5.61000000e+03   5.66000000e+03   5.71000000e+03   5.76000000e+03\n",
        "   5.81000000e+03   5.86000000e+03   5.91000000e+03   5.96000000e+03\n",
        "   6.01000000e+03   6.06000000e+03   6.11000000e+03   6.16000000e+03\n",
        "   6.21000000e+03   6.26000000e+03   6.31000000e+03   6.36000000e+03\n",
        "   6.41000000e+03   6.46000000e+03   6.51000000e+03   6.56000000e+03\n",
        "   6.61000000e+03   6.66000000e+03   6.71000000e+03   6.76000000e+03\n",
        "   6.81000000e+03   6.86000000e+03   6.91000000e+03   6.96000000e+03\n",
        "   7.01000000e+03   7.06000000e+03   7.11000000e+03   7.16000000e+03\n",
        "   7.21000000e+03   7.26000000e+03   7.31000000e+03   7.36000000e+03\n",
        "   7.41000000e+03   7.46000000e+03   7.51000000e+03   7.56000000e+03\n",
        "   7.61000000e+03   7.66000000e+03   7.71000000e+03   7.76000000e+03\n",
        "   7.81000000e+03   7.86000000e+03   7.91000000e+03   7.96000000e+03\n",
        "   8.01000000e+03   8.06000000e+03   8.11000000e+03   8.16000000e+03\n",
        "   8.21000000e+03   8.26000000e+03   8.31000000e+03   8.36000000e+03\n",
        "   8.41000000e+03   8.46000000e+03   8.51000000e+03   8.56000000e+03\n",
        "   8.61000000e+03   8.66000000e+03   8.71000000e+03   8.76000000e+03\n",
        "   8.81000000e+03   8.86000000e+03   8.91000000e+03   8.96000000e+03\n",
        "   9.01000000e+03   9.06000000e+03   9.11000000e+03   9.16000000e+03\n",
        "   9.21000000e+03   9.26000000e+03   9.31000000e+03   9.36000000e+03\n",
        "   9.41000000e+03   9.46000000e+03   9.51000000e+03   9.56000000e+03\n",
        "   9.61000000e+03   9.66000000e+03   9.71000000e+03   9.76000000e+03\n",
        "   9.81000000e+03   9.86000000e+03   9.91000000e+03   9.96000000e+03\n",
        "   1.00100000e+04   1.00600000e+04   1.01100000e+04   1.01600000e+04\n",
        "   1.02100000e+04   1.02600000e+04   1.03100000e+04   1.03600000e+04\n",
        "   1.04100000e+04   1.04600000e+04   1.05100000e+04   1.05600000e+04\n",
        "   1.06100000e+04   1.06600000e+04   1.07100000e+04   1.07600000e+04\n",
        "   1.08100000e+04   1.08600000e+04   1.09100000e+04   1.09600000e+04\n",
        "   1.10100000e+04   1.10600000e+04   1.11100000e+04   1.11600000e+04\n",
        "   1.12100000e+04   1.12600000e+04   1.13100000e+04   1.13600000e+04\n",
        "   1.14100000e+04   1.14600000e+04   1.15100000e+04   1.15600000e+04\n",
        "   1.16100000e+04   1.16600000e+04   1.17100000e+04   1.17600000e+04\n",
        "   1.18100000e+04   1.18600000e+04   1.19100000e+04   1.19600000e+04\n",
        "   1.20100000e+04   1.20600000e+04   1.21100000e+04   1.21600000e+04\n",
        "   1.22100000e+04   1.22600000e+04   1.23100000e+04   1.23600000e+04\n",
        "   1.24100000e+04   1.24600000e+04   1.25100000e+04   1.25600000e+04\n",
        "   1.26100000e+04   1.26600000e+04   1.27100000e+04   1.27600000e+04\n",
        "   1.28100000e+04   1.28600000e+04   1.29100000e+04   1.29600000e+04\n",
        "   1.30100000e+04   1.30600000e+04   1.31100000e+04   1.31600000e+04\n",
        "   1.32100000e+04   1.32600000e+04   1.33100000e+04   1.33600000e+04\n",
        "   1.34100000e+04   1.34600000e+04   1.35100000e+04   1.35600000e+04\n",
        "   1.36100000e+04   1.36600000e+04   1.37100000e+04   1.37600000e+04\n",
        "   1.38100000e+04   1.38600000e+04   1.39100000e+04   1.39600000e+04\n",
        "   1.40100000e+04   1.40600000e+04   1.41100000e+04   1.41600000e+04\n",
        "   1.42100000e+04   1.42600000e+04   1.43100000e+04   1.43600000e+04\n",
        "   1.44100000e+04   1.44600000e+04   1.45100000e+04   1.45600000e+04\n",
        "   1.46100000e+04   1.46600000e+04   1.47100000e+04   1.47600000e+04\n",
        "   1.48100000e+04   1.48600000e+04   1.49100000e+04   1.49600000e+04]\n"
       ]
      }
     ],
     "prompt_number": 13
    },
    {
     "cell_type": "code",
     "collapsed": false,
     "input": [
      "from lsst.sims.photUtils.Photometry import PhotometryBase"
     ],
     "language": "python",
     "metadata": {},
     "outputs": [],
     "prompt_number": 14
    },
    {
     "cell_type": "code",
     "collapsed": false,
     "input": [
      "bandpassnames = ['u', 'g', 'r', 'i', 'z', 'y']\n",
      "pbase = PhotometryBase()\n",
      "pbase.loadBandpassesFromFiles(bandpassnames)\n",
      "bandpasslist = map(lambda x: pbase.bandpassDict[x], bandpassnames)"
     ],
     "language": "python",
     "metadata": {},
     "outputs": [],
     "prompt_number": 15
    },
    {
     "cell_type": "code",
     "collapsed": false,
     "input": [
      "bandpasslist[0].wavelen_step"
     ],
     "language": "python",
     "metadata": {},
     "outputs": [
      {
       "metadata": {},
       "output_type": "pyout",
       "prompt_number": 16,
       "text": [
        "0.10000000000002274"
       ]
      }
     ],
     "prompt_number": 16
    },
    {
     "cell_type": "code",
     "collapsed": false,
     "input": [
      "SN.catsimBandFluxes(bandpassobject=bandpasslist[0], time=mjdobs, phiarray=pbase.phiArray)"
     ],
     "language": "python",
     "metadata": {},
     "outputs": [
      {
       "metadata": {},
       "output_type": "pyout",
       "prompt_number": 17,
       "text": [
        "array([  1.12142800e-10,  -1.00938769e-09,   5.25682099e-08,\n",
        "         3.48372099e-07,   6.08070433e-07,   5.89654146e-07])"
       ]
      }
     ],
     "prompt_number": 17
    },
    {
     "cell_type": "code",
     "collapsed": false,
     "input": [
      "import lsst.sims.photUtils.PhotometricParameters as PhotometricParameters"
     ],
     "language": "python",
     "metadata": {},
     "outputs": [],
     "prompt_number": 18
    },
    {
     "cell_type": "code",
     "collapsed": false,
     "input": [
      "pp = PhotometricParameters(exptime=30.)"
     ],
     "language": "python",
     "metadata": {},
     "outputs": [],
     "prompt_number": 19
    },
    {
     "cell_type": "code",
     "collapsed": false,
     "input": [
      "SN.catsimADU(bandpassDict=pbase.bandpassDict, time=mjdobs, photParams=pp)"
     ],
     "language": "python",
     "metadata": {},
     "outputs": [
      {
       "metadata": {},
       "output_type": "pyout",
       "prompt_number": 21,
       "text": [
        "array([  7.79255677e-02,  -2.03448438e+00,   8.38719417e+01,\n",
        "         4.13107337e+02,   4.97483174e+02,   2.52693912e+02])"
       ]
      }
     ],
     "prompt_number": 21
    },
    {
     "cell_type": "code",
     "collapsed": false,
     "input": [
      "SN.catsimBandMags(bandpassobject=bandpasslist[0], time=mjdobs + 23, phiarray=pbase.phiArray)"
     ],
     "language": "python",
     "metadata": {},
     "outputs": []
    },
    {
     "cell_type": "code",
     "collapsed": false,
     "input": [
      "print SN.summary()"
     ],
     "language": "python",
     "metadata": {},
     "outputs": []
    },
    {
     "cell_type": "code",
     "collapsed": false,
     "input": [
      "SN.get('t0') - mjdobs"
     ],
     "language": "python",
     "metadata": {},
     "outputs": []
    },
    {
     "cell_type": "code",
     "collapsed": false,
     "input": [
      "import sncosmo\n"
     ],
     "language": "python",
     "metadata": {},
     "outputs": []
    },
    {
     "cell_type": "code",
     "collapsed": false,
     "input": [
      "mysed = SN.SNObjectSED(time=mjdobs, bandpassobject=bandpasslist[0])"
     ],
     "language": "python",
     "metadata": {},
     "outputs": []
    },
    {
     "cell_type": "code",
     "collapsed": false,
     "input": [
      "\n"
     ],
     "language": "python",
     "metadata": {},
     "outputs": []
    },
    {
     "cell_type": "code",
     "collapsed": false,
     "input": [
      "mysed.flambdaTofnu()"
     ],
     "language": "python",
     "metadata": {},
     "outputs": []
    },
    {
     "cell_type": "code",
     "collapsed": false,
     "input": [
      "mysed.manyFluxCalc(phiarray=pbase.phiArray, wavelen_step=bandpasslist[0].wavelen_step)"
     ],
     "language": "python",
     "metadata": {},
     "outputs": []
    },
    {
     "cell_type": "code",
     "collapsed": false,
     "input": [
      "mysed.manyMagCalc(phiarray=pbase.phiArray, wavelen_step=bandpasslist[0].wavelen_step)"
     ],
     "language": "python",
     "metadata": {},
     "outputs": []
    },
    {
     "cell_type": "code",
     "collapsed": false,
     "input": [
      "max(map(lambda x: max(x.sb), bandpasslist))"
     ],
     "language": "python",
     "metadata": {},
     "outputs": []
    },
    {
     "cell_type": "code",
     "collapsed": false,
     "input": [
      "sns.set()\n",
      "specfig, specax = plt.subplots() # pu.settwopanel(setdifflimits=[0.09,1.4])\n",
      "# specax.plot(wave, SN.flux(time=mjdobs, wave=wave))\n",
      "# sed = SN.SNObjectSED(time=mjdobs, wavelen=wavenm)\n",
      "specax.plot(mysed.wavelen, mysed.flambda, '-k', lw=2.0)\n",
      "specax.set_ylabel('flux density')\n",
      "specax.set_xlabel(r'$\\lambda (nm)$')\n",
      "ymin, ymax = plt.ylim()\n",
      "# filternames = ['u', 'g', 'r', 'i', 'z', 'y']\n",
      "# bp = map(lambda x: pbase.bandpassDict[x], filternames)\n",
      "#maxsb = max(map(lambda x: max(pbase.bandpassDict[x].sb), filternames))\n",
      "maxsb = max(map(lambda x: max(x.sb), bandpasslist))\n",
      "r = 0.8 / (maxsb / ymax ) \n",
      "trans = 0.2\n",
      "specax.fill(bandpasslist[0].wavelen, bandpasslist[0].sb *r, alpha=trans)\n",
      "specax.fill(bandpasslist[0].wavelen, bandpasslist[1].sb *r, alpha=trans)\n",
      "specax.fill(bandpasslist[0].wavelen, bandpasslist[2].sb *r, alpha=trans)\n",
      "specax.fill(bandpasslist[0].wavelen, bandpasslist[3].sb *r, alpha=trans)\n",
      "specax.fill(bandpasslist[0].wavelen, bandpasslist[4].sb *r, alpha=trans)\n",
      "specax.fill(bandpasslist[0].wavelen, bandpasslist[5].sb *r, alpha=trans)\n",
      "# specax.set_ylim(-1.0e-20,1.0e-20)"
     ],
     "language": "python",
     "metadata": {},
     "outputs": []
    },
    {
     "cell_type": "code",
     "collapsed": false,
     "input": [
      "SN.set(mwebv=SN.ebvofMW)"
     ],
     "language": "python",
     "metadata": {},
     "outputs": []
    },
    {
     "cell_type": "code",
     "collapsed": false,
     "input": [
      "SN.bandflux(band=['desg', 'desr', 'desi', 'desz'], time=mjdobs, zpsys='ab', zp=0. )"
     ],
     "language": "python",
     "metadata": {},
     "outputs": []
    },
    {
     "cell_type": "code",
     "collapsed": false,
     "input": [
      "SN.bandmag(band=['desg', 'desr', 'desi', 'desz'], time=mjdobs, magsys='ab')"
     ],
     "language": "python",
     "metadata": {},
     "outputs": []
    },
    {
     "cell_type": "code",
     "collapsed": false,
     "input": [
      "print SN"
     ],
     "language": "python",
     "metadata": {},
     "outputs": []
    },
    {
     "cell_type": "code",
     "collapsed": false,
     "input": [
      "print mjdobs"
     ],
     "language": "python",
     "metadata": {},
     "outputs": []
    },
    {
     "cell_type": "code",
     "collapsed": false,
     "input": [
      "phase = (mjdobs - SN.parameters[SN.param_names.index('t0')]) / (SN.parameters[SN.param_names.index('z')]+ 1.)"
     ],
     "language": "python",
     "metadata": {},
     "outputs": []
    },
    {
     "cell_type": "code",
     "collapsed": false,
     "input": [
      "print phase"
     ],
     "language": "python",
     "metadata": {},
     "outputs": []
    },
    {
     "cell_type": "code",
     "collapsed": false,
     "input": [
      "SN.param_names.index('t0')"
     ],
     "language": "python",
     "metadata": {},
     "outputs": []
    },
    {
     "cell_type": "code",
     "collapsed": false,
     "input": [
      "import lsst.sims.photUtils.PhotometricParameters as PhotometricParameters"
     ],
     "language": "python",
     "metadata": {},
     "outputs": []
    },
    {
     "cell_type": "code",
     "collapsed": false,
     "input": [
      "pp = PhotometricParameters(exptime=30.)"
     ],
     "language": "python",
     "metadata": {},
     "outputs": []
    },
    {
     "cell_type": "code",
     "collapsed": false,
     "input": [
      "pbase.setupPhiArray_dict()"
     ],
     "language": "python",
     "metadata": {},
     "outputs": []
    },
    {
     "cell_type": "code",
     "collapsed": false,
     "input": [
      "phiarray, dlambda = mysed.setupPhiArray(bandpasslist)"
     ],
     "language": "python",
     "metadata": {},
     "outputs": []
    },
    {
     "cell_type": "code",
     "collapsed": false,
     "input": [
      "phiarray.shape"
     ],
     "language": "python",
     "metadata": {},
     "outputs": []
    },
    {
     "cell_type": "code",
     "collapsed": false,
     "input": [
      "SN.catsimADU(bandpassobject=bandpasslist[0], photParams=pp, time=mjdobs)"
     ],
     "language": "python",
     "metadata": {},
     "outputs": []
    },
    {
     "cell_type": "code",
     "collapsed": false,
     "input": [],
     "language": "python",
     "metadata": {},
     "outputs": []
    }
   ],
   "metadata": {}
  }
 ]
}