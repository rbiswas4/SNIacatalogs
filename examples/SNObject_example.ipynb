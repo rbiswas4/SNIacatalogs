{
 "metadata": {
  "name": "",
  "signature": "sha256:317f9fdda5af0f5c2e6fac90a7617a6f423a06740facf82943df811afa174e54"
 },
 "nbformat": 3,
 "nbformat_minor": 0,
 "worksheets": [
  {
   "cells": [
    {
     "cell_type": "code",
     "collapsed": false,
     "input": [
      "import sniacatalogs as sia\n",
      "\n",
      "from lsst.sims.photUtils import Bandpass\n",
      "import numpy as np\n",
      "%matplotlib inline\n",
      "import matplotlib.pyplot as plt\n",
      "import seaborn as sns\n",
      "sns.set()\n",
      "from bbutils import plotutils as pu"
     ],
     "language": "python",
     "metadata": {},
     "outputs": [],
     "prompt_number": 1
    },
    {
     "cell_type": "code",
     "collapsed": false,
     "input": [
      "SN =  sia.snObject.SNObject(ra=8.723553e-02, dec=2.618648e-01)\n",
      "mjdobs = 571203"
     ],
     "language": "python",
     "metadata": {},
     "outputs": [],
     "prompt_number": 2
    },
    {
     "cell_type": "code",
     "collapsed": false,
     "input": [
      "print SN"
     ],
     "language": "python",
     "metadata": {},
     "outputs": [
      {
       "output_type": "stream",
       "stream": "stdout",
       "text": [
        "<SNObject at 0x1043938d0>\n",
        "source:\n",
        "  class      : SALT2Source\n",
        "  name       : None\n",
        "  version    : None\n",
        "  phases     : [-20, .., 50] days\n",
        "  wavelengths: [300, .., 18000] Angstroms\n",
        "effect (name='host' frame='rest'):\n",
        "  class           : CCM89Dust\n",
        "  wavelength range: [909.09, 33333.3] Angstroms\n",
        "effect (name='mw' frame='obs'):\n",
        "  class           : CCM89Dust\n",
        "  wavelength range: [909.09, 33333.3] Angstroms\n",
        "parameters:\n",
        "  z       = 0.0\n",
        "  t0      = 0.0\n",
        "  x0      = 1.0\n",
        "  x1      = 0.0\n",
        "  c       = 0.0\n",
        "  hostebv = 0.0\n",
        "  hostr_v = 3.1000000000000001\n",
        "  mwebv   = 0.0\n",
        "  mwr_v   = 3.1000000000000001\n"
       ]
      }
     ],
     "prompt_number": 3
    },
    {
     "cell_type": "code",
     "collapsed": false,
     "input": [
      "SN.set(z=0.96, t0=571181, x1=2.66,c=0.353)"
     ],
     "language": "python",
     "metadata": {},
     "outputs": [],
     "prompt_number": 4
    },
    {
     "cell_type": "code",
     "collapsed": false,
     "input": [
      "print SN.ebvofMW"
     ],
     "language": "python",
     "metadata": {},
     "outputs": [
      {
       "output_type": "stream",
       "stream": "stdout",
       "text": [
        "0.0307121910155\n"
       ]
      }
     ],
     "prompt_number": 5
    },
    {
     "cell_type": "code",
     "collapsed": false,
     "input": [
      "SN.set_MWebv(0.0)\n",
      "#print SN.ebvofMW\n",
      "\n",
      "print sia.__file__"
     ],
     "language": "python",
     "metadata": {},
     "outputs": [
      {
       "output_type": "stream",
       "stream": "stdout",
       "text": [
        "/Users/rbiswas/.local/lib/python2.7/site-packages/SNIaCatalogs-0.1dev-py2.7.egg/sniacatalogs/__init__.pyc\n"
       ]
      }
     ],
     "prompt_number": 6
    },
    {
     "cell_type": "code",
     "collapsed": false,
     "input": [
      "SN.maxtime()"
     ],
     "language": "python",
     "metadata": {},
     "outputs": [
      {
       "metadata": {},
       "output_type": "pyout",
       "prompt_number": 7,
       "text": [
        "571279.0"
       ]
      }
     ],
     "prompt_number": 7
    },
    {
     "cell_type": "code",
     "collapsed": false,
     "input": [
      "SN.mintime()"
     ],
     "language": "python",
     "metadata": {},
     "outputs": [
      {
       "metadata": {},
       "output_type": "pyout",
       "prompt_number": 8,
       "text": [
        "571141.80000000005"
       ]
      }
     ],
     "prompt_number": 8
    },
    {
     "cell_type": "code",
     "collapsed": false,
     "input": [
      "wave = np.arange(3000., 6000., 50.)\n",
      "wavenm = wave/10.\n",
      "print SN.flux(time=mjdobs, wave=wave)\n",
      "sed = SN.SNObjectSED(time=mjdobs, wavelen=wavenm)\n",
      "print sed.wavelen\n",
      "print sed.flambda\n",
      "print SN.flux(time=mjdobs, wave=wave)/sed.flambda * 10."
     ],
     "language": "python",
     "metadata": {},
     "outputs": [
      {
       "output_type": "stream",
       "stream": "stdout",
       "text": [
        "[ -1.41977039e-19  -1.61312126e-19  -1.82799236e-19  -2.06534720e-19\n",
        "  -2.32246432e-19  -2.60027409e-19  -2.90939020e-19  -3.26695897e-19\n",
        "  -3.69977353e-19  -4.21700009e-19  -4.83293362e-19  -5.55397630e-19\n",
        "  -6.42403362e-19  -7.49420986e-19  -8.81811103e-19  -1.04262321e-18\n",
        "  -1.23180244e-18  -1.44767072e-18  -1.68071302e-18  -2.94172050e-18\n",
        "  -1.02517879e-17  -2.62226909e-17  -4.40080336e-17  -5.28396398e-17\n",
        "  -5.06837208e-17  -5.12874119e-17  -6.05141353e-17  -7.60811422e-17\n",
        "  -9.05374993e-17  -1.03485423e-16  -1.26498039e-16  -1.66289458e-16\n",
        "  -2.14921092e-16  -2.50504472e-16  -2.70003377e-16  -2.96422694e-16\n",
        "  -3.38984890e-16  -3.93203936e-16  -4.50688454e-16  -5.08616578e-16\n",
        "  -5.51106439e-16  -5.74496482e-16  -6.51833794e-16  -8.39959241e-16\n",
        "  -1.14012583e-15  -1.55950997e-15  -2.07249424e-15  -2.47826429e-15\n",
        "  -2.73309373e-15  -2.76814916e-15  -2.49730050e-15  -1.87603340e-15\n",
        "  -1.07557547e-15   1.11018144e-16   2.21836991e-15   5.16942988e-15\n",
        "   7.25079280e-15   7.94472388e-15   8.17922849e-15   8.36372381e-15]\n",
        "[ 300.  305.  310.  315.  320.  325.  330.  335.  340.  345.  350.  355.\n",
        "  360.  365.  370.  375.  380.  385.  390.  395.  400.  405.  410.  415.\n",
        "  420.  425.  430.  435.  440.  445.  450.  455.  460.  465.  470.  475.\n",
        "  480.  485.  490.  495.  500.  505.  510.  515.  520.  525.  530.  535.\n",
        "  540.  545.  550.  555.  560.  565.  570.  575.  580.  585.  590.  595.]\n",
        "[ -1.41977039e-18  -1.61312126e-18  -1.82799236e-18  -2.06534720e-18\n",
        "  -2.32246432e-18  -2.60027409e-18  -2.90939020e-18  -3.26695897e-18\n",
        "  -3.69977353e-18  -4.21700009e-18  -4.83293362e-18  -5.55397630e-18\n",
        "  -6.42403362e-18  -7.49420986e-18  -8.81811103e-18  -1.04262321e-17\n",
        "  -1.23180244e-17  -1.44767072e-17  -1.68071302e-17  -2.94172050e-17\n",
        "  -1.02517879e-16  -2.62226909e-16  -4.40080336e-16  -5.28396398e-16\n",
        "  -5.06837208e-16  -5.12874119e-16  -6.05141353e-16  -7.60811422e-16\n",
        "  -9.05374993e-16  -1.03485423e-15  -1.26498039e-15  -1.66289458e-15\n",
        "  -2.14921092e-15  -2.50504472e-15  -2.70003377e-15  -2.96422694e-15\n",
        "  -3.38984890e-15  -3.93203936e-15  -4.50688454e-15  -5.08616578e-15\n",
        "  -5.51106439e-15  -5.74496482e-15  -6.51833794e-15  -8.39959241e-15\n",
        "  -1.14012583e-14  -1.55950997e-14  -2.07249424e-14  -2.47826429e-14\n",
        "  -2.73309373e-14  -2.76814916e-14  -2.49730050e-14  -1.87603340e-14\n",
        "  -1.07557547e-14   1.11018144e-15   2.21836991e-14   5.16942988e-14\n",
        "   7.25079280e-14   7.94472388e-14   8.17922849e-14   8.36372381e-14]\n",
        "[ 1.  1.  1.  1.  1.  1.  1.  1.  1.  1.  1.  1.  1.  1.  1.  1.  1.  1.\n",
        "  1.  1.  1.  1.  1.  1.  1.  1.  1.  1.  1.  1.  1.  1.  1.  1.  1.  1.\n",
        "  1.  1.  1.  1.  1.  1.  1.  1.  1.  1.  1.  1.  1.  1.  1.  1.  1.  1.\n",
        "  1.  1.  1.  1.  1.  1.]\n"
       ]
      }
     ],
     "prompt_number": 12
    },
    {
     "cell_type": "code",
     "collapsed": false,
     "input": [
      "print SN.SNObjectSED(time=mjdobs, wavelen=wavenm).flambda"
     ],
     "language": "python",
     "metadata": {},
     "outputs": [
      {
       "output_type": "stream",
       "stream": "stdout",
       "text": [
        "[ -1.41977039e-18  -1.61312126e-18  -1.82799236e-18  -2.06534720e-18\n",
        "  -2.32246432e-18  -2.60027409e-18  -2.90939020e-18  -3.26695897e-18\n",
        "  -3.69977353e-18  -4.21700009e-18  -4.83293362e-18  -5.55397630e-18\n",
        "  -6.42403362e-18  -7.49420986e-18  -8.81811103e-18  -1.04262321e-17\n",
        "  -1.23180244e-17  -1.44767072e-17  -1.68071302e-17  -2.94172050e-17\n",
        "  -1.02517879e-16  -2.62226909e-16  -4.40080336e-16  -5.28396398e-16\n",
        "  -5.06837208e-16  -5.12874119e-16  -6.05141353e-16  -7.60811422e-16\n",
        "  -9.05374993e-16  -1.03485423e-15  -1.26498039e-15  -1.66289458e-15\n",
        "  -2.14921092e-15  -2.50504472e-15  -2.70003377e-15  -2.96422694e-15\n",
        "  -3.38984890e-15  -3.93203936e-15  -4.50688454e-15  -5.08616578e-15\n",
        "  -5.51106439e-15  -5.74496482e-15  -6.51833794e-15  -8.39959241e-15\n",
        "  -1.14012583e-14  -1.55950997e-14  -2.07249424e-14  -2.47826429e-14\n",
        "  -2.73309373e-14  -2.76814916e-14  -2.49730050e-14  -1.87603340e-14\n",
        "  -1.07557547e-14   1.11018144e-15   2.21836991e-14   5.16942988e-14\n",
        "   7.25079280e-14   7.94472388e-14   8.17922849e-14   8.36372381e-14]\n"
       ]
      }
     ],
     "prompt_number": 11
    },
    {
     "cell_type": "code",
     "collapsed": false,
     "input": [
      "specfig, specax, diff =  pu.settwopanel(setdifflimits=[0.09,1.4])\n",
      "specax.plot(wave, SN.flux(time=mjdobs, wave=wave))\n",
      "sed = SN.SNObjectSED(time=mjdobs, wavelen=wavenm)\n",
      "specax.plot(wave, sed.flambda)\n",
      "specax.set_ylabel('flux density')\n",
      "diff.set_xlabel(r'$\\lambda (\\AA)$')\n",
      "diff.set_ylabel('snObject/SNCosmo/10')\n",
      "diff.plot (wave, sed.flambda/SN.flux(time=mjdobs, wave=wave)/10. )"
     ],
     "language": "python",
     "metadata": {},
     "outputs": [
      {
       "metadata": {},
       "output_type": "pyout",
       "prompt_number": 13,
       "text": [
        "[<matplotlib.lines.Line2D at 0x118c95210>]"
       ]
      },
      {
       "metadata": {},
       "output_type": "display_data",
       "png": "[encoded data removed]",
       "text": [
        "<matplotlib.figure.Figure at 0x10fd79490>"
       ]
      }
     ],
     "prompt_number": 13
    },
    {
     "cell_type": "markdown",
     "metadata": {},
     "source": [
      "The slope is due to extinction calculated in SED, while the extinction has not been added to SNCosmo. The two are offset \n",
      "by a factor of 10 as they have different length units  in flux density."
     ]
    },
    {
     "cell_type": "code",
     "collapsed": false,
     "input": [
      "wave = np.arange(10., 15000., 50.)\n",
      "sed = SN.SNObjectSED(time=0., wavelen=wave)"
     ],
     "language": "python",
     "metadata": {},
     "outputs": [],
     "prompt_number": 14
    },
    {
     "cell_type": "code",
     "collapsed": false,
     "input": [
      "print sed.wavelen "
     ],
     "language": "python",
     "metadata": {},
     "outputs": [
      {
       "output_type": "stream",
       "stream": "stdout",
       "text": [
        "[  1.00000000e+01   6.00000000e+01   1.10000000e+02   1.60000000e+02\n",
        "   2.10000000e+02   2.60000000e+02   3.10000000e+02   3.60000000e+02\n",
        "   4.10000000e+02   4.60000000e+02   5.10000000e+02   5.60000000e+02\n",
        "   6.10000000e+02   6.60000000e+02   7.10000000e+02   7.60000000e+02\n",
        "   8.10000000e+02   8.60000000e+02   9.10000000e+02   9.60000000e+02\n",
        "   1.01000000e+03   1.06000000e+03   1.11000000e+03   1.16000000e+03\n",
        "   1.21000000e+03   1.26000000e+03   1.31000000e+03   1.36000000e+03\n",
        "   1.41000000e+03   1.46000000e+03   1.51000000e+03   1.56000000e+03\n",
        "   1.61000000e+03   1.66000000e+03   1.71000000e+03   1.76000000e+03\n",
        "   1.81000000e+03   1.86000000e+03   1.91000000e+03   1.96000000e+03\n",
        "   2.01000000e+03   2.06000000e+03   2.11000000e+03   2.16000000e+03\n",
        "   2.21000000e+03   2.26000000e+03   2.31000000e+03   2.36000000e+03\n",
        "   2.41000000e+03   2.46000000e+03   2.51000000e+03   2.56000000e+03\n",
        "   2.61000000e+03   2.66000000e+03   2.71000000e+03   2.76000000e+03\n",
        "   2.81000000e+03   2.86000000e+03   2.91000000e+03   2.96000000e+03\n",
        "   3.01000000e+03   3.06000000e+03   3.11000000e+03   3.16000000e+03\n",
        "   3.21000000e+03   3.26000000e+03   3.31000000e+03   3.36000000e+03\n",
        "   3.41000000e+03   3.46000000e+03   3.51000000e+03   3.56000000e+03\n",
        "   3.61000000e+03   3.66000000e+03   3.71000000e+03   3.76000000e+03\n",
        "   3.81000000e+03   3.86000000e+03   3.91000000e+03   3.96000000e+03\n",
        "   4.01000000e+03   4.06000000e+03   4.11000000e+03   4.16000000e+03\n",
        "   4.21000000e+03   4.26000000e+03   4.31000000e+03   4.36000000e+03\n",
        "   4.41000000e+03   4.46000000e+03   4.51000000e+03   4.56000000e+03\n",
        "   4.61000000e+03   4.66000000e+03   4.71000000e+03   4.76000000e+03\n",
        "   4.81000000e+03   4.86000000e+03   4.91000000e+03   4.96000000e+03\n",
        "   5.01000000e+03   5.06000000e+03   5.11000000e+03   5.16000000e+03\n",
        "   5.21000000e+03   5.26000000e+03   5.31000000e+03   5.36000000e+03\n",
        "   5.41000000e+03   5.46000000e+03   5.51000000e+03   5.56000000e+03\n",
        "   5.61000000e+03   5.66000000e+03   5.71000000e+03   5.76000000e+03\n",
        "   5.81000000e+03   5.86000000e+03   5.91000000e+03   5.96000000e+03\n",
        "   6.01000000e+03   6.06000000e+03   6.11000000e+03   6.16000000e+03\n",
        "   6.21000000e+03   6.26000000e+03   6.31000000e+03   6.36000000e+03\n",
        "   6.41000000e+03   6.46000000e+03   6.51000000e+03   6.56000000e+03\n",
        "   6.61000000e+03   6.66000000e+03   6.71000000e+03   6.76000000e+03\n",
        "   6.81000000e+03   6.86000000e+03   6.91000000e+03   6.96000000e+03\n",
        "   7.01000000e+03   7.06000000e+03   7.11000000e+03   7.16000000e+03\n",
        "   7.21000000e+03   7.26000000e+03   7.31000000e+03   7.36000000e+03\n",
        "   7.41000000e+03   7.46000000e+03   7.51000000e+03   7.56000000e+03\n",
        "   7.61000000e+03   7.66000000e+03   7.71000000e+03   7.76000000e+03\n",
        "   7.81000000e+03   7.86000000e+03   7.91000000e+03   7.96000000e+03\n",
        "   8.01000000e+03   8.06000000e+03   8.11000000e+03   8.16000000e+03\n",
        "   8.21000000e+03   8.26000000e+03   8.31000000e+03   8.36000000e+03\n",
        "   8.41000000e+03   8.46000000e+03   8.51000000e+03   8.56000000e+03\n",
        "   8.61000000e+03   8.66000000e+03   8.71000000e+03   8.76000000e+03\n",
        "   8.81000000e+03   8.86000000e+03   8.91000000e+03   8.96000000e+03\n",
        "   9.01000000e+03   9.06000000e+03   9.11000000e+03   9.16000000e+03\n",
        "   9.21000000e+03   9.26000000e+03   9.31000000e+03   9.36000000e+03\n",
        "   9.41000000e+03   9.46000000e+03   9.51000000e+03   9.56000000e+03\n",
        "   9.61000000e+03   9.66000000e+03   9.71000000e+03   9.76000000e+03\n",
        "   9.81000000e+03   9.86000000e+03   9.91000000e+03   9.96000000e+03\n",
        "   1.00100000e+04   1.00600000e+04   1.01100000e+04   1.01600000e+04\n",
        "   1.02100000e+04   1.02600000e+04   1.03100000e+04   1.03600000e+04\n",
        "   1.04100000e+04   1.04600000e+04   1.05100000e+04   1.05600000e+04\n",
        "   1.06100000e+04   1.06600000e+04   1.07100000e+04   1.07600000e+04\n",
        "   1.08100000e+04   1.08600000e+04   1.09100000e+04   1.09600000e+04\n",
        "   1.10100000e+04   1.10600000e+04   1.11100000e+04   1.11600000e+04\n",
        "   1.12100000e+04   1.12600000e+04   1.13100000e+04   1.13600000e+04\n",
        "   1.14100000e+04   1.14600000e+04   1.15100000e+04   1.15600000e+04\n",
        "   1.16100000e+04   1.16600000e+04   1.17100000e+04   1.17600000e+04\n",
        "   1.18100000e+04   1.18600000e+04   1.19100000e+04   1.19600000e+04\n",
        "   1.20100000e+04   1.20600000e+04   1.21100000e+04   1.21600000e+04\n",
        "   1.22100000e+04   1.22600000e+04   1.23100000e+04   1.23600000e+04\n",
        "   1.24100000e+04   1.24600000e+04   1.25100000e+04   1.25600000e+04\n",
        "   1.26100000e+04   1.26600000e+04   1.27100000e+04   1.27600000e+04\n",
        "   1.28100000e+04   1.28600000e+04   1.29100000e+04   1.29600000e+04\n",
        "   1.30100000e+04   1.30600000e+04   1.31100000e+04   1.31600000e+04\n",
        "   1.32100000e+04   1.32600000e+04   1.33100000e+04   1.33600000e+04\n",
        "   1.34100000e+04   1.34600000e+04   1.35100000e+04   1.35600000e+04\n",
        "   1.36100000e+04   1.36600000e+04   1.37100000e+04   1.37600000e+04\n",
        "   1.38100000e+04   1.38600000e+04   1.39100000e+04   1.39600000e+04\n",
        "   1.40100000e+04   1.40600000e+04   1.41100000e+04   1.41600000e+04\n",
        "   1.42100000e+04   1.42600000e+04   1.43100000e+04   1.43600000e+04\n",
        "   1.44100000e+04   1.44600000e+04   1.45100000e+04   1.45600000e+04\n",
        "   1.46100000e+04   1.46600000e+04   1.47100000e+04   1.47600000e+04\n",
        "   1.48100000e+04   1.48600000e+04   1.49100000e+04   1.49600000e+04]\n"
       ]
      }
     ],
     "prompt_number": 15
    },
    {
     "cell_type": "code",
     "collapsed": false,
     "input": [
      "from lsst.sims.photUtils.Photometry import PhotometryBase"
     ],
     "language": "python",
     "metadata": {},
     "outputs": [],
     "prompt_number": 16
    },
    {
     "cell_type": "code",
     "collapsed": false,
     "input": [
      "bandpasslist = ['u', 'g', 'r', 'i', 'z']\n",
      "pbase = PhotometryBase()\n",
      "pbase.loadBandPassesFromFiles(bandpasslist)\n",
      "bp = pbase.bandPassList"
     ],
     "language": "python",
     "metadata": {},
     "outputs": [],
     "prompt_number": 27
    },
    {
     "cell_type": "code",
     "collapsed": false,
     "input": [
      "pbase.setupPhiArray_dict()"
     ],
     "language": "python",
     "metadata": {},
     "outputs": [],
     "prompt_number": 22
    },
    {
     "cell_type": "code",
     "collapsed": false,
     "input": [
      "mysed = SN.SNObjectSED(time=mjdobs, bandpassobject=bp)"
     ],
     "language": "python",
     "metadata": {},
     "outputs": [],
     "prompt_number": 30
    },
    {
     "cell_type": "code",
     "collapsed": false,
     "input": [
      "mysed.flambdaTofnu()"
     ],
     "language": "python",
     "metadata": {},
     "outputs": [],
     "prompt_number": 32
    },
    {
     "cell_type": "code",
     "collapsed": false,
     "input": [
      "mysed.manyFluxCalc(phiarray=pbase.phiArray, wavelen_step=bp[0].wavelen_step)"
     ],
     "language": "python",
     "metadata": {},
     "outputs": [
      {
       "metadata": {},
       "output_type": "pyout",
       "prompt_number": 33,
       "text": [
        "array([  6.24364183e-05,  -5.61984827e-04,   2.92677795e-02,\n",
        "         1.93959006e-01,   3.38548171e-01])"
       ]
      }
     ],
     "prompt_number": 33
    },
    {
     "cell_type": "code",
     "collapsed": false,
     "input": [
      "np.sum(pbase.phiArray * sed.fnu, axis=1)"
     ],
     "language": "python",
     "metadata": {},
     "outputs": [
      {
       "ename": "ValueError",
       "evalue": "operands could not be broadcast together with shapes (5,8501) (300,) ",
       "output_type": "pyerr",
       "traceback": [
        "\u001b[0;31m---------------------------------------------------------------------------\u001b[0m\n\u001b[0;31mValueError\u001b[0m                                Traceback (most recent call last)",
        "\u001b[0;32m<ipython-input-29-80951b8939e2>\u001b[0m in \u001b[0;36m<module>\u001b[0;34m()\u001b[0m\n\u001b[0;32m----> 1\u001b[0;31m \u001b[0mnp\u001b[0m\u001b[0;34m.\u001b[0m\u001b[0msum\u001b[0m\u001b[0;34m(\u001b[0m\u001b[0mpbase\u001b[0m\u001b[0;34m.\u001b[0m\u001b[0mphiArray\u001b[0m \u001b[0;34m*\u001b[0m \u001b[0msed\u001b[0m\u001b[0;34m.\u001b[0m\u001b[0mfnu\u001b[0m\u001b[0;34m,\u001b[0m \u001b[0maxis\u001b[0m\u001b[0;34m=\u001b[0m\u001b[0;36m1\u001b[0m\u001b[0;34m)\u001b[0m\u001b[0;34m\u001b[0m\u001b[0m\n\u001b[0m",
        "\u001b[0;31mValueError\u001b[0m: operands could not be broadcast together with shapes (5,8501) (300,) "
       ]
      }
     ],
     "prompt_number": 29
    },
    {
     "cell_type": "code",
     "collapsed": false,
     "input": [],
     "language": "python",
     "metadata": {},
     "outputs": []
    },
    {
     "cell_type": "code",
     "collapsed": false,
     "input": [
      "bp[0].wavelen_step"
     ],
     "language": "python",
     "metadata": {},
     "outputs": [
      {
       "metadata": {},
       "output_type": "pyout",
       "prompt_number": 28,
       "text": [
        "0.10000000000002274"
       ]
      }
     ],
     "prompt_number": 28
    },
    {
     "cell_type": "code",
     "collapsed": false,
     "input": [
      "bp =  pbase.bandPassList"
     ],
     "language": "python",
     "metadata": {},
     "outputs": [],
     "prompt_number": 18
    },
    {
     "cell_type": "code",
     "collapsed": false,
     "input": [
      "mysed = SN.SNObjectSED(time=0., bandpassobject=bp)"
     ],
     "language": "python",
     "metadata": {},
     "outputs": [],
     "prompt_number": 19
    },
    {
     "cell_type": "code",
     "collapsed": false,
     "input": [
      "print mysed.flambda"
     ],
     "language": "python",
     "metadata": {},
     "outputs": [
      {
       "output_type": "stream",
       "stream": "stdout",
       "text": [
        "[ 0.  0.  0. ...,  0.  0.  0.]\n"
       ]
      }
     ],
     "prompt_number": 20
    },
    {
     "cell_type": "code",
     "collapsed": false,
     "input": [
      "pbase.phiArray"
     ],
     "language": "python",
     "metadata": {},
     "outputs": []
    },
    {
     "cell_type": "code",
     "collapsed": false,
     "input": [
      "u = bp[0]"
     ],
     "language": "python",
     "metadata": {},
     "outputs": []
    },
    {
     "cell_type": "code",
     "collapsed": false,
     "input": [
      "u.wavelen_step"
     ],
     "language": "python",
     "metadata": {},
     "outputs": []
    },
    {
     "cell_type": "code",
     "collapsed": false,
     "input": [
      "len(pbase.phiArray)"
     ],
     "language": "python",
     "metadata": {},
     "outputs": []
    },
    {
     "cell_type": "code",
     "collapsed": false,
     "input": [
      "pbase.phiArray * mysed.fnu "
     ],
     "language": "python",
     "metadata": {},
     "outputs": []
    },
    {
     "cell_type": "code",
     "collapsed": false,
     "input": [
      "mysed.flambda"
     ],
     "language": "python",
     "metadata": {},
     "outputs": []
    },
    {
     "cell_type": "code",
     "collapsed": false,
     "input": [
      "mysed.fnu"
     ],
     "language": "python",
     "metadata": {},
     "outputs": []
    },
    {
     "cell_type": "code",
     "collapsed": false,
     "input": [
      "m"
     ],
     "language": "python",
     "metadata": {},
     "outputs": []
    },
    {
     "cell_type": "code",
     "collapsed": false,
     "input": [
      "571042 - 571123"
     ],
     "language": "python",
     "metadata": {},
     "outputs": []
    },
    {
     "cell_type": "code",
     "collapsed": false,
     "input": [
      "571181 - 571123"
     ],
     "language": "python",
     "metadata": {},
     "outputs": []
    },
    {
     "cell_type": "code",
     "collapsed": false,
     "input": [
      "SN.bandmag(band=['desg', 'desr', 'desi', 'desz'], time=mjdobs, magsys='ab')"
     ],
     "language": "python",
     "metadata": {},
     "outputs": [
      {
       "metadata": {},
       "output_type": "pyout",
       "prompt_number": 37,
       "text": [
        "array([         nan,  12.21471228,  10.48841888,  10.12145277])"
       ]
      }
     ],
     "prompt_number": 37
    },
    {
     "cell_type": "code",
     "collapsed": false,
     "input": [
      "print SN"
     ],
     "language": "python",
     "metadata": {},
     "outputs": [
      {
       "output_type": "stream",
       "stream": "stdout",
       "text": [
        "<SNObject at 0x1043938d0>\n",
        "source:\n",
        "  class      : SALT2Source\n",
        "  name       : None\n",
        "  version    : None\n",
        "  phases     : [-20, .., 50] days\n",
        "  wavelengths: [300, .., 18000] Angstroms\n",
        "effect (name='host' frame='rest'):\n",
        "  class           : CCM89Dust\n",
        "  wavelength range: [909.09, 33333.3] Angstroms\n",
        "effect (name='mw' frame='obs'):\n",
        "  class           : CCM89Dust\n",
        "  wavelength range: [909.09, 33333.3] Angstroms\n",
        "parameters:\n",
        "  z       = 0.95999999999999996\n",
        "  t0      = 571181.0\n",
        "  x0      = 1.0\n",
        "  x1      = 2.6600000000000001\n",
        "  c       = 0.35299999999999998\n",
        "  hostebv = 0.0\n",
        "  hostr_v = 3.1000000000000001\n",
        "  mwebv   = 0.0\n",
        "  mwr_v   = 3.1000000000000001\n"
       ]
      }
     ],
     "prompt_number": 38
    },
    {
     "cell_type": "code",
     "collapsed": false,
     "input": [
      "print mjdobs"
     ],
     "language": "python",
     "metadata": {},
     "outputs": [
      {
       "output_type": "stream",
       "stream": "stdout",
       "text": [
        "571203\n"
       ]
      }
     ],
     "prompt_number": 39
    },
    {
     "cell_type": "code",
     "collapsed": false,
     "input": [
      "phase = (mjdobs - SN.parameters[SN.param_names.index('t0')]) / (SN.parameters[SN.param_names.index('z')]+ 1.)"
     ],
     "language": "python",
     "metadata": {},
     "outputs": [],
     "prompt_number": 46
    },
    {
     "cell_type": "code",
     "collapsed": false,
     "input": [
      "print phase"
     ],
     "language": "python",
     "metadata": {},
     "outputs": [
      {
       "output_type": "stream",
       "stream": "stdout",
       "text": [
        "11.2244897959\n"
       ]
      }
     ],
     "prompt_number": 47
    },
    {
     "cell_type": "code",
     "collapsed": false,
     "input": [
      "SN.param_names.index('t0')"
     ],
     "language": "python",
     "metadata": {},
     "outputs": [
      {
       "metadata": {},
       "output_type": "pyout",
       "prompt_number": 44,
       "text": [
        "1"
       ]
      }
     ],
     "prompt_number": 44
    },
    {
     "cell_type": "code",
     "collapsed": false,
     "input": [],
     "language": "python",
     "metadata": {},
     "outputs": []
    }
   ],
   "metadata": {}
  }
 ]
}