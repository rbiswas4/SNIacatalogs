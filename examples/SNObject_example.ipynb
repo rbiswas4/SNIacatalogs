{
 "metadata": {
  "name": "",
  "signature": "sha256:f5a1165dc46b4033527fc8043affda416291ca1589a8a67e96a8dd8e018951ef"
 },
 "nbformat": 3,
 "nbformat_minor": 0,
 "worksheets": [
  {
   "cells": [
    {
     "cell_type": "code",
     "collapsed": false,
     "input": [
      "import sniacatalogs as sia\n",
      "import numpy as np\n",
      "%matplotlib inline\n",
      "import matplotlib.pyplot as plt\n",
      "import seaborn as sns\n",
      "sns.set()\n",
      "from bbutils import plotutils as pu"
     ],
     "language": "python",
     "metadata": {},
     "outputs": [],
     "prompt_number": 1
    },
    {
     "cell_type": "code",
     "collapsed": false,
     "input": [
      "SN =  sia.snObject.SNObject(ra=5.0, dec=34.)"
     ],
     "language": "python",
     "metadata": {},
     "outputs": [],
     "prompt_number": 2
    },
    {
     "cell_type": "code",
     "collapsed": false,
     "input": [
      "print SN"
     ],
     "language": "python",
     "metadata": {},
     "outputs": [
      {
       "output_type": "stream",
       "stream": "stdout",
       "text": [
        "<SNObject at 0x1035a6cd0>\n",
        "source:\n",
        "  class      : SALT2Source\n",
        "  name       : None\n",
        "  version    : None\n",
        "  phases     : [-20, .., 50] days\n",
        "  wavelengths: [300, .., 18000] Angstroms\n",
        "effect (name='host' frame='rest'):\n",
        "  class           : CCM89Dust\n",
        "  wavelength range: [909.09, 33333.3] Angstroms\n",
        "effect (name='mw' frame='obs'):\n",
        "  class           : CCM89Dust\n",
        "  wavelength range: [909.09, 33333.3] Angstroms\n",
        "parameters:\n",
        "  z       = 0.0\n",
        "  t0      = 0.0\n",
        "  x0      = 1.0\n",
        "  x1      = 0.0\n",
        "  c       = 0.0\n",
        "  hostebv = 0.0\n",
        "  hostr_v = 3.1000000000000001\n",
        "  mwebv   = 0.0\n",
        "  mwr_v   = 3.1000000000000001\n"
       ]
      }
     ],
     "prompt_number": 3
    },
    {
     "cell_type": "code",
     "collapsed": false,
     "input": [
      "SN.set(z=0.3, x1=1.0,c=-0.1)"
     ],
     "language": "python",
     "metadata": {},
     "outputs": [],
     "prompt_number": 4
    },
    {
     "cell_type": "code",
     "collapsed": false,
     "input": [
      "print SN.ebvofMW"
     ],
     "language": "python",
     "metadata": {},
     "outputs": [
      {
       "output_type": "stream",
       "stream": "stdout",
       "text": [
        "0.0518697686493\n"
       ]
      }
     ],
     "prompt_number": 5
    },
    {
     "cell_type": "code",
     "collapsed": false,
     "input": [
      "SN.set_MWebv(0.0)\n",
      "#print SN.ebvofMW\n",
      "\n",
      "print sia.__file__"
     ],
     "language": "python",
     "metadata": {},
     "outputs": [
      {
       "output_type": "stream",
       "stream": "stdout",
       "text": [
        "/Users/rbiswas/.local/lib/python2.7/site-packages/SNIaCatalogs-0.1dev-py2.7.egg/sniacatalogs/__init__.pyc\n"
       ]
      }
     ],
     "prompt_number": 6
    },
    {
     "cell_type": "code",
     "collapsed": false,
     "input": [
      "wave = np.arange(3000., 6000., 50.)\n",
      "wavenm = wave/10.\n",
      "print SN.flux(time=0., wave=wave)\n",
      "sed = SN.SNObjectSED(time=0., wavelen=wavenm)\n",
      "print sed.wavelen\n",
      "print sed.flambda\n",
      "print SN.flux(time=0., wave=wave)/sed.flambda * 10."
     ],
     "language": "python",
     "metadata": {},
     "outputs": [
      {
       "output_type": "stream",
       "stream": "stdout",
       "text": [
        "[  4.82565884e-14   4.62150315e-14   4.57450247e-14   4.95689873e-14\n",
        "   5.84837225e-14   5.98479117e-14   5.57686237e-14   6.00976537e-14\n",
        "   6.46144321e-14   6.48093527e-14   7.64422950e-14   8.78364100e-14\n",
        "   9.18993781e-14   1.03624342e-13   1.36538934e-13   1.88795579e-13\n",
        "   2.27245502e-13   2.30054388e-13   1.99489674e-13   1.94748172e-13\n",
        "   2.24044199e-13   2.68863743e-13   2.70845906e-13   2.29671340e-13\n",
        "   1.75374163e-13   1.63657841e-13   1.92863761e-13   2.22498451e-13\n",
        "   2.19110382e-13   2.45374320e-13   2.89717031e-13   3.30010654e-13\n",
        "   3.44697272e-13   3.72560169e-13   3.74141337e-13   2.97980420e-13\n",
        "   2.17208685e-13   1.85179422e-13   2.02646333e-13   2.21592280e-13\n",
        "   2.97890601e-13   3.75734771e-13   3.94451419e-13   3.81333448e-13\n",
        "   3.86386132e-13   4.09134475e-13   4.14611197e-13   3.80601899e-13\n",
        "   3.47647976e-13   3.23332597e-13   2.59611029e-13   2.13552549e-13\n",
        "   2.09527746e-13   2.42916139e-13   2.60123871e-13   2.69850157e-13\n",
        "   2.80470627e-13   2.92493636e-13   2.87678447e-13   2.75014979e-13]\n",
        "[  4.82565884e-13   4.62150315e-13   4.57450247e-13   4.95689873e-13\n",
        "   5.84837225e-13   5.98479117e-13   5.57686237e-13   6.00976537e-13\n",
        "   6.46144321e-13   6.48093527e-13   7.64422950e-13   8.78364100e-13\n",
        "   9.18993781e-13   1.03624342e-12   1.36538934e-12   1.88795579e-12\n",
        "   2.27245502e-12   2.30054388e-12   1.99489674e-12   1.94748172e-12\n",
        "   2.24044199e-12   2.68863743e-12   2.70845906e-12   2.29671340e-12\n",
        "   1.75374163e-12   1.63657841e-12   1.92863761e-12   2.22498451e-12\n",
        "   2.19110382e-12   2.45374320e-12   2.89717031e-12   3.30010654e-12\n",
        "   3.44697272e-12   3.72560169e-12   3.74141337e-12   2.97980420e-12\n",
        "   2.17208685e-12   1.85179422e-12   2.02646333e-12   2.21592280e-12\n",
        "   2.97890601e-12   3.75734771e-12   3.94451419e-12   3.81333448e-12\n",
        "   3.86386132e-12   4.09134475e-12   4.14611197e-12   3.80601899e-12\n",
        "   3.47647976e-12   3.23332597e-12   2.59611029e-12   2.13552549e-12\n",
        "   2.09527746e-12   2.42916139e-12   2.60123871e-12   2.69850157e-12\n",
        "   2.80470627e-12   2.92493636e-12   2.87678447e-12   2.75014979e-12]\n",
        "[ 300.  305.  310.  315.  320.  325.  330.  335.  340.  345.  350.  355.\n",
        "  360.  365.  370.  375.  380.  385.  390.  395.  400.  405.  410.  415.\n",
        "  420.  425.  430.  435.  440.  445.  450.  455.  460.  465.  470.  475.\n",
        "  480.  485.  490.  495.  500.  505.  510.  515.  520.  525.  530.  535.\n",
        "  540.  545.  550.  555.  560.  565.  570.  575.  580.  585.  590.  595.]\n",
        "[  4.82565884e-13   4.62150315e-13   4.57450247e-13   4.95689873e-13\n",
        "   5.84837225e-13   5.98479117e-13   5.57686237e-13   6.00976537e-13\n",
        "   6.46144321e-13   6.48093527e-13   7.64422950e-13   8.78364100e-13\n",
        "   9.18993781e-13   1.03624342e-12   1.36538934e-12   1.88795579e-12\n",
        "   2.27245502e-12   2.30054388e-12   1.99489674e-12   1.94748172e-12\n",
        "   2.24044199e-12   2.68863743e-12   2.70845906e-12   2.29671340e-12\n",
        "   1.75374163e-12   1.63657841e-12   1.92863761e-12   2.22498451e-12\n",
        "   2.19110382e-12   2.45374320e-12   2.89717031e-12   3.30010654e-12\n",
        "   3.44697272e-12   3.72560169e-12   3.74141337e-12   2.97980420e-12\n",
        "   2.17208685e-12   1.85179422e-12   2.02646333e-12   2.21592280e-12\n",
        "   2.97890601e-12   3.75734771e-12   3.94451419e-12   3.81333448e-12\n",
        "   3.86386132e-12   4.09134475e-12   4.14611197e-12   3.80601899e-12\n",
        "   3.47647976e-12   3.23332597e-12   2.59611029e-12   2.13552549e-12\n",
        "   2.09527746e-12   2.42916139e-12   2.60123871e-12   2.69850157e-12\n",
        "   2.80470627e-12   2.92493636e-12   2.87678447e-12   2.75014979e-12]\n",
        "[ 1.  1.  1.  1.  1.  1.  1.  1.  1.  1.  1.  1.  1.  1.  1.  1.  1.  1.\n",
        "  1.  1.  1.  1.  1.  1.  1.  1.  1.  1.  1.  1.  1.  1.  1.  1.  1.  1.\n",
        "  1.  1.  1.  1.  1.  1.  1.  1.  1.  1.  1.  1.  1.  1.  1.  1.  1.  1.\n",
        "  1.  1.  1.  1.  1.  1.]\n"
       ]
      }
     ],
     "prompt_number": 7
    },
    {
     "cell_type": "code",
     "collapsed": false,
     "input": [
      "print SN.SNObjectSED(time=-41., wavelen=wavenm).flambda"
     ],
     "language": "python",
     "metadata": {},
     "outputs": [
      {
       "output_type": "stream",
       "stream": "stdout",
       "text": [
        "[ 0.  0.  0.  0.  0.  0.  0.  0.  0.  0.  0.  0.  0.  0.  0.  0.  0.  0.\n",
        "  0.  0.  0.  0.  0.  0.  0.  0.  0.  0.  0.  0.  0.  0.  0.  0.  0.  0.\n",
        "  0.  0.  0.  0.  0.  0.  0.  0.  0.  0.  0.  0.  0.  0.  0.  0.  0.  0.\n",
        "  0.  0.  0.  0.  0.  0.]\n"
       ]
      }
     ],
     "prompt_number": 8
    },
    {
     "cell_type": "code",
     "collapsed": false,
     "input": [
      "specfig, specax, diff =  pu.settwopanel(setdifflimits=[0.09,1.4])\n",
      "specax.plot(wave, SN.flux(time=0., wave=wave))\n",
      "sed = SN.SNObjectSED(time=0., wavelen=wavenm)\n",
      "specax.plot(wave, sed.flambda)\n",
      "specax.set_ylabel('flux density')\n",
      "diff.set_xlabel(r'$\\lambda (\\AA)$')\n",
      "diff.set_ylabel('snObject/SNCosmo/10')\n",
      "diff.plot (wave, sed.flambda/SN.flux(time=0., wave=wave)/10. )"
     ],
     "language": "python",
     "metadata": {},
     "outputs": [
      {
       "output_type": "stream",
       "stream": "stdout",
       "text": [
        "[  4.82565884e-13   4.62150315e-13   4.57450247e-13   4.95689873e-13\n",
        "   5.84837225e-13   5.98479117e-13   5.57686237e-13   6.00976537e-13\n",
        "   6.46144321e-13   6.48093527e-13   7.64422950e-13   8.78364100e-13\n",
        "   9.18993781e-13   1.03624342e-12   1.36538934e-12   1.88795579e-12\n",
        "   2.27245502e-12   2.30054388e-12   1.99489674e-12   1.94748172e-12\n",
        "   2.24044199e-12   2.68863743e-12   2.70845906e-12   2.29671340e-12\n",
        "   1.75374163e-12   1.63657841e-12   1.92863761e-12   2.22498451e-12\n",
        "   2.19110382e-12   2.45374320e-12   2.89717031e-12   3.30010654e-12\n",
        "   3.44697272e-12   3.72560169e-12   3.74141337e-12   2.97980420e-12\n",
        "   2.17208685e-12   1.85179422e-12   2.02646333e-12   2.21592280e-12\n",
        "   2.97890601e-12   3.75734771e-12   3.94451419e-12   3.81333448e-12\n",
        "   3.86386132e-12   4.09134475e-12   4.14611197e-12   3.80601899e-12\n",
        "   3.47647976e-12   3.23332597e-12   2.59611029e-12   2.13552549e-12\n",
        "   2.09527746e-12   2.42916139e-12   2.60123871e-12   2.69850157e-12\n",
        "   2.80470627e-12   2.92493636e-12   2.87678447e-12   2.75014979e-12]\n"
       ]
      },
      {
       "metadata": {},
       "output_type": "pyout",
       "prompt_number": 9,
       "text": [
        "[<matplotlib.lines.Line2D at 0x1195c3650>]"
       ]
      },
      {
       "metadata": {},
       "output_type": "display_data",
       "png": "[encoded data removed]",
       "text": [
        "<matplotlib.figure.Figure at 0x110ebf550>"
       ]
      }
     ],
     "prompt_number": 9
    },
    {
     "cell_type": "markdown",
     "metadata": {},
     "source": [
      "The slope is due to extinction calculated in SED, while the extinction has not been added to SNCosmo. The two are offset \n",
      "by a factor of 10 as they have different length units  in flux density."
     ]
    },
    {
     "cell_type": "code",
     "collapsed": false,
     "input": [
      "wave = np.arange(10., 15000., 50.)\n",
      "sed = SN.SNObjectSED(time=0., wavelen=wave)"
     ],
     "language": "python",
     "metadata": {},
     "outputs": [
      {
       "output_type": "stream",
       "stream": "stdout",
       "text": [
        "[             nan              nan              nan   2.40622717e-13\n",
        "   4.75261070e-13   5.13032847e-13   4.57450247e-13   9.18993781e-13\n",
        "   2.70845906e-12   3.44697272e-12   3.94451419e-12   2.09527746e-12\n",
        "   2.08636152e-12   1.99162816e-12   1.22531841e-12   1.38982034e-12\n",
        "   9.50168498e-13   7.62315659e-13   5.13843987e-13   3.90720940e-13\n",
        "   3.66791331e-13   1.83908445e-13   3.42690598e-13   2.47941991e-13\n",
        "   2.04236183e-13   1.65173447e-13   1.36155782e-13   1.02271536e-13\n",
        "   1.08393999e-13   1.06083228e-13   9.29042550e-14   8.00730359e-14\n",
        "   7.83327885e-14   7.10704577e-14   5.79649187e-14   5.02085858e-14\n",
        "   4.16784671e-14   3.46809631e-14   3.07711221e-14   2.88970920e-14\n",
        "   2.60355915e-14   2.09199792e-14   2.06767283e-14   2.41030158e-14\n",
        "   2.40543261e-14   2.37132127e-14   2.31425745e-14              nan\n",
        "              nan              nan              nan              nan\n",
        "              nan              nan              nan              nan\n",
        "              nan              nan              nan              nan\n",
        "              nan              nan              nan              nan\n",
        "              nan              nan              nan              nan\n",
        "              nan              nan              nan              nan\n",
        "              nan              nan              nan              nan\n",
        "              nan              nan              nan              nan\n",
        "              nan              nan              nan              nan\n",
        "              nan              nan              nan              nan\n",
        "              nan              nan              nan              nan\n",
        "              nan              nan              nan              nan\n",
        "              nan              nan              nan              nan\n",
        "              nan              nan              nan              nan\n",
        "              nan              nan              nan              nan\n",
        "              nan              nan              nan              nan\n",
        "              nan              nan              nan              nan\n",
        "              nan              nan              nan              nan\n",
        "              nan              nan              nan              nan\n",
        "              nan              nan              nan              nan\n",
        "              nan              nan              nan              nan\n",
        "              nan              nan              nan              nan\n",
        "              nan              nan              nan              nan\n",
        "              nan              nan              nan              nan\n",
        "              nan              nan              nan              nan\n",
        "              nan              nan              nan              nan\n",
        "              nan              nan              nan              nan\n",
        "              nan              nan              nan              nan\n",
        "              nan              nan              nan              nan\n",
        "              nan              nan              nan              nan\n",
        "              nan              nan              nan              nan\n",
        "              nan              nan              nan              nan\n",
        "              nan              nan              nan              nan\n",
        "              nan              nan              nan              nan\n",
        "              nan              nan              nan              nan\n",
        "              nan              nan              nan              nan\n",
        "              nan              nan              nan              nan\n",
        "              nan              nan              nan              nan\n",
        "              nan              nan              nan              nan\n",
        "              nan              nan              nan              nan\n",
        "              nan              nan              nan              nan\n",
        "              nan              nan              nan              nan\n",
        "              nan              nan              nan              nan\n",
        "              nan              nan              nan              nan\n",
        "              nan              nan              nan              nan\n",
        "              nan              nan              nan              nan\n",
        "              nan              nan              nan              nan\n",
        "              nan              nan              nan              nan\n",
        "              nan              nan              nan              nan\n",
        "              nan              nan              nan              nan\n",
        "              nan              nan              nan              nan\n",
        "              nan              nan              nan              nan\n",
        "              nan              nan              nan              nan\n",
        "              nan              nan              nan              nan\n",
        "              nan              nan              nan              nan\n",
        "              nan              nan              nan              nan\n",
        "              nan              nan              nan              nan\n",
        "              nan              nan              nan              nan\n",
        "              nan              nan              nan              nan\n",
        "              nan              nan              nan              nan\n",
        "              nan              nan              nan              nan\n",
        "              nan              nan              nan              nan\n",
        "              nan              nan              nan              nan]\n"
       ]
      }
     ],
     "prompt_number": 10
    },
    {
     "cell_type": "code",
     "collapsed": false,
     "input": [
      "print sed.wavelen "
     ],
     "language": "python",
     "metadata": {},
     "outputs": [
      {
       "output_type": "stream",
       "stream": "stdout",
       "text": [
        "[ 300.  305.  310.  315.  320.  325.  330.  335.  340.  345.  350.  355.\n",
        "  360.  365.  370.  375.  380.  385.  390.  395.  400.  405.  410.  415.\n",
        "  420.  425.  430.  435.  440.  445.  450.  455.  460.  465.  470.  475.\n",
        "  480.  485.  490.  495.  500.  505.  510.  515.  520.  525.  530.  535.\n",
        "  540.  545.  550.  555.  560.  565.  570.  575.  580.  585.  590.  595.]\n"
       ]
      }
     ],
     "prompt_number": 22
    },
    {
     "cell_type": "code",
     "collapsed": false,
     "input": [],
     "language": "python",
     "metadata": {},
     "outputs": []
    }
   ],
   "metadata": {}
  }
 ]
}