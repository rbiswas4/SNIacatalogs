{
 "metadata": {
  "kernelspec": {
   "display_name": "Python 2",
   "language": "python",
   "name": "python2"
  },
  "language_info": {
   "codemirror_mode": {
    "name": "ipython",
    "version": 2
   },
   "file_extension": ".py",
   "mimetype": "text/x-python",
   "name": "python",
   "nbconvert_exporter": "python",
   "pygments_lexer": "ipython2",
   "version": "2.7.9"
  },
  "name": "",
  "signature": "sha256:37a4aa27cc74a1040d52dbb55ee80b329c0aafc362725dbfc9d772c12b5014f9"
 },
 "nbformat": 3,
 "nbformat_minor": 0,
 "worksheets": [
  {
   "cells": [
    {
     "cell_type": "heading",
     "level": 1,
     "metadata": {},
     "source": [
      "Supernovae Ia in catSim"
     ]
    },
    {
     "cell_type": "markdown",
     "metadata": {},
     "source": [
      "There are three files in catSim that currently provide the SN functionality. This functionality is based on classes provided by \n",
      "the python package SNCosmo, through the sncosmo.Model class which is built on top of a sncosmo.source class which describes a transient source in its rest frame in terms of a time series of spectra. The three files added into catSim are:\n",
      "\n",
      "1. snObject.py: Contains the class SNObject which inherits from the sncsomo.Model class with some decisions appropriate for our use\n",
      "2. snUniverse.py: Contains definitions of the rates and distribution of types of snObject \n",
      "3. sncat.py : How to interact with catSim, get the information there and write things out."
     ]
    },
    {
     "cell_type": "code",
     "collapsed": false,
     "input": [
      "import sniacatalogs as snia"
     ],
     "language": "python",
     "metadata": {},
     "outputs": [],
     "prompt_number": 1
    },
    {
     "cell_type": "code",
     "collapsed": false,
     "input": [
      "import numpy as np\n",
      "%matplotlib inline\n",
      "import matplotlib.pyplot as plt\n",
      "import os"
     ],
     "language": "python",
     "metadata": {},
     "outputs": [],
     "prompt_number": 2
    },
    {
     "cell_type": "code",
     "collapsed": false,
     "input": [
      "#seaborn Comment out if this is not installed\n",
      "import seaborn as sns\n",
      "sns.set()"
     ],
     "language": "python",
     "metadata": {},
     "outputs": [],
     "prompt_number": 3
    },
    {
     "cell_type": "heading",
     "level": 2,
     "metadata": {},
     "source": [
      "snObject : SNObject"
     ]
    },
    {
     "cell_type": "markdown",
     "metadata": {},
     "source": [
      "The basic idea of this module is to contain classes that represent SN. Right now, we only have one such object representing a \n",
      "SNIa based on the SALT model, but later we could expand this to accomodate other objects.\n",
      "\n",
      "<b>Main thing SNObject is supposed to provide </b> SNObject provides the SED from the SN, extincted through MW dust, as well as convenient methods to obtain band fluxes and magnitudes calling sims.photUtils methods.\n",
      "\n",
      "To instantiate an SNObject, we have a few alternativaes with different use cases in mind"
     ]
    },
    {
     "cell_type": "code",
     "collapsed": false,
     "input": [
      "# Give it an ra, dec\n",
      "# sims.photUtils uses O'Donnell 94 to calculate extinction, and does not use any other fits. So, the fit function is not \n",
      "# a parameter at present\n",
      "# Following catsim conventions the entries are in degrees\n",
      "SNObjectfull  = snia.snObject.SNObject(ra=30., dec=60.)"
     ],
     "language": "python",
     "metadata": {},
     "outputs": [],
     "prompt_number": 4
    },
    {
     "cell_type": "code",
     "collapsed": false,
     "input": [
      "SNObjectfull.setCoords(ra=30., dec=60.)"
     ],
     "language": "python",
     "metadata": {},
     "outputs": [],
     "prompt_number": 5
    },
    {
     "cell_type": "code",
     "collapsed": false,
     "input": [
      "# The coordinates are stored in radians, but these are not 'public' variables\n",
      "print 'ra, dec: ',  SNObjectfull._ra , SNObjectfull._dec"
     ],
     "language": "python",
     "metadata": {},
     "outputs": [
      {
       "output_type": "stream",
       "stream": "stdout",
       "text": [
        "ra, dec:  0.523598775598 1.0471975512\n"
       ]
      }
     ],
     "prompt_number": 6
    },
    {
     "cell_type": "code",
     "collapsed": false,
     "input": [
      "# Publicly accessed variables having ra and dec in an array, in the form required by catsim\n",
      "\n",
      "SNObjectfull.skycoord"
     ],
     "language": "python",
     "metadata": {},
     "outputs": [
      {
       "metadata": {},
       "output_type": "pyout",
       "prompt_number": 7,
       "text": [
        "array([[ 0.52359878],\n",
        "       [ 1.04719755]])"
       ]
      }
     ],
     "prompt_number": 7
    },
    {
     "cell_type": "code",
     "collapsed": false,
     "input": [
      "# The color excess has been calculated\n",
      "print 'E(B-V) = ', SNObjectfull.ebvofMW"
     ],
     "language": "python",
     "metadata": {},
     "outputs": [
      {
       "output_type": "stream",
       "stream": "stdout",
       "text": [
        "E(B-V) =  0.977767825127\n"
       ]
      }
     ],
     "prompt_number": 8
    },
    {
     "cell_type": "markdown",
     "metadata": {},
     "source": [
      "Obtaining the Sed Object is the crux of this module."
     ]
    },
    {
     "cell_type": "code",
     "collapsed": false,
     "input": [
      "sed = SNObjectfull.SNObjectSED(time=0., wavelen=np.arange(300., 700.,10.))\n",
      "print sed.wavelen\n",
      "print sed.flambda"
     ],
     "language": "python",
     "metadata": {},
     "outputs": [
      {
       "output_type": "stream",
       "stream": "stdout",
       "text": [
        "[ 300.  310.  320.  330.  340.  350.  360.  370.  380.  390.  400.  410.\n",
        "  420.  430.  440.  450.  460.  470.  480.  490.  500.  510.  520.  530.\n",
        "  540.  550.  560.  570.  580.  590.  600.  610.  620.  630.  640.  650.\n",
        "  660.  670.  680.  690.]\n",
        "[  9.03091117e-15   1.33796344e-14   1.53838655e-14   1.68316500e-14\n",
        "   2.45698825e-14   3.88739192e-14   5.48196813e-14   3.52104127e-14\n",
        "   3.70689597e-14   8.71962689e-14   8.43299467e-14   1.03487911e-13\n",
        "   8.92399147e-14   6.12776098e-14   8.21115727e-14   1.07916032e-13\n",
        "   1.09207281e-13   8.82019759e-14   8.41670020e-14   8.12725843e-14\n",
        "   8.87362652e-14   1.25898919e-13   1.30130187e-13   9.71921085e-14\n",
        "   1.10113912e-13   1.18833675e-13   1.51116090e-13   1.49048492e-13\n",
        "   1.45713590e-13   1.59780169e-13   1.48076355e-13   7.24648555e-14\n",
        "   1.13911620e-13   1.59077378e-13   1.56878599e-13   1.39914059e-13\n",
        "   1.30341282e-13   1.17762470e-13   1.11228018e-13   1.02795000e-13]\n"
       ]
      }
     ],
     "prompt_number": 9
    },
    {
     "cell_type": "heading",
     "level": 3,
     "metadata": {},
     "source": [
      "Another way to Instantiate the SNObject"
     ]
    },
    {
     "cell_type": "code",
     "collapsed": false,
     "input": [
      "SN = snia.snObject.SNObject()\n",
      "print 'ra, dec: ',  SN._ra , SN._dec\n",
      "# The color excess has been calculated\n",
      "print 'E(B-V) = ', SN.ebvofMW"
     ],
     "language": "python",
     "metadata": {},
     "outputs": [
      {
       "output_type": "stream",
       "stream": "stdout",
       "text": [
        "ra, dec:  None None\n",
        "E(B-V) =  None\n"
       ]
      }
     ],
     "prompt_number": 10
    },
    {
     "cell_type": "markdown",
     "metadata": {},
     "source": [
      "But a `None` type color excess precludes any calculations that may require it. You will not be able to request the SED, the magnitudes or fluxes calculated in any filter bands. Calling such a function will tell you what the problem is and suggest how you may fix it. (<b>So the following line is supposed to fail</b>)"
     ]
    },
    {
     "cell_type": "code",
     "collapsed": false,
     "input": [
      "print SN.SNObjectSED(time=0., wavelen=np.arange(300., 800., 10.))"
     ],
     "language": "python",
     "metadata": {},
     "outputs": [
      {
       "ename": "ValueError",
       "evalue": "ebvofMW attribute cannot be None Type and must be                             set by hand using set_MWebv before this stage, or                             by using setcoords followed by mwEBVfromMaps\n",
       "output_type": "pyerr",
       "traceback": [
        "\u001b[0;31m---------------------------------------------------------------------------\u001b[0m\n\u001b[0;31mValueError\u001b[0m                                Traceback (most recent call last)",
        "\u001b[0;32m<ipython-input-11-bb2412a9cb0c>\u001b[0m in \u001b[0;36m<module>\u001b[0;34m()\u001b[0m\n\u001b[0;32m----> 1\u001b[0;31m \u001b[0;32mprint\u001b[0m \u001b[0mSN\u001b[0m\u001b[0;34m.\u001b[0m\u001b[0mSNObjectSED\u001b[0m\u001b[0;34m(\u001b[0m\u001b[0mtime\u001b[0m\u001b[0;34m=\u001b[0m\u001b[0;36m0.\u001b[0m\u001b[0;34m,\u001b[0m \u001b[0mwavelen\u001b[0m\u001b[0;34m=\u001b[0m\u001b[0mnp\u001b[0m\u001b[0;34m.\u001b[0m\u001b[0marange\u001b[0m\u001b[0;34m(\u001b[0m\u001b[0;36m300.\u001b[0m\u001b[0;34m,\u001b[0m \u001b[0;36m800.\u001b[0m\u001b[0;34m,\u001b[0m \u001b[0;36m10.\u001b[0m\u001b[0;34m)\u001b[0m\u001b[0;34m)\u001b[0m\u001b[0;34m\u001b[0m\u001b[0m\n\u001b[0m",
        "\u001b[0;32m/Users/rbiswas/.local/lib/python2.7/site-packages/SNIaCatalogs-0.1.1.dev0-py2.7.egg/sniacatalogs/snObject.pyc\u001b[0m in \u001b[0;36mSNObjectSED\u001b[0;34m(self, time, wavelen, bandpassobject, applyExitinction)\u001b[0m\n\u001b[1;32m    401\u001b[0m             raise ValueError('ebvofMW attribute cannot be None Type and must be\\\n\u001b[1;32m    402\u001b[0m                              \u001b[0mset\u001b[0m \u001b[0mby\u001b[0m \u001b[0mhand\u001b[0m \u001b[0musing\u001b[0m \u001b[0mset_MWebv\u001b[0m \u001b[0mbefore\u001b[0m \u001b[0mthis\u001b[0m \u001b[0mstage\u001b[0m\u001b[0;34m,\u001b[0m \u001b[0;32mor\u001b[0m\u001b[0;31m\\\u001b[0m\u001b[0;34m\u001b[0m\u001b[0m\n\u001b[0;32m--> 403\u001b[0;31m                              by using setcoords followed by mwEBVfromMaps\\n')\n\u001b[0m\u001b[1;32m    404\u001b[0m \u001b[0;34m\u001b[0m\u001b[0m\n\u001b[1;32m    405\u001b[0m         \u001b[0mSEDfromSNcosmo\u001b[0m\u001b[0;34m.\u001b[0m\u001b[0maddCCMDust\u001b[0m\u001b[0;34m(\u001b[0m\u001b[0ma_x\u001b[0m\u001b[0;34m=\u001b[0m\u001b[0max\u001b[0m\u001b[0;34m,\u001b[0m \u001b[0mb_x\u001b[0m\u001b[0;34m=\u001b[0m\u001b[0mbx\u001b[0m\u001b[0;34m,\u001b[0m \u001b[0mebv\u001b[0m\u001b[0;34m=\u001b[0m\u001b[0mself\u001b[0m\u001b[0;34m.\u001b[0m\u001b[0mebvofMW\u001b[0m\u001b[0;34m)\u001b[0m\u001b[0;34m\u001b[0m\u001b[0m\n",
        "\u001b[0;31mValueError\u001b[0m: ebvofMW attribute cannot be None Type and must be                             set by hand using set_MWebv before this stage, or                             by using setcoords followed by mwEBVfromMaps\n"
       ]
      }
     ],
     "prompt_number": 11
    },
    {
     "cell_type": "markdown",
     "metadata": {},
     "source": [
      "One reason this is around, is that sometimes I want to get rid of differences that may arise from extinction, and set these things by hand. For example, I may wish to check something without any extinction! Anyway, following the hint above, the user\n",
      "should check out the function set_MWebv:"
     ]
    },
    {
     "cell_type": "code",
     "collapsed": false,
     "input": [
      "help(SN.set_MWebv)"
     ],
     "language": "python",
     "metadata": {},
     "outputs": [
      {
       "output_type": "stream",
       "stream": "stdout",
       "text": [
        "Help on method set_MWebv in module sniacatalogs.snObject:\n",
        "\n",
        "set_MWebv(self, value) method of sniacatalogs.snObject.SNObject instance\n",
        "    if mwebv value is known, this can be used to set the attribute\n",
        "    ebvofMW of the SNObject class to the value (float).\n",
        "    \n",
        "    Parameters\n",
        "    ----------\n",
        "    value: float, mandatory\n",
        "           value of mw extinction parameter E(B-V) in mags to be used in\n",
        "           applying extinction to the SNObject spectrum\n",
        "    \n",
        "    Returns\n",
        "    -------\n",
        "    None\n",
        "    \n",
        "    Examples\n",
        "    --------\n",
        "    >>> t = SNObject()\n",
        "    >>> t.set_MWebv(0.)\n",
        "    >>> 0.\n",
        "    \n",
        "    .. note:: For a large set of SN, one may use fast `np.ndarray` valued\n",
        "              functions to obtain an array of such values, and then set\n",
        "              the values from such an array.\n",
        "\n"
       ]
      }
     ],
     "prompt_number": 12
    },
    {
     "cell_type": "code",
     "collapsed": false,
     "input": [
      "SN.set_MWebv(0.)\n",
      "# in this case, you could have changed this by setting SN.ebvofMW = 0., \n",
      "# but will usually do not allow that sort of thing"
     ],
     "language": "python",
     "metadata": {},
     "outputs": [],
     "prompt_number": 13
    },
    {
     "cell_type": "code",
     "collapsed": false,
     "input": [
      "print SN.SNObjectSED(time=[0.], wavelen=np.arange(300., 800., 10.))"
     ],
     "language": "python",
     "metadata": {},
     "outputs": [
      {
       "output_type": "stream",
       "stream": "stdout",
       "text": [
        "<lsst.sims.photUtils.Sed.Sed object at 0x10e387250>\n"
       ]
      }
     ],
     "prompt_number": 14
    },
    {
     "cell_type": "markdown",
     "metadata": {},
     "source": [
      "But ..."
     ]
    },
    {
     "cell_type": "code",
     "collapsed": false,
     "input": [
      "print 'ra, dec: ',  SN._ra , SN._dec"
     ],
     "language": "python",
     "metadata": {},
     "outputs": [
      {
       "output_type": "stream",
       "stream": "stdout",
       "text": [
        "ra, dec:  None None\n"
       ]
      }
     ],
     "prompt_number": 15
    },
    {
     "cell_type": "markdown",
     "metadata": {},
     "source": [
      "The other feature is that we can change this along the way. So we may instantiate SNObject with a set of parameters and locations, and then change those to represent a different SN. but that does not automatically change ebv. This allows mistakes,\n",
      "but I think it is a necessary evil to allow setting different ebvofMW values without changing ra, dec, but we can change this property if this turns out to be difficult. "
     ]
    },
    {
     "cell_type": "code",
     "collapsed": false,
     "input": [
      "SN.setCoords(ra=30., dec=60)\n",
      "SN.ebvofMW"
     ],
     "language": "python",
     "metadata": {},
     "outputs": [
      {
       "metadata": {},
       "output_type": "pyout",
       "prompt_number": 16,
       "text": [
        "0.0"
       ]
      }
     ],
     "prompt_number": 16
    },
    {
     "cell_type": "markdown",
     "metadata": {},
     "source": [
      "So, we have to do "
     ]
    },
    {
     "cell_type": "code",
     "collapsed": false,
     "input": [
      "SN.mwEBVfromMaps()\n",
      "SN.ebvofMW"
     ],
     "language": "python",
     "metadata": {},
     "outputs": [
      {
       "metadata": {},
       "output_type": "pyout",
       "prompt_number": 17,
       "text": [
        "0.97776782512664795"
       ]
      }
     ],
     "prompt_number": 17
    },
    {
     "cell_type": "markdown",
     "metadata": {},
     "source": [
      "<b> Summary </b>\n",
      "- Either supply ra, dec in instantiation call, and you will get correct SED\n",
      "- Alternative: instantiate without coordinates, and then either set ebvofMW directly or by using setCoords followed by mweEBVfromMaps()"
     ]
    },
    {
     "cell_type": "markdown",
     "metadata": {},
     "source": [
      "SNObject also has some attributes that are useful. For example, we need to set the parameters of the SN model. The parameters of the SN model are\n",
      "\n",
      "- 't0' time of peak\n",
      "- 'x0' amplitude at the top of the earth's atmosphere\n",
      "- 'x1' parameter related to stretch of supernovae\n",
      "- 'c' parameter related to E(B-V) color at peak of model\n",
      "- 'z' redshift\n",
      "\n",
      "These may be set by the following syntax or by passing a dictionary. Note that guessing a reasonable 'x0' is difficult. \n",
      "Instead, one may set a peak absolute magnitude in a particular rest frame band in a magnitude system and a cosmology"
     ]
    },
    {
     "cell_type": "code",
     "collapsed": false,
     "input": [
      "SN.set(z=0.5, x1=0., c =0.)\n",
      "SN.set_source_peakabsmag(absmag=-19.5, band='bessellb', magsys='AB')"
     ],
     "language": "python",
     "metadata": {},
     "outputs": [],
     "prompt_number": 18
    },
    {
     "cell_type": "markdown",
     "metadata": {},
     "source": [
      "The state of the object can be summarized through the `self.summarize()` function that returns a string. "
     ]
    },
    {
     "cell_type": "code",
     "collapsed": false,
     "input": [
      "print SN.summary()"
     ],
     "language": "python",
     "metadata": {},
     "outputs": [
      {
       "output_type": "stream",
       "stream": "stdout",
       "text": [
        "  SNObject Summary      \n",
        "Model = \n",
        "z = 0.5\n",
        "c = 0.0\n",
        "x1 = 0.0\n",
        "x0 = 2655345.14168\n",
        "t0 = 0.0\n",
        "ra = 0.523598775598 in radians \n",
        "dec = 1.0471975512 in radians \n",
        "MW E(B-V) = 0.977767825127\n",
        "\n"
       ]
      }
     ],
     "prompt_number": 19
    },
    {
     "cell_type": "code",
     "collapsed": false,
     "input": [
      "from lsst.sims.photUtils import Bandpass\n",
      "from lsst.sims.photUtils.Photometry import PhotometryBase"
     ],
     "language": "python",
     "metadata": {},
     "outputs": [],
     "prompt_number": 20
    },
    {
     "cell_type": "code",
     "collapsed": false,
     "input": [
      "fig, ax = plt.subplots()\n",
      "sed = SN.SNObjectSED(time=0., wavelen=np.arange(300., 800., 1.))\n",
      "sed2 = SN.SNObjectSED(time=10., wavelen=np.arange(300., 800., 10.))\n",
      "ax.plot(sed.wavelen, sed.flambda, 'k-', label='t=0.')\n",
      "ax.plot(sed2.wavelen, sed2.flambda, 'r-', label='t=10.')\n",
      "ax.legend(loc='best')\n",
      "ax.set_xlabel(r'$\\lambda (nm)$')\n",
      "ax.set_ylabel(r'flambda (ergs/cm^2/s/nm)')"
     ],
     "language": "python",
     "metadata": {},
     "outputs": [
      {
       "metadata": {},
       "output_type": "pyout",
       "prompt_number": 21,
       "text": [
        "<matplotlib.text.Text at 0x121a05f10>"
       ]
      },
      {
       "metadata": {},
       "output_type": "display_data",
       "png": "[encoded data removed]",
       "text": [
        "<matplotlib.figure.Figure at 0x1191779d0>"
       ]
      }
     ],
     "prompt_number": 21
    },
    {
     "cell_type": "markdown",
     "metadata": {},
     "source": [
      "Now to get fluxes and magnitudes, we need the bandpasses"
     ]
    },
    {
     "cell_type": "code",
     "collapsed": false,
     "input": [
      "# Setup a photUtils class that holds all the LSST bandpasses as a list \n",
      "pbase = PhotometryBase()\n",
      "pbase.loadBandpassesFromFiles()\n",
      "pbase.setupPhiArray_dict()\n",
      "# pbase.phiArray"
     ],
     "language": "python",
     "metadata": {},
     "outputs": [],
     "prompt_number": 22
    },
    {
     "cell_type": "code",
     "collapsed": false,
     "input": [
      "pbase.bandpassDict"
     ],
     "language": "python",
     "metadata": {},
     "outputs": [
      {
       "metadata": {},
       "output_type": "pyout",
       "prompt_number": 23,
       "text": [
        "OrderedDict([('u', <lsst.sims.photUtils.Bandpass.Bandpass instance at 0x11917a488>), ('g', <lsst.sims.photUtils.Bandpass.Bandpass instance at 0x12137ef80>), ('r', <lsst.sims.photUtils.Bandpass.Bandpass instance at 0x12137ed40>), ('i', <lsst.sims.photUtils.Bandpass.Bandpass instance at 0x12137ee18>), ('z', <lsst.sims.photUtils.Bandpass.Bandpass instance at 0x12137ecf8>), ('y', <lsst.sims.photUtils.Bandpass.Bandpass instance at 0x1191885f0>)])"
       ]
      }
     ],
     "prompt_number": 23
    },
    {
     "cell_type": "code",
     "collapsed": false,
     "input": [
      "pbase.loadBandpassesFromFiles()"
     ],
     "language": "python",
     "metadata": {},
     "outputs": [],
     "prompt_number": 24
    },
    {
     "cell_type": "code",
     "collapsed": false,
     "input": [
      "# The following were tried with feature/SIM-1037-only-calculate-requested-magnitudes in photUtils\n",
      "# Store light curve in fluxes\n",
      "l = []\n",
      "for time in np.arange(-20., 50., 1.):\n",
      "    l.append([time]+ SN.catsimBandFluxes(time=time, bandpassobject=pbase.bandpassDict, phiarray=pbase.phiArray, observedBandPassInds=None).tolist())\n",
      "# Store light curve in mags    \n",
      "m = []\n",
      "for time in np.arange(-20., 50., 1.):\n",
      "    m.append([time]+ SN.catsimBandMags(time=time, bandpassobject=pbase.bandpassDict, phiarray=pbase.phiArray).tolist())"
     ],
     "language": "python",
     "metadata": {},
     "outputs": [],
     "prompt_number": 25
    },
    {
     "cell_type": "code",
     "collapsed": false,
     "input": [
      "fig, ax = plt.subplots()\n",
      "sed = SN.SNObjectSED(time=0., bandpassobject=pbase.bandpassDict)\n",
      "sed2 = SN.SNObjectSED(time=10., wavelen=np.arange(300., 800., 10.))\n",
      "ax.plot(sed.wavelen, sed.flambda, 'k-', label='t=0.')\n",
      "ax.plot(sed2.wavelen, sed2.flambda, 'r-', label='t=10.')\n",
      "ax.legend(loc='best')\n",
      "ax.set_xlabel(r'$\\lambda (nm)$')\n",
      "ax.set_ylabel(r'flambda (ergs/cm^2/s/nm)')"
     ],
     "language": "python",
     "metadata": {},
     "outputs": [
      {
       "metadata": {},
       "output_type": "pyout",
       "prompt_number": 26,
       "text": [
        "<matplotlib.text.Text at 0x121bad550>"
       ]
      },
      {
       "metadata": {},
       "output_type": "display_data",
       "png": "[encoded data removed]",
       "text": [
        "<matplotlib.figure.Figure at 0x1191b5b90>"
       ]
      }
     ],
     "prompt_number": 26
    },
    {
     "cell_type": "code",
     "collapsed": false,
     "input": [
      "sed.flambdaTofnu()\n",
      "sed.manyFluxCalc(phiarray=pbase.phiArray, wavelen_step=pbase.waveLenStep, observedBandPassInd=None)"
     ],
     "language": "python",
     "metadata": {},
     "outputs": [
      {
       "metadata": {},
       "output_type": "pyout",
       "prompt_number": 27,
       "text": [
        "array([    239.75600278,   13016.12196171,   77396.08764247,\n",
        "        121487.33458521,  199185.40005868,  220391.97873915])"
       ]
      }
     ],
     "prompt_number": 27
    },
    {
     "cell_type": "code",
     "collapsed": false,
     "input": [
      "pbase.waveLenStep"
     ],
     "language": "python",
     "metadata": {},
     "outputs": [
      {
       "metadata": {},
       "output_type": "pyout",
       "prompt_number": 28,
       "text": [
        "0.10000000000002274"
       ]
      }
     ],
     "prompt_number": 28
    },
    {
     "cell_type": "code",
     "collapsed": false,
     "input": [
      "l = np.asarray(l)\n",
      "fig, ax = plt.subplots()\n",
      "ax.plot(l[:, 0], l[:, 1], label='u')\n",
      "ax.plot(l[:, 0], l[:, 2], label='g')\n",
      "ax.plot(l[:, 0], l[:, 3], label='r')\n",
      "ax.plot(l[:, 0], l[:, 4], label='i')\n",
      "ax.plot(l[:, 0], l[:, 5], label='z')\n",
      "ax.plot(l[:, 0], l[:, 6], label='y')\n",
      "ax.set_xlabel('time -peak')\n",
      "ax.set_ylabel('Flux')\n",
      "ax.legend(loc='best')"
     ],
     "language": "python",
     "metadata": {},
     "outputs": [
      {
       "metadata": {},
       "output_type": "pyout",
       "prompt_number": 29,
       "text": [
        "<matplotlib.legend.Legend at 0x122956a50>"
       ]
      },
      {
       "metadata": {},
       "output_type": "display_data",
       "png": "[encoded data removed]",
       "text": [
        "<matplotlib.figure.Figure at 0x121bb9c90>"
       ]
      }
     ],
     "prompt_number": 29
    },
    {
     "cell_type": "code",
     "collapsed": false,
     "input": [
      "m = np.asarray(m)\n",
      "fig, ax = plt.subplots()\n",
      "ax.plot(m[:, 0], m[:, 1], 'o', label='u')\n",
      "ax.plot(m[:, 0], m[:, 2], label='g')\n",
      "ax.plot(m[:, 0], m[:, 3], label='r')\n",
      "ax.plot(m[:, 0], m[:, 4], label='i')\n",
      "ax.plot(m[:, 0], m[:, 5], label='z')\n",
      "ax.plot(m[:, 0], m[:, 6], label='y')\n",
      "ax.invert_yaxis()\n",
      "ax.set_xlabel('time -peak')\n",
      "ax.set_ylabel('Magnitude')\n",
      "ax.legend(loc='best')"
     ],
     "language": "python",
     "metadata": {},
     "outputs": [
      {
       "metadata": {},
       "output_type": "pyout",
       "prompt_number": 30,
       "text": [
        "<matplotlib.legend.Legend at 0x122d67090>"
       ]
      },
      {
       "metadata": {},
       "output_type": "display_data",
       "png": "[encoded data removed]",
       "text": [
        "<matplotlib.figure.Figure at 0x121bad990>"
       ]
      }
     ],
     "prompt_number": 30
    },
    {
     "cell_type": "markdown",
     "metadata": {},
     "source": [
      "Why is the u band light curve funny ? This is a problem with the way the SN models are built. In the training algorithm for SNIa light curves, currently there is no mechanism to enforce positive semidefiniteness on the SN SED. In practice, this does not matter too much, because in the regions of phase space where we have data, the data makes the SED positive definite. It is only in regions where we don't have data (far away from the peak, or at wavelengths closer to the edge of the validity of the model where the observed SN are too dim). In part this is also protected by 'model uncertainties', but there are problems with those as well."
     ]
    },
    {
     "cell_type": "code",
     "collapsed": false,
     "input": [
      "import sncosmo\n",
      "sdssu = sncosmo.get_bandpass('sdssu')\n",
      "print 'u band at given redshift has an effective wavelength of ', sdssu.wave_eff/(1 + SN.get('z')),\\\n",
      "' which is too close to the lower wavelength limit of the model'"
     ],
     "language": "python",
     "metadata": {},
     "outputs": [
      {
       "output_type": "stream",
       "stream": "stdout",
       "text": [
        "u band at given redshift has an effective wavelength of  2396.21691127  which is too close to the lower wavelength limit of the model\n"
       ]
      }
     ],
     "prompt_number": 31
    },
    {
     "cell_type": "markdown",
     "metadata": {},
     "source": [
      "At these wavelengths, we get negative fluxes!"
     ]
    },
    {
     "cell_type": "code",
     "collapsed": false,
     "input": [
      "min(np.asarray(l)[:,1])"
     ],
     "language": "python",
     "metadata": {},
     "outputs": [
      {
       "metadata": {},
       "output_type": "pyout",
       "prompt_number": 32,
       "text": [
        "-1.1237653033202717"
       ]
      }
     ],
     "prompt_number": 32
    },
    {
     "cell_type": "heading",
     "level": 2,
     "metadata": {},
     "source": [
      "snUniverse.py: SNUniverse"
     ]
    },
    {
     "cell_type": "markdown",
     "metadata": {},
     "source": [
      "The basic idea of this module is to contain the distributions and rules of obtaining certain properties of SN. The sort of information that needs to be encoded are  \n",
      "- What should be the abundance of the types of objects created in SNObject be?\n",
      "- What should their parameter distributions be like ?"
     ]
    },
    {
     "cell_type": "heading",
     "level": 2,
     "metadata": {},
     "source": [
      "sncat.py: SNIaCatalog"
     ]
    },
    {
     "cell_type": "markdown",
     "metadata": {},
     "source": [
      "This inherits from the ` instanceCatalog ` class and uses the functionality in ` CosmologyWrapper ` and `SNUniverse`. This is an `InstanceCatalog` and so provides a catalog of SN observed at a particular exposure."
     ]
    },
    {
     "cell_type": "code",
     "collapsed": false,
     "input": [
      "from lsst.sims.catalogs.generation.db import ObservationMetaData\n",
      "from sniacatalogs import sncat"
     ],
     "language": "python",
     "metadata": {},
     "outputs": [],
     "prompt_number": 33
    },
    {
     "cell_type": "code",
     "collapsed": false,
     "input": [
      "from lsst.sims.catalogs.generation.db import CatalogDBObject"
     ],
     "language": "python",
     "metadata": {},
     "outputs": [],
     "prompt_number": 34
    },
    {
     "cell_type": "markdown",
     "metadata": {},
     "source": [
      "First, we create a catalog of all the galaxies in the catalog using the `CatalogDBObject.from_objid` "
     ]
    },
    {
     "cell_type": "code",
     "collapsed": false,
     "input": [
      "galDB = CatalogDBObject.from_objid('galaxyTiled')"
     ],
     "language": "python",
     "metadata": {},
     "outputs": [
      {
       "ename": "RuntimeError",
       "evalue": "Attempting to construct an object that does not exist",
       "output_type": "pyerr",
       "traceback": [
        "\u001b[0;31m---------------------------------------------------------------------------\u001b[0m\n\u001b[0;31mRuntimeError\u001b[0m                              Traceback (most recent call last)",
        "\u001b[0;32m<ipython-input-35-6567c776706e>\u001b[0m in \u001b[0;36m<module>\u001b[0;34m()\u001b[0m\n\u001b[0;32m----> 1\u001b[0;31m \u001b[0mgalDB\u001b[0m \u001b[0;34m=\u001b[0m \u001b[0mCatalogDBObject\u001b[0m\u001b[0;34m.\u001b[0m\u001b[0mfrom_objid\u001b[0m\u001b[0;34m(\u001b[0m\u001b[0;34m'galaxyTiled'\u001b[0m\u001b[0;34m)\u001b[0m\u001b[0;34m\u001b[0m\u001b[0m\n\u001b[0m",
        "\u001b[0;32m/Users/rbiswas/src/LSST/sims_catalogs_generation/python/lsst/sims/catalogs/generation/db/dbConnection.pyc\u001b[0m in \u001b[0;36mfrom_objid\u001b[0;34m(cls, objid, *args, **kwargs)\u001b[0m\n\u001b[1;32m    389\u001b[0m         \"\"\"\n\u001b[1;32m    390\u001b[0m         \u001b[0;32mif\u001b[0m \u001b[0mobjid\u001b[0m \u001b[0;32mnot\u001b[0m \u001b[0;32min\u001b[0m \u001b[0mcls\u001b[0m\u001b[0;34m.\u001b[0m\u001b[0mregistry\u001b[0m\u001b[0;34m:\u001b[0m\u001b[0;34m\u001b[0m\u001b[0m\n\u001b[0;32m--> 391\u001b[0;31m             \u001b[0;32mraise\u001b[0m \u001b[0mRuntimeError\u001b[0m\u001b[0;34m(\u001b[0m\u001b[0;34m'Attempting to construct an object that does not exist'\u001b[0m\u001b[0;34m)\u001b[0m\u001b[0;34m\u001b[0m\u001b[0m\n\u001b[0m\u001b[1;32m    392\u001b[0m         \u001b[0mcls\u001b[0m \u001b[0;34m=\u001b[0m \u001b[0mcls\u001b[0m\u001b[0;34m.\u001b[0m\u001b[0mregistry\u001b[0m\u001b[0;34m.\u001b[0m\u001b[0mget\u001b[0m\u001b[0;34m(\u001b[0m\u001b[0mobjid\u001b[0m\u001b[0;34m,\u001b[0m \u001b[0mCatalogDBObject\u001b[0m\u001b[0;34m)\u001b[0m\u001b[0;34m\u001b[0m\u001b[0m\n\u001b[1;32m    393\u001b[0m         \u001b[0;32mreturn\u001b[0m \u001b[0mcls\u001b[0m\u001b[0;34m(\u001b[0m\u001b[0;34m*\u001b[0m\u001b[0margs\u001b[0m\u001b[0;34m,\u001b[0m \u001b[0;34m**\u001b[0m\u001b[0mkwargs\u001b[0m\u001b[0;34m)\u001b[0m\u001b[0;34m\u001b[0m\u001b[0m\n",
        "\u001b[0;31mRuntimeError\u001b[0m: Attempting to construct an object that does not exist"
       ]
      }
     ],
     "prompt_number": 35
    },
    {
     "cell_type": "markdown",
     "metadata": {},
     "source": [
      "The catsim framework does not allow us to record these galaxies to disk, but we could by creating an `InstanceCatalog` class. This requires "
     ]
    },
    {
     "cell_type": "code",
     "collapsed": false,
     "input": [
      "from lsst.sims.catalogs.measures.instance import InstanceCatalog\n",
      "class galCopy(InstanceCatalog):\n",
      "    column_outputs = ['id', 'raJ2000', 'decJ2000', 'redshift']\n",
      "    override_formats = {'raJ2000': '%8e', 'decJ2000': '%8e'}"
     ],
     "language": "python",
     "metadata": {},
     "outputs": [],
     "prompt_number": 37
    },
    {
     "cell_type": "markdown",
     "metadata": {},
     "source": [
      "The next step takes a set of mjds and pointings made up here (ie. this should really come from Opsims, but to simplify this notebook, and build a light curve, we will assume that we decided to point at the same location everyday. And to first try out\n",
      "an instance catalog we can read easily, and understand, we will first do one day.\n",
      "\n",
      "\n",
      "So, let us instantiate an ObservationMetaData object, and write the catalog associated with it"
     ]
    },
    {
     "cell_type": "code",
     "collapsed": false,
     "input": [
      "mjds = [571203.15]\n",
      "for i, myMJD in enumerate(mjds):\n",
      "    myObsMD = ObservationMetaData(boundType='circle',\n",
      "                                  boundLength=0.015,\n",
      "                                  unrefractedRA=5.0,\n",
      "                                  unrefractedDec=15.0,\n",
      "                                  site='LSST',\n",
      "                                  bandpassName=['u', 'g', 'r', 'i', 'z', 'y'],\n",
      "                                  mjd=myMJD)\n",
      "    catalog = sncat.SNIaCatalog(db_obj=galDB, obs_metadata=myObsMD)"
     ],
     "language": "python",
     "metadata": {},
     "outputs": [],
     "prompt_number": 38
    },
    {
     "cell_type": "code",
     "collapsed": false,
     "input": [
      "gals = galCopy(db_obj=galDB, obs_metadata=myObsMD)\n",
      "gals.write_catalog('gals.dat')"
     ],
     "language": "python",
     "metadata": {},
     "outputs": [],
     "prompt_number": 39
    },
    {
     "cell_type": "markdown",
     "metadata": {},
     "source": [
      "The SNIaCatalog object has an attribute called `suppressDimSN`. If set to true, it does not add any SN that have peak dates outside a (can be changed) `maxTimeSNVisible` day window surrounding the date of observation. "
     ]
    },
    {
     "cell_type": "code",
     "collapsed": false,
     "input": [
      "catalog.suppressDimSN"
     ],
     "language": "python",
     "metadata": {},
     "outputs": [
      {
       "metadata": {},
       "output_type": "pyout",
       "prompt_number": 40,
       "text": [
        "True"
       ]
      }
     ],
     "prompt_number": 40
    },
    {
     "cell_type": "code",
     "collapsed": false,
     "input": [
      "catalog.maxTimeSNVisible"
     ],
     "language": "python",
     "metadata": {},
     "outputs": [
      {
       "metadata": {},
       "output_type": "pyout",
       "prompt_number": 41,
       "text": [
        "100.0"
       ]
      }
     ],
     "prompt_number": 41
    },
    {
     "cell_type": "code",
     "collapsed": false,
     "input": [
      "catalog.suppressDimSN = False\n",
      "# Check\n",
      "print catalog.suppressDimSN"
     ],
     "language": "python",
     "metadata": {},
     "outputs": [
      {
       "output_type": "stream",
       "stream": "stdout",
       "text": [
        "False\n"
       ]
      }
     ],
     "prompt_number": 42
    },
    {
     "cell_type": "markdown",
     "metadata": {},
     "source": [
      "Similarly, we have the boolean variable `suppressHighzSN` which when set to `True`, prevents the addition of SN with redshifts higher than `maxz` to the catalog."
     ]
    },
    {
     "cell_type": "code",
     "collapsed": false,
     "input": [
      "print catalog.suppressHighzSN"
     ],
     "language": "python",
     "metadata": {},
     "outputs": [
      {
       "output_type": "stream",
       "stream": "stdout",
       "text": [
        "True\n"
       ]
      }
     ],
     "prompt_number": 43
    },
    {
     "cell_type": "code",
     "collapsed": false,
     "input": [
      "print catalog.maxz"
     ],
     "language": "python",
     "metadata": {},
     "outputs": [
      {
       "output_type": "stream",
       "stream": "stdout",
       "text": [
        "1.2\n"
       ]
      }
     ],
     "prompt_number": 44
    },
    {
     "cell_type": "markdown",
     "metadata": {},
     "source": [
      "Now, with the current configuration, the catalog that we write should have as many SN as galaxiex for redshifts below the maximal redshift for SN"
     ]
    },
    {
     "cell_type": "code",
     "collapsed": false,
     "input": [
      "catalog.write_catalog('catalog_day.txt', write_metadata=True, meta_key='#@')"
     ],
     "language": "python",
     "metadata": {},
     "outputs": [],
     "prompt_number": 45
    },
    {
     "cell_type": "code",
     "collapsed": false,
     "input": [
      "import numpy as np"
     ],
     "language": "python",
     "metadata": {},
     "outputs": [],
     "prompt_number": 46
    },
    {
     "cell_type": "code",
     "collapsed": false,
     "input": [
      "galcat = np.loadtxt('gals.dat', delimiter=',')\n",
      "sn = np.loadtxt('catalog_day.txt', delimiter=',')"
     ],
     "language": "python",
     "metadata": {},
     "outputs": [],
     "prompt_number": 47
    },
    {
     "cell_type": "code",
     "collapsed": false,
     "input": [
      "%matplotlib inline\n",
      "import matplotlib.pyplot as plt\n",
      "fig, ax = plt.subplots(2, figsize=(6, 8), sharex=True)\n",
      "countssn, bins, patches = ax[0].hist(sn[:, 3], histtype='step', label='SN', lw=2., color='k')\n",
      "countsgals, bins, patches = ax[0].hist(galcat[:, 3], bins=bins, histtype='step', linestyle='dashed', lw=2.0, color='r', label='gals')\n",
      "ax[0].set_ylabel('number of objects')\n",
      "ax[0].legend(loc='upper left')\n",
      "ax[1].plot((bins[:-1] + bins[1:])/2.0, countsgals - countssn, 'o')\n",
      "ax[1].set_xlabel('z')\n",
      "ax[1].set_ylabel('num (SN - gals)')\n",
      "\n",
      "plt.tight_layout()\n",
      "fig.set_label('Comparison of galaxy catalog with SN catalog')"
     ],
     "language": "python",
     "metadata": {},
     "outputs": [
      {
       "metadata": {},
       "output_type": "display_data",
       "png": "[encoded data removed]",
       "text": [
        "<matplotlib.figure.Figure at 0x12296ccd0>"
       ]
      }
     ],
     "prompt_number": 48
    },
    {
     "cell_type": "markdown",
     "metadata": {},
     "source": [
      "This shows that the behavior of the SN catalog is as expected: we get a SN for each galaxy in the region, so long as its redshift is below `catalog.maxz`"
     ]
    },
    {
     "cell_type": "code",
     "collapsed": false,
     "input": [
      "catalog.suppressDimSN = True"
     ],
     "language": "python",
     "metadata": {},
     "outputs": [],
     "prompt_number": 49
    },
    {
     "cell_type": "code",
     "collapsed": false,
     "input": [
      "catalog.write_catalog('SN_TimeWindow.txt')"
     ],
     "language": "python",
     "metadata": {},
     "outputs": [],
     "prompt_number": 50
    },
    {
     "cell_type": "code",
     "collapsed": false,
     "input": [
      "!head SN_TimeWindow.txt"
     ],
     "language": "python",
     "metadata": {},
     "outputs": [
      {
       "output_type": "stream",
       "stream": "stdout",
       "text": [
        "#snid, snra, sndec, z, t0, c, x1, x0, flux_u, flux_g, flux_r, flux_i, flux_z, flux_y, mag_u, mag_g, mag_r, mag_i, mag_z, mag_y\r\n",
        "1426829, 8.723553e-02, 2.618648e-01, 0.9604, 571181.4041, 1.178580e-01, 0.8889, 1.828948e-06, 6.921282e-11, -2.291597e-09, 5.895654e-08, 3.046362e-07, 4.852002e-07, 4.813532e-07, 34.2996, nan, 26.9737, 25.1906, 24.6853, 24.6939\r\n"
       ]
      }
     ],
     "prompt_number": 51
    },
    {
     "cell_type": "markdown",
     "metadata": {},
     "source": [
      "This shows that once we turn on the `suppressDimSN` boolean, we filter out an overwhelming number of SN compared to the number of galaxies. This is expected, and this shows that it works."
     ]
    },
    {
     "cell_type": "heading",
     "level": 2,
     "metadata": {},
     "source": [
      "Building Light Curves from Instance Catalogs"
     ]
    },
    {
     "cell_type": "markdown",
     "metadata": {},
     "source": [
      "We would like to create a number of supernova instance catalogs and then build the light curves from the catalogs. To do this correctly, we would like to use the `observation_metadata` associated with a number of conscutive OpSIM pointings. Right now, though, it will be nice to demonstrate that we are getting light curves from a number of instance catalogs, without caring about a particular strategy. Hence, we will create a 20 epoch list of `observation_metadata` , where we 'observe' in all bands, and quickly by doing a small field of view (0.015 degree). "
     ]
    },
    {
     "cell_type": "code",
     "collapsed": false,
     "input": [
      "\n",
      "import lightcurve_utils as lu"
     ],
     "language": "python",
     "metadata": {},
     "outputs": [],
     "prompt_number": 52
    },
    {
     "cell_type": "code",
     "collapsed": false,
     "input": [
      "#This creates a list of obsMetaData with a starting point, a cadence and a total number of epochs\n",
      "def obsMetaDataList(startdate=570180, cadence=3.0, numepochs=20):\n",
      "    \"\"\"\n",
      "    create a list of obsMetaData variables for a list of pointings.\n",
      "\n",
      "\n",
      "    Parameters\n",
      "    ----------\n",
      "    startdate: float, optional, defaults to 570180\n",
      "        starting date of sequence\n",
      "    cadence: float, optional, defaults to 3.0\n",
      "        interval between epochs of observations\n",
      "    numepochs: int, optional, defaults to 20\n",
      "        number of epochs of observations\n",
      "\n",
      "\n",
      "    Returns\n",
      "    -------\n",
      "    list of `~lsst.sims.catalogs.generation.db.ObservationMetaData` variables\n",
      "\n",
      "\n",
      "    .. note: This will finally come from OpSims output, this is just a mock up.\n",
      "    \"\"\"\n",
      "\n",
      "    # List of MJDs with a three day cadence with 20 epochs\n",
      "    myMJDS = [startdate + cadence*i for i in range(numepochs)]\n",
      "    filters = ['u', 'g', 'r', 'i', 'z', 'y']\n",
      "    unrefRA = 5.0\n",
      "    unrefDec = 15.0\n",
      "    boundLen = 0.015\n",
      "    boundType = 'circle'\n",
      "\n",
      "    obsMetaDataList = []\n",
      "    for mjd in myMJDS:\n",
      "        obsMetaDataList.append(ObservationMetaData(boundType=boundType,\n",
      "                               unrefractedRA=unrefRA,\n",
      "                               unrefractedDec=unrefDec,\n",
      "                               boundLength=boundLen,\n",
      "                               bandpassName=filters,\n",
      "                               mjd=mjd))\n",
      "    return obsMetaDataList"
     ],
     "language": "python",
     "metadata": {},
     "outputs": [],
     "prompt_number": 53
    },
    {
     "cell_type": "code",
     "collapsed": false,
     "input": [
      "obsMDList = obsMetaDataList()"
     ],
     "language": "python",
     "metadata": {},
     "outputs": [],
     "prompt_number": 54
    },
    {
     "cell_type": "code",
     "collapsed": false,
     "input": [
      "obsMDList[0].summary"
     ],
     "language": "python",
     "metadata": {},
     "outputs": [
      {
       "metadata": {},
       "output_type": "pyout",
       "prompt_number": 55,
       "text": [
        "{'bandpass': ['u', 'g', 'r', 'i', 'z', 'y'],\n",
        " 'boundLength': 0.00026179938779914941,\n",
        " 'boundType': 'circle',\n",
        " 'mjd': 570180.0,\n",
        " 'phoSimMetadata': None,\n",
        " 'rotSkyPos': 0.0,\n",
        " 'skyBrightness': None,\n",
        " 'unrefractedDec': 0.26179938779914941,\n",
        " 'unrefractedRA': 0.087266462599716474}"
       ]
      }
     ],
     "prompt_number": 55
    },
    {
     "cell_type": "code",
     "collapsed": false,
     "input": [
      "obsMDList[1].summary"
     ],
     "language": "python",
     "metadata": {},
     "outputs": [
      {
       "metadata": {},
       "output_type": "pyout",
       "prompt_number": 56,
       "text": [
        "{'bandpass': ['u', 'g', 'r', 'i', 'z', 'y'],\n",
        " 'boundLength': 0.00026179938779914941,\n",
        " 'boundType': 'circle',\n",
        " 'mjd': 570183.0,\n",
        " 'phoSimMetadata': None,\n",
        " 'rotSkyPos': 0.0,\n",
        " 'skyBrightness': None,\n",
        " 'unrefractedDec': 0.26179938779914941,\n",
        " 'unrefractedRA': 0.087266462599716474}"
       ]
      }
     ],
     "prompt_number": 56
    },
    {
     "cell_type": "markdown",
     "metadata": {},
     "source": [
      "We now want to write the light curves to a database. The way this function actually works is it creates the instance catalogs \n",
      "for each of the obs_metadata points, writes them to disk using the `InstanceCatalog.write_catalog` method, reads the files from disk (right now the filenames are chosen in the same order as obs_metadata objects), and writes them to a sqlite database."
     ]
    },
    {
     "cell_type": "code",
     "collapsed": false,
     "input": [
      "if not os.path.exists('data/LightCurves'): \n",
      "    os.makedirs('data/LightCurves')"
     ],
     "language": "python",
     "metadata": {},
     "outputs": [],
     "prompt_number": null
    },
    {
     "cell_type": "code",
     "collapsed": false,
     "input": [
      "lu.writeCatalogtoDB(dbfile='data/sncat_new.db', dbtable='mysncat', ascii_root='data/SNIa_new_', galdb=galDB, obsMetaDataList=obsMDList)\n",
      "    "
     ],
     "language": "python",
     "metadata": {},
     "outputs": [
      {
       "output_type": "stream",
       "stream": "stdout",
       "text": [
        "deleting previous database\n",
        "=====================================\n",
        "0 <type 'list'> 570180.0\n",
        "=====================================\n",
        "=====================================\n",
        "1 <type 'list'> 570183.0\n",
        "=====================================\n",
        "====================================="
       ]
      }
     ],
     "prompt_number": null
    },
    {
     "cell_type": "markdown",
     "metadata": {},
     "source": [
      "The following function then queries the database, and groups the data by a SNID number to build the light curves."
     ]
    },
    {
     "cell_type": "code",
     "collapsed": false,
     "input": [
      "lcs = lu.getLCsFromDB(dbfile='data/sncat_new.db',\n",
      "                 dbtable='mysncat',\n",
      "                 lc_root='data/LightCurves/SN_new_')"
     ],
     "language": "python",
     "metadata": {},
     "outputs": [],
     "prompt_number": null
    },
    {
     "cell_type": "markdown",
     "metadata": {},
     "source": [
      "We can check how many light curves are there, and we can display each light curve in the following way"
     ]
    },
    {
     "cell_type": "code",
     "collapsed": false,
     "input": [
      "len(lcs)"
     ],
     "language": "python",
     "metadata": {},
     "outputs": [],
     "prompt_number": null
    },
    {
     "cell_type": "code",
     "collapsed": false,
     "input": [
      "lcs[1][1]"
     ],
     "language": "python",
     "metadata": {},
     "outputs": [],
     "prompt_number": null
    },
    {
     "cell_type": "markdown",
     "metadata": {},
     "source": [
      "In this case, we have light curves associated with two different objects, and we can now plot them."
     ]
    },
    {
     "cell_type": "code",
     "collapsed": false,
     "input": [
      "fig, ax = plt.subplots(figsize=(24,8))\n",
      "lu.plotlc(lcs[0])\n",
      "lu.plotlc(lcs[1], marker='s')\n",
      "ax.invert_yaxis()"
     ],
     "language": "python",
     "metadata": {},
     "outputs": [],
     "prompt_number": null
    },
    {
     "cell_type": "markdown",
     "metadata": {},
     "source": [
      "The circles and squares are two different SN which were in lcs. The colors represent the different bands."
     ]
    }
   ],
   "metadata": {}
  }
 ]
}