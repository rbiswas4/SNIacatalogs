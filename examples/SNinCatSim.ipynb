{
 "cells": [
  {
   "cell_type": "markdown",
   "metadata": {},
   "source": [
    "# Supernovae Ia in catSim"
   ]
  },
  {
   "cell_type": "markdown",
   "metadata": {},
   "source": [
    "There are three files in catSim that currently provide the SN functionality. This functionality is based on classes provided by \n",
    "the python package SNCosmo, through the sncosmo.Model class which is built on top of a sncosmo.source class which describes a transient source in its rest frame in terms of a time series of spectra. The three files added into catSim are:\n",
    "\n",
    "1. snObject.py: Contains the class SNObject which inherits from the sncsomo.Model class with some decisions appropriate for our use\n",
    "2. snUniverse.py: Contains definitions of the rates and distribution of types of snObject \n",
    "3. sncat.py : How to interact with catSim, get the information there and write things out."
   ]
  },
  {
   "cell_type": "code",
   "execution_count": 26,
   "metadata": {
    "collapsed": false
   },
   "outputs": [],
   "source": [
    "import sniacatalogs as snia"
   ]
  },
  {
   "cell_type": "code",
   "execution_count": 27,
   "metadata": {
    "collapsed": false
   },
   "outputs": [],
   "source": [
    "import numpy as np\n",
    "%matplotlib inline\n",
    "import matplotlib.pyplot as plt\n",
    "import os"
   ]
  },
  {
   "cell_type": "code",
   "execution_count": 28,
   "metadata": {
    "collapsed": false
   },
   "outputs": [],
   "source": [
    "#seaborn Comment out if this is not installed\n",
    "import seaborn as sns\n",
    "sns.set()"
   ]
  },
  {
   "cell_type": "markdown",
   "metadata": {},
   "source": [
    "## snObject : SNObject"
   ]
  },
  {
   "cell_type": "markdown",
   "metadata": {},
   "source": [
    "The basic idea of this module is to contain classes that represent SN. Right now, we only have one such object representing a \n",
    "SNIa based on the SALT model, but later we could expand this to accomodate other objects.\n",
    "\n",
    "<b>Main thing SNObject is supposed to provide </b> SNObject provides the SED from the SN, extincted through MW dust, as well as convenient methods to obtain band fluxes and magnitudes calling sims.photUtils methods.\n",
    "\n",
    "To instantiate an SNObject, we have a few alternativaes with different use cases in mind"
   ]
  },
  {
   "cell_type": "code",
   "execution_count": 29,
   "metadata": {
    "collapsed": false
   },
   "outputs": [],
   "source": [
    "# Give it an ra, dec\n",
    "# sims.photUtils uses O'Donnell 94 to calculate extinction, and does not use any other fits. So, the fit function is not \n",
    "# a parameter at present\n",
    "# Following catsim conventions the entries are in degrees\n",
    "SNObjectfull  = snia.snObject.SNObject(ra=30., dec=60.)"
   ]
  },
  {
   "cell_type": "code",
   "execution_count": 30,
   "metadata": {
    "collapsed": false
   },
   "outputs": [],
   "source": [
    "SNObjectfull.setCoords(ra=30., dec=60.)"
   ]
  },
  {
   "cell_type": "code",
   "execution_count": 31,
   "metadata": {
    "collapsed": false
   },
   "outputs": [
    {
     "name": "stdout",
     "output_type": "stream",
     "text": [
      "ra, dec:  0.523598775598 1.0471975512\n"
     ]
    }
   ],
   "source": [
    "# The coordinates are stored in radians, but these are not 'public' variables\n",
    "print 'ra, dec: ',  SNObjectfull._ra , SNObjectfull._dec"
   ]
  },
  {
   "cell_type": "code",
   "execution_count": 32,
   "metadata": {
    "collapsed": false
   },
   "outputs": [
    {
     "data": {
      "text/plain": [
       "array([[ 0.52359878],\n",
       "       [ 1.04719755]])"
      ]
     },
     "execution_count": 32,
     "metadata": {},
     "output_type": "execute_result"
    }
   ],
   "source": [
    "# Publicly accessed variables having ra and dec in an array, in the form required by catsim\n",
    "\n",
    "SNObjectfull.skycoord"
   ]
  },
  {
   "cell_type": "code",
   "execution_count": 33,
   "metadata": {
    "collapsed": false
   },
   "outputs": [
    {
     "name": "stdout",
     "output_type": "stream",
     "text": [
      "E(B-V) =  0.977767825127\n"
     ]
    }
   ],
   "source": [
    "# The color excess has been calculated\n",
    "print 'E(B-V) = ', SNObjectfull.ebvofMW"
   ]
  },
  {
   "cell_type": "markdown",
   "metadata": {},
   "source": [
    "Obtaining the Sed Object is the crux of this module."
   ]
  },
  {
   "cell_type": "code",
   "execution_count": 34,
   "metadata": {
    "collapsed": false
   },
   "outputs": [
    {
     "name": "stdout",
     "output_type": "stream",
     "text": [
      "[ 300.  310.  320.  330.  340.  350.  360.  370.  380.  390.  400.  410.\n",
      "  420.  430.  440.  450.  460.  470.  480.  490.  500.  510.  520.  530.\n",
      "  540.  550.  560.  570.  580.  590.  600.  610.  620.  630.  640.  650.\n",
      "  660.  670.  680.  690.]\n",
      "[  9.03091117e-15   1.33796344e-14   1.53838655e-14   1.68316500e-14\n",
      "   2.45698825e-14   3.88739192e-14   5.48196813e-14   3.52104127e-14\n",
      "   3.70689597e-14   8.71962689e-14   8.43299467e-14   1.03487911e-13\n",
      "   8.92399147e-14   6.12776098e-14   8.21115727e-14   1.07916032e-13\n",
      "   1.09207281e-13   8.82019759e-14   8.41670020e-14   8.12725843e-14\n",
      "   8.87362652e-14   1.25898919e-13   1.30130187e-13   9.71921085e-14\n",
      "   1.10113912e-13   1.18833675e-13   1.51116090e-13   1.49048492e-13\n",
      "   1.45713590e-13   1.59780169e-13   1.48076355e-13   7.24648555e-14\n",
      "   1.13911620e-13   1.59077378e-13   1.56878599e-13   1.39914059e-13\n",
      "   1.30341282e-13   1.17762470e-13   1.11228018e-13   1.02795000e-13]\n"
     ]
    }
   ],
   "source": [
    "sed = SNObjectfull.SNObjectSED(time=0., wavelen=np.arange(300., 700.,10.))\n",
    "print sed.wavelen\n",
    "print sed.flambda"
   ]
  },
  {
   "cell_type": "markdown",
   "metadata": {},
   "source": [
    "### Another way to Instantiate the SNObject"
   ]
  },
  {
   "cell_type": "code",
   "execution_count": 35,
   "metadata": {
    "collapsed": false
   },
   "outputs": [
    {
     "name": "stdout",
     "output_type": "stream",
     "text": [
      "ra, dec:  None None\n",
      "E(B-V) =  None\n"
     ]
    }
   ],
   "source": [
    "SN = snia.snObject.SNObject()\n",
    "print 'ra, dec: ',  SN._ra , SN._dec\n",
    "# The color excess has been calculated\n",
    "print 'E(B-V) = ', SN.ebvofMW"
   ]
  },
  {
   "cell_type": "markdown",
   "metadata": {},
   "source": [
    "But a `None` type color excess precludes any calculations that may require it. You will not be able to request the SED, the magnitudes or fluxes calculated in any filter bands. Calling such a function will tell you what the problem is and suggest how you may fix it. (<b>So the following line is supposed to fail</b>)"
   ]
  },
  {
   "cell_type": "code",
   "execution_count": 36,
   "metadata": {
    "collapsed": false
   },
   "outputs": [
    {
     "ename": "ValueError",
     "evalue": "ebvofMW attribute cannot be None Type and must beset by hand using set_MWebv before this stage, orby using setcoords followed by mwEBVfromMaps\n",
     "output_type": "error",
     "traceback": [
      "\u001b[0;31m---------------------------------------------------------------------------\u001b[0m",
      "\u001b[0;31mValueError\u001b[0m                                Traceback (most recent call last)",
      "\u001b[0;32m<ipython-input-36-bb2412a9cb0c>\u001b[0m in \u001b[0;36m<module>\u001b[0;34m()\u001b[0m\n\u001b[0;32m----> 1\u001b[0;31m \u001b[0;32mprint\u001b[0m \u001b[0mSN\u001b[0m\u001b[0;34m.\u001b[0m\u001b[0mSNObjectSED\u001b[0m\u001b[0;34m(\u001b[0m\u001b[0mtime\u001b[0m\u001b[0;34m=\u001b[0m\u001b[0;36m0.\u001b[0m\u001b[0;34m,\u001b[0m \u001b[0mwavelen\u001b[0m\u001b[0;34m=\u001b[0m\u001b[0mnp\u001b[0m\u001b[0;34m.\u001b[0m\u001b[0marange\u001b[0m\u001b[0;34m(\u001b[0m\u001b[0;36m300.\u001b[0m\u001b[0;34m,\u001b[0m \u001b[0;36m800.\u001b[0m\u001b[0;34m,\u001b[0m \u001b[0;36m10.\u001b[0m\u001b[0;34m)\u001b[0m\u001b[0;34m)\u001b[0m\u001b[0;34m\u001b[0m\u001b[0m\n\u001b[0m",
      "\u001b[0;32m/Users/rbiswas/.local/lib/python2.7/site-packages/SNIaCatalogs-0.1.1.dev0-py2.7.egg/sniacatalogs/snObject.pyc\u001b[0m in \u001b[0;36mSNObjectSED\u001b[0;34m(self, time, wavelen, bandpass, applyExtinction)\u001b[0m\n\u001b[1;32m    457\u001b[0m \u001b[0;34m\u001b[0m\u001b[0m\n\u001b[1;32m    458\u001b[0m         \u001b[0;32mif\u001b[0m \u001b[0mself\u001b[0m\u001b[0;34m.\u001b[0m\u001b[0mebvofMW\u001b[0m \u001b[0;32mis\u001b[0m \u001b[0mNone\u001b[0m\u001b[0;34m:\u001b[0m\u001b[0;34m\u001b[0m\u001b[0m\n\u001b[0;32m--> 459\u001b[0;31m             raise ValueError('ebvofMW attribute cannot be None Type and must be'\n\u001b[0m\u001b[1;32m    460\u001b[0m                              \u001b[0;34m'set by hand using set_MWebv before this stage, or'\u001b[0m\u001b[0;34m\u001b[0m\u001b[0m\n\u001b[1;32m    461\u001b[0m                              'by using setcoords followed by mwEBVfromMaps\\n')\n",
      "\u001b[0;31mValueError\u001b[0m: ebvofMW attribute cannot be None Type and must beset by hand using set_MWebv before this stage, orby using setcoords followed by mwEBVfromMaps\n"
     ]
    }
   ],
   "source": [
    "print SN.SNObjectSED(time=0., wavelen=np.arange(300., 800., 10.))"
   ]
  },
  {
   "cell_type": "markdown",
   "metadata": {},
   "source": [
    "One reason this is around, is that sometimes I want to get rid of differences that may arise from extinction, and set these things by hand. For example, I may wish to check something without any extinction! Anyway, following the hint above, the user\n",
    "should check out the function set_MWebv:"
   ]
  },
  {
   "cell_type": "code",
   "execution_count": 37,
   "metadata": {
    "collapsed": false
   },
   "outputs": [
    {
     "name": "stdout",
     "output_type": "stream",
     "text": [
      "Help on method set_MWebv in module sniacatalogs.snObject:\n",
      "\n",
      "set_MWebv(self, value) method of sniacatalogs.snObject.SNObject instance\n",
      "    if mwebv value is known, this can be used to set the attribute\n",
      "    ebvofMW of the SNObject class to the value (float).\n",
      "    \n",
      "    Parameters\n",
      "    ----------\n",
      "    value: float, mandatory\n",
      "           value of mw extinction parameter E(B-V) in mags to be used in\n",
      "           applying extinction to the SNObject spectrum\n",
      "    \n",
      "    Returns\n",
      "    -------\n",
      "    None\n",
      "    \n",
      "    Examples\n",
      "    --------\n",
      "    >>> t = SNObject()\n",
      "    >>> t.set_MWebv(0.)\n",
      "    >>> 0.\n",
      "    \n",
      "    .. note:: For a large set of SN, one may use fast `np.ndarray` valued\n",
      "              functions to obtain an array of such values, and then set\n",
      "              the values from such an array.\n",
      "\n"
     ]
    }
   ],
   "source": [
    "help(SN.set_MWebv)"
   ]
  },
  {
   "cell_type": "code",
   "execution_count": 38,
   "metadata": {
    "collapsed": false
   },
   "outputs": [],
   "source": [
    "SN.set_MWebv(0.)\n",
    "# in this case, you could have changed this by setting SN.ebvofMW = 0., \n",
    "# but will usually do not allow that sort of thing"
   ]
  },
  {
   "cell_type": "code",
   "execution_count": 39,
   "metadata": {
    "collapsed": false
   },
   "outputs": [
    {
     "name": "stdout",
     "output_type": "stream",
     "text": [
      "<lsst.sims.photUtils.Sed.Sed object at 0x121ec0110>\n"
     ]
    }
   ],
   "source": [
    "print SN.SNObjectSED(time=[0.], wavelen=np.arange(300., 800., 10.))"
   ]
  },
  {
   "cell_type": "markdown",
   "metadata": {},
   "source": [
    "But ..."
   ]
  },
  {
   "cell_type": "code",
   "execution_count": 40,
   "metadata": {
    "collapsed": false
   },
   "outputs": [
    {
     "name": "stdout",
     "output_type": "stream",
     "text": [
      "ra, dec:  None None\n"
     ]
    }
   ],
   "source": [
    "print 'ra, dec: ',  SN._ra , SN._dec"
   ]
  },
  {
   "cell_type": "markdown",
   "metadata": {},
   "source": [
    "The other feature is that we can change this along the way. So we may instantiate SNObject with a set of parameters and locations, and then change those to represent a different SN. but that does not automatically change ebv. This allows mistakes,\n",
    "but I think it is a necessary evil to allow setting different ebvofMW values without changing ra, dec, but we can change this property if this turns out to be difficult. "
   ]
  },
  {
   "cell_type": "code",
   "execution_count": 41,
   "metadata": {
    "collapsed": false
   },
   "outputs": [
    {
     "data": {
      "text/plain": [
       "0.0"
      ]
     },
     "execution_count": 41,
     "metadata": {},
     "output_type": "execute_result"
    }
   ],
   "source": [
    "SN.setCoords(ra=30., dec=60)\n",
    "SN.ebvofMW"
   ]
  },
  {
   "cell_type": "markdown",
   "metadata": {},
   "source": [
    "So, we have to do "
   ]
  },
  {
   "cell_type": "code",
   "execution_count": 42,
   "metadata": {
    "collapsed": false
   },
   "outputs": [
    {
     "data": {
      "text/plain": [
       "0.97776782512664795"
      ]
     },
     "execution_count": 42,
     "metadata": {},
     "output_type": "execute_result"
    }
   ],
   "source": [
    "SN.mwEBVfromMaps()\n",
    "SN.ebvofMW"
   ]
  },
  {
   "cell_type": "markdown",
   "metadata": {},
   "source": [
    "<b> Summary </b>\n",
    "- Either supply ra, dec in instantiation call, and you will get correct SED\n",
    "- Alternative: instantiate without coordinates, and then either set ebvofMW directly or by using setCoords followed by mweEBVfromMaps()"
   ]
  },
  {
   "cell_type": "markdown",
   "metadata": {},
   "source": [
    "SNObject also has some attributes that are useful. For example, we need to set the parameters of the SN model. The parameters of the SN model are\n",
    "\n",
    "- 't0' time of peak\n",
    "- 'x0' amplitude at the top of the earth's atmosphere\n",
    "- 'x1' parameter related to stretch of supernovae\n",
    "- 'c' parameter related to E(B-V) color at peak of model\n",
    "- 'z' redshift\n",
    "\n",
    "These may be set by the following syntax or by passing a dictionary. Note that guessing a reasonable 'x0' is difficult. \n",
    "Instead, one may set a peak absolute magnitude in a particular rest frame band in a magnitude system and a cosmology"
   ]
  },
  {
   "cell_type": "code",
   "execution_count": 43,
   "metadata": {
    "collapsed": false
   },
   "outputs": [],
   "source": [
    "SN.set(z=0.5, x1=0., c =0.)\n",
    "SN.set_source_peakabsmag(absmag=-19.5, band='bessellb', magsys='AB')"
   ]
  },
  {
   "cell_type": "markdown",
   "metadata": {},
   "source": [
    "The state of the object can be summarized through the `self.summarize()` function that returns a string. "
   ]
  },
  {
   "cell_type": "code",
   "execution_count": 44,
   "metadata": {
    "collapsed": false
   },
   "outputs": [
    {
     "name": "stdout",
     "output_type": "stream",
     "text": [
      "  SNObject Summary      \n",
      "Model = \n",
      "z = 0.5\n",
      "c = 0.0\n",
      "x1 = 0.0\n",
      "x0 = 1.21051938801e-05\n",
      "t0 = 0.0\n",
      "ra = 0.523598775598 in radians \n",
      "dec = 1.0471975512 in radians \n",
      "MW E(B-V) = 0.977767825127\n",
      "\n"
     ]
    }
   ],
   "source": [
    "print SN.summary()"
   ]
  },
  {
   "cell_type": "code",
   "execution_count": 45,
   "metadata": {
    "collapsed": false
   },
   "outputs": [],
   "source": [
    "from lsst.sims.photUtils import Bandpass\n",
    "#from lsst.sims.photUtils.Photometry import PhotometryBase"
   ]
  },
  {
   "cell_type": "code",
   "execution_count": 46,
   "metadata": {
    "collapsed": false
   },
   "outputs": [
    {
     "data": {
      "text/plain": [
       "<matplotlib.text.Text at 0x122d0ca90>"
      ]
     },
     "execution_count": 46,
     "metadata": {},
     "output_type": "execute_result"
    },
    {
     "data": {
      "image/png": "[encoded data removed]",
      "text/plain": [
       "<matplotlib.figure.Figure at 0x1227bc0d0>"
      ]
     },
     "metadata": {},
     "output_type": "display_data"
    }
   ],
   "source": [
    "fig, ax = plt.subplots()\n",
    "sed = SN.SNObjectSED(time=0., wavelen=np.arange(300., 800., 1.))\n",
    "sed2 = SN.SNObjectSED(time=10., wavelen=np.arange(300., 800., 10.))\n",
    "ax.plot(sed.wavelen, sed.flambda, 'k-', label='t=0.')\n",
    "ax.plot(sed2.wavelen, sed2.flambda, 'r-', label='t=10.')\n",
    "ax.legend(loc='best')\n",
    "ax.set_xlabel(r'$\\lambda (nm)$')\n",
    "ax.set_ylabel(r'flambda (ergs/cm^2/s/nm)')"
   ]
  },
  {
   "cell_type": "markdown",
   "metadata": {},
   "source": [
    "Now to get fluxes and magnitudes, we need the bandpasses"
   ]
  },
  {
   "cell_type": "code",
   "execution_count": 47,
   "metadata": {
    "collapsed": false
   },
   "outputs": [],
   "source": [
    "from lsst.sims.photUtils import BandpassDict "
   ]
  },
  {
   "cell_type": "code",
   "execution_count": 48,
   "metadata": {
    "collapsed": false
   },
   "outputs": [],
   "source": [
    "lsstBandPassDict = BandpassDict.loadTotalBandpassesFromFiles()"
   ]
  },
  {
   "cell_type": "code",
   "execution_count": 52,
   "metadata": {
    "collapsed": true
   },
   "outputs": [],
   "source": [
    "from lsst.sims.catUtils.mixins import PhotometryBase"
   ]
  },
  {
   "cell_type": "code",
   "execution_count": 53,
   "metadata": {
    "collapsed": false
   },
   "outputs": [],
   "source": [
    "pbase = PhotometryBase()"
   ]
  },
  {
   "cell_type": "code",
   "execution_count": 58,
   "metadata": {
    "collapsed": false
   },
   "outputs": [
    {
     "data": {
      "text/plain": [
       "NoneType"
      ]
     },
     "execution_count": 58,
     "metadata": {},
     "output_type": "execute_result"
    }
   ],
   "source": []
  },
  {
   "cell_type": "code",
   "execution_count": 122,
   "metadata": {
    "collapsed": false
   },
   "outputs": [],
   "source": [
    "f = []\n",
    "m = []\n",
    "times = np.arange(-20., 50., 1.)\n",
    "for time in times:\n",
    "    f.append([time] + SN.catsimManyBandFluxes(time=time, bandpassDict=lsstBandPassDict,\n",
    "                                           observedBandPassInd=None).tolist())\n",
    "    \n",
    "    m.append([time] + SN.catsimManyBandMags(time=time, bandpassDict=lsstBandPassDict,\n",
    "                                           observedBandPassInd=None).tolist())\n",
    "f = np.asarray(f)\n",
    "m = np.asarray(m)"
   ]
  },
  {
   "cell_type": "code",
   "execution_count": 123,
   "metadata": {
    "collapsed": false
   },
   "outputs": [
    {
     "data": {
      "text/plain": [
       "<matplotlib.text.Text at 0x11bdd5810>"
      ]
     },
     "execution_count": 123,
     "metadata": {},
     "output_type": "execute_result"
    },
    {
     "data": {
      "image/png": "[encoded data removed]",
      "text/plain": [
       "<matplotlib.figure.Figure at 0x11c148690>"
      ]
     },
     "metadata": {},
     "output_type": "display_data"
    }
   ],
   "source": [
    "fig, (ax0, ax1) = plt.subplots(2, 1)\n",
    "ax0.plot(f[:, 0], f[:, 3])\n",
    "ax1.plot(m[:, 0], m[:, 3])\n",
    "ax1.invert_yaxis()\n",
    "fig.suptitle('CATSIM Light Curve in Flux and Magnitude', **{'fontsize':20})"
   ]
  },
  {
   "cell_type": "code",
   "execution_count": 85,
   "metadata": {
    "collapsed": false
   },
   "outputs": [
    {
     "data": {
      "text/plain": [
       "<matplotlib.text.Text at 0x11b12a6d0>"
      ]
     },
     "execution_count": 85,
     "metadata": {},
     "output_type": "execute_result"
    },
    {
     "data": {
      "image/png": "[encoded data removed]",
      "text/plain": [
       "<matplotlib.figure.Figure at 0x11b2cfc50>"
      ]
     },
     "metadata": {},
     "output_type": "display_data"
    }
   ],
   "source": [
    "fig, ax = plt.subplots()\n",
    "sed = SN.SNObjectSED(time=0., bandpass=lsstBandPassDict['r'])\n",
    "sed2 = SN.SNObjectSED(time=10., wavelen=np.arange(300., 800., 10.))\n",
    "ax.plot(sed.wavelen, sed.flambda, 'k-', label='t=0.')\n",
    "ax.plot(sed2.wavelen, sed2.flambda, 'r-', label='t=10.')\n",
    "ax.legend(loc='best')\n",
    "ax.set_xlabel(r'$\\lambda (nm)$')\n",
    "ax.set_ylabel(r'flambda (ergs/cm^2/s/nm)')\n",
    "ax.set_title('Time Evolution of SN sed', fontdict={'size':20})"
   ]
  },
  {
   "cell_type": "code",
   "execution_count": 78,
   "metadata": {
    "collapsed": false
   },
   "outputs": [
    {
     "ename": "AttributeError",
     "evalue": "'PhotometryBase' object has no attribute 'phiArray'",
     "output_type": "error",
     "traceback": [
      "\u001b[0;31m---------------------------------------------------------------------------\u001b[0m",
      "\u001b[0;31mAttributeError\u001b[0m                            Traceback (most recent call last)",
      "\u001b[0;32m<ipython-input-78-ddc1217a3ccc>\u001b[0m in \u001b[0;36m<module>\u001b[0;34m()\u001b[0m\n\u001b[1;32m      1\u001b[0m \u001b[0msed\u001b[0m\u001b[0;34m.\u001b[0m\u001b[0mflambdaTofnu\u001b[0m\u001b[0;34m(\u001b[0m\u001b[0;34m)\u001b[0m\u001b[0;34m\u001b[0m\u001b[0m\n\u001b[0;32m----> 2\u001b[0;31m \u001b[0msed\u001b[0m\u001b[0;34m.\u001b[0m\u001b[0mmanyFluxCalc\u001b[0m\u001b[0;34m(\u001b[0m\u001b[0mphiarray\u001b[0m\u001b[0;34m=\u001b[0m\u001b[0mpbase\u001b[0m\u001b[0;34m.\u001b[0m\u001b[0mphiArray\u001b[0m\u001b[0;34m,\u001b[0m \u001b[0mwavelen_step\u001b[0m\u001b[0;34m=\u001b[0m\u001b[0mpbase\u001b[0m\u001b[0;34m.\u001b[0m\u001b[0mwaveLenStep\u001b[0m\u001b[0;34m,\u001b[0m \u001b[0mobservedBandPassInd\u001b[0m\u001b[0;34m=\u001b[0m\u001b[0mNone\u001b[0m\u001b[0;34m)\u001b[0m\u001b[0;34m\u001b[0m\u001b[0m\n\u001b[0m",
      "\u001b[0;31mAttributeError\u001b[0m: 'PhotometryBase' object has no attribute 'phiArray'"
     ]
    }
   ],
   "source": [
    "sed.flambdaTofnu()\n",
    "sed.manyFluxCalc(phiarray=pbase.phiArray, wavelen_step=pbase.waveLenStep, observedBandPassInd=None)"
   ]
  },
  {
   "cell_type": "code",
   "execution_count": 28,
   "metadata": {
    "collapsed": false
   },
   "outputs": [
    {
     "data": {
      "text/plain": [
       "0.10000000000002274"
      ]
     },
     "execution_count": 28,
     "metadata": {},
     "output_type": "execute_result"
    }
   ],
   "source": [
    "pbase.waveLenStep"
   ]
  },
  {
   "cell_type": "code",
   "execution_count": 128,
   "metadata": {
    "collapsed": false
   },
   "outputs": [
    {
     "data": {
      "text/plain": [
       "<matplotlib.legend.Legend at 0x11d19b750>"
      ]
     },
     "execution_count": 128,
     "metadata": {},
     "output_type": "execute_result"
    },
    {
     "data": {
      "image/png": "[encoded data removed]",
      "text/plain": [
       "<matplotlib.figure.Figure at 0x11c4fb310>"
      ]
     },
     "metadata": {},
     "output_type": "display_data"
    }
   ],
   "source": [
    "fig, (ax, ay) = plt.subplots(2, 1, sharex=True)\n",
    "ax.plot(m[:, 0], m[:, 1], label='u')\n",
    "ax.plot(m[:, 0], m[:, 2], label='g')\n",
    "ax.plot(m[:, 0], m[:, 3], label='r')\n",
    "ax.plot(m[:, 0], m[:, 4], label='i')\n",
    "ax.plot(m[:, 0], m[:, 5], label='z')\n",
    "ax.plot(m[:, 0], m[:, 6], label='y')\n",
    "ay.plot(m[:, 0], f[:, 1], label='u')\n",
    "ay.plot(m[:, 0], f[:, 2], label='g')\n",
    "ay.plot(m[:, 0], f[:, 3], label='r')\n",
    "ay.plot(m[:, 0], f[:, 4], label='i')\n",
    "ay.plot(m[:, 0], f[:, 5], label='z')\n",
    "ay.plot(m[:, 0], f[:, 6], label='y')\n",
    "ay.set_xlabel('time -peak')\n",
    "ax.invert_yaxis()\n",
    "ax.set_ylabel('Mag')\n",
    "ay.set_ylabel('Flux')\n",
    "ax.legend(loc='best')"
   ]
  },
  {
   "cell_type": "markdown",
   "metadata": {},
   "source": [
    "Why is the u band light curve funny ? This is a problem with the way the SN models are built. In the training algorithm for SNIa light curves, currently there is no mechanism to enforce positive semidefiniteness on the SN SED. In practice, this does not matter too much, because in the regions of phase space where we have data, the data makes the SED positive definite. It is only in regions where we don't have data (far away from the peak, or at wavelengths closer to the edge of the validity of the model where the observed SN are too dim). In part this is also protected by 'model uncertainties', but there are problems with those as well."
   ]
  },
  {
   "cell_type": "code",
   "execution_count": 31,
   "metadata": {
    "collapsed": false
   },
   "outputs": [
    {
     "name": "stdout",
     "output_type": "stream",
     "text": [
      "u band at given redshift has an effective wavelength of  2396.21691127  which is too close to the lower wavelength limit of the model\n"
     ]
    }
   ],
   "source": [
    "import sncosmo\n",
    "sdssu = sncosmo.get_bandpass('sdssu')\n",
    "print 'u band at given redshift has an effective wavelength of ', sdssu.wave_eff/(1 + SN.get('z')),\\\n",
    "' which is too close to the lower wavelength limit of the model'"
   ]
  },
  {
   "cell_type": "markdown",
   "metadata": {},
   "source": [
    "At these wavelengths, we get negative fluxes!"
   ]
  },
  {
   "cell_type": "code",
   "execution_count": 32,
   "metadata": {
    "collapsed": false
   },
   "outputs": [
    {
     "data": {
      "text/plain": [
       "-5.1467321855552853e-12"
      ]
     },
     "execution_count": 32,
     "metadata": {},
     "output_type": "execute_result"
    }
   ],
   "source": [
    "min(np.asarray(l)[:,1])"
   ]
  },
  {
   "cell_type": "markdown",
   "metadata": {},
   "source": [
    "## snUniverse.py: SNUniverse"
   ]
  },
  {
   "cell_type": "markdown",
   "metadata": {},
   "source": [
    "The basic idea of this module is to contain the distributions and rules of obtaining certain properties of SN. The sort of information that needs to be encoded are  \n",
    "- What should be the abundance of the types of objects created in SNObject be?\n",
    "- What should their parameter distributions be like ?"
   ]
  },
  {
   "cell_type": "markdown",
   "metadata": {},
   "source": [
    "## sncat.py: SNIaCatalog"
   ]
  },
  {
   "cell_type": "markdown",
   "metadata": {},
   "source": [
    "This inherits from the ` instanceCatalog ` class and uses the functionality in ` CosmologyWrapper ` and `SNUniverse`. This is an `InstanceCatalog` and so provides a catalog of SN observed at a particular exposure."
   ]
  },
  {
   "cell_type": "code",
   "execution_count": 129,
   "metadata": {
    "collapsed": false
   },
   "outputs": [],
   "source": [
    "from lsst.sims.catalogs.generation.db import ObservationMetaData\n",
    "from sniacatalogs import sncat"
   ]
  },
  {
   "cell_type": "code",
   "execution_count": 130,
   "metadata": {
    "collapsed": false
   },
   "outputs": [],
   "source": [
    "from lsst.sims.catalogs.generation.db import CatalogDBObject"
   ]
  },
  {
   "cell_type": "markdown",
   "metadata": {},
   "source": [
    "First, we create a catalog of all the galaxies in the catalog using the `CatalogDBObject.from_objid` "
   ]
  },
  {
   "cell_type": "code",
   "execution_count": 131,
   "metadata": {
    "collapsed": false
   },
   "outputs": [
    {
     "ename": "RuntimeError",
     "evalue": "Attempting to construct an object that does not exist",
     "output_type": "error",
     "traceback": [
      "\u001b[0;31m---------------------------------------------------------------------------\u001b[0m",
      "\u001b[0;31mRuntimeError\u001b[0m                              Traceback (most recent call last)",
      "\u001b[0;32m<ipython-input-131-6567c776706e>\u001b[0m in \u001b[0;36m<module>\u001b[0;34m()\u001b[0m\n\u001b[0;32m----> 1\u001b[0;31m \u001b[0mgalDB\u001b[0m \u001b[0;34m=\u001b[0m \u001b[0mCatalogDBObject\u001b[0m\u001b[0;34m.\u001b[0m\u001b[0mfrom_objid\u001b[0m\u001b[0;34m(\u001b[0m\u001b[0;34m'galaxyTiled'\u001b[0m\u001b[0;34m)\u001b[0m\u001b[0;34m\u001b[0m\u001b[0m\n\u001b[0m",
      "\u001b[0;32m/Users/rbiswas/src/LSST/sims_catalogs_generation/python/lsst/sims/catalogs/generation/db/dbConnection.pyc\u001b[0m in \u001b[0;36mfrom_objid\u001b[0;34m(cls, objid, *args, **kwargs)\u001b[0m\n\u001b[1;32m    389\u001b[0m         \"\"\"\n\u001b[1;32m    390\u001b[0m         \u001b[0;32mif\u001b[0m \u001b[0mobjid\u001b[0m \u001b[0;32mnot\u001b[0m \u001b[0;32min\u001b[0m \u001b[0mcls\u001b[0m\u001b[0;34m.\u001b[0m\u001b[0mregistry\u001b[0m\u001b[0;34m:\u001b[0m\u001b[0;34m\u001b[0m\u001b[0m\n\u001b[0;32m--> 391\u001b[0;31m             \u001b[0;32mraise\u001b[0m \u001b[0mRuntimeError\u001b[0m\u001b[0;34m(\u001b[0m\u001b[0;34m'Attempting to construct an object that does not exist'\u001b[0m\u001b[0;34m)\u001b[0m\u001b[0;34m\u001b[0m\u001b[0m\n\u001b[0m\u001b[1;32m    392\u001b[0m         \u001b[0mcls\u001b[0m \u001b[0;34m=\u001b[0m \u001b[0mcls\u001b[0m\u001b[0;34m.\u001b[0m\u001b[0mregistry\u001b[0m\u001b[0;34m.\u001b[0m\u001b[0mget\u001b[0m\u001b[0;34m(\u001b[0m\u001b[0mobjid\u001b[0m\u001b[0;34m,\u001b[0m \u001b[0mCatalogDBObject\u001b[0m\u001b[0;34m)\u001b[0m\u001b[0;34m\u001b[0m\u001b[0m\n\u001b[1;32m    393\u001b[0m         \u001b[0;32mreturn\u001b[0m \u001b[0mcls\u001b[0m\u001b[0;34m(\u001b[0m\u001b[0;34m*\u001b[0m\u001b[0margs\u001b[0m\u001b[0;34m,\u001b[0m \u001b[0;34m**\u001b[0m\u001b[0mkwargs\u001b[0m\u001b[0;34m)\u001b[0m\u001b[0;34m\u001b[0m\u001b[0m\n",
      "\u001b[0;31mRuntimeError\u001b[0m: Attempting to construct an object that does not exist"
     ]
    }
   ],
   "source": [
    "galDB = CatalogDBObject.from_objid('galaxyTiled')"
   ]
  },
  {
   "cell_type": "markdown",
   "metadata": {},
   "source": [
    "The catsim framework does not allow us to record these galaxies to disk, but we could by creating an `InstanceCatalog` class. This requires "
   ]
  },
  {
   "cell_type": "code",
   "execution_count": 37,
   "metadata": {
    "collapsed": false
   },
   "outputs": [],
   "source": [
    "from lsst.sims.catalogs.measures.instance import InstanceCatalog\n",
    "class galCopy(InstanceCatalog):\n",
    "    column_outputs = ['id', 'raJ2000', 'decJ2000', 'redshift']\n",
    "    override_formats = {'raJ2000': '%8e', 'decJ2000': '%8e'}"
   ]
  },
  {
   "cell_type": "markdown",
   "metadata": {},
   "source": [
    "The next step takes a set of mjds and pointings made up here (ie. this should really come from Opsims, but to simplify this notebook, and build a light curve, we will assume that we decided to point at the same location everyday. And to first try out\n",
    "an instance catalog we can read easily, and understand, we will first do one day.\n",
    "\n",
    "\n",
    "So, let us instantiate an ObservationMetaData object, and write the catalog associated with it"
   ]
  },
  {
   "cell_type": "code",
   "execution_count": 38,
   "metadata": {
    "collapsed": false
   },
   "outputs": [],
   "source": [
    "mjds = [571203.15]\n",
    "for i, myMJD in enumerate(mjds):\n",
    "    myObsMD = ObservationMetaData(boundType='circle',\n",
    "                                  boundLength=0.015,\n",
    "                                  unrefractedRA=5.0,\n",
    "                                  unrefractedDec=15.0,\n",
    "                                  site='LSST',\n",
    "                                  bandpassName=['u', 'g', 'r', 'i', 'z', 'y'],\n",
    "                                  mjd=myMJD)\n",
    "    catalog = sncat.SNIaCatalog(db_obj=galDB, obs_metadata=myObsMD)"
   ]
  },
  {
   "cell_type": "code",
   "execution_count": 39,
   "metadata": {
    "collapsed": false
   },
   "outputs": [],
   "source": [
    "gals = galCopy(db_obj=galDB, obs_metadata=myObsMD)\n",
    "gals.write_catalog('gals.dat')"
   ]
  },
  {
   "cell_type": "markdown",
   "metadata": {},
   "source": [
    "The SNIaCatalog object has an attribute called `suppressDimSN`. If set to true, it does not add any SN that have peak dates outside a (can be changed) `maxTimeSNVisible` day window surrounding the date of observation. "
   ]
  },
  {
   "cell_type": "code",
   "execution_count": 40,
   "metadata": {
    "collapsed": false
   },
   "outputs": [
    {
     "data": {
      "text/plain": [
       "True"
      ]
     },
     "execution_count": 40,
     "metadata": {},
     "output_type": "execute_result"
    }
   ],
   "source": [
    "catalog.suppressDimSN"
   ]
  },
  {
   "cell_type": "code",
   "execution_count": 41,
   "metadata": {
    "collapsed": false
   },
   "outputs": [
    {
     "data": {
      "text/plain": [
       "100.0"
      ]
     },
     "execution_count": 41,
     "metadata": {},
     "output_type": "execute_result"
    }
   ],
   "source": [
    "catalog.maxTimeSNVisible"
   ]
  },
  {
   "cell_type": "code",
   "execution_count": 42,
   "metadata": {
    "collapsed": false
   },
   "outputs": [
    {
     "name": "stdout",
     "output_type": "stream",
     "text": [
      "False\n"
     ]
    }
   ],
   "source": [
    "catalog.suppressDimSN = False\n",
    "# Check\n",
    "print catalog.suppressDimSN"
   ]
  },
  {
   "cell_type": "markdown",
   "metadata": {},
   "source": [
    "Similarly, we have the boolean variable `suppressHighzSN` which when set to `True`, prevents the addition of SN with redshifts higher than `maxz` to the catalog."
   ]
  },
  {
   "cell_type": "code",
   "execution_count": 43,
   "metadata": {
    "collapsed": false
   },
   "outputs": [
    {
     "name": "stdout",
     "output_type": "stream",
     "text": [
      "True\n"
     ]
    }
   ],
   "source": [
    "print catalog.suppressHighzSN"
   ]
  },
  {
   "cell_type": "code",
   "execution_count": 44,
   "metadata": {
    "collapsed": false
   },
   "outputs": [
    {
     "name": "stdout",
     "output_type": "stream",
     "text": [
      "1.2\n"
     ]
    }
   ],
   "source": [
    "print catalog.maxz"
   ]
  },
  {
   "cell_type": "markdown",
   "metadata": {},
   "source": [
    "Now, with the current configuration, the catalog that we write should have as many SN as galaxiex for redshifts below the maximal redshift for SN"
   ]
  },
  {
   "cell_type": "code",
   "execution_count": 45,
   "metadata": {
    "collapsed": false
   },
   "outputs": [],
   "source": [
    "catalog.write_catalog('catalog_day.txt', write_metadata=True, meta_key='#@')"
   ]
  },
  {
   "cell_type": "code",
   "execution_count": 46,
   "metadata": {
    "collapsed": false
   },
   "outputs": [],
   "source": [
    "import numpy as np"
   ]
  },
  {
   "cell_type": "code",
   "execution_count": 47,
   "metadata": {
    "collapsed": false
   },
   "outputs": [],
   "source": [
    "galcat = np.loadtxt('gals.dat', delimiter=',')\n",
    "sn = np.loadtxt('catalog_day.txt', delimiter=',')"
   ]
  },
  {
   "cell_type": "code",
   "execution_count": 48,
   "metadata": {
    "collapsed": false
   },
   "outputs": [
    {
     "data": {
      "image/png": "[encoded data removed]",
      "text/plain": [
       "<matplotlib.figure.Figure at 0x12296ccd0>"
      ]
     },
     "metadata": {},
     "output_type": "display_data"
    }
   ],
   "source": [
    "%matplotlib inline\n",
    "import matplotlib.pyplot as plt\n",
    "fig, ax = plt.subplots(2, figsize=(6, 8), sharex=True)\n",
    "countssn, bins, patches = ax[0].hist(sn[:, 3], histtype='step', label='SN', lw=2., color='k')\n",
    "countsgals, bins, patches = ax[0].hist(galcat[:, 3], bins=bins, histtype='step', linestyle='dashed', lw=2.0, color='r', label='gals')\n",
    "ax[0].set_ylabel('number of objects')\n",
    "ax[0].legend(loc='upper left')\n",
    "ax[1].plot((bins[:-1] + bins[1:])/2.0, countsgals - countssn, 'o')\n",
    "ax[1].set_xlabel('z')\n",
    "ax[1].set_ylabel('num (SN - gals)')\n",
    "\n",
    "plt.tight_layout()\n",
    "fig.set_label('Comparison of galaxy catalog with SN catalog')"
   ]
  },
  {
   "cell_type": "markdown",
   "metadata": {},
   "source": [
    "This shows that the behavior of the SN catalog is as expected: we get a SN for each galaxy in the region, so long as its redshift is below `catalog.maxz`"
   ]
  },
  {
   "cell_type": "code",
   "execution_count": 49,
   "metadata": {
    "collapsed": false
   },
   "outputs": [],
   "source": [
    "catalog.suppressDimSN = True"
   ]
  },
  {
   "cell_type": "code",
   "execution_count": 50,
   "metadata": {
    "collapsed": false
   },
   "outputs": [],
   "source": [
    "catalog.write_catalog('SN_TimeWindow.txt')"
   ]
  },
  {
   "cell_type": "code",
   "execution_count": 51,
   "metadata": {
    "collapsed": false
   },
   "outputs": [
    {
     "name": "stdout",
     "output_type": "stream",
     "text": [
      "#snid, snra, sndec, z, t0, c, x1, x0, flux_u, flux_g, flux_r, flux_i, flux_z, flux_y, mag_u, mag_g, mag_r, mag_i, mag_z, mag_y\r\n",
      "1426829, 8.723553e-02, 2.618648e-01, 0.9604, 571181.4041, 1.178580e-01, 0.8889, 1.828948e-06, 6.921282e-11, -2.291597e-09, 5.895654e-08, 3.046362e-07, 4.852002e-07, 4.813532e-07, 34.2996, nan, 26.9737, 25.1906, 24.6853, 24.6939\r\n"
     ]
    }
   ],
   "source": [
    "!head SN_TimeWindow.txt"
   ]
  },
  {
   "cell_type": "markdown",
   "metadata": {},
   "source": [
    "This shows that once we turn on the `suppressDimSN` boolean, we filter out an overwhelming number of SN compared to the number of galaxies. This is expected, and this shows that it works."
   ]
  },
  {
   "cell_type": "markdown",
   "metadata": {},
   "source": [
    "## Building Light Curves from Instance Catalogs"
   ]
  },
  {
   "cell_type": "markdown",
   "metadata": {},
   "source": [
    "We would like to create a number of supernova instance catalogs and then build the light curves from the catalogs. To do this correctly, we would like to use the `observation_metadata` associated with a number of conscutive OpSIM pointings. Right now, though, it will be nice to demonstrate that we are getting light curves from a number of instance catalogs, without caring about a particular strategy. Hence, we will create a 20 epoch list of `observation_metadata` , where we 'observe' in all bands, and quickly by doing a small field of view (0.015 degree). "
   ]
  },
  {
   "cell_type": "code",
   "execution_count": 52,
   "metadata": {
    "collapsed": false
   },
   "outputs": [],
   "source": [
    "\n",
    "import lightcurve_utils as lu"
   ]
  },
  {
   "cell_type": "code",
   "execution_count": 53,
   "metadata": {
    "collapsed": false
   },
   "outputs": [],
   "source": [
    "#This creates a list of obsMetaData with a starting point, a cadence and a total number of epochs\n",
    "def obsMetaDataList(startdate=570180, cadence=3.0, numepochs=20):\n",
    "    \"\"\"\n",
    "    create a list of obsMetaData variables for a list of pointings.\n",
    "\n",
    "\n",
    "    Parameters\n",
    "    ----------\n",
    "    startdate: float, optional, defaults to 570180\n",
    "        starting date of sequence\n",
    "    cadence: float, optional, defaults to 3.0\n",
    "        interval between epochs of observations\n",
    "    numepochs: int, optional, defaults to 20\n",
    "        number of epochs of observations\n",
    "\n",
    "\n",
    "    Returns\n",
    "    -------\n",
    "    list of `~lsst.sims.catalogs.generation.db.ObservationMetaData` variables\n",
    "\n",
    "\n",
    "    .. note: This will finally come from OpSims output, this is just a mock up.\n",
    "    \"\"\"\n",
    "\n",
    "    # List of MJDs with a three day cadence with 20 epochs\n",
    "    myMJDS = [startdate + cadence*i for i in range(numepochs)]\n",
    "    filters = ['u', 'g', 'r', 'i', 'z', 'y']\n",
    "    unrefRA = 5.0\n",
    "    unrefDec = 15.0\n",
    "    boundLen = 0.015\n",
    "    boundType = 'circle'\n",
    "\n",
    "    obsMetaDataList = []\n",
    "    for mjd in myMJDS:\n",
    "        obsMetaDataList.append(ObservationMetaData(boundType=boundType,\n",
    "                               unrefractedRA=unrefRA,\n",
    "                               unrefractedDec=unrefDec,\n",
    "                               boundLength=boundLen,\n",
    "                               bandpassName=filters,\n",
    "                               mjd=mjd))\n",
    "    return obsMetaDataList"
   ]
  },
  {
   "cell_type": "code",
   "execution_count": 54,
   "metadata": {
    "collapsed": false
   },
   "outputs": [],
   "source": [
    "obsMDList = obsMetaDataList()"
   ]
  },
  {
   "cell_type": "code",
   "execution_count": 55,
   "metadata": {
    "collapsed": false
   },
   "outputs": [
    {
     "data": {
      "text/plain": [
       "{'bandpass': ['u', 'g', 'r', 'i', 'z', 'y'],\n",
       " 'boundLength': 0.00026179938779914941,\n",
       " 'boundType': 'circle',\n",
       " 'mjd': 570180.0,\n",
       " 'phoSimMetadata': None,\n",
       " 'rotSkyPos': 0.0,\n",
       " 'skyBrightness': None,\n",
       " 'unrefractedDec': 0.26179938779914941,\n",
       " 'unrefractedRA': 0.087266462599716474}"
      ]
     },
     "execution_count": 55,
     "metadata": {},
     "output_type": "execute_result"
    }
   ],
   "source": [
    "obsMDList[0].summary"
   ]
  },
  {
   "cell_type": "code",
   "execution_count": 56,
   "metadata": {
    "collapsed": false
   },
   "outputs": [
    {
     "data": {
      "text/plain": [
       "{'bandpass': ['u', 'g', 'r', 'i', 'z', 'y'],\n",
       " 'boundLength': 0.00026179938779914941,\n",
       " 'boundType': 'circle',\n",
       " 'mjd': 570183.0,\n",
       " 'phoSimMetadata': None,\n",
       " 'rotSkyPos': 0.0,\n",
       " 'skyBrightness': None,\n",
       " 'unrefractedDec': 0.26179938779914941,\n",
       " 'unrefractedRA': 0.087266462599716474}"
      ]
     },
     "execution_count": 56,
     "metadata": {},
     "output_type": "execute_result"
    }
   ],
   "source": [
    "obsMDList[1].summary"
   ]
  },
  {
   "cell_type": "markdown",
   "metadata": {},
   "source": [
    "We now want to write the light curves to a database. The way this function actually works is it creates the instance catalogs \n",
    "for each of the obs_metadata points, writes them to disk using the `InstanceCatalog.write_catalog` method, reads the files from disk (right now the filenames are chosen in the same order as obs_metadata objects), and writes them to a sqlite database."
   ]
  },
  {
   "cell_type": "code",
   "execution_count": null,
   "metadata": {
    "collapsed": false
   },
   "outputs": [],
   "source": [
    "if not os.path.exists('data/LightCurves'): \n",
    "    os.makedirs('data/LightCurves')"
   ]
  },
  {
   "cell_type": "code",
   "execution_count": null,
   "metadata": {
    "collapsed": false
   },
   "outputs": [
    {
     "name": "stdout",
     "output_type": "stream",
     "text": [
      "deleting previous database\n",
      "=====================================\n",
      "0 <type 'list'> 570180.0\n",
      "=====================================\n",
      "=====================================\n",
      "1 <type 'list'> 570183.0\n",
      "=====================================\n",
      "====================================="
     ]
    }
   ],
   "source": [
    "lu.writeCatalogtoDB(dbfile='data/sncat_new.db', dbtable='mysncat', ascii_root='data/SNIa_new_', galdb=galDB, obsMetaDataList=obsMDList)\n",
    "    "
   ]
  },
  {
   "cell_type": "markdown",
   "metadata": {},
   "source": [
    "The following function then queries the database, and groups the data by a SNID number to build the light curves."
   ]
  },
  {
   "cell_type": "code",
   "execution_count": null,
   "metadata": {
    "collapsed": false
   },
   "outputs": [],
   "source": [
    "lcs = lu.getLCsFromDB(dbfile='data/sncat_new.db',\n",
    "                 dbtable='mysncat',\n",
    "                 lc_root='data/LightCurves/SN_new_')"
   ]
  },
  {
   "cell_type": "markdown",
   "metadata": {},
   "source": [
    "We can check how many light curves are there, and we can display each light curve in the following way"
   ]
  },
  {
   "cell_type": "code",
   "execution_count": null,
   "metadata": {
    "collapsed": false
   },
   "outputs": [],
   "source": [
    "len(lcs)"
   ]
  },
  {
   "cell_type": "code",
   "execution_count": null,
   "metadata": {
    "collapsed": false
   },
   "outputs": [],
   "source": [
    "lcs[1][1]"
   ]
  },
  {
   "cell_type": "markdown",
   "metadata": {},
   "source": [
    "In this case, we have light curves associated with two different objects, and we can now plot them."
   ]
  },
  {
   "cell_type": "code",
   "execution_count": null,
   "metadata": {
    "collapsed": false
   },
   "outputs": [],
   "source": [
    "fig, ax = plt.subplots(figsize=(24,8))\n",
    "lu.plotlc(lcs[0])\n",
    "lu.plotlc(lcs[1], marker='s')\n",
    "ax.invert_yaxis()"
   ]
  },
  {
   "cell_type": "markdown",
   "metadata": {},
   "source": [
    "The circles and squares are two different SN which were in lcs. The colors represent the different bands."
   ]
  }
 ],
 "metadata": {
  "kernelspec": {
   "display_name": "Python 2",
   "language": "python",
   "name": "python2"
  },
  "language_info": {
   "codemirror_mode": {
    "name": "ipython",
    "version": 2
   },
   "file_extension": ".py",
   "mimetype": "text/x-python",
   "name": "python",
   "nbconvert_exporter": "python",
   "pygments_lexer": "ipython2",
   "version": "2.7.10"
  }
 },
 "nbformat": 4,
 "nbformat_minor": 0
}
