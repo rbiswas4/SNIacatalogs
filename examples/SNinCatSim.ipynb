{
 "metadata": {
  "name": "",
  "signature": "sha256:62eb66ed7e3f83f42a3d3421bc807b0527061d855d52e72359d0a43ba738f68a"
 },
 "nbformat": 3,
 "nbformat_minor": 0,
 "worksheets": [
  {
   "cells": [
    {
     "cell_type": "heading",
     "level": 1,
     "metadata": {},
     "source": [
      "Supernovae Ia in catSim"
     ]
    },
    {
     "cell_type": "markdown",
     "metadata": {},
     "source": [
      "There are three files in catSim that currently provide the SN functionality. This functionality is based on classes provided by \n",
      "the python package SNCosmo, through the sncosmo.Model class which is built on top of a sncosmo.source class which describes a transient source in its rest frame in terms of a time series of spectra. The three files added into catSim are:\n",
      "\n",
      "1. snObject.py: Contains the class SNObject which inherits from the sncsomo.Model class with some decisions appropriate for our use\n",
      "2. snUniverse.py: Contains definitions of the rates and distribution of types of snObject \n",
      "3. sncat.py : How to interact with catSim, get the information there and write things out."
     ]
    },
    {
     "cell_type": "code",
     "collapsed": false,
     "input": [
      "import sniacatalogs as snia"
     ],
     "language": "python",
     "metadata": {},
     "outputs": [],
     "prompt_number": 11
    },
    {
     "cell_type": "code",
     "collapsed": false,
     "input": [
      "import numpy as np\n",
      "%matplotlib inline\n",
      "import matplotlib.pyplot as plt\n",
      "import seaborn as sns\n",
      "sns.set()"
     ],
     "language": "python",
     "metadata": {},
     "outputs": [],
     "prompt_number": 12
    },
    {
     "cell_type": "heading",
     "level": 2,
     "metadata": {},
     "source": [
      "snObject : SNObject"
     ]
    },
    {
     "cell_type": "markdown",
     "metadata": {},
     "source": [
      "The basic idea of this module is to contain classes that represent SN. Right now, we only have one such object representing a \n",
      "SNIa based on the SALT model, but later we could expand this to accomodate other objects.\n",
      "\n",
      "<b>Main thing SNObject is supposed to provide </b> SNObject provides the SED from the SN, extincted through MW dust, as well as convenient methods to obtain band fluxes and magnitudes calling sims.photUtils methods.\n",
      "\n",
      "To instantiate an SNObject, we have a few alternativaes with different use cases in mind"
     ]
    },
    {
     "cell_type": "code",
     "collapsed": false,
     "input": [
      "# Give it an ra, dec\n",
      "# sims.photUtils uses O'Donnell 94 to calculate extinction, and does not use any other fits. So, the fit function is not \n",
      "# a parameter at present\n",
      "# Following catsim conventions the entries are in degrees\n",
      "SNObjectfull  = snia.snObject.SNObject(ra=30., dec=60.)"
     ],
     "language": "python",
     "metadata": {},
     "outputs": [],
     "prompt_number": 13
    },
    {
     "cell_type": "code",
     "collapsed": false,
     "input": [
      "SNObjectfull.setCoords(ra=30., dec=60.)"
     ],
     "language": "python",
     "metadata": {},
     "outputs": [],
     "prompt_number": 14
    },
    {
     "cell_type": "code",
     "collapsed": false,
     "input": [
      "# The coordinates are stored in radians, but these are not 'public' variables\n",
      "print 'ra, dec: ',  SNObjectfull._ra , SNObjectfull._dec"
     ],
     "language": "python",
     "metadata": {},
     "outputs": [
      {
       "output_type": "stream",
       "stream": "stdout",
       "text": [
        "ra, dec:  0.523598775598 1.0471975512\n"
       ]
      }
     ],
     "prompt_number": 15
    },
    {
     "cell_type": "code",
     "collapsed": false,
     "input": [
      "# Publicly accessed variables having ra and dec in an array, in the form required by catsim\n",
      "\n",
      "SNObjectfull.skycoord"
     ],
     "language": "python",
     "metadata": {},
     "outputs": [
      {
       "metadata": {},
       "output_type": "pyout",
       "prompt_number": 16,
       "text": [
        "array([[ 0.52359878],\n",
        "       [ 1.04719755]])"
       ]
      }
     ],
     "prompt_number": 16
    },
    {
     "cell_type": "code",
     "collapsed": false,
     "input": [
      "# The color excess has been calculated\n",
      "print 'E(B-V) = ', SNObjectfull.ebvofMW"
     ],
     "language": "python",
     "metadata": {},
     "outputs": [
      {
       "output_type": "stream",
       "stream": "stdout",
       "text": [
        "E(B-V) =  0.977767825127\n"
       ]
      }
     ],
     "prompt_number": 17
    },
    {
     "cell_type": "markdown",
     "metadata": {},
     "source": [
      "Obtaining the Sed Object is the crux of this module."
     ]
    },
    {
     "cell_type": "code",
     "collapsed": false,
     "input": [
      "sed = SNObjectfull.SNObjectSED(time=0., wavelen=np.arange(300., 700.,10.))\n",
      "print sed.wavelen\n",
      "print sed.flambda"
     ],
     "language": "python",
     "metadata": {},
     "outputs": [
      {
       "output_type": "stream",
       "stream": "stdout",
       "text": [
        "[ 300.  310.  320.  330.  340.  350.  360.  370.  380.  390.  400.  410.\n",
        "  420.  430.  440.  450.  460.  470.  480.  490.  500.  510.  520.  530.\n",
        "  540.  550.  560.  570.  580.  590.  600.  610.  620.  630.  640.  650.\n",
        "  660.  670.  680.  690.]\n",
        "[  9.03091117e-15   1.33796344e-14   1.53838655e-14   1.68316500e-14\n",
        "   2.45698825e-14   3.88739192e-14   5.48196813e-14   3.52104127e-14\n",
        "   3.70689597e-14   8.71962689e-14   8.43299467e-14   1.03487911e-13\n",
        "   8.92399147e-14   6.12776098e-14   8.21115727e-14   1.07916032e-13\n",
        "   1.09207281e-13   8.82019759e-14   8.41670020e-14   8.12725843e-14\n",
        "   8.87362652e-14   1.25898919e-13   1.30130187e-13   9.71921085e-14\n",
        "   1.10113912e-13   1.18833675e-13   1.51116090e-13   1.49048492e-13\n",
        "   1.45713590e-13   1.59780169e-13   1.48076355e-13   7.24648555e-14\n",
        "   1.13911620e-13   1.59077378e-13   1.56878599e-13   1.39914059e-13\n",
        "   1.30341282e-13   1.17762470e-13   1.11228018e-13   1.02795000e-13]\n"
       ]
      }
     ],
     "prompt_number": 18
    },
    {
     "cell_type": "heading",
     "level": 3,
     "metadata": {},
     "source": [
      "Another way to Instantiate the SNObject"
     ]
    },
    {
     "cell_type": "code",
     "collapsed": false,
     "input": [
      "SN = snia.snObject.SNObject()\n",
      "print 'ra, dec: ',  SN._ra , SN._dec\n",
      "# The color excess has been calculated\n",
      "print 'E(B-V) = ', SN.ebvofMW"
     ],
     "language": "python",
     "metadata": {},
     "outputs": [
      {
       "output_type": "stream",
       "stream": "stdout",
       "text": [
        "ra, dec:  None None\n",
        "E(B-V) =  None\n"
       ]
      }
     ],
     "prompt_number": 19
    },
    {
     "cell_type": "markdown",
     "metadata": {},
     "source": [
      "But a `None` type color excess precludes any calculations that may require it. You will not be able to request the SED, the magnitudes or fluxes calculated in any filter bands. Calling such a function will tell you what the problem is and suggest how you may fix it. (<b>So the following line is supposed to fail</b>)"
     ]
    },
    {
     "cell_type": "code",
     "collapsed": false,
     "input": [
      "print SN.SNObjectSED(time=0., wavelen=np.arange(300., 800., 10.))"
     ],
     "language": "python",
     "metadata": {},
     "outputs": [
      {
       "ename": "ValueError",
       "evalue": "ebvofMW attribute cannot be None Type and must be set using either ra, dec or by                              hand using set_MWebv before this stage \n",
       "output_type": "pyerr",
       "traceback": [
        "\u001b[0;31m---------------------------------------------------------------------------\u001b[0m\n\u001b[0;31mValueError\u001b[0m                                Traceback (most recent call last)",
        "\u001b[0;32m<ipython-input-20-bb2412a9cb0c>\u001b[0m in \u001b[0;36m<module>\u001b[0;34m()\u001b[0m\n\u001b[0;32m----> 1\u001b[0;31m \u001b[0;32mprint\u001b[0m \u001b[0mSN\u001b[0m\u001b[0;34m.\u001b[0m\u001b[0mSNObjectSED\u001b[0m\u001b[0;34m(\u001b[0m\u001b[0mtime\u001b[0m\u001b[0;34m=\u001b[0m\u001b[0;36m0.\u001b[0m\u001b[0;34m,\u001b[0m \u001b[0mwavelen\u001b[0m\u001b[0;34m=\u001b[0m\u001b[0mnp\u001b[0m\u001b[0;34m.\u001b[0m\u001b[0marange\u001b[0m\u001b[0;34m(\u001b[0m\u001b[0;36m300.\u001b[0m\u001b[0;34m,\u001b[0m \u001b[0;36m800.\u001b[0m\u001b[0;34m,\u001b[0m \u001b[0;36m10.\u001b[0m\u001b[0;34m)\u001b[0m\u001b[0;34m)\u001b[0m\u001b[0;34m\u001b[0m\u001b[0m\n\u001b[0m",
        "\u001b[0;32m/Users/rbiswas/.local/lib/python2.7/site-packages/SNIaCatalogs-0.1.dev0-py2.7.egg/sniacatalogs/snObject.pyc\u001b[0m in \u001b[0;36mSNObjectSED\u001b[0;34m(self, time, wavelen, bandpassobject, applyExitinction)\u001b[0m\n\u001b[1;32m    328\u001b[0m             \u001b[0;31m# if self.ebvofMW is None:\u001b[0m\u001b[0;34m\u001b[0m\u001b[0;34m\u001b[0m\u001b[0m\n\u001b[1;32m    329\u001b[0m             raise ValueError('ebvofMW attribute cannot be None Type and must be set using either ra, dec or by\\\n\u001b[0;32m--> 330\u001b[0;31m                               hand using set_MWebv before this stage \\n')\n\u001b[0m\u001b[1;32m    331\u001b[0m \u001b[0;34m\u001b[0m\u001b[0m\n\u001b[1;32m    332\u001b[0m         \u001b[0mSEDfromSNcosmo\u001b[0m\u001b[0;34m.\u001b[0m\u001b[0maddCCMDust\u001b[0m\u001b[0;34m(\u001b[0m\u001b[0ma_x\u001b[0m\u001b[0;34m=\u001b[0m\u001b[0max\u001b[0m\u001b[0;34m,\u001b[0m \u001b[0mb_x\u001b[0m\u001b[0;34m=\u001b[0m\u001b[0mbx\u001b[0m\u001b[0;34m,\u001b[0m \u001b[0mebv\u001b[0m\u001b[0;34m=\u001b[0m\u001b[0mself\u001b[0m\u001b[0;34m.\u001b[0m\u001b[0mebvofMW\u001b[0m\u001b[0;34m)\u001b[0m\u001b[0;34m\u001b[0m\u001b[0m\n",
        "\u001b[0;31mValueError\u001b[0m: ebvofMW attribute cannot be None Type and must be set using either ra, dec or by                              hand using set_MWebv before this stage \n"
       ]
      }
     ],
     "prompt_number": 20
    },
    {
     "cell_type": "markdown",
     "metadata": {},
     "source": [
      "One reason this is around, is that sometimes I want to get rid of differences that may arise from extinction, and set these things by hand. For example, I may wish to check something without any extinction! Anyway, following the hint above, the user\n",
      "should check out the function set_MWebv:"
     ]
    },
    {
     "cell_type": "code",
     "collapsed": false,
     "input": [
      "help(SN.set_MWebv)"
     ],
     "language": "python",
     "metadata": {},
     "outputs": []
    },
    {
     "cell_type": "code",
     "collapsed": false,
     "input": [
      "SN.set_MWebv(0.)\n",
      "# in this case, you could have changed this by setting SN.ebvofMW = 0., \n",
      "# but will usually do not allow that sort of thing"
     ],
     "language": "python",
     "metadata": {},
     "outputs": []
    },
    {
     "cell_type": "code",
     "collapsed": false,
     "input": [
      "print SN.SNObjectSED(time=[0.], wavelen=np.arange(300., 800., 10.))"
     ],
     "language": "python",
     "metadata": {},
     "outputs": []
    },
    {
     "cell_type": "markdown",
     "metadata": {},
     "source": [
      "But ..."
     ]
    },
    {
     "cell_type": "code",
     "collapsed": false,
     "input": [
      "print 'ra, dec: ',  SN._ra , SN._dec"
     ],
     "language": "python",
     "metadata": {},
     "outputs": []
    },
    {
     "cell_type": "markdown",
     "metadata": {},
     "source": [
      "The other feature is that we can change this along the way. So we may instantiate SNObject with a set of parameters and locations, and then change those to represent a different SN. but that does not automatically change ebv. This allows mistakes,\n",
      "but I think it is a necessary evil to allow setting different ebvofMW values without changing ra, dec, but we can change this property if this turns out to be difficult. "
     ]
    },
    {
     "cell_type": "code",
     "collapsed": false,
     "input": [
      "SN.setCoords(ra=30., dec=60)\n",
      "SN.ebvofMW"
     ],
     "language": "python",
     "metadata": {},
     "outputs": []
    },
    {
     "cell_type": "markdown",
     "metadata": {},
     "source": [
      "So, we have to do "
     ]
    },
    {
     "cell_type": "code",
     "collapsed": false,
     "input": [
      "SN.mwEBVfromMaps()\n",
      "SN.ebvofMW"
     ],
     "language": "python",
     "metadata": {},
     "outputs": []
    },
    {
     "cell_type": "markdown",
     "metadata": {},
     "source": [
      "<b> Summary </b>\n",
      "- Either supply ra, dec in instantiation call, and you will get correct SED\n",
      "- Alternative: instantiate without coordinates, and then either set ebvofMW directly or by using setCoords followed by mweEBVfromMaps()"
     ]
    },
    {
     "cell_type": "markdown",
     "metadata": {},
     "source": [
      "SNObject also has some attributes that are useful. For example, we need to set the parameters of the SN model. The parameters of the SN model are\n",
      "\n",
      "- 't0' time of peak\n",
      "- 'x0' amplitude at the top of the earth's atmosphere\n",
      "- 'x1' parameter related to stretch of supernovae\n",
      "- 'c' parameter related to E(B-V) color at peak of model\n",
      "- 'z' redshift\n",
      "\n",
      "These may be set by the following syntax or by passing a dictionary. Note that guessing a reasonable 'x0' is difficult. \n",
      "Instead, one may set a peak absolute magnitude in a particular rest frame band in a magnitude system and a cosmology"
     ]
    },
    {
     "cell_type": "code",
     "collapsed": false,
     "input": [
      "SN.set(z=0.5, x1=0., c =0.)\n",
      "SN.set_source_peakabsmag(absmag=-19.5, band='bessellb', magsys='AB')"
     ],
     "language": "python",
     "metadata": {},
     "outputs": []
    },
    {
     "cell_type": "markdown",
     "metadata": {},
     "source": [
      "The state of the object can be summarized through the `self.summarize()` function that returns a string. "
     ]
    },
    {
     "cell_type": "code",
     "collapsed": false,
     "input": [
      "print SN.summary()"
     ],
     "language": "python",
     "metadata": {},
     "outputs": []
    },
    {
     "cell_type": "code",
     "collapsed": false,
     "input": [
      "from lsst.sims.photUtils import Bandpass\n",
      "from lsst.sims.photUtils.Photometry import PhotometryBase"
     ],
     "language": "python",
     "metadata": {},
     "outputs": []
    },
    {
     "cell_type": "code",
     "collapsed": false,
     "input": [
      "fig, ax = plt.subplots()\n",
      "sed = SN.SNObjectSED(time=0., wavelen=np.arange(300., 800., 1.))\n",
      "sed2 = SN.SNObjectSED(time=10., wavelen=np.arange(300., 800., 10.))\n",
      "ax.plot(sed.wavelen, sed.flambda, 'k-', label='t=0.')\n",
      "ax.plot(sed2.wavelen, sed2.flambda, 'r-', label='t=10.')\n",
      "ax.legend(loc='best')\n",
      "ax.set_xlabel(r'$\\lambda (nm)$')\n",
      "ax.set_ylabel(r'flambda (ergs/cm^2/s/nm)')"
     ],
     "language": "python",
     "metadata": {},
     "outputs": []
    },
    {
     "cell_type": "markdown",
     "metadata": {},
     "source": [
      "Now to get fluxes and magnitudes, we need the bandpasses"
     ]
    },
    {
     "cell_type": "code",
     "collapsed": false,
     "input": [
      "# Setup a photUtils class that holds all the LSST bandpasses as a list \n",
      "pbase = PhotometryBase()\n",
      "pbase.loadBandpassesFromFiles()\n",
      "pbase.setupPhiArray_dict()\n",
      "# pbase.phiArray"
     ],
     "language": "python",
     "metadata": {},
     "outputs": []
    },
    {
     "cell_type": "code",
     "collapsed": false,
     "input": [
      "pbase.bandpassDict"
     ],
     "language": "python",
     "metadata": {},
     "outputs": []
    },
    {
     "cell_type": "code",
     "collapsed": false,
     "input": [
      "pbase.loadBandpassesFromFiles()"
     ],
     "language": "python",
     "metadata": {},
     "outputs": []
    },
    {
     "cell_type": "code",
     "collapsed": false,
     "input": [
      "# The following were tried with feature/SIM-1037-only-calculate-requested-magnitudes in photUtils\n",
      "# Store light curve in fluxes\n",
      "l = []\n",
      "for time in np.arange(-20., 50., 1.):\n",
      "    l.append([time]+ SN.catsimBandFluxes(time=time, bandpassobject=pbase.bandpassDict, phiarray=pbase.phiArray, observedBandPassInds=None).tolist())\n",
      "# Store light curve in mags    \n",
      "m = []\n",
      "for time in np.arange(-20., 50., 1.):\n",
      "    m.append([time]+ SN.catsimBandMags(time=time, bandpassobject=pbase.bandpassDict, phiarray=pbase.phiArray).tolist())"
     ],
     "language": "python",
     "metadata": {},
     "outputs": []
    },
    {
     "cell_type": "code",
     "collapsed": false,
     "input": [
      "fig, ax = plt.subplots()\n",
      "sed = SN.SNObjectSED(time=0., bandpassobject=pbase.bandpassDict)\n",
      "sed2 = SN.SNObjectSED(time=10., wavelen=np.arange(300., 800., 10.))\n",
      "ax.plot(sed.wavelen, sed.flambda, 'k-', label='t=0.')\n",
      "ax.plot(sed2.wavelen, sed2.flambda, 'r-', label='t=10.')\n",
      "ax.legend(loc='best')\n",
      "ax.set_xlabel(r'$\\lambda (nm)$')\n",
      "ax.set_ylabel(r'flambda (ergs/cm^2/s/nm)')"
     ],
     "language": "python",
     "metadata": {},
     "outputs": []
    },
    {
     "cell_type": "code",
     "collapsed": false,
     "input": [
      "sed.flambdaTofnu()\n",
      "sed.manyFluxCalc(phiarray=pbase.phiArray, wavelen_step=pbase.waveLenStep, observedBandPassInd=None)"
     ],
     "language": "python",
     "metadata": {},
     "outputs": []
    },
    {
     "cell_type": "code",
     "collapsed": false,
     "input": [
      "pbase.waveLenStep"
     ],
     "language": "python",
     "metadata": {},
     "outputs": []
    },
    {
     "cell_type": "code",
     "collapsed": false,
     "input": [
      "l = np.asarray(l)\n",
      "fig, ax = plt.subplots()\n",
      "ax.plot(l[:, 0], l[:, 1], label='u')\n",
      "ax.plot(l[:, 0], l[:, 2], label='g')\n",
      "ax.plot(l[:, 0], l[:, 3], label='r')\n",
      "ax.plot(l[:, 0], l[:, 4], label='i')\n",
      "ax.plot(l[:, 0], l[:, 5], label='z')\n",
      "ax.plot(l[:, 0], l[:, 6], label='y')\n",
      "ax.set_xlabel('time -peak')\n",
      "ax.set_ylabel('Flux')\n",
      "ax.legend(loc='best')"
     ],
     "language": "python",
     "metadata": {},
     "outputs": []
    },
    {
     "cell_type": "code",
     "collapsed": false,
     "input": [
      "m = np.asarray(m)\n",
      "fig, ax = plt.subplots()\n",
      "ax.plot(m[:, 0], m[:, 1], 'o', label='u')\n",
      "ax.plot(m[:, 0], m[:, 2], label='g')\n",
      "ax.plot(m[:, 0], m[:, 3], label='r')\n",
      "ax.plot(m[:, 0], m[:, 4], label='i')\n",
      "ax.plot(m[:, 0], m[:, 5], label='z')\n",
      "ax.plot(m[:, 0], m[:, 6], label='y')\n",
      "ax.invert_yaxis()\n",
      "ax.set_xlabel('time -peak')\n",
      "ax.set_ylabel('Magnitude')\n",
      "ax.legend(loc='best')"
     ],
     "language": "python",
     "metadata": {},
     "outputs": []
    },
    {
     "cell_type": "markdown",
     "metadata": {},
     "source": [
      "Why is the u band light curve funny ? This is a problem with the way the SN models are built. In the training algorithm for SNIa light curves, currently there is no mechanism to enforce positive semidefiniteness on the SN SED. In practice, this does not matter too much, because in the regions of phase space where we have data, the data makes the SED positive definite. It is only in regions where we don't have data (far away from the peak, or at wavelengths closer to the edge of the validity of the model where the observed SN are too dim). In part this is also protected by 'model uncertainties', but there are problems with those as well."
     ]
    },
    {
     "cell_type": "code",
     "collapsed": false,
     "input": [
      "import sncosmo\n",
      "sdssu = sncosmo.get_bandpass('sdssu')\n",
      "print 'u band at given redshift has an effective wavelength of ', sdssu.wave_eff/(1 + SN.get('z')),\\\n",
      "' which is too close to the lower wavelength limit of the model'"
     ],
     "language": "python",
     "metadata": {},
     "outputs": []
    },
    {
     "cell_type": "markdown",
     "metadata": {},
     "source": [
      "At these wavelengths, we get negative fluxes!"
     ]
    },
    {
     "cell_type": "code",
     "collapsed": false,
     "input": [
      "min(np.asarray(l)[:,1])"
     ],
     "language": "python",
     "metadata": {},
     "outputs": []
    },
    {
     "cell_type": "heading",
     "level": 2,
     "metadata": {},
     "source": [
      "snUniverse.py: SNUniverse"
     ]
    },
    {
     "cell_type": "markdown",
     "metadata": {},
     "source": [
      "The basic idea of this module is to contain the distributions and rules of obtaining certain properties of SN. The sort of information that needs to be encoded are  \n",
      "- What should be the abundance of the types of objects created in SNObject be?\n",
      "- What should their parameter distributions be like ?"
     ]
    },
    {
     "cell_type": "heading",
     "level": 2,
     "metadata": {},
     "source": [
      "sncat.py: SNIaCatalog"
     ]
    },
    {
     "cell_type": "markdown",
     "metadata": {},
     "source": [
      "This inherits from the ` instanceCatalog ` class and uses the functionality in ` CosmologyWrapper ` and `SNUniverse`. This is an `InstanceCatalog` and so provides a catalog of SN observed at a particular exposure."
     ]
    },
    {
     "cell_type": "code",
     "collapsed": false,
     "input": [
      "from lsst.sims.catalogs.generation.db import ObservationMetaData\n",
      "from sniacatalogs import sncat"
     ],
     "language": "python",
     "metadata": {},
     "outputs": [],
     "prompt_number": 1
    },
    {
     "cell_type": "code",
     "collapsed": false,
     "input": [
      "from lsst.sims.catalogs.generation.db import CatalogDBObject"
     ],
     "language": "python",
     "metadata": {},
     "outputs": [],
     "prompt_number": 2
    },
    {
     "cell_type": "markdown",
     "metadata": {},
     "source": [
      "First, we create a catalog of all the galaxies in the catalog using the `CatalogDBObject.from_objid` "
     ]
    },
    {
     "cell_type": "code",
     "collapsed": false,
     "input": [
      "galDB = CatalogDBObject.from_objid('galaxyTiled')"
     ],
     "language": "python",
     "metadata": {},
     "outputs": [
      {
       "output_type": "stream",
       "stream": "stderr",
       "text": [
        "/usr/local/manual/anaconda/lib/python2.7/site-packages/sqlalchemy/dialects/mssql/base.py:1294: SAWarning: Did not recognize type 'geography' of column 'geopoint'\n",
        "  return fn(*arg, **kw)\n"
       ]
      }
     ],
     "prompt_number": 3
    },
    {
     "cell_type": "markdown",
     "metadata": {},
     "source": [
      "The catsim framework does not allow us to record these galaxies to disk, but we could by creating an `InstanceCatalog` class. This requires "
     ]
    },
    {
     "cell_type": "code",
     "collapsed": false,
     "input": [
      "from lsst.sims.catalogs.measures.instance import InstanceCatalog\n",
      "class galCopy(InstanceCatalog):\n",
      "    column_outputs = ['id', 'raJ2000', 'decJ2000', 'redshift']\n",
      "    override_formats = {'raJ2000': '%8e', 'decJ2000': '%8e'}"
     ],
     "language": "python",
     "metadata": {},
     "outputs": [],
     "prompt_number": 4
    },
    {
     "cell_type": "markdown",
     "metadata": {},
     "source": [
      "The next step takes a set of mjds and pointings made up here (ie. this should really come from Opsims, but to simplify this notebook, and build a light curve, we will assume that we decided to point at the same location everyday. And to first try out\n",
      "an instance catalog we can read easily, and understand, we will first do one day.\n",
      "\n",
      "\n",
      "So, let us instantiate an ObservationMetaData object, and write the catalog associated with it"
     ]
    },
    {
     "cell_type": "code",
     "collapsed": false,
     "input": [
      "mjds = [571203.15]\n",
      "for i, myMJD in enumerate(mjds):\n",
      "    myObsMD = ObservationMetaData(boundType='circle',\n",
      "                                  boundLength=0.015,\n",
      "                                  unrefractedRA=5.0,\n",
      "                                  unrefractedDec=15.0,\n",
      "                                  site='LSST',\n",
      "                                  bandpassName=['u', 'g', 'r', 'i', 'z', 'y'],\n",
      "                                  mjd=myMJD)\n",
      "    catalog = sncat.SNIaCatalog(db_obj=galDB, obs_metadata=myObsMD)"
     ],
     "language": "python",
     "metadata": {},
     "outputs": [],
     "prompt_number": 5
    },
    {
     "cell_type": "code",
     "collapsed": false,
     "input": [
      "gals = galCopy(db_obj=galDB, obs_metadata=myObsMD)\n",
      "gals.write_catalog('gals.dat')"
     ],
     "language": "python",
     "metadata": {},
     "outputs": [],
     "prompt_number": 6
    },
    {
     "cell_type": "markdown",
     "metadata": {},
     "source": [
      "The SNIaCatalog object has an attribute called suppressDimSN. If set to true, it does not add any SN that have peak dates outside a (can be changed) 100 day window surrounding the date of observation. "
     ]
    },
    {
     "cell_type": "code",
     "collapsed": false,
     "input": [
      "print catalog.suppressDimSN"
     ],
     "language": "python",
     "metadata": {},
     "outputs": [
      {
       "ename": "NameError",
       "evalue": "global name 'suppressDimSN_default' is not defined",
       "output_type": "pyerr",
       "traceback": [
        "\u001b[0;31m---------------------------------------------------------------------------\u001b[0m\n\u001b[0;31mNameError\u001b[0m                                 Traceback (most recent call last)",
        "\u001b[0;32m<ipython-input-7-d9a20db09f70>\u001b[0m in \u001b[0;36m<module>\u001b[0;34m()\u001b[0m\n\u001b[0;32m----> 1\u001b[0;31m \u001b[0;32mprint\u001b[0m \u001b[0mcatalog\u001b[0m\u001b[0;34m.\u001b[0m\u001b[0msuppressDimSN\u001b[0m\u001b[0;34m\u001b[0m\u001b[0m\n\u001b[0m",
        "\u001b[0;32m/Users/rbiswas/.local/lib/python2.7/site-packages/SNIaCatalogs-0.1.dev0-py2.7.egg/sniacatalogs/sncat.pyc\u001b[0m in \u001b[0;36msuppressDimSN\u001b[0;34m(self)\u001b[0m\n\u001b[1;32m     83\u001b[0m         \u001b[0;31m# self._suppressDimSN = True\u001b[0m\u001b[0;34m\u001b[0m\u001b[0;34m\u001b[0m\u001b[0m\n\u001b[1;32m     84\u001b[0m         \u001b[0;32mif\u001b[0m \u001b[0;32mnot\u001b[0m \u001b[0mhasattr\u001b[0m\u001b[0;34m(\u001b[0m\u001b[0mself\u001b[0m\u001b[0;34m,\u001b[0m \u001b[0;34m'_suppressDimSN'\u001b[0m\u001b[0;34m)\u001b[0m\u001b[0;34m:\u001b[0m\u001b[0;34m\u001b[0m\u001b[0m\n\u001b[0;32m---> 85\u001b[0;31m             \u001b[0mself\u001b[0m\u001b[0;34m.\u001b[0m\u001b[0m_suppressDimSN\u001b[0m \u001b[0;34m=\u001b[0m \u001b[0msuppressDimSN_default\u001b[0m\u001b[0;34m\u001b[0m\u001b[0m\n\u001b[0m\u001b[1;32m     86\u001b[0m         \u001b[0;32mreturn\u001b[0m \u001b[0mself\u001b[0m\u001b[0;34m.\u001b[0m\u001b[0m_suppressDimSN\u001b[0m\u001b[0;34m\u001b[0m\u001b[0m\n\u001b[1;32m     87\u001b[0m \u001b[0;34m\u001b[0m\u001b[0m\n",
        "\u001b[0;31mNameError\u001b[0m: global name 'suppressDimSN_default' is not defined"
       ]
      }
     ],
     "prompt_number": 7
    },
    {
     "cell_type": "code",
     "collapsed": false,
     "input": [
      "catalog.suppressDimSN = False"
     ],
     "language": "python",
     "metadata": {},
     "outputs": [],
     "prompt_number": 8
    },
    {
     "cell_type": "code",
     "collapsed": false,
     "input": [
      "print catalog.suppressDimSN"
     ],
     "language": "python",
     "metadata": {},
     "outputs": []
    },
    {
     "cell_type": "code",
     "collapsed": false,
     "input": [],
     "language": "python",
     "metadata": {},
     "outputs": []
    },
    {
     "cell_type": "code",
     "collapsed": false,
     "input": [
      "myObsMD.summary['site']='LSST'"
     ],
     "language": "python",
     "metadata": {},
     "outputs": []
    },
    {
     "cell_type": "code",
     "collapsed": false,
     "input": [
      "myObsMD.summary['site']"
     ],
     "language": "python",
     "metadata": {},
     "outputs": []
    },
    {
     "cell_type": "code",
     "collapsed": false,
     "input": [
      "catalog.write_catalog('catalog_day.txt', write_metadata=True, meta_key='#@')"
     ],
     "language": "python",
     "metadata": {},
     "outputs": []
    },
    {
     "cell_type": "code",
     "collapsed": false,
     "input": [
      "f = open('catalog_day.txt','r')"
     ],
     "language": "python",
     "metadata": {},
     "outputs": []
    },
    {
     "cell_type": "code",
     "collapsed": false,
     "input": [
      "x = s.getvalue()"
     ],
     "language": "python",
     "metadata": {},
     "outputs": []
    },
    {
     "cell_type": "code",
     "collapsed": false,
     "input": [
      "dd = json.loads(x.strip('#@'))"
     ],
     "language": "python",
     "metadata": {},
     "outputs": []
    },
    {
     "cell_type": "code",
     "collapsed": false,
     "input": [
      "dd['mjd']"
     ],
     "language": "python",
     "metadata": {},
     "outputs": []
    },
    {
     "cell_type": "code",
     "collapsed": false,
     "input": [
      "import cStringIO"
     ],
     "language": "python",
     "metadata": {},
     "outputs": []
    },
    {
     "cell_type": "code",
     "collapsed": false,
     "input": [
      "s = cStringIO.StringIO()"
     ],
     "language": "python",
     "metadata": {},
     "outputs": []
    },
    {
     "cell_type": "code",
     "collapsed": false,
     "input": [
      "s.write(jsondict)"
     ],
     "language": "python",
     "metadata": {},
     "outputs": []
    },
    {
     "cell_type": "code",
     "collapsed": false,
     "input": [
      "json.loads(s.getvalue())"
     ],
     "language": "python",
     "metadata": {},
     "outputs": []
    },
    {
     "cell_type": "code",
     "collapsed": false,
     "input": [
      "s.getvalue()"
     ],
     "language": "python",
     "metadata": {},
     "outputs": []
    },
    {
     "cell_type": "code",
     "collapsed": false,
     "input": [
      "help(json.load)"
     ],
     "language": "python",
     "metadata": {},
     "outputs": []
    },
    {
     "cell_type": "code",
     "collapsed": false,
     "input": [
      "for key in SNObjectfull.__dict__:\n",
      "    if not key.startswith('_'):\n",
      "        print key"
     ],
     "language": "python",
     "metadata": {},
     "outputs": []
    },
    {
     "cell_type": "code",
     "collapsed": false,
     "input": [
      "print 4* np.pi*(180./np.pi)**2"
     ],
     "language": "python",
     "metadata": {},
     "outputs": []
    },
    {
     "cell_type": "code",
     "collapsed": false,
     "input": [
      "print snia.__file__"
     ],
     "language": "python",
     "metadata": {},
     "outputs": []
    },
    {
     "cell_type": "code",
     "collapsed": false,
     "input": [],
     "language": "python",
     "metadata": {},
     "outputs": []
    }
   ],
   "metadata": {}
  }
 ]
}