{
 "metadata": {
  "name": "",
  "signature": "sha256:efe8daae27c6c25d49741f6a17a6b6bad10bc2e2cf9721b7f67d206092e91c2d"
 },
 "nbformat": 3,
 "nbformat_minor": 0,
 "worksheets": [
  {
   "cells": [
    {
     "cell_type": "heading",
     "level": 1,
     "metadata": {},
     "source": [
      "Supernovae Ia in catSim"
     ]
    },
    {
     "cell_type": "markdown",
     "metadata": {},
     "source": [
      "There are three files in catSim that currently provide the SN functionality. This functionality is based on classes provided by \n",
      "the python package SNCosmo, through the sncosmo.Model class which is built on top of a sncosmo.source class which describes a transient source in its rest frame in terms of a time series of spectra. The three files added into catSim are:\n",
      "\n",
      "1. snObject.py: Contains the class SNObject which inherits from the sncsomo.Model class with some decisions appropriate for our use\n",
      "2. snUniverse.py: Contains definitions of the rates and distribution of types of snObject \n",
      "3. sncat.py : How to interact with catSim, get the information there and write things out."
     ]
    },
    {
     "cell_type": "code",
     "collapsed": false,
     "input": [
      "import sniacatalogs as snia"
     ],
     "language": "python",
     "metadata": {},
     "outputs": [],
     "prompt_number": 11
    },
    {
     "cell_type": "code",
     "collapsed": false,
     "input": [
      "import numpy as np\n",
      "%matplotlib inline\n",
      "import matplotlib.pyplot as plt\n",
      "import seaborn as sns\n",
      "sns.set()"
     ],
     "language": "python",
     "metadata": {},
     "outputs": [],
     "prompt_number": 12
    },
    {
     "cell_type": "heading",
     "level": 2,
     "metadata": {},
     "source": [
      "snObject : SNObject"
     ]
    },
    {
     "cell_type": "markdown",
     "metadata": {},
     "source": [
      "The basic idea of this module is to contain classes that represent SN. Right now, we only have one such object representing a \n",
      "SNIa based on the SALT model, but later we could expand this to accomodate other objects.\n",
      "\n",
      "<b>Main thing SNObject is supposed to provide </b> SNObject provides the SED from the SN, extincted through MW dust, as well as convenient methods to obtain band fluxes and magnitudes calling sims.photUtils methods.\n",
      "\n",
      "To instantiate an SNObject, we have a few alternativaes with different use cases in mind"
     ]
    },
    {
     "cell_type": "code",
     "collapsed": false,
     "input": [
      "# Give it an ra, dec\n",
      "# sims.photUtils uses O'Donnell 94 to calculate extinction, and does not use any other fits. So, the fit function is not \n",
      "# a parameter at present\n",
      "# Following catsim conventions the entries are in degrees\n",
      "SNObjectfull  = snia.snObject.SNObject(ra=30., dec=60.)"
     ],
     "language": "python",
     "metadata": {},
     "outputs": [],
     "prompt_number": 13
    },
    {
     "cell_type": "code",
     "collapsed": false,
     "input": [
      "SNObjectfull.setCoords(ra=30., dec=60.)"
     ],
     "language": "python",
     "metadata": {},
     "outputs": [],
     "prompt_number": 14
    },
    {
     "cell_type": "code",
     "collapsed": false,
     "input": [
      "# The coordinates are stored in radians, but these are not 'public' variables\n",
      "print 'ra, dec: ',  SNObjectfull._ra , SNObjectfull._dec"
     ],
     "language": "python",
     "metadata": {},
     "outputs": [
      {
       "output_type": "stream",
       "stream": "stdout",
       "text": [
        "ra, dec:  0.523598775598 1.0471975512\n"
       ]
      }
     ],
     "prompt_number": 15
    },
    {
     "cell_type": "code",
     "collapsed": false,
     "input": [
      "# Publicly accessed variables having ra and dec in an array, in the form required by catsim\n",
      "\n",
      "SNObjectfull.skycoord"
     ],
     "language": "python",
     "metadata": {},
     "outputs": [
      {
       "metadata": {},
       "output_type": "pyout",
       "prompt_number": 16,
       "text": [
        "array([[ 0.52359878],\n",
        "       [ 1.04719755]])"
       ]
      }
     ],
     "prompt_number": 16
    },
    {
     "cell_type": "code",
     "collapsed": false,
     "input": [
      "# The color excess has been calculated\n",
      "print 'E(B-V) = ', SNObjectfull.ebvofMW"
     ],
     "language": "python",
     "metadata": {},
     "outputs": [
      {
       "output_type": "stream",
       "stream": "stdout",
       "text": [
        "E(B-V) =  0.977767825127\n"
       ]
      }
     ],
     "prompt_number": 17
    },
    {
     "cell_type": "markdown",
     "metadata": {},
     "source": [
      "Obtaining the Sed Object is the crux of this module."
     ]
    },
    {
     "cell_type": "code",
     "collapsed": false,
     "input": [
      "sed = SNObjectfull.SNObjectSED(time=0., wavelen=np.arange(300., 700.,10.))\n",
      "print sed.wavelen\n",
      "print sed.flambda"
     ],
     "language": "python",
     "metadata": {},
     "outputs": [
      {
       "output_type": "stream",
       "stream": "stdout",
       "text": [
        "[ 300.  310.  320.  330.  340.  350.  360.  370.  380.  390.  400.  410.\n",
        "  420.  430.  440.  450.  460.  470.  480.  490.  500.  510.  520.  530.\n",
        "  540.  550.  560.  570.  580.  590.  600.  610.  620.  630.  640.  650.\n",
        "  660.  670.  680.  690.]\n",
        "[  9.03091117e-15   1.33796344e-14   1.53838655e-14   1.68316500e-14\n",
        "   2.45698825e-14   3.88739192e-14   5.48196813e-14   3.52104127e-14\n",
        "   3.70689597e-14   8.71962689e-14   8.43299467e-14   1.03487911e-13\n",
        "   8.92399147e-14   6.12776098e-14   8.21115727e-14   1.07916032e-13\n",
        "   1.09207281e-13   8.82019759e-14   8.41670020e-14   8.12725843e-14\n",
        "   8.87362652e-14   1.25898919e-13   1.30130187e-13   9.71921085e-14\n",
        "   1.10113912e-13   1.18833675e-13   1.51116090e-13   1.49048492e-13\n",
        "   1.45713590e-13   1.59780169e-13   1.48076355e-13   7.24648555e-14\n",
        "   1.13911620e-13   1.59077378e-13   1.56878599e-13   1.39914059e-13\n",
        "   1.30341282e-13   1.17762470e-13   1.11228018e-13   1.02795000e-13]\n"
       ]
      }
     ],
     "prompt_number": 18
    },
    {
     "cell_type": "heading",
     "level": 3,
     "metadata": {},
     "source": [
      "Another way to Instantiate the SNObject"
     ]
    },
    {
     "cell_type": "code",
     "collapsed": false,
     "input": [
      "SN = snia.snObject.SNObject()\n",
      "print 'ra, dec: ',  SN._ra , SN._dec\n",
      "# The color excess has been calculated\n",
      "print 'E(B-V) = ', SN.ebvofMW"
     ],
     "language": "python",
     "metadata": {},
     "outputs": [
      {
       "output_type": "stream",
       "stream": "stdout",
       "text": [
        "ra, dec:  None None\n",
        "E(B-V) =  None\n"
       ]
      }
     ],
     "prompt_number": 19
    },
    {
     "cell_type": "markdown",
     "metadata": {},
     "source": [
      "But a `None` type color excess precludes any calculations that may require it. You will not be able to request the SED, the magnitudes or fluxes calculated in any filter bands. Calling such a function will tell you what the problem is and suggest how you may fix it. (<b>So the following line is supposed to fail</b>)"
     ]
    },
    {
     "cell_type": "code",
     "collapsed": false,
     "input": [
      "print SN.SNObjectSED(time=0., wavelen=np.arange(300., 800., 10.))"
     ],
     "language": "python",
     "metadata": {},
     "outputs": [
      {
       "ename": "ValueError",
       "evalue": "ebvofMW attribute cannot be None Type and must be set using either ra, dec or by                              hand using set_MWebv before this stage \n",
       "output_type": "pyerr",
       "traceback": [
        "\u001b[0;31m---------------------------------------------------------------------------\u001b[0m\n\u001b[0;31mValueError\u001b[0m                                Traceback (most recent call last)",
        "\u001b[0;32m<ipython-input-20-bb2412a9cb0c>\u001b[0m in \u001b[0;36m<module>\u001b[0;34m()\u001b[0m\n\u001b[0;32m----> 1\u001b[0;31m \u001b[0;32mprint\u001b[0m \u001b[0mSN\u001b[0m\u001b[0;34m.\u001b[0m\u001b[0mSNObjectSED\u001b[0m\u001b[0;34m(\u001b[0m\u001b[0mtime\u001b[0m\u001b[0;34m=\u001b[0m\u001b[0;36m0.\u001b[0m\u001b[0;34m,\u001b[0m \u001b[0mwavelen\u001b[0m\u001b[0;34m=\u001b[0m\u001b[0mnp\u001b[0m\u001b[0;34m.\u001b[0m\u001b[0marange\u001b[0m\u001b[0;34m(\u001b[0m\u001b[0;36m300.\u001b[0m\u001b[0;34m,\u001b[0m \u001b[0;36m800.\u001b[0m\u001b[0;34m,\u001b[0m \u001b[0;36m10.\u001b[0m\u001b[0;34m)\u001b[0m\u001b[0;34m)\u001b[0m\u001b[0;34m\u001b[0m\u001b[0m\n\u001b[0m",
        "\u001b[0;32m/Users/rbiswas/.local/lib/python2.7/site-packages/SNIaCatalogs-0.1.dev0-py2.7.egg/sniacatalogs/snObject.pyc\u001b[0m in \u001b[0;36mSNObjectSED\u001b[0;34m(self, time, wavelen, bandpassobject, applyExitinction)\u001b[0m\n\u001b[1;32m    328\u001b[0m             \u001b[0;31m# if self.ebvofMW is None:\u001b[0m\u001b[0;34m\u001b[0m\u001b[0;34m\u001b[0m\u001b[0m\n\u001b[1;32m    329\u001b[0m             raise ValueError('ebvofMW attribute cannot be None Type and must be set using either ra, dec or by\\\n\u001b[0;32m--> 330\u001b[0;31m                               hand using set_MWebv before this stage \\n')\n\u001b[0m\u001b[1;32m    331\u001b[0m \u001b[0;34m\u001b[0m\u001b[0m\n\u001b[1;32m    332\u001b[0m         \u001b[0mSEDfromSNcosmo\u001b[0m\u001b[0;34m.\u001b[0m\u001b[0maddCCMDust\u001b[0m\u001b[0;34m(\u001b[0m\u001b[0ma_x\u001b[0m\u001b[0;34m=\u001b[0m\u001b[0max\u001b[0m\u001b[0;34m,\u001b[0m \u001b[0mb_x\u001b[0m\u001b[0;34m=\u001b[0m\u001b[0mbx\u001b[0m\u001b[0;34m,\u001b[0m \u001b[0mebv\u001b[0m\u001b[0;34m=\u001b[0m\u001b[0mself\u001b[0m\u001b[0;34m.\u001b[0m\u001b[0mebvofMW\u001b[0m\u001b[0;34m)\u001b[0m\u001b[0;34m\u001b[0m\u001b[0m\n",
        "\u001b[0;31mValueError\u001b[0m: ebvofMW attribute cannot be None Type and must be set using either ra, dec or by                              hand using set_MWebv before this stage \n"
       ]
      }
     ],
     "prompt_number": 20
    },
    {
     "cell_type": "markdown",
     "metadata": {},
     "source": [
      "One reason this is around, is that sometimes I want to get rid of differences that may arise from extinction, and set these things by hand. For example, I may wish to check something without any extinction! Anyway, following the hint above, the user\n",
      "should check out the function set_MWebv:"
     ]
    },
    {
     "cell_type": "code",
     "collapsed": false,
     "input": [
      "help(SN.set_MWebv)"
     ],
     "language": "python",
     "metadata": {},
     "outputs": []
    },
    {
     "cell_type": "code",
     "collapsed": false,
     "input": [
      "SN.set_MWebv(0.)\n",
      "# in this case, you could have changed this by setting SN.ebvofMW = 0., \n",
      "# but will usually do not allow that sort of thing"
     ],
     "language": "python",
     "metadata": {},
     "outputs": []
    },
    {
     "cell_type": "code",
     "collapsed": false,
     "input": [
      "print SN.SNObjectSED(time=[0.], wavelen=np.arange(300., 800., 10.))"
     ],
     "language": "python",
     "metadata": {},
     "outputs": []
    },
    {
     "cell_type": "markdown",
     "metadata": {},
     "source": [
      "But ..."
     ]
    },
    {
     "cell_type": "code",
     "collapsed": false,
     "input": [
      "print 'ra, dec: ',  SN._ra , SN._dec"
     ],
     "language": "python",
     "metadata": {},
     "outputs": []
    },
    {
     "cell_type": "markdown",
     "metadata": {},
     "source": [
      "The other feature is that we can change this along the way. So we may instantiate SNObject with a set of parameters and locations, and then change those to represent a different SN. but that does not automatically change ebv. This allows mistakes,\n",
      "but I think it is a necessary evil to allow setting different ebvofMW values without changing ra, dec, but we can change this property if this turns out to be difficult. "
     ]
    },
    {
     "cell_type": "code",
     "collapsed": false,
     "input": [
      "SN.setCoords(ra=30., dec=60)\n",
      "SN.ebvofMW"
     ],
     "language": "python",
     "metadata": {},
     "outputs": []
    },
    {
     "cell_type": "markdown",
     "metadata": {},
     "source": [
      "So, we have to do "
     ]
    },
    {
     "cell_type": "code",
     "collapsed": false,
     "input": [
      "SN.mwEBVfromMaps()\n",
      "SN.ebvofMW"
     ],
     "language": "python",
     "metadata": {},
     "outputs": []
    },
    {
     "cell_type": "markdown",
     "metadata": {},
     "source": [
      "<b> Summary </b>\n",
      "- Either supply ra, dec in instantiation call, and you will get correct SED\n",
      "- Alternative: instantiate without coordinates, and then either set ebvofMW directly or by using setCoords followed by mweEBVfromMaps()"
     ]
    },
    {
     "cell_type": "markdown",
     "metadata": {},
     "source": [
      "SNObject also has some attributes that are useful. For example, we need to set the parameters of the SN model. The parameters of the SN model are\n",
      "\n",
      "- 't0' time of peak\n",
      "- 'x0' amplitude at the top of the earth's atmosphere\n",
      "- 'x1' parameter related to stretch of supernovae\n",
      "- 'c' parameter related to E(B-V) color at peak of model\n",
      "- 'z' redshift\n",
      "\n",
      "These may be set by the following syntax or by passing a dictionary. Note that guessing a reasonable 'x0' is difficult. \n",
      "Instead, one may set a peak absolute magnitude in a particular rest frame band in a magnitude system and a cosmology"
     ]
    },
    {
     "cell_type": "code",
     "collapsed": false,
     "input": [
      "SN.set(z=0.5, x1=0., c =0.)\n",
      "SN.set_source_peakabsmag(absmag=-19.5, band='bessellb', magsys='AB')"
     ],
     "language": "python",
     "metadata": {},
     "outputs": []
    },
    {
     "cell_type": "markdown",
     "metadata": {},
     "source": [
      "The state of the object can be summarized through the `self.summarize()` function that returns a string. "
     ]
    },
    {
     "cell_type": "code",
     "collapsed": false,
     "input": [
      "print SN.summary()"
     ],
     "language": "python",
     "metadata": {},
     "outputs": []
    },
    {
     "cell_type": "code",
     "collapsed": false,
     "input": [
      "from lsst.sims.photUtils import Bandpass\n",
      "from lsst.sims.photUtils.Photometry import PhotometryBase"
     ],
     "language": "python",
     "metadata": {},
     "outputs": []
    },
    {
     "cell_type": "code",
     "collapsed": false,
     "input": [
      "fig, ax = plt.subplots()\n",
      "sed = SN.SNObjectSED(time=0., wavelen=np.arange(300., 800., 1.))\n",
      "sed2 = SN.SNObjectSED(time=10., wavelen=np.arange(300., 800., 10.))\n",
      "ax.plot(sed.wavelen, sed.flambda, 'k-', label='t=0.')\n",
      "ax.plot(sed2.wavelen, sed2.flambda, 'r-', label='t=10.')\n",
      "ax.legend(loc='best')\n",
      "ax.set_xlabel(r'$\\lambda (nm)$')\n",
      "ax.set_ylabel(r'flambda (ergs/cm^2/s/nm)')"
     ],
     "language": "python",
     "metadata": {},
     "outputs": []
    },
    {
     "cell_type": "markdown",
     "metadata": {},
     "source": [
      "Now to get fluxes and magnitudes, we need the bandpasses"
     ]
    },
    {
     "cell_type": "code",
     "collapsed": false,
     "input": [
      "# Setup a photUtils class that holds all the LSST bandpasses as a list \n",
      "pbase = PhotometryBase()\n",
      "pbase.loadBandpassesFromFiles()\n",
      "pbase.setupPhiArray_dict()\n",
      "# pbase.phiArray"
     ],
     "language": "python",
     "metadata": {},
     "outputs": []
    },
    {
     "cell_type": "code",
     "collapsed": false,
     "input": [
      "pbase.bandpassDict"
     ],
     "language": "python",
     "metadata": {},
     "outputs": []
    },
    {
     "cell_type": "code",
     "collapsed": false,
     "input": [
      "pbase.loadBandpassesFromFiles()"
     ],
     "language": "python",
     "metadata": {},
     "outputs": []
    },
    {
     "cell_type": "code",
     "collapsed": false,
     "input": [
      "# The following were tried with feature/SIM-1037-only-calculate-requested-magnitudes in photUtils\n",
      "# Store light curve in fluxes\n",
      "l = []\n",
      "for time in np.arange(-20., 50., 1.):\n",
      "    l.append([time]+ SN.catsimBandFluxes(time=time, bandpassobject=pbase.bandpassDict, phiarray=pbase.phiArray, observedBandPassInds=None).tolist())\n",
      "# Store light curve in mags    \n",
      "m = []\n",
      "for time in np.arange(-20., 50., 1.):\n",
      "    m.append([time]+ SN.catsimBandMags(time=time, bandpassobject=pbase.bandpassDict, phiarray=pbase.phiArray).tolist())"
     ],
     "language": "python",
     "metadata": {},
     "outputs": []
    },
    {
     "cell_type": "code",
     "collapsed": false,
     "input": [
      "fig, ax = plt.subplots()\n",
      "sed = SN.SNObjectSED(time=0., bandpassobject=pbase.bandpassDict)\n",
      "sed2 = SN.SNObjectSED(time=10., wavelen=np.arange(300., 800., 10.))\n",
      "ax.plot(sed.wavelen, sed.flambda, 'k-', label='t=0.')\n",
      "ax.plot(sed2.wavelen, sed2.flambda, 'r-', label='t=10.')\n",
      "ax.legend(loc='best')\n",
      "ax.set_xlabel(r'$\\lambda (nm)$')\n",
      "ax.set_ylabel(r'flambda (ergs/cm^2/s/nm)')"
     ],
     "language": "python",
     "metadata": {},
     "outputs": []
    },
    {
     "cell_type": "code",
     "collapsed": false,
     "input": [
      "sed.flambdaTofnu()\n",
      "sed.manyFluxCalc(phiarray=pbase.phiArray, wavelen_step=pbase.waveLenStep, observedBandPassInd=None)"
     ],
     "language": "python",
     "metadata": {},
     "outputs": []
    },
    {
     "cell_type": "code",
     "collapsed": false,
     "input": [
      "pbase.waveLenStep"
     ],
     "language": "python",
     "metadata": {},
     "outputs": []
    },
    {
     "cell_type": "code",
     "collapsed": false,
     "input": [
      "l = np.asarray(l)\n",
      "fig, ax = plt.subplots()\n",
      "ax.plot(l[:, 0], l[:, 1], label='u')\n",
      "ax.plot(l[:, 0], l[:, 2], label='g')\n",
      "ax.plot(l[:, 0], l[:, 3], label='r')\n",
      "ax.plot(l[:, 0], l[:, 4], label='i')\n",
      "ax.plot(l[:, 0], l[:, 5], label='z')\n",
      "ax.plot(l[:, 0], l[:, 6], label='y')\n",
      "ax.set_xlabel('time -peak')\n",
      "ax.set_ylabel('Flux')\n",
      "ax.legend(loc='best')"
     ],
     "language": "python",
     "metadata": {},
     "outputs": []
    },
    {
     "cell_type": "code",
     "collapsed": false,
     "input": [
      "m = np.asarray(m)\n",
      "fig, ax = plt.subplots()\n",
      "ax.plot(m[:, 0], m[:, 1], 'o', label='u')\n",
      "ax.plot(m[:, 0], m[:, 2], label='g')\n",
      "ax.plot(m[:, 0], m[:, 3], label='r')\n",
      "ax.plot(m[:, 0], m[:, 4], label='i')\n",
      "ax.plot(m[:, 0], m[:, 5], label='z')\n",
      "ax.plot(m[:, 0], m[:, 6], label='y')\n",
      "ax.invert_yaxis()\n",
      "ax.set_xlabel('time -peak')\n",
      "ax.set_ylabel('Magnitude')\n",
      "ax.legend(loc='best')"
     ],
     "language": "python",
     "metadata": {},
     "outputs": []
    },
    {
     "cell_type": "markdown",
     "metadata": {},
     "source": [
      "Why is the u band light curve funny ? This is a problem with the way the SN models are built. In the training algorithm for SNIa light curves, currently there is no mechanism to enforce positive semidefiniteness on the SN SED. In practice, this does not matter too much, because in the regions of phase space where we have data, the data makes the SED positive definite. It is only in regions where we don't have data (far away from the peak, or at wavelengths closer to the edge of the validity of the model where the observed SN are too dim). In part this is also protected by 'model uncertainties', but there are problems with those as well."
     ]
    },
    {
     "cell_type": "code",
     "collapsed": false,
     "input": [
      "import sncosmo\n",
      "sdssu = sncosmo.get_bandpass('sdssu')\n",
      "print 'u band at given redshift has an effective wavelength of ', sdssu.wave_eff/(1 + SN.get('z')),\\\n",
      "' which is too close to the lower wavelength limit of the model'"
     ],
     "language": "python",
     "metadata": {},
     "outputs": []
    },
    {
     "cell_type": "markdown",
     "metadata": {},
     "source": [
      "At these wavelengths, we get negative fluxes!"
     ]
    },
    {
     "cell_type": "code",
     "collapsed": false,
     "input": [
      "min(np.asarray(l)[:,1])"
     ],
     "language": "python",
     "metadata": {},
     "outputs": []
    },
    {
     "cell_type": "heading",
     "level": 2,
     "metadata": {},
     "source": [
      "snUniverse.py: SNUniverse"
     ]
    },
    {
     "cell_type": "markdown",
     "metadata": {},
     "source": [
      "The basic idea of this module is to contain the distributions and rules of obtaining certain properties of SN. The sort of information that needs to be encoded are  \n",
      "- What should be the abundance of the types of objects created in SNObject be?\n",
      "- What should their parameter distributions be like ?"
     ]
    },
    {
     "cell_type": "heading",
     "level": 2,
     "metadata": {},
     "source": [
      "sncat.py: SNIaCatalog"
     ]
    },
    {
     "cell_type": "markdown",
     "metadata": {},
     "source": [
      "This inherits from the ` instanceCatalog ` class and uses the functionality in ` CosmologyWrapper ` and `SNUniverse`. This is an `InstanceCatalog` and so provides a catalog of SN observed at a particular exposure."
     ]
    },
    {
     "cell_type": "code",
     "collapsed": false,
     "input": [
      "from lsst.sims.catalogs.generation.db import ObservationMetaData\n",
      "from sniacatalogs import sncat"
     ],
     "language": "python",
     "metadata": {},
     "outputs": [],
     "prompt_number": 1
    },
    {
     "cell_type": "code",
     "collapsed": false,
     "input": [
      "from lsst.sims.catalogs.generation.db import CatalogDBObject"
     ],
     "language": "python",
     "metadata": {},
     "outputs": [],
     "prompt_number": 2
    },
    {
     "cell_type": "markdown",
     "metadata": {},
     "source": [
      "First, we create a catalog of all the galaxies in the catalog using the `CatalogDBObject.from_objid` "
     ]
    },
    {
     "cell_type": "code",
     "collapsed": false,
     "input": [
      "galDB = CatalogDBObject.from_objid('galaxyTiled')"
     ],
     "language": "python",
     "metadata": {},
     "outputs": [
      {
       "output_type": "stream",
       "stream": "stderr",
       "text": [
        "/usr/local/manual/anaconda/lib/python2.7/site-packages/sqlalchemy/dialects/mssql/base.py:1294: SAWarning: Did not recognize type 'geography' of column 'geopoint'\n",
        "  return fn(*arg, **kw)\n"
       ]
      }
     ],
     "prompt_number": 3
    },
    {
     "cell_type": "markdown",
     "metadata": {},
     "source": [
      "The catsim framework does not allow us to record these galaxies to disk, but we could by creating an `InstanceCatalog` class. This requires "
     ]
    },
    {
     "cell_type": "code",
     "collapsed": false,
     "input": [
      "from lsst.sims.catalogs.measures.instance import InstanceCatalog\n",
      "class galCopy(InstanceCatalog):\n",
      "    column_outputs = ['id', 'raJ2000', 'decJ2000', 'redshift']\n",
      "    override_formats = {'raJ2000': '%8e', 'decJ2000': '%8e'}"
     ],
     "language": "python",
     "metadata": {},
     "outputs": [],
     "prompt_number": 4
    },
    {
     "cell_type": "markdown",
     "metadata": {},
     "source": [
      "The next step takes a set of mjds and pointings made up here (ie. this should really come from Opsims, but to simplify this notebook, and build a light curve, we will assume that we decided to point at the same location everyday. And to first try out\n",
      "an instance catalog we can read easily, and understand, we will first do one day.\n",
      "\n",
      "\n",
      "So, let us instantiate an ObservationMetaData object, and write the catalog associated with it"
     ]
    },
    {
     "cell_type": "code",
     "collapsed": false,
     "input": [
      "mjds = [571203.15]\n",
      "for i, myMJD in enumerate(mjds):\n",
      "    myObsMD = ObservationMetaData(boundType='circle',\n",
      "                                  boundLength=0.015,\n",
      "                                  unrefractedRA=5.0,\n",
      "                                  unrefractedDec=15.0,\n",
      "                                  site='LSST',\n",
      "                                  bandpassName=['u', 'g', 'r', 'i', 'z', 'y'],\n",
      "                                  mjd=myMJD)\n",
      "    catalog = sncat.SNIaCatalog(db_obj=galDB, obs_metadata=myObsMD)"
     ],
     "language": "python",
     "metadata": {},
     "outputs": [],
     "prompt_number": 5
    },
    {
     "cell_type": "code",
     "collapsed": false,
     "input": [
      "gals = galCopy(db_obj=galDB, obs_metadata=myObsMD)\n",
      "gals.write_catalog('gals.dat')"
     ],
     "language": "python",
     "metadata": {},
     "outputs": [],
     "prompt_number": 6
    },
    {
     "cell_type": "markdown",
     "metadata": {},
     "source": [
      "The SNIaCatalog object has an attribute called suppressDimSN. If set to true, it does not add any SN that have peak dates outside a (can be changed) 100 day window surrounding the date of observation. "
     ]
    },
    {
     "cell_type": "code",
     "collapsed": false,
     "input": [
      "print catalog.suppressDimSN"
     ],
     "language": "python",
     "metadata": {},
     "outputs": [
      {
       "output_type": "stream",
       "stream": "stdout",
       "text": [
        "True\n"
       ]
      }
     ],
     "prompt_number": 7
    },
    {
     "cell_type": "code",
     "collapsed": false,
     "input": [
      "catalog.suppressDimSN = False"
     ],
     "language": "python",
     "metadata": {},
     "outputs": [],
     "prompt_number": 8
    },
    {
     "cell_type": "code",
     "collapsed": false,
     "input": [
      "print catalog.suppressDimSN"
     ],
     "language": "python",
     "metadata": {},
     "outputs": [
      {
       "output_type": "stream",
       "stream": "stdout",
       "text": [
        "False\n"
       ]
      }
     ],
     "prompt_number": 9
    },
    {
     "cell_type": "code",
     "collapsed": false,
     "input": [],
     "language": "python",
     "metadata": {},
     "outputs": []
    },
    {
     "cell_type": "code",
     "collapsed": false,
     "input": [
      "myObsMD.summary['site']='LSST'"
     ],
     "language": "python",
     "metadata": {},
     "outputs": [],
     "prompt_number": 12
    },
    {
     "cell_type": "code",
     "collapsed": false,
     "input": [
      "myObsMD.summary['site']"
     ],
     "language": "python",
     "metadata": {},
     "outputs": [
      {
       "ename": "KeyError",
       "evalue": "'site'",
       "output_type": "pyerr",
       "traceback": [
        "\u001b[0;31m---------------------------------------------------------------------------\u001b[0m\n\u001b[0;31mKeyError\u001b[0m                                  Traceback (most recent call last)",
        "\u001b[0;32m<ipython-input-13-e2d2461da6fe>\u001b[0m in \u001b[0;36m<module>\u001b[0;34m()\u001b[0m\n\u001b[0;32m----> 1\u001b[0;31m \u001b[0mmyObsMD\u001b[0m\u001b[0;34m.\u001b[0m\u001b[0msummary\u001b[0m\u001b[0;34m[\u001b[0m\u001b[0;34m'site'\u001b[0m\u001b[0;34m]\u001b[0m\u001b[0;34m\u001b[0m\u001b[0m\n\u001b[0m",
        "\u001b[0;31mKeyError\u001b[0m: 'site'"
       ]
      }
     ],
     "prompt_number": 13
    },
    {
     "cell_type": "code",
     "collapsed": false,
     "input": [
      "catalog.write_catalog('catalog_day.txt', write_metadata=True, meta_key='#@')"
     ],
     "language": "python",
     "metadata": {},
     "outputs": [
      {
       "output_type": "stream",
       "stream": "stdout",
       "text": [
        "-0.135768984485 -0.983344820268 563569.72838\n",
        "-0.0943937651536 0.782479279496 558289.153694\n",
        "-0.0917760977374 0.254892697782 574929.893029\n",
        "-0.274216307628 -1.0358357772 557639.135541\n",
        "0.0308151192615 -0.626545690492 582790.421062\n",
        "-0.0392584584323 0.341488150403 552093.83816\n",
        "0.0200376034434 0.691111931805 562796.612488\n",
        "0.129609307849 -1.32082731926 560718.112427\n",
        "-0.0680824175783 -0.54925892764 578348.620165\n",
        "-0.260954966448 -2.06902925932 577537.146125\n",
        "-0.135391080934 0.153824878126 553468.756396\n",
        "0.105471163235 0.200124162809 576552.153673\n",
        "-0.158847338462 -1.53506306394 552163.771622\n",
        "-0.0735768346012 0.95539074175 584253.978424\n",
        "0.0420693320769 -0.702263370034 581511.433382\n",
        "-0.0625811263866 -0.341079207903 576436.763643\n",
        "-0.0152230529226 1.17924935837 564434.372133\n",
        "0.136967073499 -0.0711487567288 552841.306769\n",
        "-0.011015038142 0.3824429084 586911.094003\n",
        "-0.0406783796828 0.280075004528 556741.564463\n",
        "-0.121450629911 0.339008675059 569265.003768\n",
        "0.0702083979742 -0.270559779716 554109.102998\n",
        "-0.138104966686 -0.353139960538 575319.504377\n",
        "0.111847033664 1.12634892505 557338.051574\n",
        "-0.0852024212473 -1.8847772845 553553.775037\n",
        "-0.0393010308516 1.63095754498 551794.584986\n",
        "-0.0655233214911 -0.202132002326 587580.682641\n",
        "0.00937220790189 -1.18281616768 584167.613225\n",
        "-0.0921202453236 0.787350171638 556394.636801\n",
        "-0.0614129976185 0.847828577296 586668.027597\n",
        "0.0220635122185 1.10095765937 557915.140955\n",
        "0.160971823432 1.56125197435 559465.783857\n",
        "0.0203762145195 0.668319431852 575151.364485\n",
        "0.0272635776295 1.08936804925 583234.715395\n",
        "0.0777380595682 -0.218609978819 568297.338855\n",
        "0.191087957603 -1.29336640917 567942.898595\n",
        "-0.145880647343 1.61754785655 568924.623138\n",
        "-0.0611681892418 1.40386145097 562217.667194\n",
        "0.0423555089675 -0.860638016994 571869.0975\n",
        "-0.130288790186 -0.0100577428183 565264.241638\n",
        "0.110481246835 0.284899231706 577490.30044\n",
        "0.107084790356 0.135661235591 559852.71296\n",
        "0.00387866729674 -0.123425361894 556633.307638\n",
        "-0.123711705055 -1.44933814182 570502.099453\n",
        "0.0672736506455 -0.482013733167 577451.232355\n",
        "0.175876284242 1.29733981968 586421.947594\n",
        "-0.101088369649 0.15951484155 556400.150753\n",
        "0.000168561183594 0.356783304726 552395.238452\n",
        "-0.0920989634203 -0.553917534455 561448.836119\n",
        "-0.0396124717622 -0.405139482891 564975.33845\n",
        "-0.0858038517629 0.447511592681 588137.263865\n",
        "-0.165176014307 1.09722366753 552193.789355\n",
        "-0.00116468854446 0.585956125649 581317.952282\n",
        "0.0212936564632 -0.00863077909819 576419.078925\n",
        "-0.0292712791616 -0.382860351776 584578.590301\n",
        "0.084687533306 -0.791795739562 555864.501783\n",
        "0.0685548863136 1.19153850332 579256.940461\n",
        "0.0255752654775 0.154827865383 571881.301702\n",
        "-0.0852460701363 -1.20834128661 562411.41315\n",
        "-0.126298424856 -1.11601803512 561541.521444\n",
        "-0.0446719015471 -1.07106014292 556033.970958\n",
        "-0.231819859659 -1.03621624552 561431.87074\n",
        "-0.0331828559184 -0.0335226638416 570192.864339\n",
        "-0.00310406694188 1.43859348965 573105.89632\n",
        "-0.204595032971 0.69302501211 569580.783426\n",
        "0.0809035093988 0.657189262731 585471.783146\n",
        "-0.11342432608 -1.64673356679 570801.636012\n",
        "0.123326101578 -0.183191107723 562959.498874\n",
        "-0.0483944339457 0.425209631303 576694.544082\n",
        "0.112912385048 -1.0750731354 569629.586534\n",
        "0.102163873581 1.10437344844 564816.147332\n",
        "-6.27533338422e-05 -0.622751519089 569965.586398\n",
        "-0.211839632703 -0.725160048858 577457.149349\n",
        "-0.153978796649 -1.92706562476 573378.625946\n",
        "0.0750681829616 -0.0801859365518 572191.009851\n",
        "0.052640842578 0.417700780776 581988.669764\n",
        "-0.0127536167714 0.612230869602 583911.630545\n",
        "0.00524169642799 2.39985982639 581584.445975\n",
        "0.0904186572844 -1.90464100506 569188.831144\n",
        "0.0123150903343"
       ]
      },
      {
       "output_type": "stream",
       "stream": "stdout",
       "text": [
        " -0.488138698408 552628.200194\n",
        "-0.105445313545 1.04084242175 559972.743004\n",
        "0.0582958247697 -0.281986863103 570984.076056\n",
        "-0.0657630684413 -0.690972703064 566779.896311\n",
        "0.213050112287 -1.65892102808 554291.714451\n",
        "-0.0693309854586 0.641137746986 573123.97225\n",
        "-0.0811377167563 -0.764996426514 581819.909021\n",
        "-0.0474912988031 -0.512751890256 562403.145426\n",
        "-0.0375208136628 1.24801894551 554090.168041\n",
        "-0.178869965484 -0.29391689581 552272.787053\n",
        "-0.0555915513364 1.10797467637 574784.71669\n",
        "-0.0434237932253 1.12864058671 565409.311113\n",
        "0.0193334093122 -0.111559095674 585445.691339\n",
        "0.0923471747162 0.0328844946968 584953.779019\n",
        "0.000789018847154 -0.320227784482 587828.829343\n",
        "0.00793641490399 -0.598864400629 586014.205016\n",
        "0.0358110143984 0.0848915752024 570085.888023\n",
        "0.304576067585 -0.33404581666 569231.668227\n",
        "0.00489436276075 -0.619756401083 565115.201095\n",
        "-0.0882558494301 -1.19898814731 571430.412795\n",
        "-0.0808380210971 -1.17909925745 583716.846963\n",
        "0.0210866502216 0.118714814772 560204.949652\n",
        "0.0918167406885 0.194053907153 583966.32597\n",
        "-0.019722180365 0.995426148754 554665.144238\n",
        "0.0415545771432 1.36808889913 582187.804581\n",
        "0.10795771278 -0.92919685128 586364.405688\n",
        "0.0116655866903 -1.46745662474 576263.460759\n",
        "0.0762692695157 -0.747324440239 555277.160287\n",
        "-0.0117061728207 2.20423104591 555542.172119\n",
        "-0.148564332944 0.5367428653 582272.169407\n",
        "-0.074117381153 -1.85998199751 578014.043435\n",
        "0.0966122045729 0.150544160805 551821.107978\n",
        "0.109686358144 0.0904771362156 584455.67295\n",
        "-0.0633075420658 0.547150205095 585843.210064\n",
        "-0.108637002893 -1.71382570146 585232.406135\n",
        "-0.0239146026679 1.3747144741 570740.780703\n",
        "-0.0472020583709 -1.21989550657 585049.959203\n",
        "0.0998502421116 1.54757285407 578494.703785\n",
        "0.0866806695656 -0.411940129127 572906.446651\n",
        "0.00722985585245 -1.08099176301 573609.969867\n",
        "0.0896309030175 -2.09666036034 553791.761433\n",
        "-0.0788082270152 1.94823607926 556550.486602\n",
        "-0.0672181850666 0.32034452635 579510.870645\n",
        "-0.0911822263072 -1.73601774828 557018.595827\n",
        "-0.142739736113 -0.738758086769 585349.008521\n",
        "-0.0960333901079 0.0181711276028 570222.254943\n",
        "-0.23185397949 1.55253797045 572764.953618\n",
        "-0.167537717665 -0.385884012793 576170.571091\n",
        "0.0296598456189 0.199510913522 583566.247964\n",
        "0.0193555463893 -1.77639832535 578180.131946\n",
        "0.13813707903 0.0956444387915 573744.144492\n",
        "0.117534040697 -0.214615009118 552321.396465\n",
        "-0.0612082174402 -0.733220969095 586040.704822\n",
        "0.0433382218874 -2.28658240656 578939.382341\n",
        "0.0381400995206 1.96354651755 571021.539301\n",
        "0.0148410882568 0.306408690994 575371.692592\n",
        "0.198464799975 1.28642313652 587392.239849\n",
        "0.0512414690724 -1.27417958728 561554.043986\n",
        "0.132814961347 -1.07324247986 560326.700974\n",
        "0.129781455114 -0.400939133878 579428.27121\n",
        "-0.155048088315 0.0137118013597 568355.985568\n",
        "-0.0769506200246 0.899648451465 576060.367205\n",
        "0.0526185531374 0.489586911039 564850.435988\n",
        "0.178143977106 -0.56031212355 558702.677633\n",
        "-0.0628986543393 -1.06967729987 583445.655965\n",
        "0.0640518474208 2.25059167975 552587.260228\n",
        "-0.164635515504 0.0057444922438 587911.332621\n",
        "0.126550639233 0.258681610891 574499.958411\n",
        "0.00518896638576 -1.39650332123 585184.93446\n",
        "0.0445241462047 -0.414618612173 563688.82551\n",
        "0.00594291048246 -1.34195550275 562154.66405\n",
        "-0.115841468365 -1.71233051522 587760.816294\n",
        "0.0187764360103 -0.426016887902 582456.782307\n",
        "-0.0469475471017 -0.513027664698 586695.512638\n",
        "0.0907605111196 -0.317614604932 572960.260694\n",
        "0.0306447680831"
       ]
      },
      {
       "output_type": "stream",
       "stream": "stdout",
       "text": [
        " -0.561775567873 588215.213578\n",
        "0.00135398642347 -0.169679444046 576604.919817\n",
        "-0.0182668220233 0.1112584652 553405.037792\n",
        "0.192187067042 1.24695614564 569392.761255\n",
        "-0.139679298215 -0.953410866301 570948.513802\n",
        "-0.00293265264472 -0.29185405472 583365.841609\n",
        "-0.023811874711 -0.650209823291 559605.478036\n",
        "-0.0899409074256 -1.86652760855 570842.426768\n",
        "0.0951349837626 -0.177879659221 587719.408804\n",
        "-0.0668299833459 -0.582270801098 575420.457995\n",
        "0.0807491683772 1.19270651112 567202.900296\n",
        "-0.0565553448758 1.0116889229 578509.73632\n",
        "-0.154250752633 0.698687159942 580815.863807\n",
        "0.00129383428119 0.610247470829 554210.602359\n",
        "-0.109774536558 -0.78357638823 583941.501203\n",
        "-0.0519348985415 0.605989601993 555513.25562\n",
        "0.0822109014141 -1.89141247172 557749.284373\n",
        "-0.0233869249074 0.331388381688 585071.739135\n",
        "0.0201350884031 -0.889964920037 565865.788073\n",
        "-0.234422858735 0.696591717081 553654.428045\n",
        "0.0229381828454 -1.43329331773 579984.147047\n",
        "-0.0411061225894 0.861283216865 580050.288702\n",
        "0.191117181129 -0.52644315836 575084.203859\n",
        "-0.110387609853 -0.482641161128 556931.301992\n",
        "0.103687696758 -0.755790707674 556853.649298\n",
        "-0.0157491666469 0.395610581297 577988.062534\n",
        "0.0618274306604 1.6330551134 574469.461447\n",
        "-0.0535129800016 -1.17654690568 586737.808134\n",
        "0.00148984037857 1.94437542482 586907.460396\n",
        "-0.0483613192313 -0.179643168794 574429.204503\n",
        "-0.136455255888 0.844997501328 576896.167813\n",
        "0.0265156658267 -1.02523338654 585845.366975\n",
        "0.0407859206427 0.270485192494 575046.145815\n",
        "0.00686141896031 -0.918409978782 585848.015063\n",
        "0.0644304284304 -0.774664974734 554854.730605\n",
        "-0.0591268681783 1.25490605135 552908.333614\n",
        "0.0720629086461 -0.686255323047 572231.530507\n",
        "-0.0857080013898 -1.2349173916 585648.054723\n",
        "-0.0931119910534 0.311817347362 554686.802011\n",
        "-0.171857937968 0.567840768478 564406.998248\n",
        "0.196066125762 1.67954155655 577327.870996\n",
        "0.111254376192 1.2746998531 561988.534637\n",
        "-0.147347257067 0.650943953958 561533.169083\n",
        "-0.266454124857 -1.8349909712 587790.327842\n",
        "-0.0993297120465 -1.15456480648 551881.351753\n",
        "0.130159861154 -0.0323459437341 557716.984348\n",
        "0.0411649726513 -0.788124061772 552967.667469\n",
        "0.0206988383288 0.948734914061 583805.133457\n",
        "-0.185865555994 0.897631408379 579096.493909\n",
        "-0.000886060482481 -0.281414010326 563294.887597\n",
        "-0.071435580927 -0.281873586181 567006.351308\n",
        "0.0565754795715 -2.27003642507 581920.227174\n",
        "-0.0551126601732 -1.16474433232 571906.44606\n",
        "0.03254243637 -0.273313491973 557957.574832\n",
        "0.0090128561955 -0.954950594541 565763.901529\n",
        "-0.0626732942231 0.0270625806358 573908.46395\n",
        "0.0996490634727 -1.1758836302 554521.045483\n",
        "-0.00890828581533 0.8716551614 562133.8206\n",
        "0.154036910805 -0.884291078957 586523.947387\n",
        "-0.228965168057 0.954501801544 582116.680611\n",
        "0.0598755348593 -0.497167361195 561158.273686\n",
        "-0.177978651034 0.265177109134 567189.406137\n",
        "-0.305045161471 1.59965521674 575231.33874\n",
        "0.00972942212556 -0.141896384939 563874.12961\n",
        "0.0446114711315 -0.122004322086 578460.866103\n",
        "0.117334593765 1.48402202115 558618.189568\n",
        "0.0380205742959 -0.819788639473 564921.200269\n",
        "0.122524241525 0.311946631728 581568.108676\n",
        "0.117673994359 1.42166784524 583167.976576\n",
        "-0.118183726929 1.72573962515 563198.45261\n",
        "-0.152552526519 0.271408603617 554892.303719\n",
        "0.0741125138382 0.18696070004 557290.967262\n",
        "0.112245801581 0.639433075478 578873.194185\n",
        "-0.0758329981306 0.638349530243 553541.665753\n",
        "-0.0671898509594 -0.350523573268 554282.608546\n",
        "-0.286400526134 1.39765574965 554936.458413\n",
        "-0.0636703008526 1.43691330742 559792.975447\n",
        "0.0135562973329 -0.0152392109281 571042.23159\n",
        "-0.22115847791 -1.51605965767 563886.891469\n",
        "-0.062504514709 1.53569122297 583073.958411\n",
        "-0.0716006642981"
       ]
      },
      {
       "output_type": "stream",
       "stream": "stdout",
       "text": [
        " -0.657077937211 564897.012175\n",
        "-0.0260180621399 -0.956665819865 582322.487458\n",
        "-0.131291673102 -0.818468085903 564010.838658\n",
        "0.238190693812 0.987879518902 585654.985512\n",
        "-0.202574100973 -1.34322256601 564422.724847\n",
        "0.208909215016 0.215300814496 571870.719057\n",
        "0.0529848780805 1.36363607551 559463.427015\n",
        "-0.0586413523324 -0.0435009314152 587719.544112\n",
        "-0.0317254222017 -0.529478021073 574649.816011\n",
        "0.0775281853807 -0.767433955703 568125.713496\n",
        "-0.146576471164 -1.37089970475 584006.889519\n",
        "0.0483174746699 1.42061540895 574693.005724\n",
        "-0.0926710347513 0.579918244622 553455.057951\n",
        "0.190987846303 0.4053743209 586757.411024\n",
        "-0.0385135698833 0.142301294863 559651.710334\n",
        "0.11131734844 0.703801931751 555544.998734\n",
        "-0.0171454465999 0.597471185826 555152.004386\n",
        "0.136152263848 2.75454986429 573134.228349\n",
        "0.0572220000284 -0.490941678115 579129.526974\n",
        "0.00273303742675 -0.603846611777 553648.811365\n",
        "-0.107850322567 -0.834425236743 587789.4526\n",
        "-0.208866351841 0.765239245572 553787.251037\n",
        "0.128516964569 1.41434446574 584229.481054\n",
        "0.12331256793 1.29341917863 573615.290501\n",
        "0.0851668722739 -0.177704907563 586319.425399\n",
        "0.105058620528 -1.04181413539 581451.416609\n",
        "0.00762582430902 0.233784506461 573555.867665\n",
        "0.0904009453162 -1.06910053968 569557.653418\n",
        "0.0437074477998 1.81462756728 587814.784453\n",
        "-0.122864288358 1.63219258878 563525.269419\n",
        "0.000939257149875 -0.214262915749 582046.440067\n",
        "0.0573250433782 1.06612286632 581888.046014\n",
        "-0.00427994544512 -0.430175282669 574600.980168\n",
        "0.0128326061043 -0.622756890386 578160.141803\n",
        "0.00646235530871 0.848386727846 577419.745606\n",
        "0.158432693177 -1.69444086984 558574.080531\n",
        "-0.187067945419 -0.085710831601 564115.279247\n",
        "-0.15731332228 -0.980241430319 566166.27781\n",
        "0.168349025977 -0.275769092818 552231.123511\n",
        "-0.0138659548657 -0.0414341098309 553781.717548\n",
        "-0.0991126301885 -1.07480915453 566939.250681\n",
        "0.0641424403269 -0.510781489003 563829.638887\n",
        "-0.0128100157811 -0.729900327506 565221.120447\n",
        "0.190952208954 1.0190341352 582141.018104\n",
        "0.136683911263 0.301021758477 582386.853893\n",
        "-0.0481725201794 -0.483665788885 554366.698661\n",
        "-0.0549793698937 -1.07481017026 557190.698493\n",
        "-0.0451783938697 1.72387113416 582553.329192\n",
        "0.0933861179406 0.512361164588 569918.887727\n",
        "0.096482161362 0.326746401438 561705.327908\n",
        "0.0984708884679 -0.36312964314 563151.606482\n",
        "-0.104862137154 -0.0581346857187 554445.430276\n",
        "-0.128753195361 -0.476875508359 573606.661143\n",
        "-0.219068195697 -0.435180678723 559529.829182\n",
        "-0.194889709766 0.161156049034 557458.73272\n",
        "0.116708459286 -2.76236781932 587694.028725\n",
        "-0.0853932054371 -0.747874231122 556764.538973\n",
        "-0.0355911504853 1.45711448664 555182.373465\n",
        "0.0740605971838 -1.06702229949 560822.044069\n",
        "-0.029494506705 0.359775370986 555353.963998\n",
        "0.0289134227399 -1.15580337257 586997.988539\n",
        "-0.0938197644808 -1.23420678482 585148.652912\n",
        "0.0992675255823 -0.812932647041 564871.646321\n",
        "-0.0825031146978 0.118574476984 586392.303332\n",
        "-0.00514863282505 2.25597251485 578160.411963\n",
        "0.0493449001316 -0.472475970981 581328.350167\n",
        "-0.0837675806326 1.39418740518 571030.336525\n",
        "0.0614890279088 -0.67287759719 560444.452868\n",
        "0.0394520311891 -0.411406499846 561514.358368\n",
        "0.0316031412657 -2.28236792394 572040.487696\n",
        "-0.00743463213527 -1.17836274421 577460.543717\n",
        "0.117857969713 0.88886017596 571181.404145\n",
        "0.0707195970587 0.168503548246 575271.203709\n",
        "0.168431874789 0.902425541441 557952.92317\n",
        "0.284182711198 -0.184171364382 556213.841137\n",
        "0.00818007075448 0.63026866849 567376.672315\n",
        "0.0437642572017"
       ]
      },
      {
       "output_type": "stream",
       "stream": "stdout",
       "text": [
        " -0.387583112875 557011.18008\n",
        "0.0766689989015 1.53062978889 584798.755624\n",
        "0.0260406000394 0.117628584302 578076.718176\n",
        "-0.0238836400368 0.361062301341 575794.124375\n",
        "-0.119975034224 -1.57740024619 574485.879463\n",
        "0.0249175197062 -0.270796036305 563337.284319\n",
        "-0.0454363732401 0.37517221534 562052.761196\n",
        "-0.183098905266 -0.822757275072 575546.226674\n",
        "-0.00689309701772 1.06301563478 562002.134817\n",
        "0.0298926166269 1.56130697536 583593.77827\n",
        "-0.13921355042 0.0530420497002 555201.803977\n",
        "-0.0636768377115 -0.517486860639 579684.422221\n",
        "0.083298804042 -1.89649789063 568671.592146\n",
        "-0.0418505292462 1.90470282252 563260.511189\n",
        "-0.151131940507 0.337542862858 574728.427846\n",
        "-0.195333804762 1.04294179368 580935.403148\n",
        "0.225544902855 -0.664072557359 584680.259558\n",
        "-0.143840725848 0.406587187421 569475.219772\n",
        "-0.0697259700254 0.437566006549 559246.680473\n",
        "-0.164845547347 0.920106673528 565623.891658\n",
        "-0.0492417548751 -0.244786466426 560356.278651\n",
        "0.00483181010428 -0.787174861561 560543.279251\n",
        "-0.0557737705966 0.618066586041 583988.188025\n",
        "-0.08071730966 0.910510969171 568050.137022\n",
        "-0.0464417214407 -1.18459361806 557571.295367\n",
        "0.0299108029953 0.351294446921 577123.481478\n",
        "0.0143119695706 0.61363408544 569354.273349\n",
        "-0.0821209451317 0.278708707859 553387.436692\n",
        "-0.0653104781502 -0.181811723098 575816.209928\n",
        "0.0489917185567 2.7784967722 587140.011084\n",
        "0.151212760252 0.799557388844 563177.74738\n",
        "0.169434636735 0.363236176861 573500.259331\n",
        "0.143288279594 -1.26829614232 567571.246811\n",
        "-0.0987639979969 1.05975419528 572121.432241\n",
        "-0.0503484325593 -0.287481971346 579736.54494\n",
        "0.0641758276458 -1.35357659882 555521.73299\n",
        "-0.021881741423 1.01082501955 560228.165974\n",
        "-0.00534832521243 -0.46528197412 562984.419715\n",
        "-0.100718635709 -1.65508046069 580456.90788\n",
        "-0.106308426986 0.526021238178 553391.95961\n",
        "0.0688550687058 0.742616469539 560565.966641\n",
        "0.130603434121 -0.871511036931 558307.974602\n",
        "-0.0126489889089 -0.854693589039 571064.89145\n",
        "-0.0775242696216 0.836631303314 572876.686832\n",
        "-0.0401662402444 -0.945823058867 578261.989425\n",
        "0.0655260669121 -0.717770898624 557825.219336\n",
        "0.072718169137 -1.45399309439 565367.927225\n",
        "-0.256418735296 0.77986578444 567769.848806\n",
        "0.0543833825397 0.00625850013113 587714.853649\n",
        "0.132780089447 -0.832552866807 575995.142795\n",
        "-0.0692365720211 -1.25635922075 582677.293828\n",
        "0.162001645922 0.713859537632 567306.548997\n",
        "-0.0805005298292 -1.17832081585 576562.179037\n",
        "0.109933755817 0.301357798868 555851.366741\n",
        "0.0760781839522 -1.07516900441 582455.618422\n",
        "0.0437148808839 -0.340319403802 557991.010516\n",
        "0.0400737413388 0.340431361533 561872.641258\n",
        "-0.0114068992819 1.05399768592 557026.613646\n",
        "0.133333495818 0.547713026545 555118.50555\n",
        "0.112773010068 1.96585660868 580752.561914\n",
        "0.0378964935027 -0.335952131225 555861.632722\n",
        "-0.212373308149 -0.639960687062 567225.732863\n",
        "-0.0259655925791 -1.09468432277 579694.256331\n",
        "-0.0368350198659 0.779138427899 570041.556888\n",
        "0.0131841220603 -0.540842734082 579475.657837\n",
        "0.165699726896 -0.320181978308 573907.314307\n",
        "-0.0715148719506 -0.304079214829 583866.154783\n",
        "-0.122216863019 -0.917064542366 558138.407994\n",
        "-0.0641442011855 -0.156938248677 561564.461142\n",
        "0.0873338711132 1.2384044453 575403.661072\n",
        "-0.00836055623104 1.77468421676 574545.403935\n",
        "-0.139981628087 -3.20643415197 567163.128545\n",
        "-0.106368432408"
       ]
      },
      {
       "output_type": "stream",
       "stream": "stdout",
       "text": [
        " 1.04440363716 571642.193966\n",
        "-0.0842987717781 -0.247574954664 579426.851156\n",
        "0.0877727982018 0.657818358202 574088.55917\n",
        "0.176590117256 0.508115904932 552787.406658\n",
        "3.2568767843e-05 -0.219281499528 581796.266979\n",
        "0.0527366752226 0.148463419486 555675.663514\n",
        "0.0377731295942 1.49863031154 560578.94009\n",
        "-0.00419822746043 -1.27328012268 572132.549755\n",
        "0.00492365314126 0.928802149078 574562.143976\n",
        "-0.00303666532873 -0.550474346434 575807.807318\n",
        "0.00229907879298 0.346104767789 558481.323949\n",
        "-0.0187471140356 -0.93964140262 587174.697401\n",
        "-0.0582775145718 -0.694307814668 569296.200039\n",
        "-0.0530325436651 -0.825427174511 581175.568459\n",
        "-0.171611148091 0.960346454331 562794.277754\n",
        "0.0592267883372 -0.353677564096 559426.420939\n",
        "-0.0595301619033 2.71643635761 571910.49266\n",
        "-0.0819441986575 -0.589310158455 576856.226873\n",
        "-0.0537786121282 0.813191428375 580226.408817\n",
        "-0.0702625417192 1.13108511944 585286.782506\n",
        "0.0620898078707 -0.833913458557 566416.683906\n",
        "-0.00994966975009 0.509271264507 558184.927334\n",
        "0.0363768364012 -0.118776380453 583091.860754\n",
        "0.175137196126 0.706481523347 574944.397343\n",
        "-0.191599723158 1.14096131329 571876.507803\n",
        "-0.084370180425 -1.10718907897 574356.113926\n",
        "0.109412773486 0.181971872921 580068.587933\n",
        "0.174028268531 0.583555118746 564440.917415\n",
        "0.0732079368702 -0.737021153868 563827.151102\n",
        "-0.0256657327313 -0.597356550233 565875.492707\n",
        "-0.0280590130006 1.49046054066 570003.818588\n",
        "-0.0398165632069 1.30516664052 563415.695277\n",
        "-0.0900417213168 -1.93084120463 579259.640186\n",
        "0.055671817566 0.540803785817 556213.232922\n",
        "-0.140460001104 -0.0950562859623 569025.52228\n",
        "-0.203092049524 -0.196366700109 560378.433433\n",
        "0.0434603920345 0.881160987087 557342.029839\n",
        "0.0435073579685 -0.828521521851 587066.501174\n",
        "-0.0894631097416 -0.815525964263 588138.195841\n",
        "-0.099991239628 -0.210353934372 562117.949741\n",
        "-0.0444736573339 1.31060579166 585677.229178\n",
        "0.00279099627875 -0.236607711499 579927.61938\n",
        "0.0879257373339 -0.978551925245 567830.055656\n",
        "0.159574752579 -1.52516478664 555650.670047\n",
        "0.0372717203954 -0.0814370226692 573639.49168\n",
        "-0.0453341582618 -0.312988040041 552477.910722\n",
        "0.100488424052 1.5180107429 568043.527809\n",
        "-0.0207958417812 -0.163188894603 553148.89042\n",
        "0.0217023436802 -0.230240867743 587184.683227\n",
        "0.142333285224 1.11958474523 560688.512572\n",
        "-0.0429975997302 -0.938595598709 571431.497573\n",
        "-0.153679074587 0.0312383291436 564384.059823\n",
        "-0.0360261260848 0.354497822858 579369.230021\n",
        "-0.0298712142968 -1.22410137852 554986.49916\n",
        "-0.0941626235141 -0.485416480854 559341.232832\n",
        "0.0556203235513 0.0666711665163 561825.733822\n",
        "0.232837586877 0.261329791088 583216.531573\n",
        "-0.0124406194379 0.515349053015 563924.535044\n",
        "-0.00341212351525 0.282391863867 552592.694638\n",
        "-0.161983371763 -0.895159350083 570091.475224\n",
        "-0.0257596683753 0.317148476761 573205.664487\n",
        "0.0417653256922 0.247656836868 566172.44448\n",
        "-0.0678273672287 0.352927281348 560190.347997\n",
        "-0.0826675345559 -0.178506182636 572383.126433\n",
        "-0.00219085282753 0.410236455019 584029.472171\n",
        "-0.117422366062 0.688734405634 580388.53323\n",
        "0.12017951636 -0.663418210124 560186.031882\n",
        "-0.0167436471489 0.00842205571277 575446.323745\n",
        "0.0304975150239 -0.102815245567 562798.938415\n",
        "-0.0291596733875 -0.0367732423465 575542.888064\n",
        "-0.120758041677 -0.651374426115 562274.984528\n",
        "0.0459040393488 -1.76193630067 586359.619464\n",
        "-0.0783161347569 -0.195227037469 558706.424763\n",
        "-0.0823814847577 -0.588755041272 564900.741934\n",
        "-0.128316897332 -0.960758126474 579623.003755\n",
        "-0.294690665097 -1.64045689174 572497.237596\n",
        "0.0529580482472 -0.986949309359 577102.079994\n",
        "0.0374669317126 1.41027598471 572204.217279\n",
        "0.0275166868262 0.403280051996 582556.576046\n",
        "0.112178039634 0.930049014785 557640.714265\n",
        "0.261747727077 -0.888820959867 574456.2466\n",
        "-0.153306731377"
       ]
      },
      {
       "output_type": "stream",
       "stream": "stdout",
       "text": [
        " -0.172052244947 556704.152727\n",
        "-0.0175051392914 1.03393779182 563118.571052\n",
        "0.0267235197861 -2.30938374048 567403.806294\n",
        "-0.208553724216 0.581892718279 585954.357869\n",
        "0.115154098236 0.107046186032 563421.209804\n",
        "0.227385672604 1.89539780744 585411.418818\n",
        "-0.180414435793 -0.997833871866 583416.021418\n",
        "-0.00437441372654 -0.0477785428456 568547.726039\n",
        "0.0254421555587 0.225065284151 572803.22552\n",
        "0.106961971401 -0.0288585670539 576499.705729\n",
        "0.079971173352 -1.15606832174 567009.866046\n",
        "0.003806045641 -0.718080440684 567693.490134\n",
        "-0.14495317775 -1.97050256857 565687.831345\n",
        "-0.0586096851642 0.70921312322 576805.695516\n",
        "-0.00827175405733 -3.12947091972 577148.172635\n",
        "-0.117054990877 0.23470968537 578877.761885\n",
        "-0.154929286108 0.619072373994 572714.853855\n",
        "-0.0386967283719 0.894777540043 578179.239998\n",
        "-0.12664542491 0.0986210981117 560706.512974\n",
        "0.0522518064058 -0.81772415647 558832.641729\n",
        "-0.00445058095141 0.915507049222 568838.602843\n",
        "-0.0672702465128 -1.69940844096 575408.956943\n",
        "-0.00257204612994 -0.673095854232 560168.735428\n",
        "0.0056910899091 1.26175215408 561634.694243\n",
        "-0.0820789890804 0.0129063086807 584594.143828\n",
        "0.221599722217 0.0838112550018 568949.94971\n",
        "-0.14159077422 0.424137058074 568335.613993\n",
        "-0.0986010532733 -1.0401116095 582482.596185\n",
        "0.0290702796734 -0.016547860255 579704.216593\n",
        "0.0664180847138 -0.336428291414 572847.652994\n",
        "0.0878343042718 1.66077964968 575878.555896\n",
        "-0.00540688026208 1.01578501541 555975.007458\n",
        "-0.131458371061 0.0434470734649 578467.310679\n",
        "-0.0488454807134 1.0855101127 579572.501801\n",
        "0.0985463774966 -0.87132292823 554367.164865\n",
        "-0.189820529011 -0.641804683124 584258.834873\n",
        "0.0465295202613 -1.17242612278 561692.270543\n",
        "0.0110503003699 1.08096081055 569448.476361\n",
        "-0.0254029269935 -1.60216747578 565017.970662\n",
        "0.0623829415574 -0.845427769102 584743.648154\n",
        "0.0481439216432 -1.01655144923 578744.383534\n",
        "-0.0942101745325 1.16603077312 562948.715896\n",
        "-0.0460556648096 -0.126025634763 554952.155558\n",
        "0.00983105529242 -2.43999924853 561684.426642\n",
        "0.0103186318406 0.694724465841 553689.910416\n",
        "-0.0510349226823 -0.141044780122 575201.82925\n",
        "-0.119965074236 0.218717812351 578659.654268\n",
        "0.0695236660873 -0.163207702368 586462.965589\n",
        "-0.00541344071026 -2.08743957169 578258.961335\n",
        "0.0379597603526 0.234081874511 569756.577308\n",
        "0.0970711528517 0.239635982872 585432.513357\n",
        "0.180282867052 -1.07928125728 574798.805708\n",
        "-0.0408105444464 -0.302195069969 553931.191932\n",
        "0.0914086549315 -0.123162475238 572716.84655\n",
        "-0.0161087843011 -1.54375663683 566277.950097\n",
        "-0.0359417519987 -1.5547116084 566176.374372\n",
        "-0.086271039741 0.477266781221 587664.010663\n",
        "0.102280869271 -0.84269362219 585331.937683\n",
        "0.104050450521 1.11419733336 566289.781885\n",
        "0.000721968919725 1.1911601413 574061.230575\n",
        "0.0566897793873 -1.38492046181 557596.26897\n",
        "0.139070590619 1.47873093349 581757.868771\n",
        "-0.0948317901823 -0.129110733564 565123.579888\n",
        "-0.180914055416 1.18117596937 558710.650508\n",
        "0.0264695554109 -1.23160079278 586218.40139\n",
        "0.155721249726 0.082062288573 572981.692566\n",
        "-0.0455620185838 -1.08171141283 558408.153315\n",
        "0.113414040935 -1.41831239394 583869.962478\n",
        "0.248966759469 0.0838291000608 587431.226045\n",
        "0.0807719427998 0.368005110667 552582.412159\n",
        "0.220979298975 0.201443772963 582796.712359\n",
        "0.105252654795 -0.117503183932 559445.714325\n",
        "-0.0592789324932"
       ]
      },
      {
       "output_type": "stream",
       "stream": "stdout",
       "text": [
        " -0.710196831693 562184.995437\n",
        "0.175514681936 1.02808270476 561606.023072\n",
        "-0.119781348219 0.475991366324 562893.638932\n",
        "-0.0916450191376 -1.32228810813 579797.203581\n",
        "-0.0152294663989 0.361190385106 557589.323075\n",
        "-0.0818412632409 1.51140412611 552733.664576\n",
        "-0.246935214208 -0.497018593499 564485.79867\n",
        "0.130036205429 -0.660189859621 579216.394862\n",
        "-0.0682949752885 -0.60183105036 556984.451715\n",
        "0.00234387625001 0.969095451402 580096.850328\n",
        "-0.204008802222 0.88207105865 553636.030791\n",
        "-0.210752936342 0.577670417318 569600.156751\n",
        "0.0618980340685 -0.76478242526 561525.948658\n",
        "-0.193220941936 0.633012903318 560160.215901\n",
        "-0.138276596341 0.506891149881 560966.660852\n",
        "0.102030023212 -0.470692870226 562819.846608\n",
        "-0.03156037936 -0.793503505908 555907.472441\n",
        "0.142480906072 1.29123817927 573007.284501\n",
        "-0.00203422273771 -1.39574974334 574070.121265\n",
        "0.0306077297386 0.437894706293 578959.387281\n",
        "-0.0435708742269 -0.825032332919 575403.34648\n",
        "-0.0566268073409 -0.478691047395 572947.395523\n",
        "0.123839317057 0.134568272958 575109.150149\n",
        "0.0135239503654 -0.768038958794 585838.522362\n",
        "-0.0635279280226 -2.16416060283 554839.432468\n",
        "0.0719550301012 -0.629936679927 562786.362722\n",
        "0.094560004767 -0.359704782053 573255.739437\n",
        "-0.152603333088 0.314377660484 554830.867141\n",
        "-0.147656250316 -0.361801978331 575242.13313\n",
        "0.0271813377669 -0.821321389931 562229.875157\n",
        "-0.0263868566093 1.26525188989 573605.76418\n",
        "0.000486697659606 -0.984623603 572793.063016\n",
        "0.0866379160863 0.23470415113 553575.745735\n",
        "0.0719520316075 0.247479578413 576455.104666\n",
        "-0.00260957782813 0.34159046701 584603.517537\n",
        "0.0309471211767 -1.47405162447 586765.185151\n",
        "0.00795343566797 -1.0311592674 562547.036639\n",
        "0.241146165434 -0.351534357539 558322.754649\n",
        "-0.0632311201542 -0.491839862897 555113.750702\n",
        "-0.105325875442 0.733745544759 565713.010806\n",
        "0.0703660111594 -0.518298031892 572002.391974\n",
        "0.0360778925897 0.547330103155 579436.526871\n",
        "0.110622025907 -1.6032064162 557949.89248\n",
        "0.0164797144785 -0.700390023679 579778.830149\n",
        "-0.0600702076114 -1.73349474682 584693.512296\n",
        "-0.0475857722036 -1.68226794728 557532.820003\n",
        "0.10810999441 -0.0435489168154 556541.434358\n",
        "-0.0883355077554 -0.662531707668 579801.378786\n",
        "0.104111830599 0.42007037486 571455.118431\n",
        "0.0107370541137 0.407721203092 587654.391138\n",
        "0.0489016989504 1.12494620882 552256.94907\n",
        "0.0140878056573 -0.214531949219 553219.366513\n",
        "0.0032053713279 0.792781089547 587599.673847\n",
        "0.072492768667 -0.425633376495 564286.759131\n",
        "0.12897211603 1.4103459021 574041.292184\n",
        "0.0419129629221 -0.845992436038 571019.719775\n",
        "0.0330506419977 1.88687834139 572482.855511\n",
        "0.148316235001 -0.271431219944 575987.158076\n",
        "-0.10681684623 -0.33077217136 569579.120944\n",
        "-0.088084772126 1.93779055444 564526.853839\n",
        "0.0471394864901 0.497570446722 566866.000182\n",
        "-0.0235480921442 -1.373142854 570837.9524\n",
        "-0.0159975824572 -1.70871438991 582069.206709\n",
        "0.0365235129754 -1.34399336737 574439.81566\n",
        "-0.00710411955957 -0.625019835786 565845.775159\n",
        "-0.101740996307 -1.66717940124 563083.110212\n",
        "0.0961523612514 -1.35936510441 552912.58778\n",
        "0.0421737489123 1.11224038759 576526.525681\n",
        "-0.104303393079"
       ]
      },
      {
       "output_type": "stream",
       "stream": "stderr",
       "text": [
        "/Users/rbiswas/src/LSST/sims_photutils/python/lsst/sims/photUtils/Sed.py:1214: RuntimeWarning: divide by zero encountered in log10\n",
        "  mags = -2.5*numpy.log10(fluxes) - self.zp\n",
        "/Users/rbiswas/src/LSST/sims_photutils/python/lsst/sims/photUtils/Sed.py:1214: RuntimeWarning: invalid value encountered in log10\n",
        "  mags = -2.5*numpy.log10(fluxes) - self.zp\n"
       ]
      },
      {
       "output_type": "stream",
       "stream": "stdout",
       "text": [
        " -2.25586145466 560907.557066\n",
        "-0.0145328491444 -0.306210526796 562824.807257\n",
        "0.186128357567 -1.72858564966 568489.345118\n",
        "0.0835574168786 -0.766328990083 558230.510773\n",
        "-0.0132791823268 -0.821684679085 562527.979393\n",
        "-0.0950187672869 1.30989720765 581898.898793\n",
        "-0.249154099325 -1.10784839699 558680.238443\n",
        "0.00424028666942 -0.754696239681 587874.88018\n",
        "-0.0655107861162 -0.58103325459 560402.506298\n",
        "-0.104459566502 0.129668269601 588118.004727\n",
        "-0.0752958536348 0.561854954831 561877.057467\n",
        "0.219040026843 -0.740339891165 570229.861046\n",
        "0.122826796084 -0.631266752629 572665.155174\n"
       ]
      }
     ],
     "prompt_number": 14
    },
    {
     "cell_type": "code",
     "collapsed": false,
     "input": [
      "import numpy as np"
     ],
     "language": "python",
     "metadata": {},
     "outputs": [],
     "prompt_number": 15
    },
    {
     "cell_type": "code",
     "collapsed": false,
     "input": [
      "galcat = np.loadtxt('gals.dat', delimiter=',')"
     ],
     "language": "python",
     "metadata": {},
     "outputs": [],
     "prompt_number": 23
    },
    {
     "cell_type": "code",
     "collapsed": false,
     "input": [
      "galcat[:, 3]"
     ],
     "language": "python",
     "metadata": {},
     "outputs": [
      {
       "metadata": {},
       "output_type": "pyout",
       "prompt_number": 24,
       "text": [
        "array([ 2.0346,  0.7239,  2.103 ,  2.686 ,  1.7676,  2.0564,  2.1509,\n",
        "        1.4216,  2.2466,  0.4082,  0.803 ,  1.2535,  0.2693,  5.5837,\n",
        "        1.89  ,  0.5173,  1.7127,  1.4934,  2.6356,  1.2388,  2.2363,\n",
        "        1.1761,  1.0569,  1.9105,  2.6477,  1.2388,  3.8333,  0.9508,\n",
        "        0.2428,  2.2189,  1.3359,  1.3175,  0.7478,  1.3862,  2.1071,\n",
        "        1.1231,  0.813 ,  1.7552,  1.9912,  0.4938,  1.9917,  0.865 ,\n",
        "        1.202 ,  0.4692,  1.076 ,  0.6129,  0.9632,  1.2503,  0.8907,\n",
        "        1.5644,  4.1891,  3.5141,  1.0229,  0.618 ,  0.5424,  0.6406,\n",
        "        0.9306,  2.3286,  1.6731,  1.6898,  2.6522,  1.9956,  0.6961,\n",
        "        1.6475,  1.9584,  4.0389,  2.0297,  1.6223,  1.5458,  0.9057,\n",
        "        1.4703,  0.1848,  0.5389,  0.8417,  1.4864,  0.5862,  3.5546,\n",
        "        2.4764,  0.2881,  2.5324,  1.5207,  1.0189,  0.5349,  1.755 ,\n",
        "        2.0584,  1.274 ,  1.9638,  1.1673,  0.623 ,  1.0466,  0.2481,\n",
        "        3.5323,  1.554 ,  1.7052,  5.6699,  1.4593,  0.6363,  2.2035,\n",
        "        1.2638,  0.8116,  2.3477,  0.909 ,  1.0245,  1.0905,  3.1286,\n",
        "        0.3051,  0.2314,  3.5535,  1.0248,  3.879 ,  2.2322,  0.3051,\n",
        "        0.6168,  0.4911,  2.7909,  1.824 ,  2.1483,  2.26  ,  3.8515,\n",
        "        0.7281,  1.0199,  2.4832,  0.4646,  0.1417,  1.4337,  2.6905,\n",
        "        1.5306,  1.0652,  2.8283,  3.5307,  2.0525,  1.4002,  1.1435,\n",
        "        0.9158,  0.5832,  2.4497,  1.289 ,  1.384 ,  1.0038,  0.951 ,\n",
        "        1.78  ,  1.6236,  1.6302,  0.5205,  0.4706,  0.9719,  1.2271,\n",
        "        1.1432,  0.5179,  0.8434,  1.1569,  0.334 ,  1.0758,  2.4959,\n",
        "        0.449 ,  0.3422,  2.0999,  1.5107,  4.2816,  2.4015,  0.6899,\n",
        "        1.8935,  2.0043,  0.9378,  0.3047,  2.4014,  2.437 ,  1.0611,\n",
        "        1.4923,  2.3626,  2.0553,  1.8898,  0.5684,  0.9604,  3.3788,\n",
        "        0.6714,  0.3051,  2.9465,  1.8189,  1.9059,  3.2887,  1.4694,\n",
        "        0.3051,  1.379 ,  0.2853,  2.2248,  1.7391,  2.0572,  0.7544,\n",
        "        2.7203,  1.935 ,  1.5985,  1.5216,  0.537 ,  2.4735,  3.1557,\n",
        "        2.4157,  1.2412,  1.6427,  1.2977,  0.7407,  1.1009,  0.8231,\n",
        "        2.3005,  1.3665,  1.2669,  1.4162,  2.7667,  1.2689,  3.5173,\n",
        "        1.1388,  1.2412,  1.657 ,  3.9245,  1.2246,  1.2952,  1.9848,\n",
        "        1.2899,  1.1137,  2.1709,  1.6551,  1.3731,  0.6542,  1.7893,\n",
        "        0.9348,  0.8354,  1.5067,  0.8024,  0.6325,  0.2705,  2.5005,\n",
        "        1.3964,  1.3053,  1.7871,  1.159 ,  0.3399,  2.4544,  0.9033,\n",
        "        3.4231,  1.5553,  2.7406,  2.2612,  1.2417,  1.0191,  1.8739,\n",
        "        1.1473,  0.1603,  1.8935,  0.6349,  2.7483,  1.005 ,  0.4976,\n",
        "        0.5369,  2.4635,  1.5495,  2.5969,  1.5248,  1.3223,  1.5405,\n",
        "        1.399 ,  2.9518,  0.3953,  1.4329,  1.9967,  0.4594,  0.5316,\n",
        "        1.4242,  3.2874,  0.5655,  2.253 ,  2.1117,  0.3051,  0.2852,\n",
        "        0.8077,  1.0025,  3.0222,  1.6381,  0.8542,  0.5851,  2.2635,\n",
        "        0.8643,  0.5999,  2.2297,  2.0434,  1.9952,  0.9561,  0.5125,\n",
        "        1.3538,  0.434 ,  1.1814,  2.6518,  1.1072,  3.3416,  2.0196,\n",
        "        2.871 ,  2.082 ,  3.1146,  1.02  ,  1.2629,  1.7064,  2.0172,\n",
        "        1.0397,  3.2268,  2.5431,  2.2508,  1.3429,  2.1814,  1.5296,\n",
        "        2.5712,  0.7071,  2.0181,  0.7624,  0.8709,  2.1313,  0.3325,\n",
        "        0.5286,  0.9344,  1.9099,  1.0758,  1.1829,  2.1912,  0.8152,\n",
        "        0.9137,  1.0587,  1.1604,  0.3305,  3.351 ,  1.1105,  1.0263,\n",
        "        1.7015,  0.356 ,  1.3979,  0.5154,  1.0044,  1.0072,  1.0441,\n",
        "        1.9922,  0.5333,  1.8997,  0.6772,  2.2551,  1.0752,  1.2281,\n",
        "        1.5043,  0.3477,  0.1855,  2.6034,  2.219 ,  0.833 ,  0.7676,\n",
        "        2.6283,  1.7127,  0.5276,  0.2205,  1.2666,  1.0271,  1.0854,\n",
        "        2.7384,  1.5807,  2.6938,  1.5468,  2.1181,  1.0601,  2.4319,\n",
        "        2.9275,  0.8475,  0.8475,  1.5989,  1.541 ,  1.6559,  1.1376,\n",
        "        1.8758,  1.1055,  1.042 ,  0.6631,  1.0447,  2.7203,  1.9886,\n",
        "        0.9517,  1.5248,  1.2824,  2.0449,  1.0746,  0.7627,  0.7247,\n",
        "        0.8766,  2.3903,  0.7083,  2.2509,  2.107 ,  1.068 ,  0.3965,\n",
        "        1.5571,  0.7743,  1.0075,  1.5931,  0.2926,  0.4789,  1.8887,\n",
        "        3.4634,  0.6489,  2.2143,  1.2331,  2.6533,  1.0757,  1.2331,\n",
        "        1.291 ,  0.7454,  0.5525,  1.426 ,  1.3037,  1.829 ,  1.0637,\n",
        "        1.0753,  2.0964,  0.8466,  1.6836,  1.4518,  1.7151,  1.1929,\n",
        "        0.2308,  1.0223,  1.3814,  2.3051,  1.1651,  1.2403,  0.8828,\n",
        "        1.4374,  1.2664,  1.599 ,  2.6967,  1.2197,  1.312 ,  0.5122,\n",
        "        1.2386,  2.0396,  2.2329,  1.7762,  1.8909,  2.6499,  1.1603,\n",
        "        2.0446,  1.4997,  2.7954,  0.2055,  1.5529,  2.5024,  1.2389,\n",
        "        1.4631,  1.1018,  1.3384,  0.5833,  1.1639,  2.9072,  1.2388,\n",
        "        2.2908,  1.6371,  0.636 ,  1.4993,  0.2789,  2.654 ,  0.9155,\n",
        "        1.2156,  1.1099,  1.5408,  0.2948,  1.2336,  2.2951,  2.4044,\n",
        "        1.2666,  0.5601,  0.4811,  0.3927,  3.8196,  1.6166,  0.756 ,\n",
        "        1.164 ,  2.4199,  2.7079,  0.4781,  0.4352,  0.1275,  1.8169,\n",
        "        2.962 ,  1.3733,  1.0922,  2.005 ,  4.1029,  2.81  ,  3.5692,\n",
        "        2.9231,  0.4294,  2.56  ,  1.5258,  1.9167,  0.716 ,  2.2909,\n",
        "        0.5429,  0.7934,  2.0525,  3.7582,  1.4042,  2.3949,  4.1458,\n",
        "        3.8767,  1.5413,  0.634 ,  0.3051,  2.114 ,  2.3119,  1.0674,\n",
        "        2.0953,  1.6661,  1.2305,  1.9767,  0.5427,  1.6756,  2.6516,\n",
        "        2.3527,  1.3058,  1.7169,  2.3128,  0.5334,  1.3536,  1.1231,\n",
        "        0.305 ,  0.3534,  0.3926,  2.6854,  4.2012,  0.4221,  2.4954,\n",
        "        2.397 ,  1.2386,  1.9916,  0.5426,  2.9237,  1.1713,  1.5956,\n",
        "        1.5308,  1.0834,  1.251 ,  1.9245,  0.5377,  0.8331,  0.0974,\n",
        "        0.7615,  2.2273,  2.6518,  1.9802,  1.5911,  2.1316,  1.0755,\n",
        "        0.3535,  2.2926,  2.6598,  3.4373,  0.8022,  2.7417,  0.5195,\n",
        "        1.6907,  0.4514,  3.1017,  2.5132,  1.8399,  2.2687,  0.8971,\n",
        "        0.2999,  1.5076,  2.3016,  0.223 ,  0.9753,  1.3656,  2.5323,\n",
        "        0.9403,  1.9448,  1.6096,  1.7406,  2.3012,  2.2071,  0.8799,\n",
        "        3.6638,  1.0643,  2.984 ,  0.6975,  3.2381,  0.8165,  0.3001,\n",
        "        3.7041,  1.5209,  2.2115,  2.3704,  1.1169,  3.0443,  0.953 ,\n",
        "        0.347 ,  0.9583,  1.9878,  2.9465,  1.6729,  1.0161,  1.2692,\n",
        "        2.283 ,  1.2245,  1.6739,  1.4775,  0.6867,  1.0215,  0.5788,\n",
        "        2.3584,  1.121 ,  2.5459,  1.0509,  0.2999,  1.4405,  0.7369])"
       ]
      }
     ],
     "prompt_number": 24
    },
    {
     "cell_type": "code",
     "collapsed": false,
     "input": [
      "sn = np.loadtxt('catalog_day.txt', delimiter=',')"
     ],
     "language": "python",
     "metadata": {},
     "outputs": [],
     "prompt_number": 20
    },
    {
     "cell_type": "code",
     "collapsed": false,
     "input": [
      "sn[:, 3]"
     ],
     "language": "python",
     "metadata": {},
     "outputs": [
      {
       "metadata": {},
       "output_type": "pyout",
       "prompt_number": 22,
       "text": [
        "array([ 0.7239,  0.4082,  0.803 ,  0.2693,  0.3051,  0.2314,  1.0248,\n",
        "        0.3051,  0.6168,  0.4911,  0.7281,  1.0199,  0.4646,  0.1417,\n",
        "        1.0652,  1.1435,  0.9158,  0.5832,  1.0038,  0.951 ,  0.5205,\n",
        "        0.4706,  0.9719,  1.1432,  0.5179,  0.8434,  1.1569,  0.334 ,\n",
        "        1.0758,  0.449 ,  0.3422,  0.6899,  1.0025,  0.8542,  0.5851,\n",
        "        0.8643,  0.5999,  0.9561,  0.5125,  0.434 ,  1.1814,  1.1072,\n",
        "        1.02  ,  1.0397,  0.7071,  0.7624,  0.8709,  0.3325,  0.5286,\n",
        "        0.9344,  1.0758,  1.1829,  0.8152,  0.9137,  1.0587,  1.1604,\n",
        "        0.3305,  1.1105,  1.0263,  0.356 ,  0.5154,  1.0044,  1.0072,\n",
        "        1.0441,  0.5333,  0.6772,  1.0752,  0.3477,  0.1855,  0.833 ,\n",
        "        0.7676,  0.5276,  0.2205,  1.0271,  1.0854,  1.0601,  0.8475,\n",
        "        0.8475,  1.1376,  1.1055,  1.042 ,  0.6631,  1.0447,  0.9517,\n",
        "        1.0746,  0.7627,  0.7247,  0.8766,  0.7083,  1.068 ,  0.3965,\n",
        "        0.7743,  1.0075,  0.2926,  0.4789,  0.5173,  1.1761,  1.0569,\n",
        "        0.9508,  0.2428,  0.7478,  1.1231,  0.813 ,  0.4938,  0.865 ,\n",
        "        0.4692,  1.076 ,  0.6129,  0.9632,  0.8907,  1.0229,  0.618 ,\n",
        "        0.5424,  0.6406,  0.9306,  0.6961,  0.9057,  0.1848,  0.5389,\n",
        "        0.8417,  0.5862,  0.2881,  1.0189,  0.5349,  1.1673,  0.623 ,\n",
        "        1.0466,  0.2481,  0.6363,  0.8116,  0.909 ,  1.0245,  1.0905,\n",
        "        0.5655,  0.3051,  0.2852,  0.8077,  0.9378,  0.3047,  1.0611,\n",
        "        0.5684,  0.9604,  0.6714,  0.3051,  0.3051,  0.2853,  0.7544,\n",
        "        0.537 ,  0.7407,  1.1009,  0.8231,  1.1388,  1.1137,  0.6542,\n",
        "        0.9348,  0.8354,  0.8024,  0.6325,  0.2705,  1.159 ,  0.3399,\n",
        "        0.9033,  1.0191,  1.1473,  0.1603,  0.6349,  1.005 ,  0.4976,\n",
        "        0.5369,  0.3953,  0.4594,  0.5316,  0.6489,  1.0757,  0.7454,\n",
        "        0.5525,  1.0637,  1.0753,  0.8466,  1.1929,  0.2308,  1.0223,\n",
        "        1.1651,  0.8828,  0.5122,  1.1603,  0.2055,  1.1018,  0.5833,\n",
        "        1.1639,  0.636 ,  0.2789,  0.9155,  1.1099,  0.2948,  0.5601,\n",
        "        0.4811,  0.3927,  0.756 ,  1.164 ,  0.4781,  0.4352,  0.1275,\n",
        "        1.0922,  0.4294,  0.716 ,  0.5429,  0.7934,  0.634 ,  0.3051,\n",
        "        1.0674,  0.5427,  0.5334,  1.1231,  0.305 ,  0.3534,  0.3926,\n",
        "        0.4221,  0.5426,  1.1713,  1.0834,  0.5377,  0.8331,  0.0974,\n",
        "        0.7615,  1.0755,  0.3535,  0.8022,  0.5195,  0.4514,  0.8971,\n",
        "        0.2999,  0.223 ,  0.9753,  0.9403,  0.8799,  1.0643,  0.6975,\n",
        "        0.8165,  0.3001,  1.1169,  0.953 ,  0.347 ,  0.9583,  1.0161,\n",
        "        0.6867,  1.0215,  0.5788,  1.121 ,  1.0509,  0.2999,  0.7369])"
       ]
      }
     ],
     "prompt_number": 22
    },
    {
     "cell_type": "code",
     "collapsed": false,
     "input": [
      "%matplotlib inline\n",
      "import matplotlib.pyplot as plt\n",
      "fig, ax = plt.subplots(2, figsize=(6, 8), sharex=True)\n",
      "countssn, bins, patches = ax[0].hist(sn[:, 3], histtype='step', label='SN')\n",
      "countsgals, bins, patches = ax[0].hist(galcat[:, 3], bins=bins, histtype='step', linestyle='dashed', lw=2.0, color='r', label='gals')\n",
      "ax[0].set_ylabel('number of objects')\n",
      "ax[0].legend(loc='upper left')\n",
      "ax[1].plot((bins[:-1] + bins[1:])/2.0, countsgals - countssn, 'o')\n",
      "ax[1].set_xlabel('z')\n",
      "ax[1].set_ylabel('num (SN - gals)')\n",
      "plt.tight_layout()"
     ],
     "language": "python",
     "metadata": {},
     "outputs": [
      {
       "metadata": {},
       "output_type": "display_data",
       "png": "[encoded data removed]",
       "text": [
        "<matplotlib.figure.Figure at 0x1123317d0>"
       ]
      }
     ],
     "prompt_number": 82
    },
    {
     "cell_type": "code",
     "collapsed": false,
     "input": [
      "catalog.suppressDimSN = True"
     ],
     "language": "python",
     "metadata": {},
     "outputs": [],
     "prompt_number": 83
    },
    {
     "cell_type": "code",
     "collapsed": false,
     "input": [
      "catalog.write_catalog('SN_TimeWindow.txt')"
     ],
     "language": "python",
     "metadata": {},
     "outputs": [
      {
       "output_type": "stream",
       "stream": "stdout",
       "text": [
        "0.117857969713 0.88886017596 571181.404145\n"
       ]
      }
     ],
     "prompt_number": 85
    },
    {
     "cell_type": "code",
     "collapsed": false,
     "input": [],
     "language": "python",
     "metadata": {},
     "outputs": []
    },
    {
     "cell_type": "code",
     "collapsed": false,
     "input": [
      "f = open('catalog_day.txt','r')"
     ],
     "language": "python",
     "metadata": {},
     "outputs": []
    },
    {
     "cell_type": "code",
     "collapsed": false,
     "input": [
      "x = s.getvalue()"
     ],
     "language": "python",
     "metadata": {},
     "outputs": []
    },
    {
     "cell_type": "code",
     "collapsed": false,
     "input": [
      "dd = json.loads(x.strip('#@'))"
     ],
     "language": "python",
     "metadata": {},
     "outputs": []
    },
    {
     "cell_type": "code",
     "collapsed": false,
     "input": [
      "dd['mjd']"
     ],
     "language": "python",
     "metadata": {},
     "outputs": []
    },
    {
     "cell_type": "code",
     "collapsed": false,
     "input": [
      "import cStringIO"
     ],
     "language": "python",
     "metadata": {},
     "outputs": []
    },
    {
     "cell_type": "code",
     "collapsed": false,
     "input": [
      "s = cStringIO.StringIO()"
     ],
     "language": "python",
     "metadata": {},
     "outputs": []
    },
    {
     "cell_type": "code",
     "collapsed": false,
     "input": [
      "s.write(jsondict)"
     ],
     "language": "python",
     "metadata": {},
     "outputs": []
    },
    {
     "cell_type": "code",
     "collapsed": false,
     "input": [
      "json.loads(s.getvalue())"
     ],
     "language": "python",
     "metadata": {},
     "outputs": []
    },
    {
     "cell_type": "code",
     "collapsed": false,
     "input": [
      "s.getvalue()"
     ],
     "language": "python",
     "metadata": {},
     "outputs": []
    },
    {
     "cell_type": "code",
     "collapsed": false,
     "input": [
      "help(json.load)"
     ],
     "language": "python",
     "metadata": {},
     "outputs": []
    },
    {
     "cell_type": "code",
     "collapsed": false,
     "input": [
      "for key in SNObjectfull.__dict__:\n",
      "    if not key.startswith('_'):\n",
      "        print key"
     ],
     "language": "python",
     "metadata": {},
     "outputs": []
    },
    {
     "cell_type": "code",
     "collapsed": false,
     "input": [
      "print 4* np.pi*(180./np.pi)**2"
     ],
     "language": "python",
     "metadata": {},
     "outputs": []
    },
    {
     "cell_type": "code",
     "collapsed": false,
     "input": [
      "print snia.__file__"
     ],
     "language": "python",
     "metadata": {},
     "outputs": []
    },
    {
     "cell_type": "code",
     "collapsed": false,
     "input": [],
     "language": "python",
     "metadata": {},
     "outputs": []
    }
   ],
   "metadata": {}
  }
 ]
}