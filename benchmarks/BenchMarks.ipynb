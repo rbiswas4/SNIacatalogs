{
 "metadata": {
  "name": "",
  "signature": "sha256:8e99acf44786bf6fdac165f3741539d04edf3610e8fb1cc3a60f845c9c36c09c"
 },
 "nbformat": 3,
 "nbformat_minor": 0,
 "worksheets": [
  {
   "cells": [
    {
     "cell_type": "code",
     "collapsed": false,
     "input": [
      "import numpy as np"
     ],
     "language": "python",
     "metadata": {},
     "outputs": [],
     "prompt_number": 1
    },
    {
     "cell_type": "code",
     "collapsed": false,
     "input": [
      "import pandas as pd"
     ],
     "language": "python",
     "metadata": {},
     "outputs": [],
     "prompt_number": 2
    },
    {
     "cell_type": "code",
     "collapsed": false,
     "input": [
      "df = pd.read_hdf('/Users/rbiswas/data/LSST/OpSimData/storage.h5', 'table')"
     ],
     "language": "python",
     "metadata": {},
     "outputs": [],
     "prompt_number": 3
    },
    {
     "cell_type": "code",
     "collapsed": false,
     "input": [
      "fid = df.fieldID.unique()"
     ],
     "language": "python",
     "metadata": {},
     "outputs": [],
     "prompt_number": 4
    },
    {
     "cell_type": "code",
     "collapsed": false,
     "input": [
      "fid"
     ],
     "language": "python",
     "metadata": {},
     "outputs": [
      {
       "metadata": {},
       "output_type": "pyout",
       "prompt_number": 5,
       "text": [
        "array([ 316,  372,  441, ..., 2924, 3931, 3895])"
       ]
      }
     ],
     "prompt_number": 5
    },
    {
     "cell_type": "code",
     "collapsed": false,
     "input": [
      "df.fieldDec.min()"
     ],
     "language": "python",
     "metadata": {},
     "outputs": [
      {
       "metadata": {},
       "output_type": "pyout",
       "prompt_number": 6,
       "text": [
        "-1.5707960000000001"
       ]
      }
     ],
     "prompt_number": 6
    },
    {
     "cell_type": "code",
     "collapsed": false,
     "input": [
      "df.fieldDec.max()"
     ],
     "language": "python",
     "metadata": {},
     "outputs": [
      {
       "metadata": {},
       "output_type": "pyout",
       "prompt_number": 7,
       "text": [
        "0.62773999999999996"
       ]
      }
     ],
     "prompt_number": 7
    },
    {
     "cell_type": "code",
     "collapsed": false,
     "input": [
      "np.unique(df[['fieldID', 'fieldRA', 'fieldDec']].values)"
     ],
     "language": "python",
     "metadata": {},
     "outputs": [
      {
       "metadata": {},
       "output_type": "pyout",
       "prompt_number": 25,
       "text": [
        "array([ -1.57079600e+00,  -1.52836000e+00,  -1.48829300e+00, ...,\n",
        "         4.08500000e+03,   4.18100000e+03,   4.20300000e+03])"
       ]
      }
     ],
     "prompt_number": 25
    },
    {
     "cell_type": "code",
     "collapsed": false,
     "input": [
      "0.1 * 1.75"
     ],
     "language": "python",
     "metadata": {},
     "outputs": [
      {
       "metadata": {},
       "output_type": "pyout",
       "prompt_number": 8,
       "text": [
        "0.17500000000000002"
       ]
      }
     ],
     "prompt_number": 8
    },
    {
     "cell_type": "code",
     "collapsed": false,
     "input": [
      "rad = np.arange(0.05, 1.9, 0.1*1.75)"
     ],
     "language": "python",
     "metadata": {},
     "outputs": [],
     "prompt_number": 9
    },
    {
     "cell_type": "code",
     "collapsed": false,
     "input": [
      "def angle(fieldID):\n",
      "    \"\"\"\n",
      "    returns the RA, DEC values of the the pointing defined by the fieldID\n",
      "    fiD \n",
      "    \n",
      "    \n",
      "    \"\"\"\n",
      "    r = df[df['fieldID'] == fieldID].iloc[0]\n",
      "    return map(np.degrees, [r.fieldRA, r.fieldDec])"
     ],
     "language": "python",
     "metadata": {},
     "outputs": [],
     "prompt_number": 10
    },
    {
     "cell_type": "code",
     "collapsed": false,
     "input": [
      "numSamples = 3\n",
      "numLens = 100\n",
      "rfids = np.random.choice(fid, size=numSamples*numLens)"
     ],
     "language": "python",
     "metadata": {},
     "outputs": [],
     "prompt_number": 66
    },
    {
     "cell_type": "code",
     "collapsed": false,
     "input": [
      "vals = rfids.reshape((numLens, numSamples))"
     ],
     "language": "python",
     "metadata": {},
     "outputs": [],
     "prompt_number": 12
    },
    {
     "cell_type": "code",
     "collapsed": false,
     "input": [
      "len(vals)"
     ],
     "language": "python",
     "metadata": {},
     "outputs": [
      {
       "metadata": {},
       "output_type": "pyout",
       "prompt_number": 13,
       "text": [
        "10"
       ]
      }
     ],
     "prompt_number": 13
    },
    {
     "cell_type": "code",
     "collapsed": false,
     "input": [
      "len(rfids)"
     ],
     "language": "python",
     "metadata": {},
     "outputs": [
      {
       "metadata": {},
       "output_type": "pyout",
       "prompt_number": 14,
       "text": [
        "30"
       ]
      }
     ],
     "prompt_number": 14
    },
    {
     "cell_type": "code",
     "collapsed": false,
     "input": [
      "rfids"
     ],
     "language": "python",
     "metadata": {},
     "outputs": [
      {
       "metadata": {},
       "output_type": "pyout",
       "prompt_number": 15,
       "text": [
        "array([ 384, 1262, 1464, 1867,  364, 1560,  987, 1713, 2226, 1325,  234,\n",
        "        224, 2672, 1437,  175,  618, 1052, 3608, 2138, 1506, 2392, 2703,\n",
        "        794, 2539, 1097, 2017,   64, 1825, 2186, 2545])"
       ]
      }
     ],
     "prompt_number": 15
    },
    {
     "cell_type": "code",
     "collapsed": false,
     "input": [
      "import numpy as np\n",
      "import timeit\n",
      "from lsst.sims.catalogs.generation.db import CatalogDBObject\n",
      "from sniacatalogs import sncat\n",
      "from lsst.sims.utils import ObservationMetaData\n",
      "import lsst.sims.catUtils.baseCatalogModels as bcm"
     ],
     "language": "python",
     "metadata": {},
     "outputs": [
      {
       "output_type": "stream",
       "stream": "stderr",
       "text": [
        "Duplicate object type id 25 specified: \n",
        "Output object ids may not be unique.\n",
        "This may not be a problem if you do not want globally unique id values\n"
       ]
      }
     ],
     "prompt_number": 16
    },
    {
     "cell_type": "code",
     "collapsed": false,
     "input": [
      "galDB = CatalogDBObject.from_objid('galaxyTiled')"
     ],
     "language": "python",
     "metadata": {},
     "outputs": [
      {
       "output_type": "stream",
       "stream": "stderr",
       "text": [
        "/usr/local/manual/anaconda/lib/python2.7/site-packages/sqlalchemy/dialects/mssql/base.py:1294: SAWarning: Did not recognize type 'geography' of column 'geopoint'\n",
        "  return fn(*arg, **kw)\n"
       ]
      }
     ],
     "prompt_number": 17
    },
    {
     "cell_type": "code",
     "collapsed": false,
     "input": [
      "from lsst.sims.catalogs.measures.instance import InstanceCatalog\n",
      "class galCopy(InstanceCatalog):\n",
      "    column_outputs = ['id', 'raJ2000', 'decJ2000', 'redshift']\n",
      "    override_formats = {'raJ2000': '%8e', 'decJ2000': '%8e'}"
     ],
     "language": "python",
     "metadata": {},
     "outputs": [],
     "prompt_number": 18
    },
    {
     "cell_type": "code",
     "collapsed": false,
     "input": [
      "import time\n",
      "from lsst.sims.utils import ObservationMetaData"
     ],
     "language": "python",
     "metadata": {},
     "outputs": [],
     "prompt_number": 19
    },
    {
     "cell_type": "code",
     "collapsed": false,
     "input": [
      "df[df['fieldID'].isin(rfids)][['fieldRA', 'fieldDec']].apply(np.degrees).fieldRA.max()"
     ],
     "language": "python",
     "metadata": {},
     "outputs": [
      {
       "metadata": {},
       "output_type": "pyout",
       "prompt_number": 62,
       "text": [
        "340.1021894990439"
       ]
      }
     ],
     "prompt_number": 62
    },
    {
     "cell_type": "code",
     "collapsed": false,
     "input": [
      "ra, dec = zip(*df[df['fieldID'].isin(rfids)][['fieldRA', 'fieldDec']].apply(np.degrees).as_matrix())"
     ],
     "language": "python",
     "metadata": {},
     "outputs": [],
     "prompt_number": 45
    },
    {
     "cell_type": "code",
     "collapsed": false,
     "input": [
      "np.asarray(ra) - 180."
     ],
     "language": "python",
     "metadata": {},
     "outputs": [
      {
       "metadata": {},
       "output_type": "pyout",
       "prompt_number": 65,
       "text": [
        "array([ -82.94696556, -106.46172643,    7.97587883, ..., -147.35080219,\n",
        "        -57.1079441 ,  -57.1079441 ])"
       ]
      }
     ],
     "prompt_number": 65
    },
    {
     "cell_type": "code",
     "collapsed": false,
     "input": [
      "# import time\n",
      "class galaxyQueryBenchMarks(object):\n",
      "        \n",
      "    def __init__(self, boundLens, Ra, Dec, name='catsim', numSamps=3, mjd=572013.):\n",
      "        \"\"\"\n",
      "        boundLens : arrayLike, of floats\n",
      "                    size of ObsMetaData BoundLengths in degrees\n",
      "        Ra : arrayLike, floats, degrees\n",
      "        Dec :     \n",
      "         \n",
      "        \"\"\"\n",
      "        \n",
      "        if len(Ra) != len(Dec):\n",
      "            raise ValueError('the lengths of the ra and dec array have to be the same')\n",
      "        if len(Ra) * numSamps != len(boundLens):\n",
      "            raise ValueError('dek')\n",
      "                            \n",
      "        self.boundLens = np.asarray(boundLens)\n",
      "        self.Ra = np.asarray(Ra)\n",
      "        self.Dec = np.asarray(Dec)\n",
      "        self.coords = np.asarray(zip(self.Ra, self.Dec))\n",
      "        self.mjd = mjd\n",
      "        self.name = name\n",
      "        self.results = None\n",
      "        \n",
      "    @classmethod\n",
      "    def fromOpSimDF(cls, boundLens, numSamps=1, opSimHDF='/Users/rbiswas/data/LSST/OpSimData/storage.h5',\n",
      "                    summaryTable='table'):\n",
      "        \"\"\"\n",
      "        boundLens : array-like, mandatory, degrees\n",
      "            array of boundLength values for obsMetaData \n",
      "        \n",
      "        \"\"\"\n",
      "        boundLens = np.random.shuffle(np.asarray(boundLens))\n",
      "        numLengths = len(boundLens)\n",
      "        \n",
      "        df = pd.read_hdf('/Users/rbiswas/data/LSST/OpSimData/storage.h5', 'table')\n",
      "        fieldIds =  df.fieldId.unique()\n",
      "        fid = np.random.choice(fieldIds, size=numLengths * numSamps, replace=False)\n",
      "        # _ = df[df['fieldID']==]\n",
      "        ra, dec = zip(*df[df['fieldID'].isin(rfids)][['fieldRA', 'fieldDec']].apply(np.degrees).as_matrix())\n",
      "        ra = np.asarray(ra) - 180.0\n",
      "        dec = np.asarray(dec)\n",
      "        \n",
      "        return cls(boundLens=boundLens, Ra=ra, Dec=dec, numSamps=numSamps, mjd=mjd)\n",
      "    \n",
      "    # @staticmethod\n",
      "    # def getFieldCoords(df, fieldID):\n",
      "    #     _ = df[df['fieldID']==fieldID].iloc[0]\n",
      "    def benchMarkLen(self, ind=None, unique=True):\n",
      "        \n",
      "        \n",
      "        if ind is None:\n",
      "            ind = 0\n",
      "        \n",
      "        sampinds = np.array(range(self.numSamps)) + ind\n",
      "        results = []\n",
      "        for num in numSamps:\n",
      "            results.append(queryResult(boundLens[ind], coords[ind + num], Mjd=self.mjd))\n",
      "        \n",
      "        np.delete(self.coords, sampinds)\n",
      "        np.delete(self.boundLens, [0])\n",
      "    \n",
      "        df = pd.dataFrame(results, columns=['boundLen', 'Ra', 'Dec', 'Mjd', 'numObjects', 'deltaT', 'deltaT'])\n",
      "    \n",
      "        return df, boundLens, coords\n",
      "    \n",
      "    def serialize(self):\n",
      "        self.df.to_hdf(self.name + '.hdf')\n",
      "        np.savetxt(self.boundLens)\n",
      "        np.savetxt(self.coords)\n",
      "    \n",
      "    def aggregateResults(self):\n",
      "    \n",
      "        for boundLen in self.boundLens:\n",
      "            df, boundLens, coords = self.benchMarkLen()\n",
      "            if self.df is None:\n",
      "                self.df = df\n",
      "            else:\n",
      "                self.df = pd.concat([self.df, df])\n",
      "            self.serialize()\n",
      "            \n",
      "        \n",
      "        \n",
      "            \n",
      "        \n",
      "    \n",
      "    @staticmethod\n",
      "    def queryResult(boundLen, coords, Mjd, fieldRadius=1.75):\n",
      "        \"\"\"\n",
      "        benchmarks a single query to download an instance catalog\n",
      "        of given boundLen, and pointing defined by Ra, Dec in degrees.\n",
      "        \n",
      "        Parameters\n",
      "        ----------\n",
      "        boundLen : float, degrees\n",
      "        coords : array like of size 2, mandatory, degrees\n",
      "            iterable of Ra and Dec in degrees\n",
      "        # Ra : float, degrees\n",
      "        # Dec : float, degrees\n",
      "        fieldRadius : Radius of field of view in degrees\n",
      "        \"\"\"\n",
      "        Ra = coords[0]\n",
      "        Dec = coords[1]\n",
      "        myObsMD = ObservationMetaData(boundType='circle',\n",
      "                                      boundLength=boundLen,\n",
      "                                      unrefractedRA=Ra,\n",
      "                                      unrefractedDec=Dec,\n",
      "                                      site=None,\n",
      "                                      bandpassName=['u', 'g', 'r', 'i', 'z', 'y'],\n",
      "                                      mjd=Mjd)\n",
      "        tstart = time.time()\n",
      "        gals = galCopy(db_obj=galDB, obs_metadata=myObsMD, constraint='r_ab < 24.0')\n",
      "        gals.write_catalog(\"gals.dat\")\n",
      "        tend = time.time()\n",
      "        deltaT = tend - tstart\n",
      "        # timer = timeit.Timer('gals.write_catalog(\"gals.dat\")', setup='from __main__ import gals' )\n",
      "        #time  = timer.repeat(repeat=1, number=1 )\n",
      "        numObjects = sum(1 for _ in open('gals.dat'))\n",
      "        \n",
      "        return [boundLen, Ra, Dec, Mjd, numObjects, deltaT, deltaT * (np.float(boundLen) / np.float(fieldRadius))**2.0]\n",
      "        \n",
      "        "
     ],
     "language": "python",
     "metadata": {},
     "outputs": [],
     "prompt_number": 74
    },
    {
     "cell_type": "code",
     "collapsed": false,
     "input": [
      "GB  = galaxyQueryBenchMarks([0.05], [70.], [-42.], numSamps=1)"
     ],
     "language": "python",
     "metadata": {},
     "outputs": [],
     "prompt_number": 75
    },
    {
     "cell_type": "code",
     "collapsed": false,
     "input": [
      "GB.queryResult(0.05, [70., -42.], 572013.)"
     ],
     "language": "python",
     "metadata": {},
     "outputs": [
      {
       "ename": "OperationalError",
       "evalue": "(OperationalError) (20004, 'DB-Lib error message 20004, severity 9:\\nRead from the server failed\\nNet-Lib error during Connection reset by peer (54)\\n') \"EXECUTE [LSST].[dbo].[GalaxySearch2015]\\n                   @ApertureStr = 'REGION CIRCLE J2000 70.000000 -42.000000 3.000000', @ColumnNames = 'ra as raJ2000,dec as decJ2000,id as id,redshift as redshift',\\n                   @ComponentSubset = 'ALL' , @WhereClause = 'r_ab < 24.0'\" {}",
       "output_type": "pyerr",
       "traceback": [
        "\u001b[0;31m---------------------------------------------------------------------------\u001b[0m\n\u001b[0;31mOperationalError\u001b[0m                          Traceback (most recent call last)",
        "\u001b[0;32m<ipython-input-78-29cd0ec12be9>\u001b[0m in \u001b[0;36m<module>\u001b[0;34m()\u001b[0m\n\u001b[0;32m----> 1\u001b[0;31m \u001b[0mGB\u001b[0m\u001b[0;34m.\u001b[0m\u001b[0mqueryResult\u001b[0m\u001b[0;34m(\u001b[0m\u001b[0;36m0.05\u001b[0m\u001b[0;34m,\u001b[0m \u001b[0;34m[\u001b[0m\u001b[0;36m70.\u001b[0m\u001b[0;34m,\u001b[0m \u001b[0;34m-\u001b[0m\u001b[0;36m42.\u001b[0m\u001b[0;34m]\u001b[0m\u001b[0;34m,\u001b[0m \u001b[0;36m572013.\u001b[0m\u001b[0;34m)\u001b[0m\u001b[0;34m\u001b[0m\u001b[0m\n\u001b[0m",
        "\u001b[0;32m<ipython-input-74-69b68b82f378>\u001b[0m in \u001b[0;36mqueryResult\u001b[0;34m(boundLen, coords, Mjd, fieldRadius)\u001b[0m\n\u001b[1;32m    112\u001b[0m         \u001b[0mtstart\u001b[0m \u001b[0;34m=\u001b[0m \u001b[0mtime\u001b[0m\u001b[0;34m.\u001b[0m\u001b[0mtime\u001b[0m\u001b[0;34m(\u001b[0m\u001b[0;34m)\u001b[0m\u001b[0;34m\u001b[0m\u001b[0m\n\u001b[1;32m    113\u001b[0m         \u001b[0mgals\u001b[0m \u001b[0;34m=\u001b[0m \u001b[0mgalCopy\u001b[0m\u001b[0;34m(\u001b[0m\u001b[0mdb_obj\u001b[0m\u001b[0;34m=\u001b[0m\u001b[0mgalDB\u001b[0m\u001b[0;34m,\u001b[0m \u001b[0mobs_metadata\u001b[0m\u001b[0;34m=\u001b[0m\u001b[0mmyObsMD\u001b[0m\u001b[0;34m,\u001b[0m \u001b[0mconstraint\u001b[0m\u001b[0;34m=\u001b[0m\u001b[0;34m'r_ab < 24.0'\u001b[0m\u001b[0;34m)\u001b[0m\u001b[0;34m\u001b[0m\u001b[0m\n\u001b[0;32m--> 114\u001b[0;31m         \u001b[0mgals\u001b[0m\u001b[0;34m.\u001b[0m\u001b[0mwrite_catalog\u001b[0m\u001b[0;34m(\u001b[0m\u001b[0;34m\"gals.dat\"\u001b[0m\u001b[0;34m)\u001b[0m\u001b[0;34m\u001b[0m\u001b[0m\n\u001b[0m\u001b[1;32m    115\u001b[0m         \u001b[0mtend\u001b[0m \u001b[0;34m=\u001b[0m \u001b[0mtime\u001b[0m\u001b[0;34m.\u001b[0m\u001b[0mtime\u001b[0m\u001b[0;34m(\u001b[0m\u001b[0;34m)\u001b[0m\u001b[0;34m\u001b[0m\u001b[0m\n\u001b[1;32m    116\u001b[0m         \u001b[0mdeltaT\u001b[0m \u001b[0;34m=\u001b[0m \u001b[0mtend\u001b[0m \u001b[0;34m-\u001b[0m \u001b[0mtstart\u001b[0m\u001b[0;34m\u001b[0m\u001b[0m\n",
        "\u001b[0;32m/Users/rbiswas/src/LSST/sims_catalogs_measures/python/lsst/sims/catalogs/measures/instance/InstanceCatalog.pyc\u001b[0m in \u001b[0;36mwrite_catalog\u001b[0;34m(self, filename, chunk_size, write_header, write_mode)\u001b[0m\n\u001b[1;32m    458\u001b[0m                               \u001b[0mwrite_mode\u001b[0m\u001b[0;34m=\u001b[0m\u001b[0mwrite_mode\u001b[0m\u001b[0;34m,\u001b[0m\u001b[0;34m\u001b[0m\u001b[0m\n\u001b[1;32m    459\u001b[0m                               \u001b[0mobs_metadata\u001b[0m\u001b[0;34m=\u001b[0m\u001b[0mself\u001b[0m\u001b[0;34m.\u001b[0m\u001b[0mobs_metadata\u001b[0m\u001b[0;34m,\u001b[0m\u001b[0;34m\u001b[0m\u001b[0m\n\u001b[0;32m--> 460\u001b[0;31m                               constraint=self.constraint)\n\u001b[0m\u001b[1;32m    461\u001b[0m \u001b[0;34m\u001b[0m\u001b[0m\n\u001b[1;32m    462\u001b[0m \u001b[0;34m\u001b[0m\u001b[0m\n",
        "\u001b[0;32m/Users/rbiswas/src/LSST/sims_catalogs_measures/python/lsst/sims/catalogs/measures/instance/InstanceCatalog.pyc\u001b[0m in \u001b[0;36m_query_and_write\u001b[0;34m(self, filename, chunk_size, write_header, write_mode, obs_metadata, constraint)\u001b[0m\n\u001b[1;32m    493\u001b[0m                                                  \u001b[0mobs_metadata\u001b[0m\u001b[0;34m=\u001b[0m\u001b[0mobs_metadata\u001b[0m\u001b[0;34m,\u001b[0m\u001b[0;34m\u001b[0m\u001b[0m\n\u001b[1;32m    494\u001b[0m                                                  \u001b[0mconstraint\u001b[0m\u001b[0;34m=\u001b[0m\u001b[0mconstraint\u001b[0m\u001b[0;34m,\u001b[0m\u001b[0;34m\u001b[0m\u001b[0m\n\u001b[0;32m--> 495\u001b[0;31m                                                  chunk_size=chunk_size)\n\u001b[0m\u001b[1;32m    496\u001b[0m \u001b[0;34m\u001b[0m\u001b[0m\n\u001b[1;32m    497\u001b[0m         \u001b[0;32mfor\u001b[0m \u001b[0mchunk\u001b[0m \u001b[0;32min\u001b[0m \u001b[0mquery_result\u001b[0m\u001b[0;34m:\u001b[0m\u001b[0;34m\u001b[0m\u001b[0m\n",
        "\u001b[0;32m/Users/rbiswas/src/LSST/sims_catutils/python/lsst/sims/catUtils/baseCatalogModels/GalaxyModels.pyc\u001b[0m in \u001b[0;36mquery_columns\u001b[0;34m(self, colnames, chunk_size, obs_metadata, constraint)\u001b[0m\n\u001b[1;32m    262\u001b[0m             \u001b[0mquery\u001b[0m \u001b[0;34m+=\u001b[0m \u001b[0;34m\", @WhereClause = '%s'\"\u001b[0m\u001b[0;34m%\u001b[0m\u001b[0;34m(\u001b[0m\u001b[0mconstraint\u001b[0m\u001b[0;34m)\u001b[0m\u001b[0;34m\u001b[0m\u001b[0m\n\u001b[1;32m    263\u001b[0m \u001b[0;34m\u001b[0m\u001b[0m\n\u001b[0;32m--> 264\u001b[0;31m         \u001b[0;32mreturn\u001b[0m \u001b[0mChunkIterator\u001b[0m\u001b[0;34m(\u001b[0m\u001b[0mself\u001b[0m\u001b[0;34m,\u001b[0m \u001b[0mquery\u001b[0m\u001b[0;34m,\u001b[0m \u001b[0mchunk_size\u001b[0m\u001b[0;34m)\u001b[0m\u001b[0;34m\u001b[0m\u001b[0m\n\u001b[0m\u001b[1;32m    265\u001b[0m \u001b[0;34m\u001b[0m\u001b[0m\n\u001b[1;32m    266\u001b[0m \u001b[0;34m\u001b[0m\u001b[0m\n",
        "\u001b[0;32m/Users/rbiswas/src/LSST/sims_catalogs_generation/python/lsst/sims/catalogs/generation/db/dbConnection.pyc\u001b[0m in \u001b[0;36m__init__\u001b[0;34m(self, dbobj, query, chunk_size, arbitrarySQL)\u001b[0m\n\u001b[1;32m     53\u001b[0m     \u001b[0;32mdef\u001b[0m \u001b[0m__init__\u001b[0m\u001b[0;34m(\u001b[0m\u001b[0mself\u001b[0m\u001b[0;34m,\u001b[0m \u001b[0mdbobj\u001b[0m\u001b[0;34m,\u001b[0m \u001b[0mquery\u001b[0m\u001b[0;34m,\u001b[0m \u001b[0mchunk_size\u001b[0m\u001b[0;34m,\u001b[0m \u001b[0marbitrarySQL\u001b[0m \u001b[0;34m=\u001b[0m \u001b[0mFalse\u001b[0m\u001b[0;34m)\u001b[0m\u001b[0;34m:\u001b[0m\u001b[0;34m\u001b[0m\u001b[0m\n\u001b[1;32m     54\u001b[0m         \u001b[0mself\u001b[0m\u001b[0;34m.\u001b[0m\u001b[0mdbobj\u001b[0m \u001b[0;34m=\u001b[0m \u001b[0mdbobj\u001b[0m\u001b[0;34m\u001b[0m\u001b[0m\n\u001b[0;32m---> 55\u001b[0;31m         \u001b[0mself\u001b[0m\u001b[0;34m.\u001b[0m\u001b[0mexec_query\u001b[0m \u001b[0;34m=\u001b[0m \u001b[0mdbobj\u001b[0m\u001b[0;34m.\u001b[0m\u001b[0msession\u001b[0m\u001b[0;34m.\u001b[0m\u001b[0mexecute\u001b[0m\u001b[0;34m(\u001b[0m\u001b[0mquery\u001b[0m\u001b[0;34m)\u001b[0m\u001b[0;34m\u001b[0m\u001b[0m\n\u001b[0m\u001b[1;32m     56\u001b[0m         \u001b[0mself\u001b[0m\u001b[0;34m.\u001b[0m\u001b[0mchunk_size\u001b[0m \u001b[0;34m=\u001b[0m \u001b[0mchunk_size\u001b[0m\u001b[0;34m\u001b[0m\u001b[0m\n\u001b[1;32m     57\u001b[0m \u001b[0;34m\u001b[0m\u001b[0m\n",
        "\u001b[0;32m/usr/local/manual/anaconda/lib/python2.7/site-packages/sqlalchemy/orm/scoping.pyc\u001b[0m in \u001b[0;36mdo\u001b[0;34m(self, *args, **kwargs)\u001b[0m\n\u001b[1;32m    148\u001b[0m \u001b[0;32mdef\u001b[0m \u001b[0minstrument\u001b[0m\u001b[0;34m(\u001b[0m\u001b[0mname\u001b[0m\u001b[0;34m)\u001b[0m\u001b[0;34m:\u001b[0m\u001b[0;34m\u001b[0m\u001b[0m\n\u001b[1;32m    149\u001b[0m     \u001b[0;32mdef\u001b[0m \u001b[0mdo\u001b[0m\u001b[0;34m(\u001b[0m\u001b[0mself\u001b[0m\u001b[0;34m,\u001b[0m \u001b[0;34m*\u001b[0m\u001b[0margs\u001b[0m\u001b[0;34m,\u001b[0m \u001b[0;34m**\u001b[0m\u001b[0mkwargs\u001b[0m\u001b[0;34m)\u001b[0m\u001b[0;34m:\u001b[0m\u001b[0;34m\u001b[0m\u001b[0m\n\u001b[0;32m--> 150\u001b[0;31m         \u001b[0;32mreturn\u001b[0m \u001b[0mgetattr\u001b[0m\u001b[0;34m(\u001b[0m\u001b[0mself\u001b[0m\u001b[0;34m.\u001b[0m\u001b[0mregistry\u001b[0m\u001b[0;34m(\u001b[0m\u001b[0;34m)\u001b[0m\u001b[0;34m,\u001b[0m \u001b[0mname\u001b[0m\u001b[0;34m)\u001b[0m\u001b[0;34m(\u001b[0m\u001b[0;34m*\u001b[0m\u001b[0margs\u001b[0m\u001b[0;34m,\u001b[0m \u001b[0;34m**\u001b[0m\u001b[0mkwargs\u001b[0m\u001b[0;34m)\u001b[0m\u001b[0;34m\u001b[0m\u001b[0m\n\u001b[0m\u001b[1;32m    151\u001b[0m     \u001b[0;32mreturn\u001b[0m \u001b[0mdo\u001b[0m\u001b[0;34m\u001b[0m\u001b[0m\n\u001b[1;32m    152\u001b[0m \u001b[0;34m\u001b[0m\u001b[0m\n",
        "\u001b[0;32m/usr/local/manual/anaconda/lib/python2.7/site-packages/sqlalchemy/orm/session.pyc\u001b[0m in \u001b[0;36mexecute\u001b[0;34m(self, clause, params, mapper, bind, **kw)\u001b[0m\n\u001b[1;32m    989\u001b[0m \u001b[0;34m\u001b[0m\u001b[0m\n\u001b[1;32m    990\u001b[0m         return self._connection_for_bind(\n\u001b[0;32m--> 991\u001b[0;31m             bind, close_with_result=True).execute(clause, params or {})\n\u001b[0m\u001b[1;32m    992\u001b[0m \u001b[0;34m\u001b[0m\u001b[0m\n\u001b[1;32m    993\u001b[0m     \u001b[0;32mdef\u001b[0m \u001b[0mscalar\u001b[0m\u001b[0;34m(\u001b[0m\u001b[0mself\u001b[0m\u001b[0;34m,\u001b[0m \u001b[0mclause\u001b[0m\u001b[0;34m,\u001b[0m \u001b[0mparams\u001b[0m\u001b[0;34m=\u001b[0m\u001b[0mNone\u001b[0m\u001b[0;34m,\u001b[0m \u001b[0mmapper\u001b[0m\u001b[0;34m=\u001b[0m\u001b[0mNone\u001b[0m\u001b[0;34m,\u001b[0m \u001b[0mbind\u001b[0m\u001b[0;34m=\u001b[0m\u001b[0mNone\u001b[0m\u001b[0;34m,\u001b[0m \u001b[0;34m**\u001b[0m\u001b[0mkw\u001b[0m\u001b[0;34m)\u001b[0m\u001b[0;34m:\u001b[0m\u001b[0;34m\u001b[0m\u001b[0m\n",
        "\u001b[0;32m/usr/local/manual/anaconda/lib/python2.7/site-packages/sqlalchemy/engine/base.pyc\u001b[0m in \u001b[0;36mexecute\u001b[0;34m(self, object, *multiparams, **params)\u001b[0m\n\u001b[1;32m    727\u001b[0m                 type(object))\n\u001b[1;32m    728\u001b[0m         \u001b[0;32melse\u001b[0m\u001b[0;34m:\u001b[0m\u001b[0;34m\u001b[0m\u001b[0m\n\u001b[0;32m--> 729\u001b[0;31m             \u001b[0;32mreturn\u001b[0m \u001b[0mmeth\u001b[0m\u001b[0;34m(\u001b[0m\u001b[0mself\u001b[0m\u001b[0;34m,\u001b[0m \u001b[0mmultiparams\u001b[0m\u001b[0;34m,\u001b[0m \u001b[0mparams\u001b[0m\u001b[0;34m)\u001b[0m\u001b[0;34m\u001b[0m\u001b[0m\n\u001b[0m\u001b[1;32m    730\u001b[0m \u001b[0;34m\u001b[0m\u001b[0m\n\u001b[1;32m    731\u001b[0m     \u001b[0;32mdef\u001b[0m \u001b[0m_execute_function\u001b[0m\u001b[0;34m(\u001b[0m\u001b[0mself\u001b[0m\u001b[0;34m,\u001b[0m \u001b[0mfunc\u001b[0m\u001b[0;34m,\u001b[0m \u001b[0mmultiparams\u001b[0m\u001b[0;34m,\u001b[0m \u001b[0mparams\u001b[0m\u001b[0;34m)\u001b[0m\u001b[0;34m:\u001b[0m\u001b[0;34m\u001b[0m\u001b[0m\n",
        "\u001b[0;32m/usr/local/manual/anaconda/lib/python2.7/site-packages/sqlalchemy/sql/elements.pyc\u001b[0m in \u001b[0;36m_execute_on_connection\u001b[0;34m(self, connection, multiparams, params)\u001b[0m\n\u001b[1;32m    319\u001b[0m \u001b[0;34m\u001b[0m\u001b[0m\n\u001b[1;32m    320\u001b[0m     \u001b[0;32mdef\u001b[0m \u001b[0m_execute_on_connection\u001b[0m\u001b[0;34m(\u001b[0m\u001b[0mself\u001b[0m\u001b[0;34m,\u001b[0m \u001b[0mconnection\u001b[0m\u001b[0;34m,\u001b[0m \u001b[0mmultiparams\u001b[0m\u001b[0;34m,\u001b[0m \u001b[0mparams\u001b[0m\u001b[0;34m)\u001b[0m\u001b[0;34m:\u001b[0m\u001b[0;34m\u001b[0m\u001b[0m\n\u001b[0;32m--> 321\u001b[0;31m         \u001b[0;32mreturn\u001b[0m \u001b[0mconnection\u001b[0m\u001b[0;34m.\u001b[0m\u001b[0m_execute_clauseelement\u001b[0m\u001b[0;34m(\u001b[0m\u001b[0mself\u001b[0m\u001b[0;34m,\u001b[0m \u001b[0mmultiparams\u001b[0m\u001b[0;34m,\u001b[0m \u001b[0mparams\u001b[0m\u001b[0;34m)\u001b[0m\u001b[0;34m\u001b[0m\u001b[0m\n\u001b[0m\u001b[1;32m    322\u001b[0m \u001b[0;34m\u001b[0m\u001b[0m\n\u001b[1;32m    323\u001b[0m     \u001b[0;32mdef\u001b[0m \u001b[0munique_params\u001b[0m\u001b[0;34m(\u001b[0m\u001b[0mself\u001b[0m\u001b[0;34m,\u001b[0m \u001b[0;34m*\u001b[0m\u001b[0moptionaldict\u001b[0m\u001b[0;34m,\u001b[0m \u001b[0;34m**\u001b[0m\u001b[0mkwargs\u001b[0m\u001b[0;34m)\u001b[0m\u001b[0;34m:\u001b[0m\u001b[0;34m\u001b[0m\u001b[0m\n",
        "\u001b[0;32m/usr/local/manual/anaconda/lib/python2.7/site-packages/sqlalchemy/engine/base.pyc\u001b[0m in \u001b[0;36m_execute_clauseelement\u001b[0;34m(self, elem, multiparams, params)\u001b[0m\n\u001b[1;32m    824\u001b[0m             \u001b[0mcompiled_sql\u001b[0m\u001b[0;34m,\u001b[0m\u001b[0;34m\u001b[0m\u001b[0m\n\u001b[1;32m    825\u001b[0m             \u001b[0mdistilled_params\u001b[0m\u001b[0;34m,\u001b[0m\u001b[0;34m\u001b[0m\u001b[0m\n\u001b[0;32m--> 826\u001b[0;31m             \u001b[0mcompiled_sql\u001b[0m\u001b[0;34m,\u001b[0m \u001b[0mdistilled_params\u001b[0m\u001b[0;34m\u001b[0m\u001b[0m\n\u001b[0m\u001b[1;32m    827\u001b[0m         )\n\u001b[1;32m    828\u001b[0m         \u001b[0;32mif\u001b[0m \u001b[0mself\u001b[0m\u001b[0;34m.\u001b[0m\u001b[0m_has_events\u001b[0m \u001b[0;32mor\u001b[0m \u001b[0mself\u001b[0m\u001b[0;34m.\u001b[0m\u001b[0mengine\u001b[0m\u001b[0;34m.\u001b[0m\u001b[0m_has_events\u001b[0m\u001b[0;34m:\u001b[0m\u001b[0;34m\u001b[0m\u001b[0m\n",
        "\u001b[0;32m/usr/local/manual/anaconda/lib/python2.7/site-packages/sqlalchemy/engine/base.pyc\u001b[0m in \u001b[0;36m_execute_context\u001b[0;34m(self, dialect, constructor, statement, parameters, *args)\u001b[0m\n\u001b[1;32m    956\u001b[0m                 \u001b[0mparameters\u001b[0m\u001b[0;34m,\u001b[0m\u001b[0;34m\u001b[0m\u001b[0m\n\u001b[1;32m    957\u001b[0m                 \u001b[0mcursor\u001b[0m\u001b[0;34m,\u001b[0m\u001b[0;34m\u001b[0m\u001b[0m\n\u001b[0;32m--> 958\u001b[0;31m                 context)\n\u001b[0m\u001b[1;32m    959\u001b[0m \u001b[0;34m\u001b[0m\u001b[0m\n\u001b[1;32m    960\u001b[0m         \u001b[0;32mif\u001b[0m \u001b[0mself\u001b[0m\u001b[0;34m.\u001b[0m\u001b[0m_has_events\u001b[0m \u001b[0;32mor\u001b[0m \u001b[0mself\u001b[0m\u001b[0;34m.\u001b[0m\u001b[0mengine\u001b[0m\u001b[0;34m.\u001b[0m\u001b[0m_has_events\u001b[0m\u001b[0;34m:\u001b[0m\u001b[0;34m\u001b[0m\u001b[0m\n",
        "\u001b[0;32m/usr/local/manual/anaconda/lib/python2.7/site-packages/sqlalchemy/engine/base.pyc\u001b[0m in \u001b[0;36m_handle_dbapi_exception\u001b[0;34m(self, e, statement, parameters, cursor, context)\u001b[0m\n\u001b[1;32m   1158\u001b[0m                 util.raise_from_cause(\n\u001b[1;32m   1159\u001b[0m                     \u001b[0msqlalchemy_exception\u001b[0m\u001b[0;34m,\u001b[0m\u001b[0;34m\u001b[0m\u001b[0m\n\u001b[0;32m-> 1160\u001b[0;31m                     \u001b[0mexc_info\u001b[0m\u001b[0;34m\u001b[0m\u001b[0m\n\u001b[0m\u001b[1;32m   1161\u001b[0m                 )\n\u001b[1;32m   1162\u001b[0m             \u001b[0;32melse\u001b[0m\u001b[0;34m:\u001b[0m\u001b[0;34m\u001b[0m\u001b[0m\n",
        "\u001b[0;32m/usr/local/manual/anaconda/lib/python2.7/site-packages/sqlalchemy/util/compat.pyc\u001b[0m in \u001b[0;36mraise_from_cause\u001b[0;34m(exception, exc_info)\u001b[0m\n\u001b[1;32m    197\u001b[0m             \u001b[0mexc_info\u001b[0m \u001b[0;34m=\u001b[0m \u001b[0msys\u001b[0m\u001b[0;34m.\u001b[0m\u001b[0mexc_info\u001b[0m\u001b[0;34m(\u001b[0m\u001b[0;34m)\u001b[0m\u001b[0;34m\u001b[0m\u001b[0m\n\u001b[1;32m    198\u001b[0m         \u001b[0mexc_type\u001b[0m\u001b[0;34m,\u001b[0m \u001b[0mexc_value\u001b[0m\u001b[0;34m,\u001b[0m \u001b[0mexc_tb\u001b[0m \u001b[0;34m=\u001b[0m \u001b[0mexc_info\u001b[0m\u001b[0;34m\u001b[0m\u001b[0m\n\u001b[0;32m--> 199\u001b[0;31m         \u001b[0mreraise\u001b[0m\u001b[0;34m(\u001b[0m\u001b[0mtype\u001b[0m\u001b[0;34m(\u001b[0m\u001b[0mexception\u001b[0m\u001b[0;34m)\u001b[0m\u001b[0;34m,\u001b[0m \u001b[0mexception\u001b[0m\u001b[0;34m,\u001b[0m \u001b[0mtb\u001b[0m\u001b[0;34m=\u001b[0m\u001b[0mexc_tb\u001b[0m\u001b[0;34m)\u001b[0m\u001b[0;34m\u001b[0m\u001b[0m\n\u001b[0m\u001b[1;32m    200\u001b[0m \u001b[0;34m\u001b[0m\u001b[0m\n\u001b[1;32m    201\u001b[0m \u001b[0;32mif\u001b[0m \u001b[0mpy3k\u001b[0m\u001b[0;34m:\u001b[0m\u001b[0;34m\u001b[0m\u001b[0m\n",
        "\u001b[0;32m/usr/local/manual/anaconda/lib/python2.7/site-packages/sqlalchemy/engine/base.pyc\u001b[0m in \u001b[0;36m_execute_context\u001b[0;34m(self, dialect, constructor, statement, parameters, *args)\u001b[0m\n\u001b[1;32m    949\u001b[0m                         \u001b[0mstatement\u001b[0m\u001b[0;34m,\u001b[0m\u001b[0;34m\u001b[0m\u001b[0m\n\u001b[1;32m    950\u001b[0m                         \u001b[0mparameters\u001b[0m\u001b[0;34m,\u001b[0m\u001b[0;34m\u001b[0m\u001b[0m\n\u001b[0;32m--> 951\u001b[0;31m                         context)\n\u001b[0m\u001b[1;32m    952\u001b[0m         \u001b[0;32mexcept\u001b[0m \u001b[0mException\u001b[0m \u001b[0;32mas\u001b[0m \u001b[0me\u001b[0m\u001b[0;34m:\u001b[0m\u001b[0;34m\u001b[0m\u001b[0m\n\u001b[1;32m    953\u001b[0m             self._handle_dbapi_exception(\n",
        "\u001b[0;32m/usr/local/manual/anaconda/lib/python2.7/site-packages/sqlalchemy/engine/default.pyc\u001b[0m in \u001b[0;36mdo_execute\u001b[0;34m(self, cursor, statement, parameters, context)\u001b[0m\n\u001b[1;32m    434\u001b[0m \u001b[0;34m\u001b[0m\u001b[0m\n\u001b[1;32m    435\u001b[0m     \u001b[0;32mdef\u001b[0m \u001b[0mdo_execute\u001b[0m\u001b[0;34m(\u001b[0m\u001b[0mself\u001b[0m\u001b[0;34m,\u001b[0m \u001b[0mcursor\u001b[0m\u001b[0;34m,\u001b[0m \u001b[0mstatement\u001b[0m\u001b[0;34m,\u001b[0m \u001b[0mparameters\u001b[0m\u001b[0;34m,\u001b[0m \u001b[0mcontext\u001b[0m\u001b[0;34m=\u001b[0m\u001b[0mNone\u001b[0m\u001b[0;34m)\u001b[0m\u001b[0;34m:\u001b[0m\u001b[0;34m\u001b[0m\u001b[0m\n\u001b[0;32m--> 436\u001b[0;31m         \u001b[0mcursor\u001b[0m\u001b[0;34m.\u001b[0m\u001b[0mexecute\u001b[0m\u001b[0;34m(\u001b[0m\u001b[0mstatement\u001b[0m\u001b[0;34m,\u001b[0m \u001b[0mparameters\u001b[0m\u001b[0;34m)\u001b[0m\u001b[0;34m\u001b[0m\u001b[0m\n\u001b[0m\u001b[1;32m    437\u001b[0m \u001b[0;34m\u001b[0m\u001b[0m\n\u001b[1;32m    438\u001b[0m     \u001b[0;32mdef\u001b[0m \u001b[0mdo_execute_no_params\u001b[0m\u001b[0;34m(\u001b[0m\u001b[0mself\u001b[0m\u001b[0;34m,\u001b[0m \u001b[0mcursor\u001b[0m\u001b[0;34m,\u001b[0m \u001b[0mstatement\u001b[0m\u001b[0;34m,\u001b[0m \u001b[0mcontext\u001b[0m\u001b[0;34m=\u001b[0m\u001b[0mNone\u001b[0m\u001b[0;34m)\u001b[0m\u001b[0;34m:\u001b[0m\u001b[0;34m\u001b[0m\u001b[0m\n",
        "\u001b[0;32m/Users/rbiswas/soft/LSST/installation/root/DarwinX86/pymssql/2.1.1/lib/python/pymssql-2.1.1-py2.7-macosx-10.5-x86_64.egg/pymssql.so\u001b[0m in \u001b[0;36mpymssql.Cursor.execute (pymssql.c:7189)\u001b[0;34m()\u001b[0m\n",
        "\u001b[0;31mOperationalError\u001b[0m: (OperationalError) (20004, 'DB-Lib error message 20004, severity 9:\\nRead from the server failed\\nNet-Lib error during Connection reset by peer (54)\\n') \"EXECUTE [LSST].[dbo].[GalaxySearch2015]\\n                   @ApertureStr = 'REGION CIRCLE J2000 70.000000 -42.000000 3.000000', @ColumnNames = 'ra as raJ2000,dec as decJ2000,id as id,redshift as redshift',\\n                   @ComponentSubset = 'ALL' , @WhereClause = 'r_ab < 24.0'\" {}"
       ]
      }
     ],
     "prompt_number": 78
    },
    {
     "cell_type": "code",
     "collapsed": false,
     "input": [
      "galaxyQueryBenchMarks.queryResult(0.05, 70., -42., 572013.)"
     ],
     "language": "python",
     "metadata": {},
     "outputs": [
      {
       "metadata": {},
       "output_type": "pyout",
       "prompt_number": 21,
       "text": [
        "[0.05, 70.0, -42.0, 572013.0, 380, 10.048686027526855]"
       ]
      }
     ],
     "prompt_number": 21
    },
    {
     "cell_type": "code",
     "collapsed": false,
     "input": [
      "galaxyQueryBenchMarks.queryResult(0.05, 70., -42., 572013.)"
     ],
     "language": "python",
     "metadata": {},
     "outputs": [
      {
       "metadata": {},
       "output_type": "pyout",
       "prompt_number": 44,
       "text": [
        "[0.05, 70.0, -42.0, 572013.0, 380, 10.349367141723633]"
       ]
      }
     ],
     "prompt_number": 44
    },
    {
     "cell_type": "code",
     "collapsed": false,
     "input": [
      "galaxyQueryBenchMarks.queryResult(0.05, 70., -42., 572013.)"
     ],
     "language": "python",
     "metadata": {},
     "outputs": [
      {
       "metadata": {},
       "output_type": "pyout",
       "prompt_number": 45,
       "text": [
        "[0.05, 70.0, -42.0, 572013.0, 380, 9.919789791107178]"
       ]
      }
     ],
     "prompt_number": 45
    },
    {
     "cell_type": "code",
     "collapsed": false,
     "input": [
      "galaxyQueryBenchMarks.queryResult(0.05, 70., -42., 572013.)"
     ],
     "language": "python",
     "metadata": {},
     "outputs": [
      {
       "metadata": {},
       "output_type": "pyout",
       "prompt_number": 46,
       "text": [
        "[0.05, 70.0, -42.0, 572013.0, 380, 10.332935094833374]"
       ]
      }
     ],
     "prompt_number": 46
    },
    {
     "cell_type": "code",
     "collapsed": false,
     "input": [
      "angs = []\n",
      "for rf in rfids:\n",
      "    angs.append(rf)"
     ],
     "language": "python",
     "metadata": {},
     "outputs": [
      {
       "ename": "ValueError",
       "evalue": "shape mismatch: two or more arrays have incompatible dimensions on axis 1.",
       "output_type": "pyerr",
       "traceback": [
        "\u001b[0;31m---------------------------------------------------------------------------\u001b[0m\n\u001b[0;31mValueError\u001b[0m                                Traceback (most recent call last)",
        "\u001b[0;32m<ipython-input-66-26445e27e57c>\u001b[0m in \u001b[0;36m<module>\u001b[0;34m()\u001b[0m\n\u001b[0;32m----> 1\u001b[0;31m \u001b[0mval\u001b[0m \u001b[0;34m=\u001b[0m \u001b[0mnp\u001b[0m\u001b[0;34m.\u001b[0m\u001b[0mbroadcast_arrays\u001b[0m\u001b[0;34m(\u001b[0m\u001b[0mrfids\u001b[0m\u001b[0;34m,\u001b[0m \u001b[0mvals\u001b[0m\u001b[0;34m)\u001b[0m\u001b[0;34m\u001b[0m\u001b[0m\n\u001b[0m",
        "\u001b[0;32m/usr/local/manual/anaconda/lib/python2.7/site-packages/numpy/lib/stride_tricks.pyc\u001b[0m in \u001b[0;36mbroadcast_arrays\u001b[0;34m(*args)\u001b[0m\n\u001b[1;32m     99\u001b[0m             \u001b[0;31m# There must be at least two non-1 lengths for this axis.\u001b[0m\u001b[0;34m\u001b[0m\u001b[0;34m\u001b[0m\u001b[0m\n\u001b[1;32m    100\u001b[0m             raise ValueError(\"shape mismatch: two or more arrays have \"\n\u001b[0;32m--> 101\u001b[0;31m                 \"incompatible dimensions on axis %r.\" % (axis,))\n\u001b[0m\u001b[1;32m    102\u001b[0m         \u001b[0;32melif\u001b[0m \u001b[0mlen\u001b[0m\u001b[0;34m(\u001b[0m\u001b[0munique\u001b[0m\u001b[0;34m)\u001b[0m \u001b[0;34m==\u001b[0m \u001b[0;36m2\u001b[0m\u001b[0;34m:\u001b[0m\u001b[0;34m\u001b[0m\u001b[0m\n\u001b[1;32m    103\u001b[0m             \u001b[0;31m# There is exactly one non-1 length. The common shape will take\u001b[0m\u001b[0;34m\u001b[0m\u001b[0;34m\u001b[0m\u001b[0m\n",
        "\u001b[0;31mValueError\u001b[0m: shape mismatch: two or more arrays have incompatible dimensions on axis 1."
       ]
      }
     ],
     "prompt_number": 66
    },
    {
     "cell_type": "code",
     "collapsed": false,
     "input": [
      "x = map(angle, rfids)"
     ],
     "language": "python",
     "metadata": {},
     "outputs": [],
     "prompt_number": 67
    },
    {
     "cell_type": "code",
     "collapsed": false,
     "input": [
      "x"
     ],
     "language": "python",
     "metadata": {},
     "outputs": [
      {
       "metadata": {},
       "output_type": "pyout",
       "prompt_number": 68,
       "text": [
        "[[95.207021718180584, -48.96657745370652],\n",
        " [86.603029100260045, 16.152024019414984],\n",
        " [164.12083833046916, -24.415908890145875],\n",
        " [349.04921194890926, -25.626683302816332],\n",
        " [153.13385694681998, -17.532451235223679],\n",
        " [23.207082533978866, -48.966520157927008],\n",
        " [31.887393130210839, -46.963173227252085],\n",
        " [300.24002600152517, -11.96301498765451],\n",
        " [32.70689466458645, -12.415479758469321],\n",
        " [104.50612673315385, -35.901306259779332],\n",
        " [36.000026887880367, -68.124452657936828],\n",
        " [95.346193166617851, -3.3175402253664927],\n",
        " [162.89115631055938, 3.863740891464706],\n",
        " [47.279904296400403, -10.721530037165042],\n",
        " [174.71219235658046, -58.173149784766146],\n",
        " [100.98409787070516, -36.91005575388666],\n",
        " [76.714923471892277, -26.053422268629767],\n",
        " [217.77489809769997, -37.272623446645447],\n",
        " [324.00001280780532, -51.24270959064323],\n",
        " [12.364944880938783, -45.019127428373196],\n",
        " [314.17544819891754, -23.300646541923729],\n",
        " [93.54962670420565, -11.035854683573813],\n",
        " [245.63760649179383, -2.8364848605746538],\n",
        " [70.461719391613997, -9.9337130688601611],\n",
        " [19.103444213692882, -60.072218396727258],\n",
        " [50.285411706538653, -5.984257691243883],\n",
        " [32.237756821933338, -41.413561319394439],\n",
        " [171.67563063394613, -20.41167874731509],\n",
        " [18.290646285520296, -16.550229687030907],\n",
        " [75.709096062540127, -40.00614779143509],\n",
        " [2.5461671457818653, -53.47054138545041],\n",
        " [300.96223930228757, -75.516181172919588],\n",
        " [161.48219579655316, -62.8026487694232],\n",
        " [351.73655589541136, -45.302798832742475],\n",
        " [27.675637673983665, -20.41167874731509],\n",
        " [88.174595036524366, 18.988165105312557],\n",
        " [140.64922118247839, 17.269062536802039],\n",
        " [88.433285481025933, -44.610379337326869],\n",
        " [133.38646546717959, -63.321060982457574],\n",
        " [295.82590185205777, -65.92813354186184],\n",
        " [156.88558458933664, -60.660989827003704],\n",
        " [27.897544228037834, -10.381708768872951],\n",
        " [240.72013891930405, -10.721587332944555],\n",
        " [324.00001280780532, -31.82992546335921],\n",
        " [232.30315972571418, -55.221443111590688],\n",
        " [150.62688011422506, 17.696431756190119],\n",
        " [167.20701819816182, -48.96657745370652],\n",
        " [324.00001280780532, -26.565016283902079],\n",
        " [56.193752489927697, -36.402587034739291],\n",
        " [341.25853292117694, -1.1994871441063784],\n",
        " [115.62477381812405, -42.49284191808237],\n",
        " [44.714829543379224, -28.778581429610501],\n",
        " [99.285220712362744, -28.778638725390017],\n",
        " [288.00050158194057, -85.27285028308431],\n",
        " [288.00004321570447, -17.910374196891969],\n",
        " [174.24700792271375, -60.981215938702313],\n",
        " [161.08886027019585, -24.889343916262472],\n",
        " [164.06451657920778, -8.654298312333033],\n",
        " [50.892059420023159, -29.966265643137184],\n",
        " [263.27983644056462, -10.721587332944555],\n",
        " [208.10783958669367, 0.449599981839157],\n",
        " [122.14577837184649, -0.93145748754417934],\n",
        " [70.39336552665489, 5.0903289392807727],\n",
        " [211.38584572419614, -9.8542438226755156],\n",
        " [131.21128849374492, 8.360542850769459],\n",
        " [208.35587301620583, -20.363378405185561],\n",
        " [201.27342711903469, -39.313728296019491],\n",
        " [222.82466162508547, -34.332490520931628],\n",
        " [156.24009033734225, -11.963072283434023],\n",
        " [111.14200932480001, 2.2647302768136051],\n",
        " [306.58576276571711, -6.2620849261028191],\n",
        " [81.402806855873166, -1.9531558278214634],\n",
        " [215.9999894399437, -7.3638254703598793],\n",
        " [222.11705874809888, -12.400582855795921],\n",
        " [344.6593239141759, -47.424461548111914],\n",
        " [236.14117481217752, -32.992113055002577],\n",
        " [42.277467082892699, 2.1410286888448602],\n",
        " [248.64918725456047, -17.269062536802039],\n",
        " [136.17413432360908, -65.928076246082341],\n",
        " [302.72660553661348, -39.313728296019491],\n",
        " [142.34242605864901, -31.706739537406087],\n",
        " [236.06445576340951, -8.654298312333033],\n",
        " [279.15546561960844, -37.011813058301897],\n",
        " [335.49423372748379, -20.91691293106145],\n",
        " [159.22239295677767, -16.924944085046466],\n",
        " [194.57411809946754, -21.430053932380616],\n",
        " [334.54375404114126, -37.709217286535129],\n",
        " [94.803487543069949, -64.782619022056792],\n",
        " [340.85826460549856, -80.199595486098445],\n",
        " [331.05174816715737, -66.571393258455231],\n",
        " [346.43984755832446, -33.824678027107176],\n",
        " [180.00001984784282, 7.3638827661393922],\n",
        " [4.1379584922143184, -45.469586846905052],\n",
        " [16.303112989990982, -55.221385815811175],\n",
        " [292.72786175800593, -50.801245609494927],\n",
        " [260.71481898332291, -28.778638725390017],\n",
        " [15.77421564930572, 3.5957685306820202],\n",
        " [350.59717202401418, -1.9531558278214634],\n",
        " [312.84859253695362, -5.6900438634442052],\n",
        " [28.107819738850846, -0.449599981839157],\n",
        " [27.897544228037834, -10.381708768872951],\n",
        " [56.648738275041083, -22.338077446103945],\n",
        " [233.10879568144762, -3.8636835956851932],\n",
        " [101.57298389254062, 28.759845709709726],\n",
        " [215.9999894399437, -12.561985066684272],\n",
        " [58.926360102245134, 18.536731658528986],\n",
        " [95.362293280661035, -32.459147713971888],\n",
        " [97.103282836945553, 4.3703501739193804],\n",
        " [263.27983644056462, -10.721587332944555],\n",
        " [292.72786175800593, -50.801245609494927],\n",
        " [145.60662391328881, 5.0903289392807727],\n",
        " [98.175401463194348, -23.300646541923729],\n",
        " [134.22281196073206, -70.757709388578576],\n",
        " [303.22238591674017, -16.924886789266953],\n",
        " [153.77723125497238, -70.757709388578576],\n",
        " [320.76348881467032, -7.5702048681660017],\n",
        " [271.20624916996343, -14.11240886030828],\n",
        " [103.38582235633456, 9.8541865268960027],\n",
        " [355.40875699596381, -20.535265743724811],\n",
        " [237.20830870560869, -41.228209472669619],\n",
        " [81.777234774991157, -70.757766684358089],\n",
        " [159.47959371101192, -65.499790294222038],\n",
        " [286.4686989166583, -20.622985582159338],\n",
        " [240.96513567250199, -40.550572288368393],\n",
        " [263.49423724750255, -20.91691293106145],\n",
        " [87.901867126042092, -27.883564057836644],\n",
        " [155.15135593503464, 5.6899865676646924],\n",
        " [80.324385693877943, 20.41167874731509],\n",
        " [7.6221721401843681, -53.306045202468347],\n",
        " [78.452188802508459, 7.7666720961163618],\n",
        " [111.09365168689096, 23.339149305756518],\n",
        " [0.0, -2.3080458861254951],\n",
        " [258.69955453050926, -22.717146323362496],\n",
        " [34.475901857052868, 15.207674981480363],\n",
        " [180.00001984784282, -37.345446382406571],\n",
        " [336.95338534434342, -13.403889250849506],\n",
        " [175.38587613209529, 9.8541865268960027],\n",
        " [83.438525901972994, 15.756282070318125],\n",
        " [68.763472486846226, 7.5702048681660017],\n",
        " [17.108863537283458, -3.863740891464706],\n",
        " [85.073575561937815, 18.536674362749469],\n",
        " [214.46870243667706, -20.62304287793885],\n",
        " [19.103444213692882, -60.072218396727258],\n",
        " [234.33641505329493, -38.889223865607065],\n",
        " [242.57010504822247, -53.656122415293282],\n",
        " [14.603032620278805, 16.152024019414984],\n",
        " [161.41424300205065, 6.2620849261028191],\n",
        " [112.74365554530871, -0.279775291362381],\n",
        " [112.11259982975163, -46.963173227252085],\n",
        " [119.94464641029241, -62.021191632644268],\n",
        " [71.999996479981235, 2.635090195586169],\n",
        " [217.65761363703669, -31.706739537406087],\n",
        " [50.033138389342547, 25.294654260538017],\n",
        " [34.36606584772629, -9.9303326178688884],\n",
        " [63.897513820138691, 10.381823360431978],\n",
        " [171.28515989656447, -28.778638725390017],\n",
        " [228.174483149781, -17.257145014663319],\n",
        " [104.78206320728884, -30.352954859070977],\n",
        " [133.04922250896558, -25.626740598595841],\n",
        " [103.32199485795698, 4.7286206832146842],\n",
        " [115.64408249581997, 20.363378405185561],\n",
        " [286.04688738788298, -42.788602731928904],\n",
        " [307.2167611854947, -70.227780723862082],\n",
        " [247.03407652586617, -14.992815808306304],\n",
        " [130.43974352682176, -33.824735322886688],\n",
        " [31.113384444768609, -10.097006040472445],\n",
        " [158.60302558024128, 16.152024019414984],\n",
        " [53.583242183752645, -11.358200739114414],\n",
        " [281.90732461384232, -17.738773337250286],\n",
        " [20.429612326302685, -57.316635176825088],\n",
        " [131.21128849374492, 8.360542850769459],\n",
        " [350.26353869990953, -42.489862537547694],\n",
        " [87.879120701575403, 24.415794298586849],\n",
        " [118.76515549323611, 9.4907593974445206],\n",
        " [242.53572758051459, -31.850380056645385],\n",
        " [34.36606584772629, -9.9303326178688884],\n",
        " [16.102176691238604, 13.759352266948667],\n",
        " [287.99998591992494, -2.3081031819050084],\n",
        " [35.999568521644264, -87.568577576614501],\n",
        " [115.05170143143421, -66.571393258455231],\n",
        " [150.2774904507543, -2.1410286888448602],\n",
        " [98.535677324772621, -31.850380056645385],\n",
        " [255.34121971012948, -22.267317158405287],\n",
        " [330.36236534805602, -2.8364848605746538],\n",
        " [240.72013891930405, -10.721587332944555],\n",
        " [45.284464183298283, 7.0276138361771121],\n",
        " [204.47305263016327, -31.197781127991377],\n",
        " [356.95224800026676, -17.86694399602105],\n",
        " [201.8542344359588, 0.93140019176466626],\n",
        " [263.49423724750255, -20.91691293106145],\n",
        " [288.00004321570447, -23.383267055981591],\n",
        " [209.90732813386106, -17.738830633029799],\n",
        " [280.59353238960733, -39.869153582619312],\n",
        " [100.37521562181963, -42.49284191808237],\n",
        " [91.897846676623004, -13.75940956272818],\n",
        " [65.820130997479694, -23.208171153789614],\n",
        " [256.81148670821466, -5.2085874281957745],\n",
        " [297.4028535915964, -1.9531558278214634],\n",
        " [295.40649674602201, -39.869153582619312],\n",
        " [128.68288303961211, -11.673556709554418],\n",
        " [3.1872496227537432, 2.688031495856257],\n",
        " [290.98389282118671, -58.589231735590154],\n",
        " [345.27342007899711, -39.313728296019491],\n",
        " [129.39690304390413, 16.152024019414984],\n",
        " [92.141124556435543, -32.991998463443551],\n",
        " [0.0, -56.071082225990189],\n",
        " [84.239979265801978, -11.96301498765451],\n",
        " [171.89753718800029, -10.381823360431978],\n",
        " [152.10247561980498, 10.381708768872951],\n",
        " [265.95910168215534, -26.923687863653978],\n",
        " [203.82549573010638, -17.257145014663319],\n",
        " [263.4384884540363, -15.756282070318125],\n",
        " [239.36222894484399, -32.459147713971888],\n",
        " [281.38725082320201, -48.075284307601017],\n",
        " [173.5478275253156, -7.7666720961163618],\n",
        " [68.952262080341839, -17.86688670024154],\n",
        " [358.2251883337089, -37.272566150865934],\n",
        " [287.99998591992494, 17.080559422203997],\n",
        " [65.373109325718616, 17.696431756190119],\n",
        " [306.99084392687456, -27.438948808815123],\n",
        " [133.00458909672489, -47.819229468957047],\n",
        " [314.24603659927766, -13.06509930658865],\n",
        " [173.5478275253156, -7.7666720961163618],\n",
        " [339.93557337221984, -8.6542410165535202],\n",
        " [0.0, -89.999981276031662],\n",
        " [100.98409787070516, -36.91005575388666],\n",
        " [310.92637643006918, -18.536731658528986],\n",
        " [251.99995903204453, -21.837942586734247],\n",
        " [228.3767945472417, -6.798889084360888],\n",
        " [238.79328185427906, -77.535341738740115],\n",
        " [297.7772242149349, -70.757766684358089],\n",
        " [256.59433570386011, -52.555413195067459],\n",
        " [34.36606584772629, -9.9303326178688884],\n",
        " [51.629857172813125, 1.4641363496773057],\n",
        " [184.74365202528995, -0.27971799558286792],\n",
        " [280.38228285054259, -14.96078746755849],\n",
        " [191.02550399532478, -0.67437132486897888],\n",
        " [248.76343503890956, -7.5702048681660017],\n",
        " [240.9744748845626, -0.67442862064849207],\n",
        " [184.81149022823345, -5.2085874281957745],\n",
        " [108.0000233678616, -42.871223245986769],\n",
        " [137.37316310147935, 17.696431756190119],\n",
        " [19.103444213692882, -60.072218396727258],\n",
        " [10.946129492856326, -55.697227264667326],\n",
        " [173.88300783546714, 12.400582855795921],\n",
        " [308.12094588199062, -24.415794298586849],\n",
        " [247.88743986593403, -46.963173227252085],\n",
        " [71.999996479981235, -2.3081031819050084],\n",
        " [181.58281575689173, -0.18741449478729227],\n",
        " [355.25635022245905, 0.27971799558286792],\n",
        " [242.10148286758496, -18.092173705286978],\n",
        " [139.25636078251534, 0.279775291362381],\n",
        " [77.676518539460361, 28.079057257535279],\n",
        " [151.64410938370034, -20.363378405185561],\n",
        " [4.3643914128500203, -68.470519166195842],\n",
        " [274.27357872619632, -19.793514582148443],\n",
        " [40.743659065327485, -0.279775291362381],\n",
        " [302.72660553661348, -39.313728296019491],\n",
        " [19.141775090187135, -80.199595486098445],\n",
        " [251.99995903204453, -7.4981840733180585],\n",
        " [64.377767044017347, -53.306045202468347],\n",
        " [283.42847026413511, -15.123507481375643],\n",
        " [59.140130655608438, 23.881339267288819],\n",
        " [117.28446066327952, 7.0275565403975992],\n",
        " [15.901756054501842, -27.883506762057131],\n",
        " [287.99998591992494, -28.931790344028485],\n",
        " [28.107819738850846, -0.449599981839157],\n",
        " [330.33354557096089, -31.161856674236677],\n",
        " [54.741419070830084, 1.1995444398858914],\n",
        " [184.81149022823345, -5.2085874281957745],\n",
        " [84.972563102656252, -68.155048604196807],\n",
        " [71.999939184201722, -61.126861810224568],\n",
        " [268.36443580189405, -46.879464093383469],\n",
        " [114.42694825162357, 28.759845709709726],\n",
        " [294.11699793230059, -12.400582855795921],\n",
        " [71.999996479981235, -56.071139521769702],\n",
        " [262.93411370698266, -59.242231734700752],\n",
        " [65.907335173898602, -17.738773337250286],\n",
        " [292.88657106725719, 10.097063336251958],\n",
        " [108.0000233678616, -79.219608473306693],\n",
        " [29.671077787085789, -63.782062824419839],\n",
        " [108.0000233678616, -12.307018847851056],\n",
        " [52.783221214411469, -70.227780723862082],\n",
        " [259.89210888529459, -0.449599981839157],\n",
        " [176.50618050891461, -35.901306259779332],\n",
        " [47.025568331141827, -0.67437132486897888],\n",
        " [48.518925528370808, 1.7209933292344537],\n",
        " [214.42676192607345, -26.140569149269165],\n",
        " [223.81450351195346, -78.066817389503456],\n",
        " [325.60658646535211, -5.0903289392807727],\n",
        " [173.37313269358023, -17.696431756190119],\n",
        " [324.00001280780532, -62.510669477024528],\n",
        " [136.20982959424575, -4.5769587548435551],\n",
        " [31.321998377975742, 4.7286206832146842],\n",
        " [322.3041150299976, -19.534537658749315],\n",
        " [192.95344968016047, -13.403889250849506],\n",
        " [194.45035921571929, -11.035911979353326],\n",
        " [16.433289001044706, -44.610264745767843],\n",
        " [314.48180873197401, -3.0555266256531675],\n",
        " [87.479654526810194, -65.499790294222038]]"
       ]
      }
     ],
     "prompt_number": 68
    },
    {
     "cell_type": "code",
     "collapsed": false,
     "input": [
      "a  = np.array([1., 2., 4., 3., 5., 8.])"
     ],
     "language": "python",
     "metadata": {},
     "outputs": [],
     "prompt_number": 76
    },
    {
     "cell_type": "code",
     "collapsed": false,
     "input": [
      "a"
     ],
     "language": "python",
     "metadata": {},
     "outputs": [
      {
       "metadata": {},
       "output_type": "pyout",
       "prompt_number": 77,
       "text": [
        "array([ 1.,  2.,  4.,  3.,  5.,  8.])"
       ]
      }
     ],
     "prompt_number": 77
    },
    {
     "cell_type": "code",
     "collapsed": false,
     "input": [
      "b = np.array([1., 5.])"
     ],
     "language": "python",
     "metadata": {},
     "outputs": [],
     "prompt_number": 79
    },
    {
     "cell_type": "code",
     "collapsed": false,
     "input": [
      "np.broadcast_arrays(b, a)"
     ],
     "language": "python",
     "metadata": {},
     "outputs": [
      {
       "ename": "ValueError",
       "evalue": "shape mismatch: two or more arrays have incompatible dimensions on axis 0.",
       "output_type": "pyerr",
       "traceback": [
        "\u001b[0;31m---------------------------------------------------------------------------\u001b[0m\n\u001b[0;31mValueError\u001b[0m                                Traceback (most recent call last)",
        "\u001b[0;32m<ipython-input-80-c8f36b0a9fcb>\u001b[0m in \u001b[0;36m<module>\u001b[0;34m()\u001b[0m\n\u001b[0;32m----> 1\u001b[0;31m \u001b[0mnp\u001b[0m\u001b[0;34m.\u001b[0m\u001b[0mbroadcast_arrays\u001b[0m\u001b[0;34m(\u001b[0m\u001b[0mb\u001b[0m\u001b[0;34m,\u001b[0m \u001b[0ma\u001b[0m\u001b[0;34m)\u001b[0m\u001b[0;34m\u001b[0m\u001b[0m\n\u001b[0m",
        "\u001b[0;32m/usr/local/manual/anaconda/lib/python2.7/site-packages/numpy/lib/stride_tricks.pyc\u001b[0m in \u001b[0;36mbroadcast_arrays\u001b[0;34m(*args)\u001b[0m\n\u001b[1;32m     99\u001b[0m             \u001b[0;31m# There must be at least two non-1 lengths for this axis.\u001b[0m\u001b[0;34m\u001b[0m\u001b[0;34m\u001b[0m\u001b[0m\n\u001b[1;32m    100\u001b[0m             raise ValueError(\"shape mismatch: two or more arrays have \"\n\u001b[0;32m--> 101\u001b[0;31m                 \"incompatible dimensions on axis %r.\" % (axis,))\n\u001b[0m\u001b[1;32m    102\u001b[0m         \u001b[0;32melif\u001b[0m \u001b[0mlen\u001b[0m\u001b[0;34m(\u001b[0m\u001b[0munique\u001b[0m\u001b[0;34m)\u001b[0m \u001b[0;34m==\u001b[0m \u001b[0;36m2\u001b[0m\u001b[0;34m:\u001b[0m\u001b[0;34m\u001b[0m\u001b[0m\n\u001b[1;32m    103\u001b[0m             \u001b[0;31m# There is exactly one non-1 length. The common shape will take\u001b[0m\u001b[0;34m\u001b[0m\u001b[0;34m\u001b[0m\u001b[0m\n",
        "\u001b[0;31mValueError\u001b[0m: shape mismatch: two or more arrays have incompatible dimensions on axis 0."
       ]
      }
     ],
     "prompt_number": 80
    },
    {
     "cell_type": "code",
     "collapsed": false,
     "input": [
      "b = b[:, np.newaxis]"
     ],
     "language": "python",
     "metadata": {},
     "outputs": [],
     "prompt_number": 84
    },
    {
     "cell_type": "code",
     "collapsed": false,
     "input": [
      "b"
     ],
     "language": "python",
     "metadata": {},
     "outputs": [
      {
       "metadata": {},
       "output_type": "pyout",
       "prompt_number": 85,
       "text": [
        "array([[ 1.],\n",
        "       [ 5.]])"
       ]
      }
     ],
     "prompt_number": 85
    },
    {
     "cell_type": "code",
     "collapsed": false,
     "input": [
      "b[np.newaxis, :]"
     ],
     "language": "python",
     "metadata": {},
     "outputs": [
      {
       "metadata": {},
       "output_type": "pyout",
       "prompt_number": 86,
       "text": [
        "array([[[ 1.],\n",
        "        [ 5.]]])"
       ]
      }
     ],
     "prompt_number": 86
    },
    {
     "cell_type": "code",
     "collapsed": false,
     "input": [
      "    "
     ],
     "language": "python",
     "metadata": {},
     "outputs": []
    }
   ],
   "metadata": {}
  }
 ]
}