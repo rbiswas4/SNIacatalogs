{
 "metadata": {
  "name": "",
  "signature": "sha256:bb3235792408416c5f0a1d1779eb571e089cf4ad906d8c5d80dba9fc38d28aff"
 },
 "nbformat": 3,
 "nbformat_minor": 0,
 "worksheets": [
  {
   "cells": [
    {
     "cell_type": "code",
     "collapsed": false,
     "input": [
      "import numpy as np\n",
      "import timeit"
     ],
     "language": "python",
     "metadata": {},
     "outputs": [],
     "prompt_number": 1
    },
    {
     "cell_type": "code",
     "collapsed": false,
     "input": [
      "from lsst.sims.catalogs.generation.db import CatalogDBObject\n",
      "from lsst.sims.catalogs.generation.db import ObservationMetaData\n",
      "from sniacatalogs import sncat"
     ],
     "language": "python",
     "metadata": {},
     "outputs": [
      {
       "output_type": "stream",
       "stream": "stderr",
       "text": [
        " This call to matplotlib.use() has no effect\n",
        "because the backend has already been chosen;\n",
        "matplotlib.use() must be called *before* pylab, matplotlib.pyplot,\n",
        "or matplotlib.backends is imported for the first time.\n",
        "\n"
       ]
      }
     ],
     "prompt_number": 2
    },
    {
     "cell_type": "heading",
     "level": 2,
     "metadata": {},
     "source": [
      "Querying the galaxy Tiled object"
     ]
    },
    {
     "cell_type": "code",
     "collapsed": false,
     "input": [
      "galDB = CatalogDBObject.from_objid('galaxyTiled')"
     ],
     "language": "python",
     "metadata": {},
     "outputs": [
      {
       "output_type": "stream",
       "stream": "stderr",
       "text": [
        "/usr/local/manual/anaconda/lib/python2.7/site-packages/sqlalchemy/dialects/mssql/base.py:1294: SAWarning: Did not recognize type 'geography' of column 'geopoint'\n",
        "  return fn(*arg, **kw)\n"
       ]
      }
     ],
     "prompt_number": 3
    },
    {
     "cell_type": "heading",
     "level": 3,
     "metadata": {},
     "source": [
      "Positions only, no flux/mag calculations"
     ]
    },
    {
     "cell_type": "code",
     "collapsed": false,
     "input": [
      "from lsst.sims.catalogs.measures.instance import InstanceCatalog\n",
      "class galCopy(InstanceCatalog):\n",
      "    column_outputs = ['id', 'raJ2000', 'decJ2000', 'redshift']\n",
      "    override_formats = {'raJ2000': '%8e', 'decJ2000': '%8e'}"
     ],
     "language": "python",
     "metadata": {},
     "outputs": [],
     "prompt_number": 4
    },
    {
     "cell_type": "code",
     "collapsed": false,
     "input": [
      "myMJD = 571203.15\n",
      "myObsMD = ObservationMetaData(boundType='circle',\n",
      "                                  boundLength=0.015,\n",
      "                                  unrefractedRA=5.0,\n",
      "                                  unrefractedDec=15.0,\n",
      "                                  site='LSST',\n",
      "                                  bandpassName=['u', 'g', 'r', 'i', 'z', 'y'],\n",
      "                                  mjd=myMJD)"
     ],
     "language": "python",
     "metadata": {},
     "outputs": [],
     "prompt_number": 5
    },
    {
     "cell_type": "code",
     "collapsed": false,
     "input": [
      "# gals = galCopy(db_obj=galDB, obs_metadata=myObsMD)\n",
      "# timer = timeit.Timer('gals.write_catalog(\"gals.dat\")', setup='from __main__ import gals' )\n",
      "# res  = timer.repeat(repeat=3, number=1)"
     ],
     "language": "python",
     "metadata": {},
     "outputs": [],
     "prompt_number": 8
    },
    {
     "cell_type": "code",
     "collapsed": false,
     "input": [
      "blarray = 1.75/200. * np.array(range(10))"
     ],
     "language": "python",
     "metadata": {},
     "outputs": [],
     "prompt_number": 6
    },
    {
     "cell_type": "code",
     "collapsed": false,
     "input": [
      "results = []\n",
      "for bl in blarray:\n",
      "    myObsMD = ObservationMetaData(boundType='circle',\n",
      "                                  boundLength=bl,\n",
      "                                  unrefractedRA=5.0,\n",
      "                                  unrefractedDec=15.0,\n",
      "                                  site='LSST',\n",
      "                                  bandpassName=['u', 'g', 'r', 'i', 'z', 'y'],\n",
      "                                  mjd=myMJD)\n",
      "    gals = galCopy(db_obj=galDB, obs_metadata=myObsMD)\n",
      "    timer = timeit.Timer('gals.write_catalog(\"gals.dat\")', setup='from __main__ import gals' )\n",
      "    res  = timer.repeat(repeat=3, number=1 )\n",
      "    lines = sum(1 for _ in open('gals.dat'))\n",
      "    # print bl\n",
      "    #print \n",
      "    #print lines\n",
      "    it = [bl] + res + [lines]\n",
      "    \n",
      "    #print res\n",
      "    # %timeit gals.write_catalog('gals.dat')\n",
      "    # !wc -l gals.dat\n",
      "    results.append(it)\n",
      "    "
     ],
     "language": "python",
     "metadata": {},
     "outputs": [],
     "prompt_number": 7
    },
    {
     "cell_type": "code",
     "collapsed": false,
     "input": [
      "results"
     ],
     "language": "python",
     "metadata": {},
     "outputs": [
      {
       "metadata": {},
       "output_type": "pyout",
       "prompt_number": 8,
       "text": [
        "[[0.0, 0.15317416191101074, 0.14060091972351074, 0.14217805862426758, 1],\n",
        " [0.0087500000000000008,\n",
        "  0.41063594818115234,\n",
        "  0.3640890121459961,\n",
        "  0.7048149108886719,\n",
        "  226],\n",
        " [0.017500000000000002,\n",
        "  0.5421710014343262,\n",
        "  0.4611821174621582,\n",
        "  0.4594688415527344,\n",
        "  830],\n",
        " [0.026250000000000002,\n",
        "  0.5490210056304932,\n",
        "  0.6110379695892334,\n",
        "  0.5149931907653809,\n",
        "  1854],\n",
        " [0.035000000000000003,\n",
        "  0.6686038970947266,\n",
        "  0.6107010841369629,\n",
        "  0.6143181324005127,\n",
        "  3316],\n",
        " [0.043750000000000004,\n",
        "  0.886721134185791,\n",
        "  0.8313860893249512,\n",
        "  0.8144998550415039,\n",
        "  5158],\n",
        " [0.052500000000000005,\n",
        "  1.0053009986877441,\n",
        "  0.9256458282470703,\n",
        "  0.9165010452270508,\n",
        "  7423],\n",
        " [0.061250000000000006,\n",
        "  1.2375431060791016,\n",
        "  1.1213600635528564,\n",
        "  1.032160997390747,\n",
        "  10078],\n",
        " [0.070000000000000007,\n",
        "  1.4724090099334717,\n",
        "  1.301476001739502,\n",
        "  1.3329551219940186,\n",
        "  13249],\n",
        " [0.078750000000000014,\n",
        "  1.7779309749603271,\n",
        "  1.661513090133667,\n",
        "  1.7462329864501953,\n",
        "  16684]]"
       ]
      }
     ],
     "prompt_number": 8
    },
    {
     "cell_type": "code",
     "collapsed": false,
     "input": [
      "%matplotlib inline\n",
      "import matplotlib.pyplot as plt\n",
      "import seaborn as sns\n",
      "sns.set()"
     ],
     "language": "python",
     "metadata": {},
     "outputs": [],
     "prompt_number": 9
    },
    {
     "cell_type": "code",
     "collapsed": false,
     "input": [
      "from bb"
     ],
     "language": "python",
     "metadata": {},
     "outputs": [
      {
       "ename": "ImportError",
       "evalue": "No module named plotutils",
       "output_type": "pyerr",
       "traceback": [
        "\u001b[0;31m---------------------------------------------------------------------------\u001b[0m\n\u001b[0;31mImportError\u001b[0m                               Traceback (most recent call last)",
        "\u001b[0;32m<ipython-input-24-ea90cdb8bbde>\u001b[0m in \u001b[0;36m<module>\u001b[0;34m()\u001b[0m\n\u001b[0;32m----> 1\u001b[0;31m \u001b[0;32mimport\u001b[0m \u001b[0mplotutils\u001b[0m \u001b[0;32mas\u001b[0m \u001b[0mpu\u001b[0m\u001b[0;34m\u001b[0m\u001b[0m\n\u001b[0m",
        "\u001b[0;31mImportError\u001b[0m: No module named plotutils"
       ]
      }
     ],
     "prompt_number": 24
    },
    {
     "cell_type": "code",
     "collapsed": false,
     "input": [
      "results = np.array(results)"
     ],
     "language": "python",
     "metadata": {},
     "outputs": [],
     "prompt_number": 10
    },
    {
     "cell_type": "code",
     "collapsed": false,
     "input": [
      "def factor(patchlen, maxlen=1.75  ):\n",
      "    return (maxlen / patchlen)**2"
     ],
     "language": "python",
     "metadata": {},
     "outputs": [],
     "prompt_number": 38
    },
    {
     "cell_type": "code",
     "collapsed": false,
     "input": [
      "factor(results[1:,0])"
     ],
     "language": "python",
     "metadata": {},
     "outputs": [
      {
       "metadata": {},
       "output_type": "pyout",
       "prompt_number": 41,
       "text": [
        "array([ 40000.        ,  10000.        ,   4444.44444444,   2500.        ,\n",
        "         1600.        ,   1111.11111111,    816.32653061,    625.        ,\n",
        "          493.82716049])"
       ]
      }
     ],
     "prompt_number": 41
    },
    {
     "cell_type": "code",
     "collapsed": false,
     "input": [
      "results = results[1:]"
     ],
     "language": "python",
     "metadata": {},
     "outputs": [],
     "prompt_number": 42
    },
    {
     "cell_type": "code",
     "collapsed": false,
     "input": [
      "results"
     ],
     "language": "python",
     "metadata": {},
     "outputs": [
      {
       "metadata": {},
       "output_type": "pyout",
       "prompt_number": 43,
       "text": [
        "array([[  8.75000000e-03,   4.10635948e-01,   3.64089012e-01,\n",
        "          7.04814911e-01,   2.26000000e+02],\n",
        "       [  1.75000000e-02,   5.42171001e-01,   4.61182117e-01,\n",
        "          4.59468842e-01,   8.30000000e+02],\n",
        "       [  2.62500000e-02,   5.49021006e-01,   6.11037970e-01,\n",
        "          5.14993191e-01,   1.85400000e+03],\n",
        "       [  3.50000000e-02,   6.68603897e-01,   6.10701084e-01,\n",
        "          6.14318132e-01,   3.31600000e+03],\n",
        "       [  4.37500000e-02,   8.86721134e-01,   8.31386089e-01,\n",
        "          8.14499855e-01,   5.15800000e+03],\n",
        "       [  5.25000000e-02,   1.00530100e+00,   9.25645828e-01,\n",
        "          9.16501045e-01,   7.42300000e+03],\n",
        "       [  6.12500000e-02,   1.23754311e+00,   1.12136006e+00,\n",
        "          1.03216100e+00,   1.00780000e+04],\n",
        "       [  7.00000000e-02,   1.47240901e+00,   1.30147600e+00,\n",
        "          1.33295512e+00,   1.32490000e+04],\n",
        "       [  7.87500000e-02,   1.77793097e+00,   1.66151309e+00,\n",
        "          1.74623299e+00,   1.66840000e+04]])"
       ]
      }
     ],
     "prompt_number": 43
    },
    {
     "cell_type": "code",
     "collapsed": false,
     "input": [
      "fig, ax = plt.subplots(2,2)\n",
      "ax[0, 0].errorbar(results[:, 0], np.mean(results[:, 1:4], axis=1), np.std(results[:, 1:4], axis=1), fmt='o')\n",
      "ax[1, 0].errorbar(results[:, 0], np.mean(results[:, 1:4], axis=1)*factor(results[:, 0]), np.std(results[:, 1:4], axis=1)*factor(results[:, 0]), fmt='o')\n",
      "ax[0, 1].errorbar(np.log10(results[:, -1]), np.mean(results[:, 1:4], axis=1), np.std(results[:, 1:4], axis=1), fmt='o')\n",
      "ax[1, 1].errorbar(np.log10(results[:, -1]), np.mean(results[:, 1:4], axis=1)*factor(results[:, 0]), np.std(results[:, 1:4], axis=1)*factor(results[:, 0]), fmt='o')"
     ],
     "language": "python",
     "metadata": {},
     "outputs": [
      {
       "metadata": {},
       "output_type": "pyout",
       "prompt_number": 58,
       "text": [
        "<Container object of 3 artists>"
       ]
      },
      {
       "metadata": {},
       "output_type": "display_data",
       "png": "[encoded data removed]",
       "text": [
        "<matplotlib.figure.Figure at 0x116c98750>"
       ]
      }
     ],
     "prompt_number": 58
    }
   ],
   "metadata": {}
  }
 ]
}