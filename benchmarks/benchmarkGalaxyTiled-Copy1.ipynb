{
 "metadata": {
  "name": "",
  "signature": "sha256:85fc10d726795910f6d13739cd5194f9741b1b69afb57796bf84e5ef2f504857"
 },
 "nbformat": 3,
 "nbformat_minor": 0,
 "worksheets": [
  {
   "cells": [
    {
     "cell_type": "code",
     "collapsed": false,
     "input": [
      "import numpy as np\n",
      "import timeit"
     ],
     "language": "python",
     "metadata": {},
     "outputs": [],
     "prompt_number": 2
    },
    {
     "cell_type": "code",
     "collapsed": false,
     "input": [
      "from lsst.sims.catalogs.generation.db import CatalogDBObject\n",
      "from sniacatalogs import sncat"
     ],
     "language": "python",
     "metadata": {},
     "outputs": [],
     "prompt_number": 3
    },
    {
     "cell_type": "code",
     "collapsed": false,
     "input": [
      "from lsst.sims.utils import ObservationMetaData"
     ],
     "language": "python",
     "metadata": {},
     "outputs": [],
     "prompt_number": 14
    },
    {
     "cell_type": "code",
     "collapsed": false,
     "input": [
      "import lsst.sims.catUtils.baseCatalogModels as bcm"
     ],
     "language": "python",
     "metadata": {},
     "outputs": [
      {
       "output_type": "stream",
       "stream": "stderr",
       "text": [
        "Duplicate object type id 25 specified: \n",
        "Output object ids may not be unique.\n",
        "This may not be a problem if you do not want globally unique id values\n"
       ]
      }
     ],
     "prompt_number": 5
    },
    {
     "cell_type": "heading",
     "level": 2,
     "metadata": {},
     "source": [
      "Querying the galaxy Tiled object"
     ]
    },
    {
     "cell_type": "code",
     "collapsed": false,
     "input": [
      "galDB = CatalogDBObject.from_objid('galaxyTiled')"
     ],
     "language": "python",
     "metadata": {},
     "outputs": [
      {
       "output_type": "stream",
       "stream": "stderr",
       "text": [
        "/usr/local/manual/anaconda/lib/python2.7/site-packages/sqlalchemy/dialects/mssql/base.py:1294: SAWarning: Did not recognize type 'geography' of column 'geopoint'\n",
        "  return fn(*arg, **kw)\n"
       ]
      }
     ],
     "prompt_number": 6
    },
    {
     "cell_type": "heading",
     "level": 3,
     "metadata": {},
     "source": [
      "Positions only, no flux/mag calculations"
     ]
    },
    {
     "cell_type": "code",
     "collapsed": false,
     "input": [
      "from lsst.sims.catalogs.measures.instance import InstanceCatalog\n",
      "class galCopy(InstanceCatalog):\n",
      "    column_outputs = ['id', 'raJ2000', 'decJ2000', 'redshift']\n",
      "    override_formats = {'raJ2000': '%8e', 'decJ2000': '%8e'}"
     ],
     "language": "python",
     "metadata": {},
     "outputs": [],
     "prompt_number": 7
    },
    {
     "cell_type": "code",
     "collapsed": false,
     "input": [
      "myMJD = 571203.15\n",
      "myObsMD = ObservationMetaData(boundType='circle',\n",
      "                                  boundLength=0.015,\n",
      "                                  unrefractedRA=5.0,\n",
      "                                  unrefractedDec=15.0,\n",
      "                                  #site=None,\n",
      "                                  bandpassName=['u', 'g', 'r', 'i', 'z', 'y'],\n",
      "                                  mjd=myMJD)"
     ],
     "language": "python",
     "metadata": {},
     "outputs": [],
     "prompt_number": 16
    },
    {
     "cell_type": "code",
     "collapsed": false,
     "input": [
      "# gals = galCopy(db_obj=galDB, obs_metadata=myObsMD)\n",
      "# timer = timeit.Timer('gals.write_catalog(\"gals.dat\")', setup='from __main__ import gals' )\n",
      "# res  = timer.repeat(repeat=3, number=1)"
     ],
     "language": "python",
     "metadata": {},
     "outputs": [],
     "prompt_number": 8
    },
    {
     "cell_type": "code",
     "collapsed": false,
     "input": [
      "blarray = 1.75/200. * np.array(range(10))\n",
      "# blarray = blarray[::5,]"
     ],
     "language": "python",
     "metadata": {},
     "outputs": [],
     "prompt_number": 33
    },
    {
     "cell_type": "code",
     "collapsed": false,
     "input": [
      "blarray"
     ],
     "language": "python",
     "metadata": {},
     "outputs": [
      {
       "metadata": {},
       "output_type": "pyout",
       "prompt_number": 34,
       "text": [
        "array([ 0.     ,  0.00875,  0.0175 ,  0.02625,  0.035  ,  0.04375,\n",
        "        0.0525 ,  0.06125,  0.07   ,  0.07875])"
       ]
      }
     ],
     "prompt_number": 34
    },
    {
     "cell_type": "code",
     "collapsed": false,
     "input": [
      "results = []\n",
      "for bl in blarray:\n",
      "    myObsMD = ObservationMetaData(boundType='circle',\n",
      "                                  boundLength=bl,\n",
      "                                  unrefractedRA=5.0,\n",
      "                                  unrefractedDec=15.0,\n",
      "                                  site='LSST',\n",
      "                                  bandpassName=['u', 'g', 'r', 'i', 'z', 'y'],\n",
      "                                  mjd=myMJD)\n",
      "    gals = galCopy(db_obj=galDB, obs_metadata=myObsMD)\n",
      "    timer = timeit.Timer('gals.write_catalog(\"gals.dat\")', setup='from __main__ import gals' )\n",
      "    res  = timer.repeat(repeat=3, number=1 )\n",
      "    lines = sum(1 for _ in open('gals.dat'))\n",
      "    # print bl\n",
      "    #print \n",
      "    #print lines\n",
      "    it = [bl] + res + [lines]\n",
      "    \n",
      "    #print res\n",
      "    # %timeit gals.write_catalog('gals.dat')\n",
      "    # !wc -l gals.dat\n",
      "    results.append(it)\n",
      "    "
     ],
     "language": "python",
     "metadata": {},
     "outputs": [],
     "prompt_number": 52
    },
    {
     "cell_type": "code",
     "collapsed": false,
     "input": [
      "results"
     ],
     "language": "python",
     "metadata": {},
     "outputs": [
      {
       "metadata": {},
       "output_type": "pyout",
       "prompt_number": 53,
       "text": [
        "[[0.0, 0.15021014213562012, 0.1458280086517334, 0.1444871425628662, 1],\n",
        " [0.0087500000000000008,\n",
        "  0.4377329349517822,\n",
        "  0.5133929252624512,\n",
        "  0.5102870464324951,\n",
        "  226],\n",
        " [0.017500000000000002,\n",
        "  0.5277400016784668,\n",
        "  0.6760060787200928,\n",
        "  0.679832935333252,\n",
        "  830],\n",
        " [0.026250000000000002,\n",
        "  0.7459781169891357,\n",
        "  0.7587161064147949,\n",
        "  0.7458992004394531,\n",
        "  1854],\n",
        " [0.035000000000000003,\n",
        "  1.0018789768218994,\n",
        "  1.0613679885864258,\n",
        "  0.9377250671386719,\n",
        "  3316],\n",
        " [0.043750000000000004,\n",
        "  1.2386281490325928,\n",
        "  1.3250548839569092,\n",
        "  1.3086249828338623,\n",
        "  5158],\n",
        " [0.052500000000000005,\n",
        "  1.7125132083892822,\n",
        "  14.593562841415405,\n",
        "  1.6328778266906738,\n",
        "  7423],\n",
        " [0.061250000000000006,\n",
        "  2.365787982940674,\n",
        "  2.235460042953491,\n",
        "  1.9724509716033936,\n",
        "  10078],\n",
        " [0.070000000000000007,\n",
        "  2.4199960231781006,\n",
        "  2.348673105239868,\n",
        "  2.316838026046753,\n",
        "  13249],\n",
        " [0.078750000000000014,\n",
        "  2.9072678089141846,\n",
        "  2.8806698322296143,\n",
        "  3.879239082336426,\n",
        "  16684]]"
       ]
      }
     ],
     "prompt_number": 53
    },
    {
     "cell_type": "code",
     "collapsed": false,
     "input": [
      "%matplotlib inline\n",
      "import matplotlib.pyplot as plt\n",
      "import seaborn as sns\n",
      "sns.set()"
     ],
     "language": "python",
     "metadata": {},
     "outputs": [],
     "prompt_number": 54
    },
    {
     "cell_type": "code",
     "collapsed": false,
     "input": [
      "results = np.array(results)"
     ],
     "language": "python",
     "metadata": {},
     "outputs": [],
     "prompt_number": 47
    },
    {
     "cell_type": "code",
     "collapsed": false,
     "input": [
      "results = results[1:]\n",
      "results[0]"
     ],
     "language": "python",
     "metadata": {},
     "outputs": [
      {
       "metadata": {},
       "output_type": "pyout",
       "prompt_number": 48,
       "text": [
        "array([  1.75000000e-02,   5.81269026e-01,   5.81193924e-01,\n",
        "         5.95504999e-01,   8.30000000e+02])"
       ]
      }
     ],
     "prompt_number": 48
    },
    {
     "cell_type": "code",
     "collapsed": false,
     "input": [
      "def factor(patchlen, maxlen=1.75  ):\n",
      "    return (maxlen / patchlen)**2"
     ],
     "language": "python",
     "metadata": {},
     "outputs": [],
     "prompt_number": 49
    },
    {
     "cell_type": "code",
     "collapsed": false,
     "input": [
      "fig, ax = plt.subplots(2,2)\n",
      "ax[0, 0].errorbar(results[:, 0], np.mean(results[:, 1:4], axis=1), np.std(results[:, 1:4], axis=1), fmt='o')\n",
      "ax[1, 0].errorbar(results[:, 0], np.mean(results[:, 1:4], axis=1)*factor(results[:, 0]), np.std(results[:, 1:4], axis=1)*factor(results[:, 0]), fmt='o')\n",
      "ax[0,0].set_ylabel('Time (s)')\n",
      "ax[0, 1].errorbar(np.log10(results[:, -1]), np.mean(results[:, 1:4], axis=1), np.std(results[:, 1:4], axis=1), fmt='o')\n",
      "ax[1, 1].errorbar(np.log10(results[:, -1]), np.mean(results[:, 1:4], axis=1)*factor(results[:, 0]), np.std(results[:, 1:4], axis=1)*factor(results[:, 0]), fmt='o')\n",
      "ax[1,0].set_ylabel('Time*num needed (s)')\n",
      "ax[1, 0].set_xlabel('bound Length (deg)')\n",
      "ax[1, 1].set_xlabel('num gals')"
     ],
     "language": "python",
     "metadata": {},
     "outputs": [
      {
       "metadata": {},
       "output_type": "pyout",
       "prompt_number": 50,
       "text": [
        "<matplotlib.text.Text at 0x1127f2dd0>"
       ]
      },
      {
       "metadata": {},
       "output_type": "display_data",
       "png": "[encoded data removed]",
       "text": [
        "<matplotlib.figure.Figure at 0x11139ab50>"
       ]
      }
     ],
     "prompt_number": 50
    },
    {
     "cell_type": "code",
     "collapsed": false,
     "input": [
      "fig.savefig('queryTimes2.pdf')"
     ],
     "language": "python",
     "metadata": {},
     "outputs": [],
     "prompt_number": 51
    },
    {
     "cell_type": "code",
     "collapsed": false,
     "input": [
      "np.savetxt('querylonger.txt', results)"
     ],
     "language": "python",
     "metadata": {},
     "outputs": [],
     "prompt_number": 43
    },
    {
     "cell_type": "code",
     "collapsed": false,
     "input": [
      "plt.plot(results[:, 0], np.mean(results[:, 1:4], axis=1))"
     ],
     "language": "python",
     "metadata": {},
     "outputs": [
      {
       "metadata": {},
       "output_type": "pyout",
       "prompt_number": 44,
       "text": [
        "[<matplotlib.lines.Line2D at 0x112473310>]"
       ]
      },
      {
       "metadata": {},
       "output_type": "display_data",
       "png": "[encoded data removed]",
       "text": [
        "<matplotlib.figure.Figure at 0x111424210>"
       ]
      }
     ],
     "prompt_number": 44
    },
    {
     "cell_type": "code",
     "collapsed": false,
     "input": [
      "np.mean(results[:,1:4], axis=1)"
     ],
     "language": "python",
     "metadata": {},
     "outputs": [
      {
       "metadata": {},
       "output_type": "pyout",
       "prompt_number": 17,
       "text": [
        "array([ 0.14531771,  0.49317996,  0.48760732,  0.55835072,  0.6312077 ,\n",
        "        0.84420236,  0.94914929,  1.13035472,  1.36894671,  1.72855902])"
       ]
      }
     ],
     "prompt_number": 17
    },
    {
     "cell_type": "code",
     "collapsed": false,
     "input": [],
     "language": "python",
     "metadata": {},
     "outputs": []
    }
   ],
   "metadata": {}
  }
 ]
}