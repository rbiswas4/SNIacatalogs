{
 "metadata": {
  "name": "",
  "signature": "sha256:4cfb6b484d9210f1114ab274c3a2017bafd1727d7e6aa869db4a01eaeca15fe0"
 },
 "nbformat": 3,
 "nbformat_minor": 0,
 "worksheets": [
  {
   "cells": [
    {
     "cell_type": "code",
     "collapsed": false,
     "input": [
      "import numpy as np\n",
      "import timeit"
     ],
     "language": "python",
     "metadata": {},
     "outputs": [],
     "prompt_number": 1
    },
    {
     "cell_type": "code",
     "collapsed": false,
     "input": [
      "from lsst.sims.catalogs.generation.db import CatalogDBObject\n",
      "from sniacatalogs import sncat"
     ],
     "language": "python",
     "metadata": {},
     "outputs": [],
     "prompt_number": 2
    },
    {
     "cell_type": "code",
     "collapsed": false,
     "input": [
      "from lsst.sims.utils import ObservationMetaData"
     ],
     "language": "python",
     "metadata": {},
     "outputs": [],
     "prompt_number": 3
    },
    {
     "cell_type": "code",
     "collapsed": false,
     "input": [
      "import lsst.sims.catUtils.baseCatalogModels as bcm"
     ],
     "language": "python",
     "metadata": {},
     "outputs": [
      {
       "output_type": "stream",
       "stream": "stderr",
       "text": [
        "Duplicate object type id 25 specified: \n",
        "Output object ids may not be unique.\n",
        "This may not be a problem if you do not want globally unique id values\n"
       ]
      }
     ],
     "prompt_number": 4
    },
    {
     "cell_type": "heading",
     "level": 2,
     "metadata": {},
     "source": [
      "Querying the galaxy Tiled object"
     ]
    },
    {
     "cell_type": "code",
     "collapsed": false,
     "input": [
      "galDB = CatalogDBObject.from_objid('galaxyTiled')"
     ],
     "language": "python",
     "metadata": {},
     "outputs": [
      {
       "output_type": "stream",
       "stream": "stderr",
       "text": [
        "/usr/local/manual/anaconda/lib/python2.7/site-packages/sqlalchemy/dialects/mssql/base.py:1294: SAWarning: Did not recognize type 'geography' of column 'geopoint'\n",
        "  return fn(*arg, **kw)\n"
       ]
      }
     ],
     "prompt_number": 5
    },
    {
     "cell_type": "heading",
     "level": 3,
     "metadata": {},
     "source": [
      "Positions only, no flux/mag calculations"
     ]
    },
    {
     "cell_type": "code",
     "collapsed": false,
     "input": [
      "galDB.columnMap"
     ],
     "language": "python",
     "metadata": {},
     "outputs": [
      {
       "metadata": {},
       "output_type": "pyout",
       "prompt_number": 6,
       "text": [
        "OrderedDict([('galtileid', 'galtileid'), ('galid', 'galid'), ('raJ2000', 'ra'), ('decJ2000', 'dec'), ('raJ2000Bulge', 'bra*PI()/180.'), ('decJ2000Bulge', 'bdec*PI()/180.'), ('raJ2000Disk', 'dra*PI()/180.'), ('decJ2000Disk', 'ddec*PI()/180.'), ('raJ2000Agn', 'agnra*PI()/180.'), ('decJ2000Agn', 'agndec*PI()/180.'), ('magNormBulge', 'magnorm_bulge'), ('magNormDisk', 'magnorm_disk'), ('magNormAgn', 'magnorm_agn'), ('sedFilenameBulge', 'sedname_bulge'), ('sedFilenameDisk', 'sedname_disk'), ('sedFilenameAgn', 'sedname_agn'), ('majorAxisBulge', 'a_b*PI()/648000.'), ('minorAxisBulge', 'b_b*PI()/648000.'), ('positionAngleBulge', 'pa_bulge*PI()/180.'), ('sindexBulge', 'bulge_n'), ('majorAxisDisk', 'a_d*PI()/648000.'), ('minorAxisDisk', 'b_d*PI()/648000.'), ('positionAngleDisk', 'pa_disk*PI()/180.'), ('sindexDisk', 'disk_n'), ('internalExtinctionModelBulge', 'ext_model_b'), ('internalAvBulge', 'av_b'), ('internalRvBulge', 'rv_b'), ('internalExtinctionModelDisk', 'ext_model_d'), ('internalAvDisk', 'av_d'), ('internalRvDisk', 'rv_d'), ('lsst_u', 'u_ab'), ('lsst_g', 'g_ab'), ('lsst_r', 'r_ab'), ('lsst_i', 'i_ab'), ('lsst_z', 'z_ab'), ('lsst_y', 'y_ab'), ('htmid', 'htmid'), ('ra', 'ra'), ('dec', 'dec'), ('redshift', 'redshift'), ('rad_vel', 'rad_vel'), ('u_ab', 'u_ab'), ('g_ab', 'g_ab'), ('r_ab', 'r_ab'), ('i_ab', 'i_ab'), ('z_ab', 'z_ab'), ('y_ab', 'y_ab'), ('sedid_bulge', 'sedid_bulge'), ('sedid_disk', 'sedid_disk'), ('sedid_agn', 'sedid_agn'), ('av_b', 'av_b'), ('rv_b', 'rv_b'), ('ext_model_b', 'ext_model_b'), ('av_d', 'av_d'), ('rv_d', 'rv_d'), ('ext_model_d', 'ext_model_d'), ('glon', 'glon'), ('glat', 'glat'), ('pa_bulge', 'pa_bulge'), ('pa_disk', 'pa_disk'), ('inc_bulge_deg', 'inc_bulge_deg'), ('inc_disk_deg', 'inc_disk_deg'), ('a_b', 'a_b'), ('b_b', 'b_b'), ('bulge_n', 'bulge_n'), ('bra', 'bra'), ('bdec', 'bdec'), ('a_d', 'a_d'), ('b_d', 'b_d'), ('disk_n', 'disk_n'), ('dra', 'dra'), ('ddec', 'ddec'), ('agnra', 'agnra'), ('agndec', 'agndec'), ('versionid', 'versionid'), ('fluxnorm_bulge', 'fluxnorm_bulge'), ('fluxnorm_agn', 'fluxnorm_agn'), ('absmag_r_total', 'absmag_r_total'), ('gal_type', 'gal_type'), ('mass_stellar', 'mass_stellar'), ('mass_gas', 'mass_gas'), ('mass_halo', 'mass_halo'), ('ug_total_rest', 'ug_total_rest'), ('gr_total_rest', 'gr_total_rest'), ('ri_total_rest', 'ri_total_rest'), ('iz_total_rest', 'iz_total_rest'), ('zy_total_rest', 'zy_total_rest'), ('isagn', 'isagn'), ('agn_tau', 'agn_tau'), ('agn_sfu', 'agn_sfu'), ('agn_sfg', 'agn_sfg'), ('agn_sfr', 'agn_sfr'), ('agn_sfi', 'agn_sfi'), ('agn_sfz', 'agn_sfz'), ('agn_sfy', 'agn_sfy'), ('fluxnorm_disk', 'fluxnorm_disk'), ('magnorm_bulge', 'magnorm_bulge'), ('magnorm_disk', 'magnorm_disk'), ('magnorm_agn', 'magnorm_agn'), ('cx', 'cx'), ('cy', 'cy'), ('cz', 'cz'), ('sedname_agn', 'sedname_agn'), ('sedname_bulge', 'sedname_bulge'), ('sedname_disk', 'sedname_disk'), ('varsimobjid', 'varsimobjid'), ('varParamStr', 'varParamStr'), ('type', 'type'), ('mass_bulge', 'mass_bulge'), ('BulgeMinusDiskLSSTr', 'BulgeMinusDiskLSSTr'), ('log10BulgeToTotLSSTrFlux', 'log10BulgeToTotLSSTrFlux'), ('AbsiMag', 'AbsiMag'), ('AbsiMag0_1', 'AbsiMag0_1'), ('z0_1umg', 'z0_1umg'), ('z0_1gmr', 'z0_1gmr'), ('z0_1rmi', 'z0_1rmi'), ('z0_1imz', 'z0_1imz'), ('z0_1zmy', 'z0_1zmy'), ('ba_disk', 'ba_disk'), ('ba_bulge', 'ba_bulge'), ('DiskHalfLightRadius', 'DiskHalfLightRadius'), ('DiskLSSTu', 'DiskLSSTu'), ('DiskLSSTg', 'DiskLSSTg'), ('DiskLSSTr', 'DiskLSSTr'), ('DiskLSSTi', 'DiskLSSTi'), ('DiskLSSTz', 'DiskLSSTz'), ('DiskLSSTy', 'DiskLSSTy'), ('BulgeLSSTu', 'BulgeLSSTu'), ('BulgeLSSTg', 'BulgeLSSTg'), ('BulgeLSSTr', 'BulgeLSSTr'), ('BulgeLSSTi', 'BulgeLSSTi'), ('BulgeLSSTz', 'BulgeLSSTz'), ('BulgeLSSTy', 'BulgeLSSTy'), ('AGNID', 'AGNID'), ('BulgeHalfLightRadius', 'BulgeHalfLightRadius'), ('t0_agn', 't0_agn'), ('id', 'id'), ('myid', 'myid')])"
       ]
      }
     ],
     "prompt_number": 6
    },
    {
     "cell_type": "code",
     "collapsed": false,
     "input": [
      "from lsst.sims.catalogs.measures.instance import InstanceCatalog\n",
      "class galCopy(InstanceCatalog):\n",
      "    column_outputs = ['id', 'raJ2000', 'decJ2000', 'redshift']\n",
      "    override_formats = {'raJ2000': '%8e', 'decJ2000': '%8e'}"
     ],
     "language": "python",
     "metadata": {},
     "outputs": [],
     "prompt_number": 7
    },
    {
     "cell_type": "code",
     "collapsed": false,
     "input": [
      "myMJD = 57103.15\n",
      "myObsMD = ObservationMetaData(boundType='circle',\n",
      "                                  boundLength=0.015,\n",
      "                                  unrefractedRA=5.0,\n",
      "                                  unrefractedDec=15.0,\n",
      "                                  #site=None,\n",
      "                                  bandpassName=['u', 'g', 'r', 'i', 'z', 'y'],\n",
      "                                  mjd=myMJD)"
     ],
     "language": "python",
     "metadata": {},
     "outputs": [],
     "prompt_number": 8
    },
    {
     "cell_type": "code",
     "collapsed": false,
     "input": [
      "# gals = galCopy(db_obj=galDB, obs_metadata=myObsMD)\n",
      "# timer = timeit.Timer('gals.write_catalog(\"gals.dat\")', setup='from __main__ import gals' )\n",
      "# res  = timer.repeat(repeat=3, number=1)"
     ],
     "language": "python",
     "metadata": {},
     "outputs": [],
     "prompt_number": 9
    },
    {
     "cell_type": "code",
     "collapsed": false,
     "input": [],
     "language": "python",
     "metadata": {},
     "outputs": [],
     "prompt_number": 9
    },
    {
     "cell_type": "code",
     "collapsed": false,
     "input": [
      "blarray = 1.75/10. * np.array(range(10))\n",
      "# blarray = blarray[::5,]"
     ],
     "language": "python",
     "metadata": {},
     "outputs": [],
     "prompt_number": 10
    },
    {
     "cell_type": "code",
     "collapsed": false,
     "input": [
      "blarray"
     ],
     "language": "python",
     "metadata": {},
     "outputs": [
      {
       "metadata": {},
       "output_type": "pyout",
       "prompt_number": 11,
       "text": [
        "array([ 0.   ,  0.175,  0.35 ,  0.525,  0.7  ,  0.875,  1.05 ,  1.225,\n",
        "        1.4  ,  1.575])"
       ]
      }
     ],
     "prompt_number": 11
    },
    {
     "cell_type": "code",
     "collapsed": false,
     "input": [
      "angles = [[70.046897947939286, -42.788602731928904],\n",
      " [199.23312441057382, -19.413815451315248],\n",
      " [111.05881585294702, 12.520789401214367],\n",
      " [164.14112103641679, -32.992113055002577],\n",
      " [172.02078040973294, -45.277932464433789],\n",
      " [110.60222578600725, -27.292729979497739],\n",
      " [180.00001984784282, -79.219665769086191],\n",
      " [50.000995457035707, 4.1267285194297543],\n",
      " [271.56669691888021, -44.610379337326869],\n",
      " [203.62324162842521, -6.798889084360888],\n",
      " [0.0, 2.6350328998066561],\n",
      " [131.82549925012518, -17.257145014663319],\n",
      " [163.14159616281106, -80.199595486098445],\n",
      " [237.10792649990177, -29.966322938916701],\n",
      " [337.38860408552483, -35.441622220745877],\n",
      " [269.30586275507352, -49.677331598566312],\n",
      " [61.049283324763863, -25.626683302816332],\n",
      " [31.113384444768609, -10.097006040472445],\n",
      " [128.68288303961211, -11.673556709554418],\n",
      " [64.593485653884116, -39.869153582619312],\n",
      " [86.754175366615542, -57.958118724253552],\n",
      " [48.788674058318399, -8.360542850769459],\n",
      " [343.05515667936862, -8.9500018304000513],\n",
      " [298.99544707894199, -47.819229468957047],\n",
      " [211.32201822581857, -4.7286206832146842],\n",
      " [199.56664314311948, -44.610379337326869],\n",
      " [226.99545059896079, -47.819229468957047],\n",
      " [178.30412207003511, -19.534594954528828],\n",
      " [76.61414019572878, -9.8541865268960027],\n",
      " [294.61277831242728, -48.075341603380522]]"
     ],
     "language": "python",
     "metadata": {},
     "outputs": [],
     "prompt_number": 12
    },
    {
     "cell_type": "code",
     "collapsed": false,
     "input": [
      "len(angles)"
     ],
     "language": "python",
     "metadata": {},
     "outputs": [
      {
       "metadata": {},
       "output_type": "pyout",
       "prompt_number": 13,
       "text": [
        "30"
       ]
      }
     ],
     "prompt_number": 13
    },
    {
     "cell_type": "code",
     "collapsed": false,
     "input": [
      "len(blarray)"
     ],
     "language": "python",
     "metadata": {},
     "outputs": [
      {
       "metadata": {},
       "output_type": "pyout",
       "prompt_number": 14,
       "text": [
        "10"
       ]
      }
     ],
     "prompt_number": 14
    },
    {
     "cell_type": "code",
     "collapsed": false,
     "input": [
      "width = len(angles) / len(blarray)"
     ],
     "language": "python",
     "metadata": {},
     "outputs": [],
     "prompt_number": 24
    },
    {
     "cell_type": "code",
     "collapsed": false,
     "input": [
      "type(width)"
     ],
     "language": "python",
     "metadata": {},
     "outputs": [
      {
       "metadata": {},
       "output_type": "pyout",
       "prompt_number": 26,
       "text": [
        "int"
       ]
      }
     ],
     "prompt_number": 26
    },
    {
     "cell_type": "code",
     "collapsed": false,
     "input": [
      "results = []\n",
      "for i, bl in enumerate(blarray):\n",
      "    for j in range(width):\n",
      "        m = i + j\n",
      "        myObsMD = ObservationMetaData(boundType='circle',\n",
      "                                  boundLength=bl,\n",
      "                                  unrefractedRA=angles[m][0],\n",
      "                                  unrefractedDec=angles[m][1],\n",
      "                                  site=None,\n",
      "                                  bandpassName=['u', 'g', 'r', 'i', 'z', 'y'],\n",
      "                                  mjd=myMJD)\n",
      "        gals = galCopy(db_obj=galDB, obs_metadata=myObsMD, constraint='r_ab < 24.0')\n",
      "        timer = timeit.Timer('gals.write_catalog(\"gals.dat\")', setup='from __main__ import gals' )\n",
      "        res  = timer.repeat(repeat=1, number=1 )\n",
      "        lines = sum(1 for _ in open('gals.dat'))\n",
      "        # print bl\n",
      "        #print \n",
      "        #print lines\n",
      "        it = [bl] + res + [lines]\n",
      "    \n",
      "        # print res\n",
      "        # %timeit gals.write_catalog('gals.dat')\n",
      "        # !wc -l gals.dat\n",
      "        results.append(it)\n",
      "        np.savetxt('results.dat',np.array(results))\n",
      "    "
     ],
     "language": "python",
     "metadata": {},
     "outputs": []
    },
    {
     "cell_type": "code",
     "collapsed": false,
     "input": [
      "results"
     ],
     "language": "python",
     "metadata": {},
     "outputs": [
      {
       "metadata": {},
       "output_type": "pyout",
       "prompt_number": 16,
       "text": [
        "[[0.0, 0.20263314247131348, 1],\n",
        " [0.17499999999999999, 5.909137010574341, 5078],\n",
        " [0.34999999999999998, 8.276880979537964, 20667],\n",
        " [0.52499999999999991, 16.844318866729736, 42890],\n",
        " [0.69999999999999996, 22.46929383277893, 77057],\n",
        " [0.875, 26.03563904762268, 129745],\n",
        " [1.0499999999999998, 49.37286400794983, 183848],\n",
        " [1.2249999999999999, 45.33920502662659, 246789],\n",
        " [1.3999999999999999, 64.74550700187683, 314280],\n",
        " [1.575, 85.90559005737305, 410944]]"
       ]
      }
     ],
     "prompt_number": 16
    },
    {
     "cell_type": "code",
     "collapsed": false,
     "input": [
      "%matplotlib inline\n",
      "import matplotlib.pyplot as plt\n",
      "import seaborn as sns\n",
      "sns.set()"
     ],
     "language": "python",
     "metadata": {},
     "outputs": [],
     "prompt_number": 17
    },
    {
     "cell_type": "code",
     "collapsed": false,
     "input": [
      "results = np.array(results)"
     ],
     "language": "python",
     "metadata": {},
     "outputs": [],
     "prompt_number": 18
    },
    {
     "cell_type": "code",
     "collapsed": false,
     "input": [
      "results = results[1:]\n",
      "results[0]"
     ],
     "language": "python",
     "metadata": {},
     "outputs": [
      {
       "metadata": {},
       "output_type": "pyout",
       "prompt_number": 19,
       "text": [
        "array([  1.75000000e-01,   5.90913701e+00,   5.07800000e+03])"
       ]
      }
     ],
     "prompt_number": 19
    },
    {
     "cell_type": "code",
     "collapsed": false,
     "input": [
      "def factor(patchlen, maxlen=1.75  ):\n",
      "    return (maxlen / patchlen)**2"
     ],
     "language": "python",
     "metadata": {},
     "outputs": [],
     "prompt_number": 20
    },
    {
     "cell_type": "code",
     "collapsed": false,
     "input": [
      "fig, ax = plt.subplots(2,2)\n",
      "ax[0, 0].errorbar(results[:, 0], np.mean(results[:, 1:4], axis=1), np.std(results[:, 1:4], axis=1), fmt='o')\n",
      "ax[1, 0].errorbar(results[:, 0], np.mean(results[:, 1:4], axis=1)*factor(results[:, 0]), np.std(results[:, 1:4], axis=1)*factor(results[:, 0]), fmt='o')\n",
      "ax[0,0].set_ylabel('Time (s)')\n",
      "ax[0, 1].errorbar(np.log10(results[:, -1]), np.mean(results[:, 1:4], axis=1), np.std(results[:, 1:4], axis=1), fmt='o')\n",
      "ax[1, 1].errorbar(np.log10(results[:, -1]), np.mean(results[:, 1:4], axis=1)*factor(results[:, 0]), np.std(results[:, 1:4], axis=1)*factor(results[:, 0]), fmt='o')\n",
      "ax[1,0].set_ylabel('Time*num needed (s)')\n",
      "ax[1, 0].set_xlabel('bound Length (deg)')\n",
      "ax[1, 1].set_xlabel('num gals')"
     ],
     "language": "python",
     "metadata": {},
     "outputs": [
      {
       "metadata": {},
       "output_type": "pyout",
       "prompt_number": 21,
       "text": [
        "<matplotlib.text.Text at 0x111578090>"
       ]
      },
      {
       "metadata": {},
       "output_type": "display_data",
       "png": "[encoded data removed]",
       "text": [
        "<matplotlib.figure.Figure at 0x10f04c850>"
       ]
      }
     ],
     "prompt_number": 21
    },
    {
     "cell_type": "code",
     "collapsed": false,
     "input": [
      "fig.savefig('queryTimes2.pdf')"
     ],
     "language": "python",
     "metadata": {},
     "outputs": []
    },
    {
     "cell_type": "code",
     "collapsed": false,
     "input": [
      "np.savetxt('querylonger.txt', results)"
     ],
     "language": "python",
     "metadata": {},
     "outputs": []
    },
    {
     "cell_type": "code",
     "collapsed": false,
     "input": [
      "plt.plot(results[:, 0], np.mean(results[:, 1:4], axis=1))"
     ],
     "language": "python",
     "metadata": {},
     "outputs": []
    },
    {
     "cell_type": "code",
     "collapsed": false,
     "input": [
      "np.mean(results[:,1:4], axis=1)"
     ],
     "language": "python",
     "metadata": {},
     "outputs": []
    },
    {
     "cell_type": "code",
     "collapsed": false,
     "input": [
      "!cat results.dat"
     ],
     "language": "python",
     "metadata": {},
     "outputs": [
      {
       "output_type": "stream",
       "stream": "stdout",
       "text": [
        "0.000000000000000000e+00 2.026331424713134766e-01 1.000000000000000000e+00\r\n",
        "1.749999999999999889e-01 5.909137010574340820e+00 5.078000000000000000e+03\r\n",
        "3.499999999999999778e-01 8.276880979537963867e+00 2.066700000000000000e+04\r\n",
        "5.249999999999999112e-01 1.684431886672973633e+01 4.289000000000000000e+04\r\n",
        "6.999999999999999556e-01 2.246929383277893066e+01 7.705700000000000000e+04\r\n",
        "8.750000000000000000e-01 2.603563904762268066e+01 1.297450000000000000e+05\r\n",
        "1.049999999999999822e+00 4.937286400794982910e+01 1.838480000000000000e+05\r\n",
        "1.224999999999999867e+00 4.533920502662658691e+01 2.467890000000000000e+05\r\n",
        "1.399999999999999911e+00 6.474550700187683105e+01 3.142800000000000000e+05\r\n",
        "1.574999999999999956e+00 8.590559005737304688e+01 4.109440000000000000e+05\r\n"
       ]
      }
     ],
     "prompt_number": 22
    },
    {
     "cell_type": "code",
     "collapsed": false,
     "input": [],
     "language": "python",
     "metadata": {},
     "outputs": []
    }
   ],
   "metadata": {}
  }
 ]
}