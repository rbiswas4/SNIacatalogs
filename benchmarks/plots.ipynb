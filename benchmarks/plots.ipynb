{
 "metadata": {
  "name": "",
  "signature": "sha256:d024e1a32643df71147ba4956f9765837db15b9270ac627600ae4264fc086a74"
 },
 "nbformat": 3,
 "nbformat_minor": 0,
 "worksheets": [
  {
   "cells": [
    {
     "cell_type": "code",
     "collapsed": false,
     "input": [
      "%matplotlib inline\n",
      "import numpy as np\n",
      "import matplotlib.pyplot as plt\n",
      "import seaborn as sns\n",
      "sns.set()"
     ],
     "language": "python",
     "metadata": {},
     "outputs": [],
     "prompt_number": 1
    },
    {
     "cell_type": "code",
     "collapsed": false,
     "input": [
      "sl = np.loadtxt('queryshorter.txt')\n",
      "ls = np.loadtxt('querylonger.txt')\n",
      "lls = np.loadtxt('querylongest.txt')\n",
      "rs = np.loadtxt('results.dat')"
     ],
     "language": "python",
     "metadata": {},
     "outputs": [],
     "prompt_number": 2
    },
    {
     "cell_type": "code",
     "collapsed": false,
     "input": [
      "results = np.concatenate([sl, ls, lls, rs])"
     ],
     "language": "python",
     "metadata": {},
     "outputs": [],
     "prompt_number": 3
    },
    {
     "cell_type": "code",
     "collapsed": false,
     "input": [
      "len(sl), len(ls), len(results)"
     ],
     "language": "python",
     "metadata": {},
     "outputs": [
      {
       "metadata": {},
       "output_type": "pyout",
       "prompt_number": 4,
       "text": [
        "(15, 19, 56)"
       ]
      }
     ],
     "prompt_number": 4
    },
    {
     "cell_type": "code",
     "collapsed": false,
     "input": [
      "results = np.loadtxt('galaxiesNoFlux.dat')"
     ],
     "language": "python",
     "metadata": {},
     "outputs": [],
     "prompt_number": 2
    },
    {
     "cell_type": "code",
     "collapsed": false,
     "input": [
      "def factor(patchlen, maxlen=1.75  ):\n",
      "    return (maxlen / patchlen)**2"
     ],
     "language": "python",
     "metadata": {},
     "outputs": [],
     "prompt_number": 3
    },
    {
     "cell_type": "code",
     "collapsed": false,
     "input": [
      "fig, ax = plt.subplots(2,2)\n",
      "ax[0, 0].errorbar(results[:, 0], np.mean(results[:, 1:4], axis=1), np.std(results[:, 1:4], axis=1), fmt='o')\n",
      "ax[1, 0].errorbar(results[:, 0], np.mean(results[:, 1:4], axis=1)*factor(results[:, 0]), np.std(results[:, 1:4], axis=1)*factor(results[:, 0]), fmt='o')\n",
      "ax[0,0].set_ylabel('Time (s)')\n",
      "ax[0, 1].errorbar(np.log10(results[:, -1]), np.mean(results[:, 1:4], axis=1), np.std(results[:, 1:4], axis=1), fmt='o')\n",
      "ax[1, 1].errorbar(np.log10(results[:, -1]), np.mean(results[:, 1:4], axis=1)*factor(results[:, 0]), np.std(results[:, 1:4], axis=1)*factor(results[:, 0]), fmt='o')\n",
      "ax[1,0].set_ylabel('Time*num needed (s)')\n",
      "ax[1, 0].set_xlabel('bound Length (deg)')\n",
      "ax[1,0].set_ylim(ymax=2000.)\n",
      "ax[1, 1].set_xlabel(r'$log_{10}(num gals)$')\n",
      "ax[1,1].set_ylim(ymax=2000.)"
     ],
     "language": "python",
     "metadata": {},
     "outputs": [
      {
       "metadata": {},
       "output_type": "pyout",
       "prompt_number": 10,
       "text": [
        "(0.0, 2000.0)"
       ]
      },
      {
       "metadata": {},
       "output_type": "display_data",
       "png": "[encoded data removed]",
       "text": [
        "<matplotlib.figure.Figure at 0x10b817490>"
       ]
      }
     ],
     "prompt_number": 10
    },
    {
     "cell_type": "code",
     "collapsed": false,
     "input": [
      "fig.savefig('queryTimes_composite.pdf')"
     ],
     "language": "python",
     "metadata": {},
     "outputs": [],
     "prompt_number": 11
    },
    {
     "cell_type": "code",
     "collapsed": false,
     "input": [],
     "language": "python",
     "metadata": {},
     "outputs": []
    }
   ],
   "metadata": {}
  }
 ]
}