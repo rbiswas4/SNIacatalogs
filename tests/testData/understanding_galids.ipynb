{
 "metadata": {
  "name": "",
  "signature": "sha256:fc58d25b893cc9325b28a89a7924fcaeeabee635836cfb21fd1b57c2a612a512"
 },
 "nbformat": 3,
 "nbformat_minor": 0,
 "worksheets": [
  {
   "cells": [
    {
     "cell_type": "code",
     "collapsed": false,
     "input": [
      "from cStringIO import StringIO\n",
      "from lsst.sims.catalogs.generation.db import CatalogDBObject\n",
      "import lsst.sims.catUtils.baseCatalogModels as bcm\n",
      "import sys"
     ],
     "language": "python",
     "metadata": {},
     "outputs": [],
     "prompt_number": 1
    },
    {
     "cell_type": "code",
     "collapsed": false,
     "input": [
      "galDB = CatalogDBObject.from_objid('galaxyTiled')"
     ],
     "language": "python",
     "metadata": {},
     "outputs": [
      {
       "output_type": "stream",
       "stream": "stderr",
       "text": [
        "/usr/local/manual/anaconda/lib/python2.7/site-packages/sqlalchemy/dialects/mssql/base.py:1124: SAWarning: Did not recognize type 'geography' of column 'geopoint'\n",
        "  return fn(*arg, **kw)\n"
       ]
      }
     ],
     "prompt_number": 2
    },
    {
     "cell_type": "code",
     "collapsed": false,
     "input": [
      "bcm.__file__"
     ],
     "language": "python",
     "metadata": {},
     "outputs": [
      {
       "metadata": {},
       "output_type": "pyout",
       "prompt_number": 4,
       "text": [
        "'/Users/rbiswas/src/LSST/sims_catutils/python/lsst/sims/catUtils/baseCatalogModels/__init__.pyc'"
       ]
      }
     ],
     "prompt_number": 4
    },
    {
     "cell_type": "code",
     "collapsed": false,
     "input": [
      "old_stdout = sys.stdout"
     ],
     "language": "python",
     "metadata": {},
     "outputs": [],
     "prompt_number": 3
    },
    {
     "cell_type": "code",
     "collapsed": false,
     "input": [
      "sys.stdout = mystdout = StringIO()"
     ],
     "language": "python",
     "metadata": {},
     "outputs": [],
     "prompt_number": 4
    },
    {
     "cell_type": "code",
     "collapsed": false,
     "input": [
      "galDB.show_mapped_columns()"
     ],
     "language": "python",
     "metadata": {},
     "outputs": [],
     "prompt_number": 5
    },
    {
     "cell_type": "code",
     "collapsed": false,
     "input": [
      "sys.stdout = old_stdout"
     ],
     "language": "python",
     "metadata": {},
     "outputs": [],
     "prompt_number": 6
    },
    {
     "cell_type": "code",
     "collapsed": false,
     "input": [
      "outlist = mystdout.getvalue().split('\\n')"
     ],
     "language": "python",
     "metadata": {},
     "outputs": [],
     "prompt_number": 13
    },
    {
     "cell_type": "code",
     "collapsed": false,
     "input": [
      "for obj in outlist :\n",
      "    if 'id' in obj:\n",
      "        print \"Now :\", obj "
     ],
     "language": "python",
     "metadata": {},
     "outputs": [
      {
       "output_type": "stream",
       "stream": "stdout",
       "text": [
        "Now : galtileid -- int64\n",
        "Now : galid -- str\n",
        "Now : htmid -- int\n",
        "Now : sedid_bulge -- int\n",
        "Now : sedid_disk -- int\n",
        "Now : sedid_agn -- int\n",
        "Now : versionid -- float\n",
        "Now : varsimobjid -- int\n",
        "Now : id -- int\n",
        "Now : myid -- int\n"
       ]
      }
     ],
     "prompt_number": 16
    },
    {
     "cell_type": "code",
     "collapsed": false,
     "input": [
      "loc = \"ra between -0.005 and 0.005 and dec between -0.015 and 0.015\"\n",
      "catalogIterator = galDB.query_columns(colnames=['ra', 'dec', 'galid', 'galtileid', 'id', 'myid'], constraint=loc)"
     ],
     "language": "python",
     "metadata": {},
     "outputs": []
    },
    {
     "cell_type": "code",
     "collapsed": false,
     "input": [
      "for chunk in catalogIterator:\n",
      "    dtype = chunk.dtype\n",
      "    for record in chunk:\n",
      "        print \"%s\"%(\", \".join([str(record[name]) for name in dtype.names]))\n",
      "    "
     ],
     "language": "python",
     "metadata": {},
     "outputs": []
    },
    {
     "cell_type": "code",
     "collapsed": false,
     "input": [],
     "language": "python",
     "metadata": {},
     "outputs": []
    }
   ],
   "metadata": {}
  }
 ]
}